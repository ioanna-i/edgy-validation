{
 "cells": [
  {
   "cell_type": "markdown",
   "metadata": {
    "application/vnd.databricks.v1+cell": {
     "cellMetadata": {
      "byteLimit": 2048000,
      "rowLimit": 10000
     },
     "inputWidgets": {},
     "nuid": "a918139d-6ab6-427c-ac48-afa4b1d19f28",
     "showTitle": false,
     "tableResultSettingsMap": {},
     "title": ""
    }
   },
   "source": [
    "# Edgy Backfill Validation\n",
    "\n",
    "This notebook validates the CashConnectedGraphChangeEvent backfill processing through the Edgy service by comparing the events generated against expected events computed from Duplograph's graph state.\n",
    "\n",
    "## Overview\n",
    "\n",
    "The validation process:\n",
    "1. Takes a list of account holder tokens as input\n",
    "2. For each account holder:\n",
    "   - Queries their active (non-merged) accounts\n",
    "   - Finds assets connected to these accounts\n",
    "   - Identifies other account holders connected to the same assets via active (non merged) accounts\n",
    "   - Computes expected connection events based on shared assets\n",
    "   - Validates generated event IDs against expected events to ensure all expected events are present, and no unexpected events are generated\n",
    "   - Validates the source and target user labels attached to the events\n",
    "   - Validates the timestamp of the events matches the earliest connection between the source and target user\n",
    "3. Performs general sanity checks on the backfilled events"
   ]
  },
  {
   "cell_type": "markdown",
   "metadata": {
    "application/vnd.databricks.v1+cell": {
     "cellMetadata": {
      "byteLimit": 2048000,
      "rowLimit": 10000
     },
     "inputWidgets": {},
     "nuid": "6f818ca7-2e75-474f-bedc-696fee2a392f",
     "showTitle": false,
     "tableResultSettingsMap": {},
     "title": ""
    }
   },
   "source": [
    "## Setup\n",
    "\n",
    "First, install required dependencies and import necessary modules."
   ]
  },
  {
   "cell_type": "code",
   "execution_count": 0,
   "metadata": {
    "application/vnd.databricks.v1+cell": {
     "cellMetadata": {
      "byteLimit": 2048000,
      "rowLimit": 10000
     },
     "inputWidgets": {},
     "nuid": "99a88bf2-108f-49b6-82e6-b109c1eb2bcd",
     "showTitle": false,
     "tableResultSettingsMap": {},
     "title": ""
    }
   },
   "outputs": [
    {
     "output_type": "stream",
     "name": "stdout",
     "output_type": "stream",
     "text": [
      "Python interpreter will be restarted.\nLooking in indexes: https://pypi.org/simple, https://artifactory.global.square/artifactory/api/pypi/block-pypi/simple\nRequirement already satisfied: sq-pysnowflake in /local_disk0/.ephemeral_nfs/envs/pythonEnv-cb5750d3-8416-419f-91a9-1a503e33b70a/lib/python3.9/site-packages (2.0.9)\nRequirement already satisfied: snowflake-connector-python[pandas,secure-local-storage]<4.0,>=3.15 in /databricks/python3/lib/python3.9/site-packages (from sq-pysnowflake) (3.15.0)\nRequirement already satisfied: pyyaml<7.0,>=6.0 in /databricks/python3/lib/python3.9/site-packages (from sq-pysnowflake) (6.0)\nRequirement already satisfied: block-cloud-auth==1.0.8 in /local_disk0/.ephemeral_nfs/envs/pythonEnv-cb5750d3-8416-419f-91a9-1a503e33b70a/lib/python3.9/site-packages (from sq-pysnowflake) (1.0.8)\nRequirement already satisfied: tenacity in /databricks/python3/lib/python3.9/site-packages (from sq-pysnowflake) (8.0.1)\nRequirement already satisfied: numpy<2.0,>=1.26 in /local_disk0/.ephemeral_nfs/envs/pythonEnv-cb5750d3-8416-419f-91a9-1a503e33b70a/lib/python3.9/site-packages (from sq-pysnowflake) (1.26.4)\nRequirement already satisfied: cryptography<37.0.0 in /local_disk0/.ephemeral_nfs/envs/pythonEnv-cb5750d3-8416-419f-91a9-1a503e33b70a/lib/python3.9/site-packages (from sq-pysnowflake) (36.0.2)\nRequirement already satisfied: requests<3.0.0,>=2.20.0 in /databricks/python3/lib/python3.9/site-packages (from block-cloud-auth==1.0.8->sq-pysnowflake) (2.26.0)\nRequirement already satisfied: click>=8.0.0 in /databricks/python3/lib/python3.9/site-packages (from block-cloud-auth==1.0.8->sq-pysnowflake) (8.0.3)\nRequirement already satisfied: google-cloud-compute<2.0.0,>=1.15.0 in /local_disk0/.ephemeral_nfs/envs/pythonEnv-cb5750d3-8416-419f-91a9-1a503e33b70a/lib/python3.9/site-packages (from block-cloud-auth==1.0.8->sq-pysnowflake) (1.30.0)\nRequirement already satisfied: boto3<2.0.0,>=1.34.100 in /databricks/python3/lib/python3.9/site-packages (from block-cloud-auth==1.0.8->sq-pysnowflake) (1.38.8)\nRequirement already satisfied: google-auth>=2.0.0 in /local_disk0/.ephemeral_nfs/envs/pythonEnv-cb5750d3-8416-419f-91a9-1a503e33b70a/lib/python3.9/site-packages (from block-cloud-auth==1.0.8->sq-pysnowflake) (2.40.1)\nRequirement already satisfied: importlib-resources<7.0.0,>=6.1.1 in /local_disk0/.ephemeral_nfs/envs/pythonEnv-cb5750d3-8416-419f-91a9-1a503e33b70a/lib/python3.9/site-packages (from block-cloud-auth==1.0.8->sq-pysnowflake) (6.5.2)\nRequirement already satisfied: werkzeug==3.0.3 in /local_disk0/.ephemeral_nfs/envs/pythonEnv-cb5750d3-8416-419f-91a9-1a503e33b70a/lib/python3.9/site-packages (from block-cloud-auth==1.0.8->sq-pysnowflake) (3.0.3)\nRequirement already satisfied: google-cloud-secret-manager>=2.0.0 in /local_disk0/.ephemeral_nfs/envs/pythonEnv-cb5750d3-8416-419f-91a9-1a503e33b70a/lib/python3.9/site-packages (from block-cloud-auth==1.0.8->sq-pysnowflake) (2.23.3)\nRequirement already satisfied: keyring>=23.5.0 in /local_disk0/.ephemeral_nfs/envs/pythonEnv-cb5750d3-8416-419f-91a9-1a503e33b70a/lib/python3.9/site-packages (from block-cloud-auth==1.0.8->sq-pysnowflake) (25.6.0)\nRequirement already satisfied: MarkupSafe>=2.1.1 in /local_disk0/.ephemeral_nfs/envs/pythonEnv-cb5750d3-8416-419f-91a9-1a503e33b70a/lib/python3.9/site-packages (from werkzeug==3.0.3->block-cloud-auth==1.0.8->sq-pysnowflake) (3.0.2)\nRequirement already satisfied: botocore<1.39.0,>=1.38.8 in /databricks/python3/lib/python3.9/site-packages (from boto3<2.0.0,>=1.34.100->block-cloud-auth==1.0.8->sq-pysnowflake) (1.38.8)\nRequirement already satisfied: s3transfer<0.13.0,>=0.12.0 in /databricks/python3/lib/python3.9/site-packages (from boto3<2.0.0,>=1.34.100->block-cloud-auth==1.0.8->sq-pysnowflake) (0.12.0)\nRequirement already satisfied: jmespath<2.0.0,>=0.7.1 in /databricks/python3/lib/python3.9/site-packages (from boto3<2.0.0,>=1.34.100->block-cloud-auth==1.0.8->sq-pysnowflake) (0.10.0)\nRequirement already satisfied: python-dateutil<3.0.0,>=2.1 in /databricks/python3/lib/python3.9/site-packages (from botocore<1.39.0,>=1.38.8->boto3<2.0.0,>=1.34.100->block-cloud-auth==1.0.8->sq-pysnowflake) (2.8.2)\nRequirement already satisfied: urllib3<1.27,>=1.25.4 in /databricks/python3/lib/python3.9/site-packages (from botocore<1.39.0,>=1.38.8->boto3<2.0.0,>=1.34.100->block-cloud-auth==1.0.8->sq-pysnowflake) (1.26.7)\nRequirement already satisfied: cffi>=1.12 in /databricks/python3/lib/python3.9/site-packages (from cryptography<37.0.0->sq-pysnowflake) (1.14.6)\nRequirement already satisfied: pycparser in /databricks/python3/lib/python3.9/site-packages (from cffi>=1.12->cryptography<37.0.0->sq-pysnowflake) (2.20)\nRequirement already satisfied: cachetools<6.0,>=2.0.0 in /databricks/python3/lib/python3.9/site-packages (from google-auth>=2.0.0->block-cloud-auth==1.0.8->sq-pysnowflake) (5.2.0)\nRequirement already satisfied: rsa<5,>=3.1.4 in /databricks/python3/lib/python3.9/site-packages (from google-auth>=2.0.0->block-cloud-auth==1.0.8->sq-pysnowflake) (4.9)\nRequirement already satisfied: pyasn1-modules>=0.2.1 in /databricks/python3/lib/python3.9/site-packages (from google-auth>=2.0.0->block-cloud-auth==1.0.8->sq-pysnowflake) (0.2.8)\nRequirement already satisfied: protobuf!=4.21.0,!=4.21.1,!=4.21.2,!=4.21.3,!=4.21.4,!=4.21.5,<7.0.0,>=3.20.2 in /local_disk0/.ephemeral_nfs/envs/pythonEnv-cb5750d3-8416-419f-91a9-1a503e33b70a/lib/python3.9/site-packages (from google-cloud-compute<2.0.0,>=1.15.0->block-cloud-auth==1.0.8->sq-pysnowflake) (5.29.4)\nRequirement already satisfied: google-api-core[grpc]!=2.0.*,!=2.1.*,!=2.10.*,!=2.2.*,!=2.3.*,!=2.4.*,!=2.5.*,!=2.6.*,!=2.7.*,!=2.8.*,!=2.9.*,<3.0.0,>=1.34.1 in /local_disk0/.ephemeral_nfs/envs/pythonEnv-cb5750d3-8416-419f-91a9-1a503e33b70a/lib/python3.9/site-packages (from google-cloud-compute<2.0.0,>=1.15.0->block-cloud-auth==1.0.8->sq-pysnowflake) (2.24.2)\nRequirement already satisfied: proto-plus<2.0.0,>=1.22.3 in /local_disk0/.ephemeral_nfs/envs/pythonEnv-cb5750d3-8416-419f-91a9-1a503e33b70a/lib/python3.9/site-packages (from google-cloud-compute<2.0.0,>=1.15.0->block-cloud-auth==1.0.8->sq-pysnowflake) (1.26.1)\nRequirement already satisfied: googleapis-common-protos<2.0.0,>=1.56.2 in /local_disk0/.ephemeral_nfs/envs/pythonEnv-cb5750d3-8416-419f-91a9-1a503e33b70a/lib/python3.9/site-packages (from google-api-core[grpc]!=2.0.*,!=2.1.*,!=2.10.*,!=2.2.*,!=2.3.*,!=2.4.*,!=2.5.*,!=2.6.*,!=2.7.*,!=2.8.*,!=2.9.*,<3.0.0,>=1.34.1->google-cloud-compute<2.0.0,>=1.15.0->block-cloud-auth==1.0.8->sq-pysnowflake) (1.70.0)\nRequirement already satisfied: grpcio<2.0dev,>=1.33.2 in /local_disk0/.ephemeral_nfs/envs/pythonEnv-cb5750d3-8416-419f-91a9-1a503e33b70a/lib/python3.9/site-packages (from google-api-core[grpc]!=2.0.*,!=2.1.*,!=2.10.*,!=2.2.*,!=2.3.*,!=2.4.*,!=2.5.*,!=2.6.*,!=2.7.*,!=2.8.*,!=2.9.*,<3.0.0,>=1.34.1->google-cloud-compute<2.0.0,>=1.15.0->block-cloud-auth==1.0.8->sq-pysnowflake) (1.71.0)\nRequirement already satisfied: grpcio-status<2.0.dev0,>=1.33.2 in /local_disk0/.ephemeral_nfs/envs/pythonEnv-cb5750d3-8416-419f-91a9-1a503e33b70a/lib/python3.9/site-packages (from google-api-core[grpc]!=2.0.*,!=2.1.*,!=2.10.*,!=2.2.*,!=2.3.*,!=2.4.*,!=2.5.*,!=2.6.*,!=2.7.*,!=2.8.*,!=2.9.*,<3.0.0,>=1.34.1->google-cloud-compute<2.0.0,>=1.15.0->block-cloud-auth==1.0.8->sq-pysnowflake) (1.71.0)\nRequirement already satisfied: grpc-google-iam-v1<1.0.0,>=0.14.0 in /local_disk0/.ephemeral_nfs/envs/pythonEnv-cb5750d3-8416-419f-91a9-1a503e33b70a/lib/python3.9/site-packages (from google-cloud-secret-manager>=2.0.0->block-cloud-auth==1.0.8->sq-pysnowflake) (0.14.2)\nRequirement already satisfied: zipp>=3.1.0 in /local_disk0/.ephemeral_nfs/envs/pythonEnv-cb5750d3-8416-419f-91a9-1a503e33b70a/lib/python3.9/site-packages (from importlib-resources<7.0.0,>=6.1.1->block-cloud-auth==1.0.8->sq-pysnowflake) (3.21.0)\nRequirement already satisfied: jaraco.classes in /local_disk0/.ephemeral_nfs/envs/pythonEnv-cb5750d3-8416-419f-91a9-1a503e33b70a/lib/python3.9/site-packages (from keyring>=23.5.0->block-cloud-auth==1.0.8->sq-pysnowflake) (3.4.0)\nRequirement already satisfied: importlib_metadata>=4.11.4 in /local_disk0/.ephemeral_nfs/envs/pythonEnv-cb5750d3-8416-419f-91a9-1a503e33b70a/lib/python3.9/site-packages (from keyring>=23.5.0->block-cloud-auth==1.0.8->sq-pysnowflake) (8.7.0)\nRequirement already satisfied: SecretStorage>=3.2 in /local_disk0/.ephemeral_nfs/envs/pythonEnv-cb5750d3-8416-419f-91a9-1a503e33b70a/lib/python3.9/site-packages (from keyring>=23.5.0->block-cloud-auth==1.0.8->sq-pysnowflake) (3.3.3)\nRequirement already satisfied: jaraco.context in /local_disk0/.ephemeral_nfs/envs/pythonEnv-cb5750d3-8416-419f-91a9-1a503e33b70a/lib/python3.9/site-packages (from keyring>=23.5.0->block-cloud-auth==1.0.8->sq-pysnowflake) (6.0.1)\nRequirement already satisfied: jeepney>=0.4.2 in /local_disk0/.ephemeral_nfs/envs/pythonEnv-cb5750d3-8416-419f-91a9-1a503e33b70a/lib/python3.9/site-packages (from keyring>=23.5.0->block-cloud-auth==1.0.8->sq-pysnowflake) (0.9.0)\nRequirement already satisfied: jaraco.functools in /local_disk0/.ephemeral_nfs/envs/pythonEnv-cb5750d3-8416-419f-91a9-1a503e33b70a/lib/python3.9/site-packages (from keyring>=23.5.0->block-cloud-auth==1.0.8->sq-pysnowflake) (4.1.0)\nRequirement already satisfied: pyasn1<0.5.0,>=0.4.6 in /databricks/python3/lib/python3.9/site-packages (from pyasn1-modules>=0.2.1->google-auth>=2.0.0->block-cloud-auth==1.0.8->sq-pysnowflake) (0.4.8)\nRequirement already satisfied: six>=1.5 in /databricks/python3/lib/python3.9/site-packages (from python-dateutil<3.0.0,>=2.1->botocore<1.39.0,>=1.38.8->boto3<2.0.0,>=1.34.100->block-cloud-auth==1.0.8->sq-pysnowflake) (1.16.0)\nRequirement already satisfied: charset-normalizer~=2.0.0 in /databricks/python3/lib/python3.9/site-packages (from requests<3.0.0,>=2.20.0->block-cloud-auth==1.0.8->sq-pysnowflake) (2.0.4)\nRequirement already satisfied: idna<4,>=2.5 in /databricks/python3/lib/python3.9/site-packages (from requests<3.0.0,>=2.20.0->block-cloud-auth==1.0.8->sq-pysnowflake) (3.2)\nRequirement already satisfied: certifi>=2017.4.17 in /databricks/python3/lib/python3.9/site-packages (from requests<3.0.0,>=2.20.0->block-cloud-auth==1.0.8->sq-pysnowflake) (2021.10.8)\nRequirement already satisfied: sortedcontainers>=2.4.0 in /databricks/python3/lib/python3.9/site-packages (from snowflake-connector-python[pandas,secure-local-storage]<4.0,>=3.15->sq-pysnowflake) (2.4.0)\nRequirement already satisfied: asn1crypto<2.0.0,>0.24.0 in /databricks/python3/lib/python3.9/site-packages (from snowflake-connector-python[pandas,secure-local-storage]<4.0,>=3.15->sq-pysnowflake) (1.5.1)\nRequirement already satisfied: pyjwt<3.0.0 in /databricks/python3/lib/python3.9/site-packages (from snowflake-connector-python[pandas,secure-local-storage]<4.0,>=3.15->sq-pysnowflake) (2.5.0)\nRequirement already satisfied: typing_extensions<5,>=4.3 in /databricks/python3/lib/python3.9/site-packages (from snowflake-connector-python[pandas,secure-local-storage]<4.0,>=3.15->sq-pysnowflake) (4.13.2)\nRequirement already satisfied: platformdirs<5.0.0,>=2.6.0 in /databricks/python3/lib/python3.9/site-packages (from snowflake-connector-python[pandas,secure-local-storage]<4.0,>=3.15->sq-pysnowflake) (4.3.7)\nRequirement already satisfied: packaging in /databricks/python3/lib/python3.9/site-packages (from snowflake-connector-python[pandas,secure-local-storage]<4.0,>=3.15->sq-pysnowflake) (24.2)\nRequirement already satisfied: pyOpenSSL<26.0.0,>=22.0.0 in /local_disk0/.ephemeral_nfs/envs/pythonEnv-cb5750d3-8416-419f-91a9-1a503e33b70a/lib/python3.9/site-packages (from snowflake-connector-python[pandas,secure-local-storage]<4.0,>=3.15->sq-pysnowflake) (22.0.0)\nRequirement already satisfied: tomlkit in /databricks/python3/lib/python3.9/site-packages (from snowflake-connector-python[pandas,secure-local-storage]<4.0,>=3.15->sq-pysnowflake) (0.13.2)\nRequirement already satisfied: pytz in /databricks/python3/lib/python3.9/site-packages (from snowflake-connector-python[pandas,secure-local-storage]<4.0,>=3.15->sq-pysnowflake) (2021.3)\nRequirement already satisfied: filelock<4,>=3.5 in /databricks/python3/lib/python3.9/site-packages (from snowflake-connector-python[pandas,secure-local-storage]<4.0,>=3.15->sq-pysnowflake) (3.18.0)\nRequirement already satisfied: pandas<3.0.0,>=2.1.2 in /local_disk0/.ephemeral_nfs/envs/pythonEnv-cb5750d3-8416-419f-91a9-1a503e33b70a/lib/python3.9/site-packages (from snowflake-connector-python[pandas,secure-local-storage]<4.0,>=3.15->sq-pysnowflake) (2.2.3)\nRequirement already satisfied: pyarrow<19.0.0 in /databricks/python3/lib/python3.9/site-packages (from snowflake-connector-python[pandas,secure-local-storage]<4.0,>=3.15->sq-pysnowflake) (7.0.0)\nRequirement already satisfied: tzdata>=2022.7 in /local_disk0/.ephemeral_nfs/envs/pythonEnv-cb5750d3-8416-419f-91a9-1a503e33b70a/lib/python3.9/site-packages (from pandas<3.0.0,>=2.1.2->snowflake-connector-python[pandas,secure-local-storage]<4.0,>=3.15->sq-pysnowflake) (2025.2)\nRequirement already satisfied: more-itertools in /local_disk0/.ephemeral_nfs/envs/pythonEnv-cb5750d3-8416-419f-91a9-1a503e33b70a/lib/python3.9/site-packages (from jaraco.classes->keyring>=23.5.0->block-cloud-auth==1.0.8->sq-pysnowflake) (10.7.0)\nRequirement already satisfied: backports.tarfile in /local_disk0/.ephemeral_nfs/envs/pythonEnv-cb5750d3-8416-419f-91a9-1a503e33b70a/lib/python3.9/site-packages (from jaraco.context->keyring>=23.5.0->block-cloud-auth==1.0.8->sq-pysnowflake) (1.2.0)\nPython interpreter will be restarted.\n"
     ]
    }
   ],
   "source": [
    "%pip install --extra-index-url https://artifactory.global.square/artifactory/api/pypi/block-pypi/simple sq-pysnowflake"
   ]
  },
  {
   "cell_type": "code",
   "execution_count": 0,
   "metadata": {
    "application/vnd.databricks.v1+cell": {
     "cellMetadata": {
      "byteLimit": 2048000,
      "rowLimit": 10000
     },
     "inputWidgets": {},
     "nuid": "87303d53-b3c2-46ce-83d9-4bc72769c2f4",
     "showTitle": false,
     "tableResultSettingsMap": {},
     "title": ""
    }
   },
   "outputs": [
    {
     "output_type": "display_data",
     "data": {
      "application/vnd.databricks.v1+bamboolib_hint": "{\"pd.DataFrames\": [], \"version\": \"0.0.1\"}",
      "text/plain": []
     },
     "metadata": {},
     "output_type": "display_data"
    }
   ],
   "source": [
    "import pandas as pd\n",
    "import numpy as np\n",
    "import csv\n",
    "import fcntl\n",
    "import json\n",
    "import os\n",
    "import time\n",
    "from datetime import datetime\n",
    "from typing import List, Set, Dict, Tuple, Optional\n",
    "from pyspark.sql.functions import col\n",
    "from pysnowflake import Session"
   ]
  },
  {
   "cell_type": "markdown",
   "metadata": {
    "application/vnd.databricks.v1+cell": {
     "cellMetadata": {
      "byteLimit": 2048000,
      "rowLimit": 10000
     },
     "inputWidgets": {},
     "nuid": "1da0a213-acbe-42f8-a218-072a4f6bc922",
     "showTitle": false,
     "tableResultSettingsMap": {},
     "title": ""
    }
   },
   "source": [
    "## Helper Functions"
   ]
  },
  {
   "cell_type": "markdown",
   "metadata": {
    "application/vnd.databricks.v1+cell": {
     "cellMetadata": {
      "byteLimit": 2048000,
      "rowLimit": 10000
     },
     "inputWidgets": {},
     "nuid": "714231ac-c32b-4595-890f-75751cc41d6e",
     "showTitle": false,
     "tableResultSettingsMap": {},
     "title": ""
    }
   },
   "source": [
    "### Query helpers"
   ]
  },
  {
   "cell_type": "code",
   "execution_count": 0,
   "metadata": {
    "application/vnd.databricks.v1+cell": {
     "cellMetadata": {
      "byteLimit": 2048000,
      "rowLimit": 10000
     },
     "inputWidgets": {},
     "nuid": "b83adfab-28fe-426c-ab80-ffd70848ac4e",
     "showTitle": false,
     "tableResultSettingsMap": {},
     "title": ""
    }
   },
   "outputs": [],
   "source": [
    "def snowflake_query(query: str) -> pd.DataFrame:\n",
    "    \"\"\"Execute a query in Snowflake and return results as a pandas DataFrame.\"\"\"\n",
    "    with Session(query_tag=\"ioanna\", connection_override_args={'warehouse': 'etl__2xlarge'}) as sess:\n",
    "        cursor = sess.execute(query)\n",
    "        return cursor.fetch_pandas_all()\n",
    "\n",
    "def spark_query(query: str) -> pd.DataFrame:\n",
    "    \"\"\"Execute a query in Spark and return results as a pandas DataFrame.\"\"\"\n",
    "    return spark.sql(query).toPandas()\n",
    "        \n",
    "def to_sql_list(inputs):\n",
    "    \"\"\"Convert a set/list of values to SQL IN clause format\"\"\"\n",
    "    if not inputs:\n",
    "        return \"()\"\n",
    "    return \"('\" + \"','\".join(str(x) for x in inputs) + \"')\""
   ]
  },
  {
   "cell_type": "markdown",
   "metadata": {
    "application/vnd.databricks.v1+cell": {
     "cellMetadata": {
      "byteLimit": 2048000,
      "rowLimit": 10000
     },
     "inputWidgets": {},
     "nuid": "64eee3cd-9c8a-4b8a-b120-74984f985273",
     "showTitle": false,
     "tableResultSettingsMap": {},
     "title": ""
    }
   },
   "source": [
    "### Validation Result Class\n",
    "Tracks validation outcomes and error details for each account holder."
   ]
  },
  {
   "cell_type": "code",
   "execution_count": 0,
   "metadata": {
    "application/vnd.databricks.v1+cell": {
     "cellMetadata": {
      "byteLimit": 2048000,
      "rowLimit": 10000
     },
     "inputWidgets": {},
     "nuid": "8f40e18c-696c-473c-9089-8e9f388a7db1",
     "showTitle": false,
     "tableResultSettingsMap": {},
     "title": ""
    }
   },
   "outputs": [],
   "source": [
    "class ValidationResult:\n",
    "    def __init__(self, account_holder: str):\n",
    "        self.account_holder = account_holder\n",
    "        self.validation_status: Optional[str] = None\n",
    "        self.missing_events: Set[str] = set()\n",
    "        self.unexpected_events: Set[str] = set()\n",
    "        self.label_errors: List[str] = []\n",
    "        self.timestamp_errors: List[str] = []\n",
    "        self.success: bool = True\n",
    "        \n",
    "    def add_error(self, error_type: str, details: str):\n",
    "        \"\"\"Records an error of the specified type with details\"\"\"\n",
    "        self.success = False\n",
    "        if error_type == \"validation_status\":\n",
    "            self.validation_status = details\n",
    "        elif error_type == \"missing_event\":\n",
    "            self.missing_events.add(details)\n",
    "        elif error_type == \"unexpected_event\":\n",
    "            self.unexpected_events.add(details)\n",
    "        elif error_type == \"label\":\n",
    "            self.label_errors.append(details)\n",
    "        elif error_type == \"timestamp\":\n",
    "            self.timestamp_errors.append(details)\n",
    "            \n",
    "    def get_summary(self) -> str:\n",
    "        \"\"\"Generates a human-readable summary of validation results\"\"\"\n",
    "        summary = []\n",
    "        \n",
    "        if self.validation_status:\n",
    "            summary.append(f\"ℹ️ {self.account_holder}: {self.validation_status}\")\n",
    "        elif self.success:\n",
    "            summary.append(f\"✅ {self.account_holder}: All validations passed\")\n",
    "        else:\n",
    "            summary.append(f\"❌ {self.account_holder}: Validation failed\")\n",
    "        \n",
    "        if self.missing_events:\n",
    "            summary.append(f\"\\nMissing events ({len(self.missing_events)}):\")\n",
    "            for event in sorted(self.missing_events):\n",
    "                summary.append(f\"  - {event}\")\n",
    "        if self.unexpected_events:\n",
    "            summary.append(f\"\\nUnexpected events ({len(self.unexpected_events)}):\")\n",
    "            for event in sorted(self.unexpected_events):\n",
    "                summary.append(f\"  - {event}\")\n",
    "        if self.label_errors:\n",
    "            summary.append(f\"\\nLabel errors ({len(self.label_errors)}):\")\n",
    "            for error in self.label_errors:\n",
    "                summary.append(f\"  - {error}\")\n",
    "        if self.timestamp_errors:\n",
    "            summary.append(f\"\\nTimestamp errors ({len(self.timestamp_errors)}):\")\n",
    "            for error in self.timestamp_errors:\n",
    "                summary.append(f\"  - {error}\")\n",
    "        return \"\\n\".join(summary)\n",
    "\n",
    "    def write_to_csv(self, csv_path: str):\n",
    "        \"\"\"Writes this validation result to CSV in a thread-safe manner.\n",
    "        \n",
    "        Args:\n",
    "            csv_path: Path to the CSV file\n",
    "        \"\"\"\n",
    "        # Prepare the row data\n",
    "        row_data = {\n",
    "            'account_holder_token': self.account_holder,\n",
    "            'validation_success': self.success,\n",
    "            'validation_status': self.validation_status if self.validation_status else \n",
    "                               ('PASS' if self.success else 'FAIL'),\n",
    "            'missing_events': '|'.join(sorted(self.missing_events)) if self.missing_events else '',\n",
    "            'unexpected_events': '|'.join(sorted(self.unexpected_events)) if self.unexpected_events else '',\n",
    "            'label_errors': '|'.join(self.label_errors) if self.label_errors else '',\n",
    "            'timestamp_errors': '|'.join(self.timestamp_errors) if self.timestamp_errors else ''\n",
    "        }\n",
    "        \n",
    "        # Define the field names (column headers)\n",
    "        fieldnames = [\n",
    "            'account_holder_token',\n",
    "            'validation_success',\n",
    "            'validation_status',\n",
    "            'missing_events',\n",
    "            'unexpected_events',\n",
    "            'label_errors',\n",
    "            'timestamp_errors'\n",
    "        ]\n",
    "        \n",
    "        # Use file locking for thread-safe writing\n",
    "        file_exists = os.path.exists(csv_path)\n",
    "        \n",
    "        with open(csv_path, 'a' if file_exists else 'w', newline='') as f:\n",
    "            # Get an exclusive lock on the file\n",
    "            fcntl.flock(f.fileno(), fcntl.LOCK_EX)\n",
    "            try:\n",
    "                writer = csv.DictWriter(f, fieldnames=fieldnames)\n",
    "                \n",
    "                # Write headers if this is a new file\n",
    "                if not file_exists:\n",
    "                    writer.writeheader()\n",
    "                \n",
    "                # Write the row\n",
    "                writer.writerow(row_data)\n",
    "                \n",
    "                # Ensure the write is flushed to disk\n",
    "                f.flush()\n",
    "                os.fsync(f.fileno())\n",
    "            finally:\n",
    "                # Release the lock\n",
    "                fcntl.flock(f.fileno(), fcntl.LOCK_UN)"
   ]
  },
  {
   "cell_type": "markdown",
   "metadata": {
    "application/vnd.databricks.v1+cell": {
     "cellMetadata": {
      "byteLimit": 2048000,
      "rowLimit": 10000
     },
     "inputWidgets": {},
     "nuid": "557b5183-be17-4714-9582-ec99ab70082f",
     "showTitle": false,
     "tableResultSettingsMap": {},
     "title": ""
    }
   },
   "source": [
    "### Event ID Generation\n",
    "Replicates Edgy's event ID generation logic for consistency checking."
   ]
  },
  {
   "cell_type": "code",
   "execution_count": 0,
   "metadata": {
    "application/vnd.databricks.v1+cell": {
     "cellMetadata": {
      "byteLimit": 2048000,
      "rowLimit": 10000
     },
     "inputWidgets": {},
     "nuid": "3816b66d-9223-47b5-b99f-399f1b2f5bb3",
     "showTitle": false,
     "tableResultSettingsMap": {},
     "title": ""
    }
   },
   "outputs": [],
   "source": [
    "def connection_change_event_id(target_token: str, source_token: str, node_type: str) -> str:\n",
    "    \"\"\"Produces a ConnectionChange event_id in the same format as edgy\n",
    "    \n",
    "    The event ID format ensures consistency regardless of processing direction:\n",
    "    - Format: \"E/<token1>/<token2>/<nodeType>\"\n",
    "    - token1 and token2 are alphabetically sorted\n",
    "    \"\"\"\n",
    "    tokens = \"/\".join(sorted([target_token, source_token]))\n",
    "    return f\"E/{tokens}/{node_type}\""
   ]
  },
  {
   "cell_type": "markdown",
   "metadata": {
    "application/vnd.databricks.v1+cell": {
     "cellMetadata": {
      "byteLimit": 2048000,
      "rowLimit": 10000
     },
     "inputWidgets": {},
     "nuid": "8195d603-9f1e-46e6-a618-2e6cce7ec880",
     "showTitle": false,
     "tableResultSettingsMap": {},
     "title": ""
    }
   },
   "source": [
    "### Label Validation\n",
    "Functions to validate label propagation in events."
   ]
  },
  {
   "cell_type": "code",
   "execution_count": 0,
   "metadata": {
    "application/vnd.databricks.v1+cell": {
     "cellMetadata": {
      "byteLimit": 2048000,
      "rowLimit": 10000
     },
     "inputWidgets": {},
     "nuid": "0462be62-fd1d-4019-9290-a5c8779445b5",
     "showTitle": false,
     "tableResultSettingsMap": {},
     "title": ""
    }
   },
   "outputs": [],
   "source": [
    "def get_account_holder_labels(\n",
    "    account_holder_accounts: Dict[str, Set[str]],\n",
    "    effective_at: str\n",
    ") -> pd.DataFrame:\n",
    "    \"\"\"Gets active labels for account holders via their accounts.\n",
    "    \n",
    "    Args:\n",
    "        account_holder_accounts: Dict mapping account holder tokens to their active account tokens\n",
    "        effective_at: Timestamp for point-in-time query\n",
    "        \n",
    "    Returns:\n",
    "        DataFrame with label information\n",
    "    \"\"\"\n",
    "    # Flatten account tokens for the query\n",
    "    all_accounts = {\n",
    "        account \n",
    "        for accounts in account_holder_accounts.values() \n",
    "        for account in accounts\n",
    "    }\n",
    "    \n",
    "    if not all_accounts:\n",
    "        return pd.DataFrame(columns=[\n",
    "            'ACCOUNT_HOLDER_TOKEN', 'ACCOUNT_TOKEN', 'LABEL',\n",
    "            'LABEL_EFFECTIVE_AT', 'ACCOUNT_MAPPING_EFFECTIVE_AT'\n",
    "        ])\n",
    "\n",
    "    query = f\"\"\"\n",
    "    WITH latest_label_events AS (\n",
    "        SELECT node_token,\n",
    "               label,\n",
    "               present,\n",
    "               effective_at,\n",
    "               ROW_NUMBER() OVER (PARTITION BY node_token, label ORDER BY effective_at DESC) as rn\n",
    "        FROM duplograph.public.label_events\n",
    "        WHERE node_type = 'CASH_CUSTOMER'\n",
    "        AND effective_at <= '{effective_at}'\n",
    "        AND node_token IN {to_sql_list(all_accounts)}\n",
    "    )\n",
    "    SELECT \n",
    "        m.from_token AS ACCOUNT_HOLDER_TOKEN,\n",
    "        m.to_token AS ACCOUNT_TOKEN,\n",
    "        l.label AS LABEL,\n",
    "        l.effective_at AS LABEL_EFFECTIVE_AT,\n",
    "        m.effective_at AS ACCOUNT_MAPPING_EFFECTIVE_AT\n",
    "    FROM latest_label_events l\n",
    "    JOIN duplograph.public.edges m \n",
    "        ON l.node_token = m.to_token\n",
    "    WHERE l.rn = 1 \n",
    "    AND l.present = true\n",
    "    AND m.from_type = 'ACCOUNT_HOLDER_CASH_CUSTOMER'\n",
    "    AND m.to_type = 'CASH_CUSTOMER'\n",
    "    AND m.effective_at <= '{effective_at}'\n",
    "    AND m.from_token IN {to_sql_list(account_holder_accounts.keys())}\n",
    "    ORDER BY \n",
    "        m.from_token,\n",
    "        m.to_token,\n",
    "        l.label\n",
    "    \"\"\"\n",
    "    \n",
    "    return snowflake_query(query)"
   ]
  },
  {
   "cell_type": "code",
   "execution_count": 0,
   "metadata": {
    "application/vnd.databricks.v1+cell": {
     "cellMetadata": {
      "byteLimit": 2048000,
      "rowLimit": 10000
     },
     "inputWidgets": {},
     "nuid": "7a643e63-63be-41e2-b3e6-e1d971d96cbe",
     "showTitle": false,
     "tableResultSettingsMap": {},
     "title": ""
    }
   },
   "outputs": [],
   "source": [
    "def validate_labels(\n",
    "    ccgce_df: pd.DataFrame,\n",
    "    source_labels_df: pd.DataFrame,\n",
    "    target_labels_df: pd.DataFrame,\n",
    "    source_account_holder: str,\n",
    "    validation_result: ValidationResult\n",
    ") -> None:\n",
    "    \"\"\"Validates that labels are correctly propagated in CashConnectedGraphChangeEvents.\n",
    "    \n",
    "    This function checks:\n",
    "    1. Source labels in events match the union of labels from all source account holder's accounts\n",
    "    2. Target labels in events match the union of labels from all target account holder's accounts\n",
    "    \n",
    "    Note: ACCOUNT_DENYLISTED labels are excluded as they apply to accounts, not account holders.\n",
    "    \n",
    "    Args:\n",
    "        ccgce_df: DataFrame containing the CashConnectedGraphChangeEvents\n",
    "        source_labels_df: DataFrame with source account holder's label details from all their accounts\n",
    "        target_labels_df: DataFrame with target account holders' label details from all their accounts\n",
    "        source_account_holder: The source account holder token being validated\n",
    "        validation_result: ValidationResult object to store any errors\n",
    "        \n",
    "    The label DataFrames should contain:\n",
    "        - ACCOUNT_HOLDER_TOKEN: The account holder\n",
    "        - ACCOUNT_TOKEN: The account with the label\n",
    "        - LABEL: The label name\n",
    "        - LABEL_EFFECTIVE_AT: When the label became effective\n",
    "        - ACCOUNT_MAPPING_EFFECTIVE_AT: When the account was mapped to the holder\n",
    "    \"\"\"\n",
    "    # Verify expected columns exist\n",
    "    required_ccgce_columns = ['event_id', 'source_user_token', 'target_user_token', \n",
    "                            'source_user_labels', 'target_user_labels']\n",
    "    required_label_columns = ['ACCOUNT_HOLDER_TOKEN', 'ACCOUNT_TOKEN', 'LABEL', \n",
    "                            'LABEL_EFFECTIVE_AT', 'ACCOUNT_MAPPING_EFFECTIVE_AT']\n",
    "    \n",
    "    if not all(col in ccgce_df.columns for col in required_ccgce_columns):\n",
    "        validation_result.add_error(\n",
    "            \"label\", \n",
    "            f\"ccgce_df missing required columns. Expected: {required_ccgce_columns}\"\n",
    "        )\n",
    "        return\n",
    "    \n",
    "    for df, name in [(source_labels_df, 'source_labels_df'), \n",
    "                     (target_labels_df, 'target_labels_df')]:\n",
    "        if not all(col in df.columns for col in required_label_columns):\n",
    "            validation_result.add_error(\n",
    "                \"label\",\n",
    "                f\"{name} missing required columns. Expected: {required_label_columns}\"\n",
    "            )\n",
    "            return\n",
    "\n",
    "    # Get source account holder's active labels, excluding ACCOUNT_DENYLISTED\n",
    "    source_labels = set()\n",
    "    if not source_labels_df.empty:\n",
    "        source_labels = set(\n",
    "            source_labels_df[source_labels_df['LABEL'] != 'ACCOUNT_DENYLISTED']['LABEL'].tolist()\n",
    "        )\n",
    "\n",
    "    # Create mapping of target account holders to their active labels\n",
    "    target_holder_labels = {}\n",
    "    if not target_labels_df.empty:\n",
    "        for account_holder in target_labels_df['ACCOUNT_HOLDER_TOKEN'].unique():\n",
    "            holder_labels = target_labels_df[\n",
    "                (target_labels_df['ACCOUNT_HOLDER_TOKEN'] == account_holder) &\n",
    "                (target_labels_df['LABEL'] != 'ACCOUNT_DENYLISTED')\n",
    "            ]['LABEL'].tolist()\n",
    "            target_holder_labels[account_holder] = set(holder_labels)\n",
    "\n",
    "    # Validate each event\n",
    "    for _, event in ccgce_df.iterrows():\n",
    "        # Verify this is the correct source account holder\n",
    "        if event['source_user_token'] != source_account_holder:\n",
    "            validation_result.add_error(\n",
    "                \"label\",\n",
    "                f\"Event {event['event_id']} has unexpected source_user_token: \"\n",
    "                f\"{event['source_user_token']} (expected {source_account_holder})\"\n",
    "            )\n",
    "            continue\n",
    "\n",
    "        event_source_labels = set(event['source_user_labels'])\n",
    "        event_target_labels = set(event['target_user_labels'])\n",
    "        target_holder = event['target_user_token']\n",
    "        expected_target_labels = target_holder_labels.get(target_holder, set())\n",
    "\n",
    "        # Validate source labels\n",
    "        if event_source_labels != source_labels:\n",
    "            validation_result.add_error(\n",
    "                \"label\",\n",
    "                f\"Source label mismatch for event {event['event_id']}:\\n\"\n",
    "                f\"  Expected: {sorted(source_labels)}\\n\"\n",
    "                f\"  Actual: {sorted(event_source_labels)}\\n\"\n",
    "                f\"  Source label details:\\n{source_labels_df.to_string()}\"\n",
    "            )\n",
    "\n",
    "        # Validate target labels\n",
    "        if event_target_labels != expected_target_labels:\n",
    "            target_df_for_holder = target_labels_df[\n",
    "                target_labels_df['ACCOUNT_HOLDER_TOKEN'] == target_holder\n",
    "            ]\n",
    "            validation_result.add_error(\n",
    "                \"label\",\n",
    "                f\"Target label mismatch for event {event['event_id']}:\\n\"\n",
    "                f\"  Target account holder: {target_holder}\\n\"\n",
    "                f\"  Expected: {sorted(expected_target_labels)}\\n\"\n",
    "                f\"  Actual: {sorted(event_target_labels)}\\n\"\n",
    "                f\"  Target label details for this holder:\\n\"\n",
    "                f\"{target_df_for_holder.to_string()}\"\n",
    "            )"
   ]
  },
  {
   "cell_type": "markdown",
   "metadata": {
    "application/vnd.databricks.v1+cell": {
     "cellMetadata": {
      "byteLimit": 2048000,
      "rowLimit": 10000
     },
     "inputWidgets": {},
     "nuid": "764f09e1-bb50-41cb-b987-4b612ea8acb4",
     "showTitle": false,
     "tableResultSettingsMap": {},
     "title": ""
    }
   },
   "source": [
    "### Timestamp validation\n",
    "\n",
    "Validation of change event timestamps"
   ]
  },
  {
   "cell_type": "code",
   "execution_count": 0,
   "metadata": {
    "application/vnd.databricks.v1+cell": {
     "cellMetadata": {
      "byteLimit": 2048000,
      "rowLimit": 10000
     },
     "inputWidgets": {},
     "nuid": "fc6e035c-045f-47a7-a7d0-5cac23ae6f05",
     "showTitle": false,
     "tableResultSettingsMap": {},
     "title": ""
    }
   },
   "outputs": [],
   "source": [
    "def validate_timestamps(\n",
    "    ccgce_df: pd.DataFrame,\n",
    "    asset_connections: pd.DataFrame, \n",
    "    validation_result: ValidationResult\n",
    "):\n",
    "    \"\"\"Validates that event timestamps match the earliest effective connection time.\n",
    "    \n",
    "    The effective connection time between two account holders via an asset is the\n",
    "    later of:\n",
    "    1. When the source account connected to the asset\n",
    "    2. When the target account connected to the asset\n",
    "    \n",
    "    Args:\n",
    "        ccgce_df: DataFrame containing the CashConnectedGraphChangeEvents\n",
    "        asset_connections: DataFrame with asset connection details including:\n",
    "            - ACCOUNT_TOKEN: The connected account\n",
    "            - ASSET_TOKEN: The shared asset\n",
    "            - ASSET_TYPE: Type of the shared asset\n",
    "            - ASSET_CONNECTION_TIME: When the account connected to the asset\n",
    "            - SOURCE_CONNECTION_TIME: When the source account connected to the asset\n",
    "            - ACCOUNT_HOLDER_TOKEN: The account holder owning the connected account\n",
    "            - EARLIEST_CONNECTION_TIME: Later of source and target connection times\n",
    "        validation_result: ValidationResult object to store any errors\n",
    "    \"\"\"\n",
    "    for _, event in ccgce_df.iterrows():\n",
    "        target_holder = event['target_user_token']\n",
    "        source_holder = event['source_user_token']\n",
    "        asset_type = event['changed_node_type']\n",
    "\n",
    "        # Find connections for this target account holder via this asset type\n",
    "        target_connections = asset_connections[\n",
    "            (asset_connections['ACCOUNT_HOLDER_TOKEN'] == target_holder) &\n",
    "            (asset_connections['ASSET_TYPE'] == asset_type)\n",
    "        ]\n",
    "\n",
    "        if target_connections.empty:\n",
    "            validation_result.add_error(\n",
    "                \"timestamp\",\n",
    "                f\"No shared assets found for connection between {source_holder} and {target_holder} via {asset_type}\"\n",
    "            )\n",
    "            continue\n",
    "\n",
    "        # The earliest_connection_time is already the later of source and target connection times\n",
    "        expected_timestamp = pd.to_datetime(target_connections['EARLIEST_CONNECTION_TIME'].min())\n",
    "        actual_timestamp = pd.to_datetime(event['effective_at_millis'], unit='ms')\n",
    "        \n",
    "        if actual_timestamp != expected_timestamp:\n",
    "            validation_result.add_error(\n",
    "                \"timestamp\",\n",
    "                f\"Timestamp mismatch for event {event['event_id']}:\\n\"\n",
    "                f\"  Expected (earliest effective connection): {expected_timestamp}\\n\"\n",
    "                f\"  Actual (event effective_at): {actual_timestamp}\"\n",
    "            )"
   ]
  },
  {
   "cell_type": "markdown",
   "metadata": {
    "application/vnd.databricks.v1+cell": {
     "cellMetadata": {
      "byteLimit": 2048000,
      "rowLimit": 10000
     },
     "inputWidgets": {},
     "nuid": "34ded4e7-f4e3-4c9e-9886-57c3ccc31a0d",
     "showTitle": false,
     "tableResultSettingsMap": {},
     "title": ""
    }
   },
   "source": [
    "### Account Holder Connection Analysis\n",
    "Functions to analyze account holders and their connections."
   ]
  },
  {
   "cell_type": "code",
   "execution_count": 0,
   "metadata": {
    "application/vnd.databricks.v1+cell": {
     "cellMetadata": {
      "byteLimit": 2048000,
      "rowLimit": 10000
     },
     "inputWidgets": {},
     "nuid": "93480c14-9468-4d15-ae94-f33d47b2fdcd",
     "showTitle": false,
     "tableResultSettingsMap": {},
     "title": ""
    }
   },
   "outputs": [],
   "source": [
    "def get_all_active_accounts(\n",
    "    account_holders: Set[str],\n",
    "    effective_at: str\n",
    ") -> Dict[str, Set[str]]:\n",
    "    \"\"\"Gets all active (non-merged) accounts for a set of account holders.\n",
    "    \n",
    "    Args:\n",
    "        account_holders: Set of account holder tokens to get accounts for\n",
    "        effective_at: Timestamp for point-in-time query\n",
    "        \n",
    "    Returns:\n",
    "        Dictionary mapping account holder tokens to their set of active (non-merged) account tokens.\n",
    "        Account holders with no active accounts will have empty sets or be missing from the dictionary.\n",
    "    \"\"\"\n",
    "    if not account_holders:\n",
    "        return {}\n",
    "        \n",
    "    query = f\"\"\"\n",
    "    WITH account_edges AS (\n",
    "        -- Get all account mappings for the account holders\n",
    "        SELECT \n",
    "            FROM_TOKEN AS account_holder_token,\n",
    "            TO_TOKEN AS account_token,\n",
    "            EFFECTIVE_AT AS mapping_effective_at\n",
    "        FROM duplograph.public.edges\n",
    "        WHERE FROM_TYPE = 'ACCOUNT_HOLDER_CASH_CUSTOMER'\n",
    "        AND TO_TYPE = 'CASH_CUSTOMER'\n",
    "        AND FROM_TOKEN IN {to_sql_list(account_holders)}\n",
    "        AND EFFECTIVE_AT <= '{effective_at}'\n",
    "    )\n",
    "    SELECT \n",
    "        ae.account_holder_token,\n",
    "        ae.account_token\n",
    "    FROM account_edges ae\n",
    "    WHERE NOT EXISTS (\n",
    "        -- Exclude merged accounts\n",
    "        SELECT 1\n",
    "        FROM duplograph.public.edges m\n",
    "        WHERE m.FROM_TOKEN = ae.account_token\n",
    "        AND m.FROM_TYPE = 'CASH_CUSTOMER'\n",
    "        AND m.TO_TYPE = 'CASH_CUSTOMER'\n",
    "        AND m.EFFECTIVE_AT <= '{effective_at}'\n",
    "    )\n",
    "    \"\"\"\n",
    "    \n",
    "    df = snowflake_query(query)\n",
    "    \n",
    "    # Convert to dictionary mapping account holders to their account sets\n",
    "    result = {}\n",
    "    if not df.empty:\n",
    "        for account_holder in account_holders:\n",
    "            accounts = df[df['ACCOUNT_HOLDER_TOKEN'] == account_holder]['ACCOUNT_TOKEN'].tolist()\n",
    "            result[account_holder] = set(accounts)\n",
    "    \n",
    "    return result"
   ]
  },
  {
   "cell_type": "code",
   "execution_count": 0,
   "metadata": {
    "application/vnd.databricks.v1+cell": {
     "cellMetadata": {
      "byteLimit": 2048000,
      "rowLimit": 10000
     },
     "inputWidgets": {},
     "nuid": "a42c1e11-6cba-4a61-b4c9-d309eefd331f",
     "showTitle": false,
     "tableResultSettingsMap": {},
     "title": ""
    }
   },
   "outputs": [],
   "source": [
    "def get_connected_account_holders(\n",
    "    source_account_holder: str,\n",
    "    source_active_accounts: Set[str],\n",
    "    effective_at: str,\n",
    "    asset_types: Optional[Set[str]] = None\n",
    ") -> Tuple[pd.DataFrame, pd.DataFrame, Set[str]]:\n",
    "    \"\"\"Gets account holders connected to source accounts via shared assets.\n",
    "    Note: Returns all connected accounts, including merged ones.\n",
    "    Merged account filtering should be done by the caller.\n",
    "    \n",
    "    Args:\n",
    "        source_account_holder: The source account holder token\n",
    "        source_active_accounts: Set of active (non-merged) account tokens belonging to the source account holder\n",
    "        effective_at: Timestamp for point-in-time query\n",
    "        asset_types: Optional set of asset types to filter by\n",
    "        \n",
    "    Returns:\n",
    "        Tuple of (\n",
    "            asset_connections: DataFrame with asset connection details including:\n",
    "                - ACCOUNT_TOKEN: The connected account\n",
    "                - ASSET_TOKEN: The shared asset\n",
    "                - ASSET_TYPE: Type of the shared asset\n",
    "                - ASSET_CONNECTION_TIME: When the account connected to the asset\n",
    "                - SOURCE_CONNECTION_TIME: When the source account connected to the asset\n",
    "                - ACCOUNT_HOLDER_TOKEN: The account holder owning the connected account\n",
    "                - EARLIEST_CONNECTION_TIME: Later of source and target connection times\n",
    "            holder_mapping: DataFrame mapping account holders to their connected accounts:\n",
    "                - ACCOUNT_HOLDER_TOKEN: The account holder\n",
    "                - ACCOUNT_TOKEN: Their account that shares an asset\n",
    "                - MAPPING_EFFECTIVE_AT: When the account was mapped to the holder\n",
    "            connected_holders: Set of account holder tokens that share assets with the source\n",
    "        )\n",
    "    \"\"\"\n",
    "    if not source_active_accounts:\n",
    "        return pd.DataFrame(), pd.DataFrame(), set()\n",
    "        \n",
    "    asset_type_clause = \"1=1\"\n",
    "    if asset_types:\n",
    "        asset_type_clause = f\"TO_TYPE IN {to_sql_list(asset_types)}\"\n",
    "        \n",
    "    query = f\"\"\"\n",
    "    WITH source_assets AS (\n",
    "        -- Get assets connected to source accounts\n",
    "        SELECT DISTINCT \n",
    "            TO_TOKEN,\n",
    "            TO_TYPE,\n",
    "            MIN(EFFECTIVE_AT) as SOURCE_CONNECTION_TIME  -- When source first connected\n",
    "        FROM duplograph.public.edges\n",
    "        WHERE FROM_TYPE = 'CASH_CUSTOMER'\n",
    "        AND FROM_TOKEN IN {to_sql_list(source_active_accounts)}\n",
    "        AND TO_TYPE != 'CASH_CUSTOMER'\n",
    "        AND {asset_type_clause}\n",
    "        AND EFFECTIVE_AT <= '{effective_at}'\n",
    "        GROUP BY TO_TOKEN, TO_TYPE\n",
    "    ),\n",
    "    connected_accounts AS (\n",
    "        -- Get accounts connected to those assets, excluding source accounts\n",
    "        SELECT DISTINCT\n",
    "            e.FROM_TOKEN AS ACCOUNT_TOKEN,\n",
    "            e.TO_TOKEN AS ASSET_TOKEN,\n",
    "            e.TO_TYPE AS ASSET_TYPE,\n",
    "            MIN(e.EFFECTIVE_AT) AS ASSET_CONNECTION_TIME,  -- When target first connected\n",
    "            MIN(sa.SOURCE_CONNECTION_TIME) AS SOURCE_CONNECTION_TIME\n",
    "        FROM duplograph.public.edges e\n",
    "        JOIN source_assets sa ON e.TO_TOKEN = sa.TO_TOKEN \n",
    "            AND e.TO_TYPE = sa.TO_TYPE\n",
    "        WHERE e.FROM_TYPE = 'CASH_CUSTOMER'\n",
    "        AND e.FROM_TOKEN NOT IN {to_sql_list(source_active_accounts)}\n",
    "        AND e.EFFECTIVE_AT <= '{effective_at}'\n",
    "        GROUP BY e.FROM_TOKEN, e.TO_TOKEN, e.TO_TYPE\n",
    "    ),\n",
    "    account_holders AS (\n",
    "        -- Get account holder relationships for connected accounts\n",
    "        SELECT \n",
    "            e.FROM_TOKEN AS ACCOUNT_HOLDER_TOKEN,\n",
    "            e.TO_TOKEN AS ACCOUNT_TOKEN,\n",
    "            e.EFFECTIVE_AT AS MAPPING_EFFECTIVE_AT\n",
    "        FROM duplograph.public.edges e\n",
    "        WHERE e.FROM_TYPE = 'ACCOUNT_HOLDER_CASH_CUSTOMER'\n",
    "        AND e.TO_TYPE = 'CASH_CUSTOMER'\n",
    "        AND e.TO_TOKEN IN (SELECT ACCOUNT_TOKEN FROM connected_accounts)\n",
    "        AND e.FROM_TOKEN != '{source_account_holder}'\n",
    "        AND e.EFFECTIVE_AT <= '{effective_at}'\n",
    "    ),\n",
    "    connections AS (\n",
    "        -- Join with account holders and get earliest connection times\n",
    "        SELECT \n",
    "            ca.*,\n",
    "            ah.ACCOUNT_HOLDER_TOKEN,\n",
    "            ah.MAPPING_EFFECTIVE_AT,\n",
    "            -- For each account holder, find the earliest effective connection time\n",
    "            -- (the later of source connection and target connection)\n",
    "            MIN(GREATEST(ca.ASSET_CONNECTION_TIME, ca.SOURCE_CONNECTION_TIME)) \n",
    "                OVER (PARTITION BY ah.ACCOUNT_HOLDER_TOKEN, ca.ASSET_TYPE) AS EARLIEST_CONNECTION_TIME\n",
    "        FROM connected_accounts ca\n",
    "        JOIN account_holders ah ON ca.ACCOUNT_TOKEN = ah.ACCOUNT_TOKEN\n",
    "    )\n",
    "    SELECT * FROM connections\n",
    "    ORDER BY ACCOUNT_HOLDER_TOKEN, ASSET_TOKEN\n",
    "    \"\"\"\n",
    "    \n",
    "    df = snowflake_query(query)\n",
    "    \n",
    "    if df.empty:\n",
    "        return df, pd.DataFrame(), set()\n",
    "        \n",
    "    # Extract unique account holder tokens\n",
    "    connected_holders = set(df['ACCOUNT_HOLDER_TOKEN'].unique())\n",
    "    \n",
    "    # Create account holder mapping DataFrame\n",
    "    holder_mapping = df[['ACCOUNT_HOLDER_TOKEN', 'ACCOUNT_TOKEN', 'MAPPING_EFFECTIVE_AT']].drop_duplicates()\n",
    "    \n",
    "    # Create asset connections DataFrame\n",
    "    asset_connections = df[[\n",
    "        'ACCOUNT_TOKEN', 'ASSET_TOKEN', 'ASSET_TYPE', 'ASSET_CONNECTION_TIME',\n",
    "        'SOURCE_CONNECTION_TIME', 'ACCOUNT_HOLDER_TOKEN', 'EARLIEST_CONNECTION_TIME'\n",
    "    ]].drop_duplicates()\n",
    "    \n",
    "    return asset_connections, holder_mapping, connected_holders"
   ]
  },
  {
   "cell_type": "code",
   "execution_count": 0,
   "metadata": {
    "application/vnd.databricks.v1+cell": {
     "cellMetadata": {
      "byteLimit": 2048000,
      "rowLimit": 10000
     },
     "inputWidgets": {},
     "nuid": "7dde0106-b39f-41ea-b4f0-955a539f78fb",
     "showTitle": false,
     "tableResultSettingsMap": {},
     "title": ""
    }
   },
   "outputs": [],
   "source": [
    "def validate_no_events_condition(\n",
    "    account_holder: str,\n",
    "    actual_events: Set[str],\n",
    "    status_message: str\n",
    ") -> ValidationResult:\n",
    "    \"\"\"Validates cases where no events should be present.\n",
    "    \n",
    "    Args:\n",
    "        account_holder: The account holder being validated\n",
    "        actual_events: Set of actual event IDs found\n",
    "        status_message: Status message explaining why no events are expected\n",
    "        \n",
    "    Returns:\n",
    "        ValidationResult: Result object with appropriate status and any unexpected events\n",
    "    \"\"\"\n",
    "    result = ValidationResult(account_holder)\n",
    "    \n",
    "    if actual_events:\n",
    "        # There are events when there shouldn't be any\n",
    "        result.add_error(\"validation_status\", status_message)\n",
    "        for event_id in actual_events:\n",
    "            result.add_error(\"unexpected_event\", event_id)\n",
    "    else:\n",
    "        # This is correct - no events when none are expected\n",
    "        result.success = True\n",
    "        result.validation_status = status_message\n",
    "    \n",
    "    return result"
   ]
  },
  {
   "cell_type": "markdown",
   "metadata": {
    "application/vnd.databricks.v1+cell": {
     "cellMetadata": {
      "byteLimit": 2048000,
      "rowLimit": 10000
     },
     "inputWidgets": {},
     "nuid": "15854108-6a07-44ee-ba38-e4f88ecc2dae",
     "showTitle": false,
     "tableResultSettingsMap": {},
     "title": ""
    }
   },
   "source": [
    "## Main Validation Logic\n",
    "\n",
    "The core validation functions that orchestrate the validation process for each account holder."
   ]
  },
  {
   "cell_type": "code",
   "execution_count": 0,
   "metadata": {
    "application/vnd.databricks.v1+cell": {
     "cellMetadata": {
      "byteLimit": 2048000,
      "rowLimit": 10000
     },
     "inputWidgets": {},
     "nuid": "e856d3e9-6821-4d88-97b4-ba4cce856479",
     "showTitle": false,
     "tableResultSettingsMap": {},
     "title": ""
    }
   },
   "outputs": [],
   "source": [
    "def validate_account_holder(\n",
    "    source_account_holder: str,\n",
    "    effective_at: str,\n",
    "    ccgce_table: str,\n",
    "    asset_types: Optional[Set[str]] = None\n",
    ") -> ValidationResult:\n",
    "    \"\"\"Validates CashConnectedGraphChangeEvents for a source account holder.\n",
    "    \n",
    "    The validation process:\n",
    "    1. Gets all active (non-merged) accounts for the source account holder\n",
    "    2. Finds all account holders connected to the source via shared assets\n",
    "    3. Gets all active accounts for those connected account holders\n",
    "    4. Filters out account holders that only have merged accounts\n",
    "    5. Validates that:\n",
    "       - Events exist for each shared asset type between source and target\n",
    "       - No unexpected events exist\n",
    "       - Labels are correctly propagated from all accounts\n",
    "       - Event timestamps match the connection times\n",
    "    \n",
    "    Args:\n",
    "        source_account_holder: The account holder token to validate\n",
    "        effective_at: Timestamp for point-in-time validation\n",
    "        ccgce_table: The Databricks table containing CashConnectedGraphChangeEvents\n",
    "        asset_types: Optional set of asset types to filter by\n",
    "        \n",
    "    Returns:\n",
    "        ValidationResult containing any validation errors found:\n",
    "        - No events expected if source has no active accounts\n",
    "        - No events expected if no shared assets found\n",
    "        - No events expected if no target holders have active accounts\n",
    "        - Missing events if expected connections not found\n",
    "        - Unexpected events if additional connections found\n",
    "        - Label errors if propagation incorrect\n",
    "        - Timestamp errors if connection times don't match\n",
    "    \"\"\"\n",
    "    result = ValidationResult(source_account_holder)\n",
    "\n",
    "    # Get actual events for this account holder using Spark SQL\n",
    "    query = f\"\"\"\n",
    "    SELECT \n",
    "        cash_connected_graph_change_event.event_id as event_id,\n",
    "        cash_connected_graph_change_event.target_user_token as target_user_token\n",
    "    FROM {ccgce_table}\n",
    "    WHERE cash_connected_graph_change_event.event_source_type = 'BACKFILL'\n",
    "    AND cash_connected_graph_change_event.source_user_token = '{source_account_holder}'\n",
    "    \"\"\"\n",
    "    actual_events_df = spark_query(query)\n",
    "    actual_events = set(actual_events_df['event_id'])\n",
    "\n",
    "    # Get source account holder's active accounts\n",
    "    source_accounts_mapping = get_all_active_accounts({source_account_holder}, effective_at)\n",
    "    source_active_accounts = source_accounts_mapping.get(source_account_holder, set())\n",
    "    \n",
    "    # Check if source account holder has no active accounts\n",
    "    if not source_active_accounts:\n",
    "        return validate_no_events_condition(\n",
    "            source_account_holder,\n",
    "            actual_events,\n",
    "            \"Account holder has no active accounts. No change events expected.\"\n",
    "        )\n",
    "\n",
    "    # Get connected data using Snowflake\n",
    "    asset_connections, holder_mapping, connected_holders = get_connected_account_holders(\n",
    "        source_account_holder, source_active_accounts, effective_at, asset_types\n",
    "    )\n",
    "    \n",
    "    # Check if there are no connected assets\n",
    "    if asset_connections.empty:\n",
    "        return validate_no_events_condition(\n",
    "            source_account_holder,\n",
    "            actual_events,\n",
    "            \"No other accounts connected to assets\"\n",
    "        )\n",
    "\n",
    "    # Get all active accounts for target account holders\n",
    "    target_accounts_mapping = get_all_active_accounts(connected_holders, effective_at)\n",
    "    \n",
    "    # Filter out target account holders that only have merged accounts\n",
    "    target_active_holders = {\n",
    "        holder for holder, accounts in target_accounts_mapping.items()\n",
    "        if accounts\n",
    "    }\n",
    "    \n",
    "    # Check if there are no active target holders\n",
    "    if not target_active_holders:\n",
    "        return validate_no_events_condition(\n",
    "            source_account_holder,\n",
    "            actual_events,\n",
    "            \"No target account holders with active accounts found\"\n",
    "        )\n",
    "    \n",
    "    # Create complete mapping including both source and target account holders\n",
    "    all_account_mapping = {\n",
    "        source_account_holder: source_active_accounts,\n",
    "        **target_accounts_mapping\n",
    "    }\n",
    "    \n",
    "    # Filter asset_connections to only include active (non-merged) accounts\n",
    "    active_accounts = set().union(*all_account_mapping.values())\n",
    "    asset_connections = asset_connections[\n",
    "        asset_connections['ACCOUNT_TOKEN'].isin(active_accounts)\n",
    "    ]\n",
    "\n",
    "    # Generate expected event IDs based on shared assets\n",
    "    expected_events = set()\n",
    "    for target_holder in target_active_holders:\n",
    "        target_accounts = target_accounts_mapping[target_holder]\n",
    "        target_assets = asset_connections[\n",
    "            asset_connections['ACCOUNT_TOKEN'].isin(target_accounts)\n",
    "        ]['ASSET_TYPE'].unique()\n",
    "        \n",
    "        for asset_type in target_assets:\n",
    "            event_id = connection_change_event_id(\n",
    "                target_holder, source_account_holder, asset_type\n",
    "            )\n",
    "            expected_events.add(event_id)\n",
    "    \n",
    "    # If no events are expected, verify there are no actual events\n",
    "    if not expected_events:\n",
    "        return validate_no_events_condition(\n",
    "            source_account_holder,\n",
    "            actual_events,\n",
    "            \"No shared assets with active target accounts found. No change events expected.\"\n",
    "        )\n",
    "    \n",
    "    # Check for missing/unexpected events\n",
    "    missing = expected_events - actual_events\n",
    "    unexpected = actual_events - expected_events\n",
    "    \n",
    "    for event in missing:\n",
    "        result.add_error(\"missing_event\", event)\n",
    "    for event in unexpected:\n",
    "        result.add_error(\"unexpected_event\", event)\n",
    "        \n",
    "    # Get full event details needed for label validation using Spark SQL\n",
    "    query = f\"\"\"\n",
    "    SELECT \n",
    "        cash_connected_graph_change_event.event_id as event_id,\n",
    "        cash_connected_graph_change_event.event_type as event_type,\n",
    "        cash_connected_graph_change_event.target_user_token as target_user_token,\n",
    "        cash_connected_graph_change_event.source_user_token as source_user_token,\n",
    "        cash_connected_graph_change_event.effective_at_millis as effective_at_millis,\n",
    "        cash_connected_graph_change_event.published_at_millis as published_at_millis,\n",
    "        cash_connected_graph_change_event.user_type as user_type,\n",
    "        cash_connected_graph_change_event.event_source_type as event_source_type,\n",
    "        cash_connected_graph_change_event.connection_change.changed_node_type as changed_node_type,\n",
    "        cash_connected_graph_change_event.connection_change.source_user_labels as source_user_labels,\n",
    "        cash_connected_graph_change_event.connection_change.target_user_labels as target_user_labels\n",
    "    FROM {ccgce_table}\n",
    "    WHERE cash_connected_graph_change_event.event_source_type = 'BACKFILL'\n",
    "    AND cash_connected_graph_change_event.source_user_token = '{source_account_holder}'\n",
    "    AND event_id IN {to_sql_list(expected_events)}\n",
    "    \"\"\"\n",
    "    ccgce_df = spark_query(query)\n",
    "\n",
    "    # Get all labels in a single query using the complete account mapping\n",
    "    source_and_target_labels = get_account_holder_labels(\n",
    "        all_account_mapping, effective_at\n",
    "    )\n",
    "    \n",
    "    source_labels = source_and_target_labels[\n",
    "        source_and_target_labels['ACCOUNT_HOLDER_TOKEN'] == source_account_holder\n",
    "    ]\n",
    "    target_labels = source_and_target_labels[\n",
    "        source_and_target_labels['ACCOUNT_HOLDER_TOKEN'].isin(target_active_holders)\n",
    "    ]\n",
    "    \n",
    "    # Validate timestamps and labels\n",
    "    validate_timestamps(\n",
    "        ccgce_df=ccgce_df,\n",
    "        asset_connections=asset_connections,\n",
    "        validation_result=result\n",
    "    )\n",
    "\n",
    "    validate_labels(\n",
    "        ccgce_df=ccgce_df,\n",
    "        source_labels_df=source_labels,\n",
    "        target_labels_df=target_labels,\n",
    "        source_account_holder=source_account_holder,\n",
    "        validation_result=result\n",
    "    )\n",
    "\n",
    "    return result"
   ]
  },
  {
   "cell_type": "code",
   "execution_count": 0,
   "metadata": {
    "application/vnd.databricks.v1+cell": {
     "cellMetadata": {
      "byteLimit": 2048000,
      "rowLimit": 10000
     },
     "inputWidgets": {},
     "nuid": "1094890a-084a-461a-865d-b3fab090c948",
     "showTitle": false,
     "tableResultSettingsMap": {},
     "title": ""
    }
   },
   "outputs": [],
   "source": [
    "def validate_account_holders(\n",
    "    account_holders: List[str],\n",
    "    effective_at: str,\n",
    "    ccgce_table: str,\n",
    "    asset_types: Optional[Set[str]] = None,\n",
    "    output_dir: Optional[str] = None,\n",
    "    csv_path: Optional[str] = None\n",
    ") -> List[ValidationResult]:\n",
    "    \"\"\"Validates edgy backfill processing for multiple account holders.\n",
    "    \n",
    "    Args:\n",
    "        account_holders: List of account holder tokens to validate\n",
    "        effective_at: Timestamp for point-in-time validation\n",
    "        ccgce_table: The table containing CashConnectedGraphChangeEvents\n",
    "        asset_types: Optional set of asset types to filter by\n",
    "        output_dir: Optional directory for output files. If not provided,\n",
    "                   defaults to current directory\n",
    "        csv_path: Optionally set the output csv file explicitly. If not\n",
    "                  provided, it will be auto-generated\n",
    "    \n",
    "    Returns:\n",
    "        List of ValidationResult objects, one per account holder\n",
    "    \"\"\"\n",
    "    print(f\"Validating {len(account_holders)} account holders:\")\n",
    "    print(\"\\n\".join(f\"- {ah}\" for ah in account_holders))\n",
    "    \n",
    "    # Create output directory if it doesn't exist\n",
    "    if output_dir:\n",
    "        os.makedirs(output_dir, exist_ok=True)\n",
    "    else:\n",
    "        output_dir = '.'\n",
    "        \n",
    "    # Create CSV filename with timestamp\n",
    "    timestamp = datetime.now().strftime('%Y%m%d_%H%M%S')\n",
    "    if csv_path is None:\n",
    "        timestamp = datetime.now().strftime('%Y%m%d_%H%M%S')\n",
    "        csv_path = os.path.join(output_dir, f'validation_results_{timestamp}.csv')\n",
    "    \n",
    "    results = []\n",
    "    timings = {}\n",
    "    \n",
    "    for holder in account_holders:\n",
    "        start_time = time.time()\n",
    "        result = validate_account_holder(\n",
    "            holder, effective_at, ccgce_table, asset_types\n",
    "        )\n",
    "        results.append(result)\n",
    "        \n",
    "        # Write result to CSV as soon as it's available\n",
    "        result.write_to_csv(csv_path)\n",
    "        \n",
    "        end_time = time.time()\n",
    "        timings[holder] = end_time - start_time\n",
    "        \n",
    "        # Print progress with timing and detailed results\n",
    "        duration = timings[holder]\n",
    "        print(f\"\\nTime to validate {holder}: {duration:.2f} seconds\")\n",
    "        print(result.get_summary())\n",
    "        print()\n",
    "    \n",
    "    # Print summary statistics\n",
    "    success_count = sum(1 for r in results if r.success)\n",
    "    print(f\"\\nValidation complete: {success_count}/{len(results)} passed\")\n",
    "    \n",
    "    # Timing statistics\n",
    "    avg_time = sum(timings.values()) / len(timings)\n",
    "    max_time = max(timings.values())\n",
    "    min_time = min(timings.values())\n",
    "    print(f\"\\nTiming statistics:\")\n",
    "    print(f\"- Average time per account holder: {avg_time:.2f} seconds\")\n",
    "    print(f\"- Fastest validation: {min_time:.2f} seconds\")\n",
    "    print(f\"- Slowest validation: {max_time:.2f} seconds\")\n",
    "    print(f\"- Total validation time: {sum(timings.values()):.2f} seconds\")\n",
    "    print(f\"\\nResults written to: {csv_path}\")\n",
    "    \n",
    "    return results"
   ]
  },
  {
   "cell_type": "code",
   "execution_count": 0,
   "metadata": {
    "application/vnd.databricks.v1+cell": {
     "cellMetadata": {
      "byteLimit": 2048000,
      "rowLimit": 10000
     },
     "inputWidgets": {},
     "nuid": "e9fbf742-b92d-4966-b5c5-d2a6a85b533a",
     "showTitle": false,
     "tableResultSettingsMap": {},
     "title": ""
    }
   },
   "outputs": [],
   "source": [
    "# Parallelized batch validation\n",
    "\n",
    "from concurrent.futures import ThreadPoolExecutor\n",
    "import concurrent\n",
    "import math\n",
    "\n",
    "def validate_account_holders_batch(\n",
    "    account_holders: List[str],\n",
    "    effective_at: str,\n",
    "    ccgce_table: str,\n",
    "    output_dir: str,\n",
    "    batch_size: int = 5,\n",
    "    max_workers: int = 3\n",
    "):\n",
    "    \"\"\"Validates account holders in parallel batches.\n",
    "    \n",
    "    Args:\n",
    "        account_holders: List of account holder tokens to validate\n",
    "        effective_at: Timestamp for point-in-time validation\n",
    "        ccgce_table: The table containing CashConnectedGraphChangeEvents\n",
    "        output_dir: Directory for output files\n",
    "        batch_size: Number of account holders to process in each batch\n",
    "        max_workers: Maximum number of parallel threads\n",
    "    \"\"\"\n",
    "    # Create output directory\n",
    "    os.makedirs(output_dir, exist_ok=True)\n",
    "    \n",
    "    # Create a single CSV filename for all batches\n",
    "    timestamp = datetime.now().strftime('%Y%m%d_%H%M%S')\n",
    "    csv_path = os.path.join(output_dir, f'validation_results_{timestamp}.csv')\n",
    "    \n",
    "    # Split account holders into batches\n",
    "    num_batches = math.ceil(len(account_holders) / batch_size)\n",
    "    batches = [\n",
    "        account_holders[i * batch_size:(i + 1) * batch_size]\n",
    "        for i in range(num_batches)\n",
    "    ]\n",
    "    \n",
    "    print(f\"Processing {len(account_holders)} account holders in {num_batches} batches \"\n",
    "          f\"of size {batch_size} using {max_workers} workers\")\n",
    "    print(f\"Results will be written to: {csv_path}\")\n",
    "    \n",
    "    # Process batches in parallel\n",
    "    with ThreadPoolExecutor(max_workers=max_workers) as executor:\n",
    "        futures = [\n",
    "            executor.submit(\n",
    "                validate_account_holders,\n",
    "                batch,\n",
    "                effective_at,\n",
    "                ccgce_table,\n",
    "                None,  # asset_types\n",
    "                output_dir,\n",
    "                csv_path  # Pass the specific CSV path\n",
    "            )\n",
    "        for batch in batches\n",
    "        ]\n",
    "        \n",
    "        # Process results as they complete\n",
    "        for i, future in enumerate(concurrent.futures.as_completed(futures)):\n",
    "            try:\n",
    "                future.result()\n",
    "                print(f\"Completed batch {i + 1}/{num_batches}\")\n",
    "            except Exception as e:\n",
    "                print(f\"Batch {i + 1} failed with error: {str(e)}\")"
   ]
  },
  {
   "cell_type": "markdown",
   "metadata": {
    "application/vnd.databricks.v1+cell": {
     "cellMetadata": {
      "byteLimit": 2048000,
      "rowLimit": 10000
     },
     "inputWidgets": {},
     "nuid": "8028a6e2-c082-4fa9-97da-fd971151f8ce",
     "showTitle": false,
     "tableResultSettingsMap": {},
     "title": ""
    }
   },
   "source": [
    "## Validation Execution"
   ]
  },
  {
   "cell_type": "code",
   "execution_count": 0,
   "metadata": {
    "application/vnd.databricks.v1+cell": {
     "cellMetadata": {
      "byteLimit": 2048000,
      "rowLimit": 10000
     },
     "inputWidgets": {},
     "nuid": "156507e0-dc0a-4f58-b921-c6569c19e896",
     "showTitle": false,
     "tableResultSettingsMap": {},
     "title": ""
    }
   },
   "outputs": [
    {
     "output_type": "stream",
     "name": "stdout",
     "output_type": "stream",
     "text": [
      "Processing 7141 account holders in 1429 batches of size 5 using 20 workers\nResults will be written to: validation_results_20250515/validation_results_20250515_123151.csv\nValidating 5 account holders:\n- AH_jdyqqvemg\n- AH_gbyq2n2t0\n- AH_pzy8bcc6f\n- AH_dvm895can\n- AH_gpyqa52qh\nValidating 5 account holders:\n- AH_f0mhw3cqf\n- AH_dpm0w1cq0\n- AH_6smhxmej0\n- AH_f9yhcxccg\n- AH_z9m118ct0\nValidating 5 account holders:\n- AH_gbm01dejs\n- AH_ktm81z2yg\n- AH_02mhr82mf\n- AH_5ey1j5can\n- AH_3fya4ccs0\nValidating 5 account holders:\n- AH_s9m0rhctn\n- AH_kzy0rcdan\n- AH_znypdzd4n\n- AH_tdmga3c4n\n- AH_60mprnc6n\nValidating 5 account holders:\n- AH_bgmp1nd6s\n- AH_ezm1pzean\n- AH_kjyp4a2xg\n- AH_seyawedmg\n- AH_a1y1ea2xf\nValidating 5 account holders:\n- AH_swyq4e2as\n- AH_3ky0et29n\n- AH_bnyaehchn\n- AH_73ygrh2x0\n- AH_01m8kndq0\nValidating 5 account holders:\n- AH_rqmprp2n8\n- AH_ngyhjc2t8\n- AH_jvmg2weyn\n- AH_03m1w9e60\n- AH_fwmhcycys\nValidating 5 account holders:\n- AH_mxyqbecj0\n- AH_6ym8pke0s\n- AH_dzy8ev2h8\n- AH_06mq1xdqs\n- AH_1hy1bnexs\nValidating 5 account holders:\n- AH_c2mgwwe4n\n- AH_2byhdwe48\n- AH_26yg2wc95\n- AH_60yaw8eq5\n- AH_xyy1jv2xf\nValidating 5 account holders:\n- AH_3jm0qyehh\n- AH_f1mpaccqg\n- AH_87ma9yc4f\n- AH_qky01wdsn\n- AH_5bmaxdc9h\nValidating 5 account holders:\n- AH_xsm8rncag\n- AH_3hy14z2ng\n- AH_c5ypb8cc5\n- AH_vqm8rvcq5\n- AH_ckmpbxecs\nValidating 5 account holders:\n- AH_5syhkt2n8\n- AH_teyqjv2c5\n- AH_3gm81a2ch\n- AH_wpyact2js\n- AH_3xmhp2eef\nValidating 5 account holders:\n- AH_2emha8cxn\n- AH_srygjadtn\n- AH_e7m8q5dqh\n- AH_jzmawp2yf\n- AH_2qm0xjemn\nValidating 5 account holders:\n- AH_vryh2ne4g\n- AH_y2ygane9f\n- AH_0cmacpehg\n- AH_shyq9pe4n\n- AH_85maxd2ys\nValidating 5 account holders:\n- AH_kamgcxctg\n- AH_y6mheecx0\n- AH_zxy0x5ec0\n- AH_3ryhqv2an\n- AH_gzyp2ydjs\nValidating 5 account holders:\n- AH_vqy1khec8\n- AH_hfyq9tdm5\n- AH_f9y0k6pxg\n- AH_09mgpcdh0\n- AH_f1m1dv2jg\nValidating 5 account holders:\n- AH_4yya9xd00\n- AH_vbmqbacj5\n- AH_psmqwee9s\n- AH_tzm19ad4g\n- AH_sjyp2p2t5\nValidating 5 account holders:\n- AH_9hmakzd9h\n- AH_ekmq9xeqg\n- AH_xqmpcy2mh\n- AH_7qm8ee2js\n- AH_npmpw8cn8\nValidating 5 account holders:\n- AH_9eyq4edxn\n- AH_4em09adan\n- AH_qpypxw29s\n- AH_tgy0edds5\n- AH_z2ypkw2cf\nValidating 5 account holders:\n- AH_prm09ddxf\n- AH_1pm0d8e65\n- AH_1cy112cn0\n- AH_xzm0epdcs\n- AH_sfyhwvdmg\n\nTime to validate AH_gbm01dejs: 35.99 seconds\nℹ️ AH_gbm01dejs: Account holder has no active accounts. No change events expected.\n\n\nTime to validate AH_2emha8cxn: 39.78 seconds\nℹ️ AH_2emha8cxn: Account holder has no active accounts. No change events expected.\n\n\nTime to validate AH_kamgcxctg: 46.47 seconds\nℹ️ AH_kamgcxctg: Account holder has no active accounts. No change events expected.\n\n\nTime to validate AH_s9m0rhctn: 47.76 seconds\nℹ️ AH_s9m0rhctn: Account holder has no active accounts. No change events expected.\n\n\nTime to validate AH_rqmprp2n8: 53.51 seconds\nℹ️ AH_rqmprp2n8: Account holder has no active accounts. No change events expected.\n\n\nTime to validate AH_vryh2ne4g: 57.68 seconds\nℹ️ AH_vryh2ne4g: Account holder has no active accounts. No change events expected.\n\n\nTime to validate AH_9eyq4edxn: 80.66 seconds\nℹ️ AH_9eyq4edxn: No other accounts connected to assets\n\n\nTime to validate AH_5syhkt2n8: 133.50 seconds\nℹ️ AH_5syhkt2n8: No other accounts connected to assets\n\n\nTime to validate AH_swyq4e2as: 139.67 seconds\nℹ️ AH_swyq4e2as: No other accounts connected to assets\n\n\nTime to validate AH_f0mhw3cqf: 162.28 seconds\nℹ️ AH_f0mhw3cqf: No other accounts connected to assets\n\n\nTime to validate AH_vqy1khec8: 208.96 seconds\n✅ AH_vqy1khec8: All validations passed\n\n\nTime to validate AH_xsm8rncag: 211.30 seconds\n✅ AH_xsm8rncag: All validations passed\n\n\nTime to validate AH_bgmp1nd6s: 215.63 seconds\n✅ AH_bgmp1nd6s: All validations passed\n\n\nTime to validate AH_ngyhjc2t8: 180.49 seconds\nℹ️ AH_ngyhjc2t8: No other accounts connected to assets\n\n\nTime to validate AH_teyqjv2c5: 115.71 seconds\nℹ️ AH_teyqjv2c5: No other accounts connected to assets\n\n\nTime to validate AH_3jm0qyehh: 258.91 seconds\n✅ AH_3jm0qyehh: All validations passed\n\n\nTime to validate AH_c2mgwwe4n: 259.41 seconds\n✅ AH_c2mgwwe4n: All validations passed\n\n\nTime to validate AH_jdyqqvemg: 266.47 seconds\n✅ AH_jdyqqvemg: All validations passed\n\n\nTime to validate AH_prm09ddxf: 272.20 seconds\n✅ AH_prm09ddxf: All validations passed\n\n\nTime to validate AH_ktm81z2yg: 240.12 seconds\n✅ AH_ktm81z2yg: All validations passed\n\n\nTime to validate AH_4yya9xd00: 276.27 seconds\n✅ AH_4yya9xd00: All validations passed\n\n\nTime to validate AH_9hmakzd9h: 276.35 seconds\n✅ AH_9hmakzd9h: All validations passed\n\n\nTime to validate AH_kzy0rcdan: 234.47 seconds\n✅ AH_kzy0rcdan: All validations passed\n\n\nTime to validate AH_ekmq9xeqg: 38.42 seconds\nℹ️ AH_ekmq9xeqg: Account holder has no active accounts. No change events expected.\n\n\nTime to validate AH_y6mheecx0: 271.64 seconds\n✅ AH_y6mheecx0: All validations passed\n\n\nTime to validate AH_y2ygane9f: 261.94 seconds\n✅ AH_y2ygane9f: All validations passed\n\n\nTime to validate AH_mxyqbecj0: 327.69 seconds\n✅ AH_mxyqbecj0: All validations passed\n\n\nTime to validate AH_srygjadtn: 290.69 seconds\n✅ AH_srygjadtn: All validations passed\n\n\nTime to validate AH_4em09adan: 306.11 seconds\n✅ AH_4em09adan: All validations passed\n\n\nTime to validate AH_0cmacpehg: 84.91 seconds\nℹ️ AH_0cmacpehg: Account holder has no active accounts. No change events expected.\n\n\nTime to validate AH_qpypxw29s: 59.65 seconds\nℹ️ AH_qpypxw29s: Account holder has no active accounts. No change events expected.\n\n\nTime to validate AH_hfyq9tdm5: 241.63 seconds\n✅ AH_hfyq9tdm5: All validations passed\n\n\nTime to validate AH_3gm81a2ch: 221.90 seconds\n✅ AH_3gm81a2ch: All validations passed\n\n\nTime to validate AH_3ky0et29n: 341.36 seconds\n✅ AH_3ky0et29n: All validations passed\n\n\nTime to validate AH_xqmpcy2mh: 166.88 seconds\nℹ️ AH_xqmpcy2mh: No other accounts connected to assets\n\n\nTime to validate AH_1pm0d8e65: 219.27 seconds\n✅ AH_1pm0d8e65: All validations passed\n\n\nTime to validate AH_ezm1pzean: 281.48 seconds\n✅ AH_ezm1pzean: All validations passed\n\n\nTime to validate AH_znypdzd4n: 223.11 seconds\nℹ️ AH_znypdzd4n: No target account holders with active accounts found\n\n\nTime to validate AH_3hy14z2ng: 298.70 seconds\n✅ AH_3hy14z2ng: All validations passed\n\n\nTime to validate AH_dpm0w1cq0: 348.44 seconds\n✅ AH_dpm0w1cq0: All validations passed\n\n\nTime to validate AH_jvmg2weyn: 276.84 seconds\n✅ AH_jvmg2weyn: All validations passed\n\n\nTime to validate AH_02mhr82mf: 235.75 seconds\nℹ️ AH_02mhr82mf: No target account holders with active accounts found\n\n\nTime to validate AH_wpyact2js: 44.39 seconds\nℹ️ AH_wpyact2js: Account holder has no active accounts. No change events expected.\n\n\nTime to validate AH_c5ypb8cc5: 27.82 seconds\nℹ️ AH_c5ypb8cc5: Account holder has no active accounts. No change events expected.\n\n\nTime to validate AH_f1mpaccqg: 299.82 seconds\n✅ AH_f1mpaccqg: All validations passed\n\n\nTime to validate AH_gbyq2n2t0: 299.11 seconds\n✅ AH_gbyq2n2t0: All validations passed\n\n\nTime to validate AH_e7m8q5dqh: 245.91 seconds\n✅ AH_e7m8q5dqh: All validations passed\n\n\nTime to validate AH_zxy0x5ec0: 266.38 seconds\n✅ AH_zxy0x5ec0: All validations passed\n\n\nTime to validate AH_vbmqbacj5: 314.92 seconds\n✅ AH_vbmqbacj5: All validations passed\n\n\nTime to validate AH_2byhdwe48: 352.48 seconds\n✅ AH_2byhdwe48: All validations passed\n\n\nTime to validate AH_6ym8pke0s: 284.28 seconds\n✅ AH_6ym8pke0s: All validations passed\n\n\nTime to validate AH_pzy8bcc6f: 50.52 seconds\nℹ️ AH_pzy8bcc6f: Account holder has no active accounts. No change events expected.\n\n\nTime to validate AH_f9y0k6pxg: 193.22 seconds\n✅ AH_f9y0k6pxg: All validations passed\n\n\nTime to validate AH_26yg2wc95: 51.56 seconds\nℹ️ AH_26yg2wc95: Account holder has no active accounts. No change events expected.\n\n\nTime to validate AH_tgy0edds5: 233.06 seconds\n✅ AH_tgy0edds5: All validations passed\n\n\nTime to validate AH_7qm8ee2js: 198.69 seconds\n✅ AH_7qm8ee2js: All validations passed\n\n\nTime to validate AH_shyq9pe4n: 307.93 seconds\n✅ AH_shyq9pe4n: All validations passed\n\n\nTime to validate AH_03m1w9e60: 205.71 seconds\n✅ AH_03m1w9e60: All validations passed\n\n\nTime to validate AH_1cy112cn0: 238.05 seconds\n✅ AH_1cy112cn0: All validations passed\n\n\nTime to validate AH_npmpw8cn8: 55.23 seconds\nℹ️ AH_npmpw8cn8: Account holder has no active accounts. No change events expected.\n\n\nValidation complete: 5/5 passed\n\nTiming statistics:\n- Average time per account holder: 147.12 seconds\n- Fastest validation: 38.42 seconds\n- Slowest validation: 276.35 seconds\n- Total validation time: 735.58 seconds\n\nResults written to: validation_results_20250515/validation_results_20250515_123151.csv\nValidating 5 account holders:\n- AH_6dygetc0n\n- AH_mvm8rpda0\n- AH_n9ypcye9s\n- AH_msya9pd00\n- AH_rvyg4p2t0\nCompleted batch 1/1429\n\nTime to validate AH_bnyaehchn: 277.87 seconds\n✅ AH_bnyaehchn: All validations passed\n\n\nTime to validate AH_tdmga3c4n: 260.76 seconds\n✅ AH_tdmga3c4n: All validations passed\n\n\nTime to validate AH_6smhxmej0: 261.30 seconds\n✅ AH_6smhxmej0: All validations passed\n\n\nTime to validate AH_xzm0epdcs: 52.59 seconds\nℹ️ AH_xzm0epdcs: Account holder has no active accounts. No change events expected.\n\n\nTime to validate AH_vqm8rvcq5: 259.32 seconds\n✅ AH_vqm8rvcq5: All validations passed\n\n\nTime to validate AH_kjyp4a2xg: 300.92 seconds\n✅ AH_kjyp4a2xg: All validations passed\n\n\nTime to validate AH_5ey1j5can: 287.78 seconds\n✅ AH_5ey1j5can: All validations passed\n\n\nTime to validate AH_6dygetc0n: 64.69 seconds\nℹ️ AH_6dygetc0n: Account holder has no active accounts. No change events expected.\n\n\nTime to validate AH_jzmawp2yf: 235.08 seconds\n✅ AH_jzmawp2yf: All validations passed\n\n\nTime to validate AH_3ryhqv2an: 234.02 seconds\n✅ AH_3ryhqv2an: All validations passed\n\n\nTime to validate AH_z2ypkw2cf: 140.56 seconds\nℹ️ AH_z2ypkw2cf: No other accounts connected to assets\n\n\nValidation complete: 5/5 passed\n\nTiming statistics:\n- Average time per account holder: 164.01 seconds\n- Fastest validation: 59.65 seconds\n- Slowest validation: 306.11 seconds\n- Total validation time: 820.04 seconds\n\nResults written to: validation_results_20250515/validation_results_20250515_123151.csv\nValidating 5 account holders:\n- AH_7sya4vdcg\n- AH_eem1endes\n- AH_sgyg452c0\n- AH_czm1b2c0f\n- AH_ajy81xden\nCompleted batch 2/1429\n\nTime to validate AH_dvm895can: 209.62 seconds\n✅ AH_dvm895can: All validations passed\n\n\nTime to validate AH_psmqwee9s: 237.72 seconds\n✅ AH_psmqwee9s: All validations passed\n\n\nTime to validate AH_sfyhwvdmg: 48.28 seconds\nℹ️ AH_sfyhwvdmg: Account holder has no active accounts. No change events expected.\n\n\nValidation complete: 5/5 passed\n\nTiming statistics:\n- Average time per account holder: 166.08 seconds\n- Fastest validation: 48.28 seconds\n- Slowest validation: 272.20 seconds\n- Total validation time: 830.39 seconds\n\nResults written to: validation_results_20250515/validation_results_20250515_123151.csv\nValidating 5 account holders:\n- AH_vwy0qtdms\n- AH_6jy8rqpxh\n- AH_nby8e8cng\n- AH_0nyqrhcq0\n- AH_eemgc2exn\nCompleted batch 3/1429\n\nTime to validate AH_seyawedmg: 33.74 seconds\nℹ️ AH_seyawedmg: Account holder has no active accounts. No change events expected.\n\n\nTime to validate AH_3xmhp2eef: 320.19 seconds\n✅ AH_3xmhp2eef: All validations passed\n\n\nValidation complete: 5/5 passed\n\nTiming statistics:\n- Average time per account holder: 167.14 seconds\n- Fastest validation: 44.39 seconds\n- Slowest validation: 320.19 seconds\n- Total validation time: 835.69 seconds\n\nResults written to: validation_results_20250515/validation_results_20250515_123151.csv\nValidating 5 account holders:\n- AH_sayaqzex5\n- AH_6fmgaees8\n- AH_5pmhaqcq8\n- AH_02mar2et8\n- AH_2gmqp7eqn\nCompleted batch 4/1429\n\nTime to validate AH_3fya4ccs0: 47.54 seconds\nℹ️ AH_3fya4ccs0: Account holder has no active accounts. No change events expected.\n\n\nValidation complete: 5/5 passed\n\nTiming statistics:\n- Average time per account holder: 169.44 seconds\n- Fastest validation: 35.99 seconds\n- Slowest validation: 287.78 seconds\n- Total validation time: 847.18 seconds\n\nResults written to: validation_results_20250515/validation_results_20250515_123151.csv\nValidating 5 account holders:\n- AH_k7mgkwd9f\n- AH_fky0bpcq0\n- AH_mxygkzds8\n- AH_sgy0j8dxn\n- AH_bxyar6pt5\nCompleted batch 5/1429\n\nTime to validate AH_87ma9yc4f: 288.46 seconds\n✅ AH_87ma9yc4f: All validations passed\n\n\nTime to validate AH_dzy8ev2h8: 239.02 seconds\n✅ AH_dzy8ev2h8: All validations passed\n\n\nTime to validate AH_f9yhcxccg: 86.38 seconds\nℹ️ AH_f9yhcxccg: Account holder has no active accounts. No change events expected.\n\n\nTime to validate AH_sayaqzex5: 33.40 seconds\nℹ️ AH_sayaqzex5: Account holder has no active accounts. No change events expected.\n\n\nTime to validate AH_09mgpcdh0: 252.59 seconds\n✅ AH_09mgpcdh0: All validations passed\n\n\nTime to validate AH_k7mgkwd9f: 51.23 seconds\nℹ️ AH_k7mgkwd9f: Account holder has no active accounts. No change events expected.\n\n\nTime to validate AH_2qm0xjemn: 90.79 seconds\nℹ️ AH_2qm0xjemn: No other accounts connected to assets\n\n\nValidation complete: 5/5 passed\n\nTiming statistics:\n- Average time per account holder: 180.45 seconds\n- Fastest validation: 39.78 seconds\n- Slowest validation: 290.69 seconds\n- Total validation time: 902.25 seconds\n\nResults written to: validation_results_20250515/validation_results_20250515_123151.csv\nValidating 5 account holders:\n- AH_geya4mpas\n- AH_jzyhpwemh\n- AH_nwy84ncys\n- AH_bky0bc2x0\n- AH_evy0dwde0\nCompleted batch 6/1429\n\nTime to validate AH_06mq1xdqs: 68.98 seconds\nℹ️ AH_06mq1xdqs: Account holder has no active accounts. No change events expected.\n\n\nTime to validate AH_z9m118ct0: 65.84 seconds\nℹ️ AH_z9m118ct0: Account holder has no active accounts. No change events expected.\n\n\nValidation complete: 5/5 passed\n\nTiming statistics:\n- Average time per account holder: 184.85 seconds\n- Fastest validation: 65.84 seconds\n- Slowest validation: 348.44 seconds\n- Total validation time: 924.24 seconds\n\nResults written to: validation_results_20250515/validation_results_20250515_123151.csv\nValidating 5 account holders:\n- AH_5fyprtdnh\n- AH_qempbw2nn\n- AH_acmhbz2ts\n- AH_e8marwe45\n- AH_j9mgp9c60\nCompleted batch 7/1429\n\nTime to validate AH_73ygrh2x0: 175.22 seconds\nℹ️ AH_73ygrh2x0: No other accounts connected to assets\n\n\nTime to validate AH_fwmhcycys: 232.22 seconds\n✅ AH_fwmhcycys: All validations passed\n\n\nValidation complete: 5/5 passed\n\nTiming statistics:\n- Average time per account holder: 189.76 seconds\n- Fastest validation: 53.51 seconds\n- Slowest validation: 276.84 seconds\n- Total validation time: 948.78 seconds\n\nResults written to: validation_results_20250515/validation_results_20250515_123151.csv\nValidating 5 account holders:\n- AH_bfmpqychh\n- AH_2kmgptc4g\n- AH_zgm1b2dj8\n- AH_13yg12dhg\n- AH_qwmgkvcm5\nCompleted batch 8/1429\n\nTime to validate AH_7sya4vdcg: 136.00 seconds\nℹ️ AH_7sya4vdcg: No other accounts connected to assets\n\n\nTime to validate AH_01m8kndq0: 40.28 seconds\nℹ️ AH_01m8kndq0: Account holder has no active accounts. No change events expected.\n\n\nValidation complete: 5/5 passed\n\nTiming statistics:\n- Average time per account holder: 194.88 seconds\n- Fastest validation: 40.28 seconds\n- Slowest validation: 341.36 seconds\n- Total validation time: 974.41 seconds\n\nResults written to: validation_results_20250515/validation_results_20250515_123151.csv\nValidating 5 account holders:\n- AH_2pm8j2d05\n- AH_fayqeddnh\n- AH_eyyhjcdc8\n- AH_bdmaaqesh\n- AH_kmy0kzex0\nCompleted batch 9/1429\n\nTime to validate AH_60mprnc6n: 212.52 seconds\n✅ AH_60mprnc6n: All validations passed\n\n\nValidation complete: 5/5 passed\n\nTiming statistics:\n- Average time per account holder: 195.73 seconds\n- Fastest validation: 47.76 seconds\n- Slowest validation: 260.76 seconds\n- Total validation time: 978.63 seconds\n\nResults written to: validation_results_20250515/validation_results_20250515_123151.csv\nValidating 5 account holders:\n- AH_yyyakmpnf\n- AH_s9yhd5e90\n- AH_3wmpb2cj8\n- AH_n8maafesh\n- AH_g9m1pyey8\nCompleted batch 10/1429\n\nTime to validate AH_60yaw8eq5: 325.18 seconds\n✅ AH_60yaw8eq5: All validations passed\n\n\nTime to validate AH_85maxd2ys: 284.45 seconds\n✅ AH_85maxd2ys: All validations passed\n\n\nValidation complete: 5/5 passed\n\nTiming statistics:\n- Average time per account holder: 199.38 seconds\n- Fastest validation: 57.68 seconds\n- Slowest validation: 307.93 seconds\n- Total validation time: 996.91 seconds\n\nResults written to: validation_results_20250515/validation_results_20250515_123151.csv\nValidating 5 account holders:\n- AH_6hya2w2a0\n- AH_6hmpdd2qs\n- AH_p9mqb22tf\n- AH_axmapnexs\n- AH_zbmhpgeqs\nCompleted batch 11/1429\n\nTime to validate AH_gzyp2ydjs: 190.20 seconds\n✅ AH_gzyp2ydjs: All validations passed\n\n\nValidation complete: 5/5 passed\n\nTiming statistics:\n- Average time per account holder: 201.74 seconds\n- Fastest validation: 46.47 seconds\n- Slowest validation: 271.64 seconds\n- Total validation time: 1008.72 seconds\n\nResults written to: validation_results_20250515/validation_results_20250515_123151.csv\nValidating 5 account holders:\n- AH_6dm1bed00\n- AH_84ygj5ec5\n- AH_00m8wmcj0\n- AH_prygpyesn\n- AH_18mh2peyh\nCompleted batch 12/1429\n\nTime to validate AH_mvm8rpda0: 210.08 seconds\n✅ AH_mvm8rpda0: All validations passed\n\n\nTime to validate AH_f1m1dv2jg: 136.05 seconds\nℹ️ AH_f1m1dv2jg: No other accounts connected to assets\n\n\nValidation complete: 5/5 passed\n\nTiming statistics:\n- Average time per account holder: 206.49 seconds\n- Fastest validation: 136.05 seconds\n- Slowest validation: 252.59 seconds\n- Total validation time: 1032.44 seconds\n\nResults written to: validation_results_20250515/validation_results_20250515_123151.csv\nValidating 5 account holders:\n- AH_s8m1kn2e5\n- AH_vty145cc0\n- AH_8nm8p5dah\n- AH_z5mpbe2y8\n- AH_v1y0wpc68\nCompleted batch 13/1429\n\nTime to validate AH_vwy0qtdms: 205.85 seconds\n✅ AH_vwy0qtdms: All validations passed\n\n\nTime to validate AH_6hya2w2a0: 49.48 seconds\nℹ️ AH_6hya2w2a0: Account holder has no active accounts. No change events expected.\n\n\nTime to validate AH_gpyqa52qh: 236.50 seconds\n✅ AH_gpyqa52qh: All validations passed\n\n\nValidation complete: 5/5 passed\n\nTiming statistics:\n- Average time per account holder: 212.45 seconds\n- Fastest validation: 50.52 seconds\n- Slowest validation: 299.11 seconds\n- Total validation time: 1062.23 seconds\n\nResults written to: validation_results_20250515/validation_results_20250515_123151.csv\nValidating 5 account holders:\n- AH_p1ypbdcnn\n- AH_kay8eeeah\n- AH_bxygeve6s\n- AH_26y09xeq8\n- AH_p5ypc2248\nCompleted batch 14/1429\n\nTime to validate AH_5fyprtdnh: 140.64 seconds\nℹ️ AH_5fyprtdnh: No other accounts connected to assets\n\n\nTime to validate AH_a1y1ea2xf: 234.31 seconds\n✅ AH_a1y1ea2xf: All validations passed\n\n\nValidation complete: 5/5 passed\n\nTiming statistics:\n- Average time per account holder: 213.22 seconds\n- Fastest validation: 33.74 seconds\n- Slowest validation: 300.92 seconds\n- Total validation time: 1066.09 seconds\n\nResults written to: validation_results_20250515/validation_results_20250515_123151.csv\nValidating 5 account holders:\n- AH_zjyqra2cn\n- AH_cym8wrcss\n- AH_0hy8k82yg\n- AH_w2yhc8cjs\n- AH_ckm0wye00\nCompleted batch 15/1429\n\nTime to validate AH_6dm1bed00: 60.13 seconds\nℹ️ AH_6dm1bed00: Account holder has no active accounts. No change events expected.\n\n\nTime to validate AH_ckmpbxecs: 277.06 seconds\n✅ AH_ckmpbxecs: All validations passed\n\n\nValidation complete: 5/5 passed\n\nTiming statistics:\n- Average time per account holder: 214.84 seconds\n- Fastest validation: 27.82 seconds\n- Slowest validation: 298.70 seconds\n- Total validation time: 1074.20 seconds\n\nResults written to: validation_results_20250515/validation_results_20250515_123151.csv\nValidating 5 account holders:\n- AH_x8y142ee5\n- AH_fyygrhcy8\n- AH_2qy84bwag\n- AH_xyygdwesf\n- AH_dpyh92dj8\nCompleted batch 16/1429\n\nTime to validate AH_6fmgaees8: 229.64 seconds\n✅ AH_6fmgaees8: All validations passed\n\n\nTime to validate AH_tzm19ad4g: 278.29 seconds\n✅ AH_tzm19ad4g: All validations passed\n\n\nTime to validate AH_xyy1jv2xf: 128.36 seconds\nℹ️ AH_xyy1jv2xf: No other accounts connected to assets\n\n\nValidation complete: 5/5 passed\n\nTiming statistics:\n- Average time per account holder: 223.40 seconds\n- Fastest validation: 51.56 seconds\n- Slowest validation: 352.48 seconds\n- Total validation time: 1116.99 seconds\n\nResults written to: validation_results_20250515/validation_results_20250515_123151.csv\nValidating 5 account holders:\n- AH_9jmpazeaf\n- AH_aay0epde8\n- AH_beypkp2a5\n- AH_70yqw5cy0\n- AH_11mapscm0\nCompleted batch 17/1429\n\nTime to validate AH_qky01wdsn: 272.92 seconds\n✅ AH_qky01wdsn: All validations passed\n\n\nTime to validate AH_geya4mpas: 223.22 seconds\n✅ AH_geya4mpas: All validations passed\n\n\nTime to validate AH_fky0bpcq0: 269.15 seconds\n✅ AH_fky0bpcq0: All validations passed\n\n\nTime to validate AH_2pm8j2d05: 208.48 seconds\n✅ AH_2pm8j2d05: All validations passed\n\n\nTime to validate AH_1hy1bnexs: 268.23 seconds\n✅ AH_1hy1bnexs: All validations passed\n\n\nValidation complete: 5/5 passed\n\nTiming statistics:\n- Average time per account holder: 237.64 seconds\n- Fastest validation: 68.98 seconds\n- Slowest validation: 327.69 seconds\n- Total validation time: 1188.20 seconds\n\nResults written to: validation_results_20250515/validation_results_20250515_123151.csv\nValidating 5 account holders:\n- AH_2xy8radhf\n- AH_q9mq15d4h\n- AH_50mpbvd0h\n- AH_bwmarz265\n- AH_6fyqjnc6f\nCompleted batch 18/1429\n\nTime to validate AH_sjyp2p2t5: 89.59 seconds\nℹ️ AH_sjyp2p2t5: Account holder has no active accounts. No change events expected.\n\n\nValidation complete: 5/5 passed\n\nTiming statistics:\n- Average time per account holder: 239.36 seconds\n- Fastest validation: 89.59 seconds\n- Slowest validation: 314.92 seconds\n- Total validation time: 1196.79 seconds\n\nResults written to: validation_results_20250515/validation_results_20250515_123151.csv\nValidating 5 account holders:\n- AH_vrypbcdsh\n- AH_mqya48cmf\n- AH_r7m8p2dyh\n- AH_wsyp182t0\n- AH_dgyqjcceg\nCompleted batch 19/1429\n\nTime to validate AH_yyyakmpnf: 239.14 seconds\n✅ AH_yyyakmpnf: All validations passed\n\n\nTime to validate AH_bfmpqychh: 285.42 seconds\n✅ AH_bfmpqychh: All validations passed\n\n\nTime to validate AH_eem1endes: 278.58 seconds\n✅ AH_eem1endes: All validations passed\n\n\nTime to validate AH_6jy8rqpxh: 208.57 seconds\n✅ AH_6jy8rqpxh: All validations passed\n\n\nTime to validate AH_s8m1kn2e5: 224.22 seconds\n✅ AH_s8m1kn2e5: All validations passed\n\n\nTime to validate AH_n9ypcye9s: 252.69 seconds\n✅ AH_n9ypcye9s: All validations passed\n\n\nTime to validate AH_p1ypbdcnn: 236.18 seconds\n✅ AH_p1ypbdcnn: All validations passed\n\n\nTime to validate AH_qempbw2nn: 241.17 seconds\n✅ AH_qempbw2nn: All validations passed\n\n\nTime to validate AH_84ygj5ec5: 237.41 seconds\n✅ AH_84ygj5ec5: All validations passed\n\n\nTime to validate AH_x8y142ee5: 232.43 seconds\n✅ AH_x8y142ee5: All validations passed\n\n\nTime to validate AH_6hmpdd2qs: 268.99 seconds\n✅ AH_6hmpdd2qs: All validations passed\n\n\nTime to validate AH_zjyqra2cn: 261.18 seconds\n✅ AH_zjyqra2cn: All validations passed\n\n\nTime to validate AH_kay8eeeah: 34.68 seconds\nℹ️ AH_kay8eeeah: Account holder has no active accounts. No change events expected.\n\n\nTime to validate AH_00m8wmcj0: 43.60 seconds\nℹ️ AH_00m8wmcj0: Account holder has no active accounts. No change events expected.\n\n\nTime to validate AH_sgyg452c0: 115.29 seconds\nℹ️ AH_sgyg452c0: No other accounts connected to assets\n\n\nTime to validate AH_mxygkzds8: 186.28 seconds\n✅ AH_mxygkzds8: All validations passed\n\n\nTime to validate AH_fayqeddnh: 174.66 seconds\n✅ AH_fayqeddnh: All validations passed\n\n\nTime to validate AH_jzyhpwemh: 240.39 seconds\n✅ AH_jzyhpwemh: All validations passed\n\n\nTime to validate AH_5bmaxdc9h: 246.76 seconds\n✅ AH_5bmaxdc9h: All validations passed\n\n\nValidation complete: 5/5 passed\n\nTiming statistics:\n- Average time per account holder: 273.38 seconds\n- Fastest validation: 246.76 seconds\n- Slowest validation: 299.82 seconds\n- Total validation time: 1366.88 seconds\n\nResults written to: validation_results_20250515/validation_results_20250515_123151.csv\nValidating 5 account holders:\n- AH_ppyqdp20s\n- AH_pzyqjec4f\n- AH_vsy1ate0g\n- AH_2hmq4y2h8\n- AH_1vmq4tdyf\nCompleted batch 20/1429\n\nTime to validate AH_5pmhaqcq8: 273.48 seconds\n✅ AH_5pmhaqcq8: All validations passed\n\n\nTime to validate AH_9jmpazeaf: 262.31 seconds\n✅ AH_9jmpazeaf: All validations passed\n\n\nTime to validate AH_vrypbcdsh: 183.19 seconds\nℹ️ AH_vrypbcdsh: No target account holders with active accounts found\n\n\nTime to validate AH_czm1b2c0f: 39.89 seconds\nℹ️ AH_czm1b2c0f: Account holder has no active accounts. No change events expected.\n\n\nTime to validate AH_ppyqdp20s: 42.55 seconds\nℹ️ AH_ppyqdp20s: Account holder has no active accounts. No change events expected.\n\n\nTime to validate AH_s9yhd5e90: 202.93 seconds\n✅ AH_s9yhd5e90: All validations passed\n\n\nTime to validate AH_2kmgptc4g: 188.46 seconds\nℹ️ AH_2kmgptc4g: No target account holders with active accounts found\n\n\nTime to validate AH_mqya48cmf: 46.38 seconds\nℹ️ AH_mqya48cmf: Account holder has no active accounts. No change events expected.\n\n\nTime to validate AH_bxygeve6s: 102.37 seconds\nℹ️ AH_bxygeve6s: No other accounts connected to assets\n\n\nTime to validate AH_sgy0j8dxn: 88.13 seconds\nℹ️ AH_sgy0j8dxn: No other accounts connected \n\n*** WARNING: max output size exceeded, skipping output. ***\n\nweq8: 40.16 seconds\nℹ️ AH_b8mhqweq8: Account holder has no active accounts. No change events expected.\n\n\nValidation complete: 5/5 passed\n\nTiming statistics:\n- Average time per account holder: 145.09 seconds\n- Fastest validation: 40.16 seconds\n- Slowest validation: 206.82 seconds\n- Total validation time: 725.45 seconds\n\nResults written to: validation_results_20250515/validation_results_20250515_123151.csv\nValidating 5 account holders:\n- AH_r1y19p2h8\n- AH_vhyaeddmh\n- AH_t7yppdc4n\n- AH_pam8kw20s\n- AH_1qmabxe0h\nCompleted batch 1397/1429\n\nTime to validate AH_9tm8rpdeh: 204.59 seconds\n✅ AH_9tm8rpdeh: All validations passed\n\n\nTime to validate AH_y8mhkzc40: 232.08 seconds\n✅ AH_y8mhkzc40: All validations passed\n\n\nTime to validate AH_6vygcv2hh: 186.41 seconds\n✅ AH_6vygcv2hh: All validations passed\n\n\nTime to validate AH_0dma9e2ch: 193.51 seconds\n✅ AH_0dma9e2ch: All validations passed\n\n\nValidation complete: 5/5 passed\n\nTiming statistics:\n- Average time per account holder: 135.15 seconds\n- Fastest validation: 19.15 seconds\n- Slowest validation: 239.97 seconds\n- Total validation time: 675.74 seconds\n\nResults written to: validation_results_20250515/validation_results_20250515_123151.csv\nValidating 5 account holders:\n- AH_06m1x8dq0\n- AH_vqmaqcccn\n- AH_8sypecdns\n- AH_0dmapden8\n- AH_jsy09wexh\nCompleted batch 1398/1429\n\nTime to validate AH_6qmpp0c65: 224.86 seconds\n✅ AH_6qmpp0c65: All validations passed\n\n\nTime to validate AH_45yaktct8: 244.72 seconds\n✅ AH_45yaktct8: All validations passed\n\n\nValidation complete: 5/5 passed\n\nTiming statistics:\n- Average time per account holder: 179.25 seconds\n- Fastest validation: 83.28 seconds\n- Slowest validation: 279.05 seconds\n- Total validation time: 896.23 seconds\n\nResults written to: validation_results_20250515/validation_results_20250515_123151.csv\nValidating 5 account holders:\n- AH_cnmprect0\n- AH_1wm1wrc4h\n- AH_6xmpxncsn\n- AH_g6yq1d2cf\n- AH_zymqwndqn\nCompleted batch 1399/1429\n\nTime to validate AH_1vm19a2sn: 185.29 seconds\n✅ AH_1vm19a2sn: All validations passed\n\n\nValidation complete: 5/5 passed\n\nTiming statistics:\n- Average time per account holder: 185.58 seconds\n- Fastest validation: 148.06 seconds\n- Slowest validation: 216.34 seconds\n- Total validation time: 927.89 seconds\n\nResults written to: validation_results_20250515/validation_results_20250515_123151.csv\nValidating 5 account holders:\n- AH_bempp3cq5\n- AH_h6mared6n\n- AH_h8yakzcjn\n- AH_hsmgx6ej8\n- AH_nqyqkeees\nCompleted batch 1400/1429\n\nTime to validate AH_mfy0ktd4g: 235.02 seconds\n✅ AH_mfy0ktd4g: All validations passed\n\n\nTime to validate AH_wbyhwyemg: 157.34 seconds\nℹ️ AH_wbyhwyemg: No other accounts connected to assets\n\n\nTime to validate AH_zbyqdzdqh: 209.34 seconds\n✅ AH_zbyqdzdqh: All validations passed\n\n\nValidation complete: 5/5 passed\n\nTiming statistics:\n- Average time per account holder: 146.56 seconds\n- Fastest validation: 51.74 seconds\n- Slowest validation: 209.34 seconds\n- Total validation time: 732.78 seconds\n\nResults written to: validation_results_20250515/validation_results_20250515_123151.csv\nValidating 5 account holders:\n- AH_ngy0q2ees\n- AH_chmqpz205\n- AH_tjmp9e2e5\n- AH_1wy0e82a0\n- AH_y5ygq8ce5\nCompleted batch 1401/1429\n\nTime to validate AH_cnmprect0: 27.80 seconds\nℹ️ AH_cnmprect0: Account holder has no active accounts. No change events expected.\n\n\nTime to validate AH_k2mqeee6s: 177.03 seconds\n✅ AH_k2mqeee6s: All validations passed\n\n\nTime to validate AH_fgyh15e9h: 223.50 seconds\n✅ AH_fgyh15e9h: All validations passed\n\n\nTime to validate AH_4jmhqx2t0: 25.13 seconds\nℹ️ AH_4jmhqx2t0: Account holder has no active accounts. No change events expected.\n\n\nTime to validate AH_8kyac8cq0: 247.25 seconds\n✅ AH_8kyac8cq0: All validations passed\n\n\nTime to validate AH_d8yaxw20f: 35.93 seconds\nℹ️ AH_d8yaxw20f: Account holder has no active accounts. No change events expected.\n\n\nTime to validate AH_t8ygcyd40: 230.80 seconds\n✅ AH_t8ygcyd40: All validations passed\n\n\nTime to validate AH_vdya12dch: 232.91 seconds\n✅ AH_vdya12dch: All validations passed\n\n\nTime to validate AH_bqmhbd2a0: 234.39 seconds\n✅ AH_bqmhbd2a0: All validations passed\n\n\nTime to validate AH_ajy84x2q0: 45.96 seconds\nℹ️ AH_ajy84x2q0: Account holder has no active accounts. No change events expected.\n\n\nTime to validate AH_6xyajpee8: 38.31 seconds\nℹ️ AH_6xyajpee8: Account holder has no active accounts. No change events expected.\n\n\nTime to validate AH_a7m8p3c48: 110.37 seconds\nℹ️ AH_a7m8p3c48: No other accounts connected to assets\n\n\nValidation complete: 5/5 passed\n\nTiming statistics:\n- Average time per account holder: 139.08 seconds\n- Fastest validation: 35.51 seconds\n- Slowest validation: 232.08 seconds\n- Total validation time: 695.38 seconds\n\nResults written to: validation_results_20250515/validation_results_20250515_123151.csv\nValidating 5 account holders:\n- AH_98y82y24s\n- AH_fnmhwzc6n\n- AH_z4makwdnf\n- AH_k0m1jhenf\n- AH_hnmqcadnn\nCompleted batch 1402/1429\n\nTime to validate AH_0mygwd2ef: 66.78 seconds\nℹ️ AH_0mygwd2ef: Account holder has no active accounts. No change events expected.\n\n\nTime to validate AH_7cm8epdeh: 203.10 seconds\n✅ AH_7cm8epdeh: All validations passed\n\n\nValidation complete: 5/5 passed\n\nTiming statistics:\n- Average time per account holder: 185.92 seconds\n- Fastest validation: 120.11 seconds\n- Slowest validation: 217.17 seconds\n- Total validation time: 929.58 seconds\n\nResults written to: validation_results_20250515/validation_results_20250515_123151.csv\nValidating 5 account holders:\n- AH_jwyaqzct8\n- AH_aey8xy2h0\n- AH_2dypr829f\n- AH_ramhw7e90\n- AH_r4m1k8ceh\nCompleted batch 1403/1429\n\nTime to validate AH_9yma1z2t5: 232.56 seconds\n✅ AH_9yma1z2t5: All validations passed\n\n\nTime to validate AH_9ky1encah: 245.77 seconds\n✅ AH_9ky1encah: All validations passed\n\n\nTime to validate AH_1wm1wrc4h: 135.76 seconds\nℹ️ AH_1wm1wrc4h: No other accounts connected to assets\n\n\nTime to validate AH_a8yq1xccs: 207.29 seconds\n✅ AH_a8yq1xccs: All validations passed\n\n\nTime to validate AH_jwyaqzct8: 68.04 seconds\nℹ️ AH_jwyaqzct8: Account holder has no active accounts. No change events expected.\n\n\nTime to validate AH_agmgp8djf: 219.33 seconds\n✅ AH_agmgp8djf: All validations passed\n\n\nTime to validate AH_r1y19p2h8: 293.89 seconds\n✅ AH_r1y19p2h8: All validations passed\n\n\nTime to validate AH_06m1x8dq0: 257.23 seconds\n✅ AH_06m1x8dq0: All validations passed\n\n\nTime to validate AH_qhmhafcm0: 170.39 seconds\nℹ️ AH_qhmhafcm0: No other accounts connected to assets\n\n\nTime to validate AH_ngy0q2ees: 249.40 seconds\n✅ AH_ngy0q2ees: All validations passed\n\n\nTime to validate AH_3ryadady8: 244.24 seconds\n✅ AH_3ryadady8: All validations passed\n\n\nTime to validate AH_hem8ce2eg: 293.13 seconds\n✅ AH_hem8ce2eg: All validations passed\n\n\nTime to validate AH_m1mpcd20n: 238.17 seconds\n✅ AH_m1mpcd20n: All validations passed\n\n\nTime to validate AH_bempp3cq5: 296.68 seconds\n✅ AH_bempp3cq5: All validations passed\n\n\nTime to validate AH_mfy8jeeys: 253.43 seconds\n✅ AH_mfy8jeeys: All validations passed\n\n\nTime to validate AH_a8mhq2emg: 288.16 seconds\n✅ AH_a8mhq2emg: All validations passed\n\n\nTime to validate AH_98y82y24s: 264.13 seconds\n✅ AH_98y82y24s: All validations passed\n\n\nTime to validate AH_a8y1dz2ng: 305.92 seconds\n✅ AH_a8y1dz2ng: All validations passed\n\n\nValidation complete: 5/5 passed\n\nTiming statistics:\n- Average time per account holder: 140.67 seconds\n- Fastest validation: 35.93 seconds\n- Slowest validation: 305.92 seconds\n- Total validation time: 703.33 seconds\n\nResults written to: validation_results_20250515/validation_results_20250515_123151.csv\nValidating 5 account holders:\n- AH_r5ygkydyn\n- AH_dtyp9ae9h\n- AH_pey11a24f\n- AH_r7ypd8djn\n- AH_tqy1r52sg\nCompleted batch 1404/1429\n\nTime to validate AH_z5m09tda8: 324.90 seconds\n✅ AH_z5m09tda8: All validations passed\n\n\nTime to validate AH_8gmhqvem0: 322.07 seconds\n✅ AH_8gmhqvem0: All validations passed\n\n\nTime to validate AH_63y84tea5: 317.02 seconds\n✅ AH_63y84tea5: All validations passed\n\n\nTime to validate AH_aey8xy2h0: 266.06 seconds\n✅ AH_aey8xy2h0: All validations passed\n\n\nTime to validate AH_mby0q8dnf: 278.00 seconds\n✅ AH_mby0q8dnf: All validations passed\n\n\nTime to validate AH_6xmpxncsn: 314.25 seconds\n✅ AH_6xmpxncsn: All validations passed\n\n\nTime to validate AH_2dypr829f: 35.31 seconds\nℹ️ AH_2dypr829f: Account holder has no active accounts. No change events expected.\n\n\nTime to validate AH_wvy1qed6h: 361.94 seconds\n✅ AH_wvy1qed6h: All validations passed\n\n\nTime to validate AH_qampp9e08: 207.68 seconds\n✅ AH_qampp9e08: All validations passed\n\n\nTime to validate AH_chmqpz205: 222.58 seconds\n✅ AH_chmqpz205: All validations passed\n\n\nTime to validate AH_5vy19ccag: 235.86 seconds\n✅ AH_5vy19ccag: All validations passed\n\n\nValidation complete: 5/5 passed\n\nTiming statistics:\n- Average time per account holder: 146.64 seconds\n- Fastest validation: 25.13 seconds\n- Slowest validation: 235.86 seconds\n- Total validation time: 733.18 seconds\n\nResults written to: validation_results_20250515/validation_results_20250515_123151.csv\nValidating 5 account holders:\n- AH_5empwce4n\n- AH_hem0p4268\n- AH_nqyq47pe0\n- AH_n5y8ra2y8\n- AH_qzm0wmc60\nCompleted batch 1405/1429\n\nTime to validate AH_r5ygkydyn: 134.89 seconds\nℹ️ AH_r5ygkydyn: No other accounts connected to assets\n\n\nTime to validate AH_x1mpkc2sn: 307.18 seconds\n✅ AH_x1mpkc2sn: All validations passed\n\n\nTime to validate AH_vqmaqcccn: 272.37 seconds\n✅ AH_vqmaqcccn: All validations passed\n\n\nTime to validate AH_kwmhkd20g: 225.63 seconds\nℹ️ AH_kwmhkd20g: No target account holders with active accounts found\n\n\nTime to validate AH_4zmqwzchf: 253.56 seconds\n✅ AH_4zmqwzchf: All validations passed\n\n\nTime to validate AH_6wm1qvd90: 40.40 seconds\nℹ️ AH_6wm1qvd90: Account holder has no active accounts. No change events expected.\n\n\nTime to validate AH_g6yq1d2cf: 54.38 seconds\nℹ️ AH_g6yq1d2cf: Account holder has no active accounts. No change events expected.\n\n\nTime to validate AH_vhyaeddmh: 298.67 seconds\n✅ AH_vhyaeddmh: All validations passed\n\n\nTime to validate AH_v3yq45dxh: 153.50 seconds\nℹ️ AH_v3yq45dxh: No other accounts connected to assets\n\n\nValidation complete: 5/5 passed\n\nTiming statistics:\n- Average time per account holder: 177.91 seconds\n- Fastest validation: 30.75 seconds\n- Slowest validation: 324.90 seconds\n- Total validation time: 889.55 seconds\n\nResults written to: validation_results_20250515/validation_results_20250515_123151.csv\nValidating 5 account holders:\n- AH_r6y09nd6f\n- AH_d6mg4hdm5\n- AH_7amq4vetf\n- AH_6nyhjxdag\n- AH_8nyga2cqh\nCompleted batch 1406/1429\n\nTime to validate AH_sqypjechf: 273.18 seconds\n✅ AH_sqypjechf: All validations passed\n\n\nValidation complete: 5/5 passed\n\nTiming statistics:\n- Average time per account holder: 191.36 seconds\n- Fastest validation: 25.63 seconds\n- Slowest validation: 273.18 seconds\n- Total validation time: 956.82 seconds\n\nResults written to: validation_results_20250515/validation_results_20250515_123151.csv\nValidating 5 account holders:\n- AH_hsygr0pa5\n- AH_9kyq1hd9f\n- AH_28y12ae0s\n- AH_c5yq4ddeh\n- AH_j9ma9hce8\nCompleted batch 1407/1429\n\nTime to validate AH_h6mared6n: 268.51 seconds\n✅ AH_h6mared6n: All validations passed\n\n\nTime to validate AH_p7y0pce9h: 161.66 seconds\nℹ️ AH_p7y0pce9h: No other accounts connected to assets\n\n\nTime to validate AH_ramhw7e90: 144.85 seconds\nℹ️ AH_ramhw7e90: No other accounts connected to assets\n\n\nTime to validate AH_fnmhwzc6n: 311.54 seconds\n✅ AH_fnmhwzc6n: All validations passed\n\n\nTime to validate AH_tzy0rcec5: 334.98 seconds\n✅ AH_tzy0rcec5: All validations passed\n\n\nTime to validate AH_4ty04kpas: 236.99 seconds\n✅ AH_4ty04kpas: All validations passed\n\n\nTime to validate AH_zymqwndqn: 156.90 seconds\n✅ AH_zymqwndqn: All validations passed\n\n\nValidation complete: 5/5 passed\n\nTiming statistics:\n- Average time per account holder: 137.82 seconds\n- Fastest validation: 27.80 seconds\n- Slowest validation: 314.25 seconds\n- Total validation time: 689.08 seconds\n\nResults written to: validation_results_20250515/validation_results_20250515_123151.csv\nValidating 5 account holders:\n- AH_rky0dh2sh\n- AH_nwm1482tg\n- AH_cdy02zd0h\n- AH_sqy1xx2sg\n- AH_76yheyd0n\nCompleted batch 1408/1429\n\nTime to validate AH_r4m1k8ceh: 70.55 seconds\nℹ️ AH_r4m1k8ceh: Account holder has no active accounts. No change events expected.\n\n\nValidation complete: 5/5 passed\n\nTiming statistics:\n- Average time per account holder: 116.96 seconds\n- Fastest validation: 35.31 seconds\n- Slowest validation: 266.06 seconds\n- Total validation time: 584.81 seconds\n\nResults written to: validation_results_20250515/validation_results_20250515_123151.csv\nValidating 1 account holders:\n- AH_5my0r8dx8\nCompleted batch 1409/1429\n\nTime to validate AH_kwmhc2exg: 295.72 seconds\n✅ AH_kwmhc2exg: All validations passed\n\n\nTime to validate AH_s0yh4adcg: 167.25 seconds\nℹ️ AH_s0yh4adcg: No other accounts connected to assets\n\n\nTime to validate AH_5empwce4n: 199.28 seconds\n✅ AH_5empwce4n: All validations passed\n\n\nTime to validate AH_z4makwdnf: 37.97 seconds\nℹ️ AH_z4makwdnf: Account holder has no active accounts. No change events expected.\n\n\nTime to validate AH_mny8ew2tf: 218.75 seconds\n✅ AH_mny8ew2tf: All validations passed\n\n\nValidation complete: 5/5 passed\n\nTiming statistics:\n- Average time per account holder: 211.40 seconds\n- Fastest validation: 151.04 seconds\n- Slowest validation: 293.13 seconds\n- Total validation time: 1057.00 seconds\n\nResults written to: validation_results_20250515/validation_results_20250515_123151.csv\nCompleted batch 1410/1429\n\nTime to validate AH_mzmqqn2cn: 187.28 seconds\n✅ AH_mzmqqn2cn: All validations passed\n\n\nValidation complete: 5/5 passed\n\nTiming statistics:\n- Average time per account holder: 216.37 seconds\n- Fastest validation: 143.18 seconds\n- Slowest validation: 307.18 seconds\n- Total validation time: 1081.83 seconds\n\nResults written to: validation_results_20250515/validation_results_20250515_123151.csv\nCompleted batch 1411/1429\n\nTime to validate AH_5eyhk5dah: 186.26 seconds\n✅ AH_5eyhk5dah: All validations passed\n\n\nValidation complete: 5/5 passed\n\nTiming statistics:\n- Average time per account holder: 211.86 seconds\n- Fastest validation: 177.03 seconds\n- Slowest validation: 253.56 seconds\n- Total validation time: 1059.28 seconds\n\nResults written to: validation_results_20250515/validation_results_20250515_123151.csv\nCompleted batch 1412/1429\n\nTime to validate AH_tjmp9e2e5: 221.97 seconds\n✅ AH_tjmp9e2e5: All validations passed\n\n\nTime to validate AH_8sypecdns: 200.27 seconds\n✅ AH_8sypecdns: All validations passed\n\n\nTime to validate AH_dtyp9ae9h: 209.68 seconds\n✅ AH_dtyp9ae9h: All validations passed\n\n\nTime to validate AH_dkmq2v2hh: 39.21 seconds\nℹ️ AH_dkmq2v2hh: Account holder has no active accounts. No change events expected.\n\n\nValidation complete: 5/5 passed\n\nTiming statistics:\n- Average time per account holder: 185.29 seconds\n- Fastest validation: 39.21 seconds\n- Slowest validation: 322.07 seconds\n- Total validation time: 926.47 seconds\n\nResults written to: validation_results_20250515/validation_results_20250515_123151.csv\nCompleted batch 1413/1429\n\nTime to validate AH_1wy0e82a0: 30.90 seconds\nℹ️ AH_1wy0e82a0: Account holder has no active accounts. No change events expected.\n\n\nTime to validate AH_t5y1xyehh: 225.07 seconds\n✅ AH_t5y1xyehh: All validations passed\n\n\nValidation complete: 5/5 passed\n\nTiming statistics:\n- Average time per account holder: 214.88 seconds\n- Fastest validation: 137.39 seconds\n- Slowest validation: 253.43 seconds\n- Total validation time: 1074.42 seconds\n\nResults written to: validation_results_20250515/validation_results_20250515_123151.csv\nCompleted batch 1414/1429\n\nTime to validate AH_pey11a24f: 51.01 seconds\nℹ️ AH_pey11a24f: Account holder has no active accounts. No change events expected.\n\n\nTime to validate AH_t7yppdc4n: 248.55 seconds\n✅ AH_t7yppdc4n: All validations passed\n\n\nTime to validate AH_5my0r8dx8: 106.69 seconds\nℹ️ AH_5my0r8dx8: No other accounts connected to assets\n\n\nValidation complete: 1/1 passed\n\nTiming statistics:\n- Average time per account holder: 106.69 seconds\n- Fastest validation: 106.69 seconds\n- Slowest validation: 106.69 seconds\n- Total validation time: 106.69 seconds\n\nResults written to: validation_results_20250515/validation_results_20250515_123151.csv\nCompleted batch 1415/1429\n\nTime to validate AH_89yabae9h: 209.03 seconds\n✅ AH_89yabae9h: All validations passed\n\n\nTime to validate AH_h8yakzcjn: 239.59 seconds\n✅ AH_h8yakzcjn: All validations passed\n\n\nTime to validate AH_r6y09nd6f: 261.84 seconds\n✅ AH_r6y09nd6f: All validations passed\n\n\nTime to validate AH_pam8kw20s: 30.03 seconds\nℹ️ AH_pam8kw20s: Account holder has no active accounts. No change events expected.\n\n\nTime to validate AH_hsygr0pa5: 260.53 seconds\n✅ AH_hsygr0pa5: All validations passed\n\n\nTime to validate AH_r7ypd8djn: 39.01 seconds\nℹ️ AH_r7ypd8djn: Account holder has no active accounts. No change events expected.\n\n\nTime to validate AH_gjmq9cd9g: 144.26 seconds\n✅ AH_gjmq9cd9g: All validations passed\n\n\nValidation complete: 5/5 passed\n\nTiming statistics:\n- Average time per account holder: 214.23 seconds\n- Fastest validation: 144.26 seconds\n- Slowest validation: 278.00 seconds\n- Total validation time: 1071.13 seconds\n\nResults written to: validation_results_20250515/validation_results_20250515_123151.csv\nCompleted batch 1416/1429\n\nTime to validate AH_1gmpwwd4f: 163.74 seconds\n✅ AH_1gmpwwd4f: All validations passed\n\n\nTime to validate AH_hsmgx6ej8: 25.93 seconds\nℹ️ AH_hsmgx6ej8: Account holder has no active accounts. No change events expected.\n\n\nTime to validate AH_mkmhczdn8: 37.42 seconds\nℹ️ AH_mkmhczdn8: Account holder has no active accounts. No change events expected.\n\n\nValidation complete: 5/5 passed\n\nTiming statistics:\n- Average time per account holder: 191.54 seconds\n- Fastest validation: 37.42 seconds\n- Slowest validation: 317.02 seconds\n- Total validation time: 957.68 seconds\n\nResults written to: validation_results_20250515/validation_results_20250515_123151.csv\nCompleted batch 1417/1429\n\nTime to validate AH_1qmabxe0h: 24.74 seconds\nℹ️ AH_1qmabxe0h: Account holder has no active accounts. No change events expected.\n\n\nValidation complete: 5/5 passed\n\nTiming statistics:\n- Average time per account holder: 179.18 seconds\n- Fastest validation: 24.74 seconds\n- Slowest validation: 298.67 seconds\n- Total validation time: 895.88 seconds\n\nResults written to: validation_results_20250515/validation_results_20250515_123151.csv\nCompleted batch 1418/1429\n\nTime to validate AH_tqy1r52sg: 37.98 seconds\nℹ️ AH_tqy1r52sg: Account holder has no active accounts. No change events expected.\n\n\nValidation complete: 5/5 passed\n\nTiming statistics:\n- Average time per account holder: 94.51 seconds\n- Fastest validation: 37.98 seconds\n- Slowest validation: 209.68 seconds\n- Total validation time: 472.57 seconds\n\nResults written to: validation_results_20250515/validation_results_20250515_123151.csv\nCompleted batch 1419/1429\n\nTime to validate AH_hem0p4268: 162.80 seconds\n✅ AH_hem0p4268: All validations passed\n\n\nTime to validate AH_k0m1jhenf: 173.01 seconds\n✅ AH_k0m1jhenf: All validations passed\n\n\nTime to validate AH_rky0dh2sh: 211.62 seconds\n✅ AH_rky0dh2sh: All validations passed\n\n\nTime to validate AH_x9mqbve05: 206.35 seconds\n✅ AH_x9mqbve05: All validations passed\n\n\nValidation complete: 5/5 passed\n\nTiming statistics:\n- Average time per account holder: 204.34 seconds\n- Fastest validation: 40.40 seconds\n- Slowest validation: 361.94 seconds\n- Total validation time: 1021.71 seconds\n\nResults written to: validation_results_20250515/validation_results_20250515_123151.csv\nCompleted batch 1420/1429\n\nTime to validate AH_hnmqcadnn: 35.58 seconds\nℹ️ AH_hnmqcadnn: Account holder has no active accounts. No change events expected.\n\n\nValidation complete: 5/5 passed\n\nTiming statistics:\n- Average time per account holder: 164.45 seconds\n- Fastest validation: 35.58 seconds\n- Slowest validation: 311.54 seconds\n- Total validation time: 822.23 seconds\n\nResults written to: validation_results_20250515/validation_results_20250515_123151.csv\nCompleted batch 1421/1429\n\nTime to validate AH_y5ygq8ce5: 186.86 seconds\n✅ AH_y5ygq8ce5: All validations passed\n\n\nValidation complete: 5/5 passed\n\nTiming statistics:\n- Average time per account holder: 182.34 seconds\n- Fastest validation: 30.90 seconds\n- Slowest validation: 249.40 seconds\n- Total validation time: 911.71 seconds\n\nResults written to: validation_results_20250515/validation_results_20250515_123151.csv\nCompleted batch 1422/1429\n\nTime to validate AH_nwm1482tg: 47.24 seconds\nℹ️ AH_nwm1482tg: Account holder has no active accounts. No change events expected.\n\n\nTime to validate AH_d6mg4hdm5: 141.86 seconds\n✅ AH_d6mg4hdm5: All validations passed\n\n\nTime to validate AH_0dmapden8: 235.66 seconds\n✅ AH_0dmapden8: All validations passed\n\n\nTime to validate AH_cdy02zd0h: 34.51 seconds\nℹ️ AH_cdy02zd0h: Account holder has no active accounts. No change events expected.\n\n\nTime to validate AH_9kyq1hd9f: 165.46 seconds\n✅ AH_9kyq1hd9f: All validations passed\n\n\nTime to validate AH_qfyqjn2ah: 157.24 seconds\n✅ AH_qfyqjn2ah: All validations passed\n\n\nValidation complete: 5/5 passed\n\nTiming statistics:\n- Average time per account holder: 238.28 seconds\n- Fastest validation: 157.24 seconds\n- Slowest validation: 334.98 seconds\n- Total validation time: 1191.38 seconds\n\nResults written to: validation_results_20250515/validation_results_20250515_123151.csv\nCompleted batch 1423/1429\n\nTime to validate AH_nqyqkeees: 167.60 seconds\n✅ AH_nqyqkeees: All validations passed\n\n\nValidation complete: 5/5 passed\n\nTiming statistics:\n- Average time per account holder: 199.66 seconds\n- Fastest validation: 25.93 seconds\n- Slowest validation: 296.68 seconds\n- Total validation time: 998.30 seconds\n\nResults written to: validation_results_20250515/validation_results_20250515_123151.csv\nCompleted batch 1424/1429\n\nTime to validate AH_nqyq47pe0: 206.42 seconds\n✅ AH_nqyq47pe0: All validations passed\n\n\nTime to validate AH_sqy1xx2sg: 144.36 seconds\n✅ AH_sqy1xx2sg: All validations passed\n\n\nTime to validate AH_7amq4vetf: 176.74 seconds\n✅ AH_7amq4vetf: All validations passed\n\n\nTime to validate AH_28y12ae0s: 181.19 seconds\n✅ AH_28y12ae0s: All validations passed\n\n\nTime to validate AH_jsy09wexh: 228.25 seconds\n✅ AH_jsy09wexh: All validations passed\n\n\nValidation complete: 5/5 passed\n\nTiming statistics:\n- Average time per account holder: 238.76 seconds\n- Fastest validation: 200.27 seconds\n- Slowest validation: 272.37 seconds\n- Total validation time: 1193.79 seconds\n\nResults written to: validation_results_20250515/validation_results_20250515_123151.csv\nCompleted batch 1425/1429\n\nTime to validate AH_n5y8ra2y8: 173.89 seconds\n✅ AH_n5y8ra2y8: All validations passed\n\n\nTime to validate AH_76yheyd0n: 137.48 seconds\n✅ AH_76yheyd0n: All validations passed\n\n\nValidation complete: 5/5 passed\n\nTiming statistics:\n- Average time per account holder: 115.04 seconds\n- Fastest validation: 34.51 seconds\n- Slowest validation: 211.62 seconds\n- Total validation time: 575.21 seconds\n\nResults written to: validation_results_20250515/validation_results_20250515_123151.csv\nCompleted batch 1426/1429\n\nTime to validate AH_6nyhjxdag: 198.75 seconds\n✅ AH_6nyhjxdag: All validations passed\n\n\nTime to validate AH_c5yq4ddeh: 166.79 seconds\n✅ AH_c5yq4ddeh: All validations passed\n\n\nTime to validate AH_qzm0wmc60: 101.92 seconds\nℹ️ AH_qzm0wmc60: No other accounts connected to assets\n\n\nValidation complete: 5/5 passed\n\nTiming statistics:\n- Average time per account holder: 168.86 seconds\n- Fastest validation: 101.92 seconds\n- Slowest validation: 206.42 seconds\n- Total validation time: 844.31 seconds\n\nResults written to: validation_results_20250515/validation_results_20250515_123151.csv\nCompleted batch 1427/1429\n\nTime to validate AH_j9ma9hce8: 190.44 seconds\n❌ AH_j9ma9hce8: Validation failed\n\nUnexpected events (13):\n  - E/AH_22m0rt2y5/AH_j9ma9hce8/CASH_DEVICE\n  - E/AH_22m0rt2y5/AH_j9ma9hce8/CASH_OPAQUE_APP_TOKEN\n  - E/AH_fbmgpqe4f/AH_j9ma9hce8/CASH_DEVICE\n  - E/AH_fbmgpqe4f/AH_j9ma9hce8/CASH_OPAQUE_APP_TOKEN\n  - E/AH_j9ma9hce8/AH_kqmgjv2x5/CASH_BACKUP_TAG\n  - E/AH_j9ma9hce8/AH_kqmgjv2x5/CASH_DEVICE\n  - E/AH_j9ma9hce8/AH_kqmgjv2x5/CASH_OPAQUE_APP_TOKEN\n  - E/AH_j9ma9hce8/AH_m0m0kxcyg/CASH_BACKUP_TAG\n  - E/AH_j9ma9hce8/AH_m0m0kxcyg/CASH_DEVICE\n  - E/AH_j9ma9hce8/AH_m0m0kxcyg/CASH_OPAQUE_APP_TOKEN\n  - E/AH_j9ma9hce8/AH_q8m81tcen/CASH_BACKUP_TAG\n  - E/AH_j9ma9hce8/AH_q8m81tcen/CASH_DEVICE\n  - E/AH_j9ma9hce8/AH_q8m81tcen/CASH_OPAQUE_APP_TOKEN\n\n\nValidation complete: 4/5 passed\n\nTiming statistics:\n- Average time per account holder: 192.88 seconds\n- Fastest validation: 165.46 seconds\n- Slowest validation: 260.53 seconds\n- Total validation time: 964.41 seconds\n\nResults written to: validation_results_20250515/validation_results_20250515_123151.csv\nCompleted batch 1428/1429\n\nTime to validate AH_8nyga2cqh: 196.14 seconds\n✅ AH_8nyga2cqh: All validations passed\n\n\nValidation complete: 5/5 passed\n\nTiming statistics:\n- Average time per account holder: 195.07 seconds\n- Fastest validation: 141.86 seconds\n- Slowest validation: 261.84 seconds\n- Total validation time: 975.33 seconds\n\nResults written to: validation_results_20250515/validation_results_20250515_123151.csv\nCompleted batch 1429/1429\n"
     ]
    }
   ],
   "source": [
    "# File containing the list of backfilled account holder tokens\n",
    "backfilled_acc_holders_csv = 'account_holders_20250509_071901.csv'\n",
    "\n",
    "# Read the account holder tokens\n",
    "account_holders_df = pd.read_csv(backfilled_acc_holders_csv)\n",
    "account_holders_to_validate = account_holders_df['ACCOUNT_HOLDER_TOKEN'].tolist()\n",
    "\n",
    "# Run validation in parallel batches\n",
    "validate_account_holders_batch(\n",
    "    account_holders=account_holders_to_validate,\n",
    "    effective_at='2025-05-12 06:24:24.000000', \n",
    "    ccgce_table='cash_banking_ml_eng.cash_connected_graph_change_event.edgy_test_20250512',\n",
    "    output_dir='validation_results_20250515',\n",
    "    batch_size=5,  # Process 5 account holders per batch\n",
    "    max_workers=20  # Run 20 batches in parallel\n",
    ")"
   ]
  },
  {
   "cell_type": "code",
   "execution_count": 0,
   "metadata": {
    "application/vnd.databricks.v1+cell": {
     "cellMetadata": {
      "byteLimit": 2048000,
      "rowLimit": 10000
     },
     "collapsed": true,
     "inputWidgets": {},
     "nuid": "8f415de3-305e-4f5c-8cd0-ab07b3c90adc",
     "showTitle": false,
     "tableResultSettingsMap": {},
     "title": ""
    }
   },
   "outputs": [
    {
     "output_type": "stream",
     "name": "stdout",
     "output_type": "stream",
     "text": [
      "Validating 5 account holders:\n- AH_jdyqqvemg\n- AH_gbyq2n2t0\n- AH_pzy8bcc6f\n- AH_dvm895can\n- AH_gpyqa52qh\n\nStarting validation...\n\n\nTime to validate AH_jdyqqvemg: 118.05 seconds\n✅ AH_jdyqqvemg: All validations passed\n\n\nTime to validate AH_gbyq2n2t0: 84.77 seconds\n✅ AH_gbyq2n2t0: All validations passed\n\n\nTime to validate AH_pzy8bcc6f: 11.62 seconds\nℹ️ AH_pzy8bcc6f: Account holder has no active accounts. No change events expected.\n\n\nTime to validate AH_dvm895can: 66.48 seconds\n✅ AH_dvm895can: All validations passed\n\n\nTime to validate AH_gpyqa52qh: 76.41 seconds\n✅ AH_gpyqa52qh: All validations passed\n\n\nValidation complete: 5/5 passed\n\nTiming statistics:\n- Average time per account holder: 71.47 seconds\n- Fastest validation: 11.62 seconds\n- Slowest validation: 118.05 seconds\n- Total validation time: 357.33 seconds\n\nResults written to: ./validation_results_20250509_072423.csv\n"
     ]
    }
   ],
   "source": [
    "# Cell for manually validating a selection of account holders with no parallel processing\n",
    "\n",
    "# Validate backfilled account holders from backfill inputs\n",
    "account_holders_df = pd.read_csv(backfilled_acc_holders_csv)\n",
    "account_holders_to_validate = account_holders_df['ACCOUNT_HOLDER_TOKEN'].head(5).tolist()\n",
    "\n",
    "# Run validation\n",
    "results = validate_account_holders(\n",
    "    account_holders=account_holders_to_validate,\n",
    "    effective_at='2025-04-17 06:05:05.000000',\n",
    "    ccgce_table='cash_banking_ml_eng.cash_connected_graph_change_event.edgy_test',\n",
    "    #output_dir='validation_results'\n",
    ")"
   ]
  },
  {
   "cell_type": "markdown",
   "metadata": {
    "application/vnd.databricks.v1+cell": {
     "cellMetadata": {},
     "inputWidgets": {},
     "nuid": "eb9f0528-4d15-402b-85f8-43ef1bb7f48c",
     "showTitle": false,
     "tableResultSettingsMap": {},
     "title": ""
    }
   },
   "source": [
    "## Validation Result Analysis"
   ]
  },
  {
   "cell_type": "code",
   "execution_count": 0,
   "metadata": {
    "application/vnd.databricks.v1+cell": {
     "cellMetadata": {
      "byteLimit": 2048000,
      "rowLimit": 10000
     },
     "inputWidgets": {},
     "nuid": "b010fdcc-bd1a-472e-92fe-2e2736a38205",
     "showTitle": false,
     "tableResultSettingsMap": {},
     "title": ""
    }
   },
   "outputs": [
    {
     "output_type": "display_data",
     "data": {
      "text/html": [
       "<div>\n",
       "<style scoped>\n",
       "    .dataframe tbody tr th:only-of-type {\n",
       "        vertical-align: middle;\n",
       "    }\n",
       "\n",
       "    .dataframe tbody tr th {\n",
       "        vertical-align: top;\n",
       "    }\n",
       "\n",
       "    .dataframe thead th {\n",
       "        text-align: right;\n",
       "    }\n",
       "</style>\n",
       "<table border=\"1\" class=\"dataframe\">\n",
       "  <thead>\n",
       "    <tr style=\"text-align: right;\">\n",
       "      <th></th>\n",
       "      <th>account_holder_token</th>\n",
       "      <th>validation_success</th>\n",
       "      <th>validation_status</th>\n",
       "      <th>missing_events</th>\n",
       "      <th>unexpected_events</th>\n",
       "      <th>label_errors</th>\n",
       "      <th>timestamp_errors</th>\n",
       "    </tr>\n",
       "  </thead>\n",
       "  <tbody>\n",
       "    <tr>\n",
       "      <th>0</th>\n",
       "      <td>AH_gbm01dejs</td>\n",
       "      <td>True</td>\n",
       "      <td>Account holder has no active accounts. No chan...</td>\n",
       "      <td>NaN</td>\n",
       "      <td>NaN</td>\n",
       "      <td>NaN</td>\n",
       "      <td>NaN</td>\n",
       "    </tr>\n",
       "    <tr>\n",
       "      <th>1</th>\n",
       "      <td>AH_2emha8cxn</td>\n",
       "      <td>True</td>\n",
       "      <td>Account holder has no active accounts. No chan...</td>\n",
       "      <td>NaN</td>\n",
       "      <td>NaN</td>\n",
       "      <td>NaN</td>\n",
       "      <td>NaN</td>\n",
       "    </tr>\n",
       "    <tr>\n",
       "      <th>2</th>\n",
       "      <td>AH_kamgcxctg</td>\n",
       "      <td>True</td>\n",
       "      <td>Account holder has no active accounts. No chan...</td>\n",
       "      <td>NaN</td>\n",
       "      <td>NaN</td>\n",
       "      <td>NaN</td>\n",
       "      <td>NaN</td>\n",
       "    </tr>\n",
       "    <tr>\n",
       "      <th>3</th>\n",
       "      <td>AH_s9m0rhctn</td>\n",
       "      <td>True</td>\n",
       "      <td>Account holder has no active accounts. No chan...</td>\n",
       "      <td>NaN</td>\n",
       "      <td>NaN</td>\n",
       "      <td>NaN</td>\n",
       "      <td>NaN</td>\n",
       "    </tr>\n",
       "    <tr>\n",
       "      <th>4</th>\n",
       "      <td>AH_rqmprp2n8</td>\n",
       "      <td>True</td>\n",
       "      <td>Account holder has no active accounts. No chan...</td>\n",
       "      <td>NaN</td>\n",
       "      <td>NaN</td>\n",
       "      <td>NaN</td>\n",
       "      <td>NaN</td>\n",
       "    </tr>\n",
       "    <tr>\n",
       "      <th>...</th>\n",
       "      <td>...</td>\n",
       "      <td>...</td>\n",
       "      <td>...</td>\n",
       "      <td>...</td>\n",
       "      <td>...</td>\n",
       "      <td>...</td>\n",
       "      <td>...</td>\n",
       "    </tr>\n",
       "    <tr>\n",
       "      <th>7136</th>\n",
       "      <td>AH_6nyhjxdag</td>\n",
       "      <td>True</td>\n",
       "      <td>PASS</td>\n",
       "      <td>NaN</td>\n",
       "      <td>NaN</td>\n",
       "      <td>NaN</td>\n",
       "      <td>NaN</td>\n",
       "    </tr>\n",
       "    <tr>\n",
       "      <th>7137</th>\n",
       "      <td>AH_c5yq4ddeh</td>\n",
       "      <td>True</td>\n",
       "      <td>PASS</td>\n",
       "      <td>NaN</td>\n",
       "      <td>NaN</td>\n",
       "      <td>NaN</td>\n",
       "      <td>NaN</td>\n",
       "    </tr>\n",
       "    <tr>\n",
       "      <th>7138</th>\n",
       "      <td>AH_qzm0wmc60</td>\n",
       "      <td>True</td>\n",
       "      <td>No other accounts connected to assets</td>\n",
       "      <td>NaN</td>\n",
       "      <td>NaN</td>\n",
       "      <td>NaN</td>\n",
       "      <td>NaN</td>\n",
       "    </tr>\n",
       "    <tr>\n",
       "      <th>7139</th>\n",
       "      <td>AH_j9ma9hce8</td>\n",
       "      <td>False</td>\n",
       "      <td>FAIL</td>\n",
       "      <td>NaN</td>\n",
       "      <td>E/AH_22m0rt2y5/AH_j9ma9hce8/CASH_DEVICE|E/AH_2...</td>\n",
       "      <td>NaN</td>\n",
       "      <td>NaN</td>\n",
       "    </tr>\n",
       "    <tr>\n",
       "      <th>7140</th>\n",
       "      <td>AH_8nyga2cqh</td>\n",
       "      <td>True</td>\n",
       "      <td>PASS</td>\n",
       "      <td>NaN</td>\n",
       "      <td>NaN</td>\n",
       "      <td>NaN</td>\n",
       "      <td>NaN</td>\n",
       "    </tr>\n",
       "  </tbody>\n",
       "</table>\n",
       "<p>7141 rows × 7 columns</p>\n",
       "</div>"
      ]
     },
     "metadata": {
      "application/vnd.databricks.v1+output": {
       "addedWidgets": {},
       "arguments": {},
       "data": "<div>\n<style scoped>\n    .dataframe tbody tr th:only-of-type {\n        vertical-align: middle;\n    }\n\n    .dataframe tbody tr th {\n        vertical-align: top;\n    }\n\n    .dataframe thead th {\n        text-align: right;\n    }\n</style>\n<table border=\"1\" class=\"dataframe\">\n  <thead>\n    <tr style=\"text-align: right;\">\n      <th></th>\n      <th>account_holder_token</th>\n      <th>validation_success</th>\n      <th>validation_status</th>\n      <th>missing_events</th>\n      <th>unexpected_events</th>\n      <th>label_errors</th>\n      <th>timestamp_errors</th>\n    </tr>\n  </thead>\n  <tbody>\n    <tr>\n      <th>0</th>\n      <td>AH_gbm01dejs</td>\n      <td>True</td>\n      <td>Account holder has no active accounts. No chan...</td>\n      <td>NaN</td>\n      <td>NaN</td>\n      <td>NaN</td>\n      <td>NaN</td>\n    </tr>\n    <tr>\n      <th>1</th>\n      <td>AH_2emha8cxn</td>\n      <td>True</td>\n      <td>Account holder has no active accounts. No chan...</td>\n      <td>NaN</td>\n      <td>NaN</td>\n      <td>NaN</td>\n      <td>NaN</td>\n    </tr>\n    <tr>\n      <th>2</th>\n      <td>AH_kamgcxctg</td>\n      <td>True</td>\n      <td>Account holder has no active accounts. No chan...</td>\n      <td>NaN</td>\n      <td>NaN</td>\n      <td>NaN</td>\n      <td>NaN</td>\n    </tr>\n    <tr>\n      <th>3</th>\n      <td>AH_s9m0rhctn</td>\n      <td>True</td>\n      <td>Account holder has no active accounts. No chan...</td>\n      <td>NaN</td>\n      <td>NaN</td>\n      <td>NaN</td>\n      <td>NaN</td>\n    </tr>\n    <tr>\n      <th>4</th>\n      <td>AH_rqmprp2n8</td>\n      <td>True</td>\n      <td>Account holder has no active accounts. No chan...</td>\n      <td>NaN</td>\n      <td>NaN</td>\n      <td>NaN</td>\n      <td>NaN</td>\n    </tr>\n    <tr>\n      <th>...</th>\n      <td>...</td>\n      <td>...</td>\n      <td>...</td>\n      <td>...</td>\n      <td>...</td>\n      <td>...</td>\n      <td>...</td>\n    </tr>\n    <tr>\n      <th>7136</th>\n      <td>AH_6nyhjxdag</td>\n      <td>True</td>\n      <td>PASS</td>\n      <td>NaN</td>\n      <td>NaN</td>\n      <td>NaN</td>\n      <td>NaN</td>\n    </tr>\n    <tr>\n      <th>7137</th>\n      <td>AH_c5yq4ddeh</td>\n      <td>True</td>\n      <td>PASS</td>\n      <td>NaN</td>\n      <td>NaN</td>\n      <td>NaN</td>\n      <td>NaN</td>\n    </tr>\n    <tr>\n      <th>7138</th>\n      <td>AH_qzm0wmc60</td>\n      <td>True</td>\n      <td>No other accounts connected to assets</td>\n      <td>NaN</td>\n      <td>NaN</td>\n      <td>NaN</td>\n      <td>NaN</td>\n    </tr>\n    <tr>\n      <th>7139</th>\n      <td>AH_j9ma9hce8</td>\n      <td>False</td>\n      <td>FAIL</td>\n      <td>NaN</td>\n      <td>E/AH_22m0rt2y5/AH_j9ma9hce8/CASH_DEVICE|E/AH_2...</td>\n      <td>NaN</td>\n      <td>NaN</td>\n    </tr>\n    <tr>\n      <th>7140</th>\n      <td>AH_8nyga2cqh</td>\n      <td>True</td>\n      <td>PASS</td>\n      <td>NaN</td>\n      <td>NaN</td>\n      <td>NaN</td>\n      <td>NaN</td>\n    </tr>\n  </tbody>\n</table>\n<p>7141 rows × 7 columns</p>\n</div>",
       "datasetInfos": [],
       "metadata": {},
       "removedWidgets": [],
       "textData": null,
       "type": "htmlSandbox"
      }
     },
     "output_type": "display_data"
    }
   ],
   "source": [
    "# load file containing the validation results\n",
    "validation_df = pd.read_csv('validation_results_20250515/validation_results_20250515_123151.csv')\n",
    "validation_df"
   ]
  },
  {
   "cell_type": "code",
   "execution_count": 0,
   "metadata": {
    "application/vnd.databricks.v1+cell": {
     "cellMetadata": {
      "byteLimit": 2048000,
      "rowLimit": 10000
     },
     "inputWidgets": {},
     "nuid": "8dfccc3f-a096-4085-9cf9-e7158d19946f",
     "showTitle": false,
     "tableResultSettingsMap": {},
     "title": ""
    }
   },
   "outputs": [
    {
     "output_type": "display_data",
     "data": {
      "text/html": [
       "<div>\n",
       "<style scoped>\n",
       "    .dataframe tbody tr th:only-of-type {\n",
       "        vertical-align: middle;\n",
       "    }\n",
       "\n",
       "    .dataframe tbody tr th {\n",
       "        vertical-align: top;\n",
       "    }\n",
       "\n",
       "    .dataframe thead th {\n",
       "        text-align: right;\n",
       "    }\n",
       "</style>\n",
       "<table border=\"1\" class=\"dataframe\">\n",
       "  <thead>\n",
       "    <tr style=\"text-align: right;\">\n",
       "      <th></th>\n",
       "      <th>account_holder_token</th>\n",
       "      <th>missing_events</th>\n",
       "      <th>unexpected_events</th>\n",
       "      <th>label_errors</th>\n",
       "      <th>timestamp_errors</th>\n",
       "    </tr>\n",
       "  </thead>\n",
       "  <tbody>\n",
       "    <tr>\n",
       "      <th>250</th>\n",
       "      <td>AH_4pypjpe05</td>\n",
       "      <td>NaN</td>\n",
       "      <td>E/AH_4pypjpe05/AH_6cy1q82nf/CASH_BACKUP_TAG|E/...</td>\n",
       "      <td>NaN</td>\n",
       "      <td>NaN</td>\n",
       "    </tr>\n",
       "    <tr>\n",
       "      <th>432</th>\n",
       "      <td>AH_prmgbv2ts</td>\n",
       "      <td>NaN</td>\n",
       "      <td>NaN</td>\n",
       "      <td>NaN</td>\n",
       "      <td>Timestamp mismatch for event E/AH_bbm0cnccg/AH...</td>\n",
       "    </tr>\n",
       "    <tr>\n",
       "      <th>680</th>\n",
       "      <td>AH_0rmgxxcag</td>\n",
       "      <td>NaN</td>\n",
       "      <td>E/AH_0dmg42deh/AH_0rmgxxcag/CASH_BACKUP_TAG|E/...</td>\n",
       "      <td>NaN</td>\n",
       "      <td>NaN</td>\n",
       "    </tr>\n",
       "    <tr>\n",
       "      <th>1114</th>\n",
       "      <td>AH_qqmq1v2c8</td>\n",
       "      <td>NaN</td>\n",
       "      <td>NaN</td>\n",
       "      <td>NaN</td>\n",
       "      <td>Timestamp mismatch for event E/AH_dymp48d6f/AH...</td>\n",
       "    </tr>\n",
       "    <tr>\n",
       "      <th>1464</th>\n",
       "      <td>AH_z8mqeyc45</td>\n",
       "      <td>NaN</td>\n",
       "      <td>E/AH_9xy8rtech/AH_z8mqeyc45/CASH_BACKUP_TAG|E/...</td>\n",
       "      <td>NaN</td>\n",
       "      <td>NaN</td>\n",
       "    </tr>\n",
       "    <tr>\n",
       "      <th>1477</th>\n",
       "      <td>AH_8aygrrph5</td>\n",
       "      <td>NaN</td>\n",
       "      <td>E/AH_34mg2a2ng/AH_8aygrrph5/CASH_BACKUP_TAG|E/...</td>\n",
       "      <td>NaN</td>\n",
       "      <td>NaN</td>\n",
       "    </tr>\n",
       "    <tr>\n",
       "      <th>1689</th>\n",
       "      <td>AH_hampjx2hs</td>\n",
       "      <td>NaN</td>\n",
       "      <td>E/AH_hampjx2hs/AH_k8mpkt2c8/CASH_BACKUP_TAG|E/...</td>\n",
       "      <td>NaN</td>\n",
       "      <td>NaN</td>\n",
       "    </tr>\n",
       "    <tr>\n",
       "      <th>1864</th>\n",
       "      <td>AH_baypq8dqn</td>\n",
       "      <td>NaN</td>\n",
       "      <td>NaN</td>\n",
       "      <td>NaN</td>\n",
       "      <td>Timestamp mismatch for event E/AH_3cmgp829f/AH...</td>\n",
       "    </tr>\n",
       "    <tr>\n",
       "      <th>1899</th>\n",
       "      <td>AH_4nmgxzc9n</td>\n",
       "      <td>NaN</td>\n",
       "      <td>E/AH_4nmgxzc9n/AH_sbyhpcd6h/SSN</td>\n",
       "      <td>NaN</td>\n",
       "      <td>NaN</td>\n",
       "    </tr>\n",
       "    <tr>\n",
       "      <th>1930</th>\n",
       "      <td>AH_cey1k5dh0</td>\n",
       "      <td>E/AH_04ygrcdt0/AH_cey1k5dh0/CASH_DEVICE|E/AH_0...</td>\n",
       "      <td>NaN</td>\n",
       "      <td>NaN</td>\n",
       "      <td>NaN</td>\n",
       "    </tr>\n",
       "    <tr>\n",
       "      <th>2207</th>\n",
       "      <td>AH_vryh9aecf</td>\n",
       "      <td>NaN</td>\n",
       "      <td>E/AH_33mg4den8/AH_vryh9aecf/VERIFIED_SSN</td>\n",
       "      <td>NaN</td>\n",
       "      <td>NaN</td>\n",
       "    </tr>\n",
       "    <tr>\n",
       "      <th>2254</th>\n",
       "      <td>AH_h7mgdccjh</td>\n",
       "      <td>NaN</td>\n",
       "      <td>E/AH_h7mgdccjh/AH_r9y89t2eh/CASH_BACKUP_TAG|E/...</td>\n",
       "      <td>NaN</td>\n",
       "      <td>NaN</td>\n",
       "    </tr>\n",
       "    <tr>\n",
       "      <th>2264</th>\n",
       "      <td>AH_vyygc8cxn</td>\n",
       "      <td>NaN</td>\n",
       "      <td>E/AH_3gyhqndc5/AH_vyygc8cxn/CASH_BACKUP_TAG|E/...</td>\n",
       "      <td>NaN</td>\n",
       "      <td>NaN</td>\n",
       "    </tr>\n",
       "    <tr>\n",
       "      <th>2941</th>\n",
       "      <td>AH_epya4dc00</td>\n",
       "      <td>NaN</td>\n",
       "      <td>NaN</td>\n",
       "      <td>NaN</td>\n",
       "      <td>Timestamp mismatch for event E/AH_b3y0jccx8/AH...</td>\n",
       "    </tr>\n",
       "    <tr>\n",
       "      <th>3303</th>\n",
       "      <td>AH_zay1phd40</td>\n",
       "      <td>NaN</td>\n",
       "      <td>NaN</td>\n",
       "      <td>NaN</td>\n",
       "      <td>Timestamp mismatch for event E/AH_00m09a2y0/AH...</td>\n",
       "    </tr>\n",
       "    <tr>\n",
       "      <th>4122</th>\n",
       "      <td>AH_06m8wd2qn</td>\n",
       "      <td>NaN</td>\n",
       "      <td>NaN</td>\n",
       "      <td>NaN</td>\n",
       "      <td>Timestamp mismatch for event E/AH_06m8wd2qn/AH...</td>\n",
       "    </tr>\n",
       "    <tr>\n",
       "      <th>4278</th>\n",
       "      <td>AH_tkm1wscmn</td>\n",
       "      <td>NaN</td>\n",
       "      <td>E/AH_h2yh15dqf/AH_tkm1wscmn/VERIFIED_SSN</td>\n",
       "      <td>NaN</td>\n",
       "      <td>NaN</td>\n",
       "    </tr>\n",
       "    <tr>\n",
       "      <th>4522</th>\n",
       "      <td>AH_y3yqeceen</td>\n",
       "      <td>NaN</td>\n",
       "      <td>NaN</td>\n",
       "      <td>NaN</td>\n",
       "      <td>Timestamp mismatch for event E/AH_3qm1xw2en/AH...</td>\n",
       "    </tr>\n",
       "    <tr>\n",
       "      <th>4595</th>\n",
       "      <td>AH_snyaa2ee5</td>\n",
       "      <td>NaN</td>\n",
       "      <td>E/AH_02m8wkdm0/AH_snyaa2ee5/CASH_BACKUP_TAG|E/...</td>\n",
       "      <td>NaN</td>\n",
       "      <td>NaN</td>\n",
       "    </tr>\n",
       "    <tr>\n",
       "      <th>4922</th>\n",
       "      <td>AH_9cypjad65</td>\n",
       "      <td>NaN</td>\n",
       "      <td>NaN</td>\n",
       "      <td>NaN</td>\n",
       "      <td>Timestamp mismatch for event E/AH_9cypjad65/AH...</td>\n",
       "    </tr>\n",
       "    <tr>\n",
       "      <th>4951</th>\n",
       "      <td>AH_cwya2p2tn</td>\n",
       "      <td>NaN</td>\n",
       "      <td>NaN</td>\n",
       "      <td>NaN</td>\n",
       "      <td>Timestamp mismatch for event E/AH_cwya2p2tn/AH...</td>\n",
       "    </tr>\n",
       "    <tr>\n",
       "      <th>5282</th>\n",
       "      <td>AH_3jm8dcdcs</td>\n",
       "      <td>NaN</td>\n",
       "      <td>NaN</td>\n",
       "      <td>NaN</td>\n",
       "      <td>Timestamp mismatch for event E/AH_3jm8dcdcs/AH...</td>\n",
       "    </tr>\n",
       "    <tr>\n",
       "      <th>5411</th>\n",
       "      <td>AH_hxm8kpcqs</td>\n",
       "      <td>E/AH_00m0c8d05/AH_hxm8kpcqs/PAYMENT_CARD|E/AH_...</td>\n",
       "      <td>E/AH_0ay01vcen/AH_hxm8kpcqs/CASH_BACKUP_TAG|E/...</td>\n",
       "      <td>NaN</td>\n",
       "      <td>Timestamp mismatch for event E/AH_5cyqe5c0n/AH...</td>\n",
       "    </tr>\n",
       "    <tr>\n",
       "      <th>5517</th>\n",
       "      <td>AH_q8mh1hdt0</td>\n",
       "      <td>NaN</td>\n",
       "      <td>NaN</td>\n",
       "      <td>NaN</td>\n",
       "      <td>Timestamp mismatch for event E/AH_f4m128d68/AH...</td>\n",
       "    </tr>\n",
       "    <tr>\n",
       "      <th>6242</th>\n",
       "      <td>AH_ddy0eyct8</td>\n",
       "      <td>NaN</td>\n",
       "      <td>E/AH_89y0kw2xh/AH_ddy0eyct8/CASH_BACKUP_TAG|E/...</td>\n",
       "      <td>NaN</td>\n",
       "      <td>NaN</td>\n",
       "    </tr>\n",
       "    <tr>\n",
       "      <th>6319</th>\n",
       "      <td>AH_3xmpdz2x8</td>\n",
       "      <td>NaN</td>\n",
       "      <td>NaN</td>\n",
       "      <td>NaN</td>\n",
       "      <td>Timestamp mismatch for event E/AH_3xmpdz2x8/AH...</td>\n",
       "    </tr>\n",
       "    <tr>\n",
       "      <th>6574</th>\n",
       "      <td>AH_mbm1ptct0</td>\n",
       "      <td>NaN</td>\n",
       "      <td>NaN</td>\n",
       "      <td>NaN</td>\n",
       "      <td>Timestamp mismatch for event E/AH_mbm1ptct0/AH...</td>\n",
       "    </tr>\n",
       "    <tr>\n",
       "      <th>6658</th>\n",
       "      <td>AH_5rygbhejh</td>\n",
       "      <td>NaN</td>\n",
       "      <td>E/AH_5rygbhejh/AH_7wm8bpcah/CASH_BACKUP_TAG|E/...</td>\n",
       "      <td>NaN</td>\n",
       "      <td>NaN</td>\n",
       "    </tr>\n",
       "    <tr>\n",
       "      <th>7139</th>\n",
       "      <td>AH_j9ma9hce8</td>\n",
       "      <td>NaN</td>\n",
       "      <td>E/AH_22m0rt2y5/AH_j9ma9hce8/CASH_DEVICE|E/AH_2...</td>\n",
       "      <td>NaN</td>\n",
       "      <td>NaN</td>\n",
       "    </tr>\n",
       "  </tbody>\n",
       "</table>\n",
       "</div>"
      ]
     },
     "metadata": {
      "application/vnd.databricks.v1+output": {
       "addedWidgets": {},
       "arguments": {},
       "data": "<div>\n<style scoped>\n    .dataframe tbody tr th:only-of-type {\n        vertical-align: middle;\n    }\n\n    .dataframe tbody tr th {\n        vertical-align: top;\n    }\n\n    .dataframe thead th {\n        text-align: right;\n    }\n</style>\n<table border=\"1\" class=\"dataframe\">\n  <thead>\n    <tr style=\"text-align: right;\">\n      <th></th>\n      <th>account_holder_token</th>\n      <th>missing_events</th>\n      <th>unexpected_events</th>\n      <th>label_errors</th>\n      <th>timestamp_errors</th>\n    </tr>\n  </thead>\n  <tbody>\n    <tr>\n      <th>250</th>\n      <td>AH_4pypjpe05</td>\n      <td>NaN</td>\n      <td>E/AH_4pypjpe05/AH_6cy1q82nf/CASH_BACKUP_TAG|E/...</td>\n      <td>NaN</td>\n      <td>NaN</td>\n    </tr>\n    <tr>\n      <th>432</th>\n      <td>AH_prmgbv2ts</td>\n      <td>NaN</td>\n      <td>NaN</td>\n      <td>NaN</td>\n      <td>Timestamp mismatch for event E/AH_bbm0cnccg/AH...</td>\n    </tr>\n    <tr>\n      <th>680</th>\n      <td>AH_0rmgxxcag</td>\n      <td>NaN</td>\n      <td>E/AH_0dmg42deh/AH_0rmgxxcag/CASH_BACKUP_TAG|E/...</td>\n      <td>NaN</td>\n      <td>NaN</td>\n    </tr>\n    <tr>\n      <th>1114</th>\n      <td>AH_qqmq1v2c8</td>\n      <td>NaN</td>\n      <td>NaN</td>\n      <td>NaN</td>\n      <td>Timestamp mismatch for event E/AH_dymp48d6f/AH...</td>\n    </tr>\n    <tr>\n      <th>1464</th>\n      <td>AH_z8mqeyc45</td>\n      <td>NaN</td>\n      <td>E/AH_9xy8rtech/AH_z8mqeyc45/CASH_BACKUP_TAG|E/...</td>\n      <td>NaN</td>\n      <td>NaN</td>\n    </tr>\n    <tr>\n      <th>1477</th>\n      <td>AH_8aygrrph5</td>\n      <td>NaN</td>\n      <td>E/AH_34mg2a2ng/AH_8aygrrph5/CASH_BACKUP_TAG|E/...</td>\n      <td>NaN</td>\n      <td>NaN</td>\n    </tr>\n    <tr>\n      <th>1689</th>\n      <td>AH_hampjx2hs</td>\n      <td>NaN</td>\n      <td>E/AH_hampjx2hs/AH_k8mpkt2c8/CASH_BACKUP_TAG|E/...</td>\n      <td>NaN</td>\n      <td>NaN</td>\n    </tr>\n    <tr>\n      <th>1864</th>\n      <td>AH_baypq8dqn</td>\n      <td>NaN</td>\n      <td>NaN</td>\n      <td>NaN</td>\n      <td>Timestamp mismatch for event E/AH_3cmgp829f/AH...</td>\n    </tr>\n    <tr>\n      <th>1899</th>\n      <td>AH_4nmgxzc9n</td>\n      <td>NaN</td>\n      <td>E/AH_4nmgxzc9n/AH_sbyhpcd6h/SSN</td>\n      <td>NaN</td>\n      <td>NaN</td>\n    </tr>\n    <tr>\n      <th>1930</th>\n      <td>AH_cey1k5dh0</td>\n      <td>E/AH_04ygrcdt0/AH_cey1k5dh0/CASH_DEVICE|E/AH_0...</td>\n      <td>NaN</td>\n      <td>NaN</td>\n      <td>NaN</td>\n    </tr>\n    <tr>\n      <th>2207</th>\n      <td>AH_vryh9aecf</td>\n      <td>NaN</td>\n      <td>E/AH_33mg4den8/AH_vryh9aecf/VERIFIED_SSN</td>\n      <td>NaN</td>\n      <td>NaN</td>\n    </tr>\n    <tr>\n      <th>2254</th>\n      <td>AH_h7mgdccjh</td>\n      <td>NaN</td>\n      <td>E/AH_h7mgdccjh/AH_r9y89t2eh/CASH_BACKUP_TAG|E/...</td>\n      <td>NaN</td>\n      <td>NaN</td>\n    </tr>\n    <tr>\n      <th>2264</th>\n      <td>AH_vyygc8cxn</td>\n      <td>NaN</td>\n      <td>E/AH_3gyhqndc5/AH_vyygc8cxn/CASH_BACKUP_TAG|E/...</td>\n      <td>NaN</td>\n      <td>NaN</td>\n    </tr>\n    <tr>\n      <th>2941</th>\n      <td>AH_epya4dc00</td>\n      <td>NaN</td>\n      <td>NaN</td>\n      <td>NaN</td>\n      <td>Timestamp mismatch for event E/AH_b3y0jccx8/AH...</td>\n    </tr>\n    <tr>\n      <th>3303</th>\n      <td>AH_zay1phd40</td>\n      <td>NaN</td>\n      <td>NaN</td>\n      <td>NaN</td>\n      <td>Timestamp mismatch for event E/AH_00m09a2y0/AH...</td>\n    </tr>\n    <tr>\n      <th>4122</th>\n      <td>AH_06m8wd2qn</td>\n      <td>NaN</td>\n      <td>NaN</td>\n      <td>NaN</td>\n      <td>Timestamp mismatch for event E/AH_06m8wd2qn/AH...</td>\n    </tr>\n    <tr>\n      <th>4278</th>\n      <td>AH_tkm1wscmn</td>\n      <td>NaN</td>\n      <td>E/AH_h2yh15dqf/AH_tkm1wscmn/VERIFIED_SSN</td>\n      <td>NaN</td>\n      <td>NaN</td>\n    </tr>\n    <tr>\n      <th>4522</th>\n      <td>AH_y3yqeceen</td>\n      <td>NaN</td>\n      <td>NaN</td>\n      <td>NaN</td>\n      <td>Timestamp mismatch for event E/AH_3qm1xw2en/AH...</td>\n    </tr>\n    <tr>\n      <th>4595</th>\n      <td>AH_snyaa2ee5</td>\n      <td>NaN</td>\n      <td>E/AH_02m8wkdm0/AH_snyaa2ee5/CASH_BACKUP_TAG|E/...</td>\n      <td>NaN</td>\n      <td>NaN</td>\n    </tr>\n    <tr>\n      <th>4922</th>\n      <td>AH_9cypjad65</td>\n      <td>NaN</td>\n      <td>NaN</td>\n      <td>NaN</td>\n      <td>Timestamp mismatch for event E/AH_9cypjad65/AH...</td>\n    </tr>\n    <tr>\n      <th>4951</th>\n      <td>AH_cwya2p2tn</td>\n      <td>NaN</td>\n      <td>NaN</td>\n      <td>NaN</td>\n      <td>Timestamp mismatch for event E/AH_cwya2p2tn/AH...</td>\n    </tr>\n    <tr>\n      <th>5282</th>\n      <td>AH_3jm8dcdcs</td>\n      <td>NaN</td>\n      <td>NaN</td>\n      <td>NaN</td>\n      <td>Timestamp mismatch for event E/AH_3jm8dcdcs/AH...</td>\n    </tr>\n    <tr>\n      <th>5411</th>\n      <td>AH_hxm8kpcqs</td>\n      <td>E/AH_00m0c8d05/AH_hxm8kpcqs/PAYMENT_CARD|E/AH_...</td>\n      <td>E/AH_0ay01vcen/AH_hxm8kpcqs/CASH_BACKUP_TAG|E/...</td>\n      <td>NaN</td>\n      <td>Timestamp mismatch for event E/AH_5cyqe5c0n/AH...</td>\n    </tr>\n    <tr>\n      <th>5517</th>\n      <td>AH_q8mh1hdt0</td>\n      <td>NaN</td>\n      <td>NaN</td>\n      <td>NaN</td>\n      <td>Timestamp mismatch for event E/AH_f4m128d68/AH...</td>\n    </tr>\n    <tr>\n      <th>6242</th>\n      <td>AH_ddy0eyct8</td>\n      <td>NaN</td>\n      <td>E/AH_89y0kw2xh/AH_ddy0eyct8/CASH_BACKUP_TAG|E/...</td>\n      <td>NaN</td>\n      <td>NaN</td>\n    </tr>\n    <tr>\n      <th>6319</th>\n      <td>AH_3xmpdz2x8</td>\n      <td>NaN</td>\n      <td>NaN</td>\n      <td>NaN</td>\n      <td>Timestamp mismatch for event E/AH_3xmpdz2x8/AH...</td>\n    </tr>\n    <tr>\n      <th>6574</th>\n      <td>AH_mbm1ptct0</td>\n      <td>NaN</td>\n      <td>NaN</td>\n      <td>NaN</td>\n      <td>Timestamp mismatch for event E/AH_mbm1ptct0/AH...</td>\n    </tr>\n    <tr>\n      <th>6658</th>\n      <td>AH_5rygbhejh</td>\n      <td>NaN</td>\n      <td>E/AH_5rygbhejh/AH_7wm8bpcah/CASH_BACKUP_TAG|E/...</td>\n      <td>NaN</td>\n      <td>NaN</td>\n    </tr>\n    <tr>\n      <th>7139</th>\n      <td>AH_j9ma9hce8</td>\n      <td>NaN</td>\n      <td>E/AH_22m0rt2y5/AH_j9ma9hce8/CASH_DEVICE|E/AH_2...</td>\n      <td>NaN</td>\n      <td>NaN</td>\n    </tr>\n  </tbody>\n</table>\n</div>",
       "datasetInfos": [],
       "metadata": {},
       "removedWidgets": [],
       "textData": null,
       "type": "htmlSandbox"
      }
     },
     "output_type": "display_data"
    }
   ],
   "source": [
    "# Failed validationss\n",
    "failed_validations_df = validation_df[validation_df['validation_success'] == False][['account_holder_token', 'missing_events', 'unexpected_events', 'label_errors', 'timestamp_errors']]\n",
    "failed_validations_df"
   ]
  },
  {
   "cell_type": "code",
   "execution_count": 0,
   "metadata": {
    "application/vnd.databricks.v1+cell": {
     "cellMetadata": {
      "byteLimit": 2048000,
      "rowLimit": 10000
     },
     "inputWidgets": {},
     "nuid": "3ab1b4d2-ce7e-4fc6-a4df-d1bb1153ac4c",
     "showTitle": false,
     "tableResultSettingsMap": {},
     "title": ""
    }
   },
   "outputs": [
    {
     "output_type": "stream",
     "name": "stdout",
     "output_type": "stream",
     "text": [
      "29 out of 7141 account holders had failed validations (0.41%):\n\n['AH_4pypjpe05', 'AH_prmgbv2ts', 'AH_0rmgxxcag', 'AH_qqmq1v2c8', 'AH_z8mqeyc45', 'AH_8aygrrph5', 'AH_hampjx2hs', 'AH_baypq8dqn', 'AH_4nmgxzc9n', 'AH_cey1k5dh0', 'AH_vryh9aecf', 'AH_h7mgdccjh', 'AH_vyygc8cxn', 'AH_epya4dc00', 'AH_zay1phd40', 'AH_06m8wd2qn', 'AH_tkm1wscmn', 'AH_y3yqeceen', 'AH_snyaa2ee5', 'AH_9cypjad65', 'AH_cwya2p2tn', 'AH_3jm8dcdcs', 'AH_hxm8kpcqs', 'AH_q8mh1hdt0', 'AH_ddy0eyct8', 'AH_3xmpdz2x8', 'AH_mbm1ptct0', 'AH_5rygbhejh', 'AH_j9ma9hce8']\n"
     ]
    }
   ],
   "source": [
    "if failed_validations_df.empty:\n",
    "    print(\"All validations passed\")\n",
    "else:\n",
    "    failed_validation_tokens = failed_validations_df['account_holder_token'].unique().tolist()\n",
    "    num_failed = len(failed_validation_tokens)\n",
    "    all_validated = validation_df['account_holder_token'].unique().tolist()\n",
    "    num_validated = len(all_validated)\n",
    "    print(f\"{num_failed} out of {num_validated} account holders had failed validations ({num_failed/num_validated*100:.2f}%):\\n\\n{failed_validation_tokens}\")"
   ]
  },
  {
   "cell_type": "markdown",
   "metadata": {
    "application/vnd.databricks.v1+cell": {
     "cellMetadata": {},
     "inputWidgets": {},
     "nuid": "3ffb6f34-3f4c-4f95-be29-39fa1588edb5",
     "showTitle": false,
     "tableResultSettingsMap": {},
     "title": ""
    }
   },
   "source": [
    "### ✅ Missing events\n",
    "\n",
    "Account holders with expected events that were missing in the actual output.\n",
    "\n",
    " The account holders who failed validation have been manually checked. The reason for the missing events is a neighborhood size exceeding edgy's query limit of 5000."
   ]
  },
  {
   "cell_type": "code",
   "execution_count": 0,
   "metadata": {
    "application/vnd.databricks.v1+cell": {
     "cellMetadata": {
      "byteLimit": 2048000,
      "rowLimit": 10000
     },
     "inputWidgets": {},
     "nuid": "7e50788b-680e-48d9-b55d-dbd4e43944af",
     "showTitle": false,
     "tableResultSettingsMap": {},
     "title": ""
    }
   },
   "outputs": [
    {
     "output_type": "stream",
     "name": "stdout",
     "output_type": "stream",
     "text": [
      "Found 2 account holders with missing events:\n['AH_cey1k5dh0', 'AH_hxm8kpcqs']\n\nAccount holder: AH_cey1k5dh0\nNumber of missing events: 105\nMissing events:\n  - E/AH_04ygrcdt0/AH_cey1k5dh0/CASH_DEVICE\n  - E/AH_0ky0j8dhg/AH_cey1k5dh0/CASH_DEVICE\n  - E/AH_1hm0wbe0f/AH_cey1k5dh0/CASH_DEVICE\n  - E/AH_1jmhase08/AH_cey1k5dh0/CASH_DEVICE\n  - E/AH_1mm0x9c6f/AH_cey1k5dh0/CASH_DEVICE\n  - E/AH_2mmqx0e6g/AH_cey1k5dh0/CASH_DEVICE\n  - E/AH_3tmqx3cm0/AH_cey1k5dh0/CASH_DEVICE\n  - E/AH_42y1ra2tg/AH_cey1k5dh0/CASH_DEVICE\n  - E/AH_43yhra2ng/AH_cey1k5dh0/CASH_DEVICE\n  - E/AH_4eyhjyde0/AH_cey1k5dh0/CASH_DEVICE\n  - E/AH_4jyprhdch/AH_cey1k5dh0/CASH_DEVICE\n  - E/AH_4vygkedh0/AH_cey1k5dh0/CASH_DEVICE\n  - E/AH_50yarddhh/AH_cey1k5dh0/CASH_DEVICE\n  - E/AH_51yprcden/AH_cey1k5dh0/CASH_DEVICE\n  - E/AH_54y04e2xn/AH_cey1k5dh0/CASH_DEVICE\n  - E/AH_5ay1rtdt0/AH_cey1k5dh0/CASH_DEVICE\n  - E/AH_5cygkd2a0/AH_cey1k5dh0/CASH_DEVICE\n  - E/AH_5cyhkc2yh/AH_cey1k5dh0/CASH_DEVICE\n  - E/AH_5eygka2as/AH_cey1k5dh0/CASH_DEVICE\n  - E/AH_5zyh4wdhs/AH_cey1k5dh0/CASH_DEVICE\n  - E/AH_63yqry2xg/AH_cey1k5dh0/CASH_DEVICE\n  - E/AH_6ayh4t2ng/AH_cey1k5dh0/CASH_DEVICE\n  - E/AH_6by145dns/AH_cey1k5dh0/CASH_DEVICE\n  - E/AH_6dy0j2dhn/AH_cey1k5dh0/CASH_DEVICE\n  - E/AH_6hy8kedy0/AH_cey1k5dh0/CASH_DEVICE\n  - E/AH_6jya4wdyg/AH_cey1k5dh0/CASH_DEVICE\n  - E/AH_6ryqrzdtn/AH_cey1k5dh0/CASH_DEVICE\n  - E/AH_6wyhje2t5/AH_cey1k5dh0/CASH_DEVICE\n  - E/AH_73ypj22h0/AH_cey1k5dh0/CASH_DEVICE\n  - E/AH_7by0jadhs/AH_cey1k5dh0/CASH_DEVICE\n  - E/AH_7ey04tdx8/AH_cey1k5dh0/CASH_DEVICE\n  - E/AH_7gy0jadh8/AH_cey1k5dh0/CASH_DEVICE\n  - E/AH_7jyaje2hf/AH_cey1k5dh0/CASH_DEVICE\n  - E/AH_7nypj2dxs/AH_cey1k5dh0/CASH_DEVICE\n  - E/AH_8wy04h2t0/AH_cey1k5dh0/CASH_DEVICE\n  - E/AH_91yg4c2eh/AH_cey1k5dh0/CASH_DEVICE\n  - E/AH_91yh4d2t0/AH_cey1k5dh0/CASH_DEVICE\n  - E/AH_9dy8jddhs/AH_cey1k5dh0/CASH_DEVICE\n  - E/AH_9hy0redts/AH_cey1k5dh0/CASH_DEVICE\n  - E/AH_9my1jpdts/AH_cey1k5dh0/CASH_DEVICE\n  - E/AH_9ty8rpdan/AH_cey1k5dh0/CASH_DEVICE\n  - E/AH_9tyhr8dhg/AH_cey1k5dh0/CASH_DEVICE\n  - E/AH_a6mqa4emg/AH_cey1k5dh0/CASH_DEVICE\n  - E/AH_ahyq4pdaf/AH_cey1k5dh0/CASH_DEVICE\n  - E/AH_c2yprp2ng/AH_cey1k5dh0/CASH_DEVICE\n  - E/AH_c2yqjydhh/AH_cey1k5dh0/CASH_DEVICE\n  - E/AH_c6ygky2a8/AH_cey1k5dh0/CASH_DEVICE\n  - E/AH_c8ypkv2ef/AH_cey1k5dh0/CASH_DEVICE\n  - E/AH_cey1k5dh0/AH_d2ygkvec8/CASH_DEVICE\n  - E/AH_cey1k5dh0/AH_d4y1kh2nn/CASH_DEVICE\n  - E/AH_cey1k5dh0/AH_eyy0jc2c0/CASH_DEVICE\n  - E/AH_cey1k5dh0/AH_f4ypkc2nh/CASH_DEVICE\n  - E/AH_cey1k5dh0/AH_fby1rn2t5/CASH_DEVICE\n  - E/AH_cey1k5dh0/AH_fgy14ydyf/CASH_DEVICE\n  - E/AH_cey1k5dh0/AH_fxy1ka2e5/CASH_DEVICE\n  - E/AH_cey1k5dh0/AH_gsypjw265/CASH_DEVICE\n  - E/AH_cey1k5dh0/AH_gyypre2ag/CASH_DEVICE\n  - E/AH_cey1k5dh0/AH_hdmqa4c6g/CASH_DEVICE\n  - E/AH_cey1k5dh0/AH_j2m0xmcmn/CASH_DEVICE\n  - E/AH_cey1k5dh0/AH_j2ygrxde0/CASH_DEVICE\n  - E/AH_cey1k5dh0/AH_j5mawbem8/CASH_DEVICE\n  - E/AH_cey1k5dh0/AH_jpmaa0csg/CASH_DEVICE\n  - E/AH_cey1k5dh0/AH_k2mhwqe0f/CASH_DEVICE\n  - E/AH_cey1k5dh0/AH_k8yhep2n8/CASH_DEVICE\n  - E/AH_cey1k5dh0/AH_kjm0pscsf/CASH_DEVICE\n  - E/AH_cey1k5dh0/AH_kjyp4c2xs/CASH_DEVICE\n  - E/AH_cey1k5dh0/AH_mpya4vdc0/CASH_DEVICE\n  - E/AH_cey1k5dh0/AH_nbyhjcdyf/CASH_DEVICE\n  - E/AH_cey1k5dh0/AH_nyy1kydef/CASH_DEVICE\n  - E/AH_cey1k5dh0/AH_r3y0r52yf/CASH_DEVICE\n  - E/AH_cey1k5dh0/AH_rcy0jdcx8/CASH_DEVICE\n  - E/AH_cey1k5dh0/AH_rqyh45dtf/CASH_DEVICE\n  - E/AH_cey1k5dh0/AH_s6yajhdtn/CASH_DEVICE\n  - E/AH_cey1k5dh0/AH_say8kndt8/CASH_DEVICE\n  - E/AH_cey1k5dh0/AH_sbyh4e2t8/CASH_DEVICE\n  - E/AH_cey1k5dh0/AH_sbyprh2h8/CASH_DEVICE\n  - E/AH_cey1k5dh0/AH_sdyhrt2ef/CASH_DEVICE\n  - E/AH_cey1k5dh0/AH_sfyhkndn5/CASH_DEVICE\n  - E/AH_cey1k5dh0/AH_sjyakwdnh/CASH_DEVICE\n  - E/AH_cey1k5dh0/AH_syy14w2h0/CASH_DEVICE\n  - E/AH_cey1k5dh0/AH_t0yh4tdyh/CASH_DEVICE\n  - E/AH_cey1k5dh0/AH_t1y0jwdn8/CASH_DEVICE\n  - E/AH_cey1k5dh0/AH_t1yh45dy8/CASH_DEVICE\n  - E/AH_cey1k5dh0/AH_t5yq4d2t8/CASH_DEVICE\n  - E/AH_cey1k5dh0/AH_tfyq4zdy8/CASH_DEVICE\n  - E/AH_cey1k5dh0/AH_tfyqkd2nn/CASH_DEVICE\n  - E/AH_cey1k5dh0/AH_v4ypja2eh/CASH_DEVICE\n  - E/AH_cey1k5dh0/AH_vwy1ke2af/CASH_DEVICE\n  - E/AH_cey1k5dh0/AH_vwy1kndas/CASH_DEVICE\n  - E/AH_cey1k5dh0/AH_w5ygkcdtn/CASH_DEVICE\n  - E/AH_cey1k5dh0/AH_w7y8rhdtf/CASH_DEVICE\n  - E/AH_cey1k5dh0/AH_w9yq48ceh/CASH_DEVICE\n  - E/AH_cey1k5dh0/AH_way8jv2xn/CASH_DEVICE\n  - E/AH_cey1k5dh0/AH_wcyqj22ns/CASH_DEVICE\n  - E/AH_cey1k5dh0/AH_wky8jn2hs/CASH_DEVICE\n  - E/AH_cey1k5dh0/AH_wmy842dnh/CASH_DEVICE\n  - E/AH_cey1k5dh0/AH_wmygj2dth/CASH_DEVICE\n  - E/AH_cey1k5dh0/AH_x2yqrz2ah/CASH_DEVICE\n  - E/AH_cey1k5dh0/AH_x6yqj2dt0/CASH_DEVICE\n  - E/AH_cey1k5dh0/AH_x9yqjt2hh/CASH_DEVICE\n  - E/AH_cey1k5dh0/AH_xayhkpda5/CASH_DEVICE\n  - E/AH_cey1k5dh0/AH_xcy0re2y0/CASH_DEVICE\n  - E/AH_cey1k5dh0/AH_xmyh4hdt8/CASH_DEVICE\n  - E/AH_cey1k5dh0/AH_xwy8rp2an/CASH_DEVICE\n  - E/AH_cey1k5dh0/AH_zny1je2an/CASH_DEVICE\n\nAccount holder: AH_hxm8kpcqs\nNumber of missing events: 10922\nMissing events:\n  - E/AH_00m0c8d05/AH_hxm8kpcqs/PAYMENT_CARD\n  - E/AH_00m0d5emg/AH_hxm8kpcqs/PAYMENT_CARD\n  - E/AH_00m0rncs8/AH_hxm8kpcqs/PAYMENT_CARD\n  - E/AH_00m0x52qn/AH_hxm8kpcqs/PAYMENT_CARD\n  - E/AH_00m12tc60/AH_hxm8kpcqs/PAYMENT_CARD\n  - E/AH_00m1jze0f/AH_hxm8kpcqs/PAYMENT_CARD\n  - E/AH_00m1rp26s/AH_hxm8kpcqs/PAYMENT_CARD\n  - E/AH_00marccj5/AH_hxm8kpcqs/PAYMENT_CARD\n  - E/AH_00mgkhej0/AH_hxm8kpcqs/PAYMENT_CARD\n  - E/AH_00mhbvd9g/AH_hxm8kpcqs/PAYMENT_CARD\n  - E/AH_00mp25c00/AH_hxm8kpcqs/PAYMENT_CARD\n  - E/AH_00mpd2d45/AH_hxm8kpcqs/PAYMENT_CARD\n  - E/AH_00mqxvess/AH_hxm8kpcqs/PAYMENT_CARD\n  - E/AH_00yadne0s/AH_hxm8kpcqs/PAYMENT_CARD\n  - E/AH_00yg4edq8/AH_hxm8kpcqs/PAYMENT_CARD\n  - E/AH_00ypjspah/AH_hxm8kpcqs/PAYMENT_CARD\n  - E/AH_00yqxhds5/AH_hxm8kpcqs/PAYMENT_CARD\n  - E/AH_01m0a82mf/AH_hxm8kpcqs/PAYMENT_CARD\n  - E/AH_01m1exd90/AH_hxm8kpcqs/PAYMENT_CARD\n  - E/AH_01mgwcetn/AH_hxm8kpcqs/PAYMENT_CARD\n  - E/AH_01mhaxdm8/AH_hxm8kpcqs/PAYMENT_CARD\n  - E/AH_01mhb2e0n/AH_hxm8kpcqs/PAYMENT_CARD\n  - E/AH_01mq1pcq0/AH_hxm8kpcqs/PAYMENT_CARD\n  - E/AH_01mqatc90/AH_hxm8kpcqs/PAYMENT_CARD\n  - E/AH_01y0chd68/AH_hxm8kpcqs/PAYMENT_CARD\n  - E/AH_01yaea20n/AH_hxm8kpcqs/PAYMENT_CARD\n  - E/AH_01ygpdd98/AH_hxm8kpcqs/PAYMENT_CARD\n  - E/AH_02m0pxe6g/AH_hxm8kpcqs/PAYMENT_CARD\n  - E/AH_02m0wzcc5/AH_hxm8kpcqs/PAYMENT_CARD\n  - E/AH_02m1wze0s/AH_hxm8kpcqs/PAYMENT_CARD\n  - E/AH_02mac5ets/AH_hxm8kpcqs/PAYMENT_CARD\n  - E/AH_02mgqycqg/AH_hxm8kpcqs/PAYMENT_CARD\n  - E/AH_02mhezdjf/AH_hxm8kpcqs/PAYMENT_CARD\n  - E/AH_02y0dccsn/AH_hxm8kpcqs/PAYMENT_CARD\n  - E/AH_02y0q2eqn/AH_hxm8kpcqs/PAYMENT_CARD\n  - E/AH_02yhdpc6f/AH_hxm8kpcqs/PAYMENT_CARD\n  - E/AH_02yhxndj0/AH_hxm8kpcqs/PAYMENT_CARD\n  - E/AH_03m1xecs5/AH_hxm8kpcqs/PAYMENT_CARD\n  - E/AH_03m1xpe95/AH_hxm8kpcqs/PAYMENT_CARD\n  - E/AH_03m82nemf/AH_hxm8kpcqs/PAYMENT_CARD\n  - E/AH_03m8x82y0/AH_hxm8kpcqs/PAYMENT_CARD\n  - E/AH_03ma9vcsf/AH_hxm8kpcqs/PAYMENT_CARD\n  - E/AH_03mg9n248/AH_hxm8kpcqs/PAYMENT_CARD\n  - E/AH_03mhrndjf/AH_hxm8kpcqs/PAYMENT_CARD\n  - E/AH_03mp9w2ms/AH_hxm8kpcqs/PAYMENT_CARD\n  - E/AH_03mpchc9f/AH_hxm8kpcqs/PAYMENT_CARD\n  - E/AH_03mpx2c0n/AH_hxm8kpcqs/PAYMENT_CARD\n  - E/AH_03y1ae2qn/AH_hxm8kpcqs/PAYMENT_CARD\n  - E/AH_03y8d2emh/AH_hxm8kpcqs/PAYMENT_CARD\n  - E/AH_03y8rqwy8/AH_hxm8kpcqs/PAYMENT_CARD\n  - E/AH_03yaan24g/AH_hxm8kpcqs/PAYMENT_CARD\n  - E/AH_03yh4kpcn/AH_hxm8kpcqs/PAYMENT_CARD\n  - E/AH_03yqxxd60/AH_hxm8kpcqs/PAYMENT_CARD\n  - E/AH_04m0r5dq5/AH_hxm8kpcqs/PAYMENT_CARD\n  - E/AH_04m19ed4s/AH_hxm8kpcqs/PAYMENT_CARD\n  - E/AH_04m1dzc08/AH_hxm8kpcqs/PAYMENT_CARD\n  - E/AH_04m81pcss/AH_hxm8kpcqs/PAYMENT_CARD\n  - E/AH_04m81y20n/AH_hxm8kpcqs/PAYMENT_CARD\n  - E/AH_04m84cc48/AH_hxm8kpcqs/PAYMENT_CARD\n  - E/AH_04max5es8/AH_hxm8kpcqs/PAYMENT_CARD\n  - E/AH_04mgrt20s/AH_hxm8kpcqs/PAYMENT_CARD\n  - E/AH_04mh1aes0/AH_hxm8kpcqs/PAYMENT_CARD\n  - E/AH_04mhaweq5/AH_hxm8kpcqs/PAYMENT_CARD\n  - E/AH_04mp28es5/AH_hxm8kpcqs/PAYMENT_CARD\n  - E/AH_04mp922j8/AH_hxm8kpcqs/PAYMENT_CARD\n  - E/AH_04mpr2dq0/AH_hxm8kpcqs/PAYMENT_CARD\n  - E/AH_04mqbh2s8/AH_hxm8kpcqs/PAYMENT_CARD\n  - E/AH_04y1dw26h/AH_hxm8kpcqs/PAYMENT_CARD\n  - E/AH_04y1epemf/AH_hxm8kpcqs/PAYMENT_CARD\n  - E/AH_04y8jn2j5/AH_hxm8kpcqs/PAYMENT_CARD\n  - E/AH_04yaqae90/AH_hxm8kpcqs/PAYMENT_CARD\n  - E/AH_04yqe229f/AH_hxm8kpcqs/PAYMENT_CARD\n  - E/AH_04yqpw2sn/AH_hxm8kpcqs/PAYMENT_CARD\n  - E/AH_04yqpwdm0/AH_hxm8kpcqs/PAYMENT_CARD\n  - E/AH_05m1xccjn/AH_hxm8kpcqs/PAYMENT_CARD\n  - E/AH_05mhw8ejf/AH_hxm8kpcqs/PAYMENT_CARD\n  - E/AH_05mhxyen5/AH_hxm8kpcqs/PAYMENT_CARD\n  - E/AH_05mppt2q0/AH_hxm8kpcqs/PAYMENT_CARD\n  - E/AH_05mq9wc0s/AH_hxm8kpcqs/PAYMENT_CARD\n  - E/AH_05mqcpc98/AH_hxm8kpcqs/PAYMENT_CARD\n  - E/AH_05y044pyn/AH_hxm8kpcqs/PAYMENT_CARD\n  - E/AH_05y19ecsh/AH_hxm8kpcqs/PAYMENT_CARD\n  - E/AH_05yawn2m5/AH_hxm8kpcqs/PAYMENT_CARD\n  - E/AH_06m19wc90/AH_hxm8kpcqs/PAYMENT_CARD\n  - E/AH_06m1rhc45/AH_hxm8kpcqs/PAYMENT_CARD\n  - E/AH_06ma98es0/AH_hxm8kpcqs/PAYMENT_CARD\n  - E/AH_06mgdx2c0/AH_hxm8kpcqs/PAYMENT_CARD\n  - E/AH_06mgwddqh/AH_hxm8kpcqs/PAYMENT_CARD\n  - E/AH_06mhb5c4s/AH_hxm8kpcqs/PAYMENT_CARD\n  - E/AH_06mhen20h/AH_hxm8kpcqs/PAYMENT_CARD\n  - E/AH_06y1pa2m8/AH_hxm8kpcqs/PAYMENT_CARD\n  - E/AH_06ygah2mg/AH_hxm8kpcqs/PAYMENT_CARD\n  - E/AH_06yqbncjf/AH_hxm8kpcqs/PAYMENT_CARD\n  - E/AH_07m1jy2sh/AH_hxm8kpcqs/PAYMENT_CARD\n  - E/AH_07makyd4h/AH_hxm8kpcqs/PAYMENT_CARD\n  - E/AH_07mgr5csf/AH_hxm8kpcqs/PAYMENT_CARD\n  - E/AH_07mpx5d9n/AH_hxm8kpcqs/PAYMENT_CARD\n  - E/AH_07mpxedmn/AH_hxm8kpcqs/PAYMENT_CARD\n  - E/AH_07y1add4g/AH_hxm8kpcqs/PAYMENT_CARD\n  - E/AH_07y1bdcq0/AH_hxm8kpcqs/PAYMENT_CARD\n  - E/AH_07y1ecc6g/AH_hxm8kpcqs/PAYMENT_CARD\n  - E/AH_07ypqtcss/AH_hxm8kpcqs/PAYMENT_CARD\n  - E/AH_08m02edm0/AH_hxm8kpcqs/PAYMENT_CARD\n  - E/AH_08m842c98/AH_hxm8kpcqs/PAYMENT_CARD\n  - E/AH_08m8ea2mg/AH_hxm8kpcqs/PAYMENT_CARD\n  - E/AH_08m8qp2ss/AH_hxm8kpcqs/PAYMENT_CARD\n  - E/AH_08mae82hn/AH_hxm8kpcqs/PAYMENT_CARD\n  - E/AH_08mhazejn/AH_hxm8kpcqs/PAYMENT_CARD\n  - E/AH_08mqbc24f/AH_hxm8kpcqs/PAYMENT_CARD\n  - E/AH_08mqxtc48/AH_hxm8kpcqs/PAYMENT_CARD\n  - E/AH_08y0cy24h/AH_hxm8kpcqs/PAYMENT_CARD\n  - E/AH_08y0kgpe0/AH_hxm8kpcqs/PAYMENT_CARD\n  - E/AH_08y8c5cmf/AH_hxm8kpcqs/PAYMENT_CARD\n  - E/AH_08yawe2q8/AH_hxm8kpcqs/PAYMENT_CARD\n  - E/AH_08yhdp26h/AH_hxm8kpcqs/PAYMENT_CARD\n  - E/AH_08yhpe2qg/AH_hxm8kpcqs/PAYMENT_CARD\n  - E/AH_09mgq2c60/AH_hxm8kpcqs/PAYMENT_CARD\n  - E/AH_09mpxyc6g/AH_hxm8kpcqs/PAYMENT_CARD\n  - E/AH_09mq22cts/AH_hxm8kpcqs/PAYMENT_CARD\n  - E/AH_09y128ds8/AH_hxm8kpcqs/PAYMENT_CARD\n  - E/AH_09ypencj8/AH_hxm8kpcqs/PAYMENT_CARD\n  - E/AH_09ypx8d05/AH_hxm8kpcqs/PAYMENT_CARD\n  - E/AH_0am02dd4n/AH_hxm8kpcqs/PAYMENT_CARD\n  - E/AH_0am0b8d6f/AH_hxm8kpcqs/PAYMENT_CARD\n  - E/AH_0am81ac9g/AH_hxm8kpcqs/PAYMENT_CARD\n  - E/AH_0am82ae08/AH_hxm8kpcqs/PAYMENT_CARD\n  - E/AH_0amgaye95/AH_hxm8kpcqs/PAYMENT_CARD\n  - E/AH_0amgjpd9h/AH_hxm8kpcqs/PAYMENT_CARD\n  - E/AH_0amhw8dmh/AH_hxm8kpcqs/PAYMENT_CARD\n  - E/AH_0ay0kgph0/AH_hxm8kpcqs/PAYMENT_CARD\n  - E/AH_0ay844wn8/AH_hxm8kpcqs/PAYMENT_CARD\n  - E/AH_0ay8dw2m8/AH_hxm8kpcqs/PAYMENT_CARD\n  - E/AH_0ayap8dsh/AH_hxm8kpcqs/PAYMENT_CARD\n  - E/AH_0ayged2m5/AH_hxm8kpcqs/PAYMENT_CARD\n  - E/AH_0aygxxd0f/AH_hxm8kpcqs/PAYMENT_CARD\n  - E/AH_0ayhaae9f/AH_hxm8kpcqs/PAYMENT_CARD\n  - E/AH_0aypjspx8/AH_hxm8kpcqs/PAYMENT_CARD\n  - E/AH_0bm09wd0g/AH_hxm8kpcqs/PAYMENT_CARD\n  - E/AH_0bm1wceqf/AH_hxm8kpcqs/PAYMENT_CARD\n  - E/AH_0bm842ejs/AH_hxm8kpcqs/PAYMENT_CARD\n  - E/AH_0bma4w2js/AH_hxm8kpcqs/PAYMENT_CARD\n  - E/AH_0bmacv268/AH_hxm8kpcqs/PAYMENT_CARD\n  - E/AH_0bmgka26h/AH_hxm8kpcqs/PAYMENT_CARD\n  - E/AH_0bmp1wc0s/AH_hxm8kpcqs/PAYMENT_CARD\n  - E/AH_0bmpbcd95/AH_hxm8kpcqs/PAYMENT_CARD\n  - E/AH_0by01aemn/AH_hxm8kpcqs/PAYMENT_CARD\n  - E/AH_0by04jpc5/AH_hxm8kpcqs/PAYMENT_CARD\n  - E/AH_0by89yd6n/AH_hxm8kpcqs/PAYMENT_CARD\n  - E/AH_0bygj3we5/AH_hxm8kpcqs/PAYMENT_CARD\n  - E/AH_0byh9v2ms/AH_hxm8kpcqs/PAYMENT_CARD\n  - E/AH_0byhedc0s/AH_hxm8kpcqs/PAYMENT_CARD\n  - E/AH_0cm0x2cm8/AH_hxm8kpcqs/PAYMENT_CARD\n  - E/AH_0cm8wte9n/AH_hxm8kpcqs/PAYMENT_CARD\n  - E/AH_0cmhbveqn/AH_hxm8kpcqs/PAYMENT_CARD\n  - E/AH_0cy0dd26f/AH_hxm8kpcqs/PAYMENT_CARD\n  - E/AH_0cy149wc5/AH_hxm8kpcqs/PAYMENT_CARD\n  - E/AH_0cy8kycmn/AH_hxm8kpcqs/PAYMENT_CARD\n  - E/AH_0cyqcw205/AH_hxm8kpcqs/PAYMENT_CARD\n  - E/AH_0cyqehcqg/AH_hxm8kpcqs/PAYMENT_CARD\n  - E/AH_0cyqepdsg/AH_hxm8kpcqs/PAYMENT_CARD\n  - E/AH_0dm012ess/AH_hxm8kpcqs/PAYMENT_CARD\n  - E/AH_0dm1w8em0/AH_hxm8kpcqs/PAYMENT_CARD\n  - E/AH_0dmade2qf/AH_hxm8kpcqs/PAYMENT_CARD\n  - E/AH_0dmhpdds5/AH_hxm8kpcqs/PAYMENT_CARD\n  - E/AH_0dy0x82s8/AH_hxm8kpcqs/PAYMENT_CARD\n  - E/AH_0dypepejf/AH_hxm8kpcqs/PAYMENT_CARD\n  - E/AH_0dyprqphn/AH_hxm8kpcqs/PAYMENT_CARD\n  - E/AH_0dyqcdd6n/AH_hxm8kpcqs/PAYMENT_CARD\n  - E/AH_0em1dee4n/AH_hxm8kpcqs/PAYMENT_CARD\n  - E/AH_0em8azcjh/AH_hxm8kpcqs/PAYMENT_CARD\n  - E/AH_0emp25d40/AH_hxm8kpcqs/PAYMENT_CARD\n  - E/AH_0empx824h/AH_hxm8kpcqs/PAYMENT_CARD\n  - E/AH_0emqcxdjf/AH_hxm8kpcqs/PAYMENT_CARD\n  - E/AH_0ey1bycsh/AH_hxm8kpcqs/PAYMENT_CARD\n  - E/AH_0ey8ph2m0/AH_hxm8kpcqs/PAYMENT_CARD\n  - E/AH_0eyaxvc45/AH_hxm8kpcqs/PAYMENT_CARD\n  - E/AH_0eygpddj8/AH_hxm8kpcqs/PAYMENT_CARD\n  - E/AH_0eyh1v200/AH_hxm8kpcqs/PAYMENT_CARD\n  - E/AH_0eyh2z20f/AH_hxm8kpcqs/PAYMENT_CARD\n  - E/AH_0eyqbye6h/AH_hxm8kpcqs/PAYMENT_CARD\n  - E/AH_0fm1bcem5/AH_hxm8kpcqs/PAYMENT_CARD\n  - E/AH_0fm1keem5/AH_hxm8kpcqs/PAYMENT_CARD\n  - E/AH_0fm1kp2m5/AH_hxm8kpcqs/PAYMENT_CARD\n  - E/AH_0fm8awds8/AH_hxm8kpcqs/PAYMENT_CARD\n  - E/AH_0fmax2ems/AH_hxm8kpcqs/PAYMENT_CARD\n  - E/AH_0fmhwde4n/AH_hxm8kpcqs/PAYMENT_CARD\n  - E/AH_0fmp4ad4s/AH_hxm8kpcqs/PAYMENT_CARD\n  - E/AH_0fmpbydqg/AH_hxm8kpcqs/PAYMENT_CARD\n  - E/AH_0fmqpwc9f/AH_hxm8kpcqs/PAYMENT_CARD\n  - E/AH_0fy1pads8/AH_hxm8kpcqs/PAYMENT_CARD\n  - E/AH_0fyac2d6g/AH_hxm8kpcqs/PAYMENT_CARD\n  - E/AH_0gm0wzcag/AH_hxm8kpcqs/PAYMENT_CARD\n  - E/AH_0gmgaad0h/AH_hxm8kpcqs/PAYMENT_CARD\n  - E/AH_0gmh92c0g/AH_hxm8kpcqs/PAYMENT_CARD\n  - E/AH_0gmp1dc6s/AH_hxm8kpcqs/PAYMENT_CARD\n  - E/AH_0gmqbxesg/AH_hxm8kpcqs/PAYMENT_CARD\n  - E/AH_0gmqcy26h/AH_hxm8kpcqs/PAYMENT_CARD\n  - E/AH_0gmqk8d9n/AH_hxm8kpcqs/PAYMENT_CARD\n  - E/AH_0gy0dtd0n/AH_hxm8kpcqs/PAYMENT_CARD\n  - E/AH_0gy8e824f/AH_hxm8kpcqs/PAYMENT_CARD\n  - E/AH_0gy8p5csh/AH_hxm8kpcqs/PAYMENT_CARD\n  - E/AH_0gygj0pc8/AH_hxm8kpcqs/PAYMENT_CARD\n  - E/AH_0gyqey2qf/AH_hxm8kpcqs/PAYMENT_CARD\n  - E/AH_0hm0pve0g/AH_hxm8kpcqs/PAYMENT_CARD\n  - E/AH_0hm0pwd6h/AH_hxm8kpcqs/PAYMENT_CARD\n  - E/AH_0hm19nd0s/AH_hxm8kpcqs/PAYMENT_CARD\n  - E/AH_0hm82ves5/AH_hxm8kpcqs/PAYMENT_CARD\n  - E/AH_0hm8pze6n/AH_hxm8kpcqs/PAYMENT_CARD\n  - E/AH_0hmgjacjn/AH_hxm8kpcqs/PAYMENT_CARD\n  - E/AH_0hmhxxeyf/AH_hxm8kpcqs/PAYMENT_CARD\n  - E/AH_0hmpx5ess/AH_hxm8kpcqs/PAYMENT_CARD\n  - E/AH_0hmqx526n/AH_hxm8kpcqs/PAYMENT_CARD\n  - E/AH_0hy02e2jh/AH_hxm8kpcqs/PAYMENT_CARD\n  - E/AH_0hy1wd2mn/AH_hxm8kpcqs/PAYMENT_CARD\n  - E/AH_0hypchcs5/AH_hxm8kpcqs/PAYMENT_CARD\n  - E/AH_0hypwpc0n/AH_hxm8kpcqs/PAYMENT_CARD\n  - E/AH_0hyqe8d9n/AH_hxm8kpcqs/PAYMENT_CARD\n  - E/AH_0jm11ze9s/AH_hxm8kpcqs/PAYMENT_CARD\n  - E/AH_0jmp1td05/AH_hxm8kpcqs/PAYMENT_CARD\n  - E/AH_0jmqctd08/AH_hxm8kpcqs/PAYMENT_CARD\n  - E/AH_0jy0aa26s/AH_hxm8kpcqs/PAYMENT_CARD\n  - E/AH_0jy0dtdqh/AH_hxm8kpcqs/PAYMENT_CARD\n  - E/AH_0jy1w2d65/AH_hxm8kpcqs/PAYMENT_CARD\n  - E/AH_0jy8pa298/AH_hxm8kpcqs/PAYMENT_CARD\n  - E/AH_0kmhcxdq0/AH_hxm8kpcqs/PAYMENT_CARD\n  - E/AH_0kmppzeqg/AH_hxm8kpcqs/PAYMENT_CARD\n  - E/AH_0kmpq8d40/AH_hxm8kpcqs/PAYMENT_CARD\n  - E/AH_0ky0ax26n/AH_hxm8kpcqs/PAYMENT_CARD\n  - E/AH_0kyaae26g/AH_hxm8kpcqs/PAYMENT_CARD\n  - E/AH_0kyape2m0/AH_hxm8kpcqs/PAYMENT_CARD\n  - E/AH_0kygeyd98/AH_hxm8kpcqs/PAYMENT_CARD\n  - E/AH_0kyh1pems/AH_hxm8kpcqs/PAYMENT_CARD\n  - E/AH_0kyh2p265/AH_hxm8kpcqs/PAYMENT_CARD\n  - E/AH_0kyppd26n/AH_hxm8kpcqs/PAYMENT_CARD\n  - E/AH_0mm1x8dmg/AH_hxm8kpcqs/PAYMENT_CARD\n  - E/AH_0mm8azcss/AH_hxm8kpcqs/PAYMENT_CARD\n  - E/AH_0mm8dtem8/AH_hxm8kpcqs/PAYMENT_CARD\n  - E/AH_0mmh95dmn/AH_hxm8kpcqs/PAYMENT_CARD\n  - E/AH_0mmhw5ehf/AH_hxm8kpcqs/PAYMENT_CARD\n  - E/AH_0mmpwhe00/AH_hxm8kpcqs/PAYMENT_CARD\n  - E/AH_0my0b826g/AH_hxm8kpcqs/PAYMENT_CARD\n  - E/AH_0my0kmpa8/AH_hxm8kpcqs/PAYMENT_CARD\n  - E/AH_0my1awdq0/AH_hxm8kpcqs/PAYMENT_CARD\n  - E/AH_0mygc2d0g/AH_hxm8kpcqs/PAYMENT_CARD\n  - E/AH_0myhd5cqh/AH_hxm8kpcqs/PAYMENT_CARD\n  - E/AH_0myhqceqh/AH_hxm8kpcqs/PAYMENT_CARD\n  - E/AH_0mypk826n/AH_hxm8kpcqs/PAYMENT_CARD\n  - E/AH_0myqjrpn0/AH_hxm8kpcqs/PAYMENT_CARD\n  - E/AH_0nm125dmh/AH_hxm8kpcqs/PAYMENT_CARD\n  - E/AH_0nm1ka260/AH_hxm8kpcqs/PAYMENT_CARD\n  - E/AH_0nmajhd6f/AH_hxm8kpcqs/PAYMENT_CARD\n  - E/AH_0nmh45e98/AH_hxm8kpcqs/PAYMENT_CARD\n  - E/AH_0nmp4p26f/AH_hxm8kpcqs/PAYMENT_CARD\n  - E/AH_0ny0ch26h/AH_hxm8kpcqs/PAYMENT_CARD\n  - E/AH_0nygawdsf/AH_hxm8kpcqs/PAYMENT_CARD\n  - E/AH_0nyhah2qs/AH_hxm8kpcqs/PAYMENT_CARD\n  - E/AH_0nypc82js/AH_hxm8kpcqs/PAYMENT_CARD\n  - E/AH_0pm19w2s8/AH_hxm8kpcqs/PAYMENT_CARD\n  - E/AH_0pm1b5es5/AH_hxm8kpcqs/PAYMENT_CARD\n  - E/AH_0pmapheq0/AH_hxm8kpcqs/PAYMENT_CARD\n  - E/AH_0pmapx2sg/AH_hxm8kpcqs/PAYMENT_CARD\n  - E/AH_0pmhatcj8/AH_hxm8kpcqs/PAYMENT_CARD\n  - E/AH_0pmhcdesn/AH_hxm8kpcqs/PAYMENT_CARD\n  - E/AH_0pmhwecq0/AH_hxm8kpcqs/PAYMENT_CARD\n  - E/AH_0pmprc2sg/AH_hxm8kpcqs/PAYMENT_CARD\n  - E/AH_0py1r3pef/AH_hxm8kpcqs/PAYMENT_CARD\n  - E/AH_0py1r9wy0/AH_hxm8kpcqs/PAYMENT_CARD\n  - E/AH_0pyacx2sh/AH_hxm8kpcqs/PAYMENT_CARD\n  - E/AH_0pyqctc45/AH_hxm8kpcqs/PAYMENT_CARD\n  - E/AH_0qm0bcd4f/AH_hxm8kpcqs/PAYMENT_CARD\n  - E/AH_0qm8jx2qn/AH_hxm8kpcqs/PAYMENT_CARD\n  - E/AH_0qmajhd45/AH_hxm8kpcqs/PAYMENT_CARD\n  - E/AH_0qmh9x2q0/AH_hxm8kpcqs/PAYMENT_CARD\n  - E/AH_0qmpbc2sn/AH_hxm8kpcqs/PAYMENT_CARD\n  - E/AH_0qmq1wc60/AH_hxm8kpcqs/PAYMENT_CARD\n  - E/AH_0qy1cae4f/AH_hxm8kpcqs/PAYMENT_CARD\n  - E/AH_0qya18c65/AH_hxm8kpcqs/PAYMENT_CARD\n  - E/AH_0qyhrjwa5/AH_hxm8kpcqs/PAYMENT_CARD\n  - E/AH_0rm14edqn/AH_hxm8kpcqs/PAYMENT_CARD\n  - E/AH_0rm8kncjf/AH_hxm8kpcqs/PAYMENT_CARD\n  - E/AH_0rm8pne6s/AH_hxm8kpcqs/PAYMENT_CARD\n  - E/AH_0rmajzemn/AH_hxm8kpcqs/PAYMENT_CARD\n  - E/AH_0rmgqte6h/AH_hxm8kpcqs/PAYMENT_CARD\n  - E/AH_0rmpwpc65/AH_hxm8kpcqs/PAYMENT_CARD\n  - E/AH_0rmqbec6h/AH_hxm8kpcqs/PAYMENT_CARD\n  - E/AH_0rmqxte4n/AH_hxm8kpcqs/PAYMENT_CARD\n  - E/AH_0ry098esf/AH_hxm8kpcqs/PAYMENT_CARD\n  - E/AH_0ry84d2q5/AH_hxm8kpcqs/PAYMENT_CARD\n  - E/AH_0ryaaedmh/AH_hxm8kpcqs/PAYMENT_CARD\n  - E/AH_0rygped0h/AH_hxm8kpcqs/PAYMENT_CARD\n  - E/AH_0ryq95c90/AH_hxm8kpcqs/PAYMENT_CARD\n  - E/AH_0sm0e2ce8/AH_hxm8kpcqs/PAYMENT_CARD\n  - E/AH_0sm8wc2xg/AH_hxm8kpcqs/PAYMENT_CARD\n  - E/AH_0smhdn2jg/AH_hxm8kpcqs/PAYMENT_CARD\n  - E/AH_0smhxcejs/AH_hxm8kpcqs/PAYMENT_CARD\n  - E/AH_0smpwwemg/AH_hxm8kpcqs/PAYMENT_CARD\n  - E/AH_0sy8rfph8/AH_hxm8kpcqs/PAYMENT_CARD\n  - E/AH_0syg2ncm5/AH_hxm8kpcqs/PAYMENT_CARD\n  - E/AH_0sypbe2j5/AH_hxm8kpcqs/PAYMENT_CARD\n  - E/AH_0tm1jwe0f/AH_hxm8kpcqs/PAYMENT_CARD\n  - E/AH_0tm1qzd4s/AH_hxm8kpcqs/PAYMENT_CARD\n  - E/AH_0tm84xcjn/AH_hxm8kpcqs/PAYMENT_CARD\n  - E/AH_0tm8w5ec8/AH_hxm8kpcqs/PAYMENT_CARD\n  - E/AH_0tmhwvdmh/AH_hxm8kpcqs/PAYMENT_CARD\n  - E/AH_0tmqdcd4f/AH_hxm8kpcqs/PAYMENT_CARD\n  - E/AH_0ty0cndmn/AH_hxm8kpcqs/PAYMENT_CARD\n  - E/AH_0ty1xcdm8/AH_hxm8kpcqs/PAYMENT_CARD\n  - E/AH_0tya18cqn/AH_hxm8kpcqs/PAYMENT_CARD\n  - E/AH_0tya4x2mn/AH_hxm8kpcqs/PAYMENT_CARD\n  - E/AH_0tygqve60/AH_hxm8kpcqs/PAYMENT_CARD\n  - E/AH_0vma1ddq0/AH_hxm8kpcqs/PAYMENT_CARD\n  - E/AH_0vmgavey8/AH_hxm8kpcqs/PAYMENT_CARD\n  - E/AH_0vmgxec00/AH_hxm8kpcqs/PAYMENT_CARD\n  - E/AH_0vmhpyc40/AH_hxm8kpcqs/PAYMENT_CARD\n  - E/AH_0vmp4vd48/AH_hxm8kpcqs/PAYMENT_CARD\n  - E/AH_0vygrt20f/AH_hxm8kpcqs/PAYMENT_CARD\n  - E/AH_0vygw826g/AH_hxm8kpcqs/PAYMENT_CARD\n  - E/AH_0vyhdncmf/AH_hxm8kpcqs/PAYMENT_CARD\n  - E/AH_0vypda24f/AH_hxm8kpcqs/PAYMENT_CARD\n  - E/AH_0wm8ah29g/AH_hxm8kpcqs/PAYMENT_CARD\n  - E/AH_0wmgxdcmf/AH_hxm8kpcqs/PAYMENT_CARD\n  - E/AH_0wy0phdsn/AH_hxm8kpcqs/PAYMENT_CARD\n  - E/AH_0wy8andsf/AH_hxm8kpcqs/PAYMENT_CARD\n  - E/AH_0xm0r8cm5/AH_hxm8kpcqs/PAYMENT_CARD\n  - E/AH_0xmgdhejh/AH_hxm8kpcqs/PAYMENT_CARD\n  - E/AH_0xmha5ejs/AH_hxm8kpcqs/PAYMENT_CARD\n  - E/AH_0xmhevesh/AH_hxm8kpcqs/PAYMENT_CARD\n  - E/AH_0xmpaee4h/AH_hxm8kpcqs/PAYMENT_CARD\n  - E/AH_0xy1ax2q0/AH_hxm8kpcqs/PAYMENT_CARD\n  - E/AH_0xyae8c4f/AH_hxm8kpcqs/PAYMENT_CARD\n  - E/AH_0xyawzdsf/AH_hxm8kpcqs/PAYMENT_CARD\n  - E/AH_0xygdx2qg/AH_hxm8kpcqs/PAYMENT_CARD\n  - E/AH_0ym0ewes0/AH_hxm8kpcqs/PAYMENT_CARD\n  - E/AH_0ym1q8d0n/AH_hxm8kpcqs/PAYMENT_CARD\n  - E/AH_0ym8ahd4n/AH_hxm8kpcqs/PAYMENT_CARD\n  - E/AH_0ymad2c0g/AH_hxm8kpcqs/PAYMENT_CARD\n  - E/AH_0ymaw82sg/AH_hxm8kpcqs/PAYMENT_CARD\n  - E/AH_0ymaxde45/AH_hxm8kpcqs/PAYMENT_CARD\n  - E/AH_0ymhkees0/AH_hxm8kpcqs/PAYMENT_CARD\n  - E/AH_0yygpd2s5/AH_hxm8kpcqs/PAYMENT_CARD\n  - E/AH_0yyhccc6n/AH_hxm8kpcqs/PAYMENT_CARD\n  - E/AH_0yyq2vc9g/AH_hxm8kpcqs/PAYMENT_CARD\n  - E/AH_0zm142d4f/AH_hxm8kpcqs/PAYMENT_CARD\n  - E/AH_0zma9yc0n/AH_hxm8kpcqs/PAYMENT_CARD\n  - E/AH_0zmaa5djs/AH_hxm8kpcqs/PAYMENT_CARD\n  - E/AH_0zmaqecj0/AH_hxm8kpcqs/PAYMENT_CARD\n  - E/AH_0zmqcdd9n/AH_hxm8kpcqs/PAYMENT_CARD\n  - E/AH_0zmqwwdmf/AH_hxm8kpcqs/PAYMENT_CARD\n  - E/AH_0zy09vc45/AH_hxm8kpcqs/PAYMENT_CARD\n  - E/AH_0zy0cx2m0/AH_hxm8kpcqs/PAYMENT_CARD\n  - E/AH_0zy0wvd6n/AH_hxm8kpcqs/PAYMENT_CARD\n  - E/AH_0zy8enc6h/AH_hxm8kpcqs/PAYMENT_CARD\n  - E/AH_0zyhan29f/AH_hxm8kpcqs/PAYMENT_CARD\n  - E/AH_10m8b2c9s/AH_hxm8kpcqs/PAYMENT_CARD\n  - E/AH_10mgac2qs/AH_hxm8kpcqs/PAYMENT_CARD\n  - E/AH_10y1dvd90/AH_hxm8kpcqs/PAYMENT_CARD\n  - E/AH_10y8pz20h/AH_hxm8kpcqs/PAYMENT_CARD\n  - E/AH_10y8xyd0s/AH_hxm8kpcqs/PAYMENT_CARD\n  - E/AH_10ygpwdj0/AH_hxm8kpcqs/PAYMENT_CARD\n  - E/AH_10ypctes5/AH_hxm8kpcqs/PAYMENT_CARD\n  - E/AH_10yprp2q8/AH_hxm8kpcqs/PAYMENT_CARD\n  - E/AH_11m02cc0g/AH_hxm8kpcqs/PAYMENT_CARD\n  - E/AH_11m1pvcy0/AH_hxm8kpcqs/PAYMENT_CARD\n  - E/AH_11m1rtds5/AH_hxm8kpcqs/PAYMENT_CARD\n  - E/AH_11mhjzcqh/AH_hxm8kpcqs/PAYMENT_CARD\n  - E/AH_11mqazcqh/AH_hxm8kpcqs/PAYMENT_CARD\n  - E/AH_11mqbxd0h/AH_hxm8kpcqs/PAYMENT_CARD\n  - E/AH_11mqwycng/AH_hxm8kpcqs/PAYMENT_CARD\n  - E/AH_11yg9tcj5/AH_hxm8kpcqs/PAYMENT_CARD\n  - E/AH_12m14d2qf/AH_hxm8kpcqs/PAYMENT_CARD\n  - E/AH_12m8ctdj0/AH_hxm8kpcqs/PAYMENT_CARD\n  - E/AH_12mgd2e4h/AH_hxm8kpcqs/PAYMENT_CARD\n  - E/AH_12mh9zd45/AH_hxm8kpcqs/PAYMENT_CARD\n  - E/AH_12y0j5e6g/AH_hxm8kpcqs/PAYMENT_CARD\n  - E/AH_12y1cdejs/AH_hxm8kpcqs/PAYMENT_CARD\n  - E/AH_12y8wdcq5/AH_hxm8kpcqs/PAYMENT_CARD\n  - E/AH_12yapwc48/AH_hxm8kpcqs/PAYMENT_CARD\n  - E/AH_12yhaydjs/AH_hxm8kpcqs/PAYMENT_CARD\n  - E/AH_12yhk8248/AH_hxm8kpcqs/PAYMENT_CARD\n  - E/AH_12yqwdd90/AH_hxm8kpcqs/PAYMENT_CARD\n  - E/AH_13m0bnd4h/AH_hxm8kpcqs/PAYMENT_CARD\n  - E/AH_13m1jp2j8/AH_hxm8kpcqs/PAYMENT_CARD\n  - E/AH_13mgx22mf/AH_hxm8kpcqs/PAYMENT_CARD\n  - E/AH_13mhceemh/AH_hxm8kpcqs/PAYMENT_CARD\n  - E/AH_13mhexe0n/AH_hxm8kpcqs/PAYMENT_CARD\n  - E/AH_13mhrae0g/AH_hxm8kpcqs/PAYMENT_CARD\n  - E/AH_13mpdc2m0/AH_hxm8kpcqs/PAYMENT_CARD\n  - E/AH_13mqqec9s/AH_hxm8kpcqs/PAYMENT_CARD\n  - E/AH_13y0rzeqn/AH_hxm8kpcqs/PAYMENT_CARD\n  - E/AH_13y1a8d9h/AH_hxm8kpcqs/PAYMENT_CARD\n  - E/AH_13yabxc0s/AH_hxm8kpcqs/PAYMENT_CARD\n  - E/AH_13yga82j8/AH_hxm8kpcqs/PAYMENT_CARD\n  - E/AH_13ygdhc95/AH_hxm8kpcqs/PAYMENT_CARD\n  - E/AH_13yh2zcj0/AH_hxm8kpcqs/PAYMENT_CARD\n  - E/AH_14m1bn24h/AH_hxm8kpcqs/PAYMENT_CARD\n  - E/AH_14m1ey2jf/AH_hxm8kpcqs/PAYMENT_CARD\n  - E/AH_14mgaedmh/AH_hxm8kpcqs/PAYMENT_CARD\n  - E/AH_14mgryej5/AH_hxm8kpcqs/PAYMENT_CARD\n  - E/AH_14mp4h208/AH_hxm8kpcqs/PAYMENT_CARD\n  - E/AH_14mqr529f/AH_hxm8kpcqs/PAYMENT_CARD\n  - E/AH_14y14e2ss/AH_hxm8kpcqs/PAYMENT_CARD\n  - E/AH_14y1eeeqf/AH_hxm8kpcqs/PAYMENT_CARD\n  - E/AH_15mhrxcqf/AH_hxm8kpcqs/PAYMENT_CARD\n  - E/AH_15yhxye68/AH_hxm8kpcqs/PAYMENT_CARD\n  - E/AH_16ma2eemf/AH_hxm8kpcqs/PAYMENT_CARD\n  - E/AH_16mgcddmn/AH_hxm8kpcqs/PAYMENT_CARD\n  - E/AH_16mha2dsf/AH_hxm8kpcqs/PAYMENT_CARD\n  - E/AH_16mhk5c6s/AH_hxm8kpcqs/PAYMENT_CARD\n  - E/AH_16y8p2dsh/AH_hxm8kpcqs/PAYMENT_CARD\n  - E/AH_16y8ph245/AH_hxm8kpcqs/PAYMENT_CARD\n  - E/AH_16yg4ec9s/AH_hxm8kpcqs/PAYMENT_CARD\n  - E/AH_16ygxx265/AH_hxm8kpcqs/PAYMENT_CARD\n  - E/AH_16yhkswcn/AH_hxm8kpcqs/PAYMENT_CARD\n  - E/AH_16ypaa29h/AH_hxm8kpcqs/PAYMENT_CARD\n  - E/AH_17m0et26n/AH_hxm8kpcqs/PAYMENT_CARD\n  - E/AH_17m0xhemn/AH_hxm8kpcqs/PAYMENT_CARD\n  - E/AH_17max8e9g/AH_hxm8kpcqs/PAYMENT_CARD\n  - E/AH_17mpx524h/AH_hxm8kpcqs/PAYMENT_CARD\n  - E/AH_17yhwpd0n/AH_hxm8kpcqs/PAYMENT_CARD\n  - E/AH_18m0jw245/AH_hxm8kpcqs/PAYMENT_CARD\n  - E/AH_18m8pacyg/AH_hxm8kpcqs/PAYMENT_CARD\n  - E/AH_18mgqwd4n/AH_hxm8kpcqs/PAYMENT_CARD\n  - E/AH_18mheacqn/AH_hxm8kpcqs/PAYMENT_CARD\n  - E/AH_18mp4ccqh/AH_hxm8kpcqs/PAYMENT_CARD\n  - E/AH_18mq9pd40/AH_hxm8kpcqs/PAYMENT_CARD\n  - E/AH_18y812dm8/AH_hxm8kpcqs/PAYMENT_CARD\n  - E/AH_18ypkpd60/AH_hxm8kpcqs/PAYMENT_CARD\n  - E/AH_18yqjze0g/AH_hxm8kpcqs/PAYMENT_CARD\n  - E/AH_19m898cjs/AH_hxm8kpcqs/PAYMENT_CARD\n  - E/AH_19m8qxdsh/AH_hxm8kpcqs/PAYMENT_CARD\n  - E/AH_19mhd52ms/AH_hxm8kpcqs/PAYMENT_CARD\n  - E/AH_19mhqxc05/AH_hxm8kpcqs/PAYMENT_CARD\n  - E/AH_19mpqx2m0/AH_hxm8kpcqs/PAYMENT_CARD\n  - E/AH_19mpxheqn/AH_hxm8kpcqs/PAYMENT_CARD\n  - E/AH_19mpxncm5/AH_hxm8kpcqs/PAYMENT_CARD\n  - E/AH_19mqqzd0f/AH_hxm8kpcqs/PAYMENT_CARD\n  - E/AH_19yhae26n/AH_hxm8kpcqs/PAYMENT_CARD\n  - E/AH_19yhd2c9f/AH_hxm8kpcqs/PAYMENT_CARD\n  - E/AH_19yhppd6s/AH_hxm8kpcqs/PAYMENT_CARD\n  - E/AH_19yqae2sg/AH_hxm8kpcqs/PAYMENT_CARD\n  - E/AH_1am09dejf/AH_hxm8kpcqs/PAYMENT_CARD\n  - E/AH_1am8ce2s0/AH_hxm8kpcqs/PAYMENT_CARD\n  - E/AH_1amh122jf/AH_hxm8kpcqs/PAYMENT_CARD\n  - E/AH_1ampkw26f/AH_hxm8kpcqs/PAYMENT_CARD\n  - E/AH_1ay09ycjs/AH_hxm8kpcqs/PAYMENT_CARD\n  - E/AH_1ay0e52ss/AH_hxm8kpcqs/PAYMENT_CARD\n  - E/AH_1ay0r5e0g/AH_hxm8kpcqs/PAYMENT_CARD\n  - E/AH_1ay122dqh/AH_hxm8kpcqs/P\n\n*** WARNING: max output size exceeded, skipping output. ***\n\n_ycmqwcdy5/PAYMENT_CARD\n  - E/AH_hxm8kpcqs/AH_ycy0ahd0s/PAYMENT_CARD\n  - E/AH_hxm8kpcqs/AH_ycy0en24h/PAYMENT_CARD\n  - E/AH_hxm8kpcqs/AH_ycy1c82sn/PAYMENT_CARD\n  - E/AH_hxm8kpcqs/AH_ycy818c60/PAYMENT_CARD\n  - E/AH_hxm8kpcqs/AH_ycygrqpy5/PAYMENT_CARD\n  - E/AH_hxm8kpcqs/AH_ycyhe2dqg/PAYMENT_CARD\n  - E/AH_hxm8kpcqs/AH_ydmq4x26g/PAYMENT_CARD\n  - E/AH_hxm8kpcqs/AH_ydmqba2ss/PAYMENT_CARD\n  - E/AH_hxm8kpcqs/AH_ydmqxveqh/PAYMENT_CARD\n  - E/AH_hxm8kpcqs/AH_ydy1w2260/PAYMENT_CARD\n  - E/AH_hxm8kpcqs/AH_ydyax8djh/PAYMENT_CARD\n  - E/AH_hxm8kpcqs/AH_ydypcw200/PAYMENT_CARD\n  - E/AH_hxm8kpcqs/AH_ydypehd0s/PAYMENT_CARD\n  - E/AH_hxm8kpcqs/AH_yem0j8e4s/PAYMENT_CARD\n  - E/AH_hxm8kpcqs/AH_yem1exess/PAYMENT_CARD\n  - E/AH_hxm8kpcqs/AH_yem1pvemg/PAYMENT_CARD\n  - E/AH_hxm8kpcqs/AH_yem8wx2qs/PAYMENT_CARD\n  - E/AH_hxm8kpcqs/AH_yemh1z205/PAYMENT_CARD\n  - E/AH_hxm8kpcqs/AH_yemhwxejh/PAYMENT_CARD\n  - E/AH_hxm8kpcqs/AH_yey0dt260/PAYMENT_CARD\n  - E/AH_hxm8kpcqs/AH_yey8rbpxs/PAYMENT_CARD\n  - E/AH_hxm8kpcqs/AH_yeyp1tc90/PAYMENT_CARD\n  - E/AH_hxm8kpcqs/AH_yfm02x2sg/PAYMENT_CARD\n  - E/AH_hxm8kpcqs/AH_yfm0dzcqh/PAYMENT_CARD\n  - E/AH_hxm8kpcqs/AH_yfm8kxdmh/PAYMENT_CARD\n  - E/AH_hxm8kpcqs/AH_yfm8pt2x0/PAYMENT_CARD\n  - E/AH_hxm8kpcqs/AH_yfmadxda5/PAYMENT_CARD\n  - E/AH_hxm8kpcqs/AH_yfmaky20h/PAYMENT_CARD\n  - E/AH_hxm8kpcqs/AH_yfmax226g/PAYMENT_CARD\n  - E/AH_hxm8kpcqs/AH_yfmh12cjg/PAYMENT_CARD\n  - E/AH_hxm8kpcqs/AH_yfmhayd95/PAYMENT_CARD\n  - E/AH_hxm8kpcqs/AH_yfy0dwcsn/PAYMENT_CARD\n  - E/AH_hxm8kpcqs/AH_yfy8axd0g/PAYMENT_CARD\n  - E/AH_hxm8kpcqs/AH_yfy8r9ptn/PAYMENT_CARD\n  - E/AH_hxm8kpcqs/AH_yfyaead6h/PAYMENT_CARD\n  - E/AH_hxm8kpcqs/AH_yfygxcd95/PAYMENT_CARD\n  - E/AH_hxm8kpcqs/AH_yfyhdpc0h/PAYMENT_CARD\n  - E/AH_hxm8kpcqs/AH_yfyqwden0/PAYMENT_CARD\n  - E/AH_hxm8kpcqs/AH_ygm0xwd6h/PAYMENT_CARD\n  - E/AH_hxm8kpcqs/AH_ygma25ds5/PAYMENT_CARD\n  - E/AH_hxm8kpcqs/AH_ygmgxn2m8/PAYMENT_CARD\n  - E/AH_hxm8kpcqs/AH_ygmpbhd08/PAYMENT_CARD\n  - E/AH_hxm8kpcqs/AH_ygmqwnc60/PAYMENT_CARD\n  - E/AH_hxm8kpcqs/AH_ygy1etdm8/PAYMENT_CARD\n  - E/AH_hxm8kpcqs/AH_ygy82neq0/PAYMENT_CARD\n  - E/AH_hxm8kpcqs/AH_ygy8eteq0/PAYMENT_CARD\n  - E/AH_hxm8kpcqs/AH_ygyaahd9h/PAYMENT_CARD\n  - E/AH_hxm8kpcqs/AH_ygygxyds0/PAYMENT_CARD\n  - E/AH_hxm8kpcqs/AH_ygyq1tdsg/PAYMENT_CARD\n  - E/AH_hxm8kpcqs/AH_ygyqpn24f/PAYMENT_CARD\n  - E/AH_hxm8kpcqs/AH_yhm0cx2qh/PAYMENT_CARD\n  - E/AH_hxm8kpcqs/AH_yhm0rhesg/PAYMENT_CARD\n  - E/AH_hxm8kpcqs/AH_yhmacc26h/PAYMENT_CARD\n  - E/AH_hxm8kpcqs/AH_yhmhxwc40/PAYMENT_CARD\n  - E/AH_hxm8kpcqs/AH_yhy8wvcch/PAYMENT_CARD\n  - E/AH_hxm8kpcqs/AH_yhyaxpds0/PAYMENT_CARD\n  - E/AH_hxm8kpcqs/AH_yhyqrdd60/PAYMENT_CARD\n  - E/AH_hxm8kpcqs/AH_yjm0cy20g/PAYMENT_CARD\n  - E/AH_hxm8kpcqs/AH_yjm0dec90/PAYMENT_CARD\n  - E/AH_hxm8kpcqs/AH_yjm195e0s/PAYMENT_CARD\n  - E/AH_hxm8kpcqs/AH_yjmaxv2jn/PAYMENT_CARD\n  - E/AH_hxm8kpcqs/AH_yjmq9z2jh/PAYMENT_CARD\n  - E/AH_hxm8kpcqs/AH_yjmqcw20h/PAYMENT_CARD\n  - E/AH_hxm8kpcqs/AH_yjygacdm5/PAYMENT_CARD\n  - E/AH_hxm8kpcqs/AH_yjygxdd4h/PAYMENT_CARD\n  - E/AH_hxm8kpcqs/AH_yjyh1vemh/PAYMENT_CARD\n  - E/AH_hxm8kpcqs/AH_yjyhctej8/PAYMENT_CARD\n  - E/AH_hxm8kpcqs/AH_yjyqk6wcf/PAYMENT_CARD\n  - E/AH_hxm8kpcqs/AH_ykm0btd08/PAYMENT_CARD\n  - E/AH_hxm8kpcqs/AH_ykm1awcms/PAYMENT_CARD\n  - E/AH_hxm8kpcqs/AH_ykm1ezc9s/PAYMENT_CARD\n  - E/AH_hxm8kpcqs/AH_ykm1jye6h/PAYMENT_CARD\n  - E/AH_hxm8kpcqs/AH_ykm1ppc9n/PAYMENT_CARD\n  - E/AH_hxm8kpcqs/AH_ykmq2t20s/PAYMENT_CARD\n  - E/AH_hxm8kpcqs/AH_ykmqbteqs/PAYMENT_CARD\n  - E/AH_hxm8kpcqs/AH_yky01pd6g/PAYMENT_CARD\n  - E/AH_hxm8kpcqs/AH_ykyqeccmh/PAYMENT_CARD\n  - E/AH_hxm8kpcqs/AH_ymm098cqh/PAYMENT_CARD\n  - E/AH_hxm8kpcqs/AH_ymm8bees5/PAYMENT_CARD\n  - E/AH_hxm8kpcqs/AH_ymm8jwdsg/PAYMENT_CARD\n  - E/AH_hxm8kpcqs/AH_ymmaknd68/PAYMENT_CARD\n  - E/AH_hxm8kpcqs/AH_ymmpw8e6f/PAYMENT_CARD\n  - E/AH_hxm8kpcqs/AH_ymmqaadm0/PAYMENT_CARD\n  - E/AH_hxm8kpcqs/AH_ymmqpp265/PAYMENT_CARD\n  - E/AH_hxm8kpcqs/AH_ymmqqyejn/PAYMENT_CARD\n  - E/AH_hxm8kpcqs/AH_ymmqxzcqn/PAYMENT_CARD\n  - E/AH_hxm8kpcqs/AH_ymy0r6wxf/PAYMENT_CARD\n  - E/AH_hxm8kpcqs/AH_ymy19ce6f/PAYMENT_CARD\n  - E/AH_hxm8kpcqs/AH_ynmgdw2xg/PAYMENT_CARD\n  - E/AH_hxm8kpcqs/AH_ynmgpweq8/PAYMENT_CARD\n  - E/AH_hxm8kpcqs/AH_ynmh1ecs8/PAYMENT_CARD\n  - E/AH_hxm8kpcqs/AH_ynmp9pes5/PAYMENT_CARD\n  - E/AH_hxm8kpcqs/AH_ynmprceqn/PAYMENT_CARD\n  - E/AH_hxm8kpcqs/AH_ynmprpe4s/PAYMENT_CARD\n  - E/AH_hxm8kpcqs/AH_ynmqkdd9f/PAYMENT_CARD\n  - E/AH_hxm8kpcqs/AH_yny198eq8/PAYMENT_CARD\n  - E/AH_hxm8kpcqs/AH_yny1exc9h/PAYMENT_CARD\n  - E/AH_hxm8kpcqs/AH_yny1w8dq8/PAYMENT_CARD\n  - E/AH_hxm8kpcqs/AH_yny82tdsf/PAYMENT_CARD\n  - E/AH_hxm8kpcqs/AH_ynyakswen/PAYMENT_CARD\n  - E/AH_hxm8kpcqs/AH_ynypqccs0/PAYMENT_CARD\n  - E/AH_hxm8kpcqs/AH_ynypx5d65/PAYMENT_CARD\n  - E/AH_hxm8kpcqs/AH_ynyqqzcs8/PAYMENT_CARD\n  - E/AH_hxm8kpcqs/AH_ypm8eacsh/PAYMENT_CARD\n  - E/AH_hxm8kpcqs/AH_ypma9pc9g/PAYMENT_CARD\n  - E/AH_hxm8kpcqs/AH_ypmg9pcjh/PAYMENT_CARD\n  - E/AH_hxm8kpcqs/AH_ypmprt298/PAYMENT_CARD\n  - E/AH_hxm8kpcqs/AH_ypygctc4h/PAYMENT_CARD\n  - E/AH_hxm8kpcqs/AH_ypyqeyc4f/PAYMENT_CARD\n  - E/AH_hxm8kpcqs/AH_yqm0j52j5/PAYMENT_CARD\n  - E/AH_hxm8kpcqs/AH_yqm1aycsn/PAYMENT_CARD\n  - E/AH_hxm8kpcqs/AH_yqm1kwcs5/PAYMENT_CARD\n  - E/AH_hxm8kpcqs/AH_yqm8452qs/PAYMENT_CARD\n  - E/AH_hxm8kpcqs/AH_yqm8j2d48/PAYMENT_CARD\n  - E/AH_hxm8kpcqs/AH_yqma1z2s0/PAYMENT_CARD\n  - E/AH_hxm8kpcqs/AH_yqmapa26h/PAYMENT_CARD\n  - E/AH_hxm8kpcqs/AH_yqmgrxdm5/PAYMENT_CARD\n  - E/AH_hxm8kpcqs/AH_yqmh1hcm5/PAYMENT_CARD\n  - E/AH_hxm8kpcqs/AH_yqmh2cc6n/PAYMENT_CARD\n  - E/AH_hxm8kpcqs/AH_yqmhdxe90/PAYMENT_CARD\n  - E/AH_hxm8kpcqs/AH_yqmpd8dsh/PAYMENT_CARD\n  - E/AH_hxm8kpcqs/AH_yqmppxeyn/PAYMENT_CARD\n  - E/AH_hxm8kpcqs/AH_yqmpxte9n/PAYMENT_CARD\n  - E/AH_hxm8kpcqs/AH_yqy0jmpa5/PAYMENT_CARD\n  - E/AH_hxm8kpcqs/AH_yqya9aemn/PAYMENT_CARD\n  - E/AH_hxm8kpcqs/AH_yqyapyem5/PAYMENT_CARD\n  - E/AH_hxm8kpcqs/AH_yqyg1zcj8/PAYMENT_CARD\n  - E/AH_hxm8kpcqs/AH_yqyqj22js/PAYMENT_CARD\n  - E/AH_hxm8kpcqs/AH_yqyqkqpy0/PAYMENT_CARD\n  - E/AH_hxm8kpcqs/AH_yrm0dwe6f/PAYMENT_CARD\n  - E/AH_hxm8kpcqs/AH_yrm0evce5/PAYMENT_CARD\n  - E/AH_hxm8kpcqs/AH_yrm0pecqf/PAYMENT_CARD\n  - E/AH_hxm8kpcqs/AH_yrm1xzeq5/PAYMENT_CARD\n  - E/AH_hxm8kpcqs/AH_yrmhend6h/PAYMENT_CARD\n  - E/AH_hxm8kpcqs/AH_yrmpetd4s/PAYMENT_CARD\n  - E/AH_hxm8kpcqs/AH_yrygk7pen/PAYMENT_CARD\n  - E/AH_hxm8kpcqs/AH_ysm0ev20g/PAYMENT_CARD\n  - E/AH_hxm8kpcqs/AH_ysm0jt24h/PAYMENT_CARD\n  - E/AH_hxm8kpcqs/AH_ysm1pxeh5/PAYMENT_CARD\n  - E/AH_hxm8kpcqs/AH_ysm82zesn/PAYMENT_CARD\n  - E/AH_hxm8kpcqs/AH_ysm8ke2sg/PAYMENT_CARD\n  - E/AH_hxm8kpcqs/AH_ysmgb2cqs/PAYMENT_CARD\n  - E/AH_hxm8kpcqs/AH_ysmhwxcsn/PAYMENT_CARD\n  - E/AH_hxm8kpcqs/AH_ysmhxzemh/PAYMENT_CARD\n  - E/AH_hxm8kpcqs/AH_ysmqph2mn/PAYMENT_CARD\n  - E/AH_hxm8kpcqs/AH_ysmqwy26g/PAYMENT_CARD\n  - E/AH_hxm8kpcqs/AH_ysy82dcjg/PAYMENT_CARD\n  - E/AH_hxm8kpcqs/AH_ysyg2we45/PAYMENT_CARD\n  - E/AH_hxm8kpcqs/AH_ysyq9dc0n/PAYMENT_CARD\n  - E/AH_hxm8kpcqs/AH_ysyqpydhh/PAYMENT_CARD\n  - E/AH_hxm8kpcqs/AH_ytm12zd6s/PAYMENT_CARD\n  - E/AH_hxm8kpcqs/AH_ytm8r5d40/PAYMENT_CARD\n  - E/AH_hxm8kpcqs/AH_ytmp9zesg/PAYMENT_CARD\n  - E/AH_hxm8kpcqs/AH_ytmqq22js/PAYMENT_CARD\n  - E/AH_hxm8kpcqs/AH_yty1jw20f/PAYMENT_CARD\n  - E/AH_hxm8kpcqs/AH_ytyaah20g/PAYMENT_CARD\n  - E/AH_hxm8kpcqs/AH_ytyqxv200/PAYMENT_CARD\n  - E/AH_hxm8kpcqs/AH_yvm1r8dqn/PAYMENT_CARD\n  - E/AH_hxm8kpcqs/AH_yvm1rac0g/PAYMENT_CARD\n  - E/AH_hxm8kpcqs/AH_yvm8cecxh/PAYMENT_CARD\n  - E/AH_hxm8kpcqs/AH_yvm8pnems/PAYMENT_CARD\n  - E/AH_hxm8kpcqs/AH_yvmaa52m0/PAYMENT_CARD\n  - E/AH_hxm8kpcqs/AH_yvmgwpc9n/PAYMENT_CARD\n  - E/AH_hxm8kpcqs/AH_yvmhdt2jn/PAYMENT_CARD\n  - E/AH_hxm8kpcqs/AH_yvmppn2eg/PAYMENT_CARD\n  - E/AH_hxm8kpcqs/AH_yvmqjdem0/PAYMENT_CARD\n  - E/AH_hxm8kpcqs/AH_yvy8ev245/PAYMENT_CARD\n  - E/AH_hxm8kpcqs/AH_yvyakve0g/PAYMENT_CARD\n  - E/AH_hxm8kpcqs/AH_ywm1xtc4f/PAYMENT_CARD\n  - E/AH_hxm8kpcqs/AH_ywm8wcd90/PAYMENT_CARD\n  - E/AH_hxm8kpcqs/AH_ywm8x8cjs/PAYMENT_CARD\n  - E/AH_hxm8kpcqs/AH_ywmaxx2sf/PAYMENT_CARD\n  - E/AH_hxm8kpcqs/AH_ywmg9wcsg/PAYMENT_CARD\n  - E/AH_hxm8kpcqs/AH_ywmgpccq8/PAYMENT_CARD\n  - E/AH_hxm8kpcqs/AH_ywmpk82s0/PAYMENT_CARD\n  - E/AH_hxm8kpcqs/AH_ywmpw82mh/PAYMENT_CARD\n  - E/AH_hxm8kpcqs/AH_ywy8k3wnf/PAYMENT_CARD\n  - E/AH_hxm8kpcqs/AH_ywy8qedjf/PAYMENT_CARD\n  - E/AH_hxm8kpcqs/AH_ywyakmpxh/PAYMENT_CARD\n  - E/AH_hxm8kpcqs/AH_ywygkqwan/PAYMENT_CARD\n  - E/AH_hxm8kpcqs/AH_ywyq2td48/PAYMENT_CARD\n  - E/AH_hxm8kpcqs/AH_yxm04ycjn/PAYMENT_CARD\n  - E/AH_hxm8kpcqs/AH_yxm1cw2jg/PAYMENT_CARD\n  - E/AH_hxm8kpcqs/AH_yxm8rpe00/PAYMENT_CARD\n  - E/AH_hxm8kpcqs/AH_yxmpac248/PAYMENT_CARD\n  - E/AH_hxm8kpcqs/AH_yxmq1tcsf/PAYMENT_CARD\n  - E/AH_hxm8kpcqs/AH_yxmqqed0h/PAYMENT_CARD\n  - E/AH_hxm8kpcqs/AH_yxypeec48/PAYMENT_CARD\n  - E/AH_hxm8kpcqs/AH_yym0je29n/PAYMENT_CARD\n  - E/AH_hxm8kpcqs/AH_yym198d9f/PAYMENT_CARD\n  - E/AH_hxm8kpcqs/AH_yym1kzcqf/PAYMENT_CARD\n  - E/AH_hxm8kpcqs/AH_yymapzeqn/PAYMENT_CARD\n  - E/AH_hxm8kpcqs/AH_yymp4dd9n/PAYMENT_CARD\n  - E/AH_hxm8kpcqs/AH_yymp9w200/PAYMENT_CARD\n  - E/AH_hxm8kpcqs/AH_yymprxe65/PAYMENT_CARD\n  - E/AH_hxm8kpcqs/AH_yymq4c24f/PAYMENT_CARD\n  - E/AH_hxm8kpcqs/AH_yymqptd9f/PAYMENT_CARD\n  - E/AH_hxm8kpcqs/AH_yyy82wdj5/PAYMENT_CARD\n  - E/AH_hxm8kpcqs/AH_yyygrbpe8/PAYMENT_CARD\n  - E/AH_hxm8kpcqs/AH_yyypw5dsn/PAYMENT_CARD\n  - E/AH_hxm8kpcqs/AH_yyyqb829n/PAYMENT_CARD\n  - E/AH_hxm8kpcqs/AH_yzma4h2qg/PAYMENT_CARD\n  - E/AH_hxm8kpcqs/AH_yzmaea2q8/PAYMENT_CARD\n  - E/AH_hxm8kpcqs/AH_yzmg12e05/PAYMENT_CARD\n  - E/AH_hxm8kpcqs/AH_yzmg4dejs/PAYMENT_CARD\n  - E/AH_hxm8kpcqs/AH_yzmp4he9s/PAYMENT_CARD\n  - E/AH_hxm8kpcqs/AH_yzy01yemg/PAYMENT_CARD\n  - E/AH_hxm8kpcqs/AH_yzy1kbwtf/PAYMENT_CARD\n  - E/AH_hxm8kpcqs/AH_yzy1r0wx8/PAYMENT_CARD\n  - E/AH_hxm8kpcqs/AH_yzy8qx2sg/PAYMENT_CARD\n  - E/AH_hxm8kpcqs/AH_yzyhdadj5/PAYMENT_CARD\n  - E/AH_hxm8kpcqs/AH_yzyhpeds0/PAYMENT_CARD\n  - E/AH_hxm8kpcqs/AH_yzyp4bwas/PAYMENT_CARD\n  - E/AH_hxm8kpcqs/AH_yzyqxv24g/PAYMENT_CARD\n  - E/AH_hxm8kpcqs/AH_z0macye65/PAYMENT_CARD\n  - E/AH_hxm8kpcqs/AH_z0mgq5es8/PAYMENT_CARD\n  - E/AH_hxm8kpcqs/AH_z0mgxxejh/PAYMENT_CARD\n  - E/AH_hxm8kpcqs/AH_z0mhae24n/PAYMENT_CARD\n  - E/AH_hxm8kpcqs/AH_z0mhpaens/PAYMENT_CARD\n  - E/AH_hxm8kpcqs/AH_z0mpatcs5/PAYMENT_CARD\n  - E/AH_hxm8kpcqs/AH_z0mppn298/PAYMENT_CARD\n  - E/AH_hxm8kpcqs/AH_z0mqd8c0f/PAYMENT_CARD\n  - E/AH_hxm8kpcqs/AH_z0y122eqh/PAYMENT_CARD\n  - E/AH_hxm8kpcqs/AH_z0y1px24f/PAYMENT_CARD\n  - E/AH_hxm8kpcqs/AH_z0yaxh2j0/PAYMENT_CARD\n  - E/AH_hxm8kpcqs/AH_z0yqcwems/PAYMENT_CARD\n  - E/AH_hxm8kpcqs/AH_z0yqx5d0n/PAYMENT_CARD\n  - E/AH_hxm8kpcqs/AH_z1maxed6g/PAYMENT_CARD\n  - E/AH_hxm8kpcqs/AH_z1mgjye98/PAYMENT_CARD\n  - E/AH_hxm8kpcqs/AH_z1mqphcq8/PAYMENT_CARD\n  - E/AH_hxm8kpcqs/AH_z1yg43pcn/PAYMENT_CARD\n  - E/AH_hxm8kpcqs/AH_z1yh2n268/PAYMENT_CARD\n  - E/AH_hxm8kpcqs/AH_z1ypctemf/PAYMENT_CARD\n  - E/AH_hxm8kpcqs/AH_z2m0cacj8/PAYMENT_CARD\n  - E/AH_hxm8kpcqs/AH_z2m1bhdsn/PAYMENT_CARD\n  - E/AH_hxm8kpcqs/AH_z2m1pa2s8/PAYMENT_CARD\n  - E/AH_hxm8kpcqs/AH_z2m1wze45/PAYMENT_CARD\n  - E/AH_hxm8kpcqs/AH_z2m84pdsg/PAYMENT_CARD\n  - E/AH_hxm8kpcqs/AH_z2mh1ddmn/PAYMENT_CARD\n  - E/AH_hxm8kpcqs/AH_z2mh9ydj5/PAYMENT_CARD\n  - E/AH_hxm8kpcqs/AH_z2mhwp2j0/PAYMENT_CARD\n  - E/AH_hxm8kpcqs/AH_z2mpctds0/PAYMENT_CARD\n  - E/AH_hxm8kpcqs/AH_z2yppcdq0/PAYMENT_CARD\n  - E/AH_hxm8kpcqs/AH_z2yprxe0n/PAYMENT_CARD\n  - E/AH_hxm8kpcqs/AH_z3m048d9s/PAYMENT_CARD\n  - E/AH_hxm8kpcqs/AH_z3mg4ad6h/PAYMENT_CARD\n  - E/AH_hxm8kpcqs/AH_z3mpcc2qs/PAYMENT_CARD\n  - E/AH_hxm8kpcqs/AH_z3mpwpcj8/PAYMENT_CARD\n  - E/AH_hxm8kpcqs/AH_z3mpwpeqf/PAYMENT_CARD\n  - E/AH_hxm8kpcqs/AH_z3y0qycsf/PAYMENT_CARD\n  - E/AH_hxm8kpcqs/AH_z3y1ax29n/PAYMENT_CARD\n  - E/AH_hxm8kpcqs/AH_z3y8edcsh/PAYMENT_CARD\n  - E/AH_hxm8kpcqs/AH_z4m092e0n/PAYMENT_CARD\n  - E/AH_hxm8kpcqs/AH_z4m0jxc9n/PAYMENT_CARD\n  - E/AH_hxm8kpcqs/AH_z4mhwyd6h/PAYMENT_CARD\n  - E/AH_hxm8kpcqs/AH_z4mqaz2sh/PAYMENT_CARD\n  - E/AH_hxm8kpcqs/AH_z4yacwcqf/PAYMENT_CARD\n  - E/AH_hxm8kpcqs/AH_z4yawz200/PAYMENT_CARD\n  - E/AH_hxm8kpcqs/AH_z4ypr7wag/PAYMENT_CARD\n  - E/AH_hxm8kpcqs/AH_z5m0j5c0n/PAYMENT_CARD\n  - E/AH_hxm8kpcqs/AH_z5m11edm5/PAYMENT_CARD\n  - E/AH_hxm8kpcqs/AH_z5m1wpd45/PAYMENT_CARD\n  - E/AH_hxm8kpcqs/AH_z5maxtd40/PAYMENT_CARD\n  - E/AH_hxm8kpcqs/AH_z5mh1xc6n/PAYMENT_CARD\n  - E/AH_hxm8kpcqs/AH_z5mhqn295/PAYMENT_CARD\n  - E/AH_hxm8kpcqs/AH_z5mpbedmg/PAYMENT_CARD\n  - E/AH_hxm8kpcqs/AH_z5mpxne40/PAYMENT_CARD\n  - E/AH_hxm8kpcqs/AH_z5mqpndm5/PAYMENT_CARD\n  - E/AH_hxm8kpcqs/AH_z5y1k7py8/PAYMENT_CARD\n  - E/AH_hxm8kpcqs/AH_z5y8qwe90/PAYMENT_CARD\n  - E/AH_hxm8kpcqs/AH_z5yhjwcsf/PAYMENT_CARD\n  - E/AH_hxm8kpcqs/AH_z5yq25dss/PAYMENT_CARD\n  - E/AH_hxm8kpcqs/AH_z5yqd2c4f/PAYMENT_CARD\n  - E/AH_hxm8kpcqs/AH_z6m1r5c9g/PAYMENT_CARD\n  - E/AH_hxm8kpcqs/AH_z6mhaheq8/PAYMENT_CARD\n  - E/AH_hxm8kpcqs/AH_z6mp1nd48/PAYMENT_CARD\n  - E/AH_hxm8kpcqs/AH_z6mqxvcqg/PAYMENT_CARD\n  - E/AH_hxm8kpcqs/AH_z6y14swn0/PAYMENT_CARD\n  - E/AH_hxm8kpcqs/AH_z6y1xw240/PAYMENT_CARD\n  - E/AH_hxm8kpcqs/AH_z6y8qzesg/PAYMENT_CARD\n  - E/AH_hxm8kpcqs/AH_z6ya4x29s/PAYMENT_CARD\n  - E/AH_hxm8kpcqs/AH_z6yacncmf/PAYMENT_CARD\n  - E/AH_hxm8kpcqs/AH_z6yhct24g/PAYMENT_CARD\n  - E/AH_hxm8kpcqs/AH_z7m89wc65/PAYMENT_CARD\n  - E/AH_hxm8kpcqs/AH_z7maahe4s/PAYMENT_CARD\n  - E/AH_hxm8kpcqs/AH_z7mgead48/PAYMENT_CARD\n  - E/AH_hxm8kpcqs/AH_z7mgxvcq0/PAYMENT_CARD\n  - E/AH_hxm8kpcqs/AH_z7mhqzd68/PAYMENT_CARD\n  - E/AH_hxm8kpcqs/AH_z7mqd5e6f/PAYMENT_CARD\n  - E/AH_hxm8kpcqs/AH_z7y0qte0h/PAYMENT_CARD\n  - E/AH_hxm8kpcqs/AH_z7y128cmn/PAYMENT_CARD\n  - E/AH_hxm8kpcqs/AH_z8m1a2e4f/PAYMENT_CARD\n  - E/AH_hxm8kpcqs/AH_z8m1wxd9g/PAYMENT_CARD\n  - E/AH_hxm8kpcqs/AH_z8mgr5cj0/PAYMENT_CARD\n  - E/AH_hxm8kpcqs/AH_z8mh45e0g/PAYMENT_CARD\n  - E/AH_hxm8kpcqs/AH_z8mp4xcs8/PAYMENT_CARD\n  - E/AH_hxm8kpcqs/AH_z8mpwxe6n/PAYMENT_CARD\n  - E/AH_hxm8kpcqs/AH_z8mq45cm5/PAYMENT_CARD\n  - E/AH_hxm8kpcqs/AH_z8y1dn2jf/PAYMENT_CARD\n  - E/AH_hxm8kpcqs/AH_z8y1k4wes/PAYMENT_CARD\n  - E/AH_hxm8kpcqs/AH_z8yhatd9n/PAYMENT_CARD\n  - E/AH_hxm8kpcqs/AH_z8yhc8d9h/PAYMENT_CARD\n  - E/AH_hxm8kpcqs/AH_z9m0rxds8/PAYMENT_CARD\n  - E/AH_hxm8kpcqs/AH_z9m1wvc9n/PAYMENT_CARD\n  - E/AH_hxm8kpcqs/AH_z9maxae4n/PAYMENT_CARD\n  - E/AH_hxm8kpcqs/AH_z9mhpx2ms/PAYMENT_CARD\n  - E/AH_hxm8kpcqs/AH_z9mpb2djf/PAYMENT_CARD\n  - E/AH_hxm8kpcqs/AH_z9mq4xc60/PAYMENT_CARD\n  - E/AH_hxm8kpcqs/AH_z9y0j1wtn/PAYMENT_CARD\n  - E/AH_hxm8kpcqs/AH_z9y82hdmh/PAYMENT_CARD\n  - E/AH_hxm8kpcqs/AH_z9ya2x2q0/PAYMENT_CARD\n  - E/AH_hxm8kpcqs/AH_z9yadhd95/PAYMENT_CARD\n  - E/AH_hxm8kpcqs/AH_z9yg9cd90/PAYMENT_CARD\n  - E/AH_hxm8kpcqs/AH_z9ygcdej0/PAYMENT_CARD\n  - E/AH_hxm8kpcqs/AH_z9ygeae9h/PAYMENT_CARD\n  - E/AH_hxm8kpcqs/AH_z9yq2aemn/PAYMENT_CARD\n  - E/AH_hxm8kpcqs/AH_z9yqea2m0/PAYMENT_CARD\n  - E/AH_hxm8kpcqs/AH_zam8eycxf/PAYMENT_CARD\n  - E/AH_hxm8kpcqs/AH_zamgep24s/PAYMENT_CARD\n  - E/AH_hxm8kpcqs/AH_zamh18d0g/PAYMENT_CARD\n  - E/AH_hxm8kpcqs/AH_zamq18d9f/PAYMENT_CARD\n  - E/AH_hxm8kpcqs/AH_zamqcvd90/PAYMENT_CARD\n  - E/AH_hxm8kpcqs/AH_zamqkwdmf/PAYMENT_CARD\n  - E/AH_hxm8kpcqs/AH_zamqqve05/PAYMENT_CARD\n  - E/AH_hxm8kpcqs/AH_zay01ed05/PAYMENT_CARD\n  - E/AH_hxm8kpcqs/AH_zay1qpes5/PAYMENT_CARD\n  - E/AH_hxm8kpcqs/AH_zbm1jweq5/PAYMENT_CARD\n  - E/AH_hxm8kpcqs/AH_zbm82yc6s/PAYMENT_CARD\n  - E/AH_hxm8kpcqs/AH_zbmaweej5/PAYMENT_CARD\n  - E/AH_hxm8kpcqs/AH_zbmg4x24h/PAYMENT_CARD\n  - E/AH_hxm8kpcqs/AH_zbmppp2mh/PAYMENT_CARD\n  - E/AH_hxm8kpcqs/AH_zby1pndmf/PAYMENT_CARD\n  - E/AH_hxm8kpcqs/AH_zby8c8cj0/PAYMENT_CARD\n  - E/AH_hxm8kpcqs/AH_zbya2n2q8/PAYMENT_CARD\n  - E/AH_hxm8kpcqs/AH_zbyaahcmn/PAYMENT_CARD\n  - E/AH_hxm8kpcqs/AH_zbyg2dcj0/PAYMENT_CARD\n  - E/AH_hxm8kpcqs/AH_zbyhwhdjn/PAYMENT_CARD\n  - E/AH_hxm8kpcqs/AH_zcm1bh208/PAYMENT_CARD\n  - E/AH_hxm8kpcqs/AH_zcm1pwdj5/PAYMENT_CARD\n  - E/AH_hxm8kpcqs/AH_zcm84ccs8/PAYMENT_CARD\n  - E/AH_hxm8kpcqs/AH_zcmha5emn/PAYMENT_CARD\n  - E/AH_hxm8kpcqs/AH_zcmppacs0/PAYMENT_CARD\n  - E/AH_hxm8kpcqs/AH_zcmqqecjs/PAYMENT_CARD\n  - E/AH_hxm8kpcqs/AH_zcy0eyd0g/PAYMENT_CARD\n  - E/AH_hxm8kpcqs/AH_zcy115d0s/PAYMENT_CARD\n  - E/AH_hxm8kpcqs/AH_zcya9ed48/PAYMENT_CARD\n  - E/AH_hxm8kpcqs/AH_zcyadycs5/PAYMENT_CARD\n  - E/AH_hxm8kpcqs/AH_zcyheae4s/PAYMENT_CARD\n  - E/AH_hxm8kpcqs/AH_zcyhjycms/PAYMENT_CARD\n  - E/AH_hxm8kpcqs/AH_zcyqaydss/PAYMENT_CARD\n  - E/AH_hxm8kpcqs/AH_zdm015cqn/PAYMENT_CARD\n  - E/AH_hxm8kpcqs/AH_zdm1cddag/PAYMENT_CARD\n  - E/AH_hxm8kpcqs/AH_zdm1ce2j5/PAYMENT_CARD\n  - E/AH_hxm8kpcqs/AH_zdm1wydm0/PAYMENT_CARD\n  - E/AH_hxm8kpcqs/AH_zdmaa2cm5/PAYMENT_CARD\n  - E/AH_hxm8kpcqs/AH_zdmgwpemh/PAYMENT_CARD\n  - E/AH_hxm8kpcqs/AH_zdmqpy24f/PAYMENT_CARD\n  - E/AH_hxm8kpcqs/AH_zdy0xa26g/PAYMENT_CARD\n  - E/AH_hxm8kpcqs/AH_zdy84a2js/PAYMENT_CARD\n  - E/AH_hxm8kpcqs/AH_zdyaqw2m0/PAYMENT_CARD\n  - E/AH_hxm8kpcqs/AH_zdyhe5dsh/PAYMENT_CARD\n  - E/AH_hxm8kpcqs/AH_zem12acjs/PAYMENT_CARD\n  - E/AH_hxm8kpcqs/AH_zemae8dsg/PAYMENT_CARD\n  - E/AH_hxm8kpcqs/AH_zemga8e48/PAYMENT_CARD\n  - E/AH_hxm8kpcqs/AH_zemhape90/PAYMENT_CARD\n  - E/AH_hxm8kpcqs/AH_zemhqee08/PAYMENT_CARD\n  - E/AH_hxm8kpcqs/AH_zemp9wd0n/PAYMENT_CARD\n  - E/AH_hxm8kpcqs/AH_zemq95dj8/PAYMENT_CARD\n  - E/AH_hxm8kpcqs/AH_zeyar3wxg/PAYMENT_CARD\n  - E/AH_hxm8kpcqs/AH_zeyg2ndsn/PAYMENT_CARD\n  - E/AH_hxm8kpcqs/AH_zeyhcye60/PAYMENT_CARD\n  - E/AH_hxm8kpcqs/AH_zeyq12e9h/PAYMENT_CARD\n  - E/AH_hxm8kpcqs/AH_zeyqehc68/PAYMENT_CARD\n  - E/AH_hxm8kpcqs/AH_zfm01pc05/PAYMENT_CARD\n  - E/AH_hxm8kpcqs/AH_zfm1xzc48/PAYMENT_CARD\n  - E/AH_hxm8kpcqs/AH_zfm81he05/PAYMENT_CARD\n  - E/AH_hxm8kpcqs/AH_zfm822cj8/PAYMENT_CARD\n  - E/AH_hxm8kpcqs/AH_zfm89yd60/PAYMENT_CARD\n  - E/AH_hxm8kpcqs/AH_zfm8j226h/PAYMENT_CARD\n  - E/AH_hxm8kpcqs/AH_zfmha5e9n/PAYMENT_CARD\n  - E/AH_hxm8kpcqs/AH_zfmppaemh/PAYMENT_CARD\n  - E/AH_hxm8kpcqs/AH_zfy8x2em0/PAYMENT_CARD\n  - E/AH_hxm8kpcqs/AH_zfyg2n2jh/PAYMENT_CARD\n  - E/AH_hxm8kpcqs/AH_zfygbwcsh/PAYMENT_CARD\n  - E/AH_hxm8kpcqs/AH_zfygevcj8/PAYMENT_CARD\n  - E/AH_hxm8kpcqs/AH_zfyhetdqn/PAYMENT_CARD\n  - E/AH_hxm8kpcqs/AH_zfyhjtdqs/PAYMENT_CARD\n  - E/AH_hxm8kpcqs/AH_zgm0k5css/PAYMENT_CARD\n  - E/AH_hxm8kpcqs/AH_zgm0kce9g/PAYMENT_CARD\n  - E/AH_hxm8kpcqs/AH_zgm0ky26g/PAYMENT_CARD\n  - E/AH_hxm8kpcqs/AH_zgm19xd4g/PAYMENT_CARD\n  - E/AH_hxm8kpcqs/AH_zgm1a2d9f/PAYMENT_CARD\n  - E/AH_hxm8kpcqs/AH_zgmh4a26f/PAYMENT_CARD\n  - E/AH_hxm8kpcqs/AH_zgmpxycah/PAYMENT_CARD\n  - E/AH_hxm8kpcqs/AH_zgmqpwem8/PAYMENT_CARD\n  - E/AH_hxm8kpcqs/AH_zgy0phd6s/PAYMENT_CARD\n  - E/AH_hxm8kpcqs/AH_zgy8dc2sg/PAYMENT_CARD\n  - E/AH_hxm8kpcqs/AH_zgy8xvd98/PAYMENT_CARD\n  - E/AH_hxm8kpcqs/AH_zgyawc2mh/PAYMENT_CARD\n  - E/AH_hxm8kpcqs/AH_zhm0wxd65/PAYMENT_CARD\n  - E/AH_hxm8kpcqs/AH_zhm14ac40/PAYMENT_CARD\n  - E/AH_hxm8kpcqs/AH_zhm82w205/PAYMENT_CARD\n  - E/AH_hxm8kpcqs/AH_zhm8ayc6g/PAYMENT_CARD\n  - E/AH_hxm8kpcqs/AH_zhyg1e205/PAYMENT_CARD\n  - E/AH_hxm8kpcqs/AH_zhyg42dqg/PAYMENT_CARD\n  - E/AH_hxm8kpcqs/AH_zhyg98e6g/PAYMENT_CARD\n  - E/AH_hxm8kpcqs/AH_zhyqan29f/PAYMENT_CARD\n  - E/AH_hxm8kpcqs/AH_zjm14x2m8/PAYMENT_CARD\n  - E/AH_hxm8kpcqs/AH_zjm8rh2sn/PAYMENT_CARD\n  - E/AH_hxm8kpcqs/AH_zjm8xzdm0/PAYMENT_CARD\n  - E/AH_hxm8kpcqs/AH_zjmapnds5/PAYMENT_CARD\n  - E/AH_hxm8kpcqs/AH_zjmgkycq8/PAYMENT_CARD\n  - E/AH_hxm8kpcqs/AH_zjmqk8cj0/PAYMENT_CARD\n  - E/AH_hxm8kpcqs/AH_zjy0wteqf/PAYMENT_CARD\n  - E/AH_hxm8kpcqs/AH_zjy1kz2m5/PAYMENT_CARD\n  - E/AH_hxm8kpcqs/AH_zjy8x5ej8/PAYMENT_CARD\n  - E/AH_hxm8kpcqs/AH_zjyacn2qn/PAYMENT_CARD\n  - E/AH_hxm8kpcqs/AH_zjyaqdc0g/PAYMENT_CARD\n  - E/AH_hxm8kpcqs/AH_zjygwxcq0/PAYMENT_CARD\n  - E/AH_hxm8kpcqs/AH_zjyh2wcsg/PAYMENT_CARD\n  - E/AH_hxm8kpcqs/AH_zjypk4was/PAYMENT_CARD\n  - E/AH_hxm8kpcqs/AH_zjypw220h/PAYMENT_CARD\n  - E/AH_hxm8kpcqs/AH_zkm0ene6f/PAYMENT_CARD\n  - E/AH_hxm8kpcqs/AH_zkm0xyey8/PAYMENT_CARD\n  - E/AH_hxm8kpcqs/AH_zkm1jxdqs/PAYMENT_CARD\n  - E/AH_hxm8kpcqs/AH_zkma2te68/PAYMENT_CARD\n  - E/AH_hxm8kpcqs/AH_zkmhk5cmg/PAYMENT_CARD\n  - E/AH_hxm8kpcqs/AH_zkmpaye6h/PAYMENT_CARD\n  - E/AH_hxm8kpcqs/AH_zkyaac20g/PAYMENT_CARD\n  - E/AH_hxm8kpcqs/AH_zkyawz240/PAYMENT_CARD\n  - E/AH_hxm8kpcqs/AH_zkygbzc6h/PAYMENT_CARD\n  - E/AH_hxm8kpcqs/AH_zmm0jde0f/PAYMENT_CARD\n  - E/AH_hxm8kpcqs/AH_zmmgjhdj5/PAYMENT_CARD\n  - E/AH_hxm8kpcqs/AH_zmmpkwdss/PAYMENT_CARD\n  - E/AH_hxm8kpcqs/AH_zmmpqpc4h/PAYMENT_CARD\n  - E/AH_hxm8kpcqs/AH_zmmqqvejs/PAYMENT_CARD\n  - E/AH_hxm8kpcqs/AH_zmy1ae2jg/PAYMENT_CARD\n  - E/AH_hxm8kpcqs/AH_zmy1bdc4h/PAYMENT_CARD\n  - E/AH_hxm8kpcqs/AH_zmy8r0wt0/PAYMENT_CARD\n  - E/AH_hxm8kpcqs/AH_zmyh2zd0h/PAYMENT_CARD\n  - E/AH_hxm8kpcqs/AH_zmypch2q8/PAYMENT_CARD\n  - E/AH_hxm8kpcqs/AH_zmyqj4pag/PAYMENT_CARD\n  - E/AH_hxm8kpcqs/AH_znm8jnc9g/PAYMENT_CARD\n  - E/AH_hxm8kpcqs/AH_znm8q8e60/PAYMENT_CARD\n  - E/AH_hxm8kpcqs/AH_znmqatcc0/PAYMENT_CARD\n  - E/AH_hxm8kpcqs/AH_znya4jwc5/PAYMENT_CARD\n  - E/AH_hxm8kpcqs/AH_znygbee00/PAYMENT_CARD\n  - E/AH_hxm8kpcqs/AH_znyq2aemh/PAYMENT_CARD\n  - E/AH_hxm8kpcqs/AH_zpm8xddyn/PAYMENT_CARD\n  - E/AH_hxm8kpcqs/AH_zpmakxc95/PAYMENT_CARD\n  - E/AH_hxm8kpcqs/AH_zpmhxneqh/PAYMENT_CARD\n  - E/AH_hxm8kpcqs/AH_zpmpecc9n/PAYMENT_CARD\n  - E/AH_hxm8kpcqs/AH_zpmpqz2s8/PAYMENT_CARD\n  - E/AH_hxm8kpcqs/AH_zpy0ezd4n/PAYMENT_CARD\n  - E/AH_hxm8kpcqs/AH_zpygdw24f/PAYMENT_CARD\n  - E/AH_hxm8kpcqs/AH_zpyhpndq0/PAYMENT_CARD\n  - E/AH_hxm8kpcqs/AH_zpypqte45/PAYMENT_CARD\n  - E/AH_hxm8kpcqs/AH_zqm09yc0f/PAYMENT_CARD\n  - E/AH_hxm8kpcqs/AH_zqma4zc95/PAYMENT_CARD\n  - E/AH_hxm8kpcqs/AH_zqmaxhc0s/PAYMENT_CARD\n  - E/AH_hxm8kpcqs/AH_zqmg9a2qg/PAYMENT_CARD\n  - E/AH_hxm8kpcqs/AH_zqmgjtdq0/PAYMENT_CARD\n  - E/AH_hxm8kpcqs/AH_zqmhrndjn/PAYMENT_CARD\n  - E/AH_hxm8kpcqs/AH_zqmqq2c00/PAYMENT_CARD\n  - E/AH_hxm8kpcqs/AH_zqy0jbwxn/PAYMENT_CARD\n  - E/AH_hxm8kpcqs/AH_zqy0qnem0/PAYMENT_CARD\n  - E/AH_hxm8kpcqs/AH_zqy1kac4n/PAYMENT_CARD\n  - E/AH_hxm8kpcqs/AH_zqyadneqg/PAYMENT_CARD\n  - E/AH_hxm8kpcqs/AH_zqyg182sh/PAYMENT_CARD\n  - E/AH_hxm8kpcqs/AH_zqyh2z2qn/PAYMENT_CARD\n  - E/AH_hxm8kpcqs/AH_zqyhjyej0/PAYMENT_CARD\n  - E/AH_hxm8kpcqs/AH_zqyhxed4g/PAYMENT_CARD\n  - E/AH_hxm8kpcqs/AH_zqypd8c6n/PAYMENT_CARD\n  - E/AH_hxm8kpcqs/AH_zrm0rvd95/PAYMENT_CARD\n  - E/AH_hxm8kpcqs/AH_zrma1zeqf/PAYMENT_CARD\n  - E/AH_hxm8kpcqs/AH_zrmhped0g/PAYMENT_CARD\n  - E/AH_hxm8kpcqs/AH_zry0k4px8/PAYMENT_CARD\n  - E/AH_hxm8kpcqs/AH_zry1wtdjf/PAYMENT_CARD\n  - E/AH_hxm8kpcqs/AH_zry8e2e6f/PAYMENT_CARD\n  - E/AH_hxm8kpcqs/AH_zry8x8d40/PAYMENT_CARD\n  - E/AH_hxm8kpcqs/AH_zryh49wcn/PAYMENT_CARD\n  - E/AH_hxm8kpcqs/AH_zryheyeqh/PAYMENT_CARD\n  - E/AH_hxm8kpcqs/AH_zryq4ne9s/PAYMENT_CARD\n  - E/AH_hxm8kpcqs/AH_zryqrmpc8/PAYMENT_CARD\n  - E/AH_hxm8kpcqs/AH_zsm14ae6g/PAYMENT_CARD\n  - E/AH_hxm8kpcqs/AH_zsm8pye48/PAYMENT_CARD\n  - E/AH_hxm8kpcqs/AH_zsma4tdss/PAYMENT_CARD\n  - E/AH_hxm8kpcqs/AH_zsmaa2cc8/PAYMENT_CARD\n  - E/AH_hxm8kpcqs/AH_zsmadtdmg/PAYMENT_CARD\n  - E/AH_hxm8kpcqs/AH_zsmgan2qh/PAYMENT_CARD\n  - E/AH_hxm8kpcqs/AH_zsmgaxem8/PAYMENT_CARD\n  - E/AH_hxm8kpcqs/AH_zsmgraeqn/PAYMENT_CARD\n  - E/AH_hxm8kpcqs/AH_zsmqchccg/PAYMENT_CARD\n  - E/AH_hxm8kpcqs/AH_zsy0rqpah/PAYMENT_CARD\n  - E/AH_hxm8kpcqs/AH_ztm19w2s0/PAYMENT_CARD\n  - E/AH_hxm8kpcqs/AH_ztm1rnc9s/PAYMENT_CARD\n  - E/AH_hxm8kpcqs/AH_ztm89he95/PAYMENT_CARD\n  - E/AH_hxm8kpcqs/AH_ztm8r2d95/PAYMENT_CARD\n  - E/AH_hxm8kpcqs/AH_ztmawh20n/PAYMENT_CARD\n  - E/AH_hxm8kpcqs/AH_ztmq2te6s/PAYMENT_CARD\n  - E/AH_hxm8kpcqs/AH_ztyh2zc9g/PAYMENT_CARD\n  - E/AH_hxm8kpcqs/AH_ztyhj9wxg/PAYMENT_CARD\n  - E/AH_hxm8kpcqs/AH_ztyp46pcf/PAYMENT_CARD\n  - E/AH_hxm8kpcqs/AH_ztyqcn2q8/PAYMENT_CARD\n  - E/AH_hxm8kpcqs/AH_zvm8c5ehf/PAYMENT_CARD\n  - E/AH_hxm8kpcqs/AH_zvmadcea8/PAYMENT_CARD\n  - E/AH_hxm8kpcqs/AH_zvmppz2es/PAYMENT_CARD\n  - E/AH_hxm8kpcqs/AH_zvmqecdt5/PAYMENT_CARD\n  - E/AH_hxm8kpcqs/AH_zvmqp5cns/PAYMENT_CARD\n  - E/AH_hxm8kpcqs/AH_zvy12yc6h/PAYMENT_CARD\n  - E/AH_hxm8kpcqs/AH_zvy1pc2ms/PAYMENT_CARD\n  - E/AH_hxm8kpcqs/AH_zvyakqpch/PAYMENT_CARD\n  - E/AH_hxm8kpcqs/AH_zvyaptd90/PAYMENT_CARD\n  - E/AH_hxm8kpcqs/AH_zvygwx26n/PAYMENT_CARD\n  - E/AH_hxm8kpcqs/AH_zvyqbcc6g/PAYMENT_CARD\n  - E/AH_hxm8kpcqs/AH_zwm1bc2qf/PAYMENT_CARD\n  - E/AH_hxm8kpcqs/AH_zwm8qne0s/PAYMENT_CARD\n  - E/AH_hxm8kpcqs/AH_zwm8qw20n/PAYMENT_CARD\n  - E/AH_hxm8kpcqs/AH_zwm8r2c6h/PAYMENT_CARD\n  - E/AH_hxm8kpcqs/AH_zwmhbddqs/PAYMENT_CARD\n  - E/AH_hxm8kpcqs/AH_zwmhbpeqn/PAYMENT_CARD\n  - E/AH_hxm8kpcqs/AH_zwmhj5cmh/PAYMENT_CARD\n  - E/AH_hxm8kpcqs/AH_zwmhxxd90/PAYMENT_CARD\n  - E/AH_hxm8kpcqs/AH_zwmqcpd05/PAYMENT_CARD\n  - E/AH_hxm8kpcqs/AH_zwy8ptdm8/PAYMENT_CARD\n  - E/AH_hxm8kpcqs/AH_zwy8rcd0s/PAYMENT_CARD\n  - E/AH_hxm8kpcqs/AH_zwyarbwa5/PAYMENT_CARD\n  - E/AH_hxm8kpcqs/AH_zwyheee00/PAYMENT_CARD\n  - E/AH_hxm8kpcqs/AH_zwypp8d4s/PAYMENT_CARD\n  - E/AH_hxm8kpcqs/AH_zwypxdes0/PAYMENT_CARD\n  - E/AH_hxm8kpcqs/AH_zxmadcdm0/PAYMENT_CARD\n  - E/AH_hxm8kpcqs/AH_zxmh18cqn/PAYMENT_CARD\n  - E/AH_hxm8kpcqs/AH_zxmhx5cms/PAYMENT_CARD\n  - E/AH_hxm8kpcqs/AH_zxmpjc20g/PAYMENT_CARD\n  - E/AH_hxm8kpcqs/AH_zxy09de4g/PAYMENT_CARD\n  - E/AH_hxm8kpcqs/AH_zxy1eec9f/PAYMENT_CARD\n  - E/AH_hxm8kpcqs/AH_zxyapedjs/PAYMENT_CARD\n  - E/AH_hxm8kpcqs/AH_zym8jcdm5/PAYMENT_CARD\n  - E/AH_hxm8kpcqs/AH_zymhp5dcg/PAYMENT_CARD\n  - E/AH_hxm8kpcqs/AH_zymhxnems/PAYMENT_CARD\n  - E/AH_hxm8kpcqs/AH_zymqapejf/PAYMENT_CARD\n  - E/AH_hxm8kpcqs/AH_zyy1eac0n/PAYMENT_CARD\n  - E/AH_hxm8kpcqs/AH_zyy8b5c08/PAYMENT_CARD\n  - E/AH_hxm8kpcqs/AH_zyyapv29s/PAYMENT_CARD\n  - E/AH_hxm8kpcqs/AH_zyyg1hems/PAYMENT_CARD\n  - E/AH_hxm8kpcqs/AH_zyyqdn2ss/PAYMENT_CARD\n  - E/AH_hxm8kpcqs/AH_zyyqkv2j0/PAYMENT_CARD\n  - E/AH_hxm8kpcqs/AH_zzm1by2q0/PAYMENT_CARD\n  - E/AH_hxm8kpcqs/AH_zzmpx2d40/PAYMENT_CARD\n  - E/AH_hxm8kpcqs/AH_zzy0bde0h/PAYMENT_CARD\n  - E/AH_hxm8kpcqs/AH_zzy0px2jn/PAYMENT_CARD\n  - E/AH_hxm8kpcqs/AH_zzy0x8d45/PAYMENT_CARD\n  - E/AH_hxm8kpcqs/AH_zzyqj3pa0/PAYMENT_CARD\n  - E/AH_hxm8kpcqs/AH_zzyqrbwan/PAYMENT_CARD\n  - E/AH_hxm8kpcqs/AH_zzyqww20f/PAYMENT_CARD\n\n"
     ]
    }
   ],
   "source": [
    "# Filter rows where missing_events is not empty\n",
    "missing_events_df = validation_df[validation_df['missing_events'].notna()]\n",
    "\n",
    "if missing_events_df.empty:\n",
    "    print(\"No missing events found in the validation results\")\n",
    "else:\n",
    "    print(f\"Found {len(missing_events_df)} account holders with missing events:\\n{missing_events_df['account_holder_token'].to_list()}\\n\")\n",
    "    for _, row in missing_events_df.iterrows():\n",
    "        events = row['missing_events'].split('|')\n",
    "        print(f\"Account holder: {row['account_holder_token']}\")\n",
    "        print(f\"Number of missing events: {len(events)}\")\n",
    "        print(\"Missing events:\")\n",
    "        for event in events:\n",
    "            print(f\"  - {event}\")\n",
    "        print()"
   ]
  },
  {
   "cell_type": "markdown",
   "metadata": {
    "application/vnd.databricks.v1+cell": {
     "cellMetadata": {},
     "inputWidgets": {},
     "nuid": "9419cfbb-b24c-4027-b26e-889e09a473fd",
     "showTitle": false,
     "tableResultSettingsMap": {},
     "title": ""
    }
   },
   "source": [
    "### ✅ Unexpected events\n",
    "\n",
    "Account holders who had actual events that were not expected based on the validation.\n",
    "\n",
    "A sample of the account holders that failed validation have been manually checked. In all cases the reason for the discrepancy was that the edge that caused the unexpected events exists in Duplograph's database (checked via RPC), but it's missing in `duplograph.public.edges` in Snowflake."
   ]
  },
  {
   "cell_type": "code",
   "execution_count": 0,
   "metadata": {
    "application/vnd.databricks.v1+cell": {
     "cellMetadata": {
      "byteLimit": 2048000,
      "rowLimit": 10000
     },
     "inputWidgets": {},
     "nuid": "c77aa487-9405-4989-aff4-502ce599204d",
     "showTitle": false,
     "tableResultSettingsMap": {},
     "title": ""
    }
   },
   "outputs": [
    {
     "output_type": "stream",
     "name": "stdout",
     "output_type": "stream",
     "text": [
      "Found 15 account holders with unexpected events: \n['AH_4pypjpe05', 'AH_0rmgxxcag', 'AH_z8mqeyc45', 'AH_8aygrrph5', 'AH_hampjx2hs', 'AH_4nmgxzc9n', 'AH_vryh9aecf', 'AH_h7mgdccjh', 'AH_vyygc8cxn', 'AH_tkm1wscmn', 'AH_snyaa2ee5', 'AH_hxm8kpcqs', 'AH_ddy0eyct8', 'AH_5rygbhejh', 'AH_j9ma9hce8']\n\nAccount holder: AH_4pypjpe05\nUnexpected events:\n  - E/AH_4pypjpe05/AH_6cy1q82nf/CASH_BACKUP_TAG\n  - E/AH_4pypjpe05/AH_6cy1q82nf/CASH_DEVICE\n  - E/AH_4pypjpe05/AH_6cy1q82nf/CASH_OPAQUE_APP_TOKEN\n  - E/AH_4pypjpe05/AH_ywyaqzccf/CASH_BACKUP_TAG\n  - E/AH_4pypjpe05/AH_ywyaqzccf/CASH_DEVICE\n  - E/AH_4pypjpe05/AH_ywyaqzccf/CASH_OPAQUE_APP_TOKEN\n\nAccount holder: AH_0rmgxxcag\nUnexpected events:\n  - E/AH_0dmg42deh/AH_0rmgxxcag/CASH_BACKUP_TAG\n  - E/AH_0dmg42deh/AH_0rmgxxcag/CASH_DEVICE\n  - E/AH_0dmg42deh/AH_0rmgxxcag/CASH_OPAQUE_APP_TOKEN\n  - E/AH_0rmgxxcag/AH_7ymp2xdn5/CASH_BACKUP_TAG\n  - E/AH_0rmgxxcag/AH_7ymp2xdn5/CASH_DEVICE\n  - E/AH_0rmgxxcag/AH_7ymp2xdn5/CASH_OPAQUE_APP_TOKEN\n  - E/AH_0rmgxxcag/AH_8gm0dtdes/CASH_BACKUP_TAG\n  - E/AH_0rmgxxcag/AH_8gm0dtdes/CASH_DEVICE\n  - E/AH_0rmgxxcag/AH_8gm0dtdes/CASH_OPAQUE_APP_TOKEN\n  - E/AH_0rmgxxcag/AH_8gm0dtdes/TRACKING_COOKIE\n  - E/AH_0rmgxxcag/AH_a2mhewca0/CASH_BACKUP_TAG\n  - E/AH_0rmgxxcag/AH_a2mhewca0/CASH_DEVICE\n  - E/AH_0rmgxxcag/AH_a2mhewca0/CASH_OPAQUE_APP_TOKEN\n  - E/AH_0rmgxxcag/AH_a2mhewca0/TRACKING_COOKIE\n  - E/AH_0rmgxxcag/AH_dny8ehen0/CASH_BACKUP_TAG\n  - E/AH_0rmgxxcag/AH_dny8ehen0/CASH_DEVICE\n  - E/AH_0rmgxxcag/AH_dny8ehen0/CASH_OPAQUE_APP_TOKEN\n  - E/AH_0rmgxxcag/AH_eyma282x0/CASH_BACKUP_TAG\n  - E/AH_0rmgxxcag/AH_eyma282x0/CASH_DEVICE\n  - E/AH_0rmgxxcag/AH_eyma282x0/CASH_OPAQUE_APP_TOKEN\n  - E/AH_0rmgxxcag/AH_ggy82hec5/CASH_BACKUP_TAG\n  - E/AH_0rmgxxcag/AH_ggy82hec5/CASH_DEVICE\n  - E/AH_0rmgxxcag/AH_ggy82hec5/CASH_OPAQUE_APP_TOKEN\n  - E/AH_0rmgxxcag/AH_p5ypx8dhg/CASH_BACKUP_TAG\n  - E/AH_0rmgxxcag/AH_p5ypx8dhg/CASH_DEVICE\n  - E/AH_0rmgxxcag/AH_p5ypx8dhg/CASH_OPAQUE_APP_TOKEN\n  - E/AH_0rmgxxcag/AH_pwy8wadtf/CASH_BACKUP_TAG\n  - E/AH_0rmgxxcag/AH_pwy8wadtf/CASH_DEVICE\n  - E/AH_0rmgxxcag/AH_pwy8wadtf/CASH_OPAQUE_APP_TOKEN\n  - E/AH_0rmgxxcag/AH_pwy8wadtf/PHONE_NUMBER\n  - E/AH_0rmgxxcag/AH_r6m82e2tf/CASH_BACKUP_TAG\n  - E/AH_0rmgxxcag/AH_r6m82e2tf/CASH_DEVICE\n  - E/AH_0rmgxxcag/AH_r6m82e2tf/CASH_OPAQUE_APP_TOKEN\n  - E/AH_0rmgxxcag/AH_wjmpd5cxn/CASH_BACKUP_TAG\n  - E/AH_0rmgxxcag/AH_wjmpd5cxn/CASH_DEVICE\n  - E/AH_0rmgxxcag/AH_wjmpd5cxn/CASH_OPAQUE_APP_TOKEN\n  - E/AH_0rmgxxcag/AH_x1maphde5/CASH_BACKUP_TAG\n  - E/AH_0rmgxxcag/AH_yfmacwcts/CASH_DEVICE\n  - E/AH_0rmgxxcag/AH_yfmacwcts/CASH_OPAQUE_APP_TOKEN\n\nAccount holder: AH_z8mqeyc45\nUnexpected events:\n  - E/AH_9xy8rtech/AH_z8mqeyc45/CASH_BACKUP_TAG\n  - E/AH_9xy8rtech/AH_z8mqeyc45/CASH_DEVICE\n  - E/AH_9xy8rtech/AH_z8mqeyc45/CASH_OPAQUE_APP_TOKEN\n\nAccount holder: AH_8aygrrph5\nUnexpected events:\n  - E/AH_34mg2a2ng/AH_8aygrrph5/CASH_BACKUP_TAG\n  - E/AH_34mg2a2ng/AH_8aygrrph5/CASH_DEVICE\n  - E/AH_34mg2a2ng/AH_8aygrrph5/CASH_OPAQUE_APP_TOKEN\n  - E/AH_34mg2a2ng/AH_8aygrrph5/PHONE_NUMBER\n\nAccount holder: AH_hampjx2hs\nUnexpected events:\n  - E/AH_hampjx2hs/AH_k8mpkt2c8/CASH_BACKUP_TAG\n  - E/AH_hampjx2hs/AH_k8mpkt2c8/CASH_DEVICE\n  - E/AH_hampjx2hs/AH_k8mpkt2c8/CASH_OPAQUE_APP_TOKEN\n\nAccount holder: AH_4nmgxzc9n\nUnexpected events:\n  - E/AH_4nmgxzc9n/AH_sbyhpcd6h/SSN\n\nAccount holder: AH_vryh9aecf\nUnexpected events:\n  - E/AH_33mg4den8/AH_vryh9aecf/VERIFIED_SSN\n\nAccount holder: AH_h7mgdccjh\nUnexpected events:\n  - E/AH_h7mgdccjh/AH_r9y89t2eh/CASH_BACKUP_TAG\n  - E/AH_h7mgdccjh/AH_r9y89t2eh/CASH_DEVICE\n  - E/AH_h7mgdccjh/AH_r9y89t2eh/CASH_OPAQUE_APP_TOKEN\n\nAccount holder: AH_vyygc8cxn\nUnexpected events:\n  - E/AH_3gyhqndc5/AH_vyygc8cxn/CASH_BACKUP_TAG\n  - E/AH_3gyhqndc5/AH_vyygc8cxn/CASH_DEVICE\n  - E/AH_3gyhqndc5/AH_vyygc8cxn/CASH_OPAQUE_APP_TOKEN\n  - E/AH_n0yhead48/AH_vyygc8cxn/PHONE_NUMBER\n  - E/AH_vyygc8cxn/AH_xcmpqady8/CASH_BACKUP_TAG\n  - E/AH_vyygc8cxn/AH_xcmpqady8/CASH_DEVICE\n  - E/AH_vyygc8cxn/AH_xcmpqady8/CASH_OPAQUE_APP_TOKEN\n\nAccount holder: AH_tkm1wscmn\nUnexpected events:\n  - E/AH_h2yh15dqf/AH_tkm1wscmn/VERIFIED_SSN\n\nAccount holder: AH_snyaa2ee5\nUnexpected events:\n  - E/AH_02m8wkdm0/AH_snyaa2ee5/CASH_BACKUP_TAG\n  - E/AH_02m8wkdm0/AH_snyaa2ee5/CASH_DEVICE\n  - E/AH_02m8wkdm0/AH_snyaa2ee5/CASH_OPAQUE_APP_TOKEN\n  - E/AH_7ym8qpd4s/AH_snyaa2ee5/PHONE_NUMBER\n\nAccount holder: AH_hxm8kpcqs\nUnexpected events:\n  - E/AH_0ay01vcen/AH_hxm8kpcqs/CASH_BACKUP_TAG\n  - E/AH_0ay01vcen/AH_hxm8kpcqs/CASH_DEVICE\n  - E/AH_0ay01vcen/AH_hxm8kpcqs/CASH_OPAQUE_APP_TOKEN\n  - E/AH_3kyg9yct5/AH_hxm8kpcqs/CASH_BACKUP_TAG\n  - E/AH_3kyg9yct5/AH_hxm8kpcqs/CASH_DEVICE\n  - E/AH_3kyg9yct5/AH_hxm8kpcqs/CASH_OPAQUE_APP_TOKEN\n  - E/AH_3tma4x2t0/AH_hxm8kpcqs/CASH_BACKUP_TAG\n  - E/AH_3tma4x2t0/AH_hxm8kpcqs/CASH_DEVICE\n  - E/AH_3tma4x2t0/AH_hxm8kpcqs/CASH_OPAQUE_APP_TOKEN\n  - E/AH_4ympjyesn/AH_hxm8kpcqs/CASH_DEVICE\n  - E/AH_4ympjyesn/AH_hxm8kpcqs/PHONE_NUMBER\n  - E/AH_4ympjyesn/AH_hxm8kpcqs/TRACKING_COOKIE\n  - E/AH_98mhppet0/AH_hxm8kpcqs/CASH_BACKUP_TAG\n  - E/AH_98mhppet0/AH_hxm8kpcqs/CASH_DEVICE\n  - E/AH_98mhppet0/AH_hxm8kpcqs/CASH_OPAQUE_APP_TOKEN\n  - E/AH_98mhppet0/AH_hxm8kpcqs/PHONE_NUMBER\n  - E/AH_98mhppet0/AH_hxm8kpcqs/TRACKING_COOKIE\n  - E/AH_admh25de8/AH_hxm8kpcqs/CASH_BACKUP_TAG\n  - E/AH_admh25de8/AH_hxm8kpcqs/CASH_DEVICE\n  - E/AH_admh25de8/AH_hxm8kpcqs/CASH_OPAQUE_APP_TOKEN\n  - E/AH_admh25de8/AH_hxm8kpcqs/PHONE_NUMBER\n  - E/AH_admh25de8/AH_hxm8kpcqs/TRACKING_COOKIE\n  - E/AH_anhfevtx/AH_hxm8kpcqs/PAYMENT_CARD\n  - E/AH_c8yacp2tf/AH_hxm8kpcqs/PHONE_NUMBER\n  - E/AH_cc6lenyy/AH_hxm8kpcqs/PAYMENT_CARD\n  - E/AH_d2yhde2ns/AH_hxm8kpcqs/PHONE_NUMBER\n  - E/AH_egyakccqh/AH_hxm8kpcqs/CASH_BACKUP_TAG\n  - E/AH_egyakccqh/AH_hxm8kpcqs/CASH_DEVICE\n  - E/AH_egyakccqh/AH_hxm8kpcqs/CASH_OPAQUE_APP_TOKEN\n  - E/AH_egyakccqh/AH_hxm8kpcqs/PHONE_NUMBER\n  - E/AH_egyakccqh/AH_hxm8kpcqs/TRACKING_COOKIE\n  - E/AH_elhh6ks3/AH_hxm8kpcqs/PAYMENT_CARD\n  - E/AH_exy0jccjh/AH_hxm8kpcqs/CASH_BACKUP_TAG\n  - E/AH_exy0jccjh/AH_hxm8kpcqs/CASH_DEVICE\n  - E/AH_exy0jccjh/AH_hxm8kpcqs/CASH_OPAQUE_APP_TOKEN\n  - E/AH_exy0jccjh/AH_hxm8kpcqs/PHONE_NUMBER\n  - E/AH_exy0jccjh/AH_hxm8kpcqs/TRACKING_COOKIE\n  - E/AH_eym81p2qs/AH_hxm8kpcqs/CASH_DEVICE\n  - E/AH_eym81p2qs/AH_hxm8kpcqs/PHONE_NUMBER\n  - E/AH_gymp4cc9f/AH_hxm8kpcqs/PHONE_NUMBER\n  - E/AH_hxm8kpcqs/AH_jsygwwey0/CASH_BACKUP_TAG\n  - E/AH_hxm8kpcqs/AH_jsygwwey0/CASH_DEVICE\n  - E/AH_hxm8kpcqs/AH_jsygwwey0/CASH_OPAQUE_APP_TOKEN\n  - E/AH_hxm8kpcqs/AH_jsygwwey0/PHONE_NUMBER\n  - E/AH_hxm8kpcqs/AH_jsygwwey0/TRACKING_COOKIE\n  - E/AH_hxm8kpcqs/AH_jtm0kxc98/PHONE_NUMBER\n  - E/AH_hxm8kpcqs/AH_kzma4wdeh/CASH_BACKUP_TAG\n  - E/AH_hxm8kpcqs/AH_kzma4wdeh/CASH_DEVICE\n  - E/AH_hxm8kpcqs/AH_kzma4wdeh/CASH_OPAQUE_APP_TOKEN\n  - E/AH_hxm8kpcqs/AH_m3m14ydmn/CASH_BACKUP_TAG\n  - E/AH_hxm8kpcqs/AH_m3m14ydmn/CASH_DEVICE\n  - E/AH_hxm8kpcqs/AH_m3m14ydmn/CASH_OPAQUE_APP_TOKEN\n  - E/AH_hxm8kpcqs/AH_m3m14ydmn/TRACKING_COOKIE\n  - E/AH_hxm8kpcqs/AH_mhy8xp2tf/CASH_BACKUP_TAG\n  - E/AH_hxm8kpcqs/AH_mhy8xp2tf/CASH_DEVICE\n  - E/AH_hxm8kpcqs/AH_mhy8xp2tf/CASH_OPAQUE_APP_TOKEN\n  - E/AH_hxm8kpcqs/AH_mhy8xp2tf/PHONE_NUMBER\n  - E/AH_hxm8kpcqs/AH_mhy8xp2tf/TRACKING_COOKIE\n  - E/AH_hxm8kpcqs/AH_mxmg9h20g/PHONE_NUMBER\n  - E/AH_hxm8kpcqs/AH_q4yp9ydqh/CASH_DEVICE\n  - E/AH_hxm8kpcqs/AH_q4yp9ydqh/PHONE_NUMBER\n  - E/AH_hxm8kpcqs/AH_q4yp9ydqh/TRACKING_COOKIE\n  - E/AH_hxm8kpcqs/AH_qgmg45des/CASH_BACKUP_TAG\n  - E/AH_hxm8kpcqs/AH_qgmg45des/CASH_DEVICE\n  - E/AH_hxm8kpcqs/AH_qgmg45des/CASH_OPAQUE_APP_TOKEN\n  - E/AH_hxm8kpcqs/AH_rfqjgnrr/PAYMENT_CARD\n  - E/AH_hxm8kpcqs/AH_s9mpraec8/CASH_DEVICE\n  - E/AH_hxm8kpcqs/AH_s9mpraec8/CASH_OPAQUE_APP_TOKEN\n  - E/AH_hxm8kpcqs/AH_u4uzpwnu/PAYMENT_CARD\n  - E/AH_hxm8kpcqs/AH_wty02c2y0/PHONE_NUMBER\n  - E/AH_hxm8kpcqs/AH_zmmgr8cqf/PHONE_NUMBER\n\nAccount holder: AH_ddy0eyct8\nUnexpected events:\n  - E/AH_89y0kw2xh/AH_ddy0eyct8/CASH_BACKUP_TAG\n  - E/AH_89y0kw2xh/AH_ddy0eyct8/CASH_DEVICE\n  - E/AH_89y0kw2xh/AH_ddy0eyct8/CASH_OPAQUE_APP_TOKEN\n  - E/AH_9gypb82cf/AH_ddy0eyct8/CASH_BACKUP_TAG\n  - E/AH_9gypb82cf/AH_ddy0eyct8/CASH_DEVICE\n  - E/AH_9gypb82cf/AH_ddy0eyct8/CASH_OPAQUE_APP_TOKEN\n  - E/AH_ddy0eyct8/AH_e7m0beexn/CASH_BACKUP_TAG\n  - E/AH_ddy0eyct8/AH_e7m0beexn/CASH_DEVICE\n  - E/AH_ddy0eyct8/AH_e7m0beexn/CASH_OPAQUE_APP_TOKEN\n  - E/AH_ddy0eyct8/AH_r0mgbhcyh/CASH_BACKUP_TAG\n  - E/AH_ddy0eyct8/AH_r0mgbhcyh/CASH_DEVICE\n  - E/AH_ddy0eyct8/AH_r0mgbhcyh/CASH_OPAQUE_APP_TOKEN\n  - E/AH_ddy0eyct8/AH_r0mgbhcyh/PHONE_NUMBER\n\nAccount holder: AH_5rygbhejh\nUnexpected events:\n  - E/AH_5rygbhejh/AH_7wm8bpcah/CASH_BACKUP_TAG\n  - E/AH_5rygbhejh/AH_7wm8bpcah/CASH_DEVICE\n  - E/AH_5rygbhejh/AH_7wm8bpcah/CASH_OPAQUE_APP_TOKEN\n  - E/AH_5rygbhejh/AH_7wm8bpcah/PHONE_NUMBER\n  - E/AH_5rygbhejh/AH_9tyqqwdsf/CASH_BACKUP_TAG\n  - E/AH_5rygbhejh/AH_9tyqqwdsf/CASH_DEVICE\n  - E/AH_5rygbhejh/AH_9tyqqwdsf/CASH_OPAQUE_APP_TOKEN\n  - E/AH_5rygbhejh/AH_9tyqqwdsf/PHONE_NUMBER\n  - E/AH_5rygbhejh/AH_kbypa5dcs/CASH_BACKUP_TAG\n  - E/AH_5rygbhejh/AH_kbypa5dcs/CASH_DEVICE\n  - E/AH_5rygbhejh/AH_kbypa5dcs/CASH_OPAQUE_APP_TOKEN\n  - E/AH_5rygbhejh/AH_kqygcd2hg/CASH_BACKUP_TAG\n  - E/AH_5rygbhejh/AH_kqygcd2hg/CASH_DEVICE\n  - E/AH_5rygbhejh/AH_kqygcd2hg/CASH_OPAQUE_APP_TOKEN\n\nAccount holder: AH_j9ma9hce8\nUnexpected events:\n  - E/AH_22m0rt2y5/AH_j9ma9hce8/CASH_DEVICE\n  - E/AH_22m0rt2y5/AH_j9ma9hce8/CASH_OPAQUE_APP_TOKEN\n  - E/AH_fbmgpqe4f/AH_j9ma9hce8/CASH_DEVICE\n  - E/AH_fbmgpqe4f/AH_j9ma9hce8/CASH_OPAQUE_APP_TOKEN\n  - E/AH_j9ma9hce8/AH_kqmgjv2x5/CASH_BACKUP_TAG\n  - E/AH_j9ma9hce8/AH_kqmgjv2x5/CASH_DEVICE\n  - E/AH_j9ma9hce8/AH_kqmgjv2x5/CASH_OPAQUE_APP_TOKEN\n  - E/AH_j9ma9hce8/AH_m0m0kxcyg/CASH_BACKUP_TAG\n  - E/AH_j9ma9hce8/AH_m0m0kxcyg/CASH_DEVICE\n  - E/AH_j9ma9hce8/AH_m0m0kxcyg/CASH_OPAQUE_APP_TOKEN\n  - E/AH_j9ma9hce8/AH_q8m81tcen/CASH_BACKUP_TAG\n  - E/AH_j9ma9hce8/AH_q8m81tcen/CASH_DEVICE\n  - E/AH_j9ma9hce8/AH_q8m81tcen/CASH_OPAQUE_APP_TOKEN\n\n"
     ]
    }
   ],
   "source": [
    "# Filter rows where unexpected_events is not empty\n",
    "unexpected_events_df = validation_df[validation_df['unexpected_events'].notna()]\n",
    "\n",
    "if unexpected_events_df.empty:\n",
    "    print(\"No unexpected events found in the validation results\")\n",
    "else:\n",
    "    print(f\"Found {len(unexpected_events_df)} account holders with unexpected events: \\n{unexpected_events_df['account_holder_token'].to_list()}\\n\")\n",
    "    \n",
    "    for _, row in unexpected_events_df.iterrows():\n",
    "        events = row['unexpected_events'].split('|')\n",
    "        \n",
    "        print(f\"Account holder: {row['account_holder_token']}\")\n",
    "        print(\"Unexpected events:\")\n",
    "        for event in events:\n",
    "            print(f\"  - {event}\")\n",
    "        print()"
   ]
  },
  {
   "cell_type": "markdown",
   "metadata": {
    "application/vnd.databricks.v1+cell": {
     "cellMetadata": {},
     "inputWidgets": {},
     "nuid": "a5e3011d-6e65-4014-a81e-830619e21dbe",
     "showTitle": false,
     "tableResultSettingsMap": {},
     "title": ""
    }
   },
   "source": [
    "### ✅ Label mismatches\n",
    "\n",
    "Mismatches between expected and actual labels on the change event source and target account holders. Excludes `ACCOUNT_DENYLISTED` labels which don't apply to account holders."
   ]
  },
  {
   "cell_type": "code",
   "execution_count": 0,
   "metadata": {
    "application/vnd.databricks.v1+cell": {
     "cellMetadata": {
      "byteLimit": 2048000,
      "rowLimit": 10000
     },
     "inputWidgets": {},
     "nuid": "ee6832fb-437a-411f-bfad-e5e8921b5b0a",
     "showTitle": false,
     "tableResultSettingsMap": {},
     "title": ""
    }
   },
   "outputs": [
    {
     "output_type": "stream",
     "name": "stdout",
     "output_type": "stream",
     "text": [
      "No label errors found in the validation results\n"
     ]
    }
   ],
   "source": [
    "# Filter rows where label_errors is not empty\n",
    "label_errors_df = validation_df[validation_df['label_errors'].notna()]\n",
    "\n",
    "def parse_label_error(error_message: str) -> dict:\n",
    "    \"\"\"Parse a label error message into its components.\n",
    "    \n",
    "    Args:\n",
    "        error_message: The label error message from validation\n",
    "        \n",
    "    Returns:\n",
    "        Dictionary containing error details or None if parsing fails\n",
    "    \"\"\"\n",
    "    try:\n",
    "        # Determine if this is source or target label error\n",
    "        is_source = 'Source label mismatch' in error_message\n",
    "        is_target = 'Target label mismatch' in error_message\n",
    "        if not (is_source or is_target):\n",
    "            return None\n",
    "            \n",
    "        # Extract event ID\n",
    "        event_start = error_message.find('event ') + len('event ')\n",
    "        event_end = error_message.find(':', event_start)\n",
    "        event_id = error_message[event_start:event_end].strip()\n",
    "            \n",
    "        # Extract target account holder for target label errors\n",
    "        target_holder = None\n",
    "        if is_target:\n",
    "            target_start = error_message.find('Target account holder:') + len('Target account holder:')\n",
    "            target_end = error_message.find('\\n', target_start)\n",
    "            target_holder = error_message[target_start:target_end].strip()\n",
    "        \n",
    "        # Extract expected and actual labels\n",
    "        expected_start = error_message.find('Expected:') + len('Expected:')\n",
    "        expected_end = error_message.find('\\n', expected_start)\n",
    "        actual_start = error_message.find('Actual:') + len('Actual:')\n",
    "        actual_end = error_message.find('\\n', actual_start) if '\\n' in error_message[actual_start:] else len(error_message)\n",
    "        \n",
    "        expected_str = error_message[expected_start:expected_end].strip()\n",
    "        actual_str = error_message[actual_start:actual_end].strip()\n",
    "        \n",
    "        # Convert string representations of lists to sets\n",
    "        expected_labels = set(eval(expected_str))\n",
    "        actual_labels = set(eval(actual_str))\n",
    "        \n",
    "        # Only ignore if the ACCOUNT_DENYLISTED label is in expected but not actual\n",
    "        if ('ACCOUNT_DENYLISTED' in expected_labels and \n",
    "            'ACCOUNT_DENYLISTED' not in actual_labels and \n",
    "            expected_labels - {'ACCOUNT_DENYLISTED'} == actual_labels):\n",
    "            return None\n",
    "            \n",
    "        return {\n",
    "            'type': 'source' if is_source else 'target',\n",
    "            'event_id': event_id,\n",
    "            'target_holder': target_holder,\n",
    "            'expected': sorted(expected_labels),\n",
    "            'actual': sorted(actual_labels)\n",
    "        }\n",
    "    except:\n",
    "        return None\n",
    "\n",
    "if label_errors_df.empty:\n",
    "    print(\"No label errors found in the validation results\")\n",
    "else:\n",
    "    print(f\"Found {len(label_errors_df)} account holders with label errors:\\n{label_errors_df['account_holder_token'].to_list()}\\n\")\n",
    "    \n",
    "    relevant_errors = 0\n",
    "    for _, row in label_errors_df.iterrows():\n",
    "        errors = row['label_errors'].split('|')\n",
    "        \n",
    "        # Parse and filter errors\n",
    "        parsed_errors = [\n",
    "            parse_label_error(error) \n",
    "            for error in errors\n",
    "        ]\n",
    "        parsed_errors = [e for e in parsed_errors if e is not None]\n",
    "        \n",
    "        if parsed_errors:\n",
    "            relevant_errors += 1\n",
    "            print(f\"Account holder: {row['account_holder_token']}\")\n",
    "            for error in parsed_errors:\n",
    "                if error['type'] == 'source':\n",
    "                    print(f\"  Source label mismatch (event: {error['event_id']}):\")\n",
    "                    print(f\"    Expected: {error['expected']}\")\n",
    "                    print(f\"    Actual:   {error['actual']}\")\n",
    "                else:\n",
    "                    print(f\"  Target label mismatch (event: {error['event_id']}, target: {error['target_holder']}):\")\n",
    "                    print(f\"    Expected: {error['expected']}\")\n",
    "                    print(f\"    Actual:   {error['actual']}\")\n",
    "            print()\n",
    "    \n",
    "    print(f\"Found {relevant_errors} account holders with label errors\")\n",
    "    if relevant_errors < len(label_errors_df):\n",
    "        print(f\"({len(label_errors_df) - relevant_errors} account holders had only expected ACCOUNT_DENYLISTED differences)\")"
   ]
  },
  {
   "cell_type": "markdown",
   "metadata": {
    "application/vnd.databricks.v1+cell": {
     "cellMetadata": {},
     "inputWidgets": {},
     "nuid": "6383ac60-dccb-426d-8762-eb24e294a90a",
     "showTitle": false,
     "tableResultSettingsMap": {},
     "title": ""
    }
   },
   "source": [
    "### ✅ Timestamp errors\n",
    "\n",
    "Account holders with mismatches between expected event timestamps (based on the earliest connection time between source/target via the given asset type) and the actual `effective_at_millis` in the generated change events.\n",
    "\n",
    "A sample of account holders with timestamp errors was checked manually. In all cases the reason for the discrepancy was a different `effective_at` timestamp in Duplograph's database (verified via RPC calls) compared to the `effective_at` timestamp in `duplograph.public.edges` for the same edge (i.e. same `from_node` and `to_node`)."
   ]
  },
  {
   "cell_type": "code",
   "execution_count": 0,
   "metadata": {
    "application/vnd.databricks.v1+cell": {
     "cellMetadata": {
      "byteLimit": 2048000,
      "rowLimit": 10000
     },
     "inputWidgets": {},
     "nuid": "7c09ec5e-7a3b-46ad-941e-1783c8ee2c35",
     "showTitle": false,
     "tableResultSettingsMap": {},
     "title": ""
    }
   },
   "outputs": [
    {
     "output_type": "stream",
     "name": "stdout",
     "output_type": "stream",
     "text": [
      "Found 14 account holders with timestamp errors:\n['AH_prmgbv2ts', 'AH_qqmq1v2c8', 'AH_baypq8dqn', 'AH_epya4dc00', 'AH_zay1phd40', 'AH_06m8wd2qn', 'AH_y3yqeceen', 'AH_9cypjad65', 'AH_cwya2p2tn', 'AH_3jm8dcdcs', 'AH_hxm8kpcqs', 'AH_q8mh1hdt0', 'AH_3xmpdz2x8', 'AH_mbm1ptct0']\n\nAccount holder: AH_prmgbv2ts\nNumber of timestamp errors: 1\nTimestamp error details:\n  - Timestamp mismatch for event E/AH_bbm0cnccg/AH_prmgbv2ts/CASH_DEVICE:\n  Expected (earliest effective connection): 2023-12-31 07:20:15.872000\n  Actual (event effective_at): 2023-12-31 07:20:15.798000\n\n\nAccount holder: AH_qqmq1v2c8\nNumber of timestamp errors: 1\nTimestamp error details:\n  - Timestamp mismatch for event E/AH_dymp48d6f/AH_qqmq1v2c8/CASH_DEVICE:\n  Expected (earliest effective connection): 2024-01-08 03:59:10.678000\n  Actual (event effective_at): 2024-01-08 03:59:10.626000\n\n\nAccount holder: AH_baypq8dqn\nNumber of timestamp errors: 1\nTimestamp error details:\n  - Timestamp mismatch for event E/AH_3cmgp829f/AH_baypq8dqn/EMAIL:\n  Expected (earliest effective connection): 2023-05-25 05:18:03.993000\n  Actual (event effective_at): 2023-05-25 05:18:03.897000\n\n\nAccount holder: AH_epya4dc00\nNumber of timestamp errors: 1\nTimestamp error details:\n  - Timestamp mismatch for event E/AH_b3y0jccx8/AH_epya4dc00/BTC_WITHDRAWAL_WALLET_ADDRESS:\n  Expected (earliest effective connection): 2024-10-31 04:24:45.370000\n  Actual (event effective_at): 2024-10-31 04:24:28.553000\n\n\nAccount holder: AH_zay1phd40\nNumber of timestamp errors: 1\nTimestamp error details:\n  - Timestamp mismatch for event E/AH_00m09a2y0/AH_zay1phd40/CASH_DEVICE:\n  Expected (earliest effective connection): 2024-01-05 06:40:08.415000\n  Actual (event effective_at): 2024-01-05 06:40:08.405000\n\n\nAccount holder: AH_06m8wd2qn\nNumber of timestamp errors: 1\nTimestamp error details:\n  - Timestamp mismatch for event E/AH_06m8wd2qn/AH_ywy0wtccf/EMAIL:\n  Expected (earliest effective connection): 2023-04-19 19:35:51.153000\n  Actual (event effective_at): 2023-04-19 19:35:50.753000\n\n\nAccount holder: AH_y3yqeceen\nNumber of timestamp errors: 1\nTimestamp error details:\n  - Timestamp mismatch for event E/AH_3qm1xw2en/AH_y3yqeceen/EMAIL:\n  Expected (earliest effective connection): 2023-06-17 01:02:12.920000\n  Actual (event effective_at): 2023-06-17 01:02:12.461000\n\n\nAccount holder: AH_9cypjad65\nNumber of timestamp errors: 1\nTimestamp error details:\n  - Timestamp mismatch for event E/AH_9cypjad65/AH_kkmqr8e68/EMAIL:\n  Expected (earliest effective connection): 2023-05-14 16:23:09.388000\n  Actual (event effective_at): 2023-05-14 16:23:09.791000\n\n\nAccount holder: AH_cwya2p2tn\nNumber of timestamp errors: 2\nTimestamp error details:\n  - Timestamp mismatch for event E/AH_cwya2p2tn/AH_vyyhda2t0/CASH_DEVICE:\n  Expected (earliest effective connection): 2023-11-14 21:05:52.536000\n  Actual (event effective_at): 2023-11-14 21:05:52.525000\n  - Timestamp mismatch for event E/AH_cwya2p2tn/AH_hbm195cx8/CASH_DEVICE:\n  Expected (earliest effective connection): 2023-11-14 21:05:52.536000\n  Actual (event effective_at): 2023-11-14 21:05:52.525000\n\n\nAccount holder: AH_3jm8dcdcs\nNumber of timestamp errors: 1\nTimestamp error details:\n  - Timestamp mismatch for event E/AH_3jm8dcdcs/AH_xfy1x22n0/EMAIL:\n  Expected (earliest effective connection): 2023-06-02 21:25:16.738000\n  Actual (event effective_at): 2023-05-30 05:46:15.397000\n\n\nAccount holder: AH_hxm8kpcqs\nNumber of timestamp errors: 7\nTimestamp error details:\n  - Timestamp mismatch for event E/AH_5cyqe5c0n/AH_hxm8kpcqs/PAYMENT_CARD:\n  Expected (earliest effective connection): 2021-06-29 23:18:02.809000\n  Actual (event effective_at): 2021-08-06 09:35:45.541000\n  - Timestamp mismatch for event E/AH_hxm8kpcqs/AH_mjmqec2s5/PAYMENT_CARD:\n  Expected (earliest effective connection): 2021-06-29 23:18:02.809000\n  Actual (event effective_at): 2021-08-06 09:35:45.541000\n  - Timestamp mismatch for event E/AH_8vmpkz20f/AH_hxm8kpcqs/PAYMENT_CARD:\n  Expected (earliest effective connection): 2021-08-02 14:19:36.542000\n  Actual (event effective_at): 2021-08-06 08:58:38.050000\n  - Timestamp mismatch for event E/AH_81mp18e68/AH_hxm8kpcqs/PAYMENT_CARD:\n  Expected (earliest effective connection): 2021-06-29 23:18:02.809000\n  Actual (event effective_at): 2021-07-13 17:06:47.761000\n  - Timestamp mismatch for event E/AH_08y09ne00/AH_hxm8kpcqs/PAYMENT_CARD:\n  Expected (earliest effective connection): 2021-12-13 08:09:47.093000\n  Actual (event effective_at): 2021-12-13 11:29:10.379000\n  - Timestamp mismatch for event E/AH_dwy19ad4f/AH_hxm8kpcqs/PAYMENT_CARD:\n  Expected (earliest effective connection): 2022-02-03 17:11:12.921000\n  Actual (event effective_at): 2022-04-18 11:57:35.170000\n  - Timestamp mismatch for event E/AH_hxm8kpcqs/AH_ztya1nem0/PAYMENT_CARD:\n  Expected (earliest effective connection): 2021-10-13 14:49:13.621000\n  Actual (event effective_at): 2022-06-03 22:01:32.941000\n\n\nAccount holder: AH_q8mh1hdt0\nNumber of timestamp errors: 1\nTimestamp error details:\n  - Timestamp mismatch for event E/AH_f4m128d68/AH_q8mh1hdt0/CASH_DEVICE:\n  Expected (earliest effective connection): 2023-12-20 19:25:58.721000\n  Actual (event effective_at): 2023-12-20 19:25:58.709000\n\n\nAccount holder: AH_3xmpdz2x8\nNumber of timestamp errors: 1\nTimestamp error details:\n  - Timestamp mismatch for event E/AH_3xmpdz2x8/AH_43yajspeh/EMAIL:\n  Expected (earliest effective connection): 2023-06-21 02:34:54.475000\n  Actual (event effective_at): 2023-06-21 02:34:54.129000\n\n\nAccount holder: AH_mbm1ptct0\nNumber of timestamp errors: 1\nTimestamp error details:\n  - Timestamp mismatch for event E/AH_mbm1ptct0/AH_wvmqpec9s/IP_ADDRESS:\n  Expected (earliest effective connection): 2023-03-13 20:19:54.428000\n  Actual (event effective_at): 2023-03-13 20:19:53\n\n\n"
     ]
    }
   ],
   "source": [
    "# Filter rows where timestamp_errors is not empty and not NaN\n",
    "timestamp_errors_df = validation_df[\n",
    "    validation_df['timestamp_errors'].notna() & (validation_df['timestamp_errors'] != '')\n",
    "]\n",
    "\n",
    "if timestamp_errors_df.empty:\n",
    "    print(\"No timestamp errors found in the validation results.\")\n",
    "else:\n",
    "    print(f\"Found {len(timestamp_errors_df)} account holders with timestamp errors:\\n{timestamp_errors_df['account_holder_token'].to_list()}\\n\")\n",
    "    for index, row in timestamp_errors_df.iterrows():\n",
    "        account_holder = row['account_holder_token']\n",
    "        # Split the pipe-separated error strings\n",
    "        error_messages = row['timestamp_errors'].split('|')\n",
    "        \n",
    "        print(f\"Account holder: {account_holder}\")\n",
    "        print(f\"Number of timestamp errors: {len(error_messages)}\")\n",
    "        print(\"Timestamp error details:\")\n",
    "        for error_detail in error_messages:\n",
    "            # Replace literal '\\\\n' from CSV with actual newlines for readable printing\n",
    "            readable_error_detail = error_detail.replace('\\\\\\\\n', '\\\\n')\n",
    "            print(f\"  - {readable_error_detail}\")\n",
    "        print(\"\\n\") # Add a blank line for separation between account holders"
   ]
  },
  {
   "cell_type": "markdown",
   "metadata": {
    "application/vnd.databricks.v1+cell": {
     "cellMetadata": {},
     "inputWidgets": {},
     "nuid": "33d28654-90d3-4035-a3d3-7fe207319cc5",
     "showTitle": false,
     "tableResultSettingsMap": {},
     "title": ""
    }
   },
   "source": [
    "## ✅ General backfill checks\n",
    "\n",
    "Checks general properties of the backfilled event data set:\n",
    "- Are there any events that have the same source_user_token and target_user_token?\n",
    "- Are there duplicate events with the same event_id?\n",
    "- Are there are any events where event_time_millis is different to cash_connected_graph_change_event.effective_at_millis?\n",
    "- Are there any events where cash_connected_graph_change_event.connection_change.changed_node_type is not in the event_id?\n",
    "- Are there are any events where the source_user_token and target_user_token are not in the event_id?"
   ]
  },
  {
   "cell_type": "code",
   "execution_count": 0,
   "metadata": {
    "application/vnd.databricks.v1+cell": {
     "cellMetadata": {
      "byteLimit": 2048000,
      "rowLimit": 10000
     },
     "inputWidgets": {},
     "nuid": "4d927d84-c6b5-48f3-a404-35d01f43e894",
     "showTitle": false,
     "tableResultSettingsMap": {},
     "title": ""
    }
   },
   "outputs": [],
   "source": [
    "def parse_event_id(event_id: str) -> Tuple[str, str, str]:\n",
    "    \"\"\"Parse an event ID of format 'E/token1/token2/type' into its components.\n",
    "    Returns (token1, token2, type).\"\"\"\n",
    "    try:\n",
    "        _, tokens_and_type = event_id.split('E/', 1)\n",
    "        token1, token2, node_type = tokens_and_type.split('/')\n",
    "        return token1, token2, node_type\n",
    "    except:\n",
    "        return None, None, None\n",
    "    \n",
    "def format_event(event: dict) -> str:\n",
    "    \"\"\"Format a single CashConnectedGraphChangeEvent in a readable way.\"\"\"\n",
    "    output = [\n",
    "        f\"Event ID: {event['event_id']}\",\n",
    "        f\"Source: {event['source_user_token']}\",\n",
    "        f\"Target: {event['target_user_token']}\",\n",
    "        f\"Node Type: {event['changed_node_type']}\",\n",
    "        f\"Event Time: {event['event_time_millis']}\",\n",
    "        f\"Effective At: {event['effective_at_millis']}\"\n",
    "    ]\n",
    "    return \"\\n  \".join(output)\n",
    "\n",
    "def format_validation_sample(df: pd.DataFrame, validation_type: str, max_samples: int = 10) -> str:\n",
    "    \"\"\"Format validation results with samples of problematic events.\"\"\"\n",
    "    output = []\n",
    "    for idx, event in df.head(max_samples).iterrows():\n",
    "        output.append(f\"\\n{validation_type} {idx + 1}:\")\n",
    "        output.append(\"  \" + format_event(event))\n",
    "    return \"\\n\".join(output)"
   ]
  },
  {
   "cell_type": "code",
   "execution_count": 0,
   "metadata": {
    "application/vnd.databricks.v1+cell": {
     "cellMetadata": {
      "byteLimit": 2048000,
      "rowLimit": 10000
     },
     "inputWidgets": {},
     "nuid": "3b311c58-b355-4a05-a2fa-9e65f632081e",
     "showTitle": false,
     "tableResultSettingsMap": {},
     "title": ""
    }
   },
   "outputs": [],
   "source": [
    "def validate_backfilled_events(ccgce_table: str):\n",
    "    \"\"\"Validate general properties of backfilled events.\n",
    "    \n",
    "    Args:\n",
    "        ccgce_table: Full name of the CashConnectedGraphChangeEvent table to validate\n",
    "    \"\"\"\n",
    "    # Load all backfilled events into a DataFrame once\n",
    "    query = f\"\"\"\n",
    "    SELECT \n",
    "        event_time_millis,\n",
    "        cash_connected_graph_change_event.event_id,\n",
    "        cash_connected_graph_change_event.source_user_token,\n",
    "        cash_connected_graph_change_event.target_user_token,\n",
    "        cash_connected_graph_change_event.effective_at_millis,\n",
    "        cash_connected_graph_change_event.connection_change.changed_node_type as changed_node_type,\n",
    "        cash_connected_graph_change_event.event_source_type\n",
    "    FROM {ccgce_table}\n",
    "    WHERE cash_connected_graph_change_event.event_source_type = 'BACKFILL'\n",
    "    \"\"\"\n",
    "    \n",
    "    df = spark_query(query)\n",
    "    total_events = len(df)\n",
    "    print(f\"Total backfilled events: {total_events}\\n\")\n",
    "\n",
    "    # 1. Check for self-referential events\n",
    "    self_ref_df = df[df['source_user_token'] == df['target_user_token']]\n",
    "    print(\"\\n1. Events with same source and target user:\")\n",
    "    print(f\"Total count: {len(self_ref_df)}\")\n",
    "    if not self_ref_df.empty:\n",
    "        print(\"\\nSample of such events:\")\n",
    "        print(format_validation_sample(self_ref_df, \"Self-referential event\"))\n",
    "\n",
    "    # 2. Check for duplicate event IDs\n",
    "    event_counts = df['event_id'].value_counts()\n",
    "    duplicates = event_counts[event_counts > 1]\n",
    "    if len(duplicates) > 0:\n",
    "        print(\"\\n2. Events with duplicate event IDs:\")\n",
    "        print(f\"Total count of unique event IDs with duplicates: {len(duplicates)}\")\n",
    "        print(\"\\nSample of such events:\")\n",
    "        for idx, (event_id, count) in enumerate(duplicates.head(10).items(), 1):\n",
    "            print(f\"\\nDuplicate Event {idx}:\")\n",
    "            print(f\"  Event ID: {event_id}\")\n",
    "            print(f\"  Count: {count}\")\n",
    "            print(\"  Instances:\")\n",
    "            duplicate_events = df[df['event_id'] == event_id]\n",
    "            for i, event in enumerate(duplicate_events.to_dict('records'), 1):\n",
    "                print(f\"\\n    Instance {i}:\")\n",
    "                print(\"      \" + format_event(event).replace(\"\\n  \", \"\\n      \"))\n",
    "\n",
    "    # 3. Check for mismatched timestamps\n",
    "    timestamp_mismatch_df = df[df['event_time_millis'] != df['effective_at_millis']]\n",
    "    print(\"\\n\\n3. Events with mismatched timestamps:\")\n",
    "    print(f\"Total count: {len(timestamp_mismatch_df)}\")\n",
    "    if not timestamp_mismatch_df.empty:\n",
    "        print(\"\\nSample of such events:\")\n",
    "        print(format_validation_sample(timestamp_mismatch_df, \"Mismatched timestamp\"))\n",
    "\n",
    "    # 4. Check for node type mismatches\n",
    "    node_type_mismatches = []\n",
    "    for _, row in df.iterrows():\n",
    "        _, _, event_type = parse_event_id(row['event_id'])\n",
    "        if event_type != row['changed_node_type']:\n",
    "            node_type_mismatches.append(row)\n",
    "\n",
    "    node_type_mismatch_df = pd.DataFrame(node_type_mismatches)\n",
    "    print(\"\\n\\n4. Events where node type doesn't match event ID:\")\n",
    "    print(f\"Total count: {len(node_type_mismatch_df)}\")\n",
    "    if not node_type_mismatch_df.empty:\n",
    "        print(\"\\nSample of such events:\")\n",
    "        print(format_validation_sample(node_type_mismatch_df, \"Node type not in event_id\"))\n",
    "\n",
    "    # 5. Check for user token mismatches\n",
    "    token_mismatches = []\n",
    "    for _, row in df.iterrows():\n",
    "        token1, token2, _ = parse_event_id(row['event_id'])\n",
    "        source_token = row['source_user_token']\n",
    "        target_token = row['target_user_token']\n",
    "        \n",
    "        # Check if both tokens are present in event ID\n",
    "        tokens_in_id = {token1, token2}\n",
    "        actual_tokens = {source_token, target_token}\n",
    "        if tokens_in_id != actual_tokens:\n",
    "            token_mismatches.append(row)\n",
    "\n",
    "    token_mismatch_df = pd.DataFrame(token_mismatches)\n",
    "    print(\"\\n\\n5. Events where user tokens don't match event ID:\")\n",
    "    print(f\"Total count: {len(token_mismatch_df)}\")\n",
    "    if not token_mismatch_df.empty:\n",
    "        print(\"\\nSample of such events:\")\n",
    "        print(format_validation_sample(token_mismatch_df, \"Source/target not in event_id\"))\n",
    "\n",
    "    # Print summary\n",
    "    print(\"\\n\\nValidation Summary:\")\n",
    "    print(f\"Total events validated: {total_events}\")\n",
    "    print(f\"Self-referential events: {len(self_ref_df)}\")\n",
    "    print(f\"Events with duplicate IDs: {len(duplicate_events)}\")\n",
    "    print(f\"Events with timestamp mismatches: {len(timestamp_mismatch_df)}\")\n",
    "    print(f\"Events with node type mismatches: {len(node_type_mismatch_df)}\")\n",
    "    print(f\"Events with token mismatches: {len(token_mismatch_df)}\")"
   ]
  },
  {
   "cell_type": "markdown",
   "metadata": {
    "application/vnd.databricks.v1+cell": {
     "cellMetadata": {},
     "inputWidgets": {},
     "nuid": "a02b4a31-b35f-4f2b-8d8c-23c65f0d0209",
     "showTitle": false,
     "tableResultSettingsMap": {},
     "title": ""
    }
   },
   "source": [
    "The 2 events with duplicate IDs below are examples where the source and target account holder were both part of the backfill. We know this because their source/target user tokens are swapped. This is the intended behaviour in this case. Having an identical event_id and timestamp ensures they'll be handled as duplicates downstream, to avoid double-counting these connections in signals."
   ]
  },
  {
   "cell_type": "code",
   "execution_count": 0,
   "metadata": {
    "application/vnd.databricks.v1+cell": {
     "cellMetadata": {
      "byteLimit": 2048000,
      "rowLimit": 10000
     },
     "inputWidgets": {},
     "nuid": "c953c8eb-ced6-44f4-bb2d-65c06ba504ad",
     "showTitle": false,
     "tableResultSettingsMap": {},
     "title": ""
    }
   },
   "outputs": [
    {
     "output_type": "stream",
     "name": "stdout",
     "output_type": "stream",
     "text": [
      "Total backfilled events: 62197\n\n\n1. Events with same source and target user:\nTotal count: 0\n\n2. Events with duplicate event IDs:\nTotal count of unique event IDs with duplicates: 2\n\nSample of such events:\n\nDuplicate Event 1:\n  Event ID: E/AH_8mmppzec5/AH_zrmga8ee8/VERIFIED_SSN\n  Count: 2\n  Instances:\n\n    Instance 1:\n      Event ID: E/AH_8mmppzec5/AH_zrmga8ee8/VERIFIED_SSN\n      Source: AH_zrmga8ee8\n      Target: AH_8mmppzec5\n      Node Type: VERIFIED_SSN\n      Event Time: 1658663258000\n      Effective At: 1658663258000\n\n    Instance 2:\n      Event ID: E/AH_8mmppzec5/AH_zrmga8ee8/VERIFIED_SSN\n      Source: AH_8mmppzec5\n      Target: AH_zrmga8ee8\n      Node Type: VERIFIED_SSN\n      Event Time: 1658663258000\n      Effective At: 1658663258000\n\nDuplicate Event 2:\n  Event ID: E/AH_8mmppzec5/AH_zrmga8ee8/SSN\n  Count: 2\n  Instances:\n\n    Instance 1:\n      Event ID: E/AH_8mmppzec5/AH_zrmga8ee8/SSN\n      Source: AH_zrmga8ee8\n      Target: AH_8mmppzec5\n      Node Type: SSN\n      Event Time: 1658663258000\n      Effective At: 1658663258000\n\n    Instance 2:\n      Event ID: E/AH_8mmppzec5/AH_zrmga8ee8/SSN\n      Source: AH_8mmppzec5\n      Target: AH_zrmga8ee8\n      Node Type: SSN\n      Event Time: 1658663258000\n      Effective At: 1658663258000\n\n\n3. Events with mismatched timestamps:\nTotal count: 0\n\n\n4. Events where node type doesn't match event ID:\nTotal count: 0\n\n\n5. Events where user tokens don't match event ID:\nTotal count: 0\n\n\nValidation Summary:\nTotal events validated: 62197\nSelf-referential events: 0\nEvents with duplicate IDs: 2\nEvents with timestamp mismatches: 0\nEvents with node type mismatches: 0\nEvents with token mismatches: 0\n"
     ]
    }
   ],
   "source": [
    "validate_backfilled_events(\"cash_banking_ml_eng.cash_connected_graph_change_event.edgy_test_20250512\")"
   ]
  },
  {
   "cell_type": "markdown",
   "metadata": {
    "application/vnd.databricks.v1+cell": {
     "cellMetadata": {},
     "inputWidgets": {},
     "nuid": "5b77ac3e-a9a2-4350-aebe-c9b914f01296",
     "showTitle": false,
     "tableResultSettingsMap": {},
     "title": ""
    }
   },
   "source": [
    "## Appendix: Obtaining the list of backfilled account holders"
   ]
  },
  {
   "cell_type": "code",
   "execution_count": 0,
   "metadata": {
    "application/vnd.databricks.v1+cell": {
     "cellMetadata": {
      "byteLimit": 2048000,
      "rowLimit": 10000
     },
     "collapsed": true,
     "inputWidgets": {},
     "nuid": "4b4d3bd8-74b4-4a07-bb1e-7236430b72bd",
     "showTitle": false,
     "tableResultSettingsMap": {},
     "title": ""
    }
   },
   "outputs": [
    {
     "output_type": "stream",
     "name": "stdout",
     "output_type": "stream",
     "text": [
      "Found 7141 unique account holders\nResults saved to: account_holders_20250509_071901.csv\n"
     ]
    }
   ],
   "source": [
    "# Fetch the unique account holder tokens corresponding to the backfilled customer tokens and save them to a file \n",
    "# (run one off and save output_file as backfilled_acc_holders_csv)\n",
    "\n",
    "# # Read the CASH_CUSTOMER tokens from the CSV file\n",
    "# cash_customer_df = spark.read.csv(\n",
    "#     \"dbfs:/FileStore/Users/johanz/2025_04_17_9_27am.csv\",\n",
    "#     header=True\n",
    "# ).toPandas()\n",
    "\n",
    "# # Get the list of CASH_CUSTOMER tokens\n",
    "# cash_customer_tokens = cash_customer_df['CUSTOMER_TOKEN'].unique().tolist()\n",
    "\n",
    "# # Query Snowflake to get the unique ACCOUNT_HOLDER_CASH_CUSTOMER nodes\n",
    "# query = f\"\"\"\n",
    "# SELECT DISTINCT e.FROM_TOKEN as ACCOUNT_HOLDER_TOKEN\n",
    "# FROM duplograph.public.edges e\n",
    "# WHERE e.FROM_TYPE = 'ACCOUNT_HOLDER_CASH_CUSTOMER'\n",
    "# AND e.TO_TYPE = 'CASH_CUSTOMER'\n",
    "# AND e.TO_TOKEN IN {to_sql_list(cash_customer_tokens)}\n",
    "# \"\"\"\n",
    "\n",
    "# account_holders_df = snowflake_query(query)\n",
    "\n",
    "# # Save to a local CSV file with timestamp\n",
    "# timestamp = datetime.now().strftime('%Y%m%d_%H%M%S')\n",
    "# output_file = f'account_holders_{timestamp}.csv'\n",
    "# account_holders_df.to_csv(output_file, index=False)\n",
    "\n",
    "# print(f\"Found {len(account_holders_df)} unique account holders\")\n",
    "# print(f\"Results saved to: {output_file}\")\n"
   ]
  }
 ],
 "metadata": {
  "application/vnd.databricks.v1+notebook": {
   "computePreferences": null,
   "dashboards": [],
   "environmentMetadata": null,
   "inputWidgetPreferences": null,
   "language": "python",
   "notebookMetadata": {
    "mostRecentlyExecutedCommandWithImplicitDF": {
     "commandId": 6031232220258917,
     "dataframes": [
      "_sqldf"
     ]
    },
    "pythonIndentUnit": 4
   },
   "notebookName": "edgy_backfill_validation_automated_20250515_final",
   "widgets": {}
  },
  "kernelspec": {
   "display_name": "Python 3 (ipykernel)",
   "language": "python",
   "name": "python3"
  },
  "language_info": {
   "name": "python"
  }
 },
 "nbformat": 4,
 "nbformat_minor": 0
}