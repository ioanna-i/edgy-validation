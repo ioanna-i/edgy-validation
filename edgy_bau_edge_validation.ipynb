{
 "cells": [
  {
   "cell_type": "markdown",
   "metadata": {
    "application/vnd.databricks.v1+cell": {
     "cellMetadata": {
      "byteLimit": 2048000,
      "rowLimit": 10000
     },
     "inputWidgets": {},
     "nuid": "98e53f4e-8db3-409a-a5d0-4a0fb5110b1a",
     "showTitle": false,
     "tableResultSettingsMap": {},
     "title": ""
    }
   },
   "source": [
    "# Edgy BAU Edge Processing Validation\n",
    "\n",
    "This notebook validates the CashConnectedGraphChangeEvent generation for BAU (live) edge processing through the Edgy service by comparing the events generated against expected events computed from Duplograph's graph state.\n",
    "\n",
    "## Overview\n",
    "\n",
    "The validation process:\n",
    "1. Takes a list of edges as input containing:\n",
    "   - Source account (CASH_CUSTOMER) token\n",
    "   - Target node type and token\n",
    "   - Edge effective timestamp\n",
    "2. For each edge:\n",
    "   - Finds the source account holder\n",
    "   - Queries their active (non-merged) accounts\n",
    "   - Identifies other account holders connected to the same asset type via active (non-merged) acconuts\n",
    "   - Computes expected connection change events based on shared assets and Edgy's deduplication logic\n",
    "   - Validates generated event IDs against expected events to ensure all expected events are present, and no unexpected events are generated\n",
    "   - Validates the source and target user labels attached to the events\n",
    "   - Validates the timestamp of the events matches the earliest connection between the source and target user\n",
    "3. Performs general sanity checks on the generated events"
   ]
  },
  {
   "cell_type": "markdown",
   "metadata": {
    "application/vnd.databricks.v1+cell": {
     "cellMetadata": {
      "byteLimit": 2048000,
      "rowLimit": 10000
     },
     "inputWidgets": {},
     "nuid": "1d4dd8cd-de01-488c-b237-fdbf333b8811",
     "showTitle": false,
     "tableResultSettingsMap": {},
     "title": ""
    }
   },
   "source": [
    "## Setup\n",
    "\n",
    "First, install required dependencies and import necessary modules."
   ]
  },
  {
   "cell_type": "code",
   "execution_count": 0,
   "metadata": {
    "application/vnd.databricks.v1+cell": {
     "cellMetadata": {
      "byteLimit": 2048000,
      "rowLimit": 10000
     },
     "inputWidgets": {},
     "nuid": "2d9c4382-0668-420b-a57f-acc1a172881b",
     "showTitle": false,
     "tableResultSettingsMap": {},
     "title": ""
    }
   },
   "outputs": [
    {
     "output_type": "stream",
     "name": "stdout",
     "output_type": "stream",
     "text": [
      "Python interpreter will be restarted.\nLooking in indexes: https://pypi.org/simple, https://artifactory.global.square/artifactory/api/pypi/block-pypi/simple\nRequirement already satisfied: sq-pysnowflake==1.6.0 in /local_disk0/.ephemeral_nfs/envs/pythonEnv-f360e742-d8f7-4792-961c-ef43d1c826c2/lib/python3.9/site-packages (1.6.0)\nRequirement already satisfied: PyYAML<7.0,>=6.0 in /databricks/python3/lib/python3.9/site-packages (from sq-pysnowflake==1.6.0) (6.0)\nRequirement already satisfied: tenacity in /databricks/python3/lib/python3.9/site-packages (from sq-pysnowflake==1.6.0) (8.0.1)\nRequirement already satisfied: numpy<2.0,>=1.26 in /local_disk0/.ephemeral_nfs/envs/pythonEnv-f360e742-d8f7-4792-961c-ef43d1c826c2/lib/python3.9/site-packages (from sq-pysnowflake==1.6.0) (1.26.4)\nRequirement already satisfied: block-cloud-auth<0.8.0,>=0.7.0 in /local_disk0/.ephemeral_nfs/envs/pythonEnv-f360e742-d8f7-4792-961c-ef43d1c826c2/lib/python3.9/site-packages (from sq-pysnowflake==1.6.0) (0.7.19)\nRequirement already satisfied: snowflake-connector-python[pandas,secure-local-storage]<4.0,>=3.2 in /databricks/python3/lib/python3.9/site-packages (from sq-pysnowflake==1.6.0) (3.15.0)\nRequirement already satisfied: cryptography>41 in /databricks/python3/lib/python3.9/site-packages (from block-cloud-auth<0.8.0,>=0.7.0->sq-pysnowflake==1.6.0) (45.0.4)\nRequirement already satisfied: requests<3.0.0,>=2.20.0 in /databricks/python3/lib/python3.9/site-packages (from block-cloud-auth<0.8.0,>=0.7.0->sq-pysnowflake==1.6.0) (2.27.1)\nRequirement already satisfied: click>=8.0.0 in /databricks/python3/lib/python3.9/site-packages (from block-cloud-auth<0.8.0,>=0.7.0->sq-pysnowflake==1.6.0) (8.0.4)\nRequirement already satisfied: google-auth>=2.0.0 in /local_disk0/.ephemeral_nfs/envs/pythonEnv-f360e742-d8f7-4792-961c-ef43d1c826c2/lib/python3.9/site-packages (from block-cloud-auth<0.8.0,>=0.7.0->sq-pysnowflake==1.6.0) (2.40.3)\nRequirement already satisfied: boto3<2.0.0,>=1.34.100 in /databricks/python3/lib/python3.9/site-packages (from block-cloud-auth<0.8.0,>=0.7.0->sq-pysnowflake==1.6.0) (1.39.0)\nRequirement already satisfied: google-cloud-compute<2.0.0,>=1.15.0 in /local_disk0/.ephemeral_nfs/envs/pythonEnv-f360e742-d8f7-4792-961c-ef43d1c826c2/lib/python3.9/site-packages (from block-cloud-auth<0.8.0,>=0.7.0->sq-pysnowflake==1.6.0) (1.31.0)\nRequirement already satisfied: importlib-resources<7.0.0,>=6.1.1 in /local_disk0/.ephemeral_nfs/cluster_libraries/python/lib/python3.9/site-packages (from block-cloud-auth<0.8.0,>=0.7.0->sq-pysnowflake==1.6.0) (6.5.2)\nRequirement already satisfied: werkzeug==3.0.3 in /local_disk0/.ephemeral_nfs/envs/pythonEnv-f360e742-d8f7-4792-961c-ef43d1c826c2/lib/python3.9/site-packages (from block-cloud-auth<0.8.0,>=0.7.0->sq-pysnowflake==1.6.0) (3.0.3)\nRequirement already satisfied: google-cloud-secret-manager>=2.0.0 in /local_disk0/.ephemeral_nfs/envs/pythonEnv-f360e742-d8f7-4792-961c-ef43d1c826c2/lib/python3.9/site-packages (from block-cloud-auth<0.8.0,>=0.7.0->sq-pysnowflake==1.6.0) (2.24.0)\nRequirement already satisfied: keyring>=23.5.0 in /local_disk0/.ephemeral_nfs/envs/pythonEnv-f360e742-d8f7-4792-961c-ef43d1c826c2/lib/python3.9/site-packages (from block-cloud-auth<0.8.0,>=0.7.0->sq-pysnowflake==1.6.0) (25.6.0)\nRequirement already satisfied: MarkupSafe>=2.1.1 in /local_disk0/.ephemeral_nfs/envs/pythonEnv-f360e742-d8f7-4792-961c-ef43d1c826c2/lib/python3.9/site-packages (from werkzeug==3.0.3->block-cloud-auth<0.8.0,>=0.7.0->sq-pysnowflake==1.6.0) (3.0.2)\nRequirement already satisfied: botocore<1.40.0,>=1.39.0 in /databricks/python3/lib/python3.9/site-packages (from boto3<2.0.0,>=1.34.100->block-cloud-auth<0.8.0,>=0.7.0->sq-pysnowflake==1.6.0) (1.39.0)\nRequirement already satisfied: s3transfer<0.14.0,>=0.13.0 in /databricks/python3/lib/python3.9/site-packages (from boto3<2.0.0,>=1.34.100->block-cloud-auth<0.8.0,>=0.7.0->sq-pysnowflake==1.6.0) (0.13.0)\nRequirement already satisfied: jmespath<2.0.0,>=0.7.1 in /databricks/python3/lib/python3.9/site-packages (from boto3<2.0.0,>=1.34.100->block-cloud-auth<0.8.0,>=0.7.0->sq-pysnowflake==1.6.0) (0.10.0)\nRequirement already satisfied: python-dateutil<3.0.0,>=2.1 in /databricks/python3/lib/python3.9/site-packages (from botocore<1.40.0,>=1.39.0->boto3<2.0.0,>=1.34.100->block-cloud-auth<0.8.0,>=0.7.0->sq-pysnowflake==1.6.0) (2.8.2)\nRequirement already satisfied: urllib3<1.27,>=1.25.4 in /databricks/python3/lib/python3.9/site-packages (from botocore<1.40.0,>=1.39.0->boto3<2.0.0,>=1.34.100->block-cloud-auth<0.8.0,>=0.7.0->sq-pysnowflake==1.6.0) (1.26.9)\nRequirement already satisfied: cffi>=1.14 in /databricks/python3/lib/python3.9/site-packages (from cryptography>41->block-cloud-auth<0.8.0,>=0.7.0->sq-pysnowflake==1.6.0) (1.15.0)\nRequirement already satisfied: pycparser in /databricks/python3/lib/python3.9/site-packages (from cffi>=1.14->cryptography>41->block-cloud-auth<0.8.0,>=0.7.0->sq-pysnowflake==1.6.0) (2.21)\nRequirement already satisfied: cachetools<6.0,>=2.0.0 in /databricks/python3/lib/python3.9/site-packages (from google-auth>=2.0.0->block-cloud-auth<0.8.0,>=0.7.0->sq-pysnowflake==1.6.0) (4.2.2)\nRequirement already satisfied: rsa<5,>=3.1.4 in /databricks/python3/lib/python3.9/site-packages (from google-auth>=2.0.0->block-cloud-auth<0.8.0,>=0.7.0->sq-pysnowflake==1.6.0) (4.7.2)\nRequirement already satisfied: pyasn1-modules>=0.2.1 in /databricks/python3/lib/python3.9/site-packages (from google-auth>=2.0.0->block-cloud-auth<0.8.0,>=0.7.0->sq-pysnowflake==1.6.0) (0.2.8)\nRequirement already satisfied: protobuf!=4.21.0,!=4.21.1,!=4.21.2,!=4.21.3,!=4.21.4,!=4.21.5,<7.0.0,>=3.20.2 in /local_disk0/.ephemeral_nfs/envs/pythonEnv-f360e742-d8f7-4792-961c-ef43d1c826c2/lib/python3.9/site-packages (from google-cloud-compute<2.0.0,>=1.15.0->block-cloud-auth<0.8.0,>=0.7.0->sq-pysnowflake==1.6.0) (6.31.1)\nRequirement already satisfied: google-api-core[grpc]!=2.0.*,!=2.1.*,!=2.10.*,!=2.2.*,!=2.3.*,!=2.4.*,!=2.5.*,!=2.6.*,!=2.7.*,!=2.8.*,!=2.9.*,<3.0.0,>=1.34.1 in /local_disk0/.ephemeral_nfs/envs/pythonEnv-f360e742-d8f7-4792-961c-ef43d1c826c2/lib/python3.9/site-packages (from google-cloud-compute<2.0.0,>=1.15.0->block-cloud-auth<0.8.0,>=0.7.0->sq-pysnowflake==1.6.0) (2.25.1)\nRequirement already satisfied: proto-plus<2.0.0,>=1.22.3 in /local_disk0/.ephemeral_nfs/envs/pythonEnv-f360e742-d8f7-4792-961c-ef43d1c826c2/lib/python3.9/site-packages (from google-cloud-compute<2.0.0,>=1.15.0->block-cloud-auth<0.8.0,>=0.7.0->sq-pysnowflake==1.6.0) (1.26.1)\nRequirement already satisfied: googleapis-common-protos<2.0.0,>=1.56.2 in /local_disk0/.ephemeral_nfs/envs/pythonEnv-f360e742-d8f7-4792-961c-ef43d1c826c2/lib/python3.9/site-packages (from google-api-core[grpc]!=2.0.*,!=2.1.*,!=2.10.*,!=2.2.*,!=2.3.*,!=2.4.*,!=2.5.*,!=2.6.*,!=2.7.*,!=2.8.*,!=2.9.*,<3.0.0,>=1.34.1->google-cloud-compute<2.0.0,>=1.15.0->block-cloud-auth<0.8.0,>=0.7.0->sq-pysnowflake==1.6.0) (1.70.0)\nRequirement already satisfied: grpcio<2.0.0,>=1.33.2 in /local_disk0/.ephemeral_nfs/envs/pythonEnv-f360e742-d8f7-4792-961c-ef43d1c826c2/lib/python3.9/site-packages (from google-api-core[grpc]!=2.0.*,!=2.1.*,!=2.10.*,!=2.2.*,!=2.3.*,!=2.4.*,!=2.5.*,!=2.6.*,!=2.7.*,!=2.8.*,!=2.9.*,<3.0.0,>=1.34.1->google-cloud-compute<2.0.0,>=1.15.0->block-cloud-auth<0.8.0,>=0.7.0->sq-pysnowflake==1.6.0) (1.73.1)\nRequirement already satisfied: grpcio-status<2.0.0,>=1.33.2 in /local_disk0/.ephemeral_nfs/envs/pythonEnv-f360e742-d8f7-4792-961c-ef43d1c826c2/lib/python3.9/site-packages (from google-api-core[grpc]!=2.0.*,!=2.1.*,!=2.10.*,!=2.2.*,!=2.3.*,!=2.4.*,!=2.5.*,!=2.6.*,!=2.7.*,!=2.8.*,!=2.9.*,<3.0.0,>=1.34.1->google-cloud-compute<2.0.0,>=1.15.0->block-cloud-auth<0.8.0,>=0.7.0->sq-pysnowflake==1.6.0) (1.73.1)\nRequirement already satisfied: grpc-google-iam-v1<1.0.0,>=0.14.0 in /local_disk0/.ephemeral_nfs/envs/pythonEnv-f360e742-d8f7-4792-961c-ef43d1c826c2/lib/python3.9/site-packages (from google-cloud-secret-manager>=2.0.0->block-cloud-auth<0.8.0,>=0.7.0->sq-pysnowflake==1.6.0) (0.14.2)\nRequirement already satisfied: zipp>=3.1.0 in /local_disk0/.ephemeral_nfs/envs/pythonEnv-f360e742-d8f7-4792-961c-ef43d1c826c2/lib/python3.9/site-packages (from importlib-resources<7.0.0,>=6.1.1->block-cloud-auth<0.8.0,>=0.7.0->sq-pysnowflake==1.6.0) (3.23.0)\nRequirement already satisfied: jaraco.classes in /local_disk0/.ephemeral_nfs/envs/pythonEnv-f360e742-d8f7-4792-961c-ef43d1c826c2/lib/python3.9/site-packages (from keyring>=23.5.0->block-cloud-auth<0.8.0,>=0.7.0->sq-pysnowflake==1.6.0) (3.4.0)\nRequirement already satisfied: importlib_metadata>=4.11.4 in /local_disk0/.ephemeral_nfs/envs/pythonEnv-f360e742-d8f7-4792-961c-ef43d1c826c2/lib/python3.9/site-packages (from keyring>=23.5.0->block-cloud-auth<0.8.0,>=0.7.0->sq-pysnowflake==1.6.0) (8.7.0)\nRequirement already satisfied: SecretStorage>=3.2 in /local_disk0/.ephemeral_nfs/envs/pythonEnv-f360e742-d8f7-4792-961c-ef43d1c826c2/lib/python3.9/site-packages (from keyring>=23.5.0->block-cloud-auth<0.8.0,>=0.7.0->sq-pysnowflake==1.6.0) (3.3.3)\nRequirement already satisfied: jaraco.context in /local_disk0/.ephemeral_nfs/envs/pythonEnv-f360e742-d8f7-4792-961c-ef43d1c826c2/lib/python3.9/site-packages (from keyring>=23.5.0->block-cloud-auth<0.8.0,>=0.7.0->sq-pysnowflake==1.6.0) (6.0.1)\nRequirement already satisfied: jeepney>=0.4.2 in /local_disk0/.ephemeral_nfs/envs/pythonEnv-f360e742-d8f7-4792-961c-ef43d1c826c2/lib/python3.9/site-packages (from keyring>=23.5.0->block-cloud-auth<0.8.0,>=0.7.0->sq-pysnowflake==1.6.0) (0.9.0)\nRequirement already satisfied: jaraco.functools in /local_disk0/.ephemeral_nfs/envs/pythonEnv-f360e742-d8f7-4792-961c-ef43d1c826c2/lib/python3.9/site-packages (from keyring>=23.5.0->block-cloud-auth<0.8.0,>=0.7.0->sq-pysnowflake==1.6.0) (4.2.1)\nRequirement already satisfied: pyasn1<0.5.0,>=0.4.6 in /databricks/python3/lib/python3.9/site-packages (from pyasn1-modules>=0.2.1->google-auth>=2.0.0->block-cloud-auth<0.8.0,>=0.7.0->sq-pysnowflake==1.6.0) (0.4.8)\nRequirement already satisfied: six>=1.5 in /databricks/python3/lib/python3.9/site-packages (from python-dateutil<3.0.0,>=2.1->botocore<1.40.0,>=1.39.0->boto3<2.0.0,>=1.34.100->block-cloud-auth<0.8.0,>=0.7.0->sq-pysnowflake==1.6.0) (1.16.0)\nRequirement already satisfied: charset-normalizer~=2.0.0 in /databricks/python3/lib/python3.9/site-packages (from requests<3.0.0,>=2.20.0->block-cloud-auth<0.8.0,>=0.7.0->sq-pysnowflake==1.6.0) (2.0.4)\nRequirement already satisfied: idna<4,>=2.5 in /databricks/python3/lib/python3.9/site-packages (from requests<3.0.0,>=2.20.0->block-cloud-auth<0.8.0,>=0.7.0->sq-pysnowflake==1.6.0) (3.3)\nRequirement already satisfied: certifi>=2017.4.17 in /databricks/python3/lib/python3.9/site-packages (from requests<3.0.0,>=2.20.0->block-cloud-auth<0.8.0,>=0.7.0->sq-pysnowflake==1.6.0) (2021.10.8)\nRequirement already satisfied: sortedcontainers>=2.4.0 in /databricks/python3/lib/python3.9/site-packages (from snowflake-connector-python[pandas,secure-local-storage]<4.0,>=3.2->sq-pysnowflake==1.6.0) (2.4.0)\nRequirement already satisfied: asn1crypto<2.0.0,>0.24.0 in /databricks/python3/lib/python3.9/site-packages (from snowflake-connector-python[pandas,secure-local-storage]<4.0,>=3.2->sq-pysnowflake==1.6.0) (1.5.1)\nRequirement already satisfied: pyjwt<3.0.0 in /databricks/python3/lib/python3.9/site-packages (from snowflake-connector-python[pandas,secure-local-storage]<4.0,>=3.2->sq-pysnowflake==1.6.0) (2.6.0)\nRequirement already satisfied: typing_extensions<5,>=4.3 in /databricks/python3/lib/python3.9/site-packages (from snowflake-connector-python[pandas,secure-local-storage]<4.0,>=3.2->sq-pysnowflake==1.6.0) (4.14.0)\nRequirement already satisfied: platformdirs<5.0.0,>=2.6.0 in /usr/local/lib/python3.9/dist-packages (from snowflake-connector-python[pandas,secure-local-storage]<4.0,>=3.2->sq-pysnowflake==1.6.0) (2.6.2)\nRequirement already satisfied: packaging in /databricks/python3/lib/python3.9/site-packages (from snowflake-connector-python[pandas,secure-local-storage]<4.0,>=3.2->sq-pysnowflake==1.6.0) (24.2)\nRequirement already satisfied: pyOpenSSL<26.0.0,>=22.0.0 in /databricks/python3/lib/python3.9/site-packages (from snowflake-connector-python[pandas,secure-local-storage]<4.0,>=3.2->sq-pysnowflake==1.6.0) (25.1.0)\nRequirement already satisfied: tomlkit in /databricks/python3/lib/python3.9/site-packages (from snowflake-connector-python[pandas,secure-local-storage]<4.0,>=3.2->sq-pysnowflake==1.6.0) (0.13.3)\nRequirement already satisfied: pytz in /databricks/python3/lib/python3.9/site-packages (from snowflake-connector-python[pandas,secure-local-storage]<4.0,>=3.2->sq-pysnowflake==1.6.0) (2021.3)\nRequirement already satisfied: filelock<4,>=3.5 in /databricks/python3/lib/python3.9/site-packages (from snowflake-connector-python[pandas,secure-local-storage]<4.0,>=3.2->sq-pysnowflake==1.6.0) (3.6.0)\nRequirement already satisfied: pandas<3.0.0,>=2.1.2 in /local_disk0/.ephemeral_nfs/envs/pythonEnv-f360e742-d8f7-4792-961c-ef43d1c826c2/lib/python3.9/site-packages (from snowflake-connector-python[pandas,secure-local-storage]<4.0,>=3.2->sq-pysnowflake==1.6.0) (2.3.0)\nRequirement already satisfied: pyarrow<19.0.0 in /databricks/python3/lib/python3.9/site-packages (from snowflake-connector-python[pandas,secure-local-storage]<4.0,>=3.2->sq-pysnowflake==1.6.0) (7.0.0)\nRequirement already satisfied: tzdata>=2022.7 in /local_disk0/.ephemeral_nfs/envs/pythonEnv-f360e742-d8f7-4792-961c-ef43d1c826c2/lib/python3.9/site-packages (from pandas<3.0.0,>=2.1.2->snowflake-connector-python[pandas,secure-local-storage]<4.0,>=3.2->sq-pysnowflake==1.6.0) (2025.2)\nRequirement already satisfied: more-itertools in /local_disk0/.ephemeral_nfs/envs/pythonEnv-f360e742-d8f7-4792-961c-ef43d1c826c2/lib/python3.9/site-packages (from jaraco.classes->keyring>=23.5.0->block-cloud-auth<0.8.0,>=0.7.0->sq-pysnowflake==1.6.0) (10.7.0)\nRequirement already satisfied: backports.tarfile in /local_disk0/.ephemeral_nfs/envs/pythonEnv-f360e742-d8f7-4792-961c-ef43d1c826c2/lib/python3.9/site-packages (from jaraco.context->keyring>=23.5.0->block-cloud-auth<0.8.0,>=0.7.0->sq-pysnowflake==1.6.0) (1.2.0)\nPython interpreter will be restarted.\n"
     ]
    }
   ],
   "source": [
    "%pip install --extra-index-url https://artifactory.global.square/artifactory/api/pypi/block-pypi/simple sq-pysnowflake==1.6.0"
   ]
  },
  {
   "cell_type": "code",
   "execution_count": 0,
   "metadata": {
    "application/vnd.databricks.v1+cell": {
     "cellMetadata": {
      "byteLimit": 2048000,
      "rowLimit": 10000
     },
     "inputWidgets": {},
     "nuid": "c1de778b-9b07-4e69-ad3c-ff38f462dc34",
     "showTitle": false,
     "tableResultSettingsMap": {},
     "title": ""
    }
   },
   "outputs": [
    {
     "output_type": "display_data",
     "data": {
      "application/vnd.databricks.v1+bamboolib_hint": "{\"pd.DataFrames\": [], \"version\": \"0.0.1\"}",
      "text/plain": []
     },
     "metadata": {},
     "output_type": "display_data"
    }
   ],
   "source": [
    "import pandas as pd\n",
    "import numpy as np\n",
    "import csv\n",
    "import fcntl\n",
    "import json\n",
    "import os\n",
    "import time\n",
    "import math\n",
    "from datetime import datetime\n",
    "from typing import List, Set, Dict, Tuple, Optional\n",
    "from concurrent.futures import ThreadPoolExecutor\n",
    "import concurrent.futures\n",
    "from pyspark.sql.functions import col\n",
    "from pysnowflake import Session\n",
    "from IPython.display import display, HTML"
   ]
  },
  {
   "cell_type": "markdown",
   "metadata": {
    "application/vnd.databricks.v1+cell": {
     "cellMetadata": {
      "byteLimit": 2048000,
      "rowLimit": 10000
     },
     "inputWidgets": {},
     "nuid": "749bb96c-b5aa-4838-a721-a8567b946ca6",
     "showTitle": false,
     "tableResultSettingsMap": {},
     "title": ""
    }
   },
   "source": [
    "## Helper functions"
   ]
  },
  {
   "cell_type": "markdown",
   "metadata": {
    "application/vnd.databricks.v1+cell": {
     "cellMetadata": {
      "byteLimit": 2048000,
      "rowLimit": 10000
     },
     "inputWidgets": {},
     "nuid": "681fa00f-4808-4391-95dd-5fb91ab1a720",
     "showTitle": false,
     "tableResultSettingsMap": {},
     "title": ""
    }
   },
   "source": [
    "### Query helpers"
   ]
  },
  {
   "cell_type": "code",
   "execution_count": 0,
   "metadata": {
    "application/vnd.databricks.v1+cell": {
     "cellMetadata": {
      "byteLimit": 2048000,
      "rowLimit": 10000
     },
     "inputWidgets": {},
     "nuid": "c3e0edc3-ea92-4f99-a2a7-a532610b3095",
     "showTitle": false,
     "tableResultSettingsMap": {},
     "title": ""
    }
   },
   "outputs": [],
   "source": [
    "warehouse_2xl = 'etl__2xlarge'\n",
    "warehouse_large = 'etl__large'\n",
    "warehouse_medium = 'etl__medium'\n",
    "\n",
    "def snowflake_query(query: str) -> pd.DataFrame:\n",
    "    \"\"\"Execute a query in Snowflake and return results as a pandas DataFrame.\"\"\"\n",
    "    with Session(query_tag=\"ioanna\", connection_override_args={'warehouse': warehouse_large}) as sess:\n",
    "        cursor = sess.execute(query)\n",
    "        return cursor.fetch_pandas_all()\n",
    "\n",
    "def spark_query(query: str) -> pd.DataFrame:\n",
    "    \"\"\"Execute a query in Spark and return results as a pandas DataFrame.\"\"\"\n",
    "    return spark.sql(query).toPandas()\n",
    "        \n",
    "def to_sql_list(inputs):\n",
    "    \"\"\"Convert a set/list of values to SQL IN clause format\"\"\"\n",
    "    if not inputs:\n",
    "        return \"()\"\n",
    "    return \"('\" + \"','\".join(str(x) for x in inputs) + \"')\""
   ]
  },
  {
   "cell_type": "markdown",
   "metadata": {
    "application/vnd.databricks.v1+cell": {
     "cellMetadata": {
      "byteLimit": 2048000,
      "rowLimit": 10000
     },
     "inputWidgets": {},
     "nuid": "aa037c21-35d3-4529-9990-0522e61a76aa",
     "showTitle": false,
     "tableResultSettingsMap": {},
     "title": ""
    }
   },
   "source": [
    "### Validation Result Class\n",
    "Tracks validation outcomes and error details for each edge."
   ]
  },
  {
   "cell_type": "code",
   "execution_count": 0,
   "metadata": {
    "application/vnd.databricks.v1+cell": {
     "cellMetadata": {
      "byteLimit": 2048000,
      "rowLimit": 10000
     },
     "inputWidgets": {},
     "nuid": "af4c4d53-8204-4e64-9126-a9d71ed2bbee",
     "showTitle": false,
     "tableResultSettingsMap": {},
     "title": ""
    }
   },
   "outputs": [],
   "source": [
    "class ValidationResult:\n",
    "    def __init__(self, edge_id: str):\n",
    "        self.edge_id = edge_id\n",
    "        self.validation_status: Optional[str] = None\n",
    "        self.missing_events: Set[str] = set()\n",
    "        self.unexpected_events: Set[str] = set()\n",
    "        self.label_errors: List[str] = []\n",
    "        self.timestamp_errors: List[str] = []\n",
    "        self.success: bool = True\n",
    "        \n",
    "    def add_error(self, error_type: str, details: str):\n",
    "        \"\"\"Records an error of the specified type with details\"\"\"\n",
    "        self.success = False\n",
    "        if error_type == \"validation_status\":\n",
    "            self.validation_status = details\n",
    "        elif error_type == \"missing_event\":\n",
    "            self.missing_events.add(details)\n",
    "        elif error_type == \"unexpected_event\":\n",
    "            self.unexpected_events.add(details)\n",
    "        elif error_type == \"label\":\n",
    "            self.label_errors.append(details)\n",
    "        elif error_type == \"timestamp\":\n",
    "            self.timestamp_errors.append(details)\n",
    "        else:\n",
    "            print(f\"unknown error type={error_type!r}, details={details!r}\")\n",
    "            \n",
    "    def get_summary(self) -> str:\n",
    "        \"\"\"Generates a human-readable summary of validation results\"\"\"\n",
    "        summary = []\n",
    "        \n",
    "        if self.validation_status:\n",
    "            summary.append(f\"ℹ️ {self.edge_id}: {self.validation_status}\")\n",
    "        elif self.success:\n",
    "            summary.append(f\"✅ {self.edge_id}: All validations passed\")\n",
    "        else:\n",
    "            summary.append(f\"❌ {self.edge_id}: Validation failed\")\n",
    "        \n",
    "        if self.missing_events:\n",
    "            summary.append(f\"\\nMissing events ({len(self.missing_events)})\")\n",
    "            for event in sorted(self.missing_events):\n",
    "                summary.append(f\"  - {event}\")\n",
    "        if self.unexpected_events:\n",
    "            summary.append(f\"\\nUnexpected events ({len(self.unexpected_events)})\")\n",
    "            for event in sorted(self.unexpected_events):\n",
    "                summary.append(f\"  - {event}\")\n",
    "        if self.label_errors:\n",
    "            summary.append(f\"\\nLabel errors ({len(self.label_errors)})\")\n",
    "            for error in self.label_errors:\n",
    "                summary.append(f\"  - {error}\")\n",
    "        if self.timestamp_errors:\n",
    "            summary.append(f\"\\nTimestamp errors ({len(self.timestamp_errors)})\")\n",
    "            for error in self.timestamp_errors:\n",
    "                summary.append(f\"  - {error}\")\n",
    "        return \"\\n\".join(summary)\n",
    "    \n",
    "    def write_to_csv(self, csv_path: str):\n",
    "        \"\"\"Writes this validation result to CSV in a thread-safe manner.\n",
    "        \n",
    "        Args:\n",
    "            csv_path: Path to the CSV file\n",
    "        \"\"\"\n",
    "        # Extract edge components from the edge_id\n",
    "        # Format is \"{source_account}/{asset_token}/{asset_type}/{effective_at_ms}\"\n",
    "        source_account, asset_token, asset_type, effective_at_ms = self.edge_id.split('/')\n",
    "                \n",
    "        # Prepare the row data\n",
    "        row_data = {\n",
    "            'edge_id': self.edge_id,\n",
    "            'source_account': source_account,\n",
    "            'asset_token': asset_token,\n",
    "            'asset_type': asset_type,\n",
    "            'effective_at_ms': effective_at_ms,\n",
    "            'validation_success': self.success,\n",
    "            'validation_status': self.validation_status if self.validation_status else \n",
    "                            ('PASS' if self.success else 'FAIL'),\n",
    "            'missing_events': '|'.join(sorted(self.missing_events)) if self.missing_events else '',\n",
    "            'unexpected_events': '|'.join(sorted(self.unexpected_events)) if self.unexpected_events else '',\n",
    "            'label_errors': '|'.join(self.label_errors) if self.label_errors else '',\n",
    "            'timestamp_errors': '|'.join(self.timestamp_errors) if self.timestamp_errors else ''\n",
    "        }\n",
    "        \n",
    "        # Define the field names (column headers)\n",
    "        fieldnames = [\n",
    "            'edge_id',\n",
    "            'source_account',\n",
    "            'asset_token',\n",
    "            'asset_type',\n",
    "            'effective_at_ms',\n",
    "            'validation_success',\n",
    "            'validation_status',\n",
    "            'missing_events',\n",
    "            'unexpected_events',\n",
    "            'label_errors',\n",
    "            'timestamp_errors'\n",
    "        ]\n",
    "        \n",
    "        # Use file locking for thread-safe writing\n",
    "        file_exists = os.path.exists(csv_path)\n",
    "        \n",
    "        with open(csv_path, 'a' if file_exists else 'w', newline='') as f:\n",
    "            # Get an exclusive lock on the file\n",
    "            fcntl.flock(f.fileno(), fcntl.LOCK_EX)\n",
    "            try:\n",
    "                writer = csv.DictWriter(f, fieldnames=fieldnames)\n",
    "                \n",
    "                # Write headers if this is a new file\n",
    "                if not file_exists:\n",
    "                    writer.writeheader()\n",
    "                \n",
    "                # Write the row\n",
    "                writer.writerow(row_data)\n",
    "                \n",
    "                # Ensure the write is flushed to disk\n",
    "                f.flush()\n",
    "                os.fsync(f.fileno())\n",
    "            finally:\n",
    "                # Release the lock\n",
    "                fcntl.flock(f.fileno(), fcntl.LOCK_UN)"
   ]
  },
  {
   "cell_type": "markdown",
   "metadata": {
    "application/vnd.databricks.v1+cell": {
     "cellMetadata": {
      "byteLimit": 2048000,
      "rowLimit": 10000
     },
     "inputWidgets": {},
     "nuid": "b3d8a723-fda6-4bed-99dd-6c06f1576417",
     "showTitle": false,
     "tableResultSettingsMap": {},
     "title": ""
    }
   },
   "source": [
    "### Event ID generation"
   ]
  },
  {
   "cell_type": "code",
   "execution_count": 0,
   "metadata": {
    "application/vnd.databricks.v1+cell": {
     "cellMetadata": {
      "byteLimit": 2048000,
      "rowLimit": 10000
     },
     "inputWidgets": {},
     "nuid": "03f2f132-c216-46a9-a3e9-f33c444f150e",
     "showTitle": false,
     "tableResultSettingsMap": {},
     "title": ""
    }
   },
   "outputs": [],
   "source": [
    "def connection_change_event_id(target_token: str, source_token: str, node_type: str) -> str:\n",
    "    \"\"\"Produces a ConnectionChange event_id in the same format as edgy\n",
    "    \n",
    "    The event ID format ensures consistency regardless of processing direction:\n",
    "    - Format: \"E/<token1>/<token2>/<nodeType>\"\n",
    "    - token1 and token2 are alphabetically sorted\n",
    "    \"\"\"\n",
    "    tokens = \"/\".join(sorted([target_token, source_token]))\n",
    "    return f\"E/{tokens}/{node_type}\""
   ]
  },
  {
   "cell_type": "markdown",
   "metadata": {
    "application/vnd.databricks.v1+cell": {
     "cellMetadata": {
      "byteLimit": 2048000,
      "rowLimit": 10000
     },
     "inputWidgets": {},
     "nuid": "9bbc9687-a879-4153-bf18-cd85ce8063f8",
     "showTitle": false,
     "tableResultSettingsMap": {},
     "title": ""
    }
   },
   "source": [
    "### Label validation\n",
    "Functions to validate label propagation in events"
   ]
  },
  {
   "cell_type": "code",
   "execution_count": 0,
   "metadata": {
    "application/vnd.databricks.v1+cell": {
     "cellMetadata": {
      "byteLimit": 2048000,
      "rowLimit": 10000
     },
     "inputWidgets": {},
     "nuid": "591d5e61-dc34-405f-b23d-962e68562df3",
     "showTitle": false,
     "tableResultSettingsMap": {},
     "title": ""
    }
   },
   "outputs": [],
   "source": [
    "def validate_labels(\n",
    "    ccgce_df: pd.DataFrame,\n",
    "    source_labels_df: pd.DataFrame,\n",
    "    target_labels_df: pd.DataFrame,\n",
    "    source_account_holder: str,\n",
    "    validation_result: ValidationResult\n",
    ") -> None:\n",
    "    \"\"\"Validates that labels are correctly propagated in CashConnectedGraphChangeEvents.\n",
    "    \n",
    "    This function checks:\n",
    "    1. Source labels in events match the union of labels from all source account holder's accounts\n",
    "    2. Target labels in events match the union of labels from all target account holder's accounts\n",
    "    \n",
    "    Note: ACCOUNT_DENYLISTED labels are excluded as they apply to accounts, not account holders.\n",
    "    \n",
    "    Args:\n",
    "        ccgce_df: DataFrame containing the CashConnectedGraphChangeEvents\n",
    "        source_labels_df: DataFrame with source account holder's label details from all their accounts\n",
    "        target_labels_df: DataFrame with target account holders' label details from all their accounts\n",
    "        source_account_holder: The source account holder token being validated\n",
    "        validation_result: ValidationResult object to store any errors\n",
    "        \n",
    "    The label DataFrames should contain:\n",
    "        - ACCOUNT_HOLDER_TOKEN: The account holder\n",
    "        - ACCOUNT_TOKEN: The account with the label\n",
    "        - LABEL: The label name\n",
    "        - LABEL_EFFECTIVE_AT: When the label became effective\n",
    "        - ACCOUNT_MAPPING_EFFECTIVE_AT: When the account was mapped to the holder\n",
    "    \"\"\"\n",
    "    # Get source account holder's active labels, excluding ACCOUNT_DENYLISTED\n",
    "    source_labels = set()\n",
    "    if not source_labels_df.empty:\n",
    "        source_labels = set(\n",
    "            source_labels_df[source_labels_df['LABEL'] != 'ACCOUNT_DENYLISTED']['LABEL'].tolist()\n",
    "        )\n",
    "\n",
    "    # Create mapping of target account holders to their active labels\n",
    "    target_holder_labels = {}\n",
    "    if not target_labels_df.empty:\n",
    "        for account_holder in target_labels_df['ACCOUNT_HOLDER_TOKEN'].unique():\n",
    "            holder_labels = target_labels_df[\n",
    "                (target_labels_df['ACCOUNT_HOLDER_TOKEN'] == account_holder) &\n",
    "                (target_labels_df['LABEL'] != 'ACCOUNT_DENYLISTED')\n",
    "            ]['LABEL'].tolist()\n",
    "            target_holder_labels[account_holder] = set(holder_labels)\n",
    "\n",
    "    # Validate each event\n",
    "    for _, event in ccgce_df.iterrows():\n",
    "        # Verify this is the correct source account holder\n",
    "        if event['source_user_token'] != source_account_holder:\n",
    "            validation_result.add_error(\n",
    "                \"label\",\n",
    "                f\"Event {event['event_id']} has unexpected source_user_token: \"\n",
    "                f\"{event['source_user_token']} (expected {source_account_holder})\"\n",
    "            )\n",
    "            continue\n",
    "\n",
    "        event_source_labels = set(event['source_user_labels'])\n",
    "        event_target_labels = set(event['target_user_labels'])\n",
    "        target_holder = event['target_user_token']\n",
    "        expected_target_labels = target_holder_labels.get(target_holder, set())\n",
    "\n",
    "        # Validate source labels\n",
    "        if event_source_labels != source_labels:\n",
    "            validation_result.add_error(\n",
    "                \"label\",\n",
    "                f\"Source label mismatch for event {event['event_id']}:\\n\"\n",
    "                f\"  Expected: {sorted(source_labels)}\\n\"\n",
    "                f\"  Actual: {sorted(event_source_labels)}\\n\"\n",
    "                f\"  Source label details:\\n{source_labels_df.to_string()}\"\n",
    "            )\n",
    "\n",
    "        # Validate target labels\n",
    "        if event_target_labels != expected_target_labels:\n",
    "            target_df_for_holder = target_labels_df[\n",
    "                target_labels_df['ACCOUNT_HOLDER_TOKEN'] == target_holder\n",
    "            ]\n",
    "            validation_result.add_error(\n",
    "                \"label\",\n",
    "                f\"Target label mismatch for event {event['event_id']}:\\n\"\n",
    "                f\"  Target account holder: {target_holder}\\n\"\n",
    "                f\"  Expected: {sorted(expected_target_labels)}\\n\"\n",
    "                f\"  Actual: {sorted(event_target_labels)}\\n\"\n",
    "                f\"  Target label details for this holder:\\n\"\n",
    "                f\"{target_df_for_holder.to_string()}\"\n",
    "            )"
   ]
  },
  {
   "cell_type": "markdown",
   "metadata": {
    "application/vnd.databricks.v1+cell": {
     "cellMetadata": {
      "byteLimit": 2048000,
      "rowLimit": 10000
     },
     "inputWidgets": {},
     "nuid": "d29215f8-e3be-4243-b66c-82e62a797e3f",
     "showTitle": false,
     "tableResultSettingsMap": {},
     "title": ""
    }
   },
   "source": [
    "### Timestamp Validation\n",
    "Functions to validate event timestamps."
   ]
  },
  {
   "cell_type": "code",
   "execution_count": 0,
   "metadata": {
    "application/vnd.databricks.v1+cell": {
     "cellMetadata": {
      "byteLimit": 2048000,
      "rowLimit": 10000
     },
     "inputWidgets": {},
     "nuid": "e4801000-0dd8-4f38-a201-7a124d49d9c1",
     "showTitle": false,
     "tableResultSettingsMap": {},
     "title": ""
    }
   },
   "outputs": [],
   "source": [
    "def validate_timestamps(\n",
    "    ccgce_df: pd.DataFrame,\n",
    "    asset_connections: pd.DataFrame, \n",
    "    validation_result: ValidationResult\n",
    "):\n",
    "    \"\"\"Validates that event timestamps match the earliest effective connection time.\n",
    "    \n",
    "    The effective connection time between two account holders via an asset is the\n",
    "    later of:\n",
    "    1. When the source account connected to the asset\n",
    "    2. When the target account connected to the asset\n",
    "    \n",
    "    Args:\n",
    "        ccgce_df: DataFrame containing the CashConnectedGraphChangeEvents\n",
    "        asset_connections: DataFrame with asset connection details including:\n",
    "            - ACCOUNT_TOKEN: The connected account\n",
    "            - ASSET_TOKEN: The shared asset\n",
    "            - ASSET_TYPE: Type of the shared asset\n",
    "            - ASSET_CONNECTION_TIME: When the account connected to the asset\n",
    "            - SOURCE_CONNECTION_TIME: When the source account connected to the asset\n",
    "            - ACCOUNT_HOLDER_TOKEN: The account holder owning the connected account\n",
    "            - EARLIEST_CONNECTION_TIME: Later of source and target connection times\n",
    "        validation_result: ValidationResult object to store any errors\n",
    "    \"\"\"\n",
    "    for _, event in ccgce_df.iterrows():\n",
    "        target_holder = event['target_user_token']\n",
    "        source_holder = event['source_user_token']\n",
    "        asset_type = event['changed_node_type']\n",
    "\n",
    "        # Find connections for this target account holder via this asset type\n",
    "        target_connections = asset_connections[\n",
    "            (asset_connections['ACCOUNT_HOLDER_TOKEN'] == target_holder) &\n",
    "            (asset_connections['ASSET_TYPE'] == asset_type)\n",
    "        ]\n",
    "\n",
    "        if target_connections.empty:\n",
    "            validation_result.add_error(\n",
    "                \"timestamp\",\n",
    "                f\"No shared assets found for connection between {source_holder} and {target_holder} via {asset_type}\"\n",
    "            )\n",
    "            continue\n",
    "\n",
    "        # The earliest_connection_time is already the later of source and target connection times\n",
    "        expected_timestamp = pd.to_datetime(target_connections['EARLIEST_CONNECTION_TIME'].min())\n",
    "        actual_timestamp = pd.to_datetime(event['effective_at_millis'], unit='ms')\n",
    "        \n",
    "        if actual_timestamp != expected_timestamp:\n",
    "            validation_result.add_error(\n",
    "                \"timestamp\",\n",
    "                f\"Timestamp mismatch for event {event['event_id']}:\\n\"\n",
    "                f\"  Expected (earliest effective connection): {expected_timestamp}\\n\"\n",
    "                f\"  Actual (event effective_at): {actual_timestamp}\"\n",
    "            )"
   ]
  },
  {
   "cell_type": "markdown",
   "metadata": {
    "application/vnd.databricks.v1+cell": {
     "cellMetadata": {
      "byteLimit": 2048000,
      "rowLimit": 10000
     },
     "inputWidgets": {},
     "nuid": "8035d19a-d8ee-4a31-b671-140c8ae3183b",
     "showTitle": false,
     "tableResultSettingsMap": {},
     "title": ""
    }
   },
   "source": [
    "### Account holder functions"
   ]
  },
  {
   "cell_type": "code",
   "execution_count": 0,
   "metadata": {
    "application/vnd.databricks.v1+cell": {
     "cellMetadata": {
      "byteLimit": 2048000,
      "rowLimit": 10000
     },
     "inputWidgets": {},
     "nuid": "064f95f2-92e3-4fb6-af63-807fb7989755",
     "showTitle": false,
     "tableResultSettingsMap": {},
     "title": ""
    }
   },
   "outputs": [],
   "source": [
    "def get_account_holder_for_account(\n",
    "    account_token: str,\n",
    "    effective_at: str\n",
    ") -> Optional[str]:\n",
    "    \"\"\"Gets the account holder for a CASH_CUSTOMER account.\n",
    "    \n",
    "    Args:\n",
    "        account_token: The CASH_CUSTOMER token to find the account holder for\n",
    "        effective_at: Timestamp for point-in-time query\n",
    "        \n",
    "    Returns:\n",
    "        The ACCOUNT_HOLDER_CASH_CUSTOMER token or None if not found\n",
    "    \"\"\"\n",
    "    query = f\"\"\"\n",
    "    SELECT FROM_TOKEN as ACCOUNT_HOLDER_TOKEN\n",
    "    FROM duplograph.public.edges\n",
    "    WHERE FROM_TYPE = 'ACCOUNT_HOLDER_CASH_CUSTOMER'\n",
    "    AND TO_TYPE = 'CASH_CUSTOMER'\n",
    "    AND TO_TOKEN = '{account_token}'\n",
    "    AND EFFECTIVE_AT <= '{effective_at}'\n",
    "    \"\"\"\n",
    "    \n",
    "    df = snowflake_query(query)\n",
    "    return df['ACCOUNT_HOLDER_TOKEN'].iloc[0] if not df.empty else None\n"
   ]
  },
  {
   "cell_type": "code",
   "execution_count": 0,
   "metadata": {
    "application/vnd.databricks.v1+cell": {
     "cellMetadata": {
      "byteLimit": 2048000,
      "rowLimit": 10000
     },
     "inputWidgets": {},
     "nuid": "22a0f720-900d-458d-9ace-f94c75f4a86a",
     "showTitle": false,
     "tableResultSettingsMap": {},
     "title": ""
    }
   },
   "outputs": [],
   "source": [
    "def get_all_active_accounts(\n",
    "    account_holders: Set[str],\n",
    "    effective_at: str\n",
    ") -> Dict[str, Set[str]]:\n",
    "    \"\"\"Gets all active (non-merged) accounts for a set of account holders.\n",
    "    \n",
    "    Args:\n",
    "        account_holders: Set of account holder tokens to get accounts for\n",
    "        effective_at: Timestamp for point-in-time query\n",
    "        \n",
    "    Returns:\n",
    "        Dictionary mapping account holder tokens to their set of active (non-merged) account tokens.\n",
    "        Account holders with no active accounts will have empty sets or be missing from the dictionary.\n",
    "    \"\"\"\n",
    "    if not account_holders:\n",
    "        return {}\n",
    "        \n",
    "    query = f\"\"\"\n",
    "    WITH account_edges AS (\n",
    "        -- Get all account mappings for the account holders\n",
    "        SELECT \n",
    "            FROM_TOKEN AS account_holder_token,\n",
    "            TO_TOKEN AS account_token,\n",
    "            EFFECTIVE_AT AS mapping_effective_at\n",
    "        FROM duplograph.public.edges\n",
    "        WHERE FROM_TYPE = 'ACCOUNT_HOLDER_CASH_CUSTOMER'\n",
    "        AND TO_TYPE = 'CASH_CUSTOMER'\n",
    "        AND FROM_TOKEN IN {to_sql_list(account_holders)}\n",
    "        AND EFFECTIVE_AT <= '{effective_at}'\n",
    "    )\n",
    "    SELECT \n",
    "        ae.account_holder_token,\n",
    "        ae.account_token\n",
    "    FROM account_edges ae\n",
    "    WHERE NOT EXISTS (\n",
    "        -- Exclude merged accounts\n",
    "        SELECT 1\n",
    "        FROM duplograph.public.edges m\n",
    "        WHERE m.FROM_TOKEN = ae.account_token\n",
    "        AND m.FROM_TYPE = 'CASH_CUSTOMER'\n",
    "        AND m.TO_TYPE = 'CASH_CUSTOMER'\n",
    "        AND m.EFFECTIVE_AT <= '{effective_at}'\n",
    "    )\n",
    "    \"\"\"\n",
    "    \n",
    "    df = snowflake_query(query)\n",
    "    \n",
    "    # Convert to dictionary mapping account holders to their account sets\n",
    "    result = {}\n",
    "    if not df.empty:\n",
    "        for account_holder in account_holders:\n",
    "            accounts = df[df['ACCOUNT_HOLDER_TOKEN'] == account_holder]['ACCOUNT_TOKEN'].tolist()\n",
    "            result[account_holder] = set(accounts)\n",
    "    \n",
    "    return result"
   ]
  },
  {
   "cell_type": "code",
   "execution_count": 0,
   "metadata": {
    "application/vnd.databricks.v1+cell": {
     "cellMetadata": {
      "byteLimit": 2048000,
      "rowLimit": 10000
     },
     "inputWidgets": {},
     "nuid": "084d84c7-a7e6-45a6-9aaa-b29188cc1198",
     "showTitle": false,
     "tableResultSettingsMap": {},
     "title": ""
    }
   },
   "outputs": [],
   "source": [
    "def get_connected_account_holders(\n",
    "    source_holder: str,\n",
    "    source_accounts: Set[str],\n",
    "    effective_at: str,\n",
    "    asset_types: Optional[Set[str]] = None\n",
    ") -> Tuple[pd.DataFrame, pd.DataFrame, Set[str]]:\n",
    "    \"\"\"Gets account holders connected to source accounts via shared assets.\n",
    "    \n",
    "    Args:\n",
    "        source_holder: The source account holder token\n",
    "        source_accounts: Set of active account tokens belonging to the source account holder\n",
    "        effective_at: Timestamp for point-in-time query\n",
    "        asset_types: Optional set of asset types to filter by\n",
    "        \n",
    "    Returns:\n",
    "        Tuple of (\n",
    "            asset_connections: DataFrame with asset connection details including:\n",
    "                - ACCOUNT_TOKEN: The connected account\n",
    "                - ASSET_TOKEN: The shared asset\n",
    "                - ASSET_TYPE: Type of the shared asset\n",
    "                - ASSET_CONNECTION_TIME: When the account connected to the asset\n",
    "                - SOURCE_CONNECTION_TIME: When the source account connected to the asset\n",
    "                - ACCOUNT_HOLDER_TOKEN: The account holder owning the connected account\n",
    "                - EARLIEST_CONNECTION_TIME: Later of source and target connection times\n",
    "            holder_mapping: DataFrame mapping account holders to their connected accounts:\n",
    "                - ACCOUNT_HOLDER_TOKEN: The account holder\n",
    "                - ACCOUNT_TOKEN: Their account that shares an asset\n",
    "                - MAPPING_EFFECTIVE_AT: When the account was mapped to the holder\n",
    "            connected_holders: Set of account holder tokens that share assets with the source\n",
    "        )\n",
    "    \"\"\"\n",
    "    if not source_accounts:\n",
    "        return pd.DataFrame(), pd.DataFrame(), set()\n",
    "        \n",
    "    asset_type_clause = \"1=1\"\n",
    "    if asset_types:\n",
    "        asset_type_clause = f\"TO_TYPE IN {to_sql_list(asset_types)}\"\n",
    "        \n",
    "    query = f\"\"\"\n",
    "    WITH source_assets AS (\n",
    "        -- Get assets connected to source accounts\n",
    "        SELECT DISTINCT \n",
    "            TO_TOKEN,\n",
    "            TO_TYPE,\n",
    "            MIN(EFFECTIVE_AT) as SOURCE_CONNECTION_TIME  -- When source first connected\n",
    "        FROM duplograph.public.edges\n",
    "        WHERE FROM_TYPE = 'CASH_CUSTOMER'\n",
    "        AND FROM_TOKEN IN {to_sql_list(source_accounts)}\n",
    "        AND TO_TYPE != 'CASH_CUSTOMER'\n",
    "        AND {asset_type_clause}\n",
    "        AND EFFECTIVE_AT <= '{effective_at}'\n",
    "        GROUP BY TO_TOKEN, TO_TYPE\n",
    "    ),\n",
    "    connected_accounts AS (\n",
    "        -- Get accounts connected to those assets, excluding source accounts\n",
    "        SELECT DISTINCT\n",
    "            e.FROM_TOKEN AS ACCOUNT_TOKEN,\n",
    "            e.TO_TOKEN AS ASSET_TOKEN,\n",
    "            e.TO_TYPE AS ASSET_TYPE,\n",
    "            MIN(e.EFFECTIVE_AT) AS ASSET_CONNECTION_TIME,  -- When target first connected\n",
    "            MIN(sa.SOURCE_CONNECTION_TIME) AS SOURCE_CONNECTION_TIME\n",
    "        FROM duplograph.public.edges e\n",
    "        JOIN source_assets sa ON e.TO_TOKEN = sa.TO_TOKEN \n",
    "            AND e.TO_TYPE = sa.TO_TYPE\n",
    "        WHERE e.FROM_TYPE = 'CASH_CUSTOMER'\n",
    "        AND e.FROM_TOKEN NOT IN {to_sql_list(source_accounts)}\n",
    "        AND e.EFFECTIVE_AT <= '{effective_at}'\n",
    "        GROUP BY e.FROM_TOKEN, e.TO_TOKEN, e.TO_TYPE\n",
    "    ),\n",
    "    account_holders AS (\n",
    "        -- Get account holder relationships for connected accounts\n",
    "        SELECT \n",
    "            e.FROM_TOKEN AS ACCOUNT_HOLDER_TOKEN,\n",
    "            e.TO_TOKEN AS ACCOUNT_TOKEN,\n",
    "            e.EFFECTIVE_AT AS MAPPING_EFFECTIVE_AT\n",
    "        FROM duplograph.public.edges e\n",
    "        WHERE e.FROM_TYPE = 'ACCOUNT_HOLDER_CASH_CUSTOMER'\n",
    "        AND e.TO_TYPE = 'CASH_CUSTOMER'\n",
    "        AND e.TO_TOKEN IN (SELECT ACCOUNT_TOKEN FROM connected_accounts)\n",
    "        AND e.FROM_TOKEN != '{source_holder}'\n",
    "        AND e.EFFECTIVE_AT <= '{effective_at}'\n",
    "    ),\n",
    "    connections AS (\n",
    "        -- Join with account holders and get earliest connection times\n",
    "        SELECT \n",
    "            ca.*,\n",
    "            ah.ACCOUNT_HOLDER_TOKEN,\n",
    "            ah.MAPPING_EFFECTIVE_AT,\n",
    "            -- For each account holder, find the earliest effective connection time\n",
    "            -- (the later of source connection and target connection)\n",
    "            MIN(GREATEST(ca.ASSET_CONNECTION_TIME, ca.SOURCE_CONNECTION_TIME)) \n",
    "                OVER (PARTITION BY ah.ACCOUNT_HOLDER_TOKEN, ca.ASSET_TYPE) AS EARLIEST_CONNECTION_TIME\n",
    "        FROM connected_accounts ca\n",
    "        JOIN account_holders ah ON ca.ACCOUNT_TOKEN = ah.ACCOUNT_TOKEN\n",
    "    )\n",
    "    SELECT * FROM connections\n",
    "    ORDER BY ACCOUNT_HOLDER_TOKEN, ASSET_TOKEN\n",
    "    \"\"\"\n",
    "    \n",
    "    df = snowflake_query(query)\n",
    "    \n",
    "    if df.empty:\n",
    "        return df, pd.DataFrame(), set()\n",
    "        \n",
    "    # Extract unique account holder tokens\n",
    "    connected_holders = set(df['ACCOUNT_HOLDER_TOKEN'].unique())\n",
    "    \n",
    "    # Create account holder mapping DataFrame\n",
    "    holder_mapping = df[['ACCOUNT_HOLDER_TOKEN', 'ACCOUNT_TOKEN', 'MAPPING_EFFECTIVE_AT']].drop_duplicates()\n",
    "    \n",
    "    # Create asset connections DataFrame\n",
    "    asset_connections = df[[\n",
    "        'ACCOUNT_TOKEN', 'ASSET_TOKEN', 'ASSET_TYPE', 'ASSET_CONNECTION_TIME',\n",
    "        'SOURCE_CONNECTION_TIME', 'ACCOUNT_HOLDER_TOKEN', 'EARLIEST_CONNECTION_TIME'\n",
    "    ]].drop_duplicates()\n",
    "    \n",
    "    return asset_connections, holder_mapping, connected_holders"
   ]
  },
  {
   "cell_type": "code",
   "execution_count": 0,
   "metadata": {
    "application/vnd.databricks.v1+cell": {
     "cellMetadata": {
      "byteLimit": 2048000,
      "rowLimit": 10000
     },
     "inputWidgets": {},
     "nuid": "86f9cc80-7025-44dc-b752-f83ff97ddf70",
     "showTitle": false,
     "tableResultSettingsMap": {},
     "title": ""
    }
   },
   "outputs": [],
   "source": [
    "def get_account_holder_labels(\n",
    "    account_holder_accounts: Dict[str, Set[str]],\n",
    "    effective_at: str\n",
    ") -> pd.DataFrame:\n",
    "    \"\"\"Gets active labels for account holders via their accounts.\n",
    "    \n",
    "    Args:\n",
    "        account_holder_accounts: Dict mapping account holder tokens to their active account tokens\n",
    "        effective_at: Timestamp for point-in-time query\n",
    "        \n",
    "    Returns:\n",
    "        DataFrame with label information\n",
    "    \"\"\"\n",
    "    # Flatten account tokens for the query\n",
    "    all_accounts = {\n",
    "        account \n",
    "        for accounts in account_holder_accounts.values() \n",
    "        for account in accounts\n",
    "    }\n",
    "    \n",
    "    if not all_accounts:\n",
    "        return pd.DataFrame(columns=[\n",
    "            'ACCOUNT_HOLDER_TOKEN', 'ACCOUNT_TOKEN', 'LABEL',\n",
    "            'LABEL_EFFECTIVE_AT', 'ACCOUNT_MAPPING_EFFECTIVE_AT'\n",
    "        ])\n",
    "\n",
    "    query = f\"\"\"\n",
    "    WITH latest_label_events AS (\n",
    "        SELECT node_token,\n",
    "               label,\n",
    "               present,\n",
    "               effective_at,\n",
    "               ROW_NUMBER() OVER (PARTITION BY node_token, label ORDER BY effective_at DESC) as rn\n",
    "        FROM duplograph.public.label_events\n",
    "        WHERE node_type = 'CASH_CUSTOMER'\n",
    "        AND effective_at <= '{effective_at}'\n",
    "        AND node_token IN {to_sql_list(all_accounts)}\n",
    "    )\n",
    "    SELECT \n",
    "        m.from_token AS ACCOUNT_HOLDER_TOKEN,\n",
    "        m.to_token AS ACCOUNT_TOKEN,\n",
    "        l.label AS LABEL,\n",
    "        l.effective_at AS LABEL_EFFECTIVE_AT,\n",
    "        m.effective_at AS ACCOUNT_MAPPING_EFFECTIVE_AT\n",
    "    FROM latest_label_events l\n",
    "    JOIN duplograph.public.edges m \n",
    "        ON l.node_token = m.to_token\n",
    "    WHERE l.rn = 1 \n",
    "    AND l.present = true\n",
    "    AND m.from_type = 'ACCOUNT_HOLDER_CASH_CUSTOMER'\n",
    "    AND m.to_type = 'CASH_CUSTOMER'\n",
    "    AND m.effective_at <= '{effective_at}'\n",
    "    AND m.from_token IN {to_sql_list(account_holder_accounts.keys())}\n",
    "    ORDER BY \n",
    "        m.from_token,\n",
    "        m.to_token,\n",
    "        l.label\n",
    "    \"\"\"\n",
    "    \n",
    "    return snowflake_query(query)"
   ]
  },
  {
   "cell_type": "markdown",
   "metadata": {
    "application/vnd.databricks.v1+cell": {
     "cellMetadata": {
      "byteLimit": 2048000,
      "rowLimit": 10000
     },
     "inputWidgets": {},
     "nuid": "165d198d-1873-4f96-900d-5a740deab27f",
     "showTitle": false,
     "tableResultSettingsMap": {},
     "title": ""
    }
   },
   "source": [
    "## Main Validation Logic\n",
    "Functions to validate BAU edge processing."
   ]
  },
  {
   "cell_type": "code",
   "execution_count": 0,
   "metadata": {
    "application/vnd.databricks.v1+cell": {
     "cellMetadata": {
      "byteLimit": 2048000,
      "rowLimit": 10000
     },
     "inputWidgets": {},
     "nuid": "eeebec22-ef7f-48ef-8ccd-4d56a99bbec0",
     "showTitle": false,
     "tableResultSettingsMap": {},
     "title": ""
    }
   },
   "outputs": [],
   "source": [
    "def validate_no_events_condition(\n",
    "    edge_id: str,\n",
    "    actual_events: Set[str],\n",
    "    status_message: str\n",
    ") -> ValidationResult:\n",
    "    \"\"\"Validates cases where no events should be present.\n",
    "    \n",
    "    Args:\n",
    "        edge_id: Identifier of the edge being validated (\"E/{source_account}/{asset_token}/{asset_type}/{effective_at_ms}\")\n",
    "        actual_events: Set of actual event IDs found\n",
    "        status_message: Status message explaining why no events are expected\n",
    "        \n",
    "    Returns:\n",
    "        ValidationResult: Result object with appropriate status and any unexpected events\n",
    "    \"\"\"\n",
    "    result = ValidationResult(edge_id)\n",
    "    \n",
    "    if actual_events:\n",
    "        # There are events when there shouldn't be any\n",
    "        result.add_error(\"validation_status\", status_message)\n",
    "        for event_id in actual_events:\n",
    "            result.add_error(\"unexpected_event\", event_id)\n",
    "    else:\n",
    "        # This is correct - no events when none are expected\n",
    "        result.success = True\n",
    "        result.validation_status = status_message\n",
    "    \n",
    "    return result"
   ]
  },
  {
   "cell_type": "code",
   "execution_count": 0,
   "metadata": {
    "application/vnd.databricks.v1+cell": {
     "cellMetadata": {
      "byteLimit": 2048000,
      "rowLimit": 10000
     },
     "inputWidgets": {},
     "nuid": "ee5bc2f5-0cff-417a-826c-c2028603c6fe",
     "showTitle": false,
     "tableResultSettingsMap": {},
     "title": ""
    }
   },
   "outputs": [],
   "source": [
    "def validate_bau_edge(\n",
    "    source_account: str,\n",
    "    asset_type: str,\n",
    "    asset_token: str,\n",
    "    effective_at_ms: int,\n",
    "    ccgce_table: str\n",
    ") -> ValidationResult:\n",
    "    \"\"\"\n",
    "    Validates CashConnectedGraphChangeEvents for a BAU (Business-As-Usual) edge,\n",
    "    following Edgy's Java implementation order, using the provided helper function\n",
    "    `connection_change_event_id` for event IDs.\n",
    "\n",
    "    Steps:\n",
    "    1. Look up source account holder and their active accounts as of given timestamp.\n",
    "    2. Fetch full asset \"neighborhood\" of connected holders & accounts.\n",
    "    3. Generate all candidate connection change events.\n",
    "    4. Deduplicate (unordered account holder pairs using connection_change_event_id).\n",
    "    5. Filter for events triggered by the given edge.\n",
    "    6. Remove any events where the target account holder has only merged/inactive accounts.\n",
    "    7. Compare produced vs. expected events and report discrepancies, always reporting\n",
    "       on unexpected events using validate_no_events_condition as in the original logic.\n",
    "\n",
    "    Args:\n",
    "        source_account: The source account's CASH_CUSTOMER token.\n",
    "        asset_type: The node type of the asset the account connects to.\n",
    "        asset_token: The node token (asset) being connected.\n",
    "        effective_at_ms: Edge effective timestamp in epoch milliseconds.\n",
    "        ccgce_table: The table containing CashConnectedGraphChangeEvents.\n",
    "\n",
    "    Returns:\n",
    "        ValidationResult summarizing any validation errors found.\n",
    "    \"\"\"\n",
    "    edge_id = f\"{source_account}/{asset_token}/{asset_type}/{effective_at_ms}\"\n",
    "    result = ValidationResult(edge_id)\n",
    "    effective_at = datetime.fromtimestamp(effective_at_ms / 1000)\n",
    "    effective_at_str = effective_at.strftime('%Y-%m-%d %H:%M:%S.%f')\n",
    "\n",
    "    # Fetch ConnectionChange events that have this edge as their source event\n",
    "    actual_events_query = f\"\"\"\n",
    "        SELECT\n",
    "            cash_connected_graph_change_event.event_id as event_id,\n",
    "            cash_connected_graph_change_event.event_type as event_type,\n",
    "            cash_connected_graph_change_event.target_user_token as target_user_token,\n",
    "            cash_connected_graph_change_event.source_user_token as source_user_token,\n",
    "            cash_connected_graph_change_event.effective_at_millis as effective_at_millis,\n",
    "            cash_connected_graph_change_event.published_at_millis as published_at_millis,\n",
    "            cash_connected_graph_change_event.user_type as user_type,\n",
    "            cash_connected_graph_change_event.event_source_type as event_source_type,\n",
    "            cash_connected_graph_change_event.connection_change.changed_node_type as changed_node_type,\n",
    "            cash_connected_graph_change_event.connection_change.source_user_labels as source_user_labels,\n",
    "            cash_connected_graph_change_event.connection_change.target_user_labels as target_user_labels        \n",
    "        FROM {ccgce_table}\n",
    "        WHERE cash_connected_graph_change_event.connection_change.source_edge.from_node.token = '{source_account}'\n",
    "        AND cash_connected_graph_change_event.connection_change.source_edge.to_node.type = '{asset_type}'\n",
    "        AND cash_connected_graph_change_event.connection_change.source_edge.to_node.token = '{asset_token}'\n",
    "        AND cash_connected_graph_change_event.connection_change.source_edge.effective_at_msec = '{effective_at_ms}'\n",
    "    \"\"\"\n",
    "    actual_events_df = spark_query(actual_events_query)\n",
    "    actual_event_id_set = set(actual_events_df['event_id'])\n",
    "\n",
    "    # 1. Lookup source account holder and their active accounts\n",
    "    source_account_holder = get_account_holder_for_account(source_account, effective_at_str)\n",
    "\n",
    "    # If no source account holder, there should be no events\n",
    "    if not source_account_holder:\n",
    "        return validate_no_events_condition(edge_id, actual_event_id_set, \"No account holder found for source account\")\n",
    "    \n",
    "    # Get all active accounts for the source account holder\n",
    "    source_active_accounts = get_all_active_accounts({source_account_holder}, effective_at_str).get(source_account_holder, set())\n",
    "    if not source_active_accounts:\n",
    "        return validate_no_events_condition(\n",
    "            edge_id, actual_event_id_set, \"Account holder has no active accounts. No change events expected.\"\n",
    "        )\n",
    "\n",
    "    # 2. Fetch full asset neighborhood (all connected holders & their accounts for asset_type)\n",
    "    asset_connections, holder_mapping, connected_holders = get_connected_account_holders(\n",
    "        source_account_holder, source_active_accounts, effective_at_str, {asset_type}\n",
    "    )\n",
    "    if asset_connections.empty:\n",
    "        return validate_no_events_condition(edge_id, actual_event_id_set, \"No shared assets found\")\n",
    "\n",
    "    # 3. Generate all candidate events for every connected account holder (excluding self)\n",
    "    candidate_events = []\n",
    "    for _, row in asset_connections.iterrows():\n",
    "        target_holder = row['ACCOUNT_HOLDER_TOKEN']\n",
    "        asset_tok = row['ASSET_TOKEN']\n",
    "        connect_time = pd.to_datetime(row['EARLIEST_CONNECTION_TIME'])\n",
    "        if target_holder != source_account_holder:\n",
    "            evt = {\n",
    "                \"source\": source_account_holder,\n",
    "                \"target\": target_holder,\n",
    "                \"asset_token\": asset_tok,\n",
    "                \"asset_type\": asset_type,\n",
    "                \"earliest_connection_time\": connect_time\n",
    "            }\n",
    "            candidate_events.append(evt)\n",
    "\n",
    "    # 4. Deduplicate\n",
    "    deduped = {}\n",
    "    for evt in candidate_events:\n",
    "        eid = connection_change_event_id(evt[\"source\"], evt[\"target\"], evt[\"asset_type\"])\n",
    "        if eid not in deduped or evt[\"earliest_connection_time\"] < deduped[eid][\"earliest_connection_time\"]:\n",
    "            deduped[eid] = evt\n",
    "\n",
    "    # 5. Filter for events triggered by this edge at this asset and time\n",
    "    edge_timestamp = pd.to_datetime(effective_at_ms, unit='ms')\n",
    "    relevant_events = {}\n",
    "    for evt in deduped.values():\n",
    "        if (\n",
    "            evt[\"earliest_connection_time\"] == edge_timestamp\n",
    "            and evt[\"asset_token\"] == asset_token\n",
    "        ):\n",
    "            eid = connection_change_event_id(evt[\"source\"], evt[\"target\"], evt[\"asset_type\"])\n",
    "            relevant_events[eid] = evt\n",
    "\n",
    "    # 6. Remove events where the target account holder is merged/inactive (batch for efficiency)\n",
    "    targets_to_check = {evt[\"target\"] for evt in relevant_events.values()}\n",
    "    targets_active_accounts = get_all_active_accounts(targets_to_check, effective_at_str)\n",
    "    \n",
    "    target_active_holders = {\n",
    "        holder for holder, accounts in targets_active_accounts.items()\n",
    "        if accounts\n",
    "    }\n",
    "    \n",
    "    if not target_active_holders:\n",
    "        return validate_no_events_condition(\n",
    "            edge_id, actual_event_id_set, \"No target account holders with active accounts found\")\n",
    "\n",
    "    final_event_ids = set()\n",
    "    for eid, evt in relevant_events.items():\n",
    "        target_active = targets_active_accounts.get(evt[\"target\"], set())\n",
    "        if target_active:\n",
    "            final_event_ids.add(eid)\n",
    "\n",
    "    # 7. Compare: handle both the case of missing/extra events and when no events are expected\n",
    "    if not final_event_ids:\n",
    "        # If no events are expected, validate that none were output\n",
    "        return validate_no_events_condition(edge_id, actual_event_id_set, \"No change events expected\")\n",
    "\n",
    "    missing_events = final_event_ids - actual_event_id_set\n",
    "    unexpected_events = actual_event_id_set - final_event_ids\n",
    "\n",
    "    if missing_events:\n",
    "        for eid in sorted(missing_events):\n",
    "            result.add_error(\"missing_event\", f\"Expected but not found: {eid}\")\n",
    "    if unexpected_events:\n",
    "        for eid in sorted(unexpected_events):\n",
    "            result.add_error(\"unexpected_event\", f\"Produced by Edgy but not expected: {eid}\")\n",
    "\n",
    "    # Create complete mapping including both source and target account holders\n",
    "    all_account_mapping = {\n",
    "        source_account_holder: source_active_accounts,\n",
    "        **targets_active_accounts\n",
    "    }\n",
    "\n",
    "    # Get all labels in a single query using the complete account mapping\n",
    "    source_and_target_labels = get_account_holder_labels(\n",
    "        all_account_mapping, effective_at\n",
    "    )\n",
    "    \n",
    "    source_labels = source_and_target_labels[\n",
    "        source_and_target_labels['ACCOUNT_HOLDER_TOKEN'] == source_account_holder\n",
    "    ]\n",
    "    target_labels = source_and_target_labels[\n",
    "        source_and_target_labels['ACCOUNT_HOLDER_TOKEN'].isin(target_active_holders)\n",
    "    ]\n",
    "    \n",
    "    # Validate timestamps and labels\n",
    "    validate_timestamps(\n",
    "        ccgce_df=actual_events_df,\n",
    "        asset_connections=asset_connections,\n",
    "        validation_result=result\n",
    "    )\n",
    "\n",
    "    validate_labels(\n",
    "        ccgce_df=actual_events_df,\n",
    "        source_labels_df=source_labels,\n",
    "        target_labels_df=target_labels,\n",
    "        source_account_holder=source_account_holder,\n",
    "        validation_result=result\n",
    "    )\n",
    "\n",
    "    return result"
   ]
  },
  {
   "cell_type": "code",
   "execution_count": 0,
   "metadata": {
    "application/vnd.databricks.v1+cell": {
     "cellMetadata": {
      "byteLimit": 2048000,
      "rowLimit": 10000
     },
     "inputWidgets": {},
     "nuid": "eb824d4b-f147-4ca5-a30c-cea1a8ebef16",
     "showTitle": false,
     "tableResultSettingsMap": {},
     "title": ""
    }
   },
   "outputs": [],
   "source": [
    "def validate_edges(\n",
    "    edges: List[Tuple[str, str, str, int]],\n",
    "    ccgce_table: str,\n",
    "    output_dir: Optional[str] = None,\n",
    "    csv_path: Optional[str] = None\n",
    ") -> List[ValidationResult]:\n",
    "    \"\"\"Validates edgy BAU edge processing for multiple edges.\n",
    "    \n",
    "    Args:\n",
    "        edges: List of (from_token, to_token, to_type, effective_at) tuples to validate\n",
    "        ccgce_table: The table containing CashConnectedGraphChangeEvents\n",
    "        output_dir: Optional directory for output files. If not provided,\n",
    "                   defaults to current directory\n",
    "        csv_path: Optionally set the output csv file explicitly. If not\n",
    "                  provided, it will be auto-generated\n",
    "    \n",
    "    Returns:\n",
    "        List of ValidationResult objects, one per edge\n",
    "    \"\"\"\n",
    "    num_edges = len(edges)\n",
    "    print(f\"Validating {num_edges} edges:\")\n",
    "    for edge in edges:\n",
    "        print(f\"- {edge[0]} -> {edge[1]} ({edge[2]}) @ {edge[3]}\")\n",
    "    \n",
    "    # Create output directory if it doesn't exist\n",
    "    if output_dir:\n",
    "        os.makedirs(output_dir, exist_ok=True)\n",
    "    else:\n",
    "        output_dir = '.'\n",
    "        \n",
    "    # Create CSV filename with timestamp\n",
    "    if csv_path is None:\n",
    "        timestamp = datetime.now().strftime('%Y%m%d_%H%M%S')\n",
    "        csv_path = os.path.join(output_dir, f'edge_validation_results_{timestamp}.csv')\n",
    "    \n",
    "    results = []\n",
    "    timings = {}\n",
    "    errors = []\n",
    "    \n",
    "    for i, edge in enumerate(edges):\n",
    "        from_token, to_token, to_type, effective_at_ms = edge\n",
    "        edge_id = f\"{from_token}/{to_token}/{to_type}/{effective_at_ms}\"\n",
    "        effective_at_str = pd.to_datetime(effective_at_ms, unit='ms')\n",
    "        print(f\"\\nProcessing event {i+1}/{num_edges}: {edge_id}, effective_at={effective_at_str}\")\n",
    "\n",
    "        start_time = time.time()\n",
    "        \n",
    "        try:\n",
    "            result = validate_bau_edge(\n",
    "                source_account=from_token,\n",
    "                asset_token=to_token,\n",
    "                asset_type=to_type,\n",
    "                effective_at_ms=effective_at_ms,\n",
    "                ccgce_table=ccgce_table\n",
    "            )\n",
    "            results.append(result)\n",
    "            \n",
    "            # Write result to CSV as soon as it's available\n",
    "            result.write_to_csv(csv_path)\n",
    "            \n",
    "            end_time = time.time()\n",
    "            timings[edge_id] = end_time - start_time\n",
    "            \n",
    "            # Print progress with timing and detailed results\n",
    "            duration = timings[edge_id]\n",
    "            print(f\"\\nTime to validate {edge_id}: {duration:.2f} seconds\")\n",
    "            print(result.get_summary())\n",
    "            print()\n",
    "        except Exception as e:\n",
    "            error_msg = f\"ERROR while validating event {edge_id}: {type(e).__name__}: {e}\"\n",
    "            print(error_msg)\n",
    "            errors.append((edge_id, e))\n",
    "            # Optionally: Keep running or re-raise depending on workflow; here we keep running next events\n",
    "            \n",
    "    # Print summary statistics\n",
    "    success_count = sum(1 for r in results if r.success)\n",
    "    print(f\"\\nValidation complete: {success_count}/{len(results)} passed\")\n",
    "    \n",
    "    if errors:\n",
    "        print(f\"\\n{len(errors)} events failed due to code errors:\")\n",
    "        for edge_id, err in errors:\n",
    "            print(f\"  {edge_id}: {type(err).__name__}: {err}\")\n",
    "\n",
    "    # Timing statistics\n",
    "    avg_time = sum(timings.values()) / len(timings)\n",
    "    max_time = max(timings.values())\n",
    "    min_time = min(timings.values())\n",
    "    print(f\"\\nTiming statistics:\")\n",
    "    print(f\"- Average time per edge: {avg_time:.2f} seconds\")\n",
    "    print(f\"- Fastest validation: {min_time:.2f} seconds\")\n",
    "    print(f\"- Slowest validation: {max_time:.2f} seconds\")\n",
    "    print(f\"- Total validation time: {sum(timings.values()):.2f} seconds\")\n",
    "    print(f\"\\nResults written to: {csv_path}\")\n",
    "    \n",
    "    return results"
   ]
  },
  {
   "cell_type": "code",
   "execution_count": 0,
   "metadata": {
    "application/vnd.databricks.v1+cell": {
     "cellMetadata": {
      "byteLimit": 2048000,
      "rowLimit": 10000
     },
     "inputWidgets": {},
     "nuid": "6a172bcc-5ace-4cf3-8f75-2f0672399fac",
     "showTitle": false,
     "tableResultSettingsMap": {},
     "title": ""
    }
   },
   "outputs": [],
   "source": [
    "def validate_edges_batch(\n",
    "    edges: Set[Tuple[str, str, str, int]],\n",
    "    ccgce_table: str,\n",
    "    output_dir: str,\n",
    "    batch_size: int = 5,\n",
    "    max_workers: int = 3\n",
    ") -> str:\n",
    "    \"\"\"Validates edges in parallel batches.\n",
    "    \n",
    "    Args:\n",
    "        edges: Set of (from_token, to_token, to_type, effective_at) tuples to validate\n",
    "        ccgce_table: The table containing CashConnectedGraphChangeEvents\n",
    "        output_dir: Directory for output files\n",
    "        batch_size: Number of edges to process in each batch\n",
    "        max_workers: Maximum number of parallel threads\n",
    "    \n",
    "    Returns:\n",
    "        String with the path to the csv file containing the validation results\n",
    "    \"\"\"\n",
    "    # Create output directory\n",
    "    os.makedirs(output_dir, exist_ok=True)\n",
    "    \n",
    "    # Create a single CSV filename for all batches\n",
    "    timestamp = datetime.now().strftime('%Y%m%d_%H%M%S')\n",
    "    csv_path = os.path.join(output_dir, f'bau_edge_validation_{timestamp}.csv')\n",
    "    \n",
    "    # Split edges into batches\n",
    "    edges_list = list(edges)\n",
    "    num_total_edges = len(edges_list)\n",
    "    num_batches = math.ceil(num_total_edges / batch_size)\n",
    "    batches = [\n",
    "        edges_list[i * batch_size:(i + 1) * batch_size]\n",
    "        for i in range(num_batches)\n",
    "    ]\n",
    "    \n",
    "    print(f\"Processing {num_total_edges} edges in {num_batches} batches \"\n",
    "          f\"of size {batch_size} using {max_workers} workers\")\n",
    "    print(f\"Results will be written to: {csv_path}\")\n",
    "    \n",
    "    start_time = time.time() \n",
    "\n",
    "    # Process batches in parallel\n",
    "    with ThreadPoolExecutor(max_workers=max_workers) as executor:\n",
    "        futures = [\n",
    "            executor.submit(\n",
    "                validate_edges,\n",
    "                batch,\n",
    "                ccgce_table,\n",
    "                output_dir,\n",
    "                csv_path\n",
    "            )\n",
    "            for batch in batches\n",
    "        ]\n",
    "        \n",
    "        # Process results as they complete\n",
    "        for i, future in enumerate(concurrent.futures.as_completed(futures)):\n",
    "            try:\n",
    "                future.result()\n",
    "                print(f\"\\nCompleted batch {i + 1}/{num_batches}\")\n",
    "            except Exception as e:\n",
    "                print(f\"\\nBatch {i + 1} failed with error: {str(e)}\")\n",
    "    \n",
    "    end_time = time.time()\n",
    "    print(f\"\\nAll batches processed. Total time: {end_time - start_time:.2f} seconds.\")\n",
    "    print(f\"Consolidated results are in: {csv_path}\")\n",
    "    \n",
    "    return csv_path"
   ]
  },
  {
   "cell_type": "markdown",
   "metadata": {
    "application/vnd.databricks.v1+cell": {
     "cellMetadata": {
      "byteLimit": 2048000,
      "rowLimit": 10000
     },
     "inputWidgets": {},
     "nuid": "34320131-703f-4921-bbc8-32933ebc1ad8",
     "showTitle": false,
     "tableResultSettingsMap": {},
     "title": ""
    }
   },
   "source": [
    "## Validation Execution"
   ]
  },
  {
   "cell_type": "code",
   "execution_count": 0,
   "metadata": {
    "application/vnd.databricks.v1+cell": {
     "cellMetadata": {
      "byteLimit": 2048000,
      "rowLimit": 10000
     },
     "inputWidgets": {},
     "nuid": "e8d74e7d-18de-4dd5-ad82-0175e4d6ac82",
     "showTitle": false,
     "tableResultSettingsMap": {},
     "title": ""
    }
   },
   "outputs": [],
   "source": [
    "# Table where edgy's output is loaded:\n",
    "#ccgce_table = \"cash_banking_ml_eng.cash_connected_graph_change_event.edgy_test_20250512\"\n",
    "#ccgce_table = \"cash_banking_ml_eng.cash_connected_graph_change_event.edgy_test_20250610\"\n",
    "ccgce_table = \"cash_banking_ml_eng.cash_connected_graph_change_event.edgy_test_20250626\""
   ]
  },
  {
   "cell_type": "code",
   "execution_count": 0,
   "metadata": {
    "application/vnd.databricks.v1+cell": {
     "cellMetadata": {
      "byteLimit": 2048000,
      "rowLimit": 10000
     },
     "inputWidgets": {},
     "nuid": "6c133900-1d1e-4b8e-9568-34526585c484",
     "showTitle": false,
     "tableResultSettingsMap": {},
     "title": ""
    }
   },
   "outputs": [
    {
     "output_type": "stream",
     "name": "stdout",
     "output_type": "stream",
     "text": [
      "Edgy output time range to validate: 2025-06-26 00:00:02.485000 - 2025-06-26 23:59:59.874000\n"
     ]
    }
   ],
   "source": [
    "# Obtain the date range of BAU events in ccgce_table that can be meaningfully validated \n",
    "query = f\"\"\"\n",
    "SELECT MIN(cash_connected_graph_change_event.effective_at_millis) AS min_effective_at,\n",
    "    MIN(cash_connected_graph_change_event.published_at_millis) AS min_published_at,\n",
    "    MAX(cash_connected_graph_change_event.effective_at_millis) AS max_effective_at,\n",
    "    MAX(cash_connected_graph_change_event.published_at_millis) AS max_published_at\n",
    "    from {ccgce_table}\n",
    "WHERE cash_connected_graph_change_event.event_source_type = 'BAU'\n",
    "AND cash_connected_graph_change_event.connection_change is not null\n",
    "\"\"\"\n",
    "date_range_df = spark_query(query)\n",
    "# Use the max of the earliest effective_at and published_at timestamps as the start time\n",
    "start_time = pd.to_datetime(max(date_range_df[[\"min_effective_at\", \"min_published_at\"]].iloc[0]), unit=\"ms\")\n",
    "# Use the min of the latest effective_at and published_at timestamps as the finish time\n",
    "finish_time = pd.to_datetime(min(date_range_df[[\"max_effective_at\", \"max_published_at\"]].iloc[0]), unit=\"ms\")\n",
    "print(f\"Edgy output time range to validate: {start_time} - {finish_time}\")"
   ]
  },
  {
   "cell_type": "code",
   "execution_count": 0,
   "metadata": {
    "application/vnd.databricks.v1+cell": {
     "cellMetadata": {
      "byteLimit": 2048000,
      "rowLimit": 10000
     },
     "inputWidgets": {},
     "nuid": "a949b8ad-296a-4f30-8e11-40baa1f87152",
     "showTitle": false,
     "tableResultSettingsMap": {},
     "title": ""
    }
   },
   "outputs": [
    {
     "output_type": "display_data",
     "data": {
      "text/html": [
       "<div>\n",
       "<style scoped>\n",
       "    .dataframe tbody tr th:only-of-type {\n",
       "        vertical-align: middle;\n",
       "    }\n",
       "\n",
       "    .dataframe tbody tr th {\n",
       "        vertical-align: top;\n",
       "    }\n",
       "\n",
       "    .dataframe thead th {\n",
       "        text-align: right;\n",
       "    }\n",
       "</style>\n",
       "<table border=\"1\" class=\"dataframe\">\n",
       "  <thead>\n",
       "    <tr style=\"text-align: right;\">\n",
       "      <th></th>\n",
       "      <th>FROM_TOKEN</th>\n",
       "      <th>TO_TYPE</th>\n",
       "      <th>TO_TOKEN</th>\n",
       "      <th>EFFECTIVE_AT</th>\n",
       "      <th>CREATED_AT</th>\n",
       "    </tr>\n",
       "  </thead>\n",
       "  <tbody>\n",
       "    <tr>\n",
       "      <th>0</th>\n",
       "      <td>C_5qe4chm0g</td>\n",
       "      <td>CASH_OPAQUE_APP_TOKEN</td>\n",
       "      <td>6729512c0ba529fc969797f726d4f90939ff8615</td>\n",
       "      <td>2025-06-26 17:44:33.620</td>\n",
       "      <td>2025-06-26 17:45:04.235</td>\n",
       "    </tr>\n",
       "    <tr>\n",
       "      <th>1</th>\n",
       "      <td>C_gs2wc0ysv</td>\n",
       "      <td>TRACKING_COOKIE</td>\n",
       "      <td>f3f4d065-bc15-44e6-ada1-fba98860d880</td>\n",
       "      <td>2025-06-26 20:39:43.572</td>\n",
       "      <td>2025-06-26 20:39:43.735</td>\n",
       "    </tr>\n",
       "    <tr>\n",
       "      <th>2</th>\n",
       "      <td>C_f4e3camw8</td>\n",
       "      <td>CASH_DEVICE</td>\n",
       "      <td>0ff7a8fa594c078e</td>\n",
       "      <td>2025-06-26 17:11:43.590</td>\n",
       "      <td>2025-06-26 17:11:44.042</td>\n",
       "    </tr>\n",
       "    <tr>\n",
       "      <th>3</th>\n",
       "      <td>C_84eqd0m9z</td>\n",
       "      <td>CASH_OPAQUE_APP_TOKEN</td>\n",
       "      <td>c479da5b17b3f3e87147190a2464876f70955e79</td>\n",
       "      <td>2025-06-26 19:30:21.328</td>\n",
       "      <td>2025-06-26 19:30:21.908</td>\n",
       "    </tr>\n",
       "    <tr>\n",
       "      <th>4</th>\n",
       "      <td>C_htezqgmvg</td>\n",
       "      <td>CASH_BACKUP_TAG</td>\n",
       "      <td>aee7ccf2928067169754e849ab55bb7cf8a21b043cc97d...</td>\n",
       "      <td>2025-06-26 16:22:42.306</td>\n",
       "      <td>2025-06-26 16:22:43.042</td>\n",
       "    </tr>\n",
       "    <tr>\n",
       "      <th>...</th>\n",
       "      <td>...</td>\n",
       "      <td>...</td>\n",
       "      <td>...</td>\n",
       "      <td>...</td>\n",
       "      <td>...</td>\n",
       "    </tr>\n",
       "    <tr>\n",
       "      <th>995</th>\n",
       "      <td>C_sm2vc1ynq</td>\n",
       "      <td>TRACKING_COOKIE</td>\n",
       "      <td>6919f0a9-276b-4e25-8711-6f0cfa7b9b83</td>\n",
       "      <td>2025-06-26 20:00:46.731</td>\n",
       "      <td>2025-06-26 20:00:46.894</td>\n",
       "    </tr>\n",
       "    <tr>\n",
       "      <th>996</th>\n",
       "      <td>C_8jemehmh8</td>\n",
       "      <td>CASH_DEVICE</td>\n",
       "      <td>7DA924C4-3C6F-4046-89EE-EB73EA14EA7B</td>\n",
       "      <td>2025-06-26 19:19:14.182</td>\n",
       "      <td>2025-06-26 19:19:14.540</td>\n",
       "    </tr>\n",
       "    <tr>\n",
       "      <th>997</th>\n",
       "      <td>C_sjcsepm2q</td>\n",
       "      <td>CASH_DEVICE</td>\n",
       "      <td>d17a7eb2c890c8c6</td>\n",
       "      <td>2025-06-26 19:47:45.852</td>\n",
       "      <td>2025-06-26 19:47:46.431</td>\n",
       "    </tr>\n",
       "    <tr>\n",
       "      <th>998</th>\n",
       "      <td>C_s9c4egmjj</td>\n",
       "      <td>CASH_DEVICE</td>\n",
       "      <td>E5DAAE7B-615A-4C9D-ABE2-E1903A91FC9A</td>\n",
       "      <td>2025-06-26 19:56:11.615</td>\n",
       "      <td>2025-06-26 19:56:13.014</td>\n",
       "    </tr>\n",
       "    <tr>\n",
       "      <th>999</th>\n",
       "      <td>C_0m2eppyjm</td>\n",
       "      <td>TRACKING_COOKIE</td>\n",
       "      <td>6732fa22-3d63-438c-86c0-bf55106a086a</td>\n",
       "      <td>2025-06-26 18:16:57.784</td>\n",
       "      <td>2025-06-26 18:16:57.905</td>\n",
       "    </tr>\n",
       "  </tbody>\n",
       "</table>\n",
       "<p>1000 rows × 5 columns</p>\n",
       "</div>"
      ]
     },
     "metadata": {
      "application/vnd.databricks.v1+output": {
       "addedWidgets": {},
       "arguments": {},
       "data": "<div>\n<style scoped>\n    .dataframe tbody tr th:only-of-type {\n        vertical-align: middle;\n    }\n\n    .dataframe tbody tr th {\n        vertical-align: top;\n    }\n\n    .dataframe thead th {\n        text-align: right;\n    }\n</style>\n<table border=\"1\" class=\"dataframe\">\n  <thead>\n    <tr style=\"text-align: right;\">\n      <th></th>\n      <th>FROM_TOKEN</th>\n      <th>TO_TYPE</th>\n      <th>TO_TOKEN</th>\n      <th>EFFECTIVE_AT</th>\n      <th>CREATED_AT</th>\n    </tr>\n  </thead>\n  <tbody>\n    <tr>\n      <th>0</th>\n      <td>C_5qe4chm0g</td>\n      <td>CASH_OPAQUE_APP_TOKEN</td>\n      <td>6729512c0ba529fc969797f726d4f90939ff8615</td>\n      <td>2025-06-26 17:44:33.620</td>\n      <td>2025-06-26 17:45:04.235</td>\n    </tr>\n    <tr>\n      <th>1</th>\n      <td>C_gs2wc0ysv</td>\n      <td>TRACKING_COOKIE</td>\n      <td>f3f4d065-bc15-44e6-ada1-fba98860d880</td>\n      <td>2025-06-26 20:39:43.572</td>\n      <td>2025-06-26 20:39:43.735</td>\n    </tr>\n    <tr>\n      <th>2</th>\n      <td>C_f4e3camw8</td>\n      <td>CASH_DEVICE</td>\n      <td>0ff7a8fa594c078e</td>\n      <td>2025-06-26 17:11:43.590</td>\n      <td>2025-06-26 17:11:44.042</td>\n    </tr>\n    <tr>\n      <th>3</th>\n      <td>C_84eqd0m9z</td>\n      <td>CASH_OPAQUE_APP_TOKEN</td>\n      <td>c479da5b17b3f3e87147190a2464876f70955e79</td>\n      <td>2025-06-26 19:30:21.328</td>\n      <td>2025-06-26 19:30:21.908</td>\n    </tr>\n    <tr>\n      <th>4</th>\n      <td>C_htezqgmvg</td>\n      <td>CASH_BACKUP_TAG</td>\n      <td>aee7ccf2928067169754e849ab55bb7cf8a21b043cc97d...</td>\n      <td>2025-06-26 16:22:42.306</td>\n      <td>2025-06-26 16:22:43.042</td>\n    </tr>\n    <tr>\n      <th>...</th>\n      <td>...</td>\n      <td>...</td>\n      <td>...</td>\n      <td>...</td>\n      <td>...</td>\n    </tr>\n    <tr>\n      <th>995</th>\n      <td>C_sm2vc1ynq</td>\n      <td>TRACKING_COOKIE</td>\n      <td>6919f0a9-276b-4e25-8711-6f0cfa7b9b83</td>\n      <td>2025-06-26 20:00:46.731</td>\n      <td>2025-06-26 20:00:46.894</td>\n    </tr>\n    <tr>\n      <th>996</th>\n      <td>C_8jemehmh8</td>\n      <td>CASH_DEVICE</td>\n      <td>7DA924C4-3C6F-4046-89EE-EB73EA14EA7B</td>\n      <td>2025-06-26 19:19:14.182</td>\n      <td>2025-06-26 19:19:14.540</td>\n    </tr>\n    <tr>\n      <th>997</th>\n      <td>C_sjcsepm2q</td>\n      <td>CASH_DEVICE</td>\n      <td>d17a7eb2c890c8c6</td>\n      <td>2025-06-26 19:47:45.852</td>\n      <td>2025-06-26 19:47:46.431</td>\n    </tr>\n    <tr>\n      <th>998</th>\n      <td>C_s9c4egmjj</td>\n      <td>CASH_DEVICE</td>\n      <td>E5DAAE7B-615A-4C9D-ABE2-E1903A91FC9A</td>\n      <td>2025-06-26 19:56:11.615</td>\n      <td>2025-06-26 19:56:13.014</td>\n    </tr>\n    <tr>\n      <th>999</th>\n      <td>C_0m2eppyjm</td>\n      <td>TRACKING_COOKIE</td>\n      <td>6732fa22-3d63-438c-86c0-bf55106a086a</td>\n      <td>2025-06-26 18:16:57.784</td>\n      <td>2025-06-26 18:16:57.905</td>\n    </tr>\n  </tbody>\n</table>\n<p>1000 rows × 5 columns</p>\n</div>",
       "datasetInfos": [],
       "metadata": {},
       "removedWidgets": [],
       "textData": null,
       "type": "htmlSandbox"
      }
     },
     "output_type": "display_data"
    }
   ],
   "source": [
    "# Fetch sample of CASH_CUSTOMER edges from duplograph.public.edges that were \n",
    "# both created and became effective within the time range of the edgy output we're validating\n",
    "# (avoiding the boundaries in case of lag issues) \n",
    "buffer_timedelta = pd.to_timedelta('3h')\n",
    "query = f\"\"\"\n",
    "SELECT \n",
    "    from_token, \n",
    "    to_type, \n",
    "    to_token, \n",
    "    effective_at,\n",
    "    created_at \n",
    "FROM duplograph.public.edges \n",
    "WHERE from_type = 'CASH_CUSTOMER' \n",
    "AND to_type != 'CASH_CUSTOMER'\n",
    "AND effective_at BETWEEN '{start_time + buffer_timedelta}' AND '{finish_time - buffer_timedelta}'\n",
    "AND created_at BETWEEN '{start_time + buffer_timedelta}' AND '{finish_time - buffer_timedelta}'\n",
    "LIMIT 1000\n",
    "\"\"\"\n",
    "bau_edges_df = snowflake_query(query)\n",
    "bau_edges_df"
   ]
  },
  {
   "cell_type": "code",
   "execution_count": 0,
   "metadata": {
    "application/vnd.databricks.v1+cell": {
     "cellMetadata": {
      "byteLimit": 2048000,
      "rowLimit": 10000
     },
     "inputWidgets": {},
     "nuid": "f8d51196-0fcb-43fe-90bd-11e4c084f29a",
     "showTitle": false,
     "tableResultSettingsMap": {},
     "title": ""
    }
   },
   "outputs": [
    {
     "output_type": "stream",
     "name": "stdout",
     "output_type": "stream",
     "text": [
      "Processing 1000 edges in 100 batches of size 10 using 10 workers\nResults will be written to: bau_edge_validation/bau_edge_validation_20250701_030010.csv\nValidating 10 edges:\n- C_5qe4chm0g -> 6729512c0ba529fc969797f726d4f90939ff8615 (CASH_OPAQUE_APP_TOKEN) @ 1750959873620\n- C_gs2wc0ysv -> f3f4d065-bc15-44e6-ada1-fba98860d880 (TRACKING_COOKIE) @ 1750970383572\n- C_f4e3camw8 -> 0ff7a8fa594c078e (CASH_DEVICE) @ 1750957903590\n- C_84eqd0m9z -> c479da5b17b3f3e87147190a2464876f70955e79 (CASH_OPAQUE_APP_TOKEN) @ 1750966221328\n- C_htezqgmvg -> aee7ccf2928067169754e849ab55bb7cf8a21b043cc97d9cf76505c41d4236d0 (CASH_BACKUP_TAG) @ 1750954962306\n- C_8heheay1d -> 4589847A-BE04-40C4-B90C-98A73C45FE62 (CASH_DEVICE) @ 1750965165929\n- C_gjebe0mpz -> ec4dba62cac69725d873200ac013763b5def5aee (EMAIL) @ 1750956364965\n- C_sqc7dpmda -> DEC01EA0-5169-4860-A780-F03AC4B0821E (CASH_DEVICE) @ 1750971290016\n- C_8jegc0mw8 -> 8fed0b13e8b397304a3fc3d2f21b663527397ca1 (PHONE_NUMBER) @ 1750966379153\n- C_g6c5pqmhk -> 42e4f5a6-29db-407f-9910-8f059ba4c979 (TRACKING_COOKIE) @ 1750964781523\n\nProcessing event 1/10: C_5qe4chm0g/6729512c0ba529fc969797f726d4f90939ff8615/CASH_OPAQUE_APP_TOKEN/1750959873620, effective_at=2025-06-26 17:44:33.620000\nValidating 10 edges:\n- C_8ndy11mts -> fid-1-f313cf9af088e7083e30fe13e32944a5b12101f452d1a9bb3be6efe23b3005ef (BANK_ACCOUNT) @ 1750967750130\n- C_gjege0mn8 -> 1b5326c29870107b29da41fe72df1ccfcf80bcb6a707bbd43382e58e77da2c8d (CASH_BACKUP_TAG) @ 1750958980693\n- C_sxcvq8ypb -> fdc8cc35-b917-4d62-931a-a7807d31750c (TRACKING_COOKIE) @ 1750969255154\n- C_s0ead8y7w -> ee6b00ae-eea4-461a-9e8d-42be3cd92796 (TRACKING_COOKIE) @ 1750959305590\n- C_n923x8mce -> 9702d456-682f-4a1f-8a87-9383d28899bf (TRACKING_COOKIE) @ 1750953474194\n- C_s4cke8myq -> 90847ff91abbea44f5af17149656c793277f4b1a9e7c45f56ba9150c82f47e09 (CASH_BACKUP_TAG) @ 1750969160622\n- C_8qe42amp3 -> 25de84fb3bad0872b1fb7ecd23411c5d156df1332fd4c031e1cd0c103282f656 (CASH_BACKUP_TAG) @ 1750959506985\n- C_gqejehmx8 -> 8850f3c999c3e5777c45f17d81e05a6a06f20627 (CASH_OPAQUE_APP_TOKEN) @ 1750957972350\n- C_5je720mf8 -> 001F35F8-216B-428A-9005-12E33628986B (CASH_DEVICE) @ 1750964750027\n- C_gmd7apme6 -> 609788b3e49949919ad71338932ded89 (CASH_DEVICE) @ 1750964432318\n\nProcessing event 1/10: C_8ndy11mts/fid-1-f313cf9af088e7083e30fe13e32944a5b12101f452d1a9bb3be6efe23b3005ef/BANK_ACCOUNT/1750967750130, effective_at=2025-06-26 19:55:50.130000\nValidating 10 edges:\n- C_8je4ehmhg -> 794e280266649f5bbc07f70da4d2f37368ffad69 (PHONE_NUMBER) @ 1750960038729\n- C_84efe0m98 -> E327A2B7-B830-4DED-8AF4-1F3236BB43E6 (CASH_DEVICE) @ 1750964687876\n- C_8hchaayfh -> bf29c943-971f-487e-9cf4-f06e2b64d897 (TRACKING_COOKIE) @ 1750958927212\n- C_s92vwamqc -> 55dc836b-3395-4597-8117-8c91f2ac5085 (TRACKING_COOKIE) @ 1750956783688\n- C_8q2epampt -> bc2947b4-942f-4e1e-b717-64e542295662 (TRACKING_COOKIE) @ 1750954798905\n- C_f6c8a8y37 -> 664fdd42-79b7-45d5-8611-a553bec9df82 (TRACKING_COOKIE) @ 1750962704323\n- C_ge2argygy -> 6bd8f0e1646b326cb12465136015c22fb8f86ac3 (PHONE_NUMBER) @ 1750970490493\n- C_gnpfkpyn6 -> 939fbd9182c988602857d847e7c2f7394f50e924c04c9efc06d78c805046bf16 (CASH_BACKUP_TAG) @ 1750966212605\n- C_gqesehmqz -> 5c9e7caf4f6d6b182be80e8420efefe2fe730501 (CASH_OPAQUE_APP_TOKEN) @ 1750955512761\n- C_sadhapyjf -> c55e3b0b044a79cb2579c7c9f83560457284aadda7975428aa971e0c991f4f62 (CASH_BACKUP_TAG) @ 1750961339221\n\nProcessing event 1/10: C_8je4ehmhg/794e280266649f5bbc07f70da4d2f37368ffad69/PHONE_NUMBER/1750960038729, effective_at=2025-06-26 17:47:18.729000\nValidating 10 edges:\n- C_ha2zrhyyf -> f28e53d18b0fb64f3cfe60a7b9eb6d779efb55dd3def0053cd0ba0dd65da0b16 (CASH_BACKUP_TAG) @ 1750957060956\n- C_0sewp1mrz -> 7df4bf7b-9911-4164-9a81-2785170594f2 (TRACKING_COOKIE) @ 1750965244809\n- C_sy25wqmc6 -> 6a5e4900-0c83-4b74-b2f9-3892ed26252a (TRACKING_COOKIE) @ 1750970017370\n- C_80cqdqmca -> 73e24c2bc2c7994f4ce0ee963709a395063183d94e4e200e78b913f6fa0a1d17 (CASH_BACKUP_TAG) @ 1750966427473\n- C_ghcdw1yvm -> ff84b942545546149d02ec38587c54f4d46ba78985a71903268ba57c72c2a403 (CASH_BACKUP_TAG) @ 1750962713479\n- C_nschahy64 -> 501f0c88-459a-42a3-b8dc-bf590d653ba2 (TRACKING_COOKIE) @ 1750971002185\n- C_gjekcqmw8 -> c4787ec1da6d473c611d417025a03fde494f81261c35f6b96113b822e6baa373 (CASH_BACKUP_TAG) @ 1750958826051\n- C_5m2t90ysk -> 5e0a4fd7-5f9c-4ecf-8caa-0520a34ded18 (TRACKING_COOKIE) @ 1750960812445\n- C_04c02pmkj -> 5a11fa6db6f68c4eb1d6269fff73edacbcb0240f99d8bce9487ddc4a8a87417e (CASH_BACKUP_TAG) @ 1750968853012\n- C_5a2ew1m5t -> 3ac20e8f-d57a-4c26-b235-7e66542cd613 (TRACKING_COOKIE) @ 1750967226959\n\nProcessing event 1/10: C_ha2zrhyyf/f28e53d18b0fb64f3cfe60a7b9eb6d779efb55dd3def0053cd0ba0dd65da0b16/CASH_BACKUP_TAG/1750957060956, effective_at=2025-06-26 16:57:40.956000\nValidating 10 edges:\n- C_8s2zb1m66 -> bca28ed5-0adf-432a-9a90-df4799b8319e (TRACKING_COOKIE) @ 1750968032726\n- C_g9egcam93 -> 62306d26583032e462a0bddf23cfc06cd3460c5dad4332d14b6b40580f008074 (CASH_BACKUP_TAG) @ 1750953364523\n- C_fqdgaam46 -> 88ca7947-174c-460b-8c63-3e015f8d00d7 (TRACKING_COOKIE) @ 1750966076969\n- C_5qem20m03 -> a609546977335639333b1bb8042579c61459d729 (CASH_OPAQUE_APP_TOKEN) @ 1750962523589\n- C_sjc3d1mrq -> 2BD12657-160F-40BD-85BD-045811438127 (CASH_DEVICE) @ 1750970194218\n- C_stczp8y5b -> 0d534facab6491712060fde2cf1b0787955703a3715469d513fe6495b4a84a90 (CASH_BACKUP_TAG) @ 1750955203000\n- C_f02ykayqm -> 5a7ea34e44e3d33bd3be3b955290e865041013b976cb44ef54a30b9906ebedbd (CASH_BACKUP_TAG) @ 1750962145705\n- C_g4e9d0mgz -> C6220E7E-8DA0-4E6A-9F48-7432C3E7306B (CASH_DEVICE) @ 1750956612204\n- C_8qegc0mgg -> EDC3EB57-7434-4883-8442-8F73ACFE6037 (CASH_DEVICE) @ 1750962671147\n- C_nhee2hm06 -> 43c18a54-55ff-4fd7-87ff-a59d36c245ef (TRACKING_COOKIE) @ 1750962431761\n\nProcessing event 1/10: C_8s2zb1m66/bca28ed5-0adf-432a-9a90-df4799b8319e/TRACKING_COOKIE/1750968032726, effective_at=2025-06-26 20:00:32.726000\nValidating 10 edges:\n- C_f9er2am8z -> 5800A4A5-66AD-41CC-B5FD-B9AD7B5607CA (CASH_DEVICE) @ 1750955573322\n- C_fqejehmg8 -> f9157a06a4a51d2ff13c3096e65eb1a0ff9a7305 (EMAIL) @ 1750957783760\n- C_0xwf4py93 -> d9ddda2a-d1c6-4048-8f8d-421572e520bb (TRACKING_COOKIE) @ 1750965866314\n- C_562vpqm8d -> 62c11c62-69de-4679-b611-8ef41844426a (TRACKING_COOKIE) @ 1750965886639\n- C_59e1ehmb8 -> c74ccb2e0b6749a1a50ede74c83d47571ff37bf9 (PHONE_NUMBER) @ 1750965411106\n- C_59e9eam0g -> e6daa37881616e073aee0e68272da05dd311096d (EMAIL) @ 1750959936590\n- C_00e4xgm05 -> 3ed3424e-2794-4d62-8123-50fbeb870037 (TRACKING_COOKIE) @ 1750964980511\n- C_0mdzaamk4 -> 8dc61c1c-1875-49c6-ba60-7794f88c302f (TRACKING_COOKIE) @ 1750954927083\n- C_fqekeqm98 -> 202e982cf3005fefbfe6898c2dd3e233685d8e0eae31fc1db692fe76e98469d9 (CASH_BACKUP_TAG) @ 1750958920716\n- C_fn2aqpm9s -> 61d2db6a-16e7-49b5-96fb-3374eb9bba3c (TRACKING_COOKIE) @ 1750966346277\n\nProcessing event 1/10: C_f9er2am8z/5800A4A5-66AD-41CC-B5FD-B9AD7B5607CA/CASH_DEVICE/1750955573322, effective_at=2025-06-26 16:32:53.322000\nValidating 10 edges:\n- C_gqdew1yxn -> c32b5c1e-7b3a-4956-9046-30499275510c (TRACKING_COOKIE) @ 1750968853919\n- C_59e9damf3 -> 300C6EB4-3475-4124-B68A-92E87F75D2E4 (CASH_DEVICE) @ 1750959496526\n- C_5t2z2pykd -> 024e72af94a0ce8dadd53db9658a4bbe8c5f6e23 (CASH_OPAQUE_APP_TOKEN) @ 1750967367278\n- C_fjemdamw3 -> 87E39DA5-C639-4082-9B6B-0362701098D4 (CASH_DEVICE) @ 1750953545269\n- C_5qe32hm53 -> 8af492faa8c1486d8825f6ae30adea0d9a8e20ef (CASH_OPAQUE_APP_TOKEN) @ 1750961485049\n- C_h0dvahmjd -> b80afc6d877f8b10abf09eba55a42cdc9838318a052e87eee1174d525d9970a4 (CASH_BACKUP_TAG) @ 1750956030211\n- C_hxpbrpyr1 -> d1f88a668cd71590c3dca7fa26d94fe9081a5dc8 (CASH_OPAQUE_APP_TOKEN) @ 1750964841691\n- C_gndzxpyjr -> 3PRGtgxKrYBGYVsHrvTxPCiJDDq9E1wMo7 (BTC_WITHDRAWAL_WALLET_ADDRESS) @ 1750958683288\n- C_fqescampz -> 10FB37AF-D739-42F6-A959-860A0C90C9DE (CASH_DEVICE) @ 1750955342230\n- C_8jdapamct -> bb06127ead0c5b2b8ff207f825bf8c9f7a1d624449ea95fecbf464ad4da59212 (CASH_BACKUP_TAG) @ 1750967347962\n\nProcessing event 1/10: C_gqdew1yxn/c32b5c1e-7b3a-4956-9046-30499275510c/TRACKING_COOKIE/1750968853919, effective_at=2025-06-26 20:14:13.919000\nValidating 10 edges:\n- C_gje3ehmwg -> d5165cbff2614c18 (CASH_DEVICE) @ 1750953837669\n- C_fce21ambs -> 14b02bc595944f6099001b199527b045 (CASH_DEVICE) @ 1750954355035\n- C_s4cqc1m3j -> ec821dd627e0e679b48d7992dec015fad02238a6 (CASH_OPAQUE_APP_TOKEN) @ 1750969486038\n- C_g62dqamdw -> bbebc826-1c10-42f6-b539-cdaa5687ca80 (TRACKING_COOKIE) @ 1750955572026\n- C_h9eyc0m7a -> 259592a2-db30-4a83-9298-5c08dc26a592 (TRACKING_COOKIE) @ 1750961035736\n- C_std5r0yec -> 24daaa1d-4a52-422f-89f9-d96f2948ec3e (TRACKING_COOKIE) @ 1750961971802\n- C_f4eg2ambg -> 453F4BDE-442C-476D-89D9-9CFF9E2385F4 (CASH_DEVICE) @ 1750954113244\n- C_8c2vc8yjk -> 5fda72ab05ad7ba4601929dce6b13d5f478cad8840e2bab393520b8c364fed19 (CASH_BACKUP_TAG) @ 1750957717120\n- C_scccqhm07 -> b04f1769-936e-46d5-8f06-cbda4d0fea9e (TRACKING_COOKIE) @ 1750967666784\n- C_gjeqdamqg -> 36CCFAA8-2906-4068-8AE1-F035F8A74431 (CASH_DEVICE) @ 1750954156120\n\nProcessing event 1/10: C_gje3ehmwg/d5165cbff2614c18/CASH_DEVICE/1750953837669, effective_at=2025-06-26 16:03:57.669000\nValidating 10 edges:\n- C_nmcvk1mnk -> 2cb75b3d-ea8b-4406-b22f-226d9376bc7f (TRACKING_COOKIE) @ 1750962784761\n- C_84dh41yst -> d1d6495d679fb160c8bc64018de8364fcad127aae7622ca4e7505b83b173108b (CASH_BACKUP_TAG) @ 1750960157139\n- C_g9ebcam98 -> 0771392F-5C30-46BB-887C-4E77811A68D9 (CASH_DEVICE) @ 1750955928679\n- C_gjem2amsg -> 998A0989-0F9F-4D32-B089-EC522386B1AC (CASH_DEVICE) @ 1750954214017\n- C_sseqa1mmw -> 27c57f79c825cbc4b3dc8e7d202423714d59f75421614a1b147dabe0f07e57b9 (CASH_BACKUP_TAG) @ 1750965309450\n- C_hq25j1m2p -> 40403760-06ce-4d61-bf0c-0a20e5d7fc91 (TRACKING_COOKIE) @ 1750952976511\n- C_5qejehmbz -> a7ef93a53795dd419b6b82563ab2508c93ae36a3 (CASH_OPAQUE_APP_TOKEN) @ 1750964931311\n- C_hnw0j0ys9 -> 61fbb4af2e03d517f4c161643ace9844fe120972e8b13951ccf9d0ec35d31a1a (CASH_BACKUP_TAG) @ 1750965763704\n- C_0n2d10yv7 -> 28fb01a4-9795-451f-938f-6b8e17260ba3 (TRACKING_COOKIE) @ 1750965500861\n- C_h92pqqyq0 -> 1e747025-a2ed-456d-828c-41dd48875e3b (TRACKING_COOKIE) @ 1750967512582\n\nProcessing event 1/10: C_nmcvk1mnk/2cb75b3d-ea8b-4406-b22f-226d9376bc7f/TRACKING_COOKIE/1750962784761, effective_at=2025-06-26 18:33:04.761000\nValidating 10 edges:\n- C_fmckx1mp2 -> ae49439a-e8f6-4ec5-aa4f-8228a77a6232 (TRACKING_COOKIE) @ 1750963222840\n- C_gse5c0yc9 -> dd996918-3857-498e-805e-5dc7eecdb34b (TRACKING_COOKIE) @ 1750954061574\n- C_s0cvd8yr5 -> 3e15006e-8865-4dff-98c6-121ead6e2dca (TRACKING_COOKIE) @ 1750960980015\n- C_g6ek28mwk -> dee8b3130483c4bebb6c873b1d9501c0eb7c4f07c7774f581ee4ea3e3d41c316 (CASH_BACKUP_TAG) @ 1750967121528\n- C_5je7eqm5g -> 29C1E836-8B04-4C02-BA53-5B3CF97FBFB1 (CASH_DEVICE) @ 1750960780677\n- C_8aetxqywd -> fid-1-36b2185d95374c9ad3c134c714bc57d07c91ca425741b9bf5c08382562250e3e (PAYMENT_CARD) @ 1750957416370\n- C_8tczegydv -> 7927f0d8-715f-4832-bc25-e88ab0763f18 (TRACKING_COOKIE) @ 1750953051436\n- C_04cqe8mzq -> 6053f6c6365d76e0452a7990ed95aa0d4768b5b8 (CASH_OPAQUE_APP_TOKEN) @ 1750969059905\n- C_fqe6dhmx8 -> 2327173C-884D-48DC-A4E2-63D7F0C37BB3 (CASH_DEVICE) @ 1750956279476\n- C_8mdha1m7y -> 1580795f-c5a9-411d-b4ca-d405764e4f27 (TRACKING_COOKIE) @ 1750966329391\n\nProcessing event 1/10: C_fmckx1mp2/ae49439a-e8f6-4ec5-aa4f-8228a77a6232/TRACKING_COOKIE/1750963222840, effective_at=2025-06-26 18:40:22.840000\n\nTime to validate C_gje3ehmwg/d5165cbff2614c18/CASH_DEVICE/1750953837669: 10.36 seconds\nℹ️ C_gje3ehmwg/d5165cbff2614c18/CASH_DEVICE/1750953837669: No account holder found for source account\n\n\nProcessing event 2/10: C_fce21ambs/14b02bc595944f6099001b199527b045/CASH_DEVICE/1750954355035, effective_at=2025-06-26 16:12:35.035000\n\nTime to validate C_f9er2am8z/5800A4A5-66AD-41CC-B5FD-B9AD7B5607CA/CASH_DEVICE/1750955573322: 19.38 seconds\nℹ️ C_f9er2am8z/5800A4A5-66AD-41CC-B5FD-B9AD7B5607CA/CASH_DEVICE/1750955573322: No account holder found for source account\n\n\nProcessing event 2/10: C_fqejehmg8/f9157a06a4a51d2ff13c3096e65eb1a0ff9a7305/EMAIL/1750957783760, effective_at=2025-06-26 17:09:43.760000\n\nTime to validate C_5qe4chm0g/6729512c0ba529fc969797f726d4f90939ff8615/CASH_OPAQUE_APP_TOKEN/1750959873620: 21.24 seconds\nℹ️ C_5qe4chm0g/6729512c0ba529fc969797f726d4f90939ff8615/CASH_OPAQUE_APP_TOKEN/1750959873620: No account holder found for source account\n\n\nProcessing event 2/10: C_gs2wc0ysv/f3f4d065-bc15-44e6-ada1-fba98860d880/TRACKING_COOKIE/1750970383572, effective_at=2025-06-26 20:39:43.572000\n\nTime to validate C_8je4ehmhg/794e280266649f5bbc07f70da4d2f37368ffad69/PHONE_NUMBER/1750960038729: 26.64 seconds\nℹ️ C_8je4ehmhg/794e280266649f5bbc07f70da4d2f37368ffad69/PHONE_NUMBER/1750960038729: No shared assets found\n\n\nProcessing event 2/10: C_84efe0m98/E327A2B7-B830-4DED-8AF4-1F3236BB43E6/CASH_DEVICE/1750964687876, effective_at=2025-06-26 19:04:47.876000\n\nTime to validate C_nmcvk1mnk/2cb75b3d-ea8b-4406-b22f-226d9376bc7f/TRACKING_COOKIE/1750962784761: 27.50 seconds\nℹ️ C_nmcvk1mnk/2cb75b3d-ea8b-4406-b22f-226d9376bc7f/TRACKING_COOKIE/1750962784761: No shared assets found\n\n\nProcessing event 2/10: C_84dh41yst/d1d6495d679fb160c8bc64018de8364fcad127aae7622ca4e7505b83b173108b/CASH_BACKUP_TAG/1750960157139, effective_at=2025-06-26 17:49:17.139000\n\nTime to validate C_ha2zrhyyf/f28e53d18b0fb64f3cfe60a7b9eb6d779efb55dd3def0053cd0ba0dd65da0b16/CASH_BACKUP_TAG/1750957060956: 33.41 seconds\nℹ️ C_ha2zrhyyf/f28e53d18b0fb64f3cfe60a7b9eb6d779efb55dd3def0053cd0ba0dd65da0b16/CASH_BACKUP_TAG/1750957060956: No target account holders with active accounts found\n\n\nProcessing event 2/10: C_0sewp1mrz/7df4bf7b-9911-4164-9a81-2785170594f2/TRACKING_COOKIE/1750965244809, effective_at=2025-06-26 19:14:04.809000\n\nTime to validate C_8s2zb1m66/bca28ed5-0adf-432a-9a90-df4799b8319e/TRACKING_COOKIE/1750968032726: 33.60 seconds\nℹ️ C_8s2zb1m66/bca28ed5-0adf-432a-9a90-df4799b8319e/TRACKING_COOKIE/1750968032726: No shared assets found\n\n\nProcessing event 2/10: C_g9egcam93/62306d26583032e462a0bddf23cfc06cd3460c5dad4332d14b6b40580f008074/CASH_BACKUP_TAG/1750953364523, effective_at=2025-06-26 15:56:04.523000\n\nTime to validate C_8ndy11mts/fid-1-f313cf9af088e7083e30fe13e32944a5b12101f452d1a9bb3be6efe23b3005ef/BANK_ACCOUNT/1750967750130: 37.42 seconds\nℹ️ C_8ndy11mts/fid-1-f313cf9af088e7083e30fe13e32944a5b12101f452d1a9bb3be6efe23b3005ef/BANK_ACCOUNT/1750967750130: No shared assets found\n\n\nProcessing event 2/10: C_gjege0mn8/1b5326c29870107b29da41fe72df1ccfcf80bcb6a707bbd43382e58e77da2c8d/CASH_BACKUP_TAG/1750958980693, effective_at=2025-06-26 17:29:40.693000\n\nTime to validate C_fce21ambs/14b02bc595944f6099001b199527b045/CASH_DEVICE/1750954355035: 27.74 seconds\nℹ️ C_fce21ambs/14b02bc595944f6099001b199527b045/CASH_DEVICE/1750954355035: No target account holders with active accounts found\n\n\nProcessing event 3/10: C_s4cqc1m3j/ec821dd627e0e679b48d7992dec015fad02238a6/CASH_OPAQUE_APP_TOKEN/1750969486038, effective_at=2025-06-26 20:24:46.038000\n\nTime to validate C_fqejehmg8/f9157a06a4a51d2ff13c3096e65eb1a0ff9a7305/EMAIL/1750957783760: 20.13 seconds\nℹ️ C_fqejehmg8/f9157a06a4a51d2ff13c3096e65eb1a0ff9a7305/EMAIL/1750957783760: No target account holders with active accounts found\n\n\nProcessing event 3/10: C_0xwf4py93/d9ddda2a-d1c6-4048-8f8d-421572e520bb/TRACKING_COOKIE/1750965866314, effective_at=2025-06-26 19:24:26.314000\n\nTime to validate C_fmckx1mp2/ae49439a-e8f6-4ec5-aa4f-8228a77a6232/TRACKING_COOKIE/1750963222840: 40.24 seconds\nℹ️ C_fmckx1mp2/ae49439a-e8f6-4ec5-aa4f-8228a77a6232/TRACKING_COOKIE/1750963222840: No shared assets found\n\n\nProcessing event 2/10: C_gse5c0yc9/dd996918-3857-498e-805e-5dc7eecdb34b/TRACKING_COOKIE/1750954061574, effective_at=2025-06-26 16:07:41.574000\n\nTime to validate C_gqdew1yxn/c32b5c1e-7b3a-4956-9046-30499275510c/TRACKING_COOKIE/1750968853919: 43.67 seconds\nℹ️ C_gqdew1yxn/c32b5c1e-7b3a-4956-9046-30499275510c/TRACKING_COOKIE/1750968853919: No target account holders with active accounts found\n\n\nProcessing event 2/10: C_59e9damf3/300C6EB4-3475-4124-B68A-92E87F75D2E4/CASH_DEVICE/1750959496526, effective_at=2025-06-26 17:38:16.526000\n\nTime to validate C_s4cqc1m3j/ec821dd627e0e679b48d7992dec015fad02238a6/CASH_OPAQUE_APP_TOKEN/1750969486038: 8.03 seconds\nℹ️ C_s4cqc1m3j/ec821dd627e0e679b48d7992dec015fad02238a6/CASH_OPAQUE_APP_TOKEN/1750969486038: No account holder found for source account\n\n\nProcessing event 4/10: C_g62dqamdw/bbebc826-1c10-42f6-b539-cdaa5687ca80/TRACKING_COOKIE/1750955572026, effective_at=2025-06-26 16:32:52.026000\n\nTime to validate C_gs2wc0ysv/f3f4d065-bc15-44e6-ada1-fba98860d880/TRACKING_COOKIE/1750970383572: 28.99 seconds\nℹ️ C_gs2wc0ysv/f3f4d065-bc15-44e6-ada1-fba98860d880/TRACKING_COOKIE/1750970383572: No shared assets found\n\n\nProcessing event 3/10: C_f4e3camw8/0ff7a8fa594c078e/CASH_DEVICE/1750957903590, effective_at=2025-06-26 17:11:43.590000\n\nTime to validate C_84dh41yst/d1d6495d679fb160c8bc64018de8364fcad127aae7622ca4e7505b83b173108b/CASH_BACKUP_TAG/1750960157139: 22.71 seconds\nℹ️ C_84dh41yst/d1d6495d679fb160c8bc64018de8364fcad127aae7622ca4e7505b83b173108b/CASH_BACKUP_TAG/1750960157139: No target account holders with active accounts found\n\n\nProcessing event 3/10: C_g9ebcam98/0771392F-5C30-46BB-887C-4E77811A68D9/CASH_DEVICE/1750955928679, effective_at=2025-06-26 16:38:48.679000\n\nTime to validate C_59e9damf3/300C6EB4-3475-4124-B68A-92E87F75D2E4/CASH_DEVICE/1750959496526: 6.62 seconds\nℹ️ C_59e9damf3/300C6EB4-3475-4124-B68A-92E87F75D2E4/CASH_DEVICE/1750959496526: No account holder found for source account\n\n\nProcessing event 3/10: C_5t2z2pykd/024e72af94a0ce8dadd53db9658a4bbe8c5f6e23/CASH_OPAQUE_APP_TOKEN/1750967367278, effective_at=2025-06-26 19:49:27.278000\n\nTime to validate C_g9egcam93/62306d26583032e462a0bddf23cfc06cd3460c5dad4332d14b6b40580f008074/CASH_BACKUP_TAG/1750953364523: 18.55 seconds\nℹ️ C_g9egcam93/62306d26583032e462a0bddf23cfc06cd3460c5dad4332d14b6b40580f008074/CASH_BACKUP_TAG/1750953364523: No shared assets found\n\n\nProcessing event 3/10: C_fqdgaam46/88ca7947-174c-460b-8c63-3e015f8d00d7/TRACKING_COOKIE/1750966076969, effective_at=2025-06-26 19:27:56.969000\n\nTime to validate C_84efe0m98/E327A2B7-B830-4DED-8AF4-1F3236BB43E6/CASH_DEVICE/1750964687876: 27.53 seconds\nℹ️ C_84efe0m98/E327A2B7-B830-4DED-8AF4-1F3236BB43E6/CASH_DEVICE/1750964687876: No target account holders with active accounts found\n\n\nProcessing event 3/10: C_8hchaayfh/bf29c943-971f-487e-9cf4-f06e2b64d897/TRACKING_COOKIE/1750958927212, effective_at=2025-06-26 17:28:47.212000\n\nTime to validate C_gjege0mn8/1b5326c29870107b29da41fe72df1ccfcf80bcb6a707bbd43382e58e77da2c8d/CASH_BACKUP_TAG/1750958980693: 16.90 seconds\nℹ️ C_gjege0mn8/1b5326c29870107b29da41fe72df1ccfcf80bcb6a707bbd43382e58e77da2c8d/CASH_BACKUP_TAG/1750958980693: No shared assets found\n\n\nProcessing event 3/10: C_sxcvq8ypb/fdc8cc35-b917-4d62-931a-a7807d31750c/TRACKING_COOKIE/1750969255154, effective_at=2025-06-26 20:20:55.154000\n\nTime to validate C_g9ebcam98/0771392F-5C30-46BB-887C-4E77811A68D9/CASH_DEVICE/1750955928679: 6.35 seconds\nℹ️ C_g9ebcam98/0771392F-5C30-46BB-887C-4E77811A68D9/CASH_DEVICE/1750955928679: No account holder found for source account\n\n\nProcessing event 4/10: C_gjem2amsg/998A0989-0F9F-4D32-B089-EC522386B1AC/CASH_DEVICE/1750954214017, effective_at=2025-06-26 16:10:14.017000\n\nTime to validate C_0sewp1mrz/7df4bf7b-9911-4164-9a81-2785170594f2/TRACKING_COOKIE/1750965244809: 26.82 seconds\nℹ️ C_0sewp1mrz/7df4bf7b-9911-4164-9a81-2785170594f2/TRACKING_COOKIE/1750965244809: No target account holders with active accounts found\n\n\nProcessing event 3/10: C_sy25wqmc6/6a5e4900-0c83-4b74-b2f9-3892ed26252a/TRACKING_COOKIE/1750970017370, effective_at=2025-06-26 20:33:37.370000\n\nTime to validate C_f4e3camw8/0ff7a8fa594c078e/CASH_DEVICE/1750957903590: 10.07 seconds\nℹ️ C_f4e3camw8/0ff7a8fa594c078e/CASH_DEVICE/1750957903590: No account holder found for source account\n\n\nProcessing event 4/10: C_84eqd0m9z/c479da5b17b3f3e87147190a2464876f70955e79/CASH_OPAQUE_APP_TOKEN/1750966221328, effective_at=2025-06-26 19:30:21.328000\n\nTime to validate C_gse5c0yc9/dd996918-3857-498e-805e-5dc7eecdb34b/TRACKING_COOKIE/1750954061574: 21.23 seconds\nℹ️ C_gse5c0yc9/dd996918-3857-498e-805e-5dc7eecdb34b/TRACKING_COOKIE/1750954061574: No shared assets found\n\n\nProcessing event 3/10: C_s0cvd8yr5/3e15006e-8865-4dff-98c6-121ead6e2dca/TRACKING_COOKIE/1750960980015, effective_at=2025-06-26 18:03:00.015000\n\nTime to validate C_0xwf4py93/d9ddda2a-d1c6-4048-8f8d-421572e520bb/TRACKING_COOKIE/1750965866314: 22.34 seconds\nℹ️ C_0xwf4py93/d9ddda2a-d1c6-4048-8f8d-421572e520bb/TRACKING_COOKIE/1750965866314: No shared assets found\n\n\nProcessing event 4/10: C_562vpqm8d/62c11c62-69de-4679-b611-8ef41844426a/TRACKING_COOKIE/1750965886639, effective_at=2025-06-26 19:24:46.639000\n\nTime to validate C_gjem2amsg/998A0989-0F9F-4D32-B089-EC522386B1AC/CASH_DEVICE/1750954214017: 13.13 seconds\nℹ️ C_gjem2amsg/998A0989-0F9F-4D32-B089-EC522386B1AC/CASH_DEVICE/1750954214017: No account holder found for source account\n\n\nProcessing event 5/10: C_sseqa1mmw/27c57f79c825cbc4b3dc8e7d202423714d59f75421614a1b147dabe0f07e57b9/CASH_BACKUP_TAG/1750965309450, effective_at=2025-06-26 19:15:09.450000\n\nTime to validate C_84eqd0m9z/c479da5b17b3f3e87147190a2464876f70955e79/CASH_OPAQUE_APP_TOKEN/1750966221328: 11.28 seconds\nℹ️ C_84eqd0m9z/c479da5b17b3f3e87147190a2464876f70955e79/CASH_OPAQUE_APP_TOKEN/1750966221328: No account holder found for source account\n\n\nProcessing event 5/10: C_htezqgmvg/aee7ccf2928067169754e849ab55bb7cf8a21b043cc97d9cf76505c41d4236d0/CASH_BACKUP_TAG/1750954962306, effective_at=2025-06-26 16:22:42.306000\n\nTime to validate C_fqdgaam46/88ca7947-174c-460b-8c63-3e015f8d00d7/TRACKING_COOKIE/1750966076969: 21.07 seconds\nℹ️ C_fqdgaam46/88ca7947-174c-460b-8c63-3e015f8d00d7/TRACKING_COOKIE/1750966076969: No shared assets found\n\n\nProcessing event 4/10: C_5qem20m03/a609546977335639333b1bb8042579c61459d729/CASH_OPAQUE_APP_TOKEN/1750962523589, effective_at=2025-06-26 18:28:43.589000\n\nTime to validate C_8hchaayfh/bf29c943-971f-487e-9cf4-f06e2b64d897/TRACKING_COOKIE/1750958927212: 20.56 seconds\nℹ️ C_8hchaayfh/bf29c943-971f-487e-9cf4-f06e2b64d897/TRACKING_COOKIE/1750958927212: No shared assets found\n\n\nProcessing event 4/10: C_s92vwamqc/55dc836b-3395-4597-8117-8c91f2ac5085/TRACKING_COOKIE/1750956783688, effective_at=2025-06-26 16:53:03.688000\n\nTime to validate C_g62dqamdw/bbebc826-1c10-42f6-b539-cdaa5687ca80/TRACKING_COOKIE/1750955572026: 30.42 seconds\nℹ️ C_g62dqamdw/bbebc826-1c10-42f6-b539-cdaa5687ca80/TRACKING_COOKIE/1750955572026: No target account holders with active accounts found\n\n\nProcessing event 5/10: C_h9eyc0m7a/259592a2-db30-4a83-9298-5c08dc26a592/TRACKING_COOKIE/1750961035736, effective_at=2025-06-26 18:03:55.736000\n\nTime to validate C_sxcvq8ypb/fdc8cc35-b917-4d62-931a-a7807d31750c/TRACKING_COOKIE/1750969255154: 27.56 seconds\nℹ️ C_sxcvq8ypb/fdc8cc35-b917-4d62-931a-a7807d31750c/TRACKING_COOKIE/1750969255154: No shared assets found\n\n\nProcessing event 4/10: C_s0ead8y7w/ee6b00ae-eea4-461a-9e8d-42be3cd92796/TRACKING_COOKIE/1750959305590, effective_at=2025-06-26 17:35:05.590000\n\nTime to validate C_5qem20m03/a609546977335639333b1bb8042579c61459d729/CASH_OPAQUE_APP_TOKEN/1750962523589: 10.70 seconds\nℹ️ C_5qem20m03/a609546977335639333b1bb8042579c61459d729/CASH_OPAQUE_APP_TOKEN/1750962523589: No account holder found for source account\n\n\nProcessing event 5/10: C_sjc3d1mrq/2BD12657-160F-40BD-85BD-045811438127/CASH_DEVICE/1750970194218, effective_at=2025-06-26 20:36:34.218000\n\nTime to validate C_s0cvd8yr5/3e15006e-8865-4dff-98c6-121ead6e2dca/TRACKING_COOKIE/1750960980015: 22.48 seconds\nℹ️ C_s0cvd8yr5/3e15006e-8865-4dff-98c6-121ead6e2dca/TRACKING_COOKIE/1750960980015: No shared assets found\n\n\nProcessing event 4/10: C_g6ek28mwk/dee8b3130483c4bebb6c873b1d9501c0eb7c4f07c7774f581ee4ea3e3d41c316/CASH_BACKUP_TAG/1750967121528, effective_at=2025-06-26 19:45:21.528000\n\nTime to validate C_sy25wqmc6/6a5e4900-0c83-4b74-b2f9-3892ed26252a/TRACKING_COOKIE/1750970017370: 23.97 seconds\nℹ️ C_sy25wqmc6/6a5e4900-0c83-4b74-b2f9-3892ed26252a/TRACKING_COOKIE/1750970017370: No shared assets found\n\n\nProcessing event 4/10: C_80cqdqmca/73e24c2bc2c7994f4ce0ee963709a395063183d94e4e200e78b913f6fa0a1d17/CASH_BACKUP_TAG/1750966427473, effective_at=2025-06-26 19:33:47.473000\n\nTime to validate C_5t2z2pykd/024e72af94a0ce8dadd53db9658a4bbe8c5f6e23/CASH_OPAQUE_APP_TOKEN/1750967367278: 36.40 seconds\n✅ C_5t2z2pykd/024e72af94a0ce8dadd53db9658a4bbe8c5f6e23/CASH_OPAQUE_APP_TOKEN/1750967367278: All validations passed\n\n\nProcessing event 4/10: C_fjemdamw3/87E39DA5-C639-4082-9B6B-0362701098D4/CASH_DEVICE/1750953545269, effective_at=2025-06-26 15:59:05.269000\n\nTime to validate C_sseqa1mmw/27c57f79c825cbc4b3dc8e7d202423714d59f75421614a1b147dabe0f07e57b9/CASH_BACKUP_TAG/1750965309450: 19.00 seconds\nℹ️ C_sseqa1mmw/27c57f79c825cbc4b3dc8e7d202423714d59f75421614a1b147dabe0f07e57b9/CASH_BACKUP_TAG/1750965309450: No shared assets found\n\n\nProcessing event 6/10: C_hq25j1m2p/40403760-06ce-4d61-bf0c-0a20e5d7fc91/TRACKING_COOKIE/1750952976511, effective_at=2025-06-26 15:49:36.511000\n\nTime to validate C_sjc3d1mrq/2BD12657-160F-40BD-85BD-045811438127/CASH_DEVICE/1750970194218: 8.13 seconds\n\n*** WARNING: max output size exceeded, skipping output. ***\n\ns found\n\n\nProcessing event 5/10: C_f6d2aqyza/71aa3a1e-2661-4593-b080-f89703bbd6dd/TRACKING_COOKIE/1750963231819, effective_at=2025-06-26 18:40:31.819000\n\nTime to validate C_step4pm1x/347c97cc006817a96e85b72aab33642a46f458ff0f24b755dc20c79cedb7741f/CASH_BACKUP_TAG/1750958946014: 17.68 seconds\nℹ️ C_step4pm1x/347c97cc006817a96e85b72aab33642a46f458ff0f24b755dc20c79cedb7741f/CASH_BACKUP_TAG/1750958946014: No target account holders with active accounts found\n\n\nProcessing event 8/10: C_nawkrpyb8/10c2df82a17c21149ff8a7c1269fa452638cf110/CASH_OPAQUE_APP_TOKEN/1750958574154, effective_at=2025-06-26 17:22:54.154000\n\nTime to validate C_8jem2ama8/68104dcbcda3bf2f7841d130a073c58adacbd6b24d67b31c9b730849b1f9297f/CASH_BACKUP_TAG/1750965793822: 21.87 seconds\n✅ C_8jem2ama8/68104dcbcda3bf2f7841d130a073c58adacbd6b24d67b31c9b730849b1f9297f/CASH_BACKUP_TAG/1750965793822: All validations passed\n\n\nProcessing event 5/10: C_04ezpams0/fbdb36c1-a379-472f-9587-4a966e0c5e78/TRACKING_COOKIE/1750956031002, effective_at=2025-06-26 16:40:31.002000\n\nTime to validate C_8jerdamsg/ddf09d19-d484-4383-a265-15f90806ff41/TRACKING_COOKIE/1750960107176: 7.50 seconds\nℹ️ C_8jerdamsg/ddf09d19-d484-4383-a265-15f90806ff41/TRACKING_COOKIE/1750960107176: No account holder found for source account\n\n\nProcessing event 7/10: C_00c028mny/fc9e2c87f0cfc80c045c8661170923e96ce9fcaedafd76da8bf32ed131528f78/CASH_BACKUP_TAG/1750959264972, effective_at=2025-06-26 17:34:24.972000\n\nTime to validate C_8t2n98y54/37f78bb26a1b6722ff36f6cc2d762074b30d345843bbf0bf5aabe496a52a09a2/CASH_BACKUP_TAG/1750961956268: 21.55 seconds\nℹ️ C_8t2n98y54/37f78bb26a1b6722ff36f6cc2d762074b30d345843bbf0bf5aabe496a52a09a2/CASH_BACKUP_TAG/1750961956268: No target account holders with active accounts found\n\n\nProcessing event 6/10: C_n022egytm/23a42919-206e-4156-bd86-ff3cc1461876/TRACKING_COOKIE/1750964169531, effective_at=2025-06-26 18:56:09.531000\n\nTime to validate C_n62vc8yq5/fid-1-61d3cb744996e9112121f9a4c9af99fd1bfa7dbc10fb778594332a3626a62d57/VERIFIED_SSN/1750967734904: 26.67 seconds\n✅ C_n62vc8yq5/fid-1-61d3cb744996e9112121f9a4c9af99fd1bfa7dbc10fb778594332a3626a62d57/VERIFIED_SSN/1750967734904: All validations passed\n\n\nProcessing event 10/10: C_5qem20mqg/43742c7d8ea6fcc1/CASH_DEVICE/1750963005045, effective_at=2025-06-26 18:36:45.045000\n\nTime to validate C_59ekcams3/fid-1-4028ba955bd144757ae55c7659589e5f1830fa27ddffbd73bc3cbff67a1316c8/PAYMENT_CARD/1750961557625: 24.38 seconds\n✅ C_59ekcams3/fid-1-4028ba955bd144757ae55c7659589e5f1830fa27ddffbd73bc3cbff67a1316c8/PAYMENT_CARD/1750961557625: All validations passed\n\n\nProcessing event 6/10: C_8sc8chmy0/a62c86c4-7771-46a8-ae98-066c07aaa14a/TRACKING_COOKIE/1750958993191, effective_at=2025-06-26 17:29:53.191000\n\nTime to validate C_06dxk0mv1/9be5d884-2b28-4023-824c-b6f4a4e2b3a6/TRACKING_COOKIE/1750963680169: 16.31 seconds\nℹ️ C_06dxk0mv1/9be5d884-2b28-4023-824c-b6f4a4e2b3a6/TRACKING_COOKIE/1750963680169: No shared assets found\n\n\nProcessing event 5/10: C_n42papm7y/4c1555ce-3b65-4e71-adce-ba732dc4a3ed/TRACKING_COOKIE/1750956699067, effective_at=2025-06-26 16:51:39.067000\n\nTime to validate C_5mdpwpysm/d4dfa1f31e10602239a97c64ff88dd92c3a1b2e110c852fb176e9c371553f6ae/CASH_BACKUP_TAG/1750958506064: 16.98 seconds\nℹ️ C_5mdpwpysm/d4dfa1f31e10602239a97c64ff88dd92c3a1b2e110c852fb176e9c371553f6ae/CASH_BACKUP_TAG/1750958506064: No target account holders with active accounts found\n\n\nProcessing event 8/10: C_fsdxw1ysj/b5ef5cf4-2373-4833-ab86-39b40cc73cb2/TRACKING_COOKIE/1750967707891, effective_at=2025-06-26 19:55:07.891000\n\nTime to validate C_5hpqjgy3a/113086e0-557d-4e79-880c-59c4dbf6840b/TRACKING_COOKIE/1750966446679: 16.75 seconds\nℹ️ C_5hpqjgy3a/113086e0-557d-4e79-880c-59c4dbf6840b/TRACKING_COOKIE/1750966446679: No shared assets found\n\n\nProcessing event 8/10: C_5tc2c1ykz/eb9b5380e4e53114241a2fe7d7556a62dc9101508eb7852d39b1bca1b99b3c97/CASH_BACKUP_TAG/1750956892962, effective_at=2025-06-26 16:54:52.962000\n\nTime to validate C_5qem20mqg/43742c7d8ea6fcc1/CASH_DEVICE/1750963005045: 7.02 seconds\nℹ️ C_5qem20mqg/43742c7d8ea6fcc1/CASH_DEVICE/1750963005045: No account holder found for source account\n\n\nValidation complete: 10/10 passed\n\nTiming statistics:\n- Average time per edge: 17.96 seconds\n- Fastest validation: 7.02 seconds\n- Slowest validation: 26.84 seconds\n- Total validation time: 179.61 seconds\n\nResults written to: bau_edge_validation/bau_edge_validation_20250701_030010.csv\nValidating 10 edges:\n- C_sjc428mye -> C6A00A3A-6916-4E39-9027-09F3EB047069 (CASH_DEVICE) @ 1750970679528\n- C_nse5agm5g -> 4c651434-e917-49e4-9845-2caa790be70a (TRACKING_COOKIE) @ 1750969264798\n- C_hhee91y8h -> 3af14b4c9557d81988acca5f2f5f4ddcf8c9d06895405f673f225e83a04eded9 (CASH_BACKUP_TAG) @ 1750957924365\n- C_f6ccppygc -> b4ca5782a432e40e65be4e15536410bbcb7df8e1d0ce1c06e020e6870ceaabb9 (CASH_BACKUP_TAG) @ 1750961851679\n- C_hcdwppywg -> 85b6e05b-7d7a-43bc-a34f-46c7875ed15d (TRACKING_COOKIE) @ 1750970764728\n- C_sjcsd1m4q -> d050cbe7c8879916 (CASH_DEVICE) @ 1750968534135\n- C_fjereqmfz -> d59cbee6c78b50ab44161f24f1c5ae2944db5d845a805383c398fb517b766bd8 (CASH_BACKUP_TAG) @ 1750956349738\n- C_nqe2pgyvr -> 6e0c7ef6-053c-4ab5-9116-848a7725a810 (TRACKING_COOKIE) @ 1750968958390\n- C_h428ppmye -> 8a37c1d8-1583-4e18-8ae6-ac113aeef70d (TRACKING_COOKIE) @ 1750960447821\n- C_0cey10y6k -> 8bc33d95-b8e0-4a5a-a6a7-d61d8143678c (TRACKING_COOKIE) @ 1750960713460\n\nCompleted batch 73/100\n\nProcessing event 1/10: C_sjc428mye/C6A00A3A-6916-4E39-9027-09F3EB047069/CASH_DEVICE/1750970679528, effective_at=2025-06-26 20:44:39.528000\n\nTime to validate C_04ezpams0/fbdb36c1-a379-472f-9587-4a966e0c5e78/TRACKING_COOKIE/1750956031002: 17.03 seconds\nℹ️ C_04ezpams0/fbdb36c1-a379-472f-9587-4a966e0c5e78/TRACKING_COOKIE/1750956031002: No shared assets found\n\n\nProcessing event 6/10: C_0hdep8yxk/3c96eadd-39d2-465c-a80d-a45245c3d79c/TRACKING_COOKIE/1750956735520, effective_at=2025-06-26 16:52:15.520000\n\nTime to validate C_00c028mny/fc9e2c87f0cfc80c045c8661170923e96ce9fcaedafd76da8bf32ed131528f78/CASH_BACKUP_TAG/1750959264972: 17.17 seconds\nℹ️ C_00c028mny/fc9e2c87f0cfc80c045c8661170923e96ce9fcaedafd76da8bf32ed131528f78/CASH_BACKUP_TAG/1750959264972: No target account holders with active accounts found\n\n\nProcessing event 8/10: C_5qeg2qmfg/fc1124a863f86f6be1387b475844e2093451268c984eb6c6baf25b597a39cbfe/CASH_BACKUP_TAG/1750962886390, effective_at=2025-06-26 18:34:46.390000\n\nTime to validate C_sjc428mye/C6A00A3A-6916-4E39-9027-09F3EB047069/CASH_DEVICE/1750970679528: 4.54 seconds\nℹ️ C_sjc428mye/C6A00A3A-6916-4E39-9027-09F3EB047069/CASH_DEVICE/1750970679528: No account holder found for source account\n\n\nProcessing event 2/10: C_nse5agm5g/4c651434-e917-49e4-9845-2caa790be70a/TRACKING_COOKIE/1750969264798, effective_at=2025-06-26 20:21:04.798000\n\nTime to validate C_f6d2aqyza/71aa3a1e-2661-4593-b080-f89703bbd6dd/TRACKING_COOKIE/1750963231819: 19.83 seconds\nℹ️ C_f6d2aqyza/71aa3a1e-2661-4593-b080-f89703bbd6dd/TRACKING_COOKIE/1750963231819: No shared assets found\n\n\nProcessing event 6/10: C_gmdc1aysk/7cedfdc4-4cbb-4610-ab6c-e033c0b63a4d/TRACKING_COOKIE/1750970474235, effective_at=2025-06-26 20:41:14.235000\n\nTime to validate C_n022egytm/23a42919-206e-4156-bd86-ff3cc1461876/TRACKING_COOKIE/1750964169531: 15.33 seconds\nℹ️ C_n022egytm/23a42919-206e-4156-bd86-ff3cc1461876/TRACKING_COOKIE/1750964169531: No shared assets found\n\n\nProcessing event 7/10: C_5qegcqm1g/D68C674A-DE19-481F-96DD-330F4113D5E6/CASH_DEVICE/1750962667116, effective_at=2025-06-26 18:31:07.116000\n\nTime to validate C_nawkrpyb8/10c2df82a17c21149ff8a7c1269fa452638cf110/CASH_OPAQUE_APP_TOKEN/1750958574154: 22.85 seconds\n✅ C_nawkrpyb8/10c2df82a17c21149ff8a7c1269fa452638cf110/CASH_OPAQUE_APP_TOKEN/1750958574154: All validations passed\n\n\nProcessing event 9/10: C_09c1egm2q/ccaa7d5d229d4d7f27acb83bc8661ca76da2a78a/CASH_OPAQUE_APP_TOKEN/1750969942062, effective_at=2025-06-26 20:32:22.062000\n\nTime to validate C_fsdxw1ysj/b5ef5cf4-2373-4833-ab86-39b40cc73cb2/TRACKING_COOKIE/1750967707891: 15.87 seconds\nℹ️ C_fsdxw1ysj/b5ef5cf4-2373-4833-ab86-39b40cc73cb2/TRACKING_COOKIE/1750967707891: No shared assets found\n\n\nProcessing event 9/10: C_54egc0mq8/a1b595465a6615b7777ec306bccfd71120f298b7848dba5ced1f2a784c336d3e/CASH_BACKUP_TAG/1750966498524, effective_at=2025-06-26 19:34:58.524000\n\nTime to validate C_5qegcqm1g/D68C674A-DE19-481F-96DD-330F4113D5E6/CASH_DEVICE/1750962667116: 4.06 seconds\nℹ️ C_5qegcqm1g/D68C674A-DE19-481F-96DD-330F4113D5E6/CASH_DEVICE/1750962667116: No account holder found for source account\n\n\nProcessing event 8/10: C_5jesdamaz/fid-1-8cd47f33dc6114f22b19e476fb1c70dbb6e4ac527efd82d2855a27975b7c2500/SSN/1750963484198, effective_at=2025-06-26 18:44:44.198000\n\nTime to validate C_09c1egm2q/ccaa7d5d229d4d7f27acb83bc8661ca76da2a78a/CASH_OPAQUE_APP_TOKEN/1750969942062: 5.33 seconds\nℹ️ C_09c1egm2q/ccaa7d5d229d4d7f27acb83bc8661ca76da2a78a/CASH_OPAQUE_APP_TOKEN/1750969942062: No account holder found for source account\n\n\nProcessing event 10/10: C_hxdx9pyy5/f3cefeaa-6f53-47d8-a049-b136888fbdd5/TRACKING_COOKIE/1750965433577, effective_at=2025-06-26 19:17:13.577000\n\nTime to validate C_8sc8chmy0/a62c86c4-7771-46a8-ae98-066c07aaa14a/TRACKING_COOKIE/1750958993191: 22.45 seconds\nℹ️ C_8sc8chmy0/a62c86c4-7771-46a8-ae98-066c07aaa14a/TRACKING_COOKIE/1750958993191: No shared assets found\n\n\nProcessing event 7/10: C_hqetjqy6b/B9C2C8C9-0D24-4411-968C-985DF7A4FC10/CASH_DEVICE/1750961339385, effective_at=2025-06-26 18:08:59.385000\n\nTime to validate C_5tc2c1ykz/eb9b5380e4e53114241a2fe7d7556a62dc9101508eb7852d39b1bca1b99b3c97/CASH_BACKUP_TAG/1750956892962: 18.28 seconds\nℹ️ C_5tc2c1ykz/eb9b5380e4e53114241a2fe7d7556a62dc9101508eb7852d39b1bca1b99b3c97/CASH_BACKUP_TAG/1750956892962: No target account holders with active accounts found\n\n\nProcessing event 9/10: C_59e3dqmgz/1b060a09b5b4c32e/CASH_DEVICE/1750966124639, effective_at=2025-06-26 19:28:44.639000\n\nTime to validate C_5qeg2qmfg/fc1124a863f86f6be1387b475844e2093451268c984eb6c6baf25b597a39cbfe/CASH_BACKUP_TAG/1750962886390: 14.84 seconds\nℹ️ C_5qeg2qmfg/fc1124a863f86f6be1387b475844e2093451268c984eb6c6baf25b597a39cbfe/CASH_BACKUP_TAG/1750962886390: No shared assets found\n\n\nProcessing event 9/10: C_gje92qmh8/33A76096-B53B-41F5-AE27-AF6A4D8041DA/CASH_DEVICE/1750957207204, effective_at=2025-06-26 17:00:07.204000\n\nTime to validate C_0hdep8yxk/3c96eadd-39d2-465c-a80d-a45245c3d79c/TRACKING_COOKIE/1750956735520: 16.70 seconds\nℹ️ C_0hdep8yxk/3c96eadd-39d2-465c-a80d-a45245c3d79c/TRACKING_COOKIE/1750956735520: No target account holders with active accounts found\n\n\nProcessing event 7/10: C_n9et98m3j/a51889e4-0554-4afb-8e0b-d83356cfb3c1/TRACKING_COOKIE/1750965368165, effective_at=2025-06-26 19:16:08.165000\n\nTime to validate C_59e3dqmgz/1b060a09b5b4c32e/CASH_DEVICE/1750966124639: 5.95 seconds\nℹ️ C_59e3dqmgz/1b060a09b5b4c32e/CASH_DEVICE/1750966124639: No account holder found for source account\n\n\nProcessing event 10/10: C_fje9c0mnz/ED489EF7-9B56-44D8-AFF8-F27B811E1F28/CASH_DEVICE/1750956452926, effective_at=2025-06-26 16:47:32.926000\n\nTime to validate C_n42papm7y/4c1555ce-3b65-4e71-adce-ba732dc4a3ed/TRACKING_COOKIE/1750956699067: 28.84 seconds\nℹ️ C_n42papm7y/4c1555ce-3b65-4e71-adce-ba732dc4a3ed/TRACKING_COOKIE/1750956699067: No target account holders with active accounts found\n\n\nProcessing event 6/10: C_naw34hyxj/db151c43-dd2e-46c2-9c1b-8e985b98258d/TRACKING_COOKIE/1750964208648, effective_at=2025-06-26 18:56:48.648000\n\nTime to validate C_gmdc1aysk/7cedfdc4-4cbb-4610-ab6c-e033c0b63a4d/TRACKING_COOKIE/1750970474235: 16.92 seconds\nℹ️ C_gmdc1aysk/7cedfdc4-4cbb-4610-ab6c-e033c0b63a4d/TRACKING_COOKIE/1750970474235: No shared assets found\n\n\nProcessing event 7/10: C_5qe720m98/1D6CFF67-8648-4BCE-8CDB-3DFCF4B77790/CASH_DEVICE/1750964827438, effective_at=2025-06-26 19:07:07.438000\n\nTime to validate C_gje92qmh8/33A76096-B53B-41F5-AE27-AF6A4D8041DA/CASH_DEVICE/1750957207204: 4.41 seconds\nℹ️ C_gje92qmh8/33A76096-B53B-41F5-AE27-AF6A4D8041DA/CASH_DEVICE/1750957207204: No account holder found for source account\n\n\nProcessing event 10/10: C_f9c8cpm69/f87fce3f-d767-4492-8e06-942b4c5222fe/TRACKING_COOKIE/1750955073256, effective_at=2025-06-26 16:24:33.256000\n\nTime to validate C_54egc0mq8/a1b595465a6615b7777ec306bccfd71120f298b7848dba5ced1f2a784c336d3e/CASH_BACKUP_TAG/1750966498524: 12.56 seconds\nℹ️ C_54egc0mq8/a1b595465a6615b7777ec306bccfd71120f298b7848dba5ced1f2a784c336d3e/CASH_BACKUP_TAG/1750966498524: No shared assets found\n\n\nProcessing event 10/10: C_59eqchmf3/943703e369da9aa206fcad9a44b1575f44887d00/CASH_OPAQUE_APP_TOKEN/1750961172547, effective_at=2025-06-26 18:06:12.547000\n\nTime to validate C_fje9c0mnz/ED489EF7-9B56-44D8-AFF8-F27B811E1F28/CASH_DEVICE/1750956452926: 5.27 seconds\nℹ️ C_fje9c0mnz/ED489EF7-9B56-44D8-AFF8-F27B811E1F28/CASH_DEVICE/1750956452926: No account holder found for source account\n\n\nValidation complete: 10/10 passed\n\nTiming statistics:\n- Average time per edge: 15.25 seconds\n- Fastest validation: 5.27 seconds\n- Slowest validation: 31.66 seconds\n- Total validation time: 152.53 seconds\n\nResults written to: bau_edge_validation/bau_edge_validation_20250701_030010.csv\nValidating 10 edges:\n- C_fjegdqmbz -> 82d5fc9fd240d1b3ec5a9e9b673ece343ffe2c9a (CASH_OPAQUE_APP_TOKEN) @ 1750958635092\n- C_5xdpdgm95 -> 789be1b1-1577-48d6-aa7a-b00b7341b9e6 (TRACKING_COOKIE) @ 1750952993455\n- C_n4eyd8ytn -> 0348fa1e-edb0-42c4-934c-f0062dd1cd3b (TRACKING_COOKIE) @ 1750955568048\n- C_syexcpmds -> 3d5ce3be-b581-40a1-b92d-c41e45daed73 (TRACKING_COOKIE) @ 1750962435803\n- C_g0e2p8m86 -> cbbcda2f-9c50-4092-a871-2674cea036cd (TRACKING_COOKIE) @ 1750962931988\n- C_s4crc1mtj -> A278F3DF-1C7B-4079-9F88-2B4E6A57C25C (CASH_DEVICE) @ 1750967779282\n- C_fjeew8msg -> 9efc50d6-d627-4b40-baa0-7f6e0d31a332 (TRACKING_COOKIE) @ 1750954647920\n- C_s62xxgmqy -> 4794b147-5950-4660-a413-e85e35995050 (TRACKING_COOKIE) @ 1750966519619\n- C_06epk1yy8 -> e979976868df5631ae044bf3e841ca6bf8a374ee087450429c75d500c02c7cd6 (CASH_BACKUP_TAG) @ 1750965554728\n- C_0mdjpgmgj -> c914dc167d19a26ce57128ded11407059c2adbdde928836b71f087e001739c86 (CASH_BACKUP_TAG) @ 1750964557463\n\nCompleted batch 74/100\n\nProcessing event 1/10: C_fjegdqmbz/82d5fc9fd240d1b3ec5a9e9b673ece343ffe2c9a/CASH_OPAQUE_APP_TOKEN/1750958635092, effective_at=2025-06-26 17:23:55.092000\n\nTime to validate C_nse5agm5g/4c651434-e917-49e4-9845-2caa790be70a/TRACKING_COOKIE/1750969264798: 22.42 seconds\nℹ️ C_nse5agm5g/4c651434-e917-49e4-9845-2caa790be70a/TRACKING_COOKIE/1750969264798: No shared assets found\n\n\nProcessing event 3/10: C_hhee91y8h/3af14b4c9557d81988acca5f2f5f4ddcf8c9d06895405f673f225e83a04eded9/CASH_BACKUP_TAG/1750957924365, effective_at=2025-06-26 17:12:04.365000\n\nTime to validate C_5jesdamaz/fid-1-8cd47f33dc6114f22b19e476fb1c70dbb6e4ac527efd82d2855a27975b7c2500/SSN/1750963484198: 15.14 seconds\nℹ️ C_5jesdamaz/fid-1-8cd47f33dc6114f22b19e476fb1c70dbb6e4ac527efd82d2855a27975b7c2500/SSN/1750963484198: No target account holders with active accounts found\n\n\nProcessing event 9/10: C_h4c21ayhm/9024d495-6138-44ad-bbee-b5853987bea6/TRACKING_COOKIE/1750967832457, effective_at=2025-06-26 19:57:12.457000\n\nTime to validate C_5qe720m98/1D6CFF67-8648-4BCE-8CDB-3DFCF4B77790/CASH_DEVICE/1750964827438: 6.31 seconds\nℹ️ C_5qe720m98/1D6CFF67-8648-4BCE-8CDB-3DFCF4B77790/CASH_DEVICE/1750964827438: No account holder found for source account\n\n\nProcessing event 8/10: C_nad290mkc/fid-1-923d7bf5ed96fd30a95e55ed16ef4c1dab339a16c196c07c6db56de4da3cf6c9/PAYMENT_CARD/1750954502105, effective_at=2025-06-26 16:15:02.105000\n\nTime to validate C_hxdx9pyy5/f3cefeaa-6f53-47d8-a049-b136888fbdd5/TRACKING_COOKIE/1750965433577: 16.15 seconds\nℹ️ C_hxdx9pyy5/f3cefeaa-6f53-47d8-a049-b136888fbdd5/TRACKING_COOKIE/1750965433577: No shared assets found\n\n\nValidation complete: 10/10 passed\n\nTiming statistics:\n- Average time per edge: 14.37 seconds\n- Fastest validation: 5.33 seconds\n- Slowest validation: 22.85 seconds\n- Total validation time: 143.69 seconds\n\nResults written to: bau_edge_validation/bau_edge_validation_20250701_030010.csv\nValidating 10 edges:\n- C_sqcfc8m4q -> 01d7bdb5ebdcacbf (CASH_DEVICE) @ 1750967376777\n- C_ste82pmzm -> 6a1d6301-4c4c-44ce-95cf-5ffeb6898de8 (TRACKING_COOKIE) @ 1750963272378\n- C_s4c1dgmkq -> 3d56ce3b028998159e7937f9e87e82c43dc54e37b250278d0fa0589af193934d (CASH_BACKUP_TAG) @ 1750970183703\n- C_8hen9hyjm -> e965b17c1e3a4de667ffc9f823d92030d103551010117674bcea650ca15c3702 (CASH_BACKUP_TAG) @ 1750971283070\n- C_59eb2qm03 -> d8fbdc12b8e0c9e59f3e7672b92600cf3de8dbbff491e6c042a1f04b4c323f4d (CASH_BACKUP_TAG) @ 1750960603183\n- C_0jcmc1mmq -> 8f0302a67bc4852851838e15b138f1cb1b777a84 (CASH_OPAQUE_APP_TOKEN) @ 1750970116220\n- C_h0c3aamng -> fid-1-4434153678ae85413b79552ab40e4972b169ce86c813bc19663440a779a85a14 (PAYMENT_CARD) @ 1750959727494\n- C_scepw1mgb -> 63015d7b-0563-46ae-9a8d-ac5cf7dcdcf6 (TRACKING_COOKIE) @ 1750956742034\n- C_50cpwqmcj -> 89177976-77B8-43B7-BCEF-B80944B7EE74 (CASH_DEVICE) @ 1750958384707\n- C_hae8d0mf2 -> 594dc31e-fd39-457f-9802-980b3c01da96 (TRACKING_COOKIE) @ 1750961354277\n\nProcessing event 1/10: C_sqcfc8m4q/01d7bdb5ebdcacbf/CASH_DEVICE/1750967376777, effective_at=2025-06-26 19:49:36.777000\n\nCompleted batch 75/100\n\nTime to validate C_59eqchmf3/943703e369da9aa206fcad9a44b1575f44887d00/CASH_OPAQUE_APP_TOKEN/1750961172547: 6.93 seconds\nℹ️ C_59eqchmf3/943703e369da9aa206fcad9a44b1575f44887d00/CASH_OPAQUE_APP_TOKEN/1750961172547: No account holder found for source account\n\n\nValidation complete: 10/10 passed\n\nTiming statistics:\n- Average time per edge: 14.92 seconds\n- Fastest validation: 4.31 seconds\n- Slowest validation: 23.28 seconds\n- Total validation time: 149.15 seconds\n\nResults written to: bau_edge_validation/bau_edge_validation_20250701_030010.csv\nValidating 10 edges:\n- C_sqcre1mtq -> fid-1-f6e1038543190349785ffb28212efe83663add30b7e978abe9db165521317ab0 (SSN) @ 1750968236616\n- C_5qe1chmsg -> 3A6D4C92-D3EB-4886-B5C2-B02E5E145E8B (CASH_DEVICE) @ 1750961797869\n- C_00eyd1mqa -> 97e4f84134f086c64a60b61eca6b49a302d5974c (CASH_OPAQUE_APP_TOKEN) @ 1750964139329\n- C_h4cepqmyt -> aec0480f-668e-465e-9ca5-bb49189361fc (TRACKING_COOKIE) @ 1750963446018\n- C_5qe6dam13 -> 02d521785e472ade0eac4f67d1f85fe6d836dfcd (CASH_OPAQUE_APP_TOKEN) @ 1750959566829\n- C_f9e32hm1z -> CF21F638-72E9-43CC-B103-35791EE553F4 (CASH_DEVICE) @ 1750957671952\n- C_ghdzjgy6p -> 0453884d-4109-44b3-a2df-a6488504c18d (TRACKING_COOKIE) @ 1750970756487\n- C_802er8yhx -> fid-1-3dee7b2f706fafed70f0f4ffcbbfb4e090c54365b257f73c0dd56c32463e7f72 (PAYMENT_CARD) @ 1750967852303\n- C_f6eh9pmhe -> 753e172b-50f6-4bfb-8bb9-01c24495d68d (TRACKING_COOKIE) @ 1750969504949\n- C_8je3eamp3 -> e61c077b33702e56866db09eaa85f3d3a859ca6bbff2112ff28914ef26fbf41a (CASH_BACKUP_TAG) @ 1750961289252\n\nCompleted batch 76/100\n\nProcessing event 1/10: C_sqcre1mtq/fid-1-f6e1038543190349785ffb28212efe83663add30b7e978abe9db165521317ab0/SSN/1750968236616, effective_at=2025-06-26 20:03:56.616000\n\nTime to validate C_fjegdqmbz/82d5fc9fd240d1b3ec5a9e9b673ece343ffe2c9a/CASH_OPAQUE_APP_TOKEN/1750958635092: 4.72 seconds\nℹ️ C_fjegdqmbz/82d5fc9fd240d1b3ec5a9e9b673ece343ffe2c9a/CASH_OPAQUE_APP_TOKEN/1750958635092: No account holder found for source account\n\n\nProcessing event 2/10: C_5xdpdgm95/789be1b1-1577-48d6-aa7a-b00b7341b9e6/TRACKING_COOKIE/1750952993455, effective_at=2025-06-26 15:49:53.455000\n\nTime to validate C_hqetjqy6b/B9C2C8C9-0D24-4411-968C-985DF7A4FC10/CASH_DEVICE/1750961339385: 18.01 seconds\nℹ️ C_hqetjqy6b/B9C2C8C9-0D24-4411-968C-985DF7A4FC10/CASH_DEVICE/1750961339385: No target account holders with active accounts found\n\n\nProcessing event 8/10: C_smdyehmby/ce71d02f-546b-4305-bdc2-80d8fe935c1d/TRACKING_COOKIE/1750962899514, effective_at=2025-06-26 18:34:59.514000\n\nTime to validate C_n9et98m3j/a51889e4-0554-4afb-8e0b-d83356cfb3c1/TRACKING_COOKIE/1750965368165: 15.50 seconds\nℹ️ C_n9et98m3j/a51889e4-0554-4afb-8e0b-d83356cfb3c1/TRACKING_COOKIE/1750965368165: No target account holders with active accounts found\n\n\nProcessing event 8/10: C_80cpd8mmc/e1deffcbbbafba485aef2a53e390ffab46abb7cf613c67172a478dc92092f79b/CASH_BACKUP_TAG/1750957690886, effective_at=2025-06-26 17:08:10.886000\n\nTime to validate C_sqcfc8m4q/01d7bdb5ebdcacbf/CASH_DEVICE/1750967376777: 7.97 seconds\nℹ️ C_sqcfc8m4q/01d7bdb5ebdcacbf/CASH_DEVICE/1750967376777: No account holder found for source account\n\n\nProcessing event 2/10: C_ste82pmzm/6a1d6301-4c4c-44ce-95cf-5ffeb6898de8/TRACKING_COOKIE/1750963272378, effective_at=2025-06-26 18:41:12.378000\n\nTime to validate C_naw34hyxj/db151c43-dd2e-46c2-9c1b-8e985b98258d/TRACKING_COOKIE/1750964208648: 17.98 seconds\nℹ️ C_naw34hyxj/db151c43-dd2e-46c2-9c1b-8e985b98258d/TRACKING_COOKIE/1750964208648: No target account holders with active accounts found\n\n\nProcessing event 7/10: C_5jcy18y7y/3e979436-d211-430b-87b7-c5fd12775167/TRACKING_COOKIE/1750955105016, effective_at=2025-06-26 16:25:05.016000\n\nTime to validate C_sqcre1mtq/fid-1-f6e1038543190349785ffb28212efe83663add30b7e978abe9db165521317ab0/SSN/1750968236616: 15.20 seconds\nℹ️ C_sqcre1mtq/fid-1-f6e1038543190349785ffb28212efe83663add30b7e978abe9db165521317ab0/SSN/1750968236616: No shared assets found\n\n\nProcessing event 2/10: C_5qe1chmsg/3A6D4C92-D3EB-4886-B5C2-B02E5E145E8B/CASH_DEVICE/1750961797869, effective_at=2025-06-26 18:16:37.869000\n\nTime to validate C_f9c8cpm69/f87fce3f-d767-4492-8e06-942b4c5222fe/TRACKING_COOKIE/1750955073256: 22.77 seconds\nℹ️ C_f9c8cpm69/f87fce3f-d767-4492-8e06-942b4c5222fe/TRACKING_COOKIE/1750955073256: No target account holders with active accounts found\n\n\nValidation complete: 10/10 passed\n\nTiming statistics:\n- Average time per edge: 14.35 seconds\n- Fastest validation: 4.41 seconds\n- Slowest validation: 22.77 seconds\n- Total validation time: 143.45 seconds\n\nResults written to: bau_edge_validation/bau_edge_validation_20250701_030010.csv\nValidating 10 edges:\n- C_gjda10yfp -> cc3b45c18b968bcd278d147b3355e24c9711fba0d3230d8220079a8012d31564 (CASH_BACKUP_TAG) @ 1750962876076\n- C_56d5c8ydm -> ddb9acc905c37bf6b2dd837266b3906594836d8331714cad1a971e90c98c0cbb (CASH_BACKUP_TAG) @ 1750962230614\n- C_s6eh2am2m -> 75b611b30ef5cb23656c00e46f24eea0a61b542e013d49ffc50ced62869408d0 (CASH_BACKUP_TAG) @ 1750966352773\n- C_54efd0ms3 -> 74710429818ad20a4f463b1b0f7bd4a7808cd909 (PHONE_NUMBER) @ 1750960677081\n- C_002ckpmcy -> 52cc361936453361d7296a177fa1ec6fc77223e2 (CASH_OPAQUE_APP_TOKEN) @ 1750959059011\n- C_5e2wkpmbq -> 55d54419-2e52-4ebc-81d2-ee11eedb6784 (TRACKING_COOKIE) @ 1750953734944\n- C_5je6eqm5g -> 9ED47C3A-ED1E-4514-8EC5-BAE0B8E4E575 (CASH_DEVICE) @ 1750960788114\n- C_fjeqdqmnz -> 81e7a3964763accd4a48b84345c99000d53e9b6147626ecf37c4709f7dfcb17e (CASH_BACKUP_TAG) @ 1750958721982\n- C_g02e9qm9n -> 4647ab33-fc0b-4776-a8ef-3bdd3b2b804d (TRACKING_COOKIE) @ 1750957186286\n- C_g9egd0m18 -> fid-1-21ce35577a9a80733aa2b2e93c871bf2d56e378b71f16a58c16aac2a2e8638d2 (VERIFIED_SSN) @ 1750959089805\n\nCompleted batch 77/100\n\nProcessing event 1/10: C_gjda10yfp/cc3b45c18b968bcd278d147b3355e24c9711fba0d3230d8220079a8012d31564/CASH_BACKUP_TAG/1750962876076, effective_at=2025-06-26 18:34:36.076000\n\nTime to validate C_nad290mkc/fid-1-923d7bf5ed96fd30a95e55ed16ef4c1dab339a16c196c07c6db56de4da3cf6c9/PAYMENT_CARD/1750954502105: 17.83 seconds\nℹ️ C_nad290mkc/fid-1-923d7bf5ed96fd30a95e55ed16ef4c1dab339a16c196c07c6db56de4da3cf6c9/PAYMENT_CARD/1750954502105: No target account holders with active accounts found\n\n\nProcessing event 9/10: C_5qcd20mcg/4d0645cb000835c02581dc40bab8350e843e975b/CASH_OPAQUE_APP_TOKEN/1750962268812, effective_at=2025-06-26 18:24:28.812000\n\nTime to validate C_h4c21ayhm/9024d495-6138-44ad-bbee-b5853987bea6/TRACKING_COOKIE/1750967832457: 20.03 seconds\nℹ️ C_h4c21ayhm/9024d495-6138-44ad-bbee-b5853987bea6/TRACKING_COOKIE/1750967832457: No target account holders with active accounts found\n\n\nProcessing event 10/10: C_fje9damhz/6e0e005c7e69a8b7f90c9c784a6e1a782f1b9bc2/CASH_OPAQUE_APP_TOKEN/1750955696355, effective_at=2025-06-26 16:34:56.355000\n\nTime to validate C_hhee91y8h/3af14b4c9557d81988acca5f2f5f4ddcf8c9d06895405f673f225e83a04eded9/CASH_BACKUP_TAG/1750957924365: 20.53 seconds\nℹ️ C_hhee91y8h/3af14b4c9557d81988acca5f2f5f4ddcf8c9d06895405f673f225e83a04eded9/CASH_BACKUP_TAG/1750957924365: No target account holders with active accounts found\n\n\nProcessing event 4/10: C_f6ccppygc/b4ca5782a432e40e65be4e15536410bbcb7df8e1d0ce1c06e020e6870ceaabb9/CASH_BACKUP_TAG/1750961851679, effective_at=2025-06-26 18:17:31.679000\n\nTime to validate C_smdyehmby/ce71d02f-546b-4305-bdc2-80d8fe935c1d/TRACKING_COOKIE/1750962899514: 14.89 seconds\nℹ️ C_smdyehmby/ce71d02f-546b-4305-bdc2-80d8fe935c1d/TRACKING_COOKIE/1750962899514: No shared assets found\n\n\nProcessing event 9/10: C_84egchm0z/da3c00142259f8ef38d7dd1e18165eab808b3856/CASH_OPAQUE_APP_TOKEN/1750965129311, effective_at=2025-06-26 19:12:09.311000\n\nTime to validate C_5qe1chmsg/3A6D4C92-D3EB-4886-B5C2-B02E5E145E8B/CASH_DEVICE/1750961797869: 3.88 seconds\nℹ️ C_5qe1chmsg/3A6D4C92-D3EB-4886-B5C2-B02E5E145E8B/CASH_DEVICE/1750961797869: No account holder found for source account\n\n\nProcessing event 3/10: C_00eyd1mqa/97e4f84134f086c64a60b61eca6b49a302d5974c/CASH_OPAQUE_APP_TOKEN/1750964139329, effective_at=2025-06-26 18:55:39.329000\n"
     ]
    },
    {
     "output_type": "stream",
     "name": "stderr",
     "output_type": "stream",
     "text": [
      "/databricks/python/lib/python3.9/site-packages/snowflake/connector/vendored/urllib3/contrib/pyopenssl.py:474: DeprecationWarning: Attempting to mutate a Context after a Connection was created. In the future, this will raise an exception\n  return self._ctx.set_alpn_protos(protocols)\n"
     ]
    },
    {
     "output_type": "stream",
     "name": "stdout",
     "output_type": "stream",
     "text": [
      "\nTime to validate C_5xdpdgm95/789be1b1-1577-48d6-aa7a-b00b7341b9e6/TRACKING_COOKIE/1750952993455: 21.20 seconds\nℹ️ C_5xdpdgm95/789be1b1-1577-48d6-aa7a-b00b7341b9e6/TRACKING_COOKIE/1750952993455: No shared assets found\n\n\nProcessing event 3/10: C_n4eyd8ytn/0348fa1e-edb0-42c4-934c-f0062dd1cd3b/TRACKING_COOKIE/1750955568048, effective_at=2025-06-26 16:32:48.048000\n\nTime to validate C_ste82pmzm/6a1d6301-4c4c-44ce-95cf-5ffeb6898de8/TRACKING_COOKIE/1750963272378: 15.19 seconds\nℹ️ C_ste82pmzm/6a1d6301-4c4c-44ce-95cf-5ffeb6898de8/TRACKING_COOKIE/1750963272378: No shared assets found\n\n\nProcessing event 3/10: C_s4c1dgmkq/3d56ce3b028998159e7937f9e87e82c43dc54e37b250278d0fa0589af193934d/CASH_BACKUP_TAG/1750970183703, effective_at=2025-06-26 20:36:23.703000\n\nTime to validate C_80cpd8mmc/e1deffcbbbafba485aef2a53e390ffab46abb7cf613c67172a478dc92092f79b/CASH_BACKUP_TAG/1750957690886: 17.72 seconds\nℹ️ C_80cpd8mmc/e1deffcbbbafba485aef2a53e390ffab46abb7cf613c67172a478dc92092f79b/CASH_BACKUP_TAG/1750957690886: No target account holders with active accounts found\n\n\nProcessing event 9/10: C_sje3apm18/05083e14afb1229fad030add1806b77a81a1205b80fd26ec2d2c2805390e51b6/CASH_BACKUP_TAG/1750956231665, effective_at=2025-06-26 16:43:51.665000\n\nTime to validate C_fje9damhz/6e0e005c7e69a8b7f90c9c784a6e1a782f1b9bc2/CASH_OPAQUE_APP_TOKEN/1750955696355: 6.92 seconds\nℹ️ C_fje9damhz/6e0e005c7e69a8b7f90c9c784a6e1a782f1b9bc2/CASH_OPAQUE_APP_TOKEN/1750955696355: No account holder found for source account\n\n\nValidation complete: 10/10 passed\n\nTiming statistics:\n- Average time per edge: 12.06 seconds\n- Fastest validation: 4.06 seconds\n- Slowest validation: 21.55 seconds\n- Total validation time: 120.58 seconds\n\nResults written to: bau_edge_validation/bau_edge_validation_20250701_030010.csv\nValidating 10 edges:\n- C_8y2xx1mzx -> 2bb126c8-f5bb-4eb7-b424-46d5a1184a69 (TRACKING_COOKIE) @ 1750968149580\n- C_n9c3a1mfr -> e6139ea2-0ce9-45da-8a02-e38444bae205 (TRACKING_COOKIE) @ 1750956914634\n- C_fnw4kqy5r -> ae2e6c0efd72580602f1248ef12281cf83806d08b9e616efa5c65ed108c1c8dc (CASH_BACKUP_TAG) @ 1750967599049\n- C_ntcxpgmzb -> 0730b440-ac8d-4a5d-80e6-166b48cd55ed (TRACKING_COOKIE) @ 1750955873233\n- C_s4cfcgmye -> 3b9fdc7cebea17555381c1f7cb8564cc0ad6de14 (CASH_OPAQUE_APP_TOKEN) @ 1750971463698\n- C_84e0cqmgz -> 6bdb601c323e5d3f (CASH_DEVICE) @ 1750965956548\n- C_sqc4c8m3a -> 8735008f563ee8cc26294ec8354c34c09e7682a23308b200ef076fbdd70d208d (CASH_BACKUP_TAG) @ 1750970802111\n- C_f9deahmra -> f08485fc314e364e487686dd5ac6373cf2bc79bb585bb41888963f4b31bcf2b2 (CASH_BACKUP_TAG) @ 1750968363964\n- C_0se5a0m4p -> f99fbff85f9d1efcb15e078f687c66ec228852fbc81fc5cbebecd6886da28859 (CASH_BACKUP_TAG) @ 1750955748019\n- C_59escqmg8 -> 9216234B-FDEA-48A5-9488-5BFF9F696ACA (CASH_DEVICE) @ 1750964515346\n\nCompleted batch 78/100\n\nProcessing event 1/10: C_8y2xx1mzx/2bb126c8-f5bb-4eb7-b424-46d5a1184a69/TRACKING_COOKIE/1750968149580, effective_at=2025-06-26 20:02:29.580000\n\nTime to validate C_5jcy18y7y/3e979436-d211-430b-87b7-c5fd12775167/TRACKING_COOKIE/1750955105016: 14.14 seconds\nℹ️ C_5jcy18y7y/3e979436-d211-430b-87b7-c5fd12775167/TRACKING_COOKIE/1750955105016: No shared assets found\n\n\nProcessing event 8/10: C_8qe9dqmaz/20a52672763a234cf375e16ec778e5d379414d21da1d0f5bd9685824e3b04e7a/CASH_BACKUP_TAG/1750964355761, effective_at=2025-06-26 18:59:15.761000\n\nTime to validate C_84egchm0z/da3c00142259f8ef38d7dd1e18165eab808b3856/CASH_OPAQUE_APP_TOKEN/1750965129311: 7.83 seconds\nℹ️ C_84egchm0z/da3c00142259f8ef38d7dd1e18165eab808b3856/CASH_OPAQUE_APP_TOKEN/1750965129311: No account holder found for source account\n\n\nProcessing event 10/10: C_f9c2qqmnw/3adc0778-c367-4b7c-aa2d-9407979d0c11/TRACKING_COOKIE/1750962852512, effective_at=2025-06-26 18:34:12.512000\n\nTime to validate C_5qcd20mcg/4d0645cb000835c02581dc40bab8350e843e975b/CASH_OPAQUE_APP_TOKEN/1750962268812: 18.66 seconds\nℹ️ C_5qcd20mcg/4d0645cb000835c02581dc40bab8350e843e975b/CASH_OPAQUE_APP_TOKEN/1750962268812: No target account holders with active accounts found\n\n\nProcessing event 10/10: C_8he5q0mdr/35407445-eaed-4300-9c94-fc3976d63248/TRACKING_COOKIE/1750955526763, effective_at=2025-06-26 16:32:06.763000\n\nTime to validate C_gjda10yfp/cc3b45c18b968bcd278d147b3355e24c9711fba0d3230d8220079a8012d31564/CASH_BACKUP_TAG/1750962876076: 19.29 seconds\nℹ️ C_gjda10yfp/cc3b45c18b968bcd278d147b3355e24c9711fba0d3230d8220079a8012d31564/CASH_BACKUP_TAG/1750962876076: No target account holders with active accounts found\n\n\nProcessing event 2/10: C_56d5c8ydm/ddb9acc905c37bf6b2dd837266b3906594836d8331714cad1a971e90c98c0cbb/CASH_BACKUP_TAG/1750962230614, effective_at=2025-06-26 18:23:50.614000\n\nTime to validate C_f6ccppygc/b4ca5782a432e40e65be4e15536410bbcb7df8e1d0ce1c06e020e6870ceaabb9/CASH_BACKUP_TAG/1750961851679: 19.60 seconds\nℹ️ C_f6ccppygc/b4ca5782a432e40e65be4e15536410bbcb7df8e1d0ce1c06e020e6870ceaabb9/CASH_BACKUP_TAG/1750961851679: No target account holders with active accounts found\n\n\nProcessing event 5/10: C_hcdwppywg/85b6e05b-7d7a-43bc-a34f-46c7875ed15d/TRACKING_COOKIE/1750970764728, effective_at=2025-06-26 20:46:04.728000\n\nTime to validate C_s4c1dgmkq/3d56ce3b028998159e7937f9e87e82c43dc54e37b250278d0fa0589af193934d/CASH_BACKUP_TAG/1750970183703: 16.90 seconds\nℹ️ C_s4c1dgmkq/3d56ce3b028998159e7937f9e87e82c43dc54e37b250278d0fa0589af193934d/CASH_BACKUP_TAG/1750970183703: No shared assets found\n\n\nProcessing event 4/10: C_8hen9hyjm/e965b17c1e3a4de667ffc9f823d92030d103551010117674bcea650ca15c3702/CASH_BACKUP_TAG/1750971283070, effective_at=2025-06-26 20:54:43.070000\n\nTime to validate C_8y2xx1mzx/2bb126c8-f5bb-4eb7-b424-46d5a1184a69/TRACKING_COOKIE/1750968149580: 16.61 seconds\nℹ️ C_8y2xx1mzx/2bb126c8-f5bb-4eb7-b424-46d5a1184a69/TRACKING_COOKIE/1750968149580: No shared assets found\n\n\nProcessing event 2/10: C_n9c3a1mfr/e6139ea2-0ce9-45da-8a02-e38444bae205/TRACKING_COOKIE/1750956914634, effective_at=2025-06-26 16:55:14.634000\n\nTime to validate C_8qe9dqmaz/20a52672763a234cf375e16ec778e5d379414d21da1d0f5bd9685824e3b04e7a/CASH_BACKUP_TAG/1750964355761: 16.63 seconds\nℹ️ C_8qe9dqmaz/20a52672763a234cf375e16ec778e5d379414d21da1d0f5bd9685824e3b04e7a/CASH_BACKUP_TAG/1750964355761: No shared assets found\n\n\nProcessing event 9/10: C_ssd2cpypm/bba5803d-ebaf-4f56-9e2f-4f1a1f6baea7/TRACKING_COOKIE/1750963788937, effective_at=2025-06-26 18:49:48.937000\n\nTime to validate C_n4eyd8ytn/0348fa1e-edb0-42c4-934c-f0062dd1cd3b/TRACKING_COOKIE/1750955568048: 18.37 seconds\nℹ️ C_n4eyd8ytn/0348fa1e-edb0-42c4-934c-f0062dd1cd3b/TRACKING_COOKIE/1750955568048: No target account holders with active accounts found\n\n\nProcessing event 4/10: C_syexcpmds/3d5ce3be-b581-40a1-b92d-c41e45daed73/TRACKING_COOKIE/1750962435803, effective_at=2025-06-26 18:27:15.803000\n\nTime to validate C_sje3apm18/05083e14afb1229fad030add1806b77a81a1205b80fd26ec2d2c2805390e51b6/CASH_BACKUP_TAG/1750956231665: 18.08 seconds\nℹ️ C_sje3apm18/05083e14afb1229fad030add1806b77a81a1205b80fd26ec2d2c2805390e51b6/CASH_BACKUP_TAG/1750956231665: No target account holders with active accounts found\n\n\nProcessing event 10/10: C_54c8dhywh/5e6b6fad-1bd6-45df-91dd-7904f3f88483/TRACKING_COOKIE/1750963571408, effective_at=2025-06-26 18:46:11.408000\n\nTime to validate C_f9c2qqmnw/3adc0778-c367-4b7c-aa2d-9407979d0c11/TRACKING_COOKIE/1750962852512: 16.26 seconds\nℹ️ C_f9c2qqmnw/3adc0778-c367-4b7c-aa2d-9407979d0c11/TRACKING_COOKIE/1750962852512: No shared assets found\n\n\nValidation complete: 10/10 passed\n\nTiming statistics:\n- Average time per edge: 16.97 seconds\n- Fastest validation: 7.83 seconds\n- Slowest validation: 24.38 seconds\n- Total validation time: 169.70 seconds\n\nResults written to: bau_edge_validation/bau_edge_validation_20250701_030010.csv\nValidating 10 edges:\n- C_5cd5j0y7r -> 7e052901-4c5b-4c6c-a9c8-97e53bc00849 (TRACKING_COOKIE) @ 1750968109081\n- C_00czcpm6j -> fid-1-d4dfd125b549e34f51bb1be00c406fa2538866d5184fc58ab5c142ab5a676357 (PAYMENT_CARD) @ 1750961116310\n- C_5tcveqms0 -> 82ec074d-2f6f-4a08-ba98-37a589586fb8 (TRACKING_COOKIE) @ 1750968459011\n- C_89e1eqm98 -> d7c4a6e2038aea0a4da06fb9a52c0d37284dd0f1053e919f920cd94f8d7b98fa (CASH_BACKUP_TAG) @ 1750966439342\n- C_0jcmdpmcj -> 1D571F79-1DCC-4120-87AF-30CCA7432CB1 (CASH_DEVICE) @ 1750968962195\n- C_8jeqcamhz -> C72EC4F4-ACB7-4ECA-B899-B901A4302E37 (CASH_DEVICE) @ 1750965059318\n- C_sjc1epm4q -> 6c2f801e848cba960458eef2f9b6b1e68f7a9c27399a05f96169f851fc4e434b (CASH_BACKUP_TAG) @ 1750969172275\n- C_gcps4qyvs -> 9bcff432-734e-4bec-bfe4-4b33d6f7bc01 (TRACKING_COOKIE) @ 1750971341029\n- C_g9eaxpmyc -> 91be12a4-7487-46ca-86f0-f44e0b72bd1b (TRACKING_COOKIE) @ 1750970900686\n- C_8qes20ms8 -> 32D154A4-2701-4692-B71D-5C40DC415F09 (CASH_DEVICE) @ 1750964843253\n\nProcessing event 1/10: C_5cd5j0y7r/7e052901-4c5b-4c6c-a9c8-97e53bc00849/TRACKING_COOKIE/1750968109081, effective_at=2025-06-26 20:01:49.081000\n\nCompleted batch 79/100\n\nTime to validate C_00eyd1mqa/97e4f84134f086c64a60b61eca6b49a302d5974c/CASH_OPAQUE_APP_TOKEN/1750964139329: 24.37 seconds\n✅ C_00eyd1mqa/97e4f84134f086c64a60b61eca6b49a302d5974c/CASH_OPAQUE_APP_TOKEN/1750964139329: All validations passed\n\n\nProcessing event 4/10: C_h4cepqmyt/aec0480f-668e-465e-9ca5-bb49189361fc/TRACKING_COOKIE/1750963446018, effective_at=2025-06-26 18:44:06.018000\n\nTime to validate C_hcdwppywg/85b6e05b-7d7a-43bc-a34f-46c7875ed15d/TRACKING_COOKIE/1750970764728: 15.82 seconds\nℹ️ C_hcdwppywg/85b6e05b-7d7a-43bc-a34f-46c7875ed15d/TRACKING_COOKIE/1750970764728: No shared assets found\n\n\nProcessing event 6/10: C_sjcsd1m4q/d050cbe7c8879916/CASH_DEVICE/1750968534135, effective_at=2025-06-26 20:08:54.135000\n\nTime to validate C_8he5q0mdr/35407445-eaed-4300-9c94-fc3976d63248/TRACKING_COOKIE/1750955526763: 17.82 seconds\nℹ️ C_8he5q0mdr/35407445-eaed-4300-9c94-fc3976d63248/TRACKING_COOKIE/1750955526763: No shared assets found\n\n\nValidation complete: 10/10 passed\n\nTiming statistics:\n- Average time per edge: 13.21 seconds\n- Fastest validation: 4.91 seconds\n- Slowest validation: 19.83 seconds\n- Total validation time: 132.12 seconds\n\nResults written to: bau_edge_validation/bau_edge_validation_20250701_030010.csv\nValidating 10 edges:\n- C_fxdhbgmp2 -> a1a7cd07-d81c-4562-becb-5da1fdfa9af1 (TRACKING_COOKIE) @ 1750968946212\n- C_8ewmr1y99 -> 010AA339-832F-42E0-96D6-5BCA350374C4 (CASH_DEVICE) @ 1750966715268\n- C_5a2y2gmr8 -> b588a060cfa815686e4e4fca3ff7634aca58b2250774fa0bb4cba1e4c6f56d67 (CASH_BACKUP_TAG) @ 1750953945857\n- C_092wp1m4w -> c583daafd08e233ee51ca78ce98a6b0e97b15ae83a5fa0e795ad4ef2460948e4 (CASH_BACKUP_TAG) @ 1750966457249\n- C_hm2yaambj -> 570fe940-8251-4de6-ac1b-7fdf841290be (TRACKING_COOKIE) @ 1750955897339\n- C_54cvaamkr -> 93973813-acc2-4be3-99ad-b02fd782beeb (TRACKING_COOKIE) @ 1750953244303\n- C_0mcv2qyw1 -> ef189813-b185-4d43-ab64-76b49da7f356 (TRACKING_COOKIE) @ 1750957816067\n- C_nqchjqmt5 -> 9ba3efa9-410f-43a2-ac5f-f3a0dd939f31 (TRACKING_COOKIE) @ 1750957488431\n- C_0xearpmbb -> 1e3fc25c859449ea82c25b7bda770c98da3e4ea8bd544317cd252065cd61d3b2 (CASH_BACKUP_TAG) @ 1750955257168\n- C_njeh1qydm -> 27f95232c789cb0fd0ada7c6fce17e73e48c44f2cedfce45e73b7e0e151b8b9b (CASH_BACKUP_TAG) @ 1750966772972\n\nCompleted batch 80/100\n\nProcessing event 1/10: C_fxdhbgmp2/a1a7cd07-d81c-4562-becb-5da1fdfa9af1/TRACKING_COOKIE/1750968946212, effective_at=2025-06-26 20:15:46.212000\n\nTime to validate C_sjcsd1m4q/d050cbe7c8879916/CASH_DEVICE/1750968534135: 3.34 seconds\nℹ️ C_sjcsd1m4q/d050cbe7c8879916/CASH_DEVICE/1750968534135: No account holder found for source account\n\n\nProcessing event 7/10: C_fjereqmfz/d59cbee6c78b50ab44161f24f1c5ae2944db5d845a805383c398fb517b766bd8/CASH_BACKUP_TAG/1750956349738, effective_at=2025-06-26 16:45:49.738000\n\nTime to validate C_ssd2cpypm/bba5803d-ebaf-4f56-9e2f-4f1a1f6baea7/TRACKING_COOKIE/1750963788937: 15.44 seconds\nℹ️ C_ssd2cpypm/bba5803d-ebaf-4f56-9e2f-4f1a1f6baea7/TRACKING_COOKIE/1750963788937: No shared assets found\n\n\nProcessing event 10/10: C_0schqgm2a/fid-1-a670b42f41fd25f2ad7a2f43b403c7911ce789154df97444228b82adea22381b/PAYMENT_CARD/1750962873642, effective_at=2025-06-26 18:34:33.642000\n\nTime to validate C_n9c3a1mfr/e6139ea2-0ce9-45da-8a02-e38444bae205/TRACKING_COOKIE/1750956914634: 15.61 seconds\nℹ️ C_n9c3a1mfr/e6139ea2-0ce9-45da-8a02-e38444bae205/TRACKING_COOKIE/1750956914634: No shared assets found\n\n\nProcessing event 3/10: C_fnw4kqy5r/ae2e6c0efd72580602f1248ef12281cf83806d08b9e616efa5c65ed108c1c8dc/CASH_BACKUP_TAG/1750967599049, effective_at=2025-06-26 19:53:19.049000\n\nTime to validate C_h4cepqmyt/aec0480f-668e-465e-9ca5-bb49189361fc/TRACKING_COOKIE/1750963446018: 15.07 seconds\nℹ️ C_h4cepqmyt/aec0480f-668e-465e-9ca5-bb49189361fc/TRACKING_COOKIE/1750963446018: No shared assets found\n\n\nProcessing event 5/10: C_5qe6dam13/02d521785e472ade0eac4f67d1f85fe6d836dfcd/CASH_OPAQUE_APP_TOKEN/1750959566829, effective_at=2025-06-26 17:39:26.829000\n\nTime to validate C_syexcpmds/3d5ce3be-b581-40a1-b92d-c41e45daed73/TRACKING_COOKIE/1750962435803: 19.92 seconds\nℹ️ C_syexcpmds/3d5ce3be-b581-40a1-b92d-c41e45daed73/TRACKING_COOKIE/1750962435803: No shared assets found\n\n\nProcessing event 5/10: C_g0e2p8m86/cbbcda2f-9c50-4092-a871-2674cea036cd/TRACKING_COOKIE/1750962931988, effective_at=2025-06-26 18:35:31.988000\n\nTime to validate C_8hen9hyjm/e965b17c1e3a4de667ffc9f823d92030d103551010117674bcea650ca15c3702/CASH_BACKUP_TAG/1750971283070: 21.23 seconds\nℹ️ C_8hen9hyjm/e965b17c1e3a4de667ffc9f823d92030d103551010117674bcea650ca15c3702/CASH_BACKUP_TAG/1750971283070: No target account holders with active accounts found\n\n\nProcessing event 5/10: C_59eb2qm03/d8fbdc12b8e0c9e59f3e7672b92600cf3de8dbbff491e6c042a1f04b4c323f4d/CASH_BACKUP_TAG/1750960603183, effective_at=2025-06-26 17:56:43.183000\n\nTime to validate C_5cd5j0y7r/7e052901-4c5b-4c6c-a9c8-97e53bc00849/TRACKING_COOKIE/1750968109081: 18.76 seconds\nℹ️ C_5cd5j0y7r/7e052901-4c5b-4c6c-a9c8-97e53bc00849/TRACKING_COOKIE/1750968109081: No shared assets found\n\n\nProcessing event 2/10: C_00czcpm6j/fid-1-d4dfd125b549e34f51bb1be00c406fa2538866d5184fc58ab5c142ab5a676357/PAYMENT_CARD/1750961116310, effective_at=2025-06-26 18:05:16.310000\n\nTime to validate C_54c8dhywh/5e6b6fad-1bd6-45df-91dd-7904f3f88483/TRACKING_COOKIE/1750963571408: 22.02 seconds\nℹ️ C_54c8dhywh/5e6b6fad-1bd6-45df-91dd-7904f3f88483/TRACKING_COOKIE/1750963571408: No target account holders with active accounts found\n\n\nValidation complete: 10/10 passed\n\nTiming statistics:\n- Average time per edge: 17.27 seconds\n- Fastest validation: 6.52 seconds\n- Slowest validation: 22.02 seconds\n- Total validation time: 172.73 seconds\n\nResults written to: bau_edge_validation/bau_edge_validation_20250701_030010.csv\nValidating 10 edges:\n- C_ssdz18m67 -> ebd1aa0880adfe5611f3374c63f53438aefc961073e5d01e8dc634658abbb8b9 (CASH_BACKUP_TAG) @ 1750960181911\n- C_h9dyway3g -> 9a3008b6-7458-4d7b-ba98-955dfc83030a (TRACKING_COOKIE) @ 1750971335075\n- C_0sdyqhm0f -> 42744bdb-583e-4af8-81b7-76648508ecf2 (TRACKING_COOKIE) @ 1750959858964\n- C_gydt4qmd1 -> d0cc4e5a-326f-4b6d-96a1-fc9840206b98 (TRACKING_COOKIE) @ 1750969890881\n- C_0qcjc8mmq -> 69e5bd4b0207fdfbbc26da6415b05dd03df2c1f7566743b014b521be8debdb34 (CASH_BACKUP_TAG) @ 1750969107909\n- C_s9dyphykm -> 3eefe804-443d-4bbd-8650-0a8085e810d7 (TRACKING_COOKIE) @ 1750969743449\n- C_0tecxhy2w -> 4a0521d08f32d0f6bb4d4fc02f0be532fba7a83b (CASH_OPAQUE_APP_TOKEN) @ 1750959241610\n- C_h6cnx0me4 -> 0b6d1a89-1c44-4241-a9b0-f99e06b1055f (TRACKING_COOKIE) @ 1750965569872\n- C_s4e8wqmxr -> e21991ee-d206-4d84-9722-674cfcb91493 (TRACKING_COOKIE) @ 1750961699197\n- C_h4c8p1mh4 -> 6D6C600C-4368-4FEE-9BD9-865E375BBDB8 (CASH_DEVICE) @ 1750957807218\n\nProcessing event 1/10: C_ssdz18m67/ebd1aa0880adfe5611f3374c63f53438aefc961073e5d01e8dc634658abbb8b9/CASH_BACKUP_TAG/1750960181911, effective_at=2025-06-26 17:49:41.911000\n\nCompleted batch 81/100\n\nTime to validate C_5qe6dam13/02d521785e472ade0eac4f67d1f85fe6d836dfcd/CASH_OPAQUE_APP_TOKEN/1750959566829: 4.38 seconds\nℹ️ C_5qe6dam13/02d521785e472ade0eac4f67d1f85fe6d836dfcd/CASH_OPAQUE_APP_TOKEN/1750959566829: No account holder found for source account\n\n\nProcessing event 6/10: C_f9e32hm1z/CF21F638-72E9-43CC-B103-35791EE553F4/CASH_DEVICE/1750957671952, effective_at=2025-06-26 17:07:51.952000\n\nTime to validate C_fxdhbgmp2/a1a7cd07-d81c-4562-becb-5da1fdfa9af1/TRACKING_COOKIE/1750968946212: 13.32 seconds\nℹ️ C_fxdhbgmp2/a1a7cd07-d81c-4562-becb-5da1fdfa9af1/TRACKING_COOKIE/1750968946212: No shared assets found\n\n\nProcessing event 2/10: C_8ewmr1y99/010AA339-832F-42E0-96D6-5BCA350374C4/CASH_DEVICE/1750966715268, effective_at=2025-06-26 19:38:35.268000\n\nTime to validate C_fjereqmfz/d59cbee6c78b50ab44161f24f1c5ae2944db5d845a805383c398fb517b766bd8/CASH_BACKUP_TAG/1750956349738: 11.90 seconds\nℹ️ C_fjereqmfz/d59cbee6c78b50ab44161f24f1c5ae2944db5d845a805383c398fb517b766bd8/CASH_BACKUP_TAG/1750956349738: No shared assets found\n\n\nProcessing event 8/10: C_nqe2pgyvr/6e0c7ef6-053c-4ab5-9116-848a7725a810/TRACKING_COOKIE/1750968958390, effective_at=2025-06-26 20:15:58.390000\n\nTime to validate C_f9e32hm1z/CF21F638-72E9-43CC-B103-35791EE553F4/CASH_DEVICE/1750957671952: 6.64 seconds\nℹ️ C_f9e32hm1z/CF21F638-72E9-43CC-B103-35791EE553F4/CASH_DEVICE/1750957671952: No account holder found for source account\n\n\nProcessing event 7/10: C_ghdzjgy6p/0453884d-4109-44b3-a2df-a6488504c18d/TRACKING_COOKIE/1750970756487, effective_at=2025-06-26 20:45:56.487000\n\nTime to validate C_0schqgm2a/fid-1-a670b42f41fd25f2ad7a2f43b403c7911ce789154df97444228b82adea22381b/PAYMENT_CARD/1750962873642: 16.37 seconds\nℹ️ C_0schqgm2a/fid-1-a670b42f41fd25f2ad7a2f43b403c7911ce789154df97444228b82adea22381b/PAYMENT_CARD/1750962873642: No target account holders with active accounts found\n\n\nValidation complete: 10/10 passed\n\nTiming statistics:\n- Average time per edge: 17.52 seconds\n- Fastest validation: 14.14 seconds\n- Slowest validation: 28.84 seconds\n- Total validation time: 175.20 seconds\n\nResults written to: bau_edge_validation/bau_edge_validation_20250701_030010.csv\nValidating 10 edges:\n- C_f9e3e0mx8 -> 7100c874e7d01718 (CASH_DEVICE) @ 1750958962143\n- C_gjcnw8mkk -> ad859b90-2468-4e80-80e4-4791457132bb (TRACKING_COOKIE) @ 1750968235597\n- C_5je4c0m2h -> 1ec07031-cbea-43d3-acf6-2f36da80c621 (TRACKING_COOKIE) @ 1750965199868\n- C_g9egeamwz -> ab8ef122c3e31a2f0454523f1d65a4d4523e8a072d888df48b3d8b4d758e19bb (CASH_BACKUP_TAG) @ 1750957397832\n- C_nncz10y2p -> 07e571de0486f3dcbc424073c124294ffe4d2148 (PHONE_NUMBER) @ 1750953653760\n- C_5qc221ms1 -> 4ab93eaf-b013-4a35-9814-d1a764b670ea (TRACKING_COOKIE) @ 1750957841554\n- C_f9eqc0mw8 -> 195ad89411c71267bdc8c8b291555f030b4bd78b2d927aff11777b8f8b0338d8 (CASH_BACKUP_TAG) @ 1750958779698\n- C_fc2prhm6p -> ac41914956f0b1a7e076e7481268e56a9fd905edc36ff019c824e6db47e96667 (CASH_BACKUP_TAG) @ 1750967305174\n- C_fqejdhm9z -> fid-1-095cbf402817e9dc972b31e751b2f1a69798ca6ee66eb65ffbc5384c573de6ca (SSN) @ 1750958088452\n- C_g4ek2amng -> f3c95e59cc2883fe (CASH_DEVICE) @ 1750954169937\n\nCompleted batch 82/100\n\nProcessing event 1/10: C_f9e3e0mx8/7100c874e7d01718/CASH_DEVICE/1750958962143, effective_at=2025-06-26 17:29:22.143000\n\nTime to validate C_fnw4kqy5r/ae2e6c0efd72580602f1248ef12281cf83806d08b9e616efa5c65ed108c1c8dc/CASH_BACKUP_TAG/1750967599049: 16.82 seconds\nℹ️ C_fnw4kqy5r/ae2e6c0efd72580602f1248ef12281cf83806d08b9e616efa5c65ed108c1c8dc/CASH_BACKUP_TAG/1750967599049: No target account holders with active accounts found\n\n\nProcessing event 4/10: C_ntcxpgmzb/0730b440-ac8d-4a5d-80e6-166b48cd55ed/TRACKING_COOKIE/1750955873233, effective_at=2025-06-26 16:37:53.233000\n\nTime to validate C_59eb2qm03/d8fbdc12b8e0c9e59f3e7672b92600cf3de8dbbff491e6c042a1f04b4c323f4d/CASH_BACKUP_TAG/1750960603183: 12.22 seconds\nℹ️ C_59eb2qm03/d8fbdc12b8e0c9e59f3e7672b92600cf3de8dbbff491e6c042a1f04b4c323f4d/CASH_BACKUP_TAG/1750960603183: No shared assets found\n\n\nProcessing event 6/10: C_0jcmc1mmq/8f0302a67bc4852851838e15b138f1cb1b777a84/CASH_OPAQUE_APP_TOKEN/1750970116220, effective_at=2025-06-26 20:35:16.220000\n\nTime to validate C_g0e2p8m86/cbbcda2f-9c50-4092-a871-2674cea036cd/TRACKING_COOKIE/1750962931988: 14.77 seconds\nℹ️ C_g0e2p8m86/cbbcda2f-9c50-4092-a871-2674cea036cd/TRACKING_COOKIE/1750962931988: No shared assets found\n\n\nProcessing event 6/10: C_s4crc1mtj/A278F3DF-1C7B-4079-9F88-2B4E6A57C25C/CASH_DEVICE/1750967779282, effective_at=2025-06-26 19:56:19.282000\n\nTime to validate C_f9e3e0mx8/7100c874e7d01718/CASH_DEVICE/1750958962143: 5.17 seconds\nℹ️ C_f9e3e0mx8/7100c874e7d01718/CASH_DEVICE/1750958962143: No account holder found for source account\n\n\nProcessing event 2/10: C_gjcnw8mkk/ad859b90-2468-4e80-80e4-4791457132bb/TRACKING_COOKIE/1750968235597, effective_at=2025-06-26 20:03:55.597000\n\nTime to validate C_00czcpm6j/fid-1-d4dfd125b549e34f51bb1be00c406fa2538866d5184fc58ab5c142ab5a676357/PAYMENT_CARD/1750961116310: 17.34 seconds\nℹ️ C_00czcpm6j/fid-1-d4dfd125b549e34f51bb1be00c406fa2538866d5184fc58ab5c142ab5a676357/PAYMENT_CARD/1750961116310: No shared assets found\n\n\nProcessing event 3/10: C_5tcveqms0/82ec074d-2f6f-4a08-ba98-37a589586fb8/TRACKING_COOKIE/1750968459011, effective_at=2025-06-26 20:07:39.011000\n\nTime to validate C_0jcmc1mmq/8f0302a67bc4852851838e15b138f1cb1b777a84/CASH_OPAQUE_APP_TOKEN/1750970116220: 5.61 seconds\nℹ️ C_0jcmc1mmq/8f0302a67bc4852851838e15b138f1cb1b777a84/CASH_OPAQUE_APP_TOKEN/1750970116220: No account holder found for source account\n\n\nProcessing event 7/10: C_h0c3aamng/fid-1-4434153678ae85413b79552ab40e4972b169ce86c813bc19663440a779a85a14/PAYMENT_CARD/1750959727494, effective_at=2025-06-26 17:42:07.494000\n\nTime to validate C_s4crc1mtj/A278F3DF-1C7B-4079-9F88-2B4E6A57C25C/CASH_DEVICE/1750967779282: 3.99 seconds\nℹ️ C_s4crc1mtj/A278F3DF-1C7B-4079-9F88-2B4E6A57C25C/CASH_DEVICE/1750967779282: No account holder found for source account\n\n\nProcessing event 7/10: C_fjeew8msg/9efc50d6-d627-4b40-baa0-7f6e0d31a332/TRACKING_COOKIE/1750954647920, effective_at=2025-06-26 16:17:27.920000\n\nTime to validate C_nqe2pgyvr/6e0c7ef6-053c-4ab5-9116-848a7725a810/TRACKING_COOKIE/1750968958390: 12.03 seconds\nℹ️ C_nqe2pgyvr/6e0c7ef6-053c-4ab5-9116-848a7725a810/TRACKING_COOKIE/1750968958390: No shared assets found\n\n\nProcessing event 9/10: C_h428ppmye/8a37c1d8-1583-4e18-8ae6-ac113aeef70d/TRACKING_COOKIE/1750960447821, effective_at=2025-06-26 17:54:07.821000\n\nTime to validate C_ghdzjgy6p/0453884d-4109-44b3-a2df-a6488504c18d/TRACKING_COOKIE/1750970756487: 12.43 seconds\nℹ️ C_ghdzjgy6p/0453884d-4109-44b3-a2df-a6488504c18d/TRACKING_COOKIE/1750970756487: No shared assets found\n\n\nProcessing event 8/10: C_802er8yhx/fid-1-3dee7b2f706fafed70f0f4ffcbbfb4e090c54365b257f73c0dd56c32463e7f72/PAYMENT_CARD/1750967852303, effective_at=2025-06-26 19:57:32.303000\n\nTime to validate C_ssdz18m67/ebd1aa0880adfe5611f3374c63f53438aefc961073e5d01e8dc634658abbb8b9/CASH_BACKUP_TAG/1750960181911: 19.93 seconds\nℹ️ C_ssdz18m67/ebd1aa0880adfe5611f3374c63f53438aefc961073e5d01e8dc634658abbb8b9/CASH_BACKUP_TAG/1750960181911: No target account holders with active accounts found\n\n\nProcessing event 2/10: C_h9dyway3g/9a3008b6-7458-4d7b-ba98-955dfc83030a/TRACKING_COOKIE/1750971335075, effective_at=2025-06-26 20:55:35.075000\n\nTime to validate C_ntcxpgmzb/0730b440-ac8d-4a5d-80e6-166b48cd55ed/TRACKING_COOKIE/1750955873233: 15.39 seconds\nℹ️ C_ntcxpgmzb/0730b440-ac8d-4a5d-80e6-166b48cd55ed/TRACKING_COOKIE/1750955873233: No shared assets found\n\n\nProcessing event 5/10: C_s4cfcgmye/3b9fdc7cebea17555381c1f7cb8564cc0ad6de14/CASH_OPAQUE_APP_TOKEN/1750971463698, effective_at=2025-06-26 20:57:43.698000\n\nTime to validate C_8ewmr1y99/010AA339-832F-42E0-96D6-5BCA350374C4/CASH_DEVICE/1750966715268: 25.21 seconds\n✅ C_8ewmr1y99/010AA339-832F-42E0-96D6-5BCA350374C4/CASH_DEVICE/1750966715268: All validations passed\n\n\nProcessing event 3/10: C_5a2y2gmr8/b588a060cfa815686e4e4fca3ff7634aca58b2250774fa0bb4cba1e4c6f56d67/CASH_BACKUP_TAG/1750953945857, effective_at=2025-06-26 16:05:45.857000\n\nTime to validate C_s4cfcgmye/3b9fdc7cebea17555381c1f7cb8564cc0ad6de14/CASH_OPAQUE_APP_TOKEN/1750971463698: 3.51 seconds\nℹ️ C_s4cfcgmye/3b9fdc7cebea17555381c1f7cb8564cc0ad6de14/CASH_OPAQUE_APP_TOKEN/1750971463698: No account holder found for source account\n\n\nProcessing event 6/10: C_84e0cqmgz/6bdb601c323e5d3f/CASH_DEVICE/1750965956548, effective_at=2025-06-26 19:25:56.548000\n\nTime to validate C_5tcveqms0/82ec074d-2f6f-4a08-ba98-37a589586fb8/TRACKING_COOKIE/1750968459011: 14.72 seconds\nℹ️ C_5tcveqms0/82ec074d-2f6f-4a08-ba98-37a589586fb8/TRACKING_COOKIE/1750968459011: No shared assets found\n\n\nProcessing event 4/10: C_89e1eqm98/d7c4a6e2038aea0a4da06fb9a52c0d37284dd0f1053e919f920cd94f8d7b98fa/CASH_BACKUP_TAG/1750966439342, effective_at=2025-06-26 19:33:59.342000\n\nTime to validate C_gjcnw8mkk/ad859b90-2468-4e80-80e4-4791457132bb/TRACKING_COOKIE/1750968235597: 15.99 seconds\nℹ️ C_gjcnw8mkk/ad859b90-2468-4e80-80e4-4791457132bb/TRACKING_COOKIE/1750968235597: No target account holders with active accounts found\n\n\nProcessing event 3/10: C_5je4c0m2h/1ec07031-cbea-43d3-acf6-2f36da80c621/TRACKING_COOKIE/1750965199868, effective_at=2025-06-26 19:13:19.868000\n\nTime to validate C_h0c3aamng/fid-1-4434153678ae85413b79552ab40e4972b169ce86c813bc19663440a779a85a14/PAYMENT_CARD/1750959727494: 15.87 seconds\nℹ️ C_h0c3aamng/fid-1-4434153678ae8\n\n*** WARNING: max output size exceeded, skipping output. ***\n\n6/CASH_DEVICE/1750971490856: 4.60 seconds\nℹ️ C_0qcsdgmke/C402AEE7-2F0E-46E2-B376-2E1C7F955D36/CASH_DEVICE/1750971490856: No account holder found for source account\n\n\nProcessing event 2/10: C_g6cdxgmbj/397ae2acd75bc998/CASH_DEVICE/1750967514033, effective_at=2025-06-26 19:51:54.033000\n\nTime to validate C_86cdrgyhq/916d3a3a8a6420951a6a1f637de8d5153fbf2c7e771acda71b06cc61179dece1/CASH_BACKUP_TAG/1750960264510: 20.46 seconds\nℹ️ C_86cdrgyhq/916d3a3a8a6420951a6a1f637de8d5153fbf2c7e771acda71b06cc61179dece1/CASH_BACKUP_TAG/1750960264510: No target account holders with active accounts found\n\n\nProcessing event 5/10: C_h9e3dhmr2/58c2ee1f-736c-4a16-9cbd-feb3ed99d6a6/TRACKING_COOKIE/1750957527919, effective_at=2025-06-26 17:05:27.919000\n\nTime to validate C_59e6d0mb8/38327e38c656938a/CASH_DEVICE/1750964753116: 6.70 seconds\nℹ️ C_59e6d0mb8/38327e38c656938a/CASH_DEVICE/1750964753116: No account holder found for source account\n\n\nProcessing event 4/10: C_84d2r0mbe/199744ea-d3aa-4684-bf41-2c820406460d/TRACKING_COOKIE/1750957951921, effective_at=2025-06-26 17:12:31.921000\n\nTime to validate C_f62w4gyh8/c3062c74-6a96-475d-8d7e-e2633d54a94e/TRACKING_COOKIE/1750954109014: 15.60 seconds\nℹ️ C_f62w4gyh8/c3062c74-6a96-475d-8d7e-e2633d54a94e/TRACKING_COOKIE/1750954109014: No shared assets found\n\n\nProcessing event 9/10: C_0jc0e8m3q/AC4EED39-8E02-4CDD-8AEE-5B4DF6070D6D/CASH_DEVICE/1750969080738, effective_at=2025-06-26 20:18:00.738000\n\nTime to validate C_s4e8wqmxr/e21991ee-d206-4d84-9722-674cfcb91493/TRACKING_COOKIE/1750961699197: 19.91 seconds\nℹ️ C_s4e8wqmxr/e21991ee-d206-4d84-9722-674cfcb91493/TRACKING_COOKIE/1750961699197: No shared assets found\n\n\nProcessing event 10/10: C_h4c8p1mh4/6D6C600C-4368-4FEE-9BD9-865E375BBDB8/CASH_DEVICE/1750957807218, effective_at=2025-06-26 17:10:07.218000\n\nTime to validate C_5e2wkpmbq/55d54419-2e52-4ebc-81d2-ee11eedb6784/TRACKING_COOKIE/1750953734944: 66.86 seconds\nℹ️ C_5e2wkpmbq/55d54419-2e52-4ebc-81d2-ee11eedb6784/TRACKING_COOKIE/1750953734944: No shared assets found\n\n\nProcessing event 7/10: C_5je6eqm5g/9ED47C3A-ED1E-4514-8EC5-BAE0B8E4E575/CASH_DEVICE/1750960788114, effective_at=2025-06-26 17:59:48.114000\n\nTime to validate C_fqejdhm9z/fid-1-095cbf402817e9dc972b31e751b2f1a69798ca6ee66eb65ffbc5384c573de6ca/SSN/1750958088452: 27.77 seconds\n✅ C_fqejdhm9z/fid-1-095cbf402817e9dc972b31e751b2f1a69798ca6ee66eb65ffbc5384c573de6ca/SSN/1750958088452: All validations passed\n\n\nProcessing event 10/10: C_g4ek2amng/f3c95e59cc2883fe/CASH_DEVICE/1750954169937, effective_at=2025-06-26 16:09:29.937000\n\nTime to validate C_fjeje0mq3/ac880c1a92c388946ec77c22cf54e480773cae69/EMAIL/1750954410656: 15.53 seconds\nℹ️ C_fjeje0mq3/ac880c1a92c388946ec77c22cf54e480773cae69/EMAIL/1750954410656: No shared assets found\n\n\nProcessing event 9/10: C_f6cacqmz1/28f6c74a-4962-42a4-a2cd-10855433ffae/TRACKING_COOKIE/1750967579326, effective_at=2025-06-26 19:52:59.326000\n\nTime to validate C_89emdqmaz/8fcbf322d9ebcf124af5762d9f5c6bb1c79c434a40987e9f23b8fac08bdf8ef5/CASH_BACKUP_TAG/1750966235001: 11.88 seconds\nℹ️ C_89emdqmaz/8fcbf322d9ebcf124af5762d9f5c6bb1c79c434a40987e9f23b8fac08bdf8ef5/CASH_BACKUP_TAG/1750966235001: No shared assets found\n\n\nProcessing event 6/10: C_fa2ddgm4n/ae52eb8e-21c7-41ae-884e-4af9ddb61cb4/TRACKING_COOKIE/1750959956682, effective_at=2025-06-26 17:45:56.682000\n\nTime to validate C_0jc0e8m3q/AC4EED39-8E02-4CDD-8AEE-5B4DF6070D6D/CASH_DEVICE/1750969080738: 6.14 seconds\nℹ️ C_0jc0e8m3q/AC4EED39-8E02-4CDD-8AEE-5B4DF6070D6D/CASH_DEVICE/1750969080738: No account holder found for source account\n\n\nProcessing event 10/10: C_0jc92gmrj/f7d6b3caac0f6234b3b7d7045e544e90747e006d/CASH_OPAQUE_APP_TOKEN/1750967883010, effective_at=2025-06-26 19:58:03.010000\n\nTime to validate C_5je6eqm5g/9ED47C3A-ED1E-4514-8EC5-BAE0B8E4E575/CASH_DEVICE/1750960788114: 7.08 seconds\nℹ️ C_5je6eqm5g/9ED47C3A-ED1E-4514-8EC5-BAE0B8E4E575/CASH_DEVICE/1750960788114: No account holder found for source account\n\n\nProcessing event 8/10: C_fjeqdqmnz/81e7a3964763accd4a48b84345c99000d53e9b6147626ecf37c4709f7dfcb17e/CASH_BACKUP_TAG/1750958721982, effective_at=2025-06-26 17:25:21.982000\n\nTime to validate C_5qeme0mbg/d4a5e96f7134ce5872c90a3fe95bd596017f16eb5667d8909a8f9b1e8cfc6ee8/CASH_BACKUP_TAG/1750962662461: 15.75 seconds\nℹ️ C_5qeme0mbg/d4a5e96f7134ce5872c90a3fe95bd596017f16eb5667d8909a8f9b1e8cfc6ee8/CASH_BACKUP_TAG/1750962662461: No shared assets found\n\n\nProcessing event 10/10: C_gsepe8yy5/ACDCDBE6-4965-4D37-B1CC-27C7781E5299/CASH_DEVICE/1750961703168, effective_at=2025-06-26 18:15:03.168000\n\nTime to validate C_g4ek2amng/f3c95e59cc2883fe/CASH_DEVICE/1750954169937: 6.33 seconds\nℹ️ C_g4ek2amng/f3c95e59cc2883fe/CASH_DEVICE/1750954169937: No account holder found for source account\n\n\nValidation complete: 10/10 passed\n\nTiming statistics:\n- Average time per edge: 15.98 seconds\n- Fastest validation: 5.17 seconds\n- Slowest validation: 27.77 seconds\n- Total validation time: 159.81 seconds\n\nResults written to: bau_edge_validation/bau_edge_validation_20250701_030010.csv\nValidating 10 edges:\n- C_0qc6c1mje -> 44cde60b366e7cbf1cfd279006d1f023f5cf437317cd81d212138c722bda6693 (CASH_BACKUP_TAG) @ 1750971375035\n- C_sq2ta8mqe -> e930ca1d631006198b8e196ea8f0ff94c0f15f34 (CASH_OPAQUE_APP_TOKEN) @ 1750957088047\n- C_89e12amh3 -> 1BDC2DBE-F2BF-4CA5-B1C8-F4DB4FC6E95F (CASH_DEVICE) @ 1750961553291\n- C_sqed40m3b -> 8D5F7892-E3A1-4312-8C1D-AA30CBEE34FE (CASH_DEVICE) @ 1750965624632\n- C_gmezxhmcz -> 0b4fa0a3-f1e4-415b-a6e8-7074a5df2cd6 (TRACKING_COOKIE) @ 1750957686724\n- C_sm2vc1ynq -> 6919f0a9-276b-4e25-8711-6f0cfa7b9b83 (TRACKING_COOKIE) @ 1750968046731\n- C_8jemehmh8 -> 7DA924C4-3C6F-4046-89EE-EB73EA14EA7B (CASH_DEVICE) @ 1750965554182\n- C_sjcsepm2q -> d17a7eb2c890c8c6 (CASH_DEVICE) @ 1750967265852\n- C_s9c4egmjj -> E5DAAE7B-615A-4C9D-ABE2-E1903A91FC9A (CASH_DEVICE) @ 1750967771615\n- C_0m2eppyjm -> 6732fa22-3d63-438c-86c0-bf55106a086a (TRACKING_COOKIE) @ 1750961817784\n\nProcessing event 1/10: C_0qc6c1mje/44cde60b366e7cbf1cfd279006d1f023f5cf437317cd81d212138c722bda6693/CASH_BACKUP_TAG/1750971375035, effective_at=2025-06-26 20:56:15.035000\n\nCompleted batch 90/100\n\nTime to validate C_h9e3dhmr2/58c2ee1f-736c-4a16-9cbd-feb3ed99d6a6/TRACKING_COOKIE/1750957527919: 14.76 seconds\nℹ️ C_h9e3dhmr2/58c2ee1f-736c-4a16-9cbd-feb3ed99d6a6/TRACKING_COOKIE/1750957527919: No shared assets found\n\n\nProcessing event 6/10: C_5hw9r8y11/7599d198d59955c346745d2fd1c9245eabcfd73f96e229c227620ca005c6b093/CASH_BACKUP_TAG/1750968270975, effective_at=2025-06-26 20:04:30.975000\n\nTime to validate C_84d2r0mbe/199744ea-d3aa-4684-bf41-2c820406460d/TRACKING_COOKIE/1750957951921: 13.82 seconds\nℹ️ C_84d2r0mbe/199744ea-d3aa-4684-bf41-2c820406460d/TRACKING_COOKIE/1750957951921: No shared assets found\n\n\nProcessing event 5/10: C_n0dxe8yha/6a01f50b-a384-45b4-9b62-eda995011f86/TRACKING_COOKIE/1750953252936, effective_at=2025-06-26 15:54:12.936000\n\nTime to validate C_0jc92gmrj/f7d6b3caac0f6234b3b7d7045e544e90747e006d/CASH_OPAQUE_APP_TOKEN/1750967883010: 8.05 seconds\nℹ️ C_0jc92gmrj/f7d6b3caac0f6234b3b7d7045e544e90747e006d/CASH_OPAQUE_APP_TOKEN/1750967883010: No account holder found for source account\n\n\nValidation complete: 10/10 passed\n\nTiming statistics:\n- Average time per edge: 9.73 seconds\n- Fastest validation: 2.95 seconds\n- Slowest validation: 18.82 seconds\n- Total validation time: 97.30 seconds\n\nResults written to: bau_edge_validation/bau_edge_validation_20250701_030010.csv\n\nCompleted batch 91/100\n\nTime to validate C_g6cdxgmbj/397ae2acd75bc998/CASH_DEVICE/1750967514033: 18.42 seconds\nℹ️ C_g6cdxgmbj/397ae2acd75bc998/CASH_DEVICE/1750967514033: No target account holders with active accounts found\n\n\nProcessing event 3/10: C_s4cf21m2e/F1D57E48-310C-4821-B1ED-B2E538EC8494/CASH_DEVICE/1750971536173, effective_at=2025-06-26 20:58:56.173000\n\nTime to validate C_h4c8p1mh4/6D6C600C-4368-4FEE-9BD9-865E375BBDB8/CASH_DEVICE/1750957807218: 17.24 seconds\nℹ️ C_h4c8p1mh4/6D6C600C-4368-4FEE-9BD9-865E375BBDB8/CASH_DEVICE/1750957807218: No target account holders with active accounts found\n\n\nValidation complete: 10/10 passed\n\nTiming statistics:\n- Average time per edge: 17.73 seconds\n- Fastest validation: 12.81 seconds\n- Slowest validation: 26.04 seconds\n- Total validation time: 177.31 seconds\n\nResults written to: bau_edge_validation/bau_edge_validation_20250701_030010.csv\n\nCompleted batch 92/100\n\nTime to validate C_s4cf21m2e/F1D57E48-310C-4821-B1ED-B2E538EC8494/CASH_DEVICE/1750971536173: 3.76 seconds\nℹ️ C_s4cf21m2e/F1D57E48-310C-4821-B1ED-B2E538EC8494/CASH_DEVICE/1750971536173: No account holder found for source account\n\n\nProcessing event 4/10: C_g9ebcam5z/99ffdd42aa1304f01ae8eb5b05ae06f11714bc0b/CASH_OPAQUE_APP_TOKEN/1750955321368, effective_at=2025-06-26 16:28:41.368000\n\nTime to validate C_fa2ddgm4n/ae52eb8e-21c7-41ae-884e-4af9ddb61cb4/TRACKING_COOKIE/1750959956682: 17.41 seconds\nℹ️ C_fa2ddgm4n/ae52eb8e-21c7-41ae-884e-4af9ddb61cb4/TRACKING_COOKIE/1750959956682: No shared assets found\n\n\nProcessing event 7/10: C_5sd5xgmb7/f281305f11e10b013ba5b5d00919ea7205efa33c/CASH_OPAQUE_APP_TOKEN/1750970193639, effective_at=2025-06-26 20:36:33.639000\n\nTime to validate C_fjeqdqmnz/81e7a3964763accd4a48b84345c99000d53e9b6147626ecf37c4709f7dfcb17e/CASH_BACKUP_TAG/1750958721982: 13.99 seconds\nℹ️ C_fjeqdqmnz/81e7a3964763accd4a48b84345c99000d53e9b6147626ecf37c4709f7dfcb17e/CASH_BACKUP_TAG/1750958721982: No shared assets found\n\n\nProcessing event 9/10: C_g02e9qm9n/4647ab33-fc0b-4776-a8ef-3bdd3b2b804d/TRACKING_COOKIE/1750957186286, effective_at=2025-06-26 16:59:46.286000\n\nTime to validate C_g9ebcam5z/99ffdd42aa1304f01ae8eb5b05ae06f11714bc0b/CASH_OPAQUE_APP_TOKEN/1750955321368: 3.77 seconds\nℹ️ C_g9ebcam5z/99ffdd42aa1304f01ae8eb5b05ae06f11714bc0b/CASH_OPAQUE_APP_TOKEN/1750955321368: No account holder found for source account\n\n\nProcessing event 5/10: C_hqc59gywg/fc7293cf-4b89-4ff8-b151-87ca4552900b/TRACKING_COOKIE/1750971243176, effective_at=2025-06-26 20:54:03.176000\n\nTime to validate C_0qc6c1mje/44cde60b366e7cbf1cfd279006d1f023f5cf437317cd81d212138c722bda6693/CASH_BACKUP_TAG/1750971375035: 14.49 seconds\nℹ️ C_0qc6c1mje/44cde60b366e7cbf1cfd279006d1f023f5cf437317cd81d212138c722bda6693/CASH_BACKUP_TAG/1750971375035: No shared assets found\n\n\nProcessing event 2/10: C_sq2ta8mqe/e930ca1d631006198b8e196ea8f0ff94c0f15f34/CASH_OPAQUE_APP_TOKEN/1750957088047, effective_at=2025-06-26 16:58:08.047000\n\nTime to validate C_f6cacqmz1/28f6c74a-4962-42a4-a2cd-10855433ffae/TRACKING_COOKIE/1750967579326: 21.47 seconds\nℹ️ C_f6cacqmz1/28f6c74a-4962-42a4-a2cd-10855433ffae/TRACKING_COOKIE/1750967579326: No target account holders with active accounts found\n\n\nProcessing event 10/10: C_fxecbqm7k/89DB35D9-7B64-4FA1-8847-5E11129BA83E/CASH_DEVICE/1750964023098, effective_at=2025-06-26 18:53:43.098000\n\nTime to validate C_n0dxe8yha/6a01f50b-a384-45b4-9b62-eda995011f86/TRACKING_COOKIE/1750953252936: 12.41 seconds\nℹ️ C_n0dxe8yha/6a01f50b-a384-45b4-9b62-eda995011f86/TRACKING_COOKIE/1750953252936: No shared assets found\n\n\nProcessing event 6/10: C_8je9dqm53/b50b1a54b6a11b29/CASH_DEVICE/1750960513826, effective_at=2025-06-26 17:55:13.826000\n\nTime to validate C_gsepe8yy5/ACDCDBE6-4965-4D37-B1CC-27C7781E5299/CASH_DEVICE/1750961703168: 19.52 seconds\n✅ C_gsepe8yy5/ACDCDBE6-4965-4D37-B1CC-27C7781E5299/CASH_DEVICE/1750961703168: All validations passed\n\n\nValidation complete: 10/10 passed\n\nTiming statistics:\n- Average time per edge: 12.15 seconds\n- Fastest validation: 5.11 seconds\n- Slowest validation: 23.73 seconds\n- Total validation time: 121.46 seconds\n\nResults written to: bau_edge_validation/bau_edge_validation_20250701_030010.csv\n\nCompleted batch 93/100\n\nTime to validate C_5hw9r8y11/7599d198d59955c346745d2fd1c9245eabcfd73f96e229c227620ca005c6b093/CASH_BACKUP_TAG/1750968270975: 15.69 seconds\nℹ️ C_5hw9r8y11/7599d198d59955c346745d2fd1c9245eabcfd73f96e229c227620ca005c6b093/CASH_BACKUP_TAG/1750968270975: No target account holders with active accounts found\n\n\nProcessing event 7/10: C_f4eq2hmh3/1e9593614999367d7e71510b69b29142d0abd4bc/EMAIL/1750953617723, effective_at=2025-06-26 16:00:17.723000\n\nTime to validate C_8je9dqm53/b50b1a54b6a11b29/CASH_DEVICE/1750960513826: 4.60 seconds\nℹ️ C_8je9dqm53/b50b1a54b6a11b29/CASH_DEVICE/1750960513826: No account holder found for source account\n\n\nProcessing event 7/10: C_gmc82qm6z/fid-1-c48abde63033e5ba7fd0b35504f54eed5dc97d8d9a5aefa987c6fcfcf2306427/PAYMENT_CARD/1750960788297, effective_at=2025-06-26 17:59:48.297000\n\nTime to validate C_g02e9qm9n/4647ab33-fc0b-4776-a8ef-3bdd3b2b804d/TRACKING_COOKIE/1750957186286: 11.33 seconds\nℹ️ C_g02e9qm9n/4647ab33-fc0b-4776-a8ef-3bdd3b2b804d/TRACKING_COOKIE/1750957186286: No shared assets found\n\n\nProcessing event 10/10: C_g9egd0m18/fid-1-21ce35577a9a80733aa2b2e93c871bf2d56e378b71f16a58c16aac2a2e8638d2/VERIFIED_SSN/1750959089805, effective_at=2025-06-26 17:31:29.805000\n\nTime to validate C_fxecbqm7k/89DB35D9-7B64-4FA1-8847-5E11129BA83E/CASH_DEVICE/1750964023098: 12.42 seconds\nℹ️ C_fxecbqm7k/89DB35D9-7B64-4FA1-8847-5E11129BA83E/CASH_DEVICE/1750964023098: No target account holders with active accounts found\n\n\nValidation complete: 10/10 passed\n\nTiming statistics:\n- Average time per edge: 14.41 seconds\n- Fastest validation: 5.18 seconds\n- Slowest validation: 32.99 seconds\n- Total validation time: 144.05 seconds\n\nResults written to: bau_edge_validation/bau_edge_validation_20250701_030010.csv\n\nCompleted batch 94/100\n\nTime to validate C_hqc59gywg/fc7293cf-4b89-4ff8-b151-87ca4552900b/TRACKING_COOKIE/1750971243176: 13.71 seconds\nℹ️ C_hqc59gywg/fc7293cf-4b89-4ff8-b151-87ca4552900b/TRACKING_COOKIE/1750971243176: No shared assets found\n\n\nProcessing event 6/10: C_scctcqydy/443214b9-8be7-4c06-9c94-e39159b8e19f/TRACKING_COOKIE/1750970340196, effective_at=2025-06-26 20:39:00.196000\n\nTime to validate C_5sd5xgmb7/f281305f11e10b013ba5b5d00919ea7205efa33c/CASH_OPAQUE_APP_TOKEN/1750970193639: 17.15 seconds\nℹ️ C_5sd5xgmb7/f281305f11e10b013ba5b5d00919ea7205efa33c/CASH_OPAQUE_APP_TOKEN/1750970193639: No target account holders with active accounts found\n\n\nProcessing event 8/10: C_5cw4rhy8n/1df60887-c195-4e56-b832-37d7ff6cfc9a/TRACKING_COOKIE/1750956157877, effective_at=2025-06-26 16:42:37.877000\n\nTime to validate C_f4eq2hmh3/1e9593614999367d7e71510b69b29142d0abd4bc/EMAIL/1750953617723: 10.75 seconds\nℹ️ C_f4eq2hmh3/1e9593614999367d7e71510b69b29142d0abd4bc/EMAIL/1750953617723: No shared assets found\n\n\nProcessing event 8/10: C_0qcsd8mrj/5A3C87E8-541E-414A-AAFD-B28D49CCB03F/CASH_DEVICE/1750967035052, effective_at=2025-06-26 19:43:55.052000\n\nTime to validate C_gmc82qm6z/fid-1-c48abde63033e5ba7fd0b35504f54eed5dc97d8d9a5aefa987c6fcfcf2306427/PAYMENT_CARD/1750960788297: 11.81 seconds\nℹ️ C_gmc82qm6z/fid-1-c48abde63033e5ba7fd0b35504f54eed5dc97d8d9a5aefa987c6fcfcf2306427/PAYMENT_CARD/1750960788297: No target account holders with active accounts found\n\n\nProcessing event 8/10: C_n92xc1mfe/2c8b22b0-519c-4a43-b42a-0d11d1e3d26a/TRACKING_COOKIE/1750955087885, effective_at=2025-06-26 16:24:47.885000\n\nTime to validate C_0qcsd8mrj/5A3C87E8-541E-414A-AAFD-B28D49CCB03F/CASH_DEVICE/1750967035052: 3.58 seconds\nℹ️ C_0qcsd8mrj/5A3C87E8-541E-414A-AAFD-B28D49CCB03F/CASH_DEVICE/1750967035052: No account holder found for source account\n\n\nProcessing event 9/10: C_gje3c0mpz/83c9e7698d1fc3c56d6be8a217a6c37c55c7e319/EMAIL/1750958466288, effective_at=2025-06-26 17:21:06.288000\n\nTime to validate C_sq2ta8mqe/e930ca1d631006198b8e196ea8f0ff94c0f15f34/CASH_OPAQUE_APP_TOKEN/1750957088047: 19.62 seconds\n✅ C_sq2ta8mqe/e930ca1d631006198b8e196ea8f0ff94c0f15f34/CASH_OPAQUE_APP_TOKEN/1750957088047: All validations passed\n\n\nProcessing event 3/10: C_89e12amh3/1BDC2DBE-F2BF-4CA5-B1C8-F4DB4FC6E95F/CASH_DEVICE/1750961553291, effective_at=2025-06-26 18:12:33.291000\n\nTime to validate C_g9egd0m18/fid-1-21ce35577a9a80733aa2b2e93c871bf2d56e378b71f16a58c16aac2a2e8638d2/VERIFIED_SSN/1750959089805: 11.36 seconds\nℹ️ C_g9egd0m18/fid-1-21ce35577a9a80733aa2b2e93c871bf2d56e378b71f16a58c16aac2a2e8638d2/VERIFIED_SSN/1750959089805: No shared assets found\n\n\nValidation complete: 10/10 passed\n\nTiming statistics:\n- Average time per edge: 25.11 seconds\n- Fastest validation: 7.08 seconds\n- Slowest validation: 70.26 seconds\n- Total validation time: 251.12 seconds\n\nResults written to: bau_edge_validation/bau_edge_validation_20250701_030010.csv\n\nCompleted batch 95/100\n\nTime to validate C_scctcqydy/443214b9-8be7-4c06-9c94-e39159b8e19f/TRACKING_COOKIE/1750970340196: 14.14 seconds\nℹ️ C_scctcqydy/443214b9-8be7-4c06-9c94-e39159b8e19f/TRACKING_COOKIE/1750970340196: No shared assets found\n\n\nProcessing event 7/10: C_8je02qm18/15de848610402d011f77bdb22ae715dc5718aadd/CASH_OPAQUE_APP_TOKEN/1750966595736, effective_at=2025-06-26 19:36:35.736000\n\nTime to validate C_5cw4rhy8n/1df60887-c195-4e56-b832-37d7ff6cfc9a/TRACKING_COOKIE/1750956157877: 13.51 seconds\nℹ️ C_5cw4rhy8n/1df60887-c195-4e56-b832-37d7ff6cfc9a/TRACKING_COOKIE/1750956157877: No shared assets found\n\n\nProcessing event 9/10: C_g625j1msk/fb8cc462-77b9-47be-b1b6-6e0f4d6b4a5f/TRACKING_COOKIE/1750958667566, effective_at=2025-06-26 17:24:27.566000\n\nTime to validate C_n92xc1mfe/2c8b22b0-519c-4a43-b42a-0d11d1e3d26a/TRACKING_COOKIE/1750955087885: 10.92 seconds\nℹ️ C_n92xc1mfe/2c8b22b0-519c-4a43-b42a-0d11d1e3d26a/TRACKING_COOKIE/1750955087885: No shared assets found\n\n\nProcessing event 9/10: C_89eqcqm58/A7CA6ECD-1269-4FDE-AAB7-39FC05AC11D3/CASH_DEVICE/1750966277908, effective_at=2025-06-26 19:31:17.908000\n\nTime to validate C_89e12amh3/1BDC2DBE-F2BF-4CA5-B1C8-F4DB4FC6E95F/CASH_DEVICE/1750961553291: 11.30 seconds\nℹ️ C_89e12amh3/1BDC2DBE-F2BF-4CA5-B1C8-F4DB4FC6E95F/CASH_DEVICE/1750961553291: No target account holders with active accounts found\n\n\nProcessing event 4/10: C_sqed40m3b/8D5F7892-E3A1-4312-8C1D-AA30CBEE34FE/CASH_DEVICE/1750965624632, effective_at=2025-06-26 19:20:24.632000\n\nTime to validate C_8je02qm18/15de848610402d011f77bdb22ae715dc5718aadd/CASH_OPAQUE_APP_TOKEN/1750966595736: 3.68 seconds\nℹ️ C_8je02qm18/15de848610402d011f77bdb22ae715dc5718aadd/CASH_OPAQUE_APP_TOKEN/1750966595736: No account holder found for source account\n\n\nProcessing event 8/10: C_htec9amm8/BD4CF67F-FAE7-4EC6-83EA-6D1C37D9A4A6/CASH_DEVICE/1750966785458, effective_at=2025-06-26 19:39:45.458000\n\nTime to validate C_89eqcqm58/A7CA6ECD-1269-4FDE-AAB7-39FC05AC11D3/CASH_DEVICE/1750966277908: 3.67 seconds\nℹ️ C_89eqcqm58/A7CA6ECD-1269-4FDE-AAB7-39FC05AC11D3/CASH_DEVICE/1750966277908: No account holder found for source account\n\n\nProcessing event 10/10: C_5hcx11m5g/a7d6c379-703a-4e6d-9754-d7d1e474d19c/TRACKING_COOKIE/1750966190561, effective_at=2025-06-26 19:29:50.561000\n\nTime to validate C_gje3c0mpz/83c9e7698d1fc3c56d6be8a217a6c37c55c7e319/EMAIL/1750958466288: 20.22 seconds\n✅ C_gje3c0mpz/83c9e7698d1fc3c56d6be8a217a6c37c55c7e319/EMAIL/1750958466288: All validations passed\n\n\nProcessing event 10/10: C_5qe6ehmng/c89a841cc5559f7adddebc684dc0f844e53cd9cf/CASH_OPAQUE_APP_TOKEN/1750959961703, effective_at=2025-06-26 17:46:01.703000\n\nTime to validate C_5qe6ehmng/c89a841cc5559f7adddebc684dc0f844e53cd9cf/CASH_OPAQUE_APP_TOKEN/1750959961703: 3.09 seconds\nℹ️ C_5qe6ehmng/c89a841cc5559f7adddebc684dc0f844e53cd9cf/CASH_OPAQUE_APP_TOKEN/1750959961703: No account holder found for source account\n\n\nValidation complete: 10/10 passed\n\nTiming statistics:\n- Average time per edge: 13.94 seconds\n- Fastest validation: 3.09 seconds\n- Slowest validation: 20.46 seconds\n- Total validation time: 139.36 seconds\n\nResults written to: bau_edge_validation/bau_edge_validation_20250701_030010.csv\n\nCompleted batch 96/100\n\nTime to validate C_5hcx11m5g/a7d6c379-703a-4e6d-9754-d7d1e474d19c/TRACKING_COOKIE/1750966190561: 10.41 seconds\nℹ️ C_5hcx11m5g/a7d6c379-703a-4e6d-9754-d7d1e474d19c/TRACKING_COOKIE/1750966190561: No shared assets found\n\n\nValidation complete: 10/10 passed\n\nTiming statistics:\n- Average time per edge: 12.08 seconds\n- Fastest validation: 3.67 seconds\n- Slowest validation: 31.50 seconds\n- Total validation time: 120.79 seconds\n\nResults written to: bau_edge_validation/bau_edge_validation_20250701_030010.csv\n\nCompleted batch 97/100\n\nTime to validate C_htec9amm8/BD4CF67F-FAE7-4EC6-83EA-6D1C37D9A4A6/CASH_DEVICE/1750966785458: 12.98 seconds\nℹ️ C_htec9amm8/BD4CF67F-FAE7-4EC6-83EA-6D1C37D9A4A6/CASH_DEVICE/1750966785458: No target account holders with active accounts found\n\n\nProcessing event 9/10: C_s4ctwgmmz/b85bc4e4-f55f-4c74-8d77-dd947853b792/TRACKING_COOKIE/1750962507799, effective_at=2025-06-26 18:28:27.799000\n\nTime to validate C_sqed40m3b/8D5F7892-E3A1-4312-8C1D-AA30CBEE34FE/CASH_DEVICE/1750965624632: 16.29 seconds\nℹ️ C_sqed40m3b/8D5F7892-E3A1-4312-8C1D-AA30CBEE34FE/CASH_DEVICE/1750965624632: No target account holders with active accounts found\n\n\nProcessing event 5/10: C_gmezxhmcz/0b4fa0a3-f1e4-415b-a6e8-7074a5df2cd6/TRACKING_COOKIE/1750957686724, effective_at=2025-06-26 17:08:06.724000\n\nTime to validate C_s4ctwgmmz/b85bc4e4-f55f-4c74-8d77-dd947853b792/TRACKING_COOKIE/1750962507799: 11.20 seconds\nℹ️ C_s4ctwgmmz/b85bc4e4-f55f-4c74-8d77-dd947853b792/TRACKING_COOKIE/1750962507799: No shared assets found\n\n\nProcessing event 10/10: C_necx2qy3a/63cff70d-a42f-44f3-b02e-1fcda06106a6/TRACKING_COOKIE/1750965966359, effective_at=2025-06-26 19:26:06.359000\n\nTime to validate C_gmezxhmcz/0b4fa0a3-f1e4-415b-a6e8-7074a5df2cd6/TRACKING_COOKIE/1750957686724: 10.84 seconds\nℹ️ C_gmezxhmcz/0b4fa0a3-f1e4-415b-a6e8-7074a5df2cd6/TRACKING_COOKIE/1750957686724: No shared assets found\n\n\nProcessing event 6/10: C_sm2vc1ynq/6919f0a9-276b-4e25-8711-6f0cfa7b9b83/TRACKING_COOKIE/1750968046731, effective_at=2025-06-26 20:00:46.731000\n\nTime to validate C_g625j1msk/fb8cc462-77b9-47be-b1b6-6e0f4d6b4a5f/TRACKING_COOKIE/1750958667566: 31.74 seconds\nℹ️ C_g625j1msk/fb8cc462-77b9-47be-b1b6-6e0f4d6b4a5f/TRACKING_COOKIE/1750958667566: No target account holders with active accounts found\n\n\nProcessing event 10/10: C_fqescqmnz/0ac67ad38e4846097f40c3b106ba99c19bd6083c/CASH_OPAQUE_APP_TOKEN/1750956498901, effective_at=2025-06-26 16:48:18.901000\n\nTime to validate C_fqescqmnz/0ac67ad38e4846097f40c3b106ba99c19bd6083c/CASH_OPAQUE_APP_TOKEN/1750956498901: 3.20 seconds\nℹ️ C_fqescqmnz/0ac67ad38e4846097f40c3b106ba99c19bd6083c/CASH_OPAQUE_APP_TOKEN/1750956498901: No account holder found for source account\n\n\nValidation complete: 10/10 passed\n\nTiming statistics:\n- Average time per edge: 15.83 seconds\n- Fastest validation: 3.20 seconds\n- Slowest validation: 31.74 seconds\n- Total validation time: 158.30 seconds\n\nResults written to: bau_edge_validation/bau_edge_validation_20250701_030010.csv\n\nCompleted batch 98/100\n\nTime to validate C_necx2qy3a/63cff70d-a42f-44f3-b02e-1fcda06106a6/TRACKING_COOKIE/1750965966359: 10.49 seconds\nℹ️ C_necx2qy3a/63cff70d-a42f-44f3-b02e-1fcda06106a6/TRACKING_COOKIE/1750965966359: No shared assets found\n\n\nValidation complete: 10/10 passed\n\nTiming statistics:\n- Average time per edge: 9.67 seconds\n- Fastest validation: 3.68 seconds\n- Slowest validation: 18.42 seconds\n- Total validation time: 96.75 seconds\n\nResults written to: bau_edge_validation/bau_edge_validation_20250701_030010.csv\n\nCompleted batch 99/100\n\nTime to validate C_sm2vc1ynq/6919f0a9-276b-4e25-8711-6f0cfa7b9b83/TRACKING_COOKIE/1750968046731: 10.44 seconds\nℹ️ C_sm2vc1ynq/6919f0a9-276b-4e25-8711-6f0cfa7b9b83/TRACKING_COOKIE/1750968046731: No shared assets found\n\n\nProcessing event 7/10: C_8jemehmh8/7DA924C4-3C6F-4046-89EE-EB73EA14EA7B/CASH_DEVICE/1750965554182, effective_at=2025-06-26 19:19:14.182000\n\nTime to validate C_8jemehmh8/7DA924C4-3C6F-4046-89EE-EB73EA14EA7B/CASH_DEVICE/1750965554182: 3.20 seconds\nℹ️ C_8jemehmh8/7DA924C4-3C6F-4046-89EE-EB73EA14EA7B/CASH_DEVICE/1750965554182: No account holder found for source account\n\n\nProcessing event 8/10: C_sjcsepm2q/d17a7eb2c890c8c6/CASH_DEVICE/1750967265852, effective_at=2025-06-26 19:47:45.852000\n\nTime to validate C_sjcsepm2q/d17a7eb2c890c8c6/CASH_DEVICE/1750967265852: 2.72 seconds\nℹ️ C_sjcsepm2q/d17a7eb2c890c8c6/CASH_DEVICE/1750967265852: No account holder found for source account\n\n\nProcessing event 9/10: C_s9c4egmjj/E5DAAE7B-615A-4C9D-ABE2-E1903A91FC9A/CASH_DEVICE/1750967771615, effective_at=2025-06-26 19:56:11.615000\n\nTime to validate C_s9c4egmjj/E5DAAE7B-615A-4C9D-ABE2-E1903A91FC9A/CASH_DEVICE/1750967771615: 2.71 seconds\nℹ️ C_s9c4egmjj/E5DAAE7B-615A-4C9D-ABE2-E1903A91FC9A/CASH_DEVICE/1750967771615: No account holder found for source account\n\n\nProcessing event 10/10: C_0m2eppyjm/6732fa22-3d63-438c-86c0-bf55106a086a/TRACKING_COOKIE/1750961817784, effective_at=2025-06-26 18:16:57.784000\n\nTime to validate C_0m2eppyjm/6732fa22-3d63-438c-86c0-bf55106a086a/TRACKING_COOKIE/1750961817784: 10.33 seconds\nℹ️ C_0m2eppyjm/6732fa22-3d63-438c-86c0-bf55106a086a/TRACKING_COOKIE/1750961817784: No shared assets found\n\n\nValidation complete: 10/10 passed\n\nTiming statistics:\n- Average time per edge: 10.19 seconds\n- Fastest validation: 2.71 seconds\n- Slowest validation: 19.62 seconds\n- Total validation time: 101.94 seconds\n\nResults written to: bau_edge_validation/bau_edge_validation_20250701_030010.csv\n\nCompleted batch 100/100\n\nAll batches processed. Total time: 1918.90 seconds.\nConsolidated results are in: bau_edge_validation/bau_edge_validation_20250701_030010.csv\n"
     ]
    }
   ],
   "source": [
    "# Convert DataFrame rows to list of edge tuples\n",
    "edges_to_validate = [\n",
    "    (\n",
    "        row['FROM_TOKEN'],\n",
    "        row['TO_TOKEN'],\n",
    "        row['TO_TYPE'],\n",
    "        row['EFFECTIVE_AT'].value // 1_000_000 # convert to ms\n",
    "    )\n",
    "    for _, row in bau_edges_df.iterrows()\n",
    "]\n",
    "\n",
    "# Run validation in batches\n",
    "output_file = validate_edges_batch(\n",
    "    edges=edges_to_validate,\n",
    "    ccgce_table=ccgce_table,\n",
    "    output_dir=\"bau_edge_validation\",\n",
    "    batch_size=10, \n",
    "    max_workers=10\n",
    ")"
   ]
  },
  {
   "cell_type": "code",
   "execution_count": 0,
   "metadata": {
    "application/vnd.databricks.v1+cell": {
     "cellMetadata": {
      "byteLimit": 2048000,
      "rowLimit": 10000
     },
     "inputWidgets": {},
     "nuid": "c4dffa60-f3e2-42ba-8d0a-dd5307d78656",
     "showTitle": false,
     "tableResultSettingsMap": {},
     "title": ""
    }
   },
   "outputs": [
    {
     "output_type": "stream",
     "name": "stdout",
     "output_type": "stream",
     "text": [
      "Out[19]: True"
     ]
    }
   ],
   "source": [
    "# Path to store validation outputs under. Create this beforehand with dbutils.fs.mkdirs(f\"dbfs:/Users/...\")\n",
    "s3_dir = \"Users/ioanna\"\n",
    "\n",
    "# Copy output to S3 for persistence\n",
    "output_path = f\"{s3_dir}/{output_file}\"\n",
    "dbutils.fs.cp(f\"file://{os.getcwd()}/{output_file}\", f\"dbfs:/{output_path}\")"
   ]
  },
  {
   "cell_type": "code",
   "execution_count": 0,
   "metadata": {
    "application/vnd.databricks.v1+cell": {
     "cellMetadata": {
      "byteLimit": 2048000,
      "rowLimit": 10000
     },
     "collapsed": true,
     "inputWidgets": {},
     "nuid": "08da771f-f95e-48a6-8637-62790faaf329",
     "showTitle": false,
     "tableResultSettingsMap": {},
     "title": ""
    }
   },
   "outputs": [
    {
     "output_type": "stream",
     "name": "stdout",
     "output_type": "stream",
     "text": [
      "ℹ️ C_0scbd8mnq/c0d7b6dc6cd9ad54/CASH_DEVICE/1749584382370: No account holder found for source account\n"
     ]
    }
   ],
   "source": [
    "# # Cell for single edge validation from bau_edges_df\n",
    "# edge_to_validate = bau_edges_df.iloc[1]\n",
    "\n",
    "# result = validate_bau_edge(\n",
    "#     source_account=edge_to_validate['FROM_TOKEN'],\n",
    "#     asset_type=edge_to_validate['TO_TYPE'],\n",
    "#     asset_token=edge_to_validate['TO_TOKEN'],\n",
    "#     effective_at_ms=edge_to_validate['EFFECTIVE_AT'].value // 1_000_000,\n",
    "#     ccgce_table=ccgce_table\n",
    "# )\n",
    "# print(result.get_summary())"
   ]
  },
  {
   "cell_type": "code",
   "execution_count": 0,
   "metadata": {
    "application/vnd.databricks.v1+cell": {
     "cellMetadata": {
      "byteLimit": 2048000,
      "rowLimit": 10000
     },
     "collapsed": true,
     "inputWidgets": {},
     "nuid": "b6866c7c-1b92-4e6d-b27f-60484081199d",
     "showTitle": false,
     "tableResultSettingsMap": {},
     "title": ""
    }
   },
   "outputs": [
    {
     "output_type": "stream",
     "name": "stdout",
     "output_type": "stream",
     "text": [
      "✅ C_8ydarhm9s/70fe039699ad0b4c09e44f7432af99128a747d7a/CASH_OPAQUE_APP_TOKEN/1748788039295: All validations passed\n"
     ]
    }
   ],
   "source": [
    "# # Cell for single edge validation\n",
    "# result = validate_bau_edge(\n",
    "#     source_account=\"C_8ydarhm9s\",\n",
    "#     asset_type=\"CASH_OPAQUE_APP_TOKEN\",\n",
    "#     asset_token=\"70fe039699ad0b4c09e44f7432af99128a747d7a\",\n",
    "#     effective_at_ms=1748788039295,\n",
    "#     ccgce_table=ccgce_table\n",
    "# )\n",
    "# print(result.get_summary())"
   ]
  },
  {
   "cell_type": "markdown",
   "metadata": {
    "application/vnd.databricks.v1+cell": {
     "cellMetadata": {},
     "inputWidgets": {},
     "nuid": "43630246-ed20-4138-b682-ed315961209b",
     "showTitle": false,
     "tableResultSettingsMap": {},
     "title": ""
    }
   },
   "source": [
    "## Validation Result Analysis"
   ]
  },
  {
   "cell_type": "code",
   "execution_count": 0,
   "metadata": {
    "application/vnd.databricks.v1+cell": {
     "cellMetadata": {
      "byteLimit": 2048000,
      "rowLimit": 10000
     },
     "inputWidgets": {},
     "nuid": "4f99d414-22dd-4d34-ae2a-a22b038b772d",
     "showTitle": false,
     "tableResultSettingsMap": {},
     "title": ""
    }
   },
   "outputs": [
    {
     "output_type": "display_data",
     "data": {
      "text/html": [
       "<div>\n",
       "<style scoped>\n",
       "    .dataframe tbody tr th:only-of-type {\n",
       "        vertical-align: middle;\n",
       "    }\n",
       "\n",
       "    .dataframe tbody tr th {\n",
       "        vertical-align: top;\n",
       "    }\n",
       "\n",
       "    .dataframe thead th {\n",
       "        text-align: right;\n",
       "    }\n",
       "</style>\n",
       "<table border=\"1\" class=\"dataframe\">\n",
       "  <thead>\n",
       "    <tr style=\"text-align: right;\">\n",
       "      <th></th>\n",
       "      <th>edge_id</th>\n",
       "      <th>source_account</th>\n",
       "      <th>asset_token</th>\n",
       "      <th>asset_type</th>\n",
       "      <th>effective_at_ms</th>\n",
       "      <th>validation_success</th>\n",
       "      <th>validation_status</th>\n",
       "      <th>missing_events</th>\n",
       "      <th>unexpected_events</th>\n",
       "      <th>label_errors</th>\n",
       "      <th>timestamp_errors</th>\n",
       "    </tr>\n",
       "  </thead>\n",
       "  <tbody>\n",
       "    <tr>\n",
       "      <th>0</th>\n",
       "      <td>C_gje3ehmwg/d5165cbff2614c18/CASH_DEVICE/17509...</td>\n",
       "      <td>C_gje3ehmwg</td>\n",
       "      <td>d5165cbff2614c18</td>\n",
       "      <td>CASH_DEVICE</td>\n",
       "      <td>1750953837669</td>\n",
       "      <td>True</td>\n",
       "      <td>No account holder found for source account</td>\n",
       "      <td>NaN</td>\n",
       "      <td>NaN</td>\n",
       "      <td>NaN</td>\n",
       "      <td>NaN</td>\n",
       "    </tr>\n",
       "    <tr>\n",
       "      <th>1</th>\n",
       "      <td>C_f9er2am8z/5800A4A5-66AD-41CC-B5FD-B9AD7B5607...</td>\n",
       "      <td>C_f9er2am8z</td>\n",
       "      <td>5800A4A5-66AD-41CC-B5FD-B9AD7B5607CA</td>\n",
       "      <td>CASH_DEVICE</td>\n",
       "      <td>1750955573322</td>\n",
       "      <td>True</td>\n",
       "      <td>No account holder found for source account</td>\n",
       "      <td>NaN</td>\n",
       "      <td>NaN</td>\n",
       "      <td>NaN</td>\n",
       "      <td>NaN</td>\n",
       "    </tr>\n",
       "    <tr>\n",
       "      <th>2</th>\n",
       "      <td>C_5qe4chm0g/6729512c0ba529fc969797f726d4f90939...</td>\n",
       "      <td>C_5qe4chm0g</td>\n",
       "      <td>6729512c0ba529fc969797f726d4f90939ff8615</td>\n",
       "      <td>CASH_OPAQUE_APP_TOKEN</td>\n",
       "      <td>1750959873620</td>\n",
       "      <td>True</td>\n",
       "      <td>No account holder found for source account</td>\n",
       "      <td>NaN</td>\n",
       "      <td>NaN</td>\n",
       "      <td>NaN</td>\n",
       "      <td>NaN</td>\n",
       "    </tr>\n",
       "    <tr>\n",
       "      <th>3</th>\n",
       "      <td>C_8je4ehmhg/794e280266649f5bbc07f70da4d2f37368...</td>\n",
       "      <td>C_8je4ehmhg</td>\n",
       "      <td>794e280266649f5bbc07f70da4d2f37368ffad69</td>\n",
       "      <td>PHONE_NUMBER</td>\n",
       "      <td>1750960038729</td>\n",
       "      <td>True</td>\n",
       "      <td>No shared assets found</td>\n",
       "      <td>NaN</td>\n",
       "      <td>NaN</td>\n",
       "      <td>NaN</td>\n",
       "      <td>NaN</td>\n",
       "    </tr>\n",
       "    <tr>\n",
       "      <th>4</th>\n",
       "      <td>C_nmcvk1mnk/2cb75b3d-ea8b-4406-b22f-226d9376bc...</td>\n",
       "      <td>C_nmcvk1mnk</td>\n",
       "      <td>2cb75b3d-ea8b-4406-b22f-226d9376bc7f</td>\n",
       "      <td>TRACKING_COOKIE</td>\n",
       "      <td>1750962784761</td>\n",
       "      <td>True</td>\n",
       "      <td>No shared assets found</td>\n",
       "      <td>NaN</td>\n",
       "      <td>NaN</td>\n",
       "      <td>NaN</td>\n",
       "      <td>NaN</td>\n",
       "    </tr>\n",
       "    <tr>\n",
       "      <th>...</th>\n",
       "      <td>...</td>\n",
       "      <td>...</td>\n",
       "      <td>...</td>\n",
       "      <td>...</td>\n",
       "      <td>...</td>\n",
       "      <td>...</td>\n",
       "      <td>...</td>\n",
       "      <td>...</td>\n",
       "      <td>...</td>\n",
       "      <td>...</td>\n",
       "      <td>...</td>\n",
       "    </tr>\n",
       "    <tr>\n",
       "      <th>995</th>\n",
       "      <td>C_sm2vc1ynq/6919f0a9-276b-4e25-8711-6f0cfa7b9b...</td>\n",
       "      <td>C_sm2vc1ynq</td>\n",
       "      <td>6919f0a9-276b-4e25-8711-6f0cfa7b9b83</td>\n",
       "      <td>TRACKING_COOKIE</td>\n",
       "      <td>1750968046731</td>\n",
       "      <td>True</td>\n",
       "      <td>No shared assets found</td>\n",
       "      <td>NaN</td>\n",
       "      <td>NaN</td>\n",
       "      <td>NaN</td>\n",
       "      <td>NaN</td>\n",
       "    </tr>\n",
       "    <tr>\n",
       "      <th>996</th>\n",
       "      <td>C_8jemehmh8/7DA924C4-3C6F-4046-89EE-EB73EA14EA...</td>\n",
       "      <td>C_8jemehmh8</td>\n",
       "      <td>7DA924C4-3C6F-4046-89EE-EB73EA14EA7B</td>\n",
       "      <td>CASH_DEVICE</td>\n",
       "      <td>1750965554182</td>\n",
       "      <td>True</td>\n",
       "      <td>No account holder found for source account</td>\n",
       "      <td>NaN</td>\n",
       "      <td>NaN</td>\n",
       "      <td>NaN</td>\n",
       "      <td>NaN</td>\n",
       "    </tr>\n",
       "    <tr>\n",
       "      <th>997</th>\n",
       "      <td>C_sjcsepm2q/d17a7eb2c890c8c6/CASH_DEVICE/17509...</td>\n",
       "      <td>C_sjcsepm2q</td>\n",
       "      <td>d17a7eb2c890c8c6</td>\n",
       "      <td>CASH_DEVICE</td>\n",
       "      <td>1750967265852</td>\n",
       "      <td>True</td>\n",
       "      <td>No account holder found for source account</td>\n",
       "      <td>NaN</td>\n",
       "      <td>NaN</td>\n",
       "      <td>NaN</td>\n",
       "      <td>NaN</td>\n",
       "    </tr>\n",
       "    <tr>\n",
       "      <th>998</th>\n",
       "      <td>C_s9c4egmjj/E5DAAE7B-615A-4C9D-ABE2-E1903A91FC...</td>\n",
       "      <td>C_s9c4egmjj</td>\n",
       "      <td>E5DAAE7B-615A-4C9D-ABE2-E1903A91FC9A</td>\n",
       "      <td>CASH_DEVICE</td>\n",
       "      <td>1750967771615</td>\n",
       "      <td>True</td>\n",
       "      <td>No account holder found for source account</td>\n",
       "      <td>NaN</td>\n",
       "      <td>NaN</td>\n",
       "      <td>NaN</td>\n",
       "      <td>NaN</td>\n",
       "    </tr>\n",
       "    <tr>\n",
       "      <th>999</th>\n",
       "      <td>C_0m2eppyjm/6732fa22-3d63-438c-86c0-bf55106a08...</td>\n",
       "      <td>C_0m2eppyjm</td>\n",
       "      <td>6732fa22-3d63-438c-86c0-bf55106a086a</td>\n",
       "      <td>TRACKING_COOKIE</td>\n",
       "      <td>1750961817784</td>\n",
       "      <td>True</td>\n",
       "      <td>No shared assets found</td>\n",
       "      <td>NaN</td>\n",
       "      <td>NaN</td>\n",
       "      <td>NaN</td>\n",
       "      <td>NaN</td>\n",
       "    </tr>\n",
       "  </tbody>\n",
       "</table>\n",
       "<p>1000 rows × 11 columns</p>\n",
       "</div>"
      ]
     },
     "metadata": {
      "application/vnd.databricks.v1+output": {
       "addedWidgets": {},
       "arguments": {},
       "data": "<div>\n<style scoped>\n    .dataframe tbody tr th:only-of-type {\n        vertical-align: middle;\n    }\n\n    .dataframe tbody tr th {\n        vertical-align: top;\n    }\n\n    .dataframe thead th {\n        text-align: right;\n    }\n</style>\n<table border=\"1\" class=\"dataframe\">\n  <thead>\n    <tr style=\"text-align: right;\">\n      <th></th>\n      <th>edge_id</th>\n      <th>source_account</th>\n      <th>asset_token</th>\n      <th>asset_type</th>\n      <th>effective_at_ms</th>\n      <th>validation_success</th>\n      <th>validation_status</th>\n      <th>missing_events</th>\n      <th>unexpected_events</th>\n      <th>label_errors</th>\n      <th>timestamp_errors</th>\n    </tr>\n  </thead>\n  <tbody>\n    <tr>\n      <th>0</th>\n      <td>C_gje3ehmwg/d5165cbff2614c18/CASH_DEVICE/17509...</td>\n      <td>C_gje3ehmwg</td>\n      <td>d5165cbff2614c18</td>\n      <td>CASH_DEVICE</td>\n      <td>1750953837669</td>\n      <td>True</td>\n      <td>No account holder found for source account</td>\n      <td>NaN</td>\n      <td>NaN</td>\n      <td>NaN</td>\n      <td>NaN</td>\n    </tr>\n    <tr>\n      <th>1</th>\n      <td>C_f9er2am8z/5800A4A5-66AD-41CC-B5FD-B9AD7B5607...</td>\n      <td>C_f9er2am8z</td>\n      <td>5800A4A5-66AD-41CC-B5FD-B9AD7B5607CA</td>\n      <td>CASH_DEVICE</td>\n      <td>1750955573322</td>\n      <td>True</td>\n      <td>No account holder found for source account</td>\n      <td>NaN</td>\n      <td>NaN</td>\n      <td>NaN</td>\n      <td>NaN</td>\n    </tr>\n    <tr>\n      <th>2</th>\n      <td>C_5qe4chm0g/6729512c0ba529fc969797f726d4f90939...</td>\n      <td>C_5qe4chm0g</td>\n      <td>6729512c0ba529fc969797f726d4f90939ff8615</td>\n      <td>CASH_OPAQUE_APP_TOKEN</td>\n      <td>1750959873620</td>\n      <td>True</td>\n      <td>No account holder found for source account</td>\n      <td>NaN</td>\n      <td>NaN</td>\n      <td>NaN</td>\n      <td>NaN</td>\n    </tr>\n    <tr>\n      <th>3</th>\n      <td>C_8je4ehmhg/794e280266649f5bbc07f70da4d2f37368...</td>\n      <td>C_8je4ehmhg</td>\n      <td>794e280266649f5bbc07f70da4d2f37368ffad69</td>\n      <td>PHONE_NUMBER</td>\n      <td>1750960038729</td>\n      <td>True</td>\n      <td>No shared assets found</td>\n      <td>NaN</td>\n      <td>NaN</td>\n      <td>NaN</td>\n      <td>NaN</td>\n    </tr>\n    <tr>\n      <th>4</th>\n      <td>C_nmcvk1mnk/2cb75b3d-ea8b-4406-b22f-226d9376bc...</td>\n      <td>C_nmcvk1mnk</td>\n      <td>2cb75b3d-ea8b-4406-b22f-226d9376bc7f</td>\n      <td>TRACKING_COOKIE</td>\n      <td>1750962784761</td>\n      <td>True</td>\n      <td>No shared assets found</td>\n      <td>NaN</td>\n      <td>NaN</td>\n      <td>NaN</td>\n      <td>NaN</td>\n    </tr>\n    <tr>\n      <th>...</th>\n      <td>...</td>\n      <td>...</td>\n      <td>...</td>\n      <td>...</td>\n      <td>...</td>\n      <td>...</td>\n      <td>...</td>\n      <td>...</td>\n      <td>...</td>\n      <td>...</td>\n      <td>...</td>\n    </tr>\n    <tr>\n      <th>995</th>\n      <td>C_sm2vc1ynq/6919f0a9-276b-4e25-8711-6f0cfa7b9b...</td>\n      <td>C_sm2vc1ynq</td>\n      <td>6919f0a9-276b-4e25-8711-6f0cfa7b9b83</td>\n      <td>TRACKING_COOKIE</td>\n      <td>1750968046731</td>\n      <td>True</td>\n      <td>No shared assets found</td>\n      <td>NaN</td>\n      <td>NaN</td>\n      <td>NaN</td>\n      <td>NaN</td>\n    </tr>\n    <tr>\n      <th>996</th>\n      <td>C_8jemehmh8/7DA924C4-3C6F-4046-89EE-EB73EA14EA...</td>\n      <td>C_8jemehmh8</td>\n      <td>7DA924C4-3C6F-4046-89EE-EB73EA14EA7B</td>\n      <td>CASH_DEVICE</td>\n      <td>1750965554182</td>\n      <td>True</td>\n      <td>No account holder found for source account</td>\n      <td>NaN</td>\n      <td>NaN</td>\n      <td>NaN</td>\n      <td>NaN</td>\n    </tr>\n    <tr>\n      <th>997</th>\n      <td>C_sjcsepm2q/d17a7eb2c890c8c6/CASH_DEVICE/17509...</td>\n      <td>C_sjcsepm2q</td>\n      <td>d17a7eb2c890c8c6</td>\n      <td>CASH_DEVICE</td>\n      <td>1750967265852</td>\n      <td>True</td>\n      <td>No account holder found for source account</td>\n      <td>NaN</td>\n      <td>NaN</td>\n      <td>NaN</td>\n      <td>NaN</td>\n    </tr>\n    <tr>\n      <th>998</th>\n      <td>C_s9c4egmjj/E5DAAE7B-615A-4C9D-ABE2-E1903A91FC...</td>\n      <td>C_s9c4egmjj</td>\n      <td>E5DAAE7B-615A-4C9D-ABE2-E1903A91FC9A</td>\n      <td>CASH_DEVICE</td>\n      <td>1750967771615</td>\n      <td>True</td>\n      <td>No account holder found for source account</td>\n      <td>NaN</td>\n      <td>NaN</td>\n      <td>NaN</td>\n      <td>NaN</td>\n    </tr>\n    <tr>\n      <th>999</th>\n      <td>C_0m2eppyjm/6732fa22-3d63-438c-86c0-bf55106a08...</td>\n      <td>C_0m2eppyjm</td>\n      <td>6732fa22-3d63-438c-86c0-bf55106a086a</td>\n      <td>TRACKING_COOKIE</td>\n      <td>1750961817784</td>\n      <td>True</td>\n      <td>No shared assets found</td>\n      <td>NaN</td>\n      <td>NaN</td>\n      <td>NaN</td>\n      <td>NaN</td>\n    </tr>\n  </tbody>\n</table>\n<p>1000 rows × 11 columns</p>\n</div>",
       "datasetInfos": [],
       "metadata": {},
       "removedWidgets": [],
       "textData": null,
       "type": "htmlSandbox"
      }
     },
     "output_type": "display_data"
    }
   ],
   "source": [
    "# load file containing the validation results\n",
    "validation_df = pd.read_csv(f\"/dbfs/{output_path}\")\n",
    "validation_df"
   ]
  },
  {
   "cell_type": "code",
   "execution_count": 0,
   "metadata": {
    "application/vnd.databricks.v1+cell": {
     "cellMetadata": {
      "byteLimit": 2048000,
      "rowLimit": 10000
     },
     "inputWidgets": {},
     "nuid": "94d893bb-0f51-4d9f-9a48-bba872b31f00",
     "showTitle": false,
     "tableResultSettingsMap": {},
     "title": ""
    }
   },
   "outputs": [
    {
     "output_type": "display_data",
     "data": {
      "text/html": [
       "<div>\n",
       "<style scoped>\n",
       "    .dataframe tbody tr th:only-of-type {\n",
       "        vertical-align: middle;\n",
       "    }\n",
       "\n",
       "    .dataframe tbody tr th {\n",
       "        vertical-align: top;\n",
       "    }\n",
       "\n",
       "    .dataframe thead th {\n",
       "        text-align: right;\n",
       "    }\n",
       "</style>\n",
       "<table border=\"1\" class=\"dataframe\">\n",
       "  <thead>\n",
       "    <tr style=\"text-align: right;\">\n",
       "      <th></th>\n",
       "      <th>edge_id</th>\n",
       "      <th>source_account</th>\n",
       "      <th>asset_token</th>\n",
       "      <th>asset_type</th>\n",
       "      <th>effective_at_ms</th>\n",
       "      <th>validation_success</th>\n",
       "      <th>validation_status</th>\n",
       "      <th>missing_events</th>\n",
       "      <th>unexpected_events</th>\n",
       "      <th>label_errors</th>\n",
       "      <th>timestamp_errors</th>\n",
       "    </tr>\n",
       "  </thead>\n",
       "  <tbody>\n",
       "    <tr>\n",
       "      <th>316</th>\n",
       "      <td>C_ssccpgypd/696D31BA-B6BC-4136-8C94-C027C2D263...</td>\n",
       "      <td>C_ssccpgypd</td>\n",
       "      <td>696D31BA-B6BC-4136-8C94-C027C2D2631E</td>\n",
       "      <td>CASH_DEVICE</td>\n",
       "      <td>1750963609480</td>\n",
       "      <td>False</td>\n",
       "      <td>No target account holders with active accounts...</td>\n",
       "      <td>NaN</td>\n",
       "      <td>E/AH_5hyhb52n5/AH_dpygpccss/CASH_DEVICE</td>\n",
       "      <td>NaN</td>\n",
       "      <td>NaN</td>\n",
       "    </tr>\n",
       "  </tbody>\n",
       "</table>\n",
       "</div>"
      ]
     },
     "metadata": {
      "application/vnd.databricks.v1+output": {
       "addedWidgets": {},
       "arguments": {},
       "data": "<div>\n<style scoped>\n    .dataframe tbody tr th:only-of-type {\n        vertical-align: middle;\n    }\n\n    .dataframe tbody tr th {\n        vertical-align: top;\n    }\n\n    .dataframe thead th {\n        text-align: right;\n    }\n</style>\n<table border=\"1\" class=\"dataframe\">\n  <thead>\n    <tr style=\"text-align: right;\">\n      <th></th>\n      <th>edge_id</th>\n      <th>source_account</th>\n      <th>asset_token</th>\n      <th>asset_type</th>\n      <th>effective_at_ms</th>\n      <th>validation_success</th>\n      <th>validation_status</th>\n      <th>missing_events</th>\n      <th>unexpected_events</th>\n      <th>label_errors</th>\n      <th>timestamp_errors</th>\n    </tr>\n  </thead>\n  <tbody>\n    <tr>\n      <th>316</th>\n      <td>C_ssccpgypd/696D31BA-B6BC-4136-8C94-C027C2D263...</td>\n      <td>C_ssccpgypd</td>\n      <td>696D31BA-B6BC-4136-8C94-C027C2D2631E</td>\n      <td>CASH_DEVICE</td>\n      <td>1750963609480</td>\n      <td>False</td>\n      <td>No target account holders with active accounts...</td>\n      <td>NaN</td>\n      <td>E/AH_5hyhb52n5/AH_dpygpccss/CASH_DEVICE</td>\n      <td>NaN</td>\n      <td>NaN</td>\n    </tr>\n  </tbody>\n</table>\n</div>",
       "datasetInfos": [],
       "metadata": {},
       "removedWidgets": [],
       "textData": null,
       "type": "htmlSandbox"
      }
     },
     "output_type": "display_data"
    }
   ],
   "source": [
    "# Failed validationss\n",
    "failed_validations_df = validation_df[validation_df['validation_success'] == False]\n",
    "failed_validations_df"
   ]
  },
  {
   "cell_type": "code",
   "execution_count": 0,
   "metadata": {
    "application/vnd.databricks.v1+cell": {
     "cellMetadata": {
      "byteLimit": 2048000,
      "rowLimit": 10000
     },
     "inputWidgets": {},
     "nuid": "4fc78b42-6825-44c5-bac5-6fcf42807c80",
     "showTitle": false,
     "tableResultSettingsMap": {},
     "title": ""
    }
   },
   "outputs": [
    {
     "output_type": "stream",
     "name": "stdout",
     "output_type": "stream",
     "text": [
      "1 out of 1000 edges had failed validations (0.10%):\n\n['C_ssccpgypd/696D31BA-B6BC-4136-8C94-C027C2D2631E/CASH_DEVICE/1750963609480']\n"
     ]
    }
   ],
   "source": [
    "if failed_validations_df.empty:\n",
    "    print(\"All validations passed\")\n",
    "else:\n",
    "    failed_validation_ids = failed_validations_df['edge_id'].unique().tolist()\n",
    "    num_failed = len(failed_validation_ids)\n",
    "    all_validated = validation_df['edge_id'].unique().tolist()\n",
    "    num_validated = len(all_validated)\n",
    "    print(f\"{num_failed} out of {num_validated} edges had failed validations ({num_failed/num_validated*100:.2f}%):\\n\\n{failed_validation_ids}\")"
   ]
  },
  {
   "cell_type": "markdown",
   "metadata": {
    "application/vnd.databricks.v1+cell": {
     "cellMetadata": {},
     "inputWidgets": {},
     "nuid": "14d69d26-026d-4dff-9de7-c8a0d6c421a5",
     "showTitle": false,
     "tableResultSettingsMap": {},
     "title": ""
    }
   },
   "source": [
    "### ✅ Missing events\n",
    "\n",
    "Edges with expected events that were missing in the actual output. These were categorized based on whether the event's `effective_at` timestamp was before, during or after the period of edgy output data that was loaded for validation."
   ]
  },
  {
   "cell_type": "code",
   "execution_count": 0,
   "metadata": {
    "application/vnd.databricks.v1+cell": {
     "cellMetadata": {
      "byteLimit": 2048000,
      "rowLimit": 10000
     },
     "inputWidgets": {},
     "nuid": "3a98b346-dec8-4ab4-bce3-0e9c464cddab",
     "showTitle": false,
     "tableResultSettingsMap": {},
     "title": ""
    }
   },
   "outputs": [
    {
     "output_type": "stream",
     "name": "stdout",
     "output_type": "stream",
     "text": [
      "--- Missing Event Validation Summary ---\nTotal edges with missing events: 0\n\nCount by time window position:\n  BEFORE: 0\n  DURING: 0\n  AFTER: 0\n\n--- Details by Category ---\n\n"
     ]
    }
   ],
   "source": [
    "# Prepare DataFrame\n",
    "missing_events_df = validation_df[validation_df['missing_events'].notna()].copy()\n",
    "\n",
    "# Convert effective_at_ms to pandas datetime\n",
    "missing_events_df['effective_at'] = pd.to_datetime(missing_events_df['effective_at_ms'], unit='ms', utc=True)\n",
    "\n",
    "# Define window for 2025-06-01 using pandas\n",
    "window_start_dt = pd.to_datetime(\"2025-06-01\", utc=True)\n",
    "window_end_dt = window_start_dt + pd.to_timedelta(\"1D\")\n",
    "\n",
    "# Categorize edge timestamps\n",
    "def categorize(effective_at_dt):\n",
    "    if effective_at_dt < window_start_dt:\n",
    "        return \"BEFORE\"\n",
    "    elif window_start_dt <= effective_at_dt <= window_end_dt:\n",
    "        return \"DURING\"\n",
    "    else:\n",
    "        return \"AFTER\"\n",
    "\n",
    "missing_events_df[\"window_category\"] = missing_events_df[\"effective_at\"].map(categorize)\n",
    "\n",
    "# Summary counts\n",
    "category_counts = missing_events_df['window_category'].value_counts().reindex([\"BEFORE\",\"DURING\",\"AFTER\"], fill_value=0)\n",
    "\n",
    "print(\"--- Missing Event Validation Summary ---\")\n",
    "print(f\"Total edges with missing events: {len(missing_events_df)}\\n\")\n",
    "print(\"Count by time window position:\")\n",
    "for cat in [\"BEFORE\",\"DURING\",\"AFTER\"]:\n",
    "    print(f\"  {cat}: {category_counts[cat]}\")\n",
    "\n",
    "print(\"\\n--- Details by Category ---\\n\")\n",
    "\n",
    "for cat in [\"BEFORE\",\"DURING\",\"AFTER\"]:\n",
    "    cat_df = missing_events_df[missing_events_df[\"window_category\"] == cat]\n",
    "    if cat_df.empty:\n",
    "        continue\n",
    "    print(f\"### {cat} ({len(cat_df)} edges)\\n\")\n",
    "    for idx, row in cat_df.iterrows():\n",
    "        events = row['missing_events'].split('|')\n",
    "        print(f\"- Edge:    {row['edge_id']}\")\n",
    "        print(f\"  Time:    {row['effective_at']} (UTC, {row['effective_at_ms']})\")\n",
    "        print(f\"  Missing: {len(events)} event(s)\")\n",
    "        for event in events:\n",
    "            print(f\"    - {event}\")\n",
    "        print()"
   ]
  },
  {
   "cell_type": "markdown",
   "metadata": {
    "application/vnd.databricks.v1+cell": {
     "cellMetadata": {},
     "inputWidgets": {},
     "nuid": "351ee789-9201-44cd-ac82-42d82ce3bdda",
     "showTitle": false,
     "tableResultSettingsMap": {},
     "title": ""
    }
   },
   "source": [
    "### ✅ Unexpected events\n",
    "\n",
    "Edges that had actual events that were not expected based on the validation."
   ]
  },
  {
   "cell_type": "code",
   "execution_count": 0,
   "metadata": {
    "application/vnd.databricks.v1+cell": {
     "cellMetadata": {
      "byteLimit": 2048000,
      "rowLimit": 10000
     },
     "inputWidgets": {},
     "nuid": "ce4b72ad-e6d1-4f1b-99e2-338e1ddcf35e",
     "showTitle": false,
     "tableResultSettingsMap": {},
     "title": ""
    }
   },
   "outputs": [
    {
     "output_type": "stream",
     "name": "stdout",
     "output_type": "stream",
     "text": [
      "Found 1 edges with unexpected events: \n['C_ssccpgypd/696D31BA-B6BC-4136-8C94-C027C2D2631E/CASH_DEVICE/1750963609480']\n\nEdge: C_ssccpgypd/696D31BA-B6BC-4136-8C94-C027C2D2631E/CASH_DEVICE/1750963609480\nUnexpected events:\n  - E/AH_5hyhb52n5/AH_dpygpccss/CASH_DEVICE\n\n"
     ]
    }
   ],
   "source": [
    "# Filter rows where unexpected_events is not empty\n",
    "unexpected_events_df = validation_df[validation_df['unexpected_events'].notna()]\n",
    "\n",
    "if unexpected_events_df.empty:\n",
    "    print(\"No unexpected events found in the validation results\")\n",
    "else:\n",
    "    print(f\"Found {len(unexpected_events_df)} edges with unexpected events: \\n{unexpected_events_df['edge_id'].to_list()}\\n\")\n",
    "    \n",
    "    for _, row in unexpected_events_df.iterrows():\n",
    "        events = row['unexpected_events'].split('|')\n",
    "        \n",
    "        print(f\"Edge: {row['edge_id']}\")\n",
    "        print(\"Unexpected events:\")\n",
    "        for event in events:\n",
    "            print(f\"  - {event}\")\n",
    "        print()"
   ]
  },
  {
   "cell_type": "markdown",
   "metadata": {
    "application/vnd.databricks.v1+cell": {
     "cellMetadata": {},
     "inputWidgets": {},
     "nuid": "55738f75-2eec-4ac0-be9f-d16d5d79e5e5",
     "showTitle": false,
     "tableResultSettingsMap": {},
     "title": ""
    }
   },
   "source": [
    "### ✅ Label mismatches\n",
    "\n",
    "Mismatches between expected and actual labels on the change event source and target account holders. Excludes `ACCOUNT_DENYLISTED` labels which don't apply to account holders."
   ]
  },
  {
   "cell_type": "code",
   "execution_count": 0,
   "metadata": {
    "application/vnd.databricks.v1+cell": {
     "cellMetadata": {
      "byteLimit": 2048000,
      "rowLimit": 10000
     },
     "inputWidgets": {},
     "nuid": "4a2190d3-973f-43a2-a178-10b3c07ade5c",
     "showTitle": false,
     "tableResultSettingsMap": {},
     "title": ""
    }
   },
   "outputs": [
    {
     "output_type": "stream",
     "name": "stdout",
     "output_type": "stream",
     "text": [
      "No label errors found in the validation results\n"
     ]
    }
   ],
   "source": [
    "# Filter rows where label_errors is not empty\n",
    "label_errors_df = validation_df[validation_df['label_errors'].notna()]\n",
    "\n",
    "def parse_label_error(error_message: str) -> dict:\n",
    "    \"\"\"Parse a label error message into its components.\n",
    "    \n",
    "    Args:\n",
    "        error_message: The label error message from validation\n",
    "        \n",
    "    Returns:\n",
    "        Dictionary containing error details or None if parsing fails\n",
    "    \"\"\"\n",
    "    try:\n",
    "        # Determine if this is source or target label error\n",
    "        is_source = 'Source label mismatch' in error_message\n",
    "        is_target = 'Target label mismatch' in error_message\n",
    "        if not (is_source or is_target):\n",
    "            return None\n",
    "            \n",
    "        # Extract event ID\n",
    "        event_start = error_message.find('event ') + len('event ')\n",
    "        event_end = error_message.find(':', event_start)\n",
    "        event_id = error_message[event_start:event_end].strip()\n",
    "            \n",
    "        # Extract target account holder for target label errors\n",
    "        target_holder = None\n",
    "        if is_target:\n",
    "            target_start = error_message.find('Target account holder:') + len('Target account holder:')\n",
    "            target_end = error_message.find('\\n', target_start)\n",
    "            target_holder = error_message[target_start:target_end].strip()\n",
    "        \n",
    "        # Extract expected and actual labels\n",
    "        expected_start = error_message.find('Expected:') + len('Expected:')\n",
    "        expected_end = error_message.find('\\n', expected_start)\n",
    "        actual_start = error_message.find('Actual:') + len('Actual:')\n",
    "        actual_end = error_message.find('\\n', actual_start) if '\\n' in error_message[actual_start:] else len(error_message)\n",
    "        \n",
    "        expected_str = error_message[expected_start:expected_end].strip()\n",
    "        actual_str = error_message[actual_start:actual_end].strip()\n",
    "        \n",
    "        # Convert string representations of lists to sets\n",
    "        expected_labels = set(eval(expected_str))\n",
    "        actual_labels = set(eval(actual_str))\n",
    "            \n",
    "        return {\n",
    "            'type': 'source' if is_source else 'target',\n",
    "            'event_id': event_id,\n",
    "            'target_holder': target_holder,\n",
    "            'expected': sorted(expected_labels),\n",
    "            'actual': sorted(actual_labels)\n",
    "        }\n",
    "    except:\n",
    "        return None\n",
    "\n",
    "if label_errors_df.empty:\n",
    "    print(\"No label errors found in the validation results\")\n",
    "else:\n",
    "    print(f\"Found {len(label_errors_df)} edges with label errors:\\n{label_errors_df['edge_id'].to_list()}\\n\")\n",
    "    \n",
    "    relevant_errors = 0\n",
    "    for _, row in label_errors_df.iterrows():\n",
    "        errors = row['label_errors'].split('|')\n",
    "        \n",
    "        # Parse and filter errors\n",
    "        parsed_errors = [\n",
    "            parse_label_error(error) \n",
    "            for error in errors\n",
    "        ]\n",
    "        parsed_errors = [e for e in parsed_errors if e is not None]\n",
    "        \n",
    "        if parsed_errors:\n",
    "            relevant_errors += 1\n",
    "            print(f\"Edge: {row['edge_id']}\")\n",
    "            for error in parsed_errors:\n",
    "                if error['type'] == 'source':\n",
    "                    print(f\"  Source label mismatch (event: {error['event_id']}):\")\n",
    "                    print(f\"    Expected: {error['expected']}\")\n",
    "                    print(f\"    Actual:   {error['actual']}\")\n",
    "                else:\n",
    "                    print(f\"  Target label mismatch (event: {error['event_id']}, target: {error['target_holder']}):\")\n",
    "                    print(f\"    Expected: {error['expected']}\")\n",
    "                    print(f\"    Actual:   {error['actual']}\")\n",
    "            print()\n",
    "    \n",
    "    print(f\"Found {relevant_errors} edges with label errors\")\n",
    "    if relevant_errors < len(label_errors_df):\n",
    "        print(f\"({len(label_errors_df) - relevant_errors} edges had only expected ACCOUNT_DENYLISTED differences)\")"
   ]
  },
  {
   "cell_type": "markdown",
   "metadata": {
    "application/vnd.databricks.v1+cell": {
     "cellMetadata": {},
     "inputWidgets": {},
     "nuid": "5048a03a-3c7a-4299-9107-759d42251c38",
     "showTitle": false,
     "tableResultSettingsMap": {},
     "title": ""
    }
   },
   "source": [
    "### ✅ Timestamp errors\n",
    "\n",
    "Edges with mismatches between expected event timestamps (based on the earliest connection time between source/target via the given asset type) and the actual `effective_at_millis` in the generated change events."
   ]
  },
  {
   "cell_type": "code",
   "execution_count": 0,
   "metadata": {
    "application/vnd.databricks.v1+cell": {
     "cellMetadata": {
      "byteLimit": 2048000,
      "rowLimit": 10000
     },
     "inputWidgets": {},
     "nuid": "af338e73-3dc6-4468-9d89-1645f2b37e8d",
     "showTitle": false,
     "tableResultSettingsMap": {},
     "title": ""
    }
   },
   "outputs": [
    {
     "output_type": "stream",
     "name": "stdout",
     "output_type": "stream",
     "text": [
      "No timestamp errors found in the validation results.\n"
     ]
    }
   ],
   "source": [
    "# Filter rows where timestamp_errors is not empty and not NaN\n",
    "timestamp_errors_df = validation_df[\n",
    "    validation_df['timestamp_errors'].notna() & (validation_df['timestamp_errors'] != '')\n",
    "]\n",
    "\n",
    "if timestamp_errors_df.empty:\n",
    "    print(\"No timestamp errors found in the validation results.\")\n",
    "else:\n",
    "    print(f\"Found {len(timestamp_errors_df)} edges with timestamp errors:\\n{timestamp_errors_df['edge_id'].to_list()}\\n\")\n",
    "    for index, row in timestamp_errors_df.iterrows():\n",
    "        # Split the pipe-separated error strings\n",
    "        error_messages = row['timestamp_errors'].split('|')\n",
    "        \n",
    "        print(f\"Edge: {row['edge_id']}\")\n",
    "        print(f\"Number of timestamp errors: {len(error_messages)}\")\n",
    "        print(\"Timestamp error details:\")\n",
    "        for error_detail in error_messages:\n",
    "            # Replace literal '\\\\n' from CSV with actual newlines for readable printing\n",
    "            readable_error_detail = error_detail.replace('\\\\\\\\n', '\\\\n')\n",
    "            print(f\"  - {readable_error_detail}\")\n",
    "        print(\"\\n\") # Add a blank line for separation between account holders"
   ]
  },
  {
   "cell_type": "markdown",
   "metadata": {
    "application/vnd.databricks.v1+cell": {
     "cellMetadata": {},
     "inputWidgets": {},
     "nuid": "7490ec47-2f36-4997-9bf3-3ffa90679485",
     "showTitle": false,
     "tableResultSettingsMap": {},
     "title": ""
    }
   },
   "source": [
    "## ✅ General output checks\n",
    "\n",
    "Checks general properties of the output event data set:\n",
    "- Are there any events that have the same source_user_token and target_user_token?\n",
    "- Are there duplicate events with the same event_id?\n",
    "- Are there are any events where event_time_millis is different to cash_connected_graph_change_event.effective_at_millis?\n",
    "- Are there any events where cash_connected_graph_change_event.connection_change.changed_node_type is not in the event_id?\n",
    "- Are there are any events where the source_user_token and target_user_token are not in the event_id?"
   ]
  },
  {
   "cell_type": "code",
   "execution_count": 0,
   "metadata": {
    "application/vnd.databricks.v1+cell": {
     "cellMetadata": {
      "byteLimit": 2048000,
      "rowLimit": 10000
     },
     "inputWidgets": {},
     "nuid": "b8d166e2-19d0-42d9-b2a3-384554f92b08",
     "showTitle": false,
     "tableResultSettingsMap": {},
     "title": ""
    }
   },
   "outputs": [],
   "source": [
    "from pyspark.sql import DataFrame\n",
    "from pyspark.sql.functions import udf, col, count as spark_count, lit, when\n",
    "from pyspark.sql.types import StructType, StructField, StringType\n",
    "from pyspark.sql import functions as F\n",
    "\n",
    "def parse_event_id(event_id: str) -> Tuple[str, str, str]:\n",
    "    \"\"\"Parse an event ID of format 'E/token1/token2/type' into its components.\n",
    "    Returns (token1, token2, type).\"\"\"\n",
    "    try:\n",
    "        _, tokens_and_type = event_id.split('E/', 1)\n",
    "        token1, token2, node_type = tokens_and_type.split('/')\n",
    "        return (token1, token2, node_type)\n",
    "    except:\n",
    "        return (None, None, None)\n",
    "\n",
    "# Define the schema for the UDF's return type (a struct)\n",
    "event_id_schema = StructType([\n",
    "    StructField(\"id_token1\", StringType(), True),\n",
    "    StructField(\"id_token2\", StringType(), True),\n",
    "    StructField(\"id_node_type\", StringType(), True)\n",
    "])\n",
    "\n",
    "# Create the Spark UDF\n",
    "parse_event_id_udf = udf(parse_event_id, event_id_schema)\n",
    "\n",
    "def format_event(event: dict) -> str:\n",
    "    \"\"\"Format a single CashConnectedGraphChangeEvent in a readable way.\"\"\"\n",
    "    source_labels_display = tuple(sorted(event.get('source_user_labels', [])))\n",
    "    target_labels_display = tuple(sorted(event.get('target_user_labels', [])))\n",
    "\n",
    "    output = [\n",
    "        f\"Event ID: {event['event_id']}\",\n",
    "        f\"Source: {event['source_user_token']}\",\n",
    "        f\"Target: {event['target_user_token']}\",\n",
    "        f\"Node Type: {event['changed_node_type']}\",\n",
    "        f\"Source labels: {source_labels_display}\",\n",
    "        f\"Target labels: {target_labels_display}\",\n",
    "        f\"Event Time: {event['event_time_millis']}\",\n",
    "        f\"Effective At: {event['effective_at_millis']}\",\n",
    "        f\"Published At: {event['published_at_millis']}\"\n",
    "    ]\n",
    "    return \"\\n  \".join(output)\n",
    "\n",
    "def format_validation_sample(df: pd.DataFrame, validation_type: str, max_samples: int = 3) -> str:\n",
    "    \"\"\"Format validation results with samples of problematic events.\"\"\"\n",
    "    output = []\n",
    "    for idx, event in df.head(max_samples).iterrows():\n",
    "        output.append(f\"\\n{validation_type} {idx + 1}:\")\n",
    "        output.append(\"  \" + format_event(event))\n",
    "    return \"\\n\".join(output)"
   ]
  },
  {
   "cell_type": "code",
   "execution_count": 0,
   "metadata": {
    "application/vnd.databricks.v1+cell": {
     "cellMetadata": {
      "byteLimit": 2048000,
      "rowLimit": 10000
     },
     "inputWidgets": {},
     "nuid": "c0cce3f3-dae9-4281-82cf-d41542c44c42",
     "showTitle": false,
     "tableResultSettingsMap": {},
     "title": ""
    }
   },
   "outputs": [],
   "source": [
    "def analyze_duplicate_event_ids(df):\n",
    "    \"\"\"\n",
    "    Analyze and report on duplicate event_ids in the Spark DataFrame.\n",
    "    For each duplicated event_id, identify if payloads differ.\n",
    "    If payloads differ, categorize if they are swapped or non-swapped with different payloads.\n",
    "    Displays distinct differing payloads (including sorted labels and published_at_millis) for non-swapped cases.\n",
    "    Reports top occurrences specifically for events with non-swapped differing payloads.\n",
    "    \"\"\"\n",
    "\n",
    "    print(\"\\n\\n2. Event IDs that appear more than once:\")\n",
    "\n",
    "    df_prep = df.withColumn(\n",
    "        \"source_labels_s\", \n",
    "        F.sort_array(F.col(\"source_user_labels\"))\n",
    "    ).withColumn(\n",
    "        \"target_labels_s\", \n",
    "        F.sort_array(F.col(\"target_user_labels\"))\n",
    "    )\n",
    "\n",
    "    payload_id_fields = [ \n",
    "        'effective_at_millis',\n",
    "        'event_time_millis',\n",
    "        'source_user_token',\n",
    "        'target_user_token',\n",
    "        'source_labels_s', \n",
    "        'target_labels_s',\n",
    "        'source_edge_from_node_token',\n",
    "        'source_edge_to_node_token',\n",
    "        'source_edge_to_node_type',\n",
    "        'source_edge_effective_at',\n",
    "        'source_edge_created_at',\n",
    "        'source_edge_updated_at'\n",
    "    ]\n",
    "\n",
    "    df_with_payload_struct = df_prep.withColumn(\n",
    "        \"payload_struct\", \n",
    "        F.struct(*[F.col(c) for c in payload_id_fields])\n",
    "    )\n",
    "\n",
    "    all_detail_fields = [ \n",
    "        \"event_id\", \"source_user_token\", \"target_user_token\", \n",
    "        \"source_user_labels\", \"target_user_labels\", \n",
    "        \"source_labels_s\", \"target_labels_s\",       \n",
    "        \"effective_at_millis\", \"event_time_millis\", \n",
    "        \"changed_node_type\", \"published_at_millis\",\n",
    "        \"source_edge_from_node_token\",\n",
    "        \"source_edge_to_node_token\",\n",
    "        \"source_edge_to_node_type\",\n",
    "        \"source_edge_effective_at\",\n",
    "        \"source_edge_created_at\",\n",
    "        \"source_edge_updated_at\"\n",
    "    ]\n",
    "\n",
    "    dupe_analysis_df = ( \n",
    "        df_with_payload_struct.groupBy(\"event_id\")\n",
    "        .agg(\n",
    "            F.count(\"*\").alias(\"total_occurrences\"),\n",
    "            F.collect_set(\"payload_struct\").alias(\"distinct_payloads\"), \n",
    "            F.collect_list(F.struct(*[F.col(c) for c in all_detail_fields]))\n",
    "                .alias(\"all_instances_for_id\") \n",
    "        )\n",
    "        .filter(F.col(\"total_occurrences\") > 1)\n",
    "        .withColumn(\"distinct_payload_count\", F.size(F.col(\"distinct_payloads\"))) \n",
    "        .cache()\n",
    "    )\n",
    "\n",
    "    total_dupe_ids = dupe_analysis_df.count() \n",
    "    print(f\"  Total event_ids with at least one duplicate: {total_dupe_ids}\")\n",
    "\n",
    "    diff_payload_dupes_df = dupe_analysis_df.filter(F.col(\"distinct_payload_count\") > 1).cache() \n",
    "    num_diff_payload_dupe_ids = diff_payload_dupes_df.count() \n",
    "    \n",
    "    print(f\"  Number of these event_ids that have differing business payloads: {num_diff_payload_dupe_ids}\")\n",
    "\n",
    "    swapped_ids_count = 0 \n",
    "    non_swapped_diff_ids_count = 0 \n",
    "    \n",
    "    non_swapped_examples = [] \n",
    "    non_swapped_diff_ids_list = [] \n",
    "\n",
    "    if num_diff_payload_dupe_ids > 0:\n",
    "        diff_payload_rows = diff_payload_dupes_df.collect() \n",
    "\n",
    "        for row_data in diff_payload_rows:\n",
    "            event_id = row_data[\"event_id\"] \n",
    "            distinct_payloads = row_data[\"distinct_payloads\"] \n",
    "            all_instances_for_id = row_data[\"all_instances_for_id\"]\n",
    "\n",
    "            is_swapped = False \n",
    "            if len(distinct_payloads) == 2: \n",
    "                p1 = distinct_payloads[0]\n",
    "                p2 = distinct_payloads[1]\n",
    "                if (p1.effective_at_millis == p2.effective_at_millis and\n",
    "                    p1.event_time_millis == p2.event_time_millis and\n",
    "                    p1.source_user_token == p2.target_user_token and\n",
    "                    p1.target_user_token == p2.source_user_token and\n",
    "                    p1.source_edge_to_node_type == p2.source_edge_to_node_type and\n",
    "                    p1.source_edge_to_node_token == p2.source_edge_to_node_token and\n",
    "                    list(p1.source_labels_s) == list(p2.target_labels_s) and\n",
    "                    list(p1.target_labels_s) == list(p2.source_labels_s)):\n",
    "                    is_swapped = True\n",
    "            \n",
    "            if is_swapped:\n",
    "                swapped_ids_count += 1\n",
    "            else:\n",
    "                non_swapped_diff_ids_count += 1\n",
    "                non_swapped_diff_ids_list.append(event_id)\n",
    "                if len(non_swapped_examples) < 5: \n",
    "                    non_swapped_examples.append(\n",
    "                        (event_id, all_instances_for_id) \n",
    "                    )\n",
    "        \n",
    "        print(f\"    Number of event_ids with differing payloads that ARE SWAPPED: {swapped_ids_count}\")\n",
    "        print(f\"    Number of event_ids with differing payloads that ARE NOT SWAPPED (truly different): {non_swapped_diff_ids_count}\")\n",
    "\n",
    "        if non_swapped_examples:\n",
    "            print(\"\\n  Sample of NON-SWAPPED duplicates with different payloads (showing all event instances for these event_ids):\")\n",
    "            for i, (event_id, event_instances) in enumerate(non_swapped_examples): \n",
    "                print(f\"\\n  --- Example {i + 1} for NON-SWAPPED differing Event ID: {event_id} ---\")\n",
    "                for variant_idx, event_struct in enumerate(event_instances): \n",
    "                    print(f\"    Instance {variant_idx + 1}:\")\n",
    "                    print(f\"      Source Token:      {event_struct.source_user_token}\")\n",
    "                    print(f\"      Target Token:      {event_struct.target_user_token}\")\n",
    "                    print(f\"      Effective At:      {event_struct.effective_at_millis} ({pd.to_datetime(event_struct.effective_at_millis, unit='ms')})\")\n",
    "                    print(f\"      Published At:      {event_struct.published_at_millis} ({pd.to_datetime(event_struct.published_at_millis, unit='ms')})\")\n",
    "                    print(f\"      Source Labels (sorted): {list(event_struct.source_labels_s or [])}\") \n",
    "                    print(f\"      Target Labels (sorted): {list(event_struct.target_labels_s or [])}\") \n",
    "                    print(f\"      Source edge: {event_struct.source_edge_from_node_token} -> {event_struct.source_edge_to_node_type}:{event_struct.source_edge_to_node_token} @ {event_struct.source_edge_effective_at}, created: {event_struct.source_edge_created_at}, updated: {event_struct.source_edge_updated_at}\") \n",
    "            print(\"\\n\")\n",
    "    else:\n",
    "        print(\"  All event_ids with duplicates have identical business payloads.\")\n",
    "\n",
    "    # if non_swapped_diff_ids_list:\n",
    "    #     print(\"\\n  Top 10 event_ids with NON-SWAPPED differing payloads (by total occurrences):\")\n",
    "    #     (dupe_analysis_df\n",
    "    #         .filter(F.col(\"event_id\").isin(non_swapped_diff_ids_list))\n",
    "    #         .select(\"event_id\", \"total_occurrences\", \"distinct_payload_count\")\n",
    "    #         .orderBy(F.col(\"total_occurrences\").desc())\n",
    "    #         .show(10, truncate=False))\n",
    "    # else:\n",
    "    #     print(\"\\n  No event_ids found with NON-SWAPPED differing payloads to show top occurrences for.\")\n",
    "\n",
    "\n",
    "    dupe_analysis_df.unpersist()\n",
    "    diff_payload_dupes_df.unpersist()\n",
    "    \n",
    "    return total_dupe_ids, num_diff_payload_dupe_ids, swapped_ids_count, non_swapped_diff_ids_count"
   ]
  },
  {
   "cell_type": "code",
   "execution_count": 0,
   "metadata": {
    "application/vnd.databricks.v1+cell": {
     "cellMetadata": {
      "byteLimit": 2048000,
      "rowLimit": 10000
     },
     "inputWidgets": {},
     "nuid": "a3cd4bce-86b1-4713-93df-b04263da200c",
     "showTitle": false,
     "tableResultSettingsMap": {},
     "title": ""
    }
   },
   "outputs": [],
   "source": [
    "def validate_bau_connection_change_events(ccgce_table: str, spark_session):\n",
    "    \"\"\"Validate general properties of BAU ConnectionChange events.\n",
    "    \n",
    "    Args:\n",
    "        ccgce_table: Full name of the CashConnectedGraphChangeEvent table to validate\n",
    "        spark_session: The active SparkSession.\n",
    "    \"\"\"\n",
    "    query = f\"\"\"\n",
    "    SELECT \n",
    "        event_time_millis,\n",
    "        cash_connected_graph_change_event.event_id as event_id,\n",
    "        cash_connected_graph_change_event.source_user_token as source_user_token,\n",
    "        cash_connected_graph_change_event.target_user_token as target_user_token,\n",
    "        cash_connected_graph_change_event.effective_at_millis as effective_at_millis,\n",
    "        cash_connected_graph_change_event.published_at_millis as published_at_millis,\n",
    "        cash_connected_graph_change_event.connection_change.changed_node_type as changed_node_type,\n",
    "        cash_connected_graph_change_event.connection_change.source_user_labels as source_user_labels,\n",
    "        cash_connected_graph_change_event.connection_change.target_user_labels as target_user_labels,\n",
    "        cash_connected_graph_change_event.connection_change.source_edge.from_node.token as source_edge_from_node_token,\n",
    "        cash_connected_graph_change_event.connection_change.source_edge.to_node.type as source_edge_to_node_type,\n",
    "        cash_connected_graph_change_event.connection_change.source_edge.to_node.token as source_edge_to_node_token,\n",
    "        cash_connected_graph_change_event.connection_change.source_edge.effective_at_msec as source_edge_effective_at,\n",
    "        cash_connected_graph_change_event.connection_change.source_edge.created_at as source_edge_created_at,\n",
    "        cash_connected_graph_change_event.connection_change.source_edge.updated_at as source_edge_updated_at\n",
    "    FROM {ccgce_table}\n",
    "    WHERE cash_connected_graph_change_event.event_source_type = 'BAU'\n",
    "    AND cash_connected_graph_change_event.connection_change is not null\n",
    "    \"\"\"\n",
    "    \n",
    "    spark_df = spark_session.sql(query)\n",
    "    spark_df.cache() \n",
    "\n",
    "    total_events = spark_df.count()\n",
    "    print(f\"Total events: {total_events}\\n\")\n",
    "\n",
    "    if total_events == 0:\n",
    "        spark_df.unpersist()\n",
    "        return\n",
    "    \n",
    "    spark_df_parsed = spark_df.withColumn(\"id_parts\", parse_event_id_udf(col(\"event_id\")))\n",
    "    spark_df_parsed.cache() # Cache the parsed version as well\n",
    "\n",
    "    # 1. Check for self-referential events\n",
    "    self_ref_df = spark_df_parsed.filter(col(\"source_user_token\") == col(\"target_user_token\"))\n",
    "    self_ref_count = self_ref_df.count()\n",
    "    print(\"\\n1. Events with same source and target user:\")\n",
    "    print(f\"Total count: {self_ref_count}\")\n",
    "    if self_ref_count > 0:\n",
    "        print(\"\\nSample of such events:\")\n",
    "        print(format_validation_sample(self_ref_df.limit(3).toPandas(), \"Self-referential event\"))\n",
    "\n",
    "    # 2. Check for duplicate event IDs\n",
    "    dup_id_count, dup_mismatched_payload_count, swapped_count, non_swapped_count = analyze_duplicate_event_ids(spark_df_parsed)\n",
    "\n",
    "    # 3. Check for mismatched timestamps\n",
    "    timestamp_mismatch_df = spark_df_parsed.filter(col(\"event_time_millis\") != col(\"effective_at_millis\"))\n",
    "    timestamp_mismatch_count = timestamp_mismatch_df.count()\n",
    "    print(\"\\n\\n3. Events with event_time_millis != effective_at_millis:\")\n",
    "    print(f\"Total count: {timestamp_mismatch_count}\")\n",
    "    if timestamp_mismatch_count > 0:\n",
    "        print(\"\\nSample of such events:\")\n",
    "        print(format_validation_sample(timestamp_mismatch_df.limit(3).toPandas(), \"Mismatched root timestamp\"))\n",
    "\n",
    "    # 4. Check for node type mismatches\n",
    "    node_type_mismatch_df = spark_df_parsed.filter(col(\"id_parts.id_node_type\") != col(\"changed_node_type\"))\n",
    "    node_type_mismatch_count = node_type_mismatch_df.count()\n",
    "    print(\"\\n\\n4. Events where changed_node_type (payload) != id_node_type (from event_id):\") \n",
    "    print(f\"Total count: {node_type_mismatch_count}\")\n",
    "    if node_type_mismatch_count > 0:\n",
    "        print(\"\\nSample of such events:\") \n",
    "        print(format_validation_sample(node_type_mismatch_df.limit(3).toPandas(), \"Node type mismatch (payload vs ID)\"))\n",
    "\n",
    "    # 5. Check for user token mismatches\n",
    "    token_mismatch_df = spark_df_parsed.filter(\n",
    "        ((col(\"id_parts.id_token1\") != col(\"target_user_token\")) & (col(\"id_parts.id_token1\") != col(\"source_user_token\"))) | \\\n",
    "        ((col(\"id_parts.id_token2\") != col(\"target_user_token\")) & (col(\"id_parts.id_token2\") != col(\"source_user_token\")))\n",
    "    )\n",
    "    token_mismatch_count = token_mismatch_df.count()\n",
    "    print(\"\\n\\n5. Events where source/target tokens (payload) don't match event_id structure:\") \n",
    "    print(f\"Total count: {token_mismatch_count}\")\n",
    "    if token_mismatch_count > 0:\n",
    "        print(\"\\nSample of such events:\") \n",
    "        print(format_validation_sample(token_mismatch_df.limit(3).toPandas(), \"Token mismatch (payload vs ID)\"))\n",
    "\n",
    "    # Print summary\n",
    "    print(\"\\n\\nValidation Summary:\")\n",
    "    print(f\"Total events validated: {total_events}\")\n",
    "    print(f\"Self-referential events: {self_ref_count}\")\n",
    "    print(f\"Event IDs with duplicates: {dup_id_count}. Differing payloads: {dup_mismatched_payload_count} (Swapped: {swapped_count}, Non-Swapped Diff: {non_swapped_count})\")\n",
    "    #print(f\"Event IDs with duplicates: {dup_id_count}. With mismarched payloads: {dup_mismatched_payload_count}\")\n",
    "    print(f\"Events with timestamp mismatches: {timestamp_mismatch_count}\")\n",
    "    print(f\"Events with node type mismatches: {node_type_mismatch_count}\")\n",
    "    print(f\"Events with token mismatches: {token_mismatch_count}\")"
   ]
  },
  {
   "cell_type": "code",
   "execution_count": 0,
   "metadata": {
    "application/vnd.databricks.v1+cell": {
     "cellMetadata": {
      "byteLimit": 2048000,
      "rowLimit": 10000
     },
     "inputWidgets": {},
     "nuid": "455617d9-e8b5-464a-bc69-2b49032f567f",
     "showTitle": false,
     "tableResultSettingsMap": {},
     "title": ""
    }
   },
   "outputs": [
    {
     "output_type": "stream",
     "name": "stdout",
     "output_type": "stream",
     "text": [
      "Total events: 5006462\n\n\n1. Events with same source and target user:\nTotal count: 0\n\n\n2. Event IDs that appear more than once:\n  Total event_ids with at least one duplicate: 145799\n  Number of these event_ids that have differing business payloads: 145797\n    Number of event_ids with differing payloads that ARE SWAPPED: 4\n    Number of event_ids with differing payloads that ARE NOT SWAPPED (truly different): 145793\n\n  Sample of NON-SWAPPED duplicates with different payloads (showing all event instances for these event_ids):\n\n  --- Example 1 for NON-SWAPPED differing Event ID: E/AH_01mge3c0g/AH_21ypqp2ag/CASH_DEVICE ---\n    Instance 1:\n      Source Token:      AH_01mge3c0g\n      Target Token:      AH_21ypqp2ag\n      Effective At:      1750910160394 (2025-06-26 03:56:00.394000)\n      Published At:      1750910162867 (2025-06-26 03:56:02.867000)\n      Source Labels (sorted): []\n      Target Labels (sorted): []\n      Source edge: C_g0c3egm10 -> CASH_DEVICE:F03729DD-4A79-47E5-9054-19BCC04F0421 @ 1750910160573, created: 1750910160924, updated: 1750910160924\n    Instance 2:\n      Source Token:      AH_01mge3c0g\n      Target Token:      AH_21ypqp2ag\n      Effective At:      1750910160394 (2025-06-26 03:56:00.394000)\n      Published At:      1750910163837 (2025-06-26 03:56:03.837000)\n      Source Labels (sorted): []\n      Target Labels (sorted): []\n      Source edge: C_g0c3egm10 -> CASH_DEVICE:F03729DD-4A79-47E5-9054-19BCC04F0421 @ 1750910160394, created: 1750910160924, updated: 1750910161287\n    Instance 3:\n      Source Token:      AH_01mge3c0g\n      Target Token:      AH_21ypqp2ag\n      Effective At:      1750910160394 (2025-06-26 03:56:00.394000)\n      Published At:      1750910164539 (2025-06-26 03:56:04.539000)\n      Source Labels (sorted): []\n      Target Labels (sorted): []\n      Source edge: C_g0c3egm10 -> CASH_DEVICE:D504E167-E67C-4B07-A116-0616886A0D1E @ 1750910160394, created: 1750910161287, updated: 1750910161287\n\n  --- Example 2 for NON-SWAPPED differing Event ID: E/AH_01mhxwess/AH_spm0wf2sf/CASH_DEVICE ---\n    Instance 1:\n      Source Token:      AH_01mhxwess\n      Target Token:      AH_spm0wf2sf\n      Effective At:      1750929143004 (2025-06-26 09:12:23.004000)\n      Published At:      1750929145688 (2025-06-26 09:12:25.688000)\n      Source Labels (sorted): []\n      Target Labels (sorted): []\n      Source edge: C_ssewxhm10 -> CASH_DEVICE:367debb29eecac86 @ 1750929143196, created: 1750929143315, updated: 1750929143315\n    Instance 2:\n      Source Token:      AH_01mhxwess\n      Target Token:      AH_spm0wf2sf\n      Effective At:      1750929143004 (2025-06-26 09:12:23.004000)\n      Published At:      1750929145739 (2025-06-26 09:12:25.739000)\n      Source Labels (sorted): []\n      Target Labels (sorted): []\n      Source edge: C_ssewxhm10 -> CASH_DEVICE:367debb29eecac86 @ 1750929143004, created: 1750929143315, updated: 1750929143464\n\n  --- Example 3 for NON-SWAPPED differing Event ID: E/AH_01mpdacs8/AH_gdmqeqeqf/CASH_DEVICE ---\n    Instance 1:\n      Source Token:      AH_01mpdacs8\n      Target Token:      AH_gdmqeqeqf\n      Effective At:      1750924969531 (2025-06-26 08:02:49.531000)\n      Published At:      1750924971735 (2025-06-26 08:02:51.735000)\n      Source Labels (sorted): []\n      Target Labels (sorted): []\n      Source edge: C_8scadpm10 -> CASH_DEVICE:a4c70b66627ed032 @ 1750924969718, created: 1750924969875, updated: 1750924969875\n    Instance 2:\n      Source Token:      AH_01mpdacs8\n      Target Token:      AH_gdmqeqeqf\n      Effective At:      1750924969531 (2025-06-26 08:02:49.531000)\n      Published At:      1750924973241 (2025-06-26 08:02:53.241000)\n      Source Labels (sorted): []\n      Target Labels (sorted): []\n      Source edge: C_8scadpm10 -> CASH_DEVICE:a4c70b66627ed032 @ 1750924969531, created: 1750924969875, updated: 1750924971090\n\n  --- Example 4 for NON-SWAPPED differing Event ID: E/AH_01y0k5dan/AH_98m1w0d90/CASH_DEVICE ---\n    Instance 1:\n      Source Token:      AH_98m1w0d90\n      Target Token:      AH_01y0k5dan\n      Effective At:      1750916981476 (2025-06-26 05:49:41.476000)\n      Published At:      1750916987827 (2025-06-26 05:49:47.827000)\n      Source Labels (sorted): []\n      Target Labels (sorted): ['BLACKLISTED', 'DENYLISTED_BY_ORM', 'HAS_EV_SUSPENSION']\n      Source edge: C_09d0w1m89 -> CASH_DEVICE:BADB9477-EB83-436C-A438-C96F19A50A05 @ 1750916981476, created: 1750916982004, updated: 1750916982650\n    Instance 2:\n      Source Token:      AH_98m1w0d90\n      Target Token:      AH_01y0k5dan\n      Effective At:      1750916981476 (2025-06-26 05:49:41.476000)\n      Published At:      1750916989479 (2025-06-26 05:49:49.479000)\n      Source Labels (sorted): []\n      Target Labels (sorted): ['BLACKLISTED', 'DENYLISTED_BY_ORM', 'HAS_EV_SUSPENSION']\n      Source edge: C_09d0w1m89 -> CASH_DEVICE:BADB9477-EB83-436C-A438-C96F19A50A05 @ 1750916981660, created: 1750916982004, updated: 1750916982004\n    Instance 3:\n      Source Token:      AH_98m1w0d90\n      Target Token:      AH_01y0k5dan\n      Effective At:      1750916981476 (2025-06-26 05:49:41.476000)\n      Published At:      1750916990584 (2025-06-26 05:49:50.584000)\n      Source Labels (sorted): []\n      Target Labels (sorted): ['BLACKLISTED', 'DENYLISTED_BY_ORM', 'HAS_EV_SUSPENSION']\n      Source edge: C_09d0w1m89 -> CASH_DEVICE:01A2D374-531E-49CD-81C3-AE8EE8FFEE67 @ 1750916981476, created: 1750916982650, updated: 1750916982650\n\n  --- Example 5 for NON-SWAPPED differing Event ID: E/AH_03mac7e9f/AH_pmm0xc2ah/CASH_DEVICE ---\n    Instance 1:\n      Source Token:      AH_pmm0xc2ah\n      Target Token:      AH_03mac7e9f\n      Effective At:      1750940589419 (2025-06-26 12:23:09.419000)\n      Published At:      1750940597432 (2025-06-26 12:23:17.432000)\n      Source Labels (sorted): ['HAS_ANY_CASH_DISPUTE', 'HAS_CASH_CARD_DISPUTE']\n      Target Labels (sorted): []\n      Source edge: C_ha2cx0mmp -> CASH_DEVICE:d69c7a5764be8102 @ 1750940589419, created: 1750940589832, updated: 1750940593536\n    Instance 2:\n      Source Token:      AH_pmm0xc2ah\n      Target Token:      AH_03mac7e9f\n      Effective At:      1750940589419 (2025-06-26 12:23:09.419000)\n      Published At:      1750940604058 (2025-06-26 12:23:24.058000)\n      Source Labels (sorted): ['HAS_ANY_CASH_DISPUTE', 'HAS_CASH_CARD_DISPUTE']\n      Target Labels (sorted): []\n      Source edge: C_ha2cx0mmp -> CASH_DEVICE:d69c7a5764be8102 @ 1750940589599, created: 1750940589832, updated: 1750940589832\n\n\n\n\n3. Events with event_time_millis != effective_at_millis:\nTotal count: 0\n\n\n4. Events where changed_node_type (payload) != id_node_type (from event_id):\nTotal count: 0\n\n\n5. Events where source/target tokens (payload) don't match event_id structure:\nTotal count: 0\n\n\nValidation Summary:\nTotal events validated: 5006462\nSelf-referential events: 0\nEvent IDs with duplicates: 145799. Differing payloads: 145797 (Swapped: 4, Non-Swapped Diff: 145793)\nEvents with timestamp mismatches: 0\nEvents with node type mismatches: 0\nEvents with token mismatches: 0\n"
     ]
    }
   ],
   "source": [
    "validate_bau_connection_change_events(ccgce_table, spark)"
   ]
  },
  {
   "cell_type": "markdown",
   "metadata": {
    "application/vnd.databricks.v1+cell": {
     "cellMetadata": {},
     "inputWidgets": {},
     "nuid": "35cd27c8-c8f4-45df-95e3-ff59a7d8a4bc",
     "showTitle": false,
     "tableResultSettingsMap": {},
     "title": ""
    }
   },
   "source": [
    "### Duplicate event_ids in output\n",
    "\n",
    "A small number of duplicate `event_id`s were observed in edgy's ConnectionChange output events (~3%). Spot checking of a few examples suggests that these are often a result of Duplograph publishing an update to an existing edge with an earlier `effective_at` timestamp within seconds of when the original edge was created. Race conditions are likely in such scenarios, but overall edgy's behaviour appears to be correct, i.e. it publishes a ConnectionChange event with the earliest effective_at time it can find. Some of the duplicates are also caused by account holders who are connected by two different assets of the same type at the exact same time - in this scenario edgy is expected to publish a ConnectionChange event for both connections by design."
   ]
  }
 ],
 "metadata": {
  "application/vnd.databricks.v1+notebook": {
   "computePreferences": null,
   "dashboards": [],
   "environmentMetadata": null,
   "inputWidgetPreferences": null,
   "language": "python",
   "notebookMetadata": {
    "mostRecentlyExecutedCommandWithImplicitDF": {
     "commandId": -1,
     "dataframes": [
      "_sqldf"
     ]
    },
    "pythonIndentUnit": 4
   },
   "notebookName": "edgy_bau_edge_validation",
   "widgets": {}
  },
  "kernelspec": {
   "display_name": "Python 3",
   "language": "python",
   "name": "python3"
  },
  "language_info": {
   "name": "python"
  }
 },
 "nbformat": 4,
 "nbformat_minor": 0
}