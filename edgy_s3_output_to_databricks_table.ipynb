{
 "cells": [
  {
   "cell_type": "markdown",
   "metadata": {
    "application/vnd.databricks.v1+cell": {
     "cellMetadata": {},
     "inputWidgets": {},
     "nuid": "76a1e8f1-7218-42f0-b3a4-5672e8fed4c5",
     "showTitle": false,
     "tableResultSettingsMap": {},
     "title": ""
    }
   },
   "source": [
    "# Load Edgy output from S3 to a databricks table\n",
    "\n",
    "Use this notebook to load CashConnectedGraphChangeEvent data from avro files in edgy's S3 archive into a databricks table."
   ]
  },
  {
   "cell_type": "code",
   "execution_count": 0,
   "metadata": {
    "application/vnd.databricks.v1+cell": {
     "cellMetadata": {
      "byteLimit": 2048000,
      "rowLimit": 10000
     },
     "inputWidgets": {},
     "nuid": "240c2c72-584e-4d32-864b-054a879dfb0d",
     "showTitle": false,
     "tableResultSettingsMap": {},
     "title": ""
    }
   },
   "outputs": [
    {
     "output_type": "stream",
     "name": "stdout",
     "output_type": "stream",
     "text": [
      "Python interpreter will be restarted.\nLooking in indexes: https://pypi.org/simple, https://artifactory.global.square/artifactory/api/pypi/block-pypi/simple\nCollecting sq-protos-py\n  Downloading https://artifactory.global.square/artifactory/api/pypi/block-pypi/sq-protos-py/20250701.2936/sq_protos_py-20250701.2936-py2.py3-none-any.whl (63.5 MB)\nCollecting protobuf<=4.21.0,>=3.20.0\n  Downloading https://artifactory.global.square/artifactory/api/pypi/block-pypi/packages/packages/c7/df/ec3ecb8c940b36121c7b77c10acebf3d1c736498aa2f1fe3b6231ee44e76/protobuf-3.20.3-cp39-cp39-manylinux_2_5_x86_64.manylinux1_x86_64.whl (1.0 MB)\nCollecting redbaron\n  Downloading https://artifactory.global.square/artifactory/api/pypi/block-pypi/packages/packages/d8/06/c1c97efe5d30593337721923c5813b3b4eaffcffb706e523acf3d3bc9e8c/redbaron-0.9.2-py2.py3-none-any.whl (34 kB)\nRequirement already satisfied: six in /databricks/python3/lib/python3.9/site-packages (from sq-protos-py) (1.16.0)\nRequirement already satisfied: grpcio>=1.20.1 in /databricks/python3/lib/python3.9/site-packages (from sq-protos-py) (1.42.0)\nCollecting baron>=0.7\n  Downloading https://artifactory.global.square/artifactory/api/pypi/block-pypi/packages/packages/5b/e5/d0bff1cda8e5404a41aedd734a2f6087eaa152966df0c84bc0522b2b4ef0/baron-0.10.1-py2.py3-none-any.whl (45 kB)\nCollecting rply\n  Downloading https://artifactory.global.square/artifactory/api/pypi/block-pypi/packages/packages/c0/7c/f66be9e75485ae6901ae77d8bdbc3c0e99ca748ab927b3e18205759bde09/rply-0.7.8-py2.py3-none-any.whl (16 kB)\nCollecting appdirs\n  Downloading https://artifactory.global.square/artifactory/api/pypi/block-pypi/packages/packages/3b/00/2344469e2084fb287c2e0b57b72910309874c3245463acd6cf5e3db69324/appdirs-1.4.4-py2.py3-none-any.whl (9.6 kB)\nInstalling collected packages: appdirs, rply, baron, redbaron, protobuf, sq-protos-py\n  Attempting uninstall: protobuf\n    Found existing installation: protobuf 3.19.4\n    Not uninstalling protobuf at /databricks/python3/lib/python3.9/site-packages, outside environment /local_disk0/.ephemeral_nfs/envs/pythonEnv-de800ffd-e189-4965-af58-55896b594137\n    Can't uninstall 'protobuf'. No files were found to uninstall.\nERROR: pip's dependency resolver does not currently take into account all the packages that are installed. This behaviour is the source of the following dependency conflicts.\ndatabricks-feature-store 0.10.1 requires pyspark<4,>=3.1.2, which is not installed.\ntensorflow-cpu 2.11.1 requires protobuf<3.20,>=3.9.2, but you have protobuf 3.20.3 which is incompatible.\nmlflow-skinny 2.1.1 requires packaging<23, but you have packaging 24.2 which is incompatible.\nSuccessfully installed appdirs-1.4.4 baron-0.10.1 protobuf-3.20.3 redbaron-0.9.2 rply-0.7.8 sq-protos-py-20250701.2936\nPython interpreter will be restarted.\nPython interpreter will be restarted.\nLooking in indexes: https://pypi.org/simple, https://artifactory.global.square/artifactory/api/pypi/block-pypi/simple\nCollecting block-cloud-auth\n  Downloading https://artifactory.global.square/artifactory/api/pypi/block-pypi/block-cloud-auth/1.0.8/block_cloud_auth-1.0.8-py3-none-any.whl (53 kB)\nRequirement already satisfied: requests<3.0.0,>=2.20.0 in /databricks/python3/lib/python3.9/site-packages (from block-cloud-auth) (2.27.1)\nRequirement already satisfied: pyyaml<7.0,>=6.0 in /databricks/python3/lib/python3.9/site-packages (from block-cloud-auth) (6.0)\nRequirement already satisfied: click>=8.0.0 in /databricks/python3/lib/python3.9/site-packages (from block-cloud-auth) (8.0.4)\nCollecting google-cloud-compute<2.0.0,>=1.15.0\n  Downloading https://artifactory.global.square/artifactory/api/pypi/block-pypi/packages/packages/61/04/d2a5ddf089787025c5003f58faa70f3e59aa62206da1c545098ecbf2ca0e/google_cloud_compute-1.31.0-py3-none-any.whl (3.4 MB)\nRequirement already satisfied: boto3<2.0.0,>=1.34.100 in /databricks/python3/lib/python3.9/site-packages (from block-cloud-auth) (1.39.0)\nCollecting google-auth>=2.0.0\n  Downloading https://artifactory.global.square/artifactory/api/pypi/block-pypi/packages/packages/17/63/b19553b658a1692443c62bd07e5868adaa0ad746a0751ba62c59568cd45b/google_auth-2.40.3-py2.py3-none-any.whl (216 kB)\nRequirement already satisfied: importlib-resources<7.0.0,>=6.1.1 in /local_disk0/.ephemeral_nfs/cluster_libraries/python/lib/python3.9/site-packages (from block-cloud-auth) (6.5.2)\nCollecting werkzeug==3.0.3\n  Downloading https://artifactory.global.square/artifactory/api/pypi/block-pypi/packages/packages/9d/6e/e792999e816d19d7fcbfa94c730936750036d65656a76a5a688b57a656c4/werkzeug-3.0.3-py3-none-any.whl (227 kB)\nCollecting cryptography<37.0.0\n  Downloading https://artifactory.global.square/artifactory/api/pypi/block-pypi/packages/packages/01/86/4379b5eaafa5ea4b0081fa65a72849d6bba98e35c1da66f4b7a86878714d/cryptography-36.0.2-cp36-abi3-manylinux_2_24_x86_64.whl (3.6 MB)\nCollecting google-cloud-secret-manager>=2.0.0\n  Downloading https://artifactory.global.square/artifactory/api/pypi/block-pypi/packages/packages/be/af/db1217cae1809e69a4527ee6293b82a9af2a1fb2313ad110c775e8f3c820/google_cloud_secret_manager-2.24.0-py3-none-any.whl (218 kB)\nCollecting keyring>=23.5.0\n  Downloading https://artifactory.global.square/artifactory/api/pypi/block-pypi/packages/packages/d3/32/da7f44bcb1105d3e88a0b74ebdca50c59121d2ddf71c9e34ba47df7f3a56/keyring-25.6.0-py3-none-any.whl (39 kB)\nCollecting MarkupSafe>=2.1.1\n  Downloading https://artifactory.global.square/artifactory/api/pypi/block-pypi/packages/packages/53/8f/f339c98a178f3c1e545622206b40986a4c3307fe39f70ccd3d9df9a9e425/MarkupSafe-3.0.2-cp39-cp39-manylinux_2_17_x86_64.manylinux2014_x86_64.whl (20 kB)\nRequirement already satisfied: botocore<1.40.0,>=1.39.0 in /databricks/python3/lib/python3.9/site-packages (from boto3<2.0.0,>=1.34.100->block-cloud-auth) (1.39.0)\nRequirement already satisfied: s3transfer<0.14.0,>=0.13.0 in /databricks/python3/lib/python3.9/site-packages (from boto3<2.0.0,>=1.34.100->block-cloud-auth) (0.13.0)\nRequirement already satisfied: jmespath<2.0.0,>=0.7.1 in /databricks/python3/lib/python3.9/site-packages (from boto3<2.0.0,>=1.34.100->block-cloud-auth) (0.10.0)\nRequirement already satisfied: python-dateutil<3.0.0,>=2.1 in /databricks/python3/lib/python3.9/site-packages (from botocore<1.40.0,>=1.39.0->boto3<2.0.0,>=1.34.100->block-cloud-auth) (2.8.2)\nRequirement already satisfied: urllib3<1.27,>=1.25.4 in /databricks/python3/lib/python3.9/site-packages (from botocore<1.40.0,>=1.39.0->boto3<2.0.0,>=1.34.100->block-cloud-auth) (1.26.9)\nRequirement already satisfied: cffi>=1.12 in /databricks/python3/lib/python3.9/site-packages (from cryptography<37.0.0->block-cloud-auth) (1.15.0)\nRequirement already satisfied: pycparser in /databricks/python3/lib/python3.9/site-packages (from cffi>=1.12->cryptography<37.0.0->block-cloud-auth) (2.21)\nRequirement already satisfied: cachetools<6.0,>=2.0.0 in /databricks/python3/lib/python3.9/site-packages (from google-auth>=2.0.0->block-cloud-auth) (4.2.2)\nRequirement already satisfied: rsa<5,>=3.1.4 in /databricks/python3/lib/python3.9/site-packages (from google-auth>=2.0.0->block-cloud-auth) (4.7.2)\nRequirement already satisfied: pyasn1-modules>=0.2.1 in /databricks/python3/lib/python3.9/site-packages (from google-auth>=2.0.0->block-cloud-auth) (0.2.8)\nRequirement already satisfied: protobuf!=4.21.0,!=4.21.1,!=4.21.2,!=4.21.3,!=4.21.4,!=4.21.5,<7.0.0,>=3.20.2 in /local_disk0/.ephemeral_nfs/envs/pythonEnv-de800ffd-e189-4965-af58-55896b594137/lib/python3.9/site-packages (from google-cloud-compute<2.0.0,>=1.15.0->block-cloud-auth) (3.20.3)\nCollecting google-api-core[grpc]!=2.0.*,!=2.1.*,!=2.10.*,!=2.2.*,!=2.3.*,!=2.4.*,!=2.5.*,!=2.6.*,!=2.7.*,!=2.8.*,!=2.9.*,<3.0.0,>=1.34.1\n  Downloading https://artifactory.global.square/artifactory/api/pypi/block-pypi/packages/packages/14/4b/ead00905132820b623732b175d66354e9d3e69fcf2a5dcdab780664e7896/google_api_core-2.25.1-py3-none-any.whl (160 kB)\nCollecting proto-plus<2.0.0,>=1.22.3\n  Downloading https://artifactory.global.square/artifactory/api/pypi/block-pypi/packages/packages/4e/6d/280c4c2ce28b1593a19ad5239c8b826871fc6ec275c21afc8e1820108039/proto_plus-1.26.1-py3-none-any.whl (50 kB)\nCollecting googleapis-common-protos<2.0.0,>=1.56.2\n  Downloading https://artifactory.global.square/artifactory/api/pypi/block-pypi/packages/packages/86/f1/62a193f0227cf15a920390abe675f386dec35f7ae3ffe6da582d3ade42c7/googleapis_common_protos-1.70.0-py3-none-any.whl (294 kB)\nRequirement already satisfied: grpcio<2.0.0,>=1.33.2 in /databricks/python3/lib/python3.9/site-packages (from google-api-core[grpc]!=2.0.*,!=2.1.*,!=2.10.*,!=2.2.*,!=2.3.*,!=2.4.*,!=2.5.*,!=2.6.*,!=2.7.*,!=2.8.*,!=2.9.*,<3.0.0,>=1.34.1->google-cloud-compute<2.0.0,>=1.15.0->block-cloud-auth) (1.42.0)\nCollecting grpcio-status<2.0.0,>=1.33.2\n  Downloading https://artifactory.global.square/artifactory/api/pypi/block-pypi/packages/packages/2e/50/ee32e6073e2c3a4457be168e2bbf84d02ad9d2c18c4a578a641480c293d4/grpcio_status-1.73.1-py3-none-any.whl (14 kB)\nCollecting grpc-google-iam-v1<1.0.0,>=0.14.0\n  Downloading https://artifactory.global.square/artifactory/api/pypi/block-pypi/packages/packages/66/6f/dd9b178aee7835b96c2e63715aba6516a9d50f6bebbd1cc1d32c82a2a6c3/grpc_google_iam_v1-0.14.2-py3-none-any.whl (19 kB)\nCollecting grpcio<2.0.0,>=1.33.2\n  Downloading https://artifactory.global.square/artifactory/api/pypi/block-pypi/packages/packages/cb/e2/d6fb85964d52d30baace1a6b2fe1be7941882239ae1f1cda2aaa80827ccd/grpcio-1.73.1-cp39-cp39-manylinux_2_17_x86_64.manylinux2014_x86_64.whl (6.0 MB)\nCollecting protobuf!=4.21.0,!=4.21.1,!=4.21.2,!=4.21.3,!=4.21.4,!=4.21.5,<7.0.0,>=3.20.2\n  Downloading https://artifactory.global.square/artifactory/api/pypi/block-pypi/packages/packages/fa/b1/b59d405d64d31999244643d88c45c8241c58f17cc887e73bcb90602327f8/protobuf-6.31.1-cp39-abi3-manylinux2014_x86_64.whl (321 kB)\nRequirement already satisfied: zipp>=3.1.0 in /databricks/python3/lib/python3.9/site-packages (from importlib-resources<7.0.0,>=6.1.1->block-cloud-auth) (3.7.0)\nCollecting jaraco.classes\n  Downloading https://artifactory.global.square/artifactory/api/pypi/block-pypi/packages/packages/7f/66/b15ce62552d84bbfcec9a4873ab79d993a1dd4edb922cbfccae192bd5b5f/jaraco.classes-3.4.0-py3-none-any.whl (6.8 kB)\nCollecting importlib_metadata>=4.11.4\n  Downloading https://artifactory.global.square/artifactory/api/pypi/block-pypi/packages/packages/20/b0/36bd937216ec521246249be3bf9855081de4c5e06a0c9b4219dbeda50373/importlib_metadata-8.7.0-py3-none-any.whl (27 kB)\nCollecting SecretStorage>=3.2\n  Downloading https://artifactory.global.square/artifactory/api/pypi/block-pypi/packages/packages/54/24/b4293291fa1dd830f353d2cb163295742fa87f179fcc8a20a306a81978b7/SecretStorage-3.3.3-py3-none-any.whl (15 kB)\nCollecting jaraco.context\n  Downloading https://artifactory.global.square/artifactory/api/pypi/block-pypi/packages/packages/ff/db/0c52c4cf5e4bd9f5d7135ec7669a3a767af21b3a308e1ed3674881e52b62/jaraco.context-6.0.1-py3-none-any.whl (6.8 kB)\nCollecting jeepney>=0.4.2\n  Downloading https://artifactory.global.square/artifactory/api/pypi/block-pypi/packages/packages/b2/a3/e137168c9c44d18eff0376253da9f1e9234d0239e0ee230d2fee6cea8e55/jeepney-0.9.0-py3-none-any.whl (49 kB)\nCollecting jaraco.functools\n  Downloading https://artifactory.global.square/artifactory/api/pypi/block-pypi/packages/packages/f3/fd/179a20f832824514df39a90bb0e5372b314fea99f217f5ab942b10a8a4e8/jaraco_functools-4.2.1-py3-none-any.whl (10 kB)\nCollecting zipp>=3.1.0\n  Downloading https://artifactory.global.square/artifactory/api/pypi/block-pypi/packages/packages/2e/54/647ade08bf0db230bfea292f893923872fd20be6ac6f53b2b936ba839d75/zipp-3.23.0-py3-none-any.whl (10 kB)\nRequirement already satisfied: pyasn1<0.5.0,>=0.4.6 in /databricks/python3/lib/python3.9/site-packages (from pyasn1-modules>=0.2.1->google-auth>=2.0.0->block-cloud-auth) (0.4.8)\nRequirement already satisfied: six>=1.5 in /databricks/python3/lib/python3.9/site-packages (from python-dateutil<3.0.0,>=2.1->botocore<1.40.0,>=1.39.0->boto3<2.0.0,>=1.34.100->block-cloud-auth) (1.16.0)\nRequirement already satisfied: charset-normalizer~=2.0.0 in /databricks/python3/lib/python3.9/site-packages (from requests<3.0.0,>=2.20.0->block-cloud-auth) (2.0.4)\nRequirement already satisfied: idna<4,>=2.5 in /databricks/python3/lib/python3.9/site-packages (from requests<3.0.0,>=2.20.0->block-cloud-auth) (3.3)\nRequirement already satisfied: certifi>=2017.4.17 in /databricks/python3/lib/python3.9/site-packages (from requests<3.0.0,>=2.20.0->block-cloud-auth) (2021.10.8)\nCollecting more-itertools\n  Downloading https://artifactory.global.square/artifactory/api/pypi/block-pypi/packages/packages/2b/9f/7ba6f94fc1e9ac3d2b853fdff3035fb2fa5afbed898c4a72b8a020610594/more_itertools-10.7.0-py3-none-any.whl (65 kB)\nCollecting backports.tarfile\n  Downloading https://artifactory.global.square/artifactory/api/pypi/block-pypi/packages/packages/b9/fa/123043af240e49752f1c4bd24da5053b6bd00cad78c2be53c0d1e8b975bc/backports.tarfile-1.2.0-py3-none-any.whl (30 kB)\nInstalling collected packages: protobuf, proto-plus, grpcio, googleapis-common-protos, google-auth, zipp, more-itertools, jeepney, grpcio-status, google-api-core, cryptography, backports.tarfile, SecretStorage, MarkupSafe, jaraco.functools, jaraco.context, jaraco.classes, importlib-metadata, grpc-google-iam-v1, werkzeug, keyring, google-cloud-secret-manager, google-cloud-compute, block-cloud-auth\n  Attempting uninstall: protobuf\n    Found existing installation: protobuf 3.20.3\n    Uninstalling protobuf-3.20.3:\n      Successfully uninstalled protobuf-3.20.3\n  Attempting uninstall: grpcio\n    Found existing installation: grpcio 1.42.0\n    Not uninstalling grpcio at /databricks/python3/lib/python3.9/site-packages, outside environment /local_disk0/.ephemeral_nfs/envs/pythonEnv-de800ffd-e189-4965-af58-55896b594137\n    Can't uninstall 'grpcio'. No files were found to uninstall.\n  Attempting uninstall: google-auth\n    Found existing installation: google-auth 1.33.0\n    Not uninstalling google-auth at /databricks/python3/lib/python3.9/site-packages, outside environment /local_disk0/.ephemeral_nfs/envs/pythonEnv-de800ffd-e189-4965-af58-55896b594137\n    Can't uninstall 'google-auth'. No files were found to uninstall.\n  Attempting uninstall: zipp\n    Found existing installation: zipp 3.7.0\n    Not uninstalling zipp at /databricks/python3/lib/python3.9/site-packages, outside environment /local_disk0/.ephemeral_nfs/envs/pythonEnv-de800ffd-e189-4965-af58-55896b594137\n    Can't uninstall 'zipp'. No files were found to uninstall.\n  Attempting uninstall: cryptography\n    Found existing installation: cryptography 45.0.4\n    Not uninstalling cryptography at /databricks/python3/lib/python3.9/site-packages, outside environment /local_disk0/.ephemeral_nfs/envs/pythonEnv-de800ffd-e189-4965-af58-55896b594137\n    Can't uninstall 'cryptography'. No files were found to uninstall.\n  Attempting uninstall: MarkupSafe\n    Found existing installation: MarkupSafe 2.0.1\n    Not uninstalling markupsafe at /databricks/python3/lib/python3.9/site-packages, outside environment /local_disk0/.ephemeral_nfs/envs/pythonEnv-de800ffd-e189-4965-af58-55896b594137\n    Can't uninstall 'MarkupSafe'. No files were found to uninstall.\n  Attempting uninstall: importlib-metadata\n    Found existing installation: importlib-metadata 4.11.3\n    Not uninstalling importlib-metadata at /databricks/python3/lib/python3.9/site-packages, outside environment /local_disk0/.ephemeral_nfs/envs/pythonEnv-de800ffd-e189-4965-af58-55896b594137\n    Can't uninstall 'importlib-metadata'. No files were found to uninstall.\n  Attempting uninstall: werkzeug\n    Found existing installation: Werkzeug 2.0.3\n    Not uninstalling werkzeug at /databricks/python3/lib/python3.9/site-packages, outside environment /local_disk0/.ephemeral_nfs/envs/pythonEnv-de800ffd-e189-4965-af58-55896b594137\n    Can't uninstall 'Werkzeug'. No files were found to uninstall.\nERROR: pip's dependency resolver does not currently take into account all the packages that are installed. This behaviour is the source of the following dependency conflicts.\ndatabricks-feature-store 0.10.1 requires pyspark<4,>=3.1.2, which is not installed.\nsq-protos-py 20250701.2936 requires protobuf<=4.21.0,>=3.20.0, but you have protobuf 6.31.1 which is incompatible.\ntensorflow-cpu 2.11.1 requires protobuf<3.20,>=3.9.2, but you have protobuf 6.31.1 which is incompatible.\ntensorboard 2.11.2 requires protobuf<4,>=3.9.2, but you have protobuf 6.31.1 which is incompatible.\npyopenssl 25.1.0 requires cryptography<46,>=41.0.5, but you have cryptography 36.0.2 which is incompatible.\nmlflow-skinny 2.1.1 requires importlib-metadata!=4.7.0,<6,>=3.7.0, but you have importlib-metadata 8.7.0 which is incompatible.\nmlflow-skinny 2.1.1 requires packaging<23, but you have packaging 24.2 which is incompatible.\nmlflow-skinny 2.1.1 requires protobuf<5,>=3.12.0, but you have protobuf 6.31.1 which is incompatible.\ndatabricks-feature-store 0.10.1 requires protobuf<5,>=3.12.0, but you have protobuf 6.31.1 which is incompatible.\nSuccessfully installed MarkupSafe-3.0.2 SecretStorage-3.3.3 backports.tarfile-1.2.0 block-cloud-auth-1.0.8 cryptography-36.0.2 google-api-core-2.25.1 google-auth-2.40.3 google-cloud-compute-1.31.0 google-cloud-secret-manager-2.24.0 googleapis-common-protos-1.70.0 grpc-google-iam-v1-0.14.2 grpcio-1.73.1 grpcio-status-1.73.1 importlib-metadata-8.7.0 jaraco.classes-3.4.0 jaraco.context-6.0.1 jaraco.functools-4.2.1 jeepney-0.9.0 keyring-25.6.0 more-itertools-10.7.0 proto-plus-1.26.1 protobuf-6.31.1 werkzeug-3.0.3 zipp-3.23.0\nPython interpreter will be restarted.\nPython interpreter will be restarted.\nLooking in indexes: https://pypi.org/simple, https://artifactory.global.square/artifactory/api/pypi/block-pypi/simple\nCollecting kafka-python\n  Downloading https://artifactory.global.square/artifactory/api/pypi/block-pypi/packages/packages/e1/cd/593852e8ca89a81c517832c497bc8f5f922d3cf457ce323ab5938b6496ca/kafka_python-2.2.14-py2.py3-none-any.whl (309 kB)\nInstalling collected packages: kafka-python\nSuccessfully installed kafka-python-2.2.14\nPython interpreter will be restarted.\n"
     ]
    }
   ],
   "source": [
    "# Install Dependencies\n",
    "\n",
    "%pip install --extra-index-url https://artifactory.global.square/artifactory/api/pypi/block-pypi/simple sq-protos-py\n",
    "%pip install --extra-index-url https://artifactory.global.square/artifactory/api/pypi/block-pypi/simple block-cloud-auth\n",
    "%pip install --extra-index-url https://artifactory.global.square/artifactory/api/pypi/block-pypi/simple kafka-python"
   ]
  },
  {
   "cell_type": "code",
   "execution_count": 0,
   "metadata": {
    "application/vnd.databricks.v1+cell": {
     "cellMetadata": {
      "byteLimit": 2048000,
      "rowLimit": 10000
     },
     "inputWidgets": {},
     "nuid": "89bba704-d711-414a-abce-58aa49d2400a",
     "showTitle": false,
     "tableResultSettingsMap": {},
     "title": ""
    }
   },
   "outputs": [],
   "source": [
    "dbutils.library.restartPython()"
   ]
  },
  {
   "cell_type": "code",
   "execution_count": 0,
   "metadata": {
    "application/vnd.databricks.v1+cell": {
     "cellMetadata": {
      "byteLimit": 2048000,
      "rowLimit": 10000
     },
     "inputWidgets": {},
     "nuid": "32572d16-3492-4ed5-a5d2-e8c3db8cde19",
     "showTitle": false,
     "tableResultSettingsMap": {},
     "title": ""
    }
   },
   "outputs": [],
   "source": [
    "from sq_protos_py.squareup.riskapi.wrapper import wrapper_pb2\n",
    "\n",
    "# Parse byte_array to RiskInput\n",
    "def deserialize_ri(ri_bytes):\n",
    "    ri = wrapper_pb2.RiskInput()\n",
    "    ri.ParseFromString(ri_bytes)\n",
    "    return ri"
   ]
  },
  {
   "cell_type": "code",
   "execution_count": 0,
   "metadata": {
    "application/vnd.databricks.v1+cell": {
     "cellMetadata": {
      "byteLimit": 2048000,
      "rowLimit": 10000
     },
     "inputWidgets": {},
     "nuid": "b6eca6c8-8ad7-4060-860f-65d827ac94c6",
     "showTitle": false,
     "tableResultSettingsMap": {},
     "title": ""
    }
   },
   "outputs": [],
   "source": [
    "# Name of the table we want to load the data into\n",
    "# Backfill test 1:\n",
    "#OUTPUT_TABLE = \"cash_banking_ml_eng.cash_connected_graph_change_event.edgy_test\"\n",
    "# Backfill test 2:\n",
    "#OUTPUT_TABLE = \"cash_banking_ml_eng.cash_connected_graph_change_event.edgy_test_20250512\"\n",
    "# BAU test:\n",
    "OUTPUT_TABLE = \"cash_banking_ml_eng.cash_connected_graph_change_event.edgy_test_20250626\"\n",
    "\n",
    "# Path to the files we want to load. This will load a particular date\n",
    "# Live output:\n",
    "#S3_PATH = \"s3a://lakehouse-edgy-production-us-west-2/output/CASH_CONNECTED_GRAPH_CHANGE_EVENT/V3/date=*\"\n",
    "# Backfill test 1:\n",
    "# S3_PATH = \"s3a://lakehouse-edgy-production-us-west-2/output_20250417/CASH_CONNECTED_GRAPH_CHANGE_EVENT/V3/date=*\"\n",
    "# Backfill test 2:\n",
    "#S3_PATH = \"s3a://lakehouse-edgy-production-us-west-2/output_20250509/CASH_CONNECTED_GRAPH_CHANGE_EVENT/V3/date=*\"\n",
    "# BAU test:\n",
    "S3_PATH = \"s3a://lakehouse-edgy-production-us-west-2/output/CASH_CONNECTED_GRAPH_CHANGE_EVENT/V3/date=2025-06-26\""
   ]
  },
  {
   "cell_type": "code",
   "execution_count": 0,
   "metadata": {
    "application/vnd.databricks.v1+cell": {
     "cellMetadata": {
      "byteLimit": 2048000,
      "rowLimit": 10000
     },
     "inputWidgets": {},
     "nuid": "26e96941-4ca1-4513-9ce3-6aee4548d990",
     "showTitle": false,
     "tableResultSettingsMap": {},
     "title": ""
    }
   },
   "outputs": [
    {
     "output_type": "display_data",
     "data": {
      "text/html": [
       "<style scoped>\n",
       "  .table-result-container {\n",
       "    max-height: 300px;\n",
       "    overflow: auto;\n",
       "  }\n",
       "  table, th, td {\n",
       "    border: 1px solid black;\n",
       "    border-collapse: collapse;\n",
       "  }\n",
       "  th, td {\n",
       "    padding: 5px;\n",
       "  }\n",
       "  th {\n",
       "    text-align: left;\n",
       "  }\n",
       "</style><div class='table-result-container'><table class='table-result'><thead style='background-color: white'><tr><th>path</th><th>name</th><th>size</th><th>modificationTime</th></tr></thead><tbody><tr><td>s3a://lakehouse-edgy-production-us-west-2/output/CASH_CONNECTED_GRAPH_CHANGE_EVENT/V3/date=2025-06-26/part-00000-041074d3-f65d-45d3-843f-bf082eefab35.c000.avro</td><td>part-00000-041074d3-f65d-45d3-843f-bf082eefab35.c000.avro</td><td>1826</td><td>1751047553000</td></tr><tr><td>s3a://lakehouse-edgy-production-us-west-2/output/CASH_CONNECTED_GRAPH_CHANGE_EVENT/V3/date=2025-06-26/part-00000-062796e6-31b2-4be7-aff4-58b26f5f407b.c000.avro</td><td>part-00000-062796e6-31b2-4be7-aff4-58b26f5f407b.c000.avro</td><td>3811555</td><td>1750950148000</td></tr><tr><td>s3a://lakehouse-edgy-production-us-west-2/output/CASH_CONNECTED_GRAPH_CHANGE_EVENT/V3/date=2025-06-26/part-00000-068d22f1-6d71-49cd-8fc2-1fcdd45ba248.c000.avro</td><td>part-00000-068d22f1-6d71-49cd-8fc2-1fcdd45ba248.c000.avro</td><td>615</td><td>1751248928000</td></tr><tr><td>s3a://lakehouse-edgy-production-us-west-2/output/CASH_CONNECTED_GRAPH_CHANGE_EVENT/V3/date=2025-06-26/part-00000-0fdfbec1-7648-4cb9-9a5f-b91af1162243.c000.avro</td><td>part-00000-0fdfbec1-7648-4cb9-9a5f-b91af1162243.c000.avro</td><td>752</td><td>1751137366000</td></tr><tr><td>s3a://lakehouse-edgy-production-us-west-2/output/CASH_CONNECTED_GRAPH_CHANGE_EVENT/V3/date=2025-06-26/part-00000-116b75f3-7e41-4922-a927-59e60f2b23a7.c000.avro</td><td>part-00000-116b75f3-7e41-4922-a927-59e60f2b23a7.c000.avro</td><td>1638</td><td>1751065342000</td></tr><tr><td>s3a://lakehouse-edgy-production-us-west-2/output/CASH_CONNECTED_GRAPH_CHANGE_EVENT/V3/date=2025-06-26/part-00000-11bbfcdb-c816-44d7-b894-7a63d1163d73.c000.avro</td><td>part-00000-11bbfcdb-c816-44d7-b894-7a63d1163d73.c000.avro</td><td>760</td><td>1751011310000</td></tr><tr><td>s3a://lakehouse-edgy-production-us-west-2/output/CASH_CONNECTED_GRAPH_CHANGE_EVENT/V3/date=2025-06-26/part-00000-1b803605-c714-4889-b95d-b17403fa6ad6.c000.avro</td><td>part-00000-1b803605-c714-4889-b95d-b17403fa6ad6.c000.avro</td><td>607</td><td>1751331740000</td></tr><tr><td>s3a://lakehouse-edgy-production-us-west-2/output/CASH_CONNECTED_GRAPH_CHANGE_EVENT/V3/date=2025-06-26/part-00000-1bd4e974-2a08-4954-8612-e18dab309b23.c000.avro</td><td>part-00000-1bd4e974-2a08-4954-8612-e18dab309b23.c000.avro</td><td>764</td><td>1751259742000</td></tr><tr><td>s3a://lakehouse-edgy-production-us-west-2/output/CASH_CONNECTED_GRAPH_CHANGE_EVENT/V3/date=2025-06-26/part-00000-1c620080-bd65-4070-8753-290ad68514ca.c000.avro</td><td>part-00000-1c620080-bd65-4070-8753-290ad68514ca.c000.avro</td><td>884</td><td>1751169900000</td></tr><tr><td>s3a://lakehouse-edgy-production-us-west-2/output/CASH_CONNECTED_GRAPH_CHANGE_EVENT/V3/date=2025-06-26/part-00000-1d24e4e4-5111-4f92-842b-d189959982af.c000.avro</td><td>part-00000-1d24e4e4-5111-4f92-842b-d189959982af.c000.avro</td><td>745</td><td>1751270493000</td></tr><tr><td>s3a://lakehouse-edgy-production-us-west-2/output/CASH_CONNECTED_GRAPH_CHANGE_EVENT/V3/date=2025-06-26/part-00000-1e219a3a-fa4c-4714-b1a0-48094fd3cbb1.c000.avro</td><td>part-00000-1e219a3a-fa4c-4714-b1a0-48094fd3cbb1.c000.avro</td><td>492</td><td>1751281305000</td></tr><tr><td>s3a://lakehouse-edgy-production-us-west-2/output/CASH_CONNECTED_GRAPH_CHANGE_EVENT/V3/date=2025-06-26/part-00000-1f99693d-c283-4b23-8c8e-2b07cfbe800a.c000.avro</td><td>part-00000-1f99693d-c283-4b23-8c8e-2b07cfbe800a.c000.avro</td><td>1019</td><td>1751245501000</td></tr><tr><td>s3a://lakehouse-edgy-production-us-west-2/output/CASH_CONNECTED_GRAPH_CHANGE_EVENT/V3/date=2025-06-26/part-00000-2128240d-14f5-4aac-b9c1-85542744f381.c000.avro</td><td>part-00000-2128240d-14f5-4aac-b9c1-85542744f381.c000.avro</td><td>921</td><td>1751227329000</td></tr><tr><td>s3a://lakehouse-edgy-production-us-west-2/output/CASH_CONNECTED_GRAPH_CHANGE_EVENT/V3/date=2025-06-26/part-00000-213ce985-4810-40e2-ade0-8a265829205a.c000.avro</td><td>part-00000-213ce985-4810-40e2-ade0-8a265829205a.c000.avro</td><td>5018232</td><td>1750964559000</td></tr><tr><td>s3a://lakehouse-edgy-production-us-west-2/output/CASH_CONNECTED_GRAPH_CHANGE_EVENT/V3/date=2025-06-26/part-00000-24da1cf7-ee70-4b0c-b1aa-b9c7378c5a97.c000.avro</td><td>part-00000-24da1cf7-ee70-4b0c-b1aa-b9c7378c5a97.c000.avro</td><td>878</td><td>1751158951000</td></tr><tr><td>s3a://lakehouse-edgy-production-us-west-2/output/CASH_CONNECTED_GRAPH_CHANGE_EVENT/V3/date=2025-06-26/part-00000-25ba2266-77f0-45cd-820e-283dc42e7a9c.c000.avro</td><td>part-00000-25ba2266-77f0-45cd-820e-283dc42e7a9c.c000.avro</td><td>617</td><td>1751320939000</td></tr><tr><td>s3a://lakehouse-edgy-production-us-west-2/output/CASH_CONNECTED_GRAPH_CHANGE_EVENT/V3/date=2025-06-26/part-00000-2686b88b-df12-44e5-9f67-d243959bf17d.c000.avro</td><td>part-00000-2686b88b-df12-44e5-9f67-d243959bf17d.c000.avro</td><td>861</td><td>1751213108000</td></tr><tr><td>s3a://lakehouse-edgy-production-us-west-2/output/CASH_CONNECTED_GRAPH_CHANGE_EVENT/V3/date=2025-06-26/part-00000-27b338c6-d626-4b3b-806c-c5bdc4d11e71.c000.avro</td><td>part-00000-27b338c6-d626-4b3b-806c-c5bdc4d11e71.c000.avro</td><td>825</td><td>1751166347000</td></tr><tr><td>s3a://lakehouse-edgy-production-us-west-2/output/CASH_CONNECTED_GRAPH_CHANGE_EVENT/V3/date=2025-06-26/part-00000-29e9cd08-9db2-4f03-af80-4f8af95dc78a.c000.avro</td><td>part-00000-29e9cd08-9db2-4f03-af80-4f8af95dc78a.c000.avro</td><td>3381698</td><td>1750914323000</td></tr><tr><td>s3a://lakehouse-edgy-production-us-west-2/output/CASH_CONNECTED_GRAPH_CHANGE_EVENT/V3/date=2025-06-26/part-00000-29feef13-9770-46f7-927a-314cec910e27.c000.avro</td><td>part-00000-29feef13-9770-46f7-927a-314cec910e27.c000.avro</td><td>1971362</td><td>1750928487000</td></tr><tr><td>s3a://lakehouse-edgy-production-us-west-2/output/CASH_CONNECTED_GRAPH_CHANGE_EVENT/V3/date=2025-06-26/part-00000-2b1282cf-2c96-4b68-bcfc-cae8c2f838ed.c000.avro</td><td>part-00000-2b1282cf-2c96-4b68-bcfc-cae8c2f838ed.c000.avro</td><td>981</td><td>1751220128000</td></tr><tr><td>s3a://lakehouse-edgy-production-us-west-2/output/CASH_CONNECTED_GRAPH_CHANGE_EVENT/V3/date=2025-06-26/part-00000-2be36aea-70f8-48c2-a7c9-d78aa72caab5.c000.avro</td><td>part-00000-2be36aea-70f8-48c2-a7c9-d78aa72caab5.c000.avro</td><td>4080183</td><td>1750903394000</td></tr><tr><td>s3a://lakehouse-edgy-production-us-west-2/output/CASH_CONNECTED_GRAPH_CHANGE_EVENT/V3/date=2025-06-26/part-00000-30614a8d-c77f-4378-8318-7a0a8ce1c9c0.c000.avro</td><td>part-00000-30614a8d-c77f-4378-8318-7a0a8ce1c9c0.c000.avro</td><td>747</td><td>1751022118000</td></tr><tr><td>s3a://lakehouse-edgy-production-us-west-2/output/CASH_CONNECTED_GRAPH_CHANGE_EVENT/V3/date=2025-06-26/part-00000-3851754d-f313-4ee9-9c09-f9e8b7ba9fc3.c000.avro</td><td>part-00000-3851754d-f313-4ee9-9c09-f9e8b7ba9fc3.c000.avro</td><td>997</td><td>1751076164000</td></tr><tr><td>s3a://lakehouse-edgy-production-us-west-2/output/CASH_CONNECTED_GRAPH_CHANGE_EVENT/V3/date=2025-06-26/part-00000-3ad3bcea-9b67-463a-992f-7cd681b6a65f.c000.avro</td><td>part-00000-3ad3bcea-9b67-463a-992f-7cd681b6a65f.c000.avro</td><td>741</td><td>1751151909000</td></tr><tr><td>s3a://lakehouse-edgy-production-us-west-2/output/CASH_CONNECTED_GRAPH_CHANGE_EVENT/V3/date=2025-06-26/part-00000-4052f4f0-ce59-4a27-9a3a-1c2637ee804a.c000.avro</td><td>part-00000-4052f4f0-ce59-4a27-9a3a-1c2637ee804a.c000.avro</td><td>609</td><td>1751184136000</td></tr><tr><td>s3a://lakehouse-edgy-production-us-west-2/output/CASH_CONNECTED_GRAPH_CHANGE_EVENT/V3/date=2025-06-26/part-00000-44f10c36-2d51-44fd-9fa6-31e3a7baa864.c000.avro</td><td>part-00000-44f10c36-2d51-44fd-9fa6-31e3a7baa864.c000.avro</td><td>4697290</td><td>1750968156000</td></tr><tr><td>s3a://lakehouse-edgy-production-us-west-2/output/CASH_CONNECTED_GRAPH_CHANGE_EVENT/V3/date=2025-06-26/part-00000-460cff4e-ecfa-4501-abca-5034b7011ad7.c000.avro</td><td>part-00000-460cff4e-ecfa-4501-abca-5034b7011ad7.c000.avro</td><td>959</td><td>1751112129000</td></tr><tr><td>s3a://lakehouse-edgy-production-us-west-2/output/CASH_CONNECTED_GRAPH_CHANGE_EVENT/V3/date=2025-06-26/part-00000-4725f4be-46af-4b4d-86bb-b5a93e12ac64.c000.avro</td><td>part-00000-4725f4be-46af-4b4d-86bb-b5a93e12ac64.c000.avro</td><td>735</td><td>1751310171000</td></tr><tr><td>s3a://lakehouse-edgy-production-us-west-2/output/CASH_CONNECTED_GRAPH_CHANGE_EVENT/V3/date=2025-06-26/part-00000-47dd70d9-0d65-4b2b-8478-ca3f967d6c94.c000.avro</td><td>part-00000-47dd70d9-0d65-4b2b-8478-ca3f967d6c94.c000.avro</td><td>868</td><td>1751162535000</td></tr><tr><td>s3a://lakehouse-edgy-production-us-west-2/output/CASH_CONNECTED_GRAPH_CHANGE_EVENT/V3/date=2025-06-26/part-00000-4f108c90-f67b-4114-bcd4-d62f4aa9d37a.c000.avro</td><td>part-00000-4f108c90-f67b-4114-bcd4-d62f4aa9d37a.c000.avro</td><td>489</td><td>1751187697000</td></tr><tr><td>s3a://lakehouse-edgy-production-us-west-2/output/CASH_CONNECTED_GRAPH_CHANGE_EVENT/V3/date=2025-06-26/part-00000-53d055f5-1b35-4b78-86bd-cdd420190384.c000.avro</td><td>part-00000-53d055f5-1b35-4b78-86bd-cdd420190384.c000.avro</td><td>1433</td><td>1751133771000</td></tr><tr><td>s3a://lakehouse-edgy-production-us-west-2/output/CASH_CONNECTED_GRAPH_CHANGE_EVENT/V3/date=2025-06-26/part-00000-54860ded-8a07-4fc3-beda-6e75a24e9b20.c000.avro</td><td>part-00000-54860ded-8a07-4fc3-beda-6e75a24e9b20.c000.avro</td><td>4101499</td><td>1750899933000</td></tr><tr><td>s3a://lakehouse-edgy-production-us-west-2/output/CASH_CONNECTED_GRAPH_CHANGE_EVENT/V3/date=2025-06-26/part-00000-54c9fadb-d582-4c2e-9543-9ad71107e45a.c000.avro</td><td>part-00000-54c9fadb-d582-4c2e-9543-9ad71107e45a.c000.avro</td><td>466</td><td>1751014920000</td></tr><tr><td>s3a://lakehouse-edgy-production-us-west-2/output/CASH_CONNECTED_GRAPH_CHANGE_EVENT/V3/date=2025-06-26/part-00000-55b9ab1e-6066-4613-ad7e-f6f47611366d.c000.avro</td><td>part-00000-55b9ab1e-6066-4613-ad7e-f6f47611366d.c000.avro</td><td>886</td><td>1751223744000</td></tr><tr><td>s3a://lakehouse-edgy-production-us-west-2/output/CASH_CONNECTED_GRAPH_CHANGE_EVENT/V3/date=2025-06-26/part-00000-5608d147-e1b5-470b-8cc3-774f7657ea7e.c000.avro</td><td>part-00000-5608d147-e1b5-470b-8cc3-774f7657ea7e.c000.avro</td><td>1528</td><td>1751072602000</td></tr><tr><td>s3a://lakehouse-edgy-production-us-west-2/output/CASH_CONNECTED_GRAPH_CHANGE_EVENT/V3/date=2025-06-26/part-00000-57696b79-e26e-4beb-9b25-55d8b73004ab.c000.avro</td><td>part-00000-57696b79-e26e-4beb-9b25-55d8b73004ab.c000.avro</td><td>1720</td><td>1751025750000</td></tr><tr><td>s3a://lakehouse-edgy-production-us-west-2/output/CASH_CONNECTED_GRAPH_CHANGE_EVENT/V3/date=2025-06-26/part-00000-5abfd51d-b0a3-4a70-a745-6298ed050c56.c000.avro</td><td>part-00000-5abfd51d-b0a3-4a70-a745-6298ed050c56.c000.avro</td><td>615</td><td>1751324565000</td></tr><tr><td>s3a://lakehouse-edgy-production-us-west-2/output/CASH_CONNECTED_GRAPH_CHANGE_EVENT/V3/date=2025-06-26/part-00000-5d3bf9d8-8ddf-4457-aa73-939b828a9f37.c000.avro</td><td>part-00000-5d3bf9d8-8ddf-4457-aa73-939b828a9f37.c000.avro</td><td>465</td><td>1751205737000</td></tr><tr><td>s3a://lakehouse-edgy-production-us-west-2/output/CASH_CONNECTED_GRAPH_CHANGE_EVENT/V3/date=2025-06-26/part-00000-5e2a997b-039a-4789-b53f-03e2d85226be.c000.avro</td><td>part-00000-5e2a997b-039a-4789-b53f-03e2d85226be.c000.avro</td><td>2165</td><td>1750993351000</td></tr><tr><td>s3a://lakehouse-edgy-production-us-west-2/output/CASH_CONNECTED_GRAPH_CHANGE_EVENT/V3/date=2025-06-26/part-00000-60dc8f3f-5c61-44e1-bf9a-3ff5c553715e.c000.avro</td><td>part-00000-60dc8f3f-5c61-44e1-bf9a-3ff5c553715e.c000.avro</td><td>716</td><td>1751209324000</td></tr><tr><td>s3a://lakehouse-edgy-production-us-west-2/output/CASH_CONNECTED_GRAPH_CHANGE_EVENT/V3/date=2025-06-26/part-00000-60f578e2-3faa-4dd9-82c8-26878021e3b2.c000.avro</td><td>part-00000-60f578e2-3faa-4dd9-82c8-26878021e3b2.c000.avro</td><td>467</td><td>1751267008000</td></tr><tr><td>s3a://lakehouse-edgy-production-us-west-2/output/CASH_CONNECTED_GRAPH_CHANGE_EVENT/V3/date=2025-06-26/part-00000-65dd93db-a791-4e5f-b481-cae391b8f28c.c000.avro</td><td>part-00000-65dd93db-a791-4e5f-b481-cae391b8f28c.c000.avro</td><td>273897</td><td>1750896338000</td></tr><tr><td>s3a://lakehouse-edgy-production-us-west-2/output/CASH_CONNECTED_GRAPH_CHANGE_EVENT/V3/date=2025-06-26/part-00000-65f4506b-0ba8-4a14-8c21-9b566981d894.c000.avro</td><td>part-00000-65f4506b-0ba8-4a14-8c21-9b566981d894.c000.avro</td><td>2965473</td><td>1750917764000</td></tr><tr><td>s3a://lakehouse-edgy-production-us-west-2/output/CASH_CONNECTED_GRAPH_CHANGE_EVENT/V3/date=2025-06-26/part-00000-66fe4dea-c0f5-4df1-a818-f078c8ffdee3.c000.avro</td><td>part-00000-66fe4dea-c0f5-4df1-a818-f078c8ffdee3.c000.avro</td><td>897</td><td>1751004124000</td></tr><tr><td>s3a://lakehouse-edgy-production-us-west-2/output/CASH_CONNECTED_GRAPH_CHANGE_EVENT/V3/date=2025-06-26/part-00000-687a1a05-b547-49ad-96ca-86fb7da6e193.c000.avro</td><td>part-00000-687a1a05-b547-49ad-96ca-86fb7da6e193.c000.avro</td><td>1500</td><td>1751306712000</td></tr><tr><td>s3a://lakehouse-edgy-production-us-west-2/output/CASH_CONNECTED_GRAPH_CHANGE_EVENT/V3/date=2025-06-26/part-00000-6d37114c-b7dd-4ad3-89cd-24fd3cb3e778.c000.avro</td><td>part-00000-6d37114c-b7dd-4ad3-89cd-24fd3cb3e778.c000.avro</td><td>980</td><td>1751256118000</td></tr><tr><td>s3a://lakehouse-edgy-production-us-west-2/output/CASH_CONNECTED_GRAPH_CHANGE_EVENT/V3/date=2025-06-26/part-00000-6f469628-cf3f-40e3-a4c3-cf7a94deddf6.c000.avro</td><td>part-00000-6f469628-cf3f-40e3-a4c3-cf7a94deddf6.c000.avro</td><td>1630</td><td>1751061752000</td></tr><tr><td>s3a://lakehouse-edgy-production-us-west-2/output/CASH_CONNECTED_GRAPH_CHANGE_EVENT/V3/date=2025-06-26/part-00000-7115874c-abe7-40a3-9a73-6b895bc1a3f8.c000.avro</td><td>part-00000-7115874c-abe7-40a3-9a73-6b895bc1a3f8.c000.avro</td><td>2968443</td><td>1750910544000</td></tr><tr><td>s3a://lakehouse-edgy-production-us-west-2/output/CASH_CONNECTED_GRAPH_CHANGE_EVENT/V3/date=2025-06-26/part-00000-72dc7a13-e18e-4484-8100-e8ad36b3e9c3.c000.avro</td><td>part-00000-72dc7a13-e18e-4484-8100-e8ad36b3e9c3.c000.avro</td><td>2236354</td><td>1750939307000</td></tr><tr><td>s3a://lakehouse-edgy-production-us-west-2/output/CASH_CONNECTED_GRAPH_CHANGE_EVENT/V3/date=2025-06-26/part-00000-7495b1b4-5663-45fe-9f41-848ee0e626da.c000.avro</td><td>part-00000-7495b1b4-5663-45fe-9f41-848ee0e626da.c000.avro</td><td>1117</td><td>1751119394000</td></tr><tr><td>s3a://lakehouse-edgy-production-us-west-2/output/CASH_CONNECTED_GRAPH_CHANGE_EVENT/V3/date=2025-06-26/part-00000-74aa1f21-f756-41b4-a6bd-99b05c04036e.c000.avro</td><td>part-00000-74aa1f21-f756-41b4-a6bd-99b05c04036e.c000.avro</td><td>3603544</td><td>1750982551000</td></tr><tr><td>s3a://lakehouse-edgy-production-us-west-2/output/CASH_CONNECTED_GRAPH_CHANGE_EVENT/V3/date=2025-06-26/part-00000-7841833d-2df8-45b1-ae11-ba759efa188f.c000.avro</td><td>part-00000-7841833d-2df8-45b1-ae11-ba759efa188f.c000.avro</td><td>777</td><td>1751328147000</td></tr><tr><td>s3a://lakehouse-edgy-production-us-west-2/output/CASH_CONNECTED_GRAPH_CHANGE_EVENT/V3/date=2025-06-26/part-00000-78f05ece-818d-4c7e-99c7-eb2d400ebb58.c000.avro</td><td>part-00000-78f05ece-818d-4c7e-99c7-eb2d400ebb58.c000.avro</td><td>1743837</td><td>1750932122000</td></tr><tr><td>s3a://lakehouse-edgy-production-us-west-2/output/CASH_CONNECTED_GRAPH_CHANGE_EVENT/V3/date=2025-06-26/part-00000-7ad82c9a-0621-409b-b2e3-dce90f660f0c.c000.avro</td><td>part-00000-7ad82c9a-0621-409b-b2e3-dce90f660f0c.c000.avro</td><td>609</td><td>1751198501000</td></tr><tr><td>s3a://lakehouse-edgy-production-us-west-2/output/CASH_CONNECTED_GRAPH_CHANGE_EVENT/V3/date=2025-06-26/part-00000-7af2d475-ab78-43f0-9dc3-7b57bc8d7d4b.c000.avro</td><td>part-00000-7af2d475-ab78-43f0-9dc3-7b57bc8d7d4b.c000.avro</td><td>871</td><td>1751299591000</td></tr><tr><td>s3a://lakehouse-edgy-production-us-west-2/output/CASH_CONNECTED_GRAPH_CHANGE_EVENT/V3/date=2025-06-26/part-00000-7f6b62f1-7347-4ca2-995e-2b37a5b43643.c000.avro</td><td>part-00000-7f6b62f1-7347-4ca2-995e-2b37a5b43643.c000.avro</td><td>488</td><td>1751173392000</td></tr><tr><td>s3a://lakehouse-edgy-production-us-west-2/output/CASH_CONNECTED_GRAPH_CHANGE_EVENT/V3/date=2025-06-26/part-00000-80279f7f-163d-427d-9a58-b5690575689a.c000.avro</td><td>part-00000-80279f7f-163d-427d-9a58-b5690575689a.c000.avro</td><td>618</td><td>1751115920000</td></tr><tr><td>s3a://lakehouse-edgy-production-us-west-2/output/CASH_CONNECTED_GRAPH_CHANGE_EVENT/V3/date=2025-06-26/part-00000-80333ed6-6642-4cf8-8e3c-bbb01ea51b95.c000.avro</td><td>part-00000-80333ed6-6642-4cf8-8e3c-bbb01ea51b95.c000.avro</td><td>1101</td><td>1751029337000</td></tr><tr><td>s3a://lakehouse-edgy-production-us-west-2/output/CASH_CONNECTED_GRAPH_CHANGE_EVENT/V3/date=2025-06-26/part-00000-8719c0f3-7d92-4d86-8b2c-d15bde27a8dd.c000.avro</td><td>part-00000-8719c0f3-7d92-4d86-8b2c-d15bde27a8dd.c000.avro</td><td>618</td><td>1751202343000</td></tr><tr><td>s3a://lakehouse-edgy-production-us-west-2/output/CASH_CONNECTED_GRAPH_CHANGE_EVENT/V3/date=2025-06-26/part-00000-8a145ce9-2bca-4ca1-abf2-711ca1965e04.c000.avro</td><td>part-00000-8a145ce9-2bca-4ca1-abf2-711ca1965e04.c000.avro</td><td>1818</td><td>1751126528000</td></tr><tr><td>s3a://lakehouse-edgy-production-us-west-2/output/CASH_CONNECTED_GRAPH_CHANGE_EVENT/V3/date=2025-06-26/part-00000-8a3cb53c-3283-44c4-923b-bdbe8fc08711.c000.avro</td><td>part-00000-8a3cb53c-3283-44c4-923b-bdbe8fc08711.c000.avro</td><td>1622</td><td>1751043915000</td></tr><tr><td>s3a://lakehouse-edgy-production-us-west-2/output/CASH_CONNECTED_GRAPH_CHANGE_EVENT/V3/date=2025-06-26/part-00000-8b50b838-3301-4b46-8cd6-64857e1eaadb.c000.avro</td><td>part-00000-8b50b838-3301-4b46-8cd6-64857e1eaadb.c000.avro</td><td>1616</td><td>1751141127000</td></tr><tr><td>s3a://lakehouse-edgy-production-us-west-2/output/CASH_CONNECTED_GRAPH_CHANGE_EVENT/V3/date=2025-06-26/part-00000-8f2deb7f-41a1-46c3-9958-0cf6d8a0f32e.c000.avro</td><td>part-00000-8f2deb7f-41a1-46c3-9958-0cf6d8a0f32e.c000.avro</td><td>613</td><td>1751079733000</td></tr><tr><td>s3a://lakehouse-edgy-production-us-west-2/output/CASH_CONNECTED_GRAPH_CHANGE_EVENT/V3/date=2025-06-26/part-00000-9283d05c-8be8-4b80-9513-297499d8ce10.c000.avro</td><td>part-00000-9283d05c-8be8-4b80-9513-297499d8ce10.c000.avro</td><td>3353067</td><td>1750946552000</td></tr><tr><td>s3a://lakehouse-edgy-production-us-west-2/output/CASH_CONNECTED_GRAPH_CHANGE_EVENT/V3/date=2025-06-26/part-00000-92d79915-1a4f-4d2f-9fd6-6a3830593796.c000.avro</td><td>part-00000-92d79915-1a4f-4d2f-9fd6-6a3830593796.c000.avro</td><td>464</td><td>1751101310000</td></tr><tr><td>s3a://lakehouse-edgy-production-us-west-2/output/CASH_CONNECTED_GRAPH_CHANGE_EVENT/V3/date=2025-06-26/part-00000-9611c0b6-73d5-48ef-ace2-7d8c1f45c450.c000.avro</td><td>part-00000-9611c0b6-73d5-48ef-ace2-7d8c1f45c450.c000.avro</td><td>756</td><td>1751148142000</td></tr><tr><td>s3a://lakehouse-edgy-production-us-west-2/output/CASH_CONNECTED_GRAPH_CHANGE_EVENT/V3/date=2025-06-26/part-00000-998aeabe-414e-4416-a3a9-419ab6ed7a13.c000.avro</td><td>part-00000-998aeabe-414e-4416-a3a9-419ab6ed7a13.c000.avro</td><td>3594648</td><td>1750942961000</td></tr><tr><td>s3a://lakehouse-edgy-production-us-west-2/output/CASH_CONNECTED_GRAPH_CHANGE_EVENT/V3/date=2025-06-26/part-00000-9c5ccdb1-0fdf-4d1b-ad47-362f34fc23f6.c000.avro</td><td>part-00000-9c5ccdb1-0fdf-4d1b-ad47-362f34fc23f6.c000.avro</td><td>642</td><td>1751018523000</td></tr><tr><td>s3a://lakehouse-edgy-production-us-west-2/output/CASH_CONNECTED_GRAPH_CHANGE_EVENT/V3/date=2025-06-26/part-00000-9deed179-5eaa-4335-bd24-58cf30637810.c000.avro</td><td>part-00000-9deed179-5eaa-4335-bd24-58cf30637810.c000.avro</td><td>1834</td><td>1751058318000</td></tr><tr><td>s3a://lakehouse-edgy-production-us-west-2/output/CASH_CONNECTED_GRAPH_CHANGE_EVENT/V3/date=2025-06-26/part-00000-a170f827-6213-41ef-b0bd-59cc3d782ef1.c000.avro</td><td>part-00000-a170f827-6213-41ef-b0bd-59cc3d782ef1.c000.avro</td><td>3388309</td><td>1750906966000</td></tr><tr><td>s3a://lakehouse-edgy-production-us-west-2/output/CASH_CONNECTED_GRAPH_CHANGE_EVENT/V3/date=2025-06-26/part-00000-a5257117-e1f7-47c0-9fea-a1b6111951c2.c000.avro</td><td>part-00000-a5257117-e1f7-47c0-9fea-a1b6111951c2.c000.avro</td><td>4565583</td><td>1750960960000</td></tr><tr><td>s3a://lakehouse-edgy-production-us-west-2/output/CASH_CONNECTED_GRAPH_CHANGE_EVENT/V3/date=2025-06-26/part-00000-ac48435c-d1e0-4d6e-b1ed-b7c77efffe4e.c000.avro</td><td>part-00000-ac48435c-d1e0-4d6e-b1ed-b7c77efffe4e.c000.avro</td><td>766</td><td>1751155328000</td></tr><tr><td>s3a://lakehouse-edgy-production-us-west-2/output/CASH_CONNECTED_GRAPH_CHANGE_EVENT/V3/date=2025-06-26/part-00000-ade2e8e0-b0f4-4845-8ea6-7abc945bfb4a.c000.avro</td><td>part-00000-ade2e8e0-b0f4-4845-8ea6-7abc945bfb4a.c000.avro</td><td>736</td><td>1751274119000</td></tr><tr><td>s3a://lakehouse-edgy-production-us-west-2/output/CASH_CONNECTED_GRAPH_CHANGE_EVENT/V3/date=2025-06-26/part-00000-adea7240-21e8-4849-8785-3d969e03a472.c000.avro</td><td>part-00000-adea7240-21e8-4849-8785-3d969e03a472.c000.avro</td><td>465</td><td>1751194888000</td></tr><tr><td>s3a://lakehouse-edgy-production-us-west-2/output/CASH_CONNECTED_GRAPH_CHANGE_EVENT/V3/date=2025-06-26/part-00000-afa062e2-a33a-4c58-b7ed-0c338f82af4c.c000.avro</td><td>part-00000-afa062e2-a33a-4c58-b7ed-0c338f82af4c.c000.avro</td><td>4406193</td><td>1750979125000</td></tr><tr><td>s3a://lakehouse-edgy-production-us-west-2/output/CASH_CONNECTED_GRAPH_CHANGE_EVENT/V3/date=2025-06-26/part-00000-b0dc3243-638a-4704-a7bb-ccf59d780ad9.c000.avro</td><td>part-00000-b0dc3243-638a-4704-a7bb-ccf59d780ad9.c000.avro</td><td>624</td><td>1751313768000</td></tr><tr><td>s3a://lakehouse-edgy-production-us-west-2/output/CASH_CONNECTED_GRAPH_CHANGE_EVENT/V3/date=2025-06-26/part-00000-b1a8ba94-e635-4e85-b28a-4acef61b1be7.c000.avro</td><td>part-00000-b1a8ba94-e635-4e85-b28a-4acef61b1be7.c000.avro</td><td>487</td><td>1751097739000</td></tr><tr><td>s3a://lakehouse-edgy-production-us-west-2/output/CASH_CONNECTED_GRAPH_CHANGE_EVENT/V3/date=2025-06-26/part-00000-b2ad8c21-f4e4-433f-b809-903b7faa6226.c000.avro</td><td>part-00000-b2ad8c21-f4e4-433f-b809-903b7faa6226.c000.avro</td><td>1510</td><td>1751051147000</td></tr><tr><td>s3a://lakehouse-edgy-production-us-west-2/output/CASH_CONNECTED_GRAPH_CHANGE_EVENT/V3/date=2025-06-26/part-00000-b3c7690e-68fd-474d-8091-076351df7bdc.c000.avro</td><td>part-00000-b3c7690e-68fd-474d-8091-076351df7bdc.c000.avro</td><td>617</td><td>1751292173000</td></tr><tr><td>s3a://lakehouse-edgy-production-us-west-2/output/CASH_CONNECTED_GRAPH_CHANGE_EVENT/V3/date=2025-06-26/part-00000-b46ffdf2-30d9-41cf-9508-9cf8dd7df290.c000.avro</td><td>part-00000-b46ffdf2-30d9-41cf-9508-9cf8dd7df290.c000.avro</td><td>2124712</td><td>1750935717000</td></tr><tr><td>s3a://lakehouse-edgy-production-us-west-2/output/CASH_CONNECTED_GRAPH_CHANGE_EVENT/V3/date=2025-06-26/part-00000-b5298173-acab-458c-bae5-718846bb87b3.c000.avro</td><td>part-00000-b5298173-acab-458c-bae5-718846bb87b3.c000.avro</td><td>1369</td><td>1750996937000</td></tr><tr><td>s3a://lakehouse-edgy-production-us-west-2/output/CASH_CONNECTED_GRAPH_CHANGE_EVENT/V3/date=2025-06-26/part-00000-b5fb239c-1b9f-41c8-8802-f1a8636cd7c4.c000.avro</td><td>part-00000-b5fb239c-1b9f-41c8-8802-f1a8636cd7c4.c000.avro</td><td>3479</td><td>1750989752000</td></tr><tr><td>s3a://lakehouse-edgy-production-us-west-2/output/CASH_CONNECTED_GRAPH_CHANGE_EVENT/V3/date=2025-06-26/part-00000-b61ff8e2-5dfb-49d3-b58a-9a180b1d558e.c000.avro</td><td>part-00000-b61ff8e2-5dfb-49d3-b58a-9a180b1d558e.c000.avro</td><td>1228</td><td>1751216562000</td></tr><tr><td>s3a://lakehouse-edgy-production-us-west-2/output/CASH_CONNECTED_GRAPH_CHANGE_EVENT/V3/date=2025-06-26/part-00000-bbdbd399-c852-4ac5-8eba-7408dc5bb31a.c000.avro</td><td>part-00000-bbdbd399-c852-4ac5-8eba-7408dc5bb31a.c000.avro</td><td>759</td><td>1751238330000</td></tr><tr><td>s3a://lakehouse-edgy-production-us-west-2/output/CASH_CONNECTED_GRAPH_CHANGE_EVENT/V3/date=2025-06-26/part-00000-c5047209-c3d4-425c-98f4-3a76325bb1f4.c000.avro</td><td>part-00000-c5047209-c3d4-425c-98f4-3a76325bb1f4.c000.avro</td><td>1473</td><td>1751068942000</td></tr><tr><td>s3a://lakehouse-edgy-production-us-west-2/output/CASH_CONNECTED_GRAPH_CHANGE_EVENT/V3/date=2025-06-26/part-00000-c5123f66-539d-4660-9a24-ca130b6ded24.c000.avro</td><td>part-00000-c5123f66-539d-4660-9a24-ca130b6ded24.c000.avro</td><td>865</td><td>1751122932000</td></tr><tr><td>s3a://lakehouse-edgy-production-us-west-2/output/CASH_CONNECTED_GRAPH_CHANGE_EVENT/V3/date=2025-06-26/part-00000-c5fd35da-1ef6-48a8-acb0-c943cbcac80e.c000.avro</td><td>part-00000-c5fd35da-1ef6-48a8-acb0-c943cbcac80e.c000.avro</td><td>4192401</td><td>1750957356000</td></tr><tr><td>s3a://lakehouse-edgy-production-us-west-2/output/CASH_CONNECTED_GRAPH_CHANGE_EVENT/V3/date=2025-06-26/part-00000-c631a5fd-80fa-43f8-a66f-85c57cf6c489.c000.avro</td><td>part-00000-c631a5fd-80fa-43f8-a66f-85c57cf6c489.c000.avro</td><td>5191812</td><td>1750971934000</td></tr><tr><td>s3a://lakehouse-edgy-production-us-west-2/output/CASH_CONNECTED_GRAPH_CHANGE_EVENT/V3/date=2025-06-26/part-00000-c688b40f-166a-48e6-8854-2aa0d7110aa8.c000.avro</td><td>part-00000-c688b40f-166a-48e6-8854-2aa0d7110aa8.c000.avro</td><td>615</td><td>1751105104000</td></tr><tr><td>s3a://lakehouse-edgy-production-us-west-2/output/CASH_CONNECTED_GRAPH_CHANGE_EVENT/V3/date=2025-06-26/part-00000-c89529f9-a64a-49d0-8dda-66d31142ee92.c000.avro</td><td>part-00000-c89529f9-a64a-49d0-8dda-66d31142ee92.c000.avro</td><td>1146</td><td>1751317337000</td></tr><tr><td>s3a://lakehouse-edgy-production-us-west-2/output/CASH_CONNECTED_GRAPH_CHANGE_EVENT/V3/date=2025-06-26/part-00000-c94d10b5-3cae-4d69-99a7-01d52e461c13.c000.avro</td><td>part-00000-c94d10b5-3cae-4d69-99a7-01d52e461c13.c000.avro</td><td>748</td><td>1751094112000</td></tr><tr><td>s3a://lakehouse-edgy-production-us-west-2/output/CASH_CONNECTED_GRAPH_CHANGE_EVENT/V3/date=2025-06-26/part-00000-c9a42243-7fd4-44ac-a070-739cbc9b9d2c.c000.avro</td><td>part-00000-c9a42243-7fd4-44ac-a070-739cbc9b9d2c.c000.avro</td><td>1135</td><td>1751241746000</td></tr><tr><td>s3a://lakehouse-edgy-production-us-west-2/output/CASH_CONNECTED_GRAPH_CHANGE_EVENT/V3/date=2025-06-26/part-00000-c9b71bbe-4745-4dac-b94a-c65f58334e0f.c000.avro</td><td>part-00000-c9b71bbe-4745-4dac-b94a-c65f58334e0f.c000.avro</td><td>990</td><td>1751252584000</td></tr><tr><td>s3a://lakehouse-edgy-production-us-west-2/output/CASH_CONNECTED_GRAPH_CHANGE_EVENT/V3/date=2025-06-26/part-00000-cb89147f-3e9b-4759-a157-83472374ee3b.c000.avro</td><td>part-00000-cb89147f-3e9b-4759-a157-83472374ee3b.c000.avro</td><td>1014</td><td>1751130367000</td></tr><tr><td>s3a://lakehouse-edgy-production-us-west-2/output/CASH_CONNECTED_GRAPH_CHANGE_EVENT/V3/date=2025-06-26/part-00000-cc0ad69a-56b6-46fc-a11b-e8dda8035186.c000.avro</td><td>part-00000-cc0ad69a-56b6-46fc-a11b-e8dda8035186.c000.avro</td><td>1518</td><td>1751036550000</td></tr><tr><td>s3a://lakehouse-edgy-production-us-west-2/output/CASH_CONNECTED_GRAPH_CHANGE_EVENT/V3/date=2025-06-26/part-00000-cdad56ad-80f4-4244-ad08-354793708b61.c000.avro</td><td>part-00000-cdad56ad-80f4-4244-ad08-354793708b61.c000.avro</td><td>1217</td><td>1751000537000</td></tr><tr><td>s3a://lakehouse-edgy-production-us-west-2/output/CASH_CONNECTED_GRAPH_CHANGE_EVENT/V3/date=2025-06-26/part-00000-cf435215-dd59-451f-a698-a730905f4caa.c000.avro</td><td>part-00000-cf435215-dd59-451f-a698-a730905f4caa.c000.avro</td><td>1106</td><td>1751295755000</td></tr><tr><td>s3a://lakehouse-edgy-production-us-west-2/output/CASH_CONNECTED_GRAPH_CHANGE_EVENT/V3/date=2025-06-26/part-00000-cfd8f209-a7b8-4488-941a-472eb2e045fa.c000.avro</td><td>part-00000-cfd8f209-a7b8-4488-941a-472eb2e045fa.c000.avro</td><td>1368</td><td>1751033201000</td></tr><tr><td>s3a://lakehouse-edgy-production-us-west-2/output/CASH_CONNECTED_GRAPH_CHANGE_EVENT/V3/date=2025-06-26/part-00000-d21b7e8f-1407-422d-a998-712e0a9ecc7e.c000.avro</td><td>part-00000-d21b7e8f-1407-422d-a998-712e0a9ecc7e.c000.avro</td><td>617</td><td>1751230958000</td></tr><tr><td>s3a://lakehouse-edgy-production-us-west-2/output/CASH_CONNECTED_GRAPH_CHANGE_EVENT/V3/date=2025-06-26/part-00000-d37a2ec2-e978-4428-923e-51559313b203.c000.avro</td><td>part-00000-d37a2ec2-e978-4428-923e-51559313b203.c000.avro</td><td>1269</td><td>1751007968000</td></tr><tr><td>s3a://lakehouse-edgy-production-us-west-2/output/CASH_CONNECTED_GRAPH_CHANGE_EVENT/V3/date=2025-06-26/part-00000-dd5a2d12-ce5b-458b-920e-6879d430d687.c000.avro</td><td>part-00000-dd5a2d12-ce5b-458b-920e-6879d430d687.c000.avro</td><td>2065664</td><td>1750924915000</td></tr><tr><td>s3a://lakehouse-edgy-production-us-west-2/output/CASH_CONNECTED_GRAPH_CHANGE_EVENT/V3/date=2025-06-26/part-00000-e3443aab-3068-4b69-a0df-bda9d09f2794.c000.avro</td><td>part-00000-e3443aab-3068-4b69-a0df-bda9d09f2794.c000.avro</td><td>5104040</td><td>1750975545000</td></tr><tr><td>s3a://lakehouse-edgy-production-us-west-2/output/CASH_CONNECTED_GRAPH_CHANGE_EVENT/V3/date=2025-06-26/part-00000-e35934ed-b19d-4d7c-b229-3b9278d70674.c000.avro</td><td>part-00000-e35934ed-b19d-4d7c-b229-3b9278d70674.c000.avro</td><td>1390</td><td>1751234537000</td></tr><tr><td>s3a://lakehouse-edgy-production-us-west-2/output/CASH_CONNECTED_GRAPH_CHANGE_EVENT/V3/date=2025-06-26/part-00000-e64c0603-b74d-4176-b287-85cf54ea5bc3.c000.avro</td><td>part-00000-e64c0603-b74d-4176-b287-85cf54ea5bc3.c000.avro</td><td>1491</td><td>1751144530000</td></tr><tr><td>s3a://lakehouse-edgy-production-us-west-2/output/CASH_CONNECTED_GRAPH_CHANGE_EVENT/V3/date=2025-06-26/part-00000-f25e02ce-518c-441c-aea2-259211fbb3e8.c000.avro</td><td>part-00000-f25e02ce-518c-441c-aea2-259211fbb3e8.c000.avro</td><td>1361</td><td>1751083347000</td></tr><tr><td>s3a://lakehouse-edgy-production-us-west-2/output/CASH_CONNECTED_GRAPH_CHANGE_EVENT/V3/date=2025-06-26/part-00000-f42da1a9-ed86-409b-9282-a32add44ad94.c000.avro</td><td>part-00000-f42da1a9-ed86-409b-9282-a32add44ad94.c000.avro</td><td>1850</td><td>1751040329000</td></tr><tr><td>s3a://lakehouse-edgy-production-us-west-2/output/CASH_CONNECTED_GRAPH_CHANGE_EVENT/V3/date=2025-06-26/part-00000-f93d6b3a-2ea9-4c6a-b9f7-60d36d384566.c000.avro</td><td>part-00000-f93d6b3a-2ea9-4c6a-b9f7-60d36d384566.c000.avro</td><td>621</td><td>1751288512000</td></tr><tr><td>s3a://lakehouse-edgy-production-us-west-2/output/CASH_CONNECTED_GRAPH_CHANGE_EVENT/V3/date=2025-06-26/part-00000-fae004aa-bc5d-4e04-9830-a3ae4994def2.c000.avro</td><td>part-00000-fae004aa-bc5d-4e04-9830-a3ae4994def2.c000.avro</td><td>1016</td><td>1751087106000</td></tr><tr><td>s3a://lakehouse-edgy-production-us-west-2/output/CASH_CONNECTED_GRAPH_CHANGE_EVENT/V3/date=2025-06-26/part-00000-fb01a588-1051-479f-a9e9-3065645378cf.c000.avro</td><td>part-00000-fb01a588-1051-479f-a9e9-3065645378cf.c000.avro</td><td>723</td><td>1751303135000</td></tr><tr><td>s3a://lakehouse-edgy-production-us-west-2/output/CASH_CONNECTED_GRAPH_CHANGE_EVENT/V3/date=2025-06-26/part-00000-fc271e65-5c95-4dde-bfb7-73bdc08c7e9d.c000.avro</td><td>part-00000-fc271e65-5c95-4dde-bfb7-73bdc08c7e9d.c000.avro</td><td>884</td><td>1751090534000</td></tr><tr><td>s3a://lakehouse-edgy-production-us-west-2/output/CASH_CONNECTED_GRAPH_CHANGE_EVENT/V3/date=2025-06-26/part-00000-fc516704-2a59-4151-8899-67155fec3d96.c000.avro</td><td>part-00000-fc516704-2a59-4151-8899-67155fec3d96.c000.avro</td><td>3601436</td><td>1750921334000</td></tr><tr><td>s3a://lakehouse-edgy-production-us-west-2/output/CASH_CONNECTED_GRAPH_CHANGE_EVENT/V3/date=2025-06-26/part-00000-fe349ef6-ed34-4ef8-b2d5-31040839cdf0.c000.avro</td><td>part-00000-fe349ef6-ed34-4ef8-b2d5-31040839cdf0.c000.avro</td><td>3859480</td><td>1750954030000</td></tr><tr><td>s3a://lakehouse-edgy-production-us-west-2/output/CASH_CONNECTED_GRAPH_CHANGE_EVENT/V3/date=2025-06-26/part-00000-fe763fb3-be6f-4543-8bfb-b89428b2df91.c000.avro</td><td>part-00000-fe763fb3-be6f-4543-8bfb-b89428b2df91.c000.avro</td><td>1722</td><td>1751054554000</td></tr><tr><td>s3a://lakehouse-edgy-production-us-west-2/output/CASH_CONNECTED_GRAPH_CHANGE_EVENT/V3/date=2025-06-26/part-00000-fee78848-dbaf-4f20-a38c-cad36bcea56e.c000.avro</td><td>part-00000-fee78848-dbaf-4f20-a38c-cad36bcea56e.c000.avro</td><td>5073</td><td>1750986151000</td></tr><tr><td>s3a://lakehouse-edgy-production-us-west-2/output/CASH_CONNECTED_GRAPH_CHANGE_EVENT/V3/date=2025-06-26/part-00001-049a3d0c-0caf-4a76-9818-0aa12b74bb60.c000.avro</td><td>part-00001-049a3d0c-0caf-4a76-9818-0aa12b74bb60.c000.avro</td><td>1006</td><td>1751144530000</td></tr><tr><td>s3a://lakehouse-edgy-production-us-west-2/output/CASH_CONNECTED_GRAPH_CHANGE_EVENT/V3/date=2025-06-26/part-00001-04f9cb19-758c-4ab2-a3c8-8dd452e6bbf0.c000.avro</td><td>part-00001-04f9cb19-758c-4ab2-a3c8-8dd452e6bbf0.c000.avro</td><td>489</td><td>1751087104000</td></tr><tr><td>s3a://lakehouse-edgy-production-us-west-2/output/CASH_CONNECTED_GRAPH_CHANGE_EVENT/V3/date=2025-06-26/part-00001-05c0dcb9-a426-48d8-b7e7-405b169e3b33.c000.avro</td><td>part-00001-05c0dcb9-a426-48d8-b7e7-405b169e3b33.c000.avro</td><td>881</td><td>1751022118000</td></tr><tr><td>s3a://lakehouse-edgy-production-us-west-2/output/CASH_CONNECTED_GRAPH_CHANGE_EVENT/V3/date=2025-06-26/part-00001-0842eae2-8b53-413f-a303-e8e80ed74c4d.c000.avro</td><td>part-00001-0842eae2-8b53-413f-a303-e8e80ed74c4d.c000.avro</td><td>1091</td><td>1751047554000</td></tr><tr><td>s3a://lakehouse-edgy-production-us-west-2/output/CASH_CONNECTED_GRAPH_CHANGE_EVENT/V3/date=2025-06-26/part-00001-0ec83a1a-ab09-40ca-8034-b3be6433180e.c000.avro</td><td>part-00001-0ec83a1a-ab09-40ca-8034-b3be6433180e.c000.avro</td><td>617</td><td>1751115922000</td></tr><tr><td>s3a://lakehouse-edgy-production-us-west-2/output/CASH_CONNECTED_GRAPH_CHANGE_EVENT/V3/date=2025-06-26/part-00001-1279375f-5c49-42a5-bde9-a1de68a697a4.c000.avro</td><td>part-00001-1279375f-5c49-42a5-bde9-a1de68a697a4.c000.avro</td><td>636</td><td>1751220128000</td></tr><tr><td>s3a://lakehouse-edgy-production-us-west-2/output/CASH_CONNECTED_GRAPH_CHANGE_EVENT/V3/date=2025-06-26/part-00001-17113f9f-78ad-4dce-8a12-0781a5c2e9cf.c000.avro</td><td>part-00001-17113f9f-78ad-4dce-8a12-0781a5c2e9cf.c000.avro</td><td>2989013</td><td>1750917765000</td></tr><tr><td>s3a://lakehouse-edgy-production-us-west-2/output/CASH_CONNECTED_GRAPH_CHANGE_EVENT/V3/date=2025-06-26/part-00001-179f11f0-bbfe-4343-8295-2c6ad1721dc1.c000.avro</td><td>part-00001-179f11f0-bbfe-4343-8295-2c6ad1721dc1.c000.avro</td><td>1029</td><td>1751007969000</td></tr><tr><td>s3a://lakehouse-edgy-production-us-west-2/output/CASH_CONNECTED_GRAPH_CHANGE_EVENT/V3/date=2025-06-26/part-00001-196a0541-bf3a-4b1c-b866-d5c2350dbbb8.c000.avro</td><td>part-00001-196a0541-bf3a-4b1c-b866-d5c2350dbbb8.c000.avro</td><td>1119</td><td>1751029339000</td></tr><tr><td>s3a://lakehouse-edgy-production-us-west-2/output/CASH_CONNECTED_GRAPH_CHANGE_EVENT/V3/date=2025-06-26/part-00001-1ddbd126-6e38-4ace-bcb4-0b0cc6d0f5b6.c000.avro</td><td>part-00001-1ddbd126-6e38-4ace-bcb4-0b0cc6d0f5b6.c000.avro</td><td>1994</td><td>1751043913000</td></tr><tr><td>s3a://lakehouse-edgy-production-us-west-2/output/CASH_CONNECTED_GRAPH_CHANGE_EVENT/V3/date=2025-06-26/part-00001-1f4a8281-bbb4-4bc9-982e-8bd3b6de1d22.c000.avro</td><td>part-00001-1f4a8281-bbb4-4bc9-982e-8bd3b6de1d22.c000.avro</td><td>846</td><td>1751094110000</td></tr><tr><td>s3a://lakehouse-edgy-production-us-west-2/output/CASH_CONNECTED_GRAPH_CHANGE_EVENT/V3/date=2025-06-26/part-00001-21ac1990-c8aa-4fcd-bf7c-c9725d191c6c.c000.avro</td><td>part-00001-21ac1990-c8aa-4fcd-bf7c-c9725d191c6c.c000.avro</td><td>981</td><td>1751122930000</td></tr><tr><td>s3a://lakehouse-edgy-production-us-west-2/output/CASH_CONNECTED_GRAPH_CHANGE_EVENT/V3/date=2025-06-26/part-00001-26f4a6da-7078-4f3a-8fdd-fed56cf21ddf.c000.avro</td><td>part-00001-26f4a6da-7078-4f3a-8fdd-fed56cf21ddf.c000.avro</td><td>862</td><td>1751227328000</td></tr><tr><td>s3a://lakehouse-edgy-production-us-west-2/output/CASH_CONNECTED_GRAPH_CHANGE_EVENT/V3/date=2025-06-26/part-00001-2a74e7cd-f279-4245-8432-52c843e03105.c000.avro</td><td>part-00001-2a74e7cd-f279-4245-8432-52c843e03105.c000.avro</td><td>980</td><td>1751284936000</td></tr><tr><td>s3a://lakehouse-edgy-production-us-west-2/output/CASH_CONNECTED_GRAPH_CHANGE_EVENT/V3/date=2025-06-26/part-00001-2bd9d19a-28d1-429a-860f-9d8fb2c41bd0.c000.avro</td><td>part-00001-2bd9d19a-28d1-429a-860f-9d8fb2c41bd0.c000.avro</td><td>749</td><td>1751216559000</td></tr><tr><td>s3a://lakehouse-edgy-production-us-west-2/output/CASH_CONNECTED_GRAPH_CHANGE_EVENT/V3/date=2025-06-26/part-00001-2d510292-8e94-4f5b-95ec-e2fe041c5090.c000.avro</td><td>part-00001-2d510292-8e94-4f5b-95ec-e2fe041c5090.c000.avro</td><td>1148</td><td>1751324564000</td></tr><tr><td>s3a://lakehouse-edgy-production-us-west-2/output/CASH_CONNECTED_GRAPH_CHANGE_EVENT/V3/date=2025-06-26/part-00001-305087c8-c1ce-4b25-b39f-94abf56efe02.c000.avro</td><td>part-00001-305087c8-c1ce-4b25-b39f-94abf56efe02.c000.avro</td><td>1463</td><td>1751065342000</td></tr><tr><td>s3a://lakehouse-edgy-production-us-west-2/output/CASH_CONNECTED_GRAPH_CHANGE_EVENT/V3/date=2025-06-26/part-00001-326b911f-842d-4ccd-840b-6aebe52bddd2.c000.avro</td><td>part-00001-326b911f-842d-4ccd-840b-6aebe52bddd2.c000.avro</td><td>3631866</td><td>1750942963000</td></tr><tr><td>s3a://lakehouse-edgy-production-us-west-2/output/CASH_CONNECTED_GRAPH_CHANGE_EVENT/V3/date=2025-06-26/part-00001-3a732687-01eb-461d-a1fd-97b70c3e7174.c000.avro</td><td>part-00001-3a732687-01eb-461d-a1fd-97b70c3e7174.c000.avro</td><td>1269</td><td>1751000534000</td></tr><tr><td>s3a://lakehouse-edgy-production-us-west-2/output/CASH_CONNECTED_GRAPH_CHANGE_EVENT/V3/date=2025-06-26/part-00001-3c85cf93-ee3d-4d64-a818-28bf0bf3ffb8.c000.avro</td><td>part-00001-3c85cf93-ee3d-4d64-a818-28bf0bf3ffb8.c000.avro</td><td>4046259</td><td>1750903392000</td></tr><tr><td>s3a://lakehouse-edgy-production-us-west-2/output/CASH_CONNECTED_GRAPH_CHANGE_EVENT/V3/date=2025-06-26/part-00001-3fcf9ef6-b81f-40cd-98fa-e1da90af984c.c000.avro</td><td>part-00001-3fcf9ef6-b81f-40cd-98fa-e1da90af984c.c000.avro</td><td>4707062</td><td>1750968154000</td></tr><tr><td>s3a://lakehouse-edgy-production-us-west-2/output/CASH_CONNECTED_GRAPH_CHANGE_EVENT/V3/date=2025-06-26/part-00001-400c5924-35ad-4e12-95f6-0729c4e6a20b.c000.avro</td><td>part-00001-400c5924-35ad-4e12-95f6-0729c4e6a20b.c000.avro</td><td>5027293</td><td>1750964559000</td></tr><tr><td>s3a://lakehouse-edgy-production-us-west-2/output/CASH_CONNECTED_GRAPH_CHANGE_EVENT/V3/date=2025-06-26/part-00001-42f8e0a7-cdbf-49cc-b2ff-9b568f801b12.c000.avro</td><td>part-00001-42f8e0a7-cdbf-49cc-b2ff-9b568f801b12.c000.avro</td><td>2237690</td><td>1750939309000</td></tr><tr><td>s3a://lakehouse-edgy-production-us-west-2/output/CASH_CONNECTED_GRAPH_CHANGE_EVENT/V3/date=2025-06-26/part-00001-436d7755-0fa1-4bfc-924f-4154745d9389.c000.avro</td><td>part-00001-436d7755-0fa1-4bfc-924f-4154745d9389.c000.avro</td><td>3609934</td><td>1750921334000</td></tr><tr><td>s3a://lakehouse-edgy-production-us-west-2/output/CASH_CONNECTED_GRAPH_CHANGE_EVENT/V3/date=2025-06-26/part-00001-47be1296-3c6e-48fd-8c13-e424cf0d7fef.c000.avro</td><td>part-00001-47be1296-3c6e-48fd-8c13-e424cf0d7fef.c000.avro</td><td>4109495</td><td>1750899938000</td></tr><tr><td>s3a://lakehouse-edgy-production-us-west-2/output/CASH_CONNECTED_GRAPH_CHANGE_EVENT/V3/date=2025-06-26/part-00001-48b047c3-d795-48f4-acef-2503446aed08.c000.avro</td><td>part-00001-48b047c3-d795-48f4-acef-2503446aed08.c000.avro</td><td>617</td><td>1751328146000</td></tr><tr><td>s3a://lakehouse-edgy-production-us-west-2/output/CASH_CONNECTED_GRAPH_CHANGE_EVENT/V3/date=2025-06-26/part-00001-4faef8b9-420d-4bc5-8e5f-ea6901b131e7.c000.avro</td><td>part-00001-4faef8b9-420d-4bc5-8e5f-ea6901b131e7.c000.avro</td><td>988</td><td>1751303134000</td></tr><tr><td>s3a://lakehouse-edgy-production-us-west-2/output/CASH_CONNECTED_GRAPH_CHANGE_EVENT/V3/date=2025-06-26/part-00001-51d1fb53-92c0-4393-ae89-8afc10c78d98.c000.avro</td><td>part-00001-51d1fb53-92c0-4393-ae89-8afc10c78d98.c000.avro</td><td>748</td><td>1751252585000</td></tr><tr><td>s3a://lakehouse-edgy-production-us-west-2/output/CASH_CONNECTED_GRAPH_CHANGE_EVENT/V3/date=2025-06-26/part-00001-53ae4a7a-ae17-4d1f-a6c1-6da831eb410a.c000.avro</td><td>part-00001-53ae4a7a-ae17-4d1f-a6c1-6da831eb410a.c000.avro</td><td>623</td><td>1751331736000</td></tr><tr><td>s3a://lakehouse-edgy-production-us-west-2/output/CASH_CONNECTED_GRAPH_CHANGE_EVENT/V3/date=2025-06-26/part-00001-5882f3a3-1f6c-4e16-bfc8-77145fdfcb45.c000.avro</td><td>part-00001-5882f3a3-1f6c-4e16-bfc8-77145fdfcb45.c000.avro</td><td>272900</td><td>1750896337000</td></tr><tr><td>s3a://lakehouse-edgy-production-us-west-2/output/CASH_CONNECTED_GRAPH_CHANGE_EVENT/V3/date=2025-06-26/part-00001-591f0451-475b-4927-94fb-37ad0cdb6c20.c000.avro</td><td>part-00001-591f0451-475b-4927-94fb-37ad0cdb6c20.c000.avro</td><td>1736538</td><td>1750932124000</td></tr><tr><td>s3a://lakehouse-edgy-production-us-west-2/output/CASH_CONNECTED_GRAPH_CHANGE_EVENT/V3/date=2025-06-26/part-00001-5a5dbb19-4e36-4980-a9a7-f6b1fb5604ad.c000.avro</td><td>part-00001-5a5dbb19-4e36-4980-a9a7-f6b1fb5604ad.c000.avro</td><td>912</td><td>1751079734000</td></tr><tr><td>s3a://lakehouse-edgy-production-us-west-2/output/CASH_CONNECTED_GRAPH_CHANGE_EVENT/V3/date=2025-06-26/part-00001-5c07fce4-5590-459f-8459-632a2bd91604.c000.avro</td><td>part-00001-5c07fce4-5590-459f-8459-632a2bd91604.c000.avro</td><td>1337</td><td>1751061750000</td></tr><tr><td>s3a://lakehouse-edgy-production-us-west-2/output/CASH_CONNECTED_GRAPH_CHANGE_EVENT/V3/date=2025-06-26/part-00001-5d5a665c-cad4-4eec-baca-39254600683a.c000.avro</td><td>part-00001-5d5a665c-cad4-4eec-baca-39254600683a.c000.avro</td><td>757</td><td>1751148141000</td></tr><tr><td>s3a://lakehouse-edgy-production-us-west-2/output/CASH_CONNECTED_GRAPH_CHANGE_EVENT/V3/date=2025-06-26/part-00001-5e25399a-ef19-4b00-9a53-03d34a4e7e1d.c000.avro</td><td>part-00001-5e25399a-ef19-4b00-9a53-03d34a4e7e1d.c000.avro</td><td>3393</td><td>1750989752000</td></tr><tr><td>s3a://lakehouse-edgy-production-us-west-2/output/CASH_CONNECTED_GRAPH_CHANGE_EVENT/V3/date=2025-06-26/part-00001-5f1031de-f014-44fe-957d-4a417db618f5.c000.avro</td><td>part-00001-5f1031de-f014-44fe-957d-4a417db618f5.c000.avro</td><td>3696</td><td>1750986150000</td></tr><tr><td>s3a://lakehouse-edgy-production-us-west-2/output/CASH_CONNECTED_GRAPH_CHANGE_EVENT/V3/date=2025-06-26/part-00001-5f554a6b-db2c-405e-971e-7b02f8c23597.c000.avro</td><td>part-00001-5f554a6b-db2c-405e-971e-7b02f8c23597.c000.avro</td><td>1378</td><td>1751137365000</td></tr><tr><td>s3a://lakehouse-edgy-production-us-west-2/output/CASH_CONNECTED_GRAPH_CHANGE_EVENT/V3/date=2025-06-26/part-00001-615c9c31-8fe0-42fd-a678-e128d36dc4fc.c000.avro</td><td>part-00001-615c9c31-8fe0-42fd-a678-e128d36dc4fc.c000.avro</td><td>1495</td><td>1751058316000</td></tr><tr><td>s3a://lakehouse-edgy-production-us-west-2/output/CASH_CONNECTED_GRAPH_CHANGE_EVENT/V3/date=2025-06-26/part-00001-627953a7-8742-4148-83b0-5097d9f5f730.c000.avro</td><td>part-00001-627953a7-8742-4148-83b0-5097d9f5f730.c000.avro</td><td>5194552</td><td>1750971934000</td></tr><tr><td>s3a://lakehouse-edgy-production-us-west-2/output/CASH_CONNECTED_GRAPH_CHANGE_EVENT/V3/date=2025-06-26/part-00001-63c9288a-49f7-485a-9e7f-6c9b0eac2e2b.c000.avro</td><td>part-00001-63c9288a-49f7-485a-9e7f-6c9b0eac2e2b.c000.avro</td><td>4391922</td><td>1750979126000</td></tr><tr><td>s3a://lakehouse-edgy-production-us-west-2/output/CASH_CONNECTED_GRAPH_CHANGE_EVENT/V3/date=2025-06-26/part-00001-656ca850-c47a-40f3-a603-82cff61b3945.c000.avro</td><td>part-00001-656ca850-c47a-40f3-a603-82cff61b3945.c000.avro</td><td>3358873</td><td>1750914325000</td></tr><tr><td>s3a://lakehouse-edgy-production-us-west-2/output/CASH_CONNECTED_GRAPH_CHANGE_EVENT/V3/date=2025-06-26/part-00001-67ab9b70-0397-45a9-84ff-04f79a0a6591.c000.avro</td><td>part-00001-67ab9b70-0397-45a9-84ff-04f79a0a6591.c000.avro</td><td>641</td><td>1751320942000</td></tr><tr><td>s3a://lakehouse-edgy-production-us-west-2/output/CASH_CONNECTED_GRAPH_CHANGE_EVENT/V3/date=2025-06-26/part-00001-6957e514-102a-4676-9905-fa6c505f54f1.c000.avro</td><td>part-00001-6957e514-102a-4676-9905-fa6c505f54f1.c000.avro</td><td>1020</td><td>1751151908000</td></tr><tr><td>s3a://lakehouse-edgy-production-us-west-2/output/CASH_CONNECTED_GRAPH_CHANGE_EVENT/V3/date=2025-06-26/part-00001-6bb28edf-b321-4016-a09c-b5ab928a7389.c000.avro</td><td>part-00001-6bb28edf-b321-4016-a09c-b5ab928a7389.c000.avro</td><td>633</td><td>1751306711000</td></tr><tr><td>s3a://lakehouse-edgy-production-us-west-2/output/CASH_CONNECTED_GRAPH_CHANGE_EVENT/V3/date=2025-06-26/part-00001-6c7fd1bc-7ffc-4304-9d6b-30080532de21.c000.avro</td><td>part-00001-6c7fd1bc-7ffc-4304-9d6b-30080532de21.c000.avro</td><td>3876154</td><td>1750954024000</td></tr><tr><td>s3a://lakehouse-edgy-production-us-west-2/output/CASH_CONNECTED_GRAPH_CHANGE_EVENT/V3/date=2025-06-26/part-00001-708ff3ed-2d64-4041-a2ea-56c09e27847f.c000.avro</td><td>part-00001-708ff3ed-2d64-4041-a2ea-56c09e27847f.c000.avro</td><td>2988426</td><td>1750910545000</td></tr><tr><td>s3a://lakehouse-edgy-production-us-west-2/output/CASH_CONNECTED_GRAPH_CHANGE_EVENT/V3/date=2025-06-26/part-00001-785ea455-0365-4d81-b28e-966998a8fbbe.c000.avro</td><td>part-00001-785ea455-0365-4d81-b28e-966998a8fbbe.c000.avro</td><td>3823947</td><td>1750950150000</td></tr><tr><td>s3a://lakehouse-edgy-production-us-west-2/output/CASH_CONNECTED_GRAPH_CHANGE_EVENT/V3/date=2025-06-26/part-00001-7ad15f1a-5b2a-4baa-8c4f-ac3311c1d2da.c000.avro</td><td>part-00001-7ad15f1a-5b2a-4baa-8c4f-ac3311c1d2da.c000.avro</td><td>627</td><td>1751173391000</td></tr><tr><td>s3a://lakehouse-edgy-production-us-west-2/output/CASH_CONNECTED_GRAPH_CHANGE_EVENT/V3/date=2025-06-26/part-00001-7db3f139-d2cc-4b03-a2b5-889781a3c39c.c000.avro</td><td>part-00001-7db3f139-d2cc-4b03-a2b5-889781a3c39c.c000.avro</td><td>3362675</td><td>1750946551000</td></tr><tr><td>s3a://lakehouse-edgy-production-us-west-2/output/CASH_CONNECTED_GRAPH_CHANGE_EVENT/V3/date=2025-06-26/part-00001-7ede01ec-3a71-469a-8f91-defee1529703.c000.avro</td><td>part-00001-7ede01ec-3a71-469a-8f91-defee1529703.c000.avro</td><td>489</td><td>1751299590000</td></tr><tr><td>s3a://lakehouse-edgy-production-us-west-2/output/CASH_CONNECTED_GRAPH_CHANGE_EVENT/V3/date=2025-06-26/part-00001-7fe97af2-8748-4db4-914a-a744efd15bd0.c000.avro</td><td>part-00001-7fe97af2-8748-4db4-914a-a744efd15bd0.c000.avro</td><td>622</td><td>1751180538000</td></tr><tr><td>s3a://lakehouse-edgy-production-us-west-2/output/CASH_CONNECTED_GRAPH_CHANGE_EVENT/V3/date=2025-06-26/part-00001-819ea75b-d6d6-4734-87ed-c42c4e228c60.c000.avro</td><td>part-00001-819ea75b-d6d6-4734-87ed-c42c4e228c60.c000.avro</td><td>627</td><td>1751238329000</td></tr><tr><td>s3a://lakehouse-edgy-production-us-west-2/output/CASH_CONNECTED_GRAPH_CHANGE_EVENT/V3/date=2025-06-26/part-00001-824fe294-2d09-4e87-a1f8-141f9a810afd.c000.avro</td><td>part-00001-824fe294-2d09-4e87-a1f8-141f9a810afd.c000.avro</td><td>1590</td><td>1751051148000</td></tr><tr><td>s3a://lakehouse-edgy-production-us-west-2/output/CASH_CONNECTED_GRAPH_CHANGE_EVENT/V3/date=2025-06-26/part-00001-84bd2587-161a-46ae-a72f-b7b8156e7927.c000.avro</td><td>part-00001-84bd2587-161a-46ae-a72f-b7b8156e7927.c000.avro</td><td>4485779</td><td>1750960960000</td></tr><tr><td>s3a://lakehouse-edgy-production-us-west-2/output/CASH_CONNECTED_GRAPH_CHANGE_EVENT/V3/date=2025-06-26/part-00001-8653e032-dcaa-48b0-8504-20e656540f09.c000.avro</td><td>part-00001-8653e032-dcaa-48b0-8504-20e656540f09.c000.avro</td><td>1504</td><td>1751036550000</td></tr><tr><td>s3a://lakehouse-edgy-production-us-west-2/output/CASH_CONNECTED_GRAPH_CHANGE_EVENT/V3/date=2025-06-26/part-00001-87124540-7126-48be-a4c2-0cf261c0c603.c000.avro</td><td>part-00001-87124540-7126-48be-a4c2-0cf261c0c603.c000.avro</td><td>976</td><td>1751072605000</td></tr><tr><td>s3a://lakehouse-edgy-production-us-west-2/output/CASH_CONNECTED_GRAPH_CHANGE_EVENT/V3/date=2025-06-26/part-00001-875eda51-66bb-464d-bdf1-708cc0e8d25e.c000.avro</td><td>part-00001-875eda51-66bb-464d-bdf1-708cc0e8d25e.c000.avro</td><td>621</td><td>1751313768000</td></tr><tr><td>s3a://lakehouse-edgy-production-us-west-2/output/CASH_CONNECTED_GRAPH_CHANGE_EVENT/V3/date=2025-06-26/part-00001-8763279e-480d-40f4-bf2a-0dad7d0f7e4a.c000.avro</td><td>part-00001-8763279e-480d-40f4-bf2a-0dad7d0f7e4a.c000.avro</td><td>4165135</td><td>1750957357000</td></tr><tr><td>s3a://lakehouse-edgy-production-us-west-2/output/CASH_CONNECTED_GRAPH_CHANGE_EVENT/V3/date=2025-06-26/part-00001-8a2f8527-ab9b-458f-84f8-6d1ffd4db8f8.c000.avro</td><td>part-00001-8a2f8527-ab9b-458f-84f8-6d1ffd4db8f8.c000.avro</td><td>1200</td><td>1751130367000</td></tr><tr><td>s3a://lakehouse-edgy-production-us-west-2/output/CASH_CONNECTED_GRAPH_CHANGE_EVENT/V3/date=2025-06-26/part-00001-8a7375f3-d2b4-4674-86f9-6bd22ce43d2b.c000.avro</td><td>part-00001-8a7375f3-d2b4-4674-86f9-6bd22ce43d2b.c000.avro</td><td>1714</td><td>1751076163000</td></tr><tr><td>s3a://lakehouse-edgy-production-us-west-2/output/CASH_CONNECTED_GRAPH_CHANGE_EVENT/V3/date=2025-06-26/part-00001-8bf06f61-d8ab-4d5f-a992-34b4a0f35c90.c000.avro</td><td>part-00001-8bf06f61-d8ab-4d5f-a992-34b4a0f35c90.c000.avro</td><td>1078</td><td>1751033198000</td></tr><tr><td>s3a://lakehouse-edgy-production-us-west-2/output/CASH_CONNECTED_GRAPH_CHANGE_EVENT/V3/date=2025-06-26/part-00001-8fb6bab6-2d21-4f69-b5c5-a64c4d827fa8.c000.avro</td><td>part-00001-8fb6bab6-2d21-4f69-b5c5-a64c4d827fa8.c000.avro</td><td>622</td><td>1751083348000</td></tr><tr><td>s3a://lakehouse-edgy-production-us-west-2/output/CASH_CONNECTED_GRAPH_CHANGE_EVENT/V3/date=2025-06-26/part-00001-93594ad5-2de6-43bf-bca3-8db0928aa2a5.c000.avro</td><td>part-00001-93594ad5-2de6-43bf-bca3-8db0928aa2a5.c000.avro</td><td>610</td><td>1751267005000</td></tr><tr><td>s3a://lakehouse-edgy-production-us-west-2/output/CASH_CONNECTED_GRAPH_CHANGE_EVENT/V3/date=2025-06-26/part-00001-94d97e52-739b-49e7-8652-0f9630518541.c000.avro</td><td>part-00001-94d97e52-739b-49e7-8652-0f9630518541.c000.avro</td><td>995</td><td>1751141127000</td></tr><tr><td>s3a://lakehouse-edgy-production-us-west-2/output/CASH_CONNECTED_GRAPH_CHANGE_EVENT/V3/date=2025-06-26/part-00001-9780ef3f-3f78-4203-ac76-bb801ad60df3.c000.avro</td><td>part-00001-9780ef3f-3f78-4203-ac76-bb801ad60df3.c000.avro</td><td>1874</td><td>1750993349000</td></tr><tr><td>s3a://lakehouse-edgy-production-us-west-2/output/CASH_CONNECTED_GRAPH_CHANGE_EVENT/V3/date=2025-06-26/part-00001-99446acd-b23a-4a81-8e5c-ec6228fd4421.c000.avro</td><td>part-00001-99446acd-b23a-4a81-8e5c-ec6228fd4421.c000.avro</td><td>2045092</td><td>1750924916000</td></tr><tr><td>s3a://lakehouse-edgy-production-us-west-2/output/CASH_CONNECTED_GRAPH_CHANGE_EVENT/V3/date=2025-06-26/part-00001-9955403f-b0a4-4033-b4d7-aad30266d0de.c000.avro</td><td>part-00001-9955403f-b0a4-4033-b4d7-aad30266d0de.c000.avro</td><td>1730</td><td>1751054553000</td></tr><tr><td>s3a://lakehouse-edgy-production-us-west-2/output/CASH_CONNECTED_GRAPH_CHANGE_EVENT/V3/date=2025-06-26/part-00001-9bbbbc55-0a92-4c29-a59c-16f6fc5328b7.c000.avro</td><td>part-00001-9bbbbc55-0a92-4c29-a59c-16f6fc5328b7.c000.avro</td><td>993</td><td>1751292171000</td></tr><tr><td>s3a://lakehouse-edgy-production-us-west-2/output/CASH_CONNECTED_GRAPH_CHANGE_EVENT/V3/date=2025-06-26/part-00001-9dffd210-fa28-46fd-b79c-1596c6dd7f22.c000.avro</td><td>part-00001-9dffd210-fa28-46fd-b79c-1596c6dd7f22.c000.avro</td><td>488</td><td>1751169900000</td></tr><tr><td>s3a://lakehouse-edgy-production-us-west-2/output/CASH_CONNECTED_GRAPH_CHANGE_EVENT/V3/date=2025-06-26/part-00001-9e6c2ed6-7b15-453b-a8e9-394041bd481b.c000.avro</td><td>part-00001-9e6c2ed6-7b15-453b-a8e9-394041bd481b.c000.avro</td><td>498</td><td>1751213109000</td></tr><tr><td>s3a://lakehouse-edgy-production-us-west-2/output/CASH_CONNECTED_GRAPH_CHANGE_EVENT/V3/date=2025-06-26/part-00001-a0aa8ab3-6529-4f87-8068-e3522276f0ac.c000.avro</td><td>part-00001-a0aa8ab3-6529-4f87-8068-e3522276f0ac.c000.avro</td><td>738</td><td>1751241742000</td></tr><tr><td>s3a://lakehouse-edgy-production-us-west-2/output/CASH_CONNECTED_GRAPH_CHANGE_EVENT/V3/date=2025-06-26/part-00001-a3626ec0-c333-4eeb-888a-b6fad9fd3b7b.c000.avro</td><td>part-00001-a3626ec0-c333-4eeb-888a-b6fad9fd3b7b.c000.avro</td><td>612</td><td>1751112128000</td></tr><tr><td>s3a://lakehouse-edgy-production-us-west-2/output/CASH_CONNECTED_GRAPH_CHANGE_EVENT/V3/date=2025-06-26/part-00001-ab075caf-13ac-43a1-b8d7-f851df1ca96f.c000.avro</td><td>part-00001-ab075caf-13ac-43a1-b8d7-f851df1ca96f.c000.avro</td><td>1137</td><td>1751068943000</td></tr><tr><td>s3a://lakehouse-edgy-production-us-west-2/output/CASH_CONNECTED_GRAPH_CHANGE_EVENT/V3/date=2025-06-26/part-00001-af2fe8f7-9166-4a97-9921-cbd926988693.c000.avro</td><td>part-00001-af2fe8f7-9166-4a97-9921-cbd926988693.c000.avro</td><td>1960700</td><td>1750928486000</td></tr><tr><td>s3a://lakehouse-edgy-production-us-west-2/output/CASH_CONNECTED_GRAPH_CHANGE_EVENT/V3/date=2025-06-26/part-00001-b30ebb53-3009-4da5-ad69-efd8e692f2d7.c000.avro</td><td>part-00001-b30ebb53-3009-4da5-ad69-efd8e692f2d7.c000.avro</td><td>738</td><td>1751310169000</td></tr><tr><td>s3a://lakehouse-edgy-production-us-west-2/output/CASH_CONNECTED_GRAPH_CHANGE_EVENT/V3/date=2025-06-26/part-00001-b31bd9c2-4001-4f78-b035-bdd9a6d1a90b.c000.avro</td><td>part-00001-b31bd9c2-4001-4f78-b035-bdd9a6d1a90b.c000.avro</td><td>897</td><td>1751234536000</td></tr><tr><td>s3a://lakehouse-edgy-production-us-west-2/output/CASH_CONNECTED_GRAPH_CHANGE_EVENT/V3/date=2025-06-26/part-00001-b31ffff9-e21c-4fa8-9503-a916f22b0a68.c000.avro</td><td>part-00001-b31ffff9-e21c-4fa8-9503-a916f22b0a68.c000.avro</td><td>618</td><td>1751205738000</td></tr><tr><td>s3a://lakehouse-edgy-production-us-west-2/output/CASH_CONNECTED_GRAPH_CHANGE_EVENT/V3/date=2025-06-26/part-00001-b43e9453-0ffa-40dc-89e4-8d9bb02dad4b.c000.avro</td><td>part-00001-b43e9453-0ffa-40dc-89e4-8d9bb02dad4b.c000.avro</td><td>5089519</td><td>1750975544000</td></tr><tr><td>s3a://lakehouse-edgy-production-us-west-2/output/CASH_CONNECTED_GRAPH_CHANGE_EVENT/V3/date=2025-06-26/part-00001-b4fe01cf-2d42-4945-9a5e-1418d564040c.c000.avro</td><td>part-00001-b4fe01cf-2d42-4945-9a5e-1418d564040c.c000.avro</td><td>629</td><td>1751202343000</td></tr><tr><td>s3a://lakehouse-edgy-production-us-west-2/output/CASH_CONNECTED_GRAPH_CHANGE_EVENT/V3/date=2025-06-26/part-00001-b50dfab5-8a6e-4739-b6e8-2bc78cd3f7c3.c000.avro</td><td>part-00001-b50dfab5-8a6e-4739-b6e8-2bc78cd3f7c3.c000.avro</td><td>1518</td><td>1751126527000</td></tr><tr><td>s3a://lakehouse-edgy-production-us-west-2/output/CASH_CONNECTED_GRAPH_CHANGE_EVENT/V3/date=2025-06-26/part-00001-b56c43e7-bc77-4ae7-8538-5a348bc57f34.c000.avro</td><td>part-00001-b56c43e7-bc77-4ae7-8538-5a348bc57f34.c000.avro</td><td>2117264</td><td>1750935716000</td></tr><tr><td>s3a://lakehouse-edgy-production-us-west-2/output/CASH_CONNECTED_GRAPH_CHANGE_EVENT/V3/date=2025-06-26/part-00001-b5cf0e37-20cf-47c5-8ae1-b79902230306.c000.avro</td><td>part-00001-b5cf0e37-20cf-47c5-8ae1-b79902230306.c000.avro</td><td>620</td><td>1751184136000</td></tr><tr><td>s3a://lakehouse-edgy-production-us-west-2/output/CASH_CONNECTED_GRAPH_CHANGE_EVENT/V3/date=2025-06-26/part-00001-b8ab35e6-8494-41b8-b186-4d0668cc4052.c000.avro</td><td>part-00001-b8ab35e6-8494-41b8-b186-4d0668cc4052.c000.avro</td><td>616</td><td>1751198500000</td></tr><tr><td>s3a://lakehouse-edgy-production-us-west-2/output/CASH_CONNECTED_GRAPH_CHANGE_EVENT/V3/date=2025-06-26/part-00001-ba99741e-10aa-4fd7-924f-8a7fb26c8a21.c000.avro</td><td>part-00001-ba99741e-10aa-4fd7-924f-8a7fb26c8a21.c000.avro</td><td>637</td><td>1751230960000</td></tr><tr><td>s3a://lakehouse-edgy-production-us-west-2/output/CASH_CONNECTED_GRAPH_CHANGE_EVENT/V3/date=2025-06-26/part-00001-c09344b7-5def-45a4-a65e-d00e940e7147.c000.avro</td><td>part-00001-c09344b7-5def-45a4-a65e-d00e940e7147.c000.avro</td><td>747</td><td>1751166347000</td></tr><tr><td>s3a://lakehouse-edgy-production-us-west-2/output/CASH_CONNECTED_GRAPH_CHANGE_EVENT/V3/date=2025-06-26/part-00001-c2d5a868-23a3-4ccb-b385-f74dc2d28f0c.c000.avro</td><td>part-00001-c2d5a868-23a3-4ccb-b385-f74dc2d28f0c.c000.avro</td><td>744</td><td>1751209323000</td></tr><tr><td>s3a://lakehouse-edgy-production-us-west-2/output/CASH_CONNECTED_GRAPH_CHANGE_EVENT/V3/date=2025-06-26/part-00001-c4042e48-2c24-4916-b248-41cde5d9f957.c000.avro</td><td>part-00001-c4042e48-2c24-4916-b248-41cde5d9f957.c000.avro</td><td>638</td><td>1751090533000</td></tr><tr><td>s3a://lakehouse-edgy-production-us-west-2/output/CASH_CONNECTED_GRAPH_CHANGE_EVENT/V3/date=2025-06-26/part-00001-c42eec9b-536b-48b6-a849-65ea673e3298.c000.avro</td><td>part-00001-c42eec9b-536b-48b6-a849-65ea673e3298.c000.avro</td><td>493</td><td>1751101310000</td></tr><tr><td>s3a://lakehouse-edgy-production-us-west-2/output/CASH_CONNECTED_GRAPH_CHANGE_EVENT/V3/date=2025-06-26/part-00001-c478ffca-3d36-4165-b5b8-4a027a3c9778.c000.avro</td><td>part-00001-c478ffca-3d36-4165-b5b8-4a027a3c9778.c000.avro</td><td>3596896</td><td>1750982553000</td></tr><tr><td>s3a://lakehouse-edgy-production-us-west-2/output/CASH_CONNECTED_GRAPH_CHANGE_EVENT/V3/date=2025-06-26/part-00001-c6934515-f8aa-4812-812a-9c3d5a76d99b.c000.avro</td><td>part-00001-c6934515-f8aa-4812-812a-9c3d5a76d99b.c000.avro</td><td>1002</td><td>1751025750000</td></tr><tr><td>s3a://lakehouse-edgy-production-us-west-2/output/CASH_CONNECTED_GRAPH_CHANGE_EVENT/V3/date=2025-06-26/part-00001-cd1dcede-ed72-4b6c-bb75-2761e3aac373.c000.avro</td><td>part-00001-cd1dcede-ed72-4b6c-bb75-2761e3aac373.c000.avro</td><td>744</td><td>1751108528000</td></tr><tr><td>s3a://lakehouse-edgy-production-us-west-2/output/CASH_CONNECTED_GRAPH_CHANGE_EVENT/V3/date=2025-06-26/part-00001-cd32ec98-ab9e-4948-b818-2d5c0243a96c.c000.avro</td><td>part-00001-cd32ec98-ab9e-4948-b818-2d5c0243a96c.c000.avro</td><td>809</td><td>1751014920000</td></tr><tr><td>s3a://lakehouse-edgy-production-us-west-2/output/CASH_CONNECTED_GRAPH_CHANGE_EVENT/V3/date=2025-06-26/part-00001-ce28f8b5-da2e-4722-831b-52d63fa389ee.c000.avro</td><td>part-00001-ce28f8b5-da2e-4722-831b-52d63fa389ee.c000.avro</td><td>617</td><td>1751245500000</td></tr><tr><td>s3a://lakehouse-edgy-production-us-west-2/output/CASH_CONNECTED_GRAPH_CHANGE_EVENT/V3/date=2025-06-26/part-00001-d624001a-374b-4aae-91a3-eb683059b84b.c000.avro</td><td>part-00001-d624001a-374b-4aae-91a3-eb683059b84b.c000.avro</td><td>2143</td><td>1751040332000</td></tr><tr><td>s3a://lakehouse-edgy-production-us-west-2/output/CASH_CONNECTED_GRAPH_CHANGE_EVENT/V3/date=2025-06-26/part-00001-d6e79481-559d-41b2-ac23-323dd6c6b917.c000.avro</td><td>part-00001-d6e79481-559d-41b2-ac23-323dd6c6b917.c000.avro</td><td>1940</td><td>1750996938000</td></tr><tr><td>s3a://lakehouse-edgy-production-us-west-2/output/CASH_CONNECTED_GRAPH_CHANGE_EVENT/V3/date=2025-06-26/part-00001-d7121fbc-0e55-4562-88e6-98d5157b790a.c000.avro</td><td>part-00001-d7121fbc-0e55-4562-88e6-98d5157b790a.c000.avro</td><td>490</td><td>1751018525000</td></tr><tr><td>s3a://lakehouse-edgy-production-us-west-2/output/CASH_CONNECTED_GRAPH_CHANGE_EVENT/V3/date=2025-06-26/part-00001-da4034b6-4e1f-4f94-81e8-9ecddc0330cb.c000.avro</td><td>part-00001-da4034b6-4e1f-4f94-81e8-9ecddc0330cb.c000.avro</td><td>610</td><td>1751248926000</td></tr><tr><td>s3a://lakehouse-edgy-production-us-west-2/output/CASH_CONNECTED_GRAPH_CHANGE_EVENT/V3/date=2025-06-26/part-00001-dbc077a4-7b93-44e5-a8e3-ca7eb681071e.c000.avro</td><td>part-00001-dbc077a4-7b93-44e5-a8e3-ca7eb681071e.c000.avro</td><td>486</td><td>1751223745000</td></tr><tr><td>s3a://lakehouse-edgy-production-us-west-2/output/CASH_CONNECTED_GRAPH_CHANGE_EVENT/V3/date=2025-06-26/part-00001-de023057-bafb-48fc-84f0-9de8088e8774.c000.avro</td><td>part-00001-de023057-bafb-48fc-84f0-9de8088e8774.c000.avro</td><td>569</td><td>1751011310000</td></tr><tr><td>s3a://lakehouse-edgy-production-us-west-2/output/CASH_CONNECTED_GRAPH_CHANGE_EVENT/V3/date=2025-06-26/part-00001-df766e07-0885-4446-99fb-8e9dea933d4d.c000.avro</td><td>part-00001-df766e07-0885-4446-99fb-8e9dea933d4d.c000.avro</td><td>3408789</td><td>1750906964000</td></tr><tr><td>s3a://lakehouse-edgy-production-us-west-2/output/CASH_CONNECTED_GRAPH_CHANGE_EVENT/V3/date=2025-06-26/part-00001-dfac1902-1c2b-4058-90fc-e5df35fbb0ed.c000.avro</td><td>part-00001-dfac1902-1c2b-4058-90fc-e5df35fbb0ed.c000.avro</td><td>1516</td><td>1751004123000</td></tr><tr><td>s3a://lakehouse-edgy-production-us-west-2/output/CASH_CONNECTED_GRAPH_CHANGE_EVENT/V3/date=2025-06-26/part-00001-e3e69476-199d-4c53-ae26-b880526d249d.c000.avro</td><td>part-00001-e3e69476-199d-4c53-ae26-b880526d249d.c000.avro</td><td>968</td><td>1751155330000</td></tr><tr><td>s3a://lakehouse-edgy-production-us-west-2/output/CASH_CONNECTED_GRAPH_CHANGE_EVENT/V3/date=2025-06-26/part-00001-e9604e45-348d-417f-9a59-ec36ad4baa22.c000.avro</td><td>part-00001-e9604e45-348d-417f-9a59-ec36ad4baa22.c000.avro</td><td>631</td><td>1751162533000</td></tr><tr><td>s3a://lakehouse-edgy-production-us-west-2/output/CASH_CONNECTED_GRAPH_CHANGE_EVENT/V3/date=2025-06-26/part-00001-eb8b1451-1049-478d-b0f1-0542b86ef303.c000.avro</td><td>part-00001-eb8b1451-1049-478d-b0f1-0542b86ef303.c000.avro</td><td>868</td><td>1751317341000</td></tr><tr><td>s3a://lakehouse-edgy-production-us-west-2/output/CASH_CONNECTED_GRAPH_CHANGE_EVENT/V3/date=2025-06-26/part-00001-edeb7adb-2ba6-4f6f-9f7d-15c41554c725.c000.avro</td><td>part-00001-edeb7adb-2ba6-4f6f-9f7d-15c41554c725.c000.avro</td><td>977</td><td>1751158949000</td></tr><tr><td>s3a://lakehouse-edgy-production-us-west-2/output/CASH_CONNECTED_GRAPH_CHANGE_EVENT/V3/date=2025-06-26/part-00001-f42d3f24-4ca2-4d1a-a031-55ba718677ac.c000.avro</td><td>part-00001-f42d3f24-4ca2-4d1a-a031-55ba718677ac.c000.avro</td><td>486</td><td>1751274121000</td></tr><tr><td>s3a://lakehouse-edgy-production-us-west-2/output/CASH_CONNECTED_GRAPH_CHANGE_EVENT/V3/date=2025-06-26/part-00001-f80185d7-fd69-4bf5-9cc4-9b6edc1076d8.c000.avro</td><td>part-00001-f80185d7-fd69-4bf5-9cc4-9b6edc1076d8.c000.avro</td><td>487</td><td>1751281303000</td></tr><tr><td>s3a://lakehouse-edgy-production-us-west-2/output/CASH_CONNECTED_GRAPH_CHANGE_EVENT/V3/date=2025-06-26/part-00001-fa3b1ca7-961d-42d5-a0cd-e19be2a28844.c000.avro</td><td>part-00001-fa3b1ca7-961d-42d5-a0cd-e19be2a28844.c000.avro</td><td>1136</td><td>1751133769000</td></tr><tr><td>s3a://lakehouse-edgy-production-us-west-2/output/CASH_CONNECTED_GRAPH_CHANGE_EVENT/V3/date=2025-06-26/part-00001-facaa14f-f817-4f6b-8250-68c41bac7ecd.c000.avro</td><td>part-00001-facaa14f-f817-4f6b-8250-68c41bac7ecd.c000.avro</td><td>759</td><td>1751119395000</td></tr><tr><td>s3a://lakehouse-edgy-production-us-west-2/output/CASH_CONNECTED_GRAPH_CHANGE_EVENT/V3/date=2025-06-26/part-00002-04438725-ed29-4bcc-b476-f1a70a292d6e.c000.avro</td><td>part-00002-04438725-ed29-4bcc-b476-f1a70a292d6e.c000.avro</td><td>882</td><td>1751022118000</td></tr><tr><td>s3a://lakehouse-edgy-production-us-west-2/output/CASH_CONNECTED_GRAPH_CHANGE_EVENT/V3/date=2025-06-26/part-00002-0623acc5-8ca7-4872-b8c8-4a5a2a828c03.c000.avro</td><td>part-00002-0623acc5-8ca7-4872-b8c8-4a5a2a828c03.c000.avro</td><td>787</td><td>1751144528000</td></tr><tr><td>s3a://lakehouse-edgy-production-us-west-2/output/CASH_CONNECTED_GRAPH_CHANGE_EVENT/V3/date=2025-06-26/part-00002-07746a62-05c8-4ec7-9058-e75713eab96b.c000.avro</td><td>part-00002-07746a62-05c8-4ec7-9058-e75713eab96b.c000.avro</td><td>2214862</td><td>1750939308000</td></tr><tr><td>s3a://lakehouse-edgy-production-us-west-2/output/CASH_CONNECTED_GRAPH_CHANGE_EVENT/V3/date=2025-06-26/part-00002-08c14fc9-1595-43d4-ab8b-30944548443f.c000.avro</td><td>part-00002-08c14fc9-1595-43d4-ab8b-30944548443f.c000.avro</td><td>736</td><td>1751299587000</td></tr><tr><td>s3a://lakehouse-edgy-production-us-west-2/output/CASH_CONNECTED_GRAPH_CHANGE_EVENT/V3/date=2025-06-26/part-00002-0a27169a-b48b-462a-9363-8cb629189645.c000.avro</td><td>part-00002-0a27169a-b48b-462a-9363-8cb629189645.c000.avro</td><td>738</td><td>1751014918000</td></tr><tr><td>s3a://lakehouse-edgy-production-us-west-2/output/CASH_CONNECTED_GRAPH_CHANGE_EVENT/V3/date=2025-06-26/part-00002-0a7f53d0-3103-4295-9688-b1f76f6e50e2.c000.avro</td><td>part-00002-0a7f53d0-3103-4295-9688-b1f76f6e50e2.c000.avro</td><td>3818000</td><td>1750950150000</td></tr><tr><td>s3a://lakehouse-edgy-production-us-west-2/output/CASH_CONNECTED_GRAPH_CHANGE_EVENT/V3/date=2025-06-26/part-00002-106618e3-db7c-4ed7-bf73-ed8499faa5f4.c000.avro</td><td>part-00002-106618e3-db7c-4ed7-bf73-ed8499faa5f4.c000.avro</td><td>487</td><td>1751288511000</td></tr><tr><td>s3a://lakehouse-edgy-production-us-west-2/output/CASH_CONNECTED_GRAPH_CHANGE_EVENT/V3/date=2025-06-26/part-00002-113c8607-7612-4e56-8385-493355aaf994.c000.avro</td><td>part-00002-113c8607-7612-4e56-8385-493355aaf994.c000.avro</td><td>1140</td><td>1751033199000</td></tr><tr><td>s3a://lakehouse-edgy-production-us-west-2/output/CASH_CONNECTED_GRAPH_CHANGE_EVENT/V3/date=2025-06-26/part-00002-14715345-ce50-4979-9a6c-cd01621d3b3d.c000.avro</td><td>part-00002-14715345-ce50-4979-9a6c-cd01621d3b3d.c000.avro</td><td>1341</td><td>1751029336000</td></tr><tr><td>s3a://lakehouse-edgy-production-us-west-2/output/CASH_CONNECTED_GRAPH_CHANGE_EVENT/V3/date=2025-06-26/part-00002-1795376e-7042-4f39-bb19-45b8fcc7b314.c000.avro</td><td>part-00002-1795376e-7042-4f39-bb19-45b8fcc7b314.c000.avro</td><td>630</td><td>1751320941000</td></tr><tr><td>s3a://lakehouse-edgy-production-us-west-2/output/CASH_CONNECTED_GRAPH_CHANGE_EVENT/V3/date=2025-06-26/part-00002-1df5bdef-af8a-4285-95d1-026596d73027.c000.avro</td><td>part-00002-1df5bdef-af8a-4285-95d1-026596d73027.c000.avro</td><td>4111469</td><td>1750899935000</td></tr><tr><td>s3a://lakehouse-edgy-production-us-west-2/output/CASH_CONNECTED_GRAPH_CHANGE_EVENT/V3/date=2025-06-26/part-00002-20615bbe-b5e5-4b12-bcd9-eb647332b20b.c000.avro</td><td>part-00002-20615bbe-b5e5-4b12-bcd9-eb647332b20b.c000.avro</td><td>637</td><td>1751011308000</td></tr><tr><td>s3a://lakehouse-edgy-production-us-west-2/output/CASH_CONNECTED_GRAPH_CHANGE_EVENT/V3/date=2025-06-26/part-00002-252877c9-d2e5-49aa-adee-fe62fac88aa0.c000.avro</td><td>part-00002-252877c9-d2e5-49aa-adee-fe62fac88aa0.c000.avro</td><td>2993082</td><td>1750910544000</td></tr><tr><td>s3a://lakehouse-edgy-production-us-west-2/output/CASH_CONNECTED_GRAPH_CHANGE_EVENT/V3/date=2025-06-26/part-00002-28917e9e-a187-4f1c-bf43-544e581464d9.c000.avro</td><td>part-00002-28917e9e-a187-4f1c-bf43-544e581464d9.c000.avro</td><td>1234</td><td>1751122932000</td></tr><tr><td>s3a://lakehouse-edgy-production-us-west-2/output/CASH_CONNECTED_GRAPH_CHANGE_EVENT/V3/date=2025-06-26/part-00002-2a5c0bb9-46e4-4304-9ada-7c2d026fc1ba.c000.avro</td><td>part-00002-2a5c0bb9-46e4-4304-9ada-7c2d026fc1ba.c000.avro</td><td>3417657</td><td>1750906963000</td></tr><tr><td>s3a://lakehouse-edgy-production-us-west-2/output/CASH_CONNECTED_GRAPH_CHANGE_EVENT/V3/date=2025-06-26/part-00002-2c4fd005-63ce-4720-afb3-f3d5f1c3c5c7.c000.avro</td><td>part-00002-2c4fd005-63ce-4720-afb3-f3d5f1c3c5c7.c000.avro</td><td>1103</td><td>1751313771000</td></tr><tr><td>s3a://lakehouse-edgy-production-us-west-2/output/CASH_CONNECTED_GRAPH_CHANGE_EVENT/V3/date=2025-06-26/part-00002-2e0d0aa0-a202-4810-b431-e23f0709f27a.c000.avro</td><td>part-00002-2e0d0aa0-a202-4810-b431-e23f0709f27a.c000.avro</td><td>489</td><td>1751119397000</td></tr><tr><td>s3a://lakehouse-edgy-production-us-west-2/output/CASH_CONNECTED_GRAPH_CHANGE_EVENT/V3/date=2025-06-26/part-00002-3266aa58-5670-468d-980a-d99013cc5c49.c000.avro</td><td>part-00002-3266aa58-5670-468d-980a-d99013cc5c49.c000.avro</td><td>1601</td><td>1750996937000</td></tr><tr><td>s3a://lakehouse-edgy-production-us-west-2/output/CASH_CONNECTED_GRAPH_CHANGE_EVENT/V3/date=2025-06-26/part-00002-33b06f61-d36b-45e4-8b9e-615971cb9172.c000.avro</td><td>part-00002-33b06f61-d36b-45e4-8b9e-615971cb9172.c000.avro</td><td>495</td><td>1751245499000</td></tr><tr><td>s3a://lakehouse-edgy-production-us-west-2/output/CASH_CONNECTED_GRAPH_CHANGE_EVENT/V3/date=2025-06-26/part-00002-35d28392-115e-49c7-b256-0b505d4f8b1a.c000.avro</td><td>part-00002-35d28392-115e-49c7-b256-0b505d4f8b1a.c000.avro</td><td>974</td><td>1751158948000</td></tr><tr><td>s3a://lakehouse-edgy-production-us-west-2/output/CASH_CONNECTED_GRAPH_CHANGE_EVENT/V3/date=2025-06-26/part-00002-3740517e-9474-4e10-84f3-dd6cd1c2c3e2.c000.avro</td><td>part-00002-3740517e-9474-4e10-84f3-dd6cd1c2c3e2.c000.avro</td><td>465</td><td>1751284939000</td></tr><tr><td>s3a://lakehouse-edgy-production-us-west-2/output/CASH_CONNECTED_GRAPH_CHANGE_EVENT/V3/date=2025-06-26/part-00002-37ef4a62-dd1d-4533-8240-1bbe415d7fb2.c000.avro</td><td>part-00002-37ef4a62-dd1d-4533-8240-1bbe415d7fb2.c000.avro</td><td>740</td><td>1751328147000</td></tr><tr><td>s3a://lakehouse-edgy-production-us-west-2/output/CASH_CONNECTED_GRAPH_CHANGE_EVENT/V3/date=2025-06-26/part-00002-389ada92-43c1-4e15-a98a-82e369973cd7.c000.avro</td><td>part-00002-389ada92-43c1-4e15-a98a-82e369973cd7.c000.avro</td><td>489</td><td>1751176911000</td></tr><tr><td>s3a://lakehouse-edgy-production-us-west-2/output/CASH_CONNECTED_GRAPH_CHANGE_EVENT/V3/date=2025-06-26/part-00002-38e8c0e2-58ed-44ea-b3b2-782508a15429.c000.avro</td><td>part-00002-38e8c0e2-58ed-44ea-b3b2-782508a15429.c000.avro</td><td>1735292</td><td>1750932119000</td></tr><tr><td>s3a://lakehouse-edgy-production-us-west-2/output/CASH_CONNECTED_GRAPH_CHANGE_EVENT/V3/date=2025-06-26/part-00002-390a8215-3966-436b-a701-476678786e42.c000.avro</td><td>part-00002-390a8215-3966-436b-a701-476678786e42.c000.avro</td><td>622</td><td>1751256118000</td></tr><tr><td>s3a://lakehouse-edgy-production-us-west-2/output/CASH_CONNECTED_GRAPH_CHANGE_EVENT/V3/date=2025-06-26/part-00002-3a244ab9-fa1c-4223-8fcc-ee948fcec332.c000.avro</td><td>part-00002-3a244ab9-fa1c-4223-8fcc-ee948fcec332.c000.avro</td><td>4433350</td><td>1750979125000</td></tr><tr><td>s3a://lakehouse-edgy-production-us-west-2/output/CASH_CONNECTED_GRAPH_CHANGE_EVENT/V3/date=2025-06-26/part-00002-3aeed4e4-5eec-4dac-a5af-58efb3e13585.c000.avro</td><td>part-00002-3aeed4e4-5eec-4dac-a5af-58efb3e13585.c000.avro</td><td>1352</td><td>1751148140000</td></tr><tr><td>s3a://lakehouse-edgy-production-us-west-2/output/CASH_CONNECTED_GRAPH_CHANGE_EVENT/V3/date=2025-06-26/part-00002-3c07ee3e-137e-4527-b00c-caf4f009bdc7.c000.avro</td><td>part-00002-3c07ee3e-137e-4527-b00c-caf4f009bdc7.c000.avro</td><td>613</td><td>1751274121000</td></tr><tr><td>s3a://lakehouse-edgy-production-us-west-2/output/CASH_CONNECTED_GRAPH_CHANGE_EVENT/V3/date=2025-06-26/part-00002-3cffd3d4-e32c-48f6-8f60-7eed2e852e36.c000.avro</td><td>part-00002-3cffd3d4-e32c-48f6-8f60-7eed2e852e36.c000.avro</td><td>1966</td><td>1751054554000</td></tr><tr><td>s3a://lakehouse-edgy-production-us-west-2/output/CASH_CONNECTED_GRAPH_CHANGE_EVENT/V3/date=2025-06-26/part-00002-3e4d2c25-096a-4f8c-82e1-7b67ae648026.c000.avro</td><td>part-00002-3e4d2c25-096a-4f8c-82e1-7b67ae648026.c000.avro</td><td>623</td><td>1751292173000</td></tr><tr><td>s3a://lakehouse-edgy-production-us-west-2/output/CASH_CONNECTED_GRAPH_CHANGE_EVENT/V3/date=2025-06-26/part-00002-3ffae42d-2389-4af9-ace2-7b8d7fb720a5.c000.avro</td><td>part-00002-3ffae42d-2389-4af9-ace2-7b8d7fb720a5.c000.avro</td><td>2084</td><td>1751126530000</td></tr><tr><td>s3a://lakehouse-edgy-production-us-west-2/output/CASH_CONNECTED_GRAPH_CHANGE_EVENT/V3/date=2025-06-26/part-00002-456a06f0-0365-4e3f-a4cb-6cb25f08b677.c000.avro</td><td>part-00002-456a06f0-0365-4e3f-a4cb-6cb25f08b677.c000.avro</td><td>1233</td><td>1751068944000</td></tr><tr><td>s3a://lakehouse-edgy-production-us-west-2/output/CASH_CONNECTED_GRAPH_CHANGE_EVENT/V3/date=2025-06-26/part-00002-45d347e7-5da4-41a0-ad64-6130b4f72fa4.c000.avro</td><td>part-00002-45d347e7-5da4-41a0-ad64-6130b4f72fa4.c000.avro</td><td>856</td><td>1751025749000</td></tr><tr><td>s3a://lakehouse-edgy-production-us-west-2/output/CASH_CONNECTED_GRAPH_CHANGE_EVENT/V3/date=2025-06-26/part-00002-498f33d8-116d-43a0-acde-921024ad8e64.c000.avro</td><td>part-00002-498f33d8-116d-43a0-acde-921024ad8e64.c000.avro</td><td>487</td><td>1751108530000</td></tr><tr><td>s3a://lakehouse-edgy-production-us-west-2/output/CASH_CONNECTED_GRAPH_CHANGE_EVENT/V3/date=2025-06-26/part-00002-4a8c1e0e-b477-4a12-b8d9-f04d43f2fc72.c000.avro</td><td>part-00002-4a8c1e0e-b477-4a12-b8d9-f04d43f2fc72.c000.avro</td><td>755</td><td>1751306710000</td></tr><tr><td>s3a://lakehouse-edgy-production-us-west-2/output/CASH_CONNECTED_GRAPH_CHANGE_EVENT/V3/date=2025-06-26/part-00002-4b047fc0-5fac-47de-a40c-c9dedaeeacb8.c000.avro</td><td>part-00002-4b047fc0-5fac-47de-a40c-c9dedaeeacb8.c000.avro</td><td>610</td><td>1751205740000</td></tr><tr><td>s3a://lakehouse-edgy-production-us-west-2/output/CASH_CONNECTED_GRAPH_CHANGE_EVENT/V3/date=2025-06-26/part-00002-4f4f44d2-402f-41fe-85fd-f2b698a84aec.c000.avro</td><td>part-00002-4f4f44d2-402f-41fe-85fd-f2b698a84aec.c000.avro</td><td>1104</td><td>1751130368000</td></tr><tr><td>s3a://lakehouse-edgy-production-us-west-2/output/CASH_CONNECTED_GRAPH_CHANGE_EVENT/V3/date=2025-06-26/part-00002-501af771-07fa-47c4-9edc-8ac6d506dbdf.c000.avro</td><td>part-00002-501af771-07fa-47c4-9edc-8ac6d506dbdf.c000.avro</td><td>1496</td><td>1751051147000</td></tr><tr><td>s3a://lakehouse-edgy-production-us-west-2/output/CASH_CONNECTED_GRAPH_CHANGE_EVENT/V3/date=2025-06-26/part-00002-509824b2-6bdb-4774-81ac-cccffefb172f.c000.avro</td><td>part-00002-509824b2-6bdb-4774-81ac-cccffefb172f.c000.avro</td><td>2968834</td><td>1750917764000</td></tr><tr><td>s3a://lakehouse-edgy-production-us-west-2/output/CASH_CONNECTED_GRAPH_CHANGE_EVENT/V3/date=2025-06-26/part-00002-57364b31-07f0-47a8-982d-6e936f63d74c.c000.avro</td><td>part-00002-57364b31-07f0-47a8-982d-6e936f63d74c.c000.avro</td><td>2949</td><td>1750989751000</td></tr><tr><td>s3a://lakehouse-edgy-production-us-west-2/output/CASH_CONNECTED_GRAPH_CHANGE_EVENT/V3/date=2025-06-26/part-00002-59e59d5f-bce5-4f5b-8572-bfbe1188f246.c000.avro</td><td>part-00002-59e59d5f-bce5-4f5b-8572-bfbe1188f246.c000.avro</td><td>4110055</td><td>1750903393000</td></tr><tr><td>s3a://lakehouse-edgy-production-us-west-2/output/CASH_CONNECTED_GRAPH_CHANGE_EVENT/V3/date=2025-06-26/part-00002-5c7cf8c4-9e2b-496b-8ac3-5c73874dc2ed.c000.avro</td><td>part-00002-5c7cf8c4-9e2b-496b-8ac3-5c73874dc2ed.c000.avro</td><td>4195827</td><td>1750957356000</td></tr><tr><td>s3a://lakehouse-edgy-production-us-west-2/output/CASH_CONNECTED_GRAPH_CHANGE_EVENT/V3/date=2025-06-26/part-00002-5cc76707-eda1-4162-bb4e-c7a36ae991d7.c000.avro</td><td>part-00002-5cc76707-eda1-4162-bb4e-c7a36ae991d7.c000.avro</td><td>1493</td><td>1751058317000</td></tr><tr><td>s3a://lakehouse-edgy-production-us-west-2/output/CASH_CONNECTED_GRAPH_CHANGE_EVENT/V3/date=2025-06-26/part-00002-5d706f43-a273-436f-b287-085ff0f88688.c000.avro</td><td>part-00002-5d706f43-a273-436f-b287-085ff0f88688.c000.avro</td><td>868</td><td>1751166346000</td></tr><tr><td>s3a://lakehouse-edgy-production-us-west-2/output/CASH_CONNECTED_GRAPH_CHANGE_EVENT/V3/date=2025-06-26/part-00002-603f3bec-9ec1-43f0-a6e7-633e5509933e.c000.avro</td><td>part-00002-603f3bec-9ec1-43f0-a6e7-633e5509933e.c000.avro</td><td>618</td><td>1751018522000</td></tr><tr><td>s3a://lakehouse-edgy-production-us-west-2/output/CASH_CONNECTED_GRAPH_CHANGE_EVENT/V3/date=2025-06-26/part-00002-63dc4ab8-1093-48ed-a828-d20e3322c108.c000.avro</td><td>part-00002-63dc4ab8-1093-48ed-a828-d20e3322c108.c000.avro</td><td>986</td><td>1751007971000</td></tr><tr><td>s3a://lakehouse-edgy-production-us-west-2/output/CASH_CONNECTED_GRAPH_CHANGE_EVENT/V3/date=2025-06-26/part-00002-68801a59-8222-476d-a2c6-fcaf1f39e065.c000.avro</td><td>part-00002-68801a59-8222-476d-a2c6-fcaf1f39e065.c000.avro</td><td>488</td><td>1751115922000</td></tr><tr><td>s3a://lakehouse-edgy-production-us-west-2/output/CASH_CONNECTED_GRAPH_CHANGE_EVENT/V3/date=2025-06-26/part-00002-6f92a3bc-43ad-4db5-8d8a-55fb183bbcd2.c000.avro</td><td>part-00002-6f92a3bc-43ad-4db5-8d8a-55fb183bbcd2.c000.avro</td><td>780</td><td>1751162536000</td></tr><tr><td>s3a://lakehouse-edgy-production-us-west-2/output/CASH_CONNECTED_GRAPH_CHANGE_EVENT/V3/date=2025-06-26/part-00002-70cbfe41-a4eb-4ea3-9a6e-e3ab142357b7.c000.avro</td><td>part-00002-70cbfe41-a4eb-4ea3-9a6e-e3ab142357b7.c000.avro</td><td>4733103</td><td>1750968154000</td></tr><tr><td>s3a://lakehouse-edgy-production-us-west-2/output/CASH_CONNECTED_GRAPH_CHANGE_EVENT/V3/date=2025-06-26/part-00002-712611f8-e6f1-4b72-8f2b-0451fac08b2a.c000.avro</td><td>part-00002-712611f8-e6f1-4b72-8f2b-0451fac08b2a.c000.avro</td><td>619</td><td>1751180537000</td></tr><tr><td>s3a://lakehouse-edgy-production-us-west-2/output/CASH_CONNECTED_GRAPH_CHANGE_EVENT/V3/date=2025-06-26/part-00002-768f9c97-9c9a-412f-96c4-4bf06fa97276.c000.avro</td><td>part-00002-768f9c97-9c9a-412f-96c4-4bf06fa97276.c000.avro</td><td>738</td><td>1751155326000</td></tr><tr><td>s3a://lakehouse-edgy-production-us-west-2/output/CASH_CONNECTED_GRAPH_CHANGE_EVENT/V3/date=2025-06-26/part-00002-8251f9b1-9cc4-4432-8017-006336edf30a.c000.avro</td><td>part-00002-8251f9b1-9cc4-4432-8017-006336edf30a.c000.avro</td><td>493</td><td>1751295755000</td></tr><tr><td>s3a://lakehouse-edgy-production-us-west-2/output/CASH_CONNECTED_GRAPH_CHANGE_EVENT/V3/date=2025-06-26/part-00002-8391ceaf-2c93-4449-a248-98b735efe0c5.c000.avro</td><td>part-00002-8391ceaf-2c93-4449-a248-98b735efe0c5.c000.avro</td><td>3584261</td><td>1750942963000</td></tr><tr><td>s3a://lakehouse-edgy-production-us-west-2/output/CASH_CONNECTED_GRAPH_CHANGE_EVENT/V3/date=2025-06-26/part-00002-885de962-2fa2-4663-bbd6-0520a4d74ee5.c000.avro</td><td>part-00002-885de962-2fa2-4663-bbd6-0520a4d74ee5.c000.avro</td><td>645</td><td>1751216561000</td></tr><tr><td>s3a://lakehouse-edgy-production-us-west-2/output/CASH_CONNECTED_GRAPH_CHANGE_EVENT/V3/date=2025-06-26/part-00002-8df77055-17d0-485e-92a9-22ae9072e11f.c000.avro</td><td>part-00002-8df77055-17d0-485e-92a9-22ae9072e11f.c000.avro</td><td>5168686</td><td>1750971933000</td></tr><tr><td>s3a://lakehouse-edgy-production-us-west-2/output/CASH_CONNECTED_GRAPH_CHANGE_EVENT/V3/date=2025-06-26/part-00002-8dfa308a-82c7-4880-adbc-9f2839a69076.c000.avro</td><td>part-00002-8dfa308a-82c7-4880-adbc-9f2839a69076.c000.avro</td><td>488</td><td>1751101308000</td></tr><tr><td>s3a://lakehouse-edgy-production-us-west-2/output/CASH_CONNECTED_GRAPH_CHANGE_EVENT/V3/date=2025-06-26/part-00002-8e0c66c1-68d5-48b7-bec3-960c38582ec7.c000.avro</td><td>part-00002-8e0c66c1-68d5-48b7-bec3-960c38582ec7.c000.avro</td><td>960</td><td>1751072603000</td></tr><tr><td>s3a://lakehouse-edgy-production-us-west-2/output/CASH_CONNECTED_GRAPH_CHANGE_EVENT/V3/date=2025-06-26/part-00002-8e3810dd-6ab5-4f3d-ac89-a44f8abae2be.c000.avro</td><td>part-00002-8e3810dd-6ab5-4f3d-ac89-a44f8abae2be.c000.avro</td><td>1488</td><td>1751137367000</td></tr><tr><td>s3a://lakehouse-edgy-production-us-west-2/output/CASH_CONNECTED_GRAPH_CHANGE_EVENT/V3/date=2025-06-26/part-00002-8e3d00b9-b57a-4d71-afcc-1b1114f653ed.c000.avro</td><td>part-00002-8e3d00b9-b57a-4d71-afcc-1b1114f653ed.c000.avro</td><td>1244</td><td>1751000538000</td></tr><tr><td>s3a://lakehouse-edgy-production-us-west-2/output/CASH_CONNECTED_GRAPH_CHANGE_EVENT/V3/date=2025-06-26/part-00002-8edf5085-9e30-42b8-8fa1-edc625505e85.c000.avro</td><td>part-00002-8edf5085-9e30-42b8-8fa1-edc625505e85.c000.avro</td><td>464</td><td>1751090531000</td></tr><tr><td>s3a://lakehouse-edgy-production-us-west-2/output/CASH_CONNECTED_GRAPH_CHANGE_EVENT/V3/date=2025-06-26/part-00002-8efd9a4c-d8d5-448f-97cb-38dbeab36d3c.c000.avro</td><td>part-00002-8efd9a4c-d8d5-448f-97cb-38dbeab36d3c.c000.avro</td><td>640</td><td>1751213109000</td></tr><tr><td>s3a://lakehouse-edgy-production-us-west-2/output/CASH_CONNECTED_GRAPH_CHANGE_EVENT/V3/date=2025-06-26/part-00002-9532178a-e8b7-49c5-ae41-57b0eb5139d6.c000.avro</td><td>part-00002-9532178a-e8b7-49c5-ae41-57b0eb5139d6.c000.avro</td><td>1144</td><td>1751209323000</td></tr><tr><td>s3a://lakehouse-edgy-production-us-west-2/output/CASH_CONNECTED_GRAPH_CHANGE_EVENT/V3/date=2025-06-26/part-00002-962378c7-0613-44b9-8410-208a087b5eb9.c000.avro</td><td>part-00002-962378c7-0613-44b9-8410-208a087b5eb9.c000.avro</td><td>983</td><td>1751083346000</td></tr><tr><td>s3a://lakehouse-edgy-production-us-west-2/output/CASH_CONNECTED_GRAPH_CHANGE_EVENT/V3/date=2025-06-26/part-00002-9a508b6f-30d1-41a0-aa20-2a5df911fed6.c000.avro</td><td>part-00002-9a508b6f-30d1-41a0-aa20-2a5df911fed6.c000.avro</td><td>1729</td><td>1751036549000</td></tr><tr><td>s3a://lakehouse-edgy-production-us-west-2/output/CASH_CONNECTED_GRAPH_CHANGE_EVENT/V3/date=2025-06-26/part-00002-9ba5af37-5222-442d-b822-8c8b4dc20657.c000.avro</td><td>part-00002-9ba5af37-5222-442d-b822-8c8b4dc20657.c000.avro</td><td>1459</td><td>1751079733000</td></tr><tr><td>s3a://lakehouse-edgy-production-us-west-2/output/CASH_CONNECTED_GRAPH_CHANGE_EVENT/V3/date=2025-06-26/part-00002-a1b4ee9a-1e08-4b24-9e5b-9943f5222436.c000.avro</td><td>part-00002-a1b4ee9a-1e08-4b24-9e5b-9943f5222436.c000.avro</td><td>1960435</td><td>1750928488000</td></tr><tr><td>s3a://lakehouse-edgy-production-us-west-2/output/CASH_CONNECTED_GRAPH_CHANGE_EVENT/V3/date=2025-06-26/part-00002-a2b2fbd7-b46a-45db-8c83-14f76023c31b.c000.avro</td><td>part-00002-a2b2fbd7-b46a-45db-8c83-14f76023c31b.c000.avro</td><td>1060</td><td>1751076164000</td></tr><tr><td>s3a://lakehouse-edgy-production-us-west-2/output/CASH_CONNECTED_GRAPH_CHANGE_EVENT/V3/date=2025-06-26/part-00002-a5d7acbd-5c67-4c08-96d5-c3627ab1d50e.c000.avro</td><td>part-00002-a5d7acbd-5c67-4c08-96d5-c3627ab1d50e.c000.avro</td><td>271340</td><td>1750896340000</td></tr><tr><td>s3a://lakehouse-edgy-production-us-west-2/output/CASH_CONNECTED_GRAPH_CHANGE_EVENT/V3/date=2025-06-26/part-00002-a6778235-b71d-470b-884f-811f80495ea6.c000.avro</td><td>part-00002-a6778235-b71d-470b-884f-811f80495ea6.c000.avro</td><td>1124</td><td>1751151908000</td></tr><tr><td>s3a://lakehouse-edgy-production-us-west-2/output/CASH_CONNECTED_GRAPH_CHANGE_EVENT/V3/date=2025-06-26/part-00002-a7a3140a-73a4-42d5-8efc-d2a4d4d32e28.c000.avro</td><td>part-00002-a7a3140a-73a4-42d5-8efc-d2a4d4d32e28.c000.avro</td><td>742</td><td>1751230958000</td></tr><tr><td>s3a://lakehouse-edgy-production-us-west-2/output/CASH_CONNECTED_GRAPH_CHANGE_EVENT/V3/date=2025-06-26/part-00002-ac33fa03-8cb5-4170-8273-3c4e61b5b77d.c000.avro</td><td>part-00002-ac33fa03-8cb5-4170-8273-3c4e61b5b77d.c000.avro</td><td>620</td><td>1751270493000</td></tr><tr><td>s3a://lakehouse-edgy-production-us-west-2/output/CASH_CONNECTED_GRAPH_CHANGE_EVENT/V3/date=2025-06-26/part-00002-aca0237d-a61f-491e-adb3-fd821f8c85a2.c000.avro</td><td>part-00002-aca0237d-a61f-491e-adb3-fd821f8c85a2.c000.avro</td><td>1841</td><td>1750993350000</td></tr><tr><td>s3a://lakehouse-edgy-production-us-west-2/output/CASH_CONNECTED_GRAPH_CHANGE_EVENT/V3/date=2025-06-26/part-00002-adb8b1e4-87a1-44d4-8525-dfea8279947d.c000.avro</td><td>part-00002-adb8b1e4-87a1-44d4-8525-dfea8279947d.c000.avro</td><td>1385</td><td>1751047552000</td></tr><tr><td>s3a://lakehouse-edgy-production-us-west-2/output/CASH_CONNECTED_GRAPH_CHANGE_EVENT/V3/date=2025-06-26/part-00002-adc1aae8-79c8-4cac-844a-efe72b1f4fd0.c000.avro</td><td>part-00002-adc1aae8-79c8-4cac-844a-efe72b1f4fd0.c000.avro</td><td>3890956</td><td>1750954024000</td></tr><tr><td>s3a://lakehouse-edgy-production-us-west-2/output/CASH_CONNECTED_GRAPH_CHANGE_EVENT/V3/date=2025-06-26/part-00002-b21e0f2f-7298-4065-b6e7-5772cf191a39.c000.avro</td><td>part-00002-b21e0f2f-7298-4065-b6e7-5772cf191a39.c000.avro</td><td>746</td><td>1751112130000</td></tr><tr><td>s3a://lakehouse-edgy-production-us-west-2/output/CASH_CONNECTED_GRAPH_CHANGE_EVENT/V3/date=2025-06-26/part-00002-b2ae10f5-434b-4de2-8c63-dc10c5b9486d.c000.avro</td><td>part-00002-b2ae10f5-434b-4de2-8c63-dc10c5b9486d.c000.avro</td><td>758</td><td>1751094110000</td></tr><tr><td>s3a://lakehouse-edgy-production-us-west-2/output/CASH_CONNECTED_GRAPH_CHANGE_EVENT/V3/date=2025-06-26/part-00002-b40e4c19-a914-4dcd-8949-892e0d12e353.c000.avro</td><td>part-00002-b40e4c19-a914-4dcd-8949-892e0d12e353.c000.avro</td><td>3363507</td><td>1750946554000</td></tr><tr><td>s3a://lakehouse-edgy-production-us-west-2/output/CASH_CONNECTED_GRAPH_CHANGE_EVENT/V3/date=2025-06-26/part-00002-baa34b9c-393d-4d1f-b2ed-65f98fcebce8.c000.avro</td><td>part-00002-baa34b9c-393d-4d1f-b2ed-65f98fcebce8.c000.avro</td><td>613</td><td>1751097739000</td></tr><tr><td>s3a://lakehouse-edgy-production-us-west-2/output/CASH_CONNECTED_GRAPH_CHANGE_EVENT/V3/date=2025-06-26/part-00002-bc759f0b-4277-42c7-9df4-b3b20b8b698c.c000.avro</td><td>part-00002-bc759f0b-4277-42c7-9df4-b3b20b8b698c.c000.avro</td><td>1005</td><td>1751238328000</td></tr><tr><td>s3a://lakehouse-edgy-production-us-west-2/output/CASH_CONNECTED_GRAPH_CHANGE_EVENT/V3/date=2025-06-26/part-00002-be5790cd-8f39-49a3-9282-7c6ecb0dcbc2.c000.avro</td><td>part-00002-be5790cd-8f39-49a3-9282-7c6ecb0dcbc2.c000.avro</td><td>488</td><td>1751310171000</td></tr><tr><td>s3a://lakehouse-edgy-production-us-west-2/output/CASH_CONNECTED_GRAPH_CHANGE_EVENT/V3/date=2025-06-26/part-00002-c11367b8-45ba-4305-9bd0-0e47a3e4bb31.c000.avro</td><td>part-00002-c11367b8-45ba-4305-9bd0-0e47a3e4bb31.c000.avro</td><td>5125864</td><td>1750975546000</td></tr><tr><td>s3a://lakehouse-edgy-production-us-west-2/output/CASH_CONNECTED_GRAPH_CHANGE_EVENT/V3/date=2025-06-26/part-00002-c3c6160a-adfb-414c-af3c-7c79436c3ff9.c000.avro</td><td>part-00002-c3c6160a-adfb-414c-af3c-7c79436c3ff9.c000.avro</td><td>465</td><td>1751317337000</td></tr><tr><td>s3a://lakehouse-edgy-production-us-west-2/output/CASH_CONNECTED_GRAPH_CHANGE_EVENT/V3/date=2025-06-26/part-00002-c63b6839-f8a4-4c41-a74c-5df2dfc7c1e1.c000.avro</td><td>part-00002-c63b6839-f8a4-4c41-a74c-5df2dfc7c1e1.c000.avro</td><td>647</td><td>1751004123000</td></tr><tr><td>s3a://lakehouse-edgy-production-us-west-2/output/CASH_CONNECTED_GRAPH_CHANGE_EVENT/V3/date=2025-06-26/part-00002-c8f304a2-2c72-42d0-8e0d-0f87b75bc4e3.c000.avro</td><td>part-00002-c8f304a2-2c72-42d0-8e0d-0f87b75bc4e3.c000.avro</td><td>639</td><td>1751259744000</td></tr><tr><td>s3a://lakehouse-edgy-production-us-west-2/output/CASH_CONNECTED_GRAPH_CHANGE_EVENT/V3/date=2025-06-26/part-00002-c9e02b47-77bf-4c53-88d8-e2a21d656b7c.c000.avro</td><td>part-00002-c9e02b47-77bf-4c53-88d8-e2a21d656b7c.c000.avro</td><td>983</td><td>1751234537000</td></tr><tr><td>s3a://lakehouse-edgy-production-us-west-2/output/CASH_CONNECTED_GRAPH_CHANGE_EVENT/V3/date=2025-06-26/part-00002-cba4f35d-0cff-4bab-b827-170db5d81634.c000.avro</td><td>part-00002-cba4f35d-0cff-4bab-b827-170db5d81634.c000.avro</td><td>486</td><td>1751198500000</td></tr><tr><td>s3a://lakehouse-edgy-production-us-west-2/output/CASH_CONNECTED_GRAPH_CHANGE_EVENT/V3/date=2025-06-26/part-00002-ce716ca4-6a5a-462b-b305-463addae69bf.c000.avro</td><td>part-00002-ce716ca4-6a5a-462b-b305-463addae69bf.c000.avro</td><td>4352</td><td>1750986151000</td></tr><tr><td>s3a://lakehouse-edgy-production-us-west-2/output/CASH_CONNECTED_GRAPH_CHANGE_EVENT/V3/date=2025-06-26/part-00002-cf2213e3-085f-4292-9cc3-b15ef2eb7851.c000.avro</td><td>part-00002-cf2213e3-085f-4292-9cc3-b15ef2eb7851.c000.avro</td><td>879</td><td>1751303131000</td></tr><tr><td>s3a://lakehouse-edgy-production-us-west-2/output/CASH_CONNECTED_GRAPH_CHANGE_EVENT/V3/date=2025-06-26/part-00002-cf2a2bfa-7918-4c2f-a2df-a7e91e5b290d.c000.avro</td><td>part-00002-cf2a2bfa-7918-4c2f-a2df-a7e91e5b290d.c000.avro</td><td>2055121</td><td>1750924915000</td></tr><tr><td>s3a://lakehouse-edgy-production-us-west-2/output/CASH_CONNECTED_GRAPH_CHANGE_EVENT/V3/date=2025-06-26/part-00002-d19ecfe4-25c3-4138-ba29-ec4c51a61d31.c000.avro</td><td>part-00002-d19ecfe4-25c3-4138-ba29-ec4c51a61d31.c000.avro</td><td>2141</td><td>1751065340000</td></tr><tr><td>s3a://lakehouse-edgy-production-us-west-2/output/CASH_CONNECTED_GRAPH_CHANGE_EVENT/V3/date=2025-06-26/part-00002-d223affc-10e4-4052-925c-af1e9acae2a1.c000.avro</td><td>part-00002-d223affc-10e4-4052-925c-af1e9acae2a1.c000.avro</td><td>885</td><td>1751220124000</td></tr><tr><td>s3a://lakehouse-edgy-production-us-west-2/output/CASH_CONNECTED_GRAPH_CHANGE_EVENT/V3/date=2025-06-26/part-00002-d263b239-e517-4c01-9666-95ca460bf57b.c000.avro</td><td>part-00002-d263b239-e517-4c01-9666-95ca460bf57b.c000.avro</td><td>861</td><td>1751173394000</td></tr><tr><td>s3a://lakehouse-edgy-production-us-west-2/output/CASH_CONNECTED_GRAPH_CHANGE_EVENT/V3/date=2025-06-26/part-00002-d43723ec-43ef-448b-a81a-6e79fe9d6b1c.c000.avro</td><td>part-00002-d43723ec-43ef-448b-a81a-6e79fe9d6b1c.c000.avro</td><td>4994567</td><td>1750964559000</td></tr><tr><td>s3a://lakehouse-edgy-production-us-west-2/output/CASH_CONNECTED_GRAPH_CHANGE_EVENT/V3/date=2025-06-26/part-00002-d46c060c-1f1e-431d-ac61-1c546fb68672.c000.avro</td><td>part-00002-d46c060c-1f1e-431d-ac61-1c546fb68672.c000.avro</td><td>3638316</td><td>1750982552000</td></tr><tr><td>s3a://lakehouse-edgy-production-us-west-2/output/CASH_CONNECTED_GRAPH_CHANGE_EVENT/V3/date=2025-06-26/part-00002-d68a778b-539d-4b48-9614-72857c89cf09.c000.avro</td><td>part-00002-d68a778b-539d-4b48-9614-72857c89cf09.c000.avro</td><td>754</td><td>1751133768000</td></tr><tr><td>s3a://lakehouse-edgy-production-us-west-2/output/CASH_CONNECTED_GRAPH_CHANGE_EVENT/V3/date=2025-06-26/part-00002-d915eac9-2b21-48fd-8156-596671d7f67c.c000.avro</td><td>part-00002-d915eac9-2b21-48fd-8156-596671d7f67c.c000.avro</td><td>740</td><td>1751223744000</td></tr><tr><td>s3a://lakehouse-edgy-production-us-west-2/output/CASH_CONNECTED_GRAPH_CHANGE_EVENT/V3/date=2025-06-26/part-00002-db318bf7-5898-4cda-b790-19a071092bfd.c000.avro</td><td>part-00002-db318bf7-5898-4cda-b790-19a071092bfd.c000.avro</td><td>998</td><td>1751169902000</td></tr><tr><td>s3a://lakehouse-edgy-production-us-west-2/output/CASH_CONNECTED_GRAPH_CHANGE_EVENT/V3/date=2025-06-26/part-00002-db3c4bfb-8c0a-4ba3-8ef6-cd8bef357c8f.c000.avro</td><td>part-00002-db3c4bfb-8c0a-4ba3-8ef6-cd8bef357c8f.c000.avro</td><td>1005</td><td>1751087106000</td></tr><tr><td>s3a://lakehouse-edgy-production-us-west-2/output/CASH_CONNECTED_GRAPH_CHANGE_EVENT/V3/date=2025-06-26/part-00002-e102a8fd-eb7b-4c97-baf1-7f168fd317b9.c000.avro</td><td>part-00002-e102a8fd-eb7b-4c97-baf1-7f168fd317b9.c000.avro</td><td>480</td><td>1751187697000</td></tr><tr><td>s3a://lakehouse-edgy-production-us-west-2/output/CASH_CONNECTED_GRAPH_CHANGE_EVENT/V3/date=2025-06-26/part-00002-e2e0b043-8295-42e2-b9d4-786d67c8240f.c000.avro</td><td>part-00002-e2e0b043-8295-42e2-b9d4-786d67c8240f.c000.avro</td><td>487</td><td>1751202343000</td></tr><tr><td>s3a://lakehouse-edgy-production-us-west-2/output/CASH_CONNECTED_GRAPH_CHANGE_EVENT/V3/date=2025-06-26/part-00002-e52f668c-295f-45a6-bf90-41a8de09acc6.c000.avro</td><td>part-00002-e52f668c-295f-45a6-bf90-41a8de09acc6.c000.avro</td><td>2123299</td><td>1750935718000</td></tr><tr><td>s3a://lakehouse-edgy-production-us-west-2/output/CASH_CONNECTED_GRAPH_CHANGE_EVENT/V3/date=2025-06-26/part-00002-e7ff264d-474d-426a-9a96-457d730e8c54.c000.avro</td><td>part-00002-e7ff264d-474d-426a-9a96-457d730e8c54.c000.avro</td><td>488</td><td>1751248928000</td></tr><tr><td>s3a://lakehouse-edgy-production-us-west-2/output/CASH_CONNECTED_GRAPH_CHANGE_EVENT/V3/date=2025-06-26/part-00002-e8d8e981-a70b-40a0-90e3-da5c7a81577b.c000.avro</td><td>part-00002-e8d8e981-a70b-40a0-90e3-da5c7a81577b.c000.avro</td><td>746</td><td>1751331738000</td></tr><tr><td>s3a://lakehouse-edgy-production-us-west-2/output/CASH_CONNECTED_GRAPH_CHANGE_EVENT/V3/date=2025-06-26/part-00002-e8f2b21b-30bb-419d-8f92-6f3c34ef9506.c000.avro</td><td>part-00002-e8f2b21b-30bb-419d-8f92-6f3c34ef9506.c000.avro</td><td>1529</td><td>1751043917000</td></tr><tr><td>s3a://lakehouse-edgy-production-us-west-2/output/CASH_CONNECTED_GRAPH_CHANGE_EVENT/V3/date=2025-06-26/part-00002-f0849040-1cb5-458b-90a9-e45a79d3d372.c000.avro</td><td>part-00002-f0849040-1cb5-458b-90a9-e45a79d3d372.c000.avro</td><td>2015</td><td>1751061751000</td></tr><tr><td>s3a://lakehouse-edgy-production-us-west-2/output/CASH_CONNECTED_GRAPH_CHANGE_EVENT/V3/date=2025-06-26/part-00002-f0b7cace-ceba-4e55-909f-846dc97e567b.c000.avro</td><td>part-00002-f0b7cace-ceba-4e55-909f-846dc97e567b.c000.avro</td><td>1011</td><td>1751227328000</td></tr><tr><td>s3a://lakehouse-edgy-production-us-west-2/output/CASH_CONNECTED_GRAPH_CHANGE_EVENT/V3/date=2025-06-26/part-00002-f5fc0d40-5336-46ff-bcaa-0e540bb1918f.c000.avro</td><td>part-00002-f5fc0d40-5336-46ff-bcaa-0e540bb1918f.c000.avro</td><td>3366821</td><td>1750914326000</td></tr><tr><td>s3a://lakehouse-edgy-production-us-west-2/output/CASH_CONNECTED_GRAPH_CHANGE_EVENT/V3/date=2025-06-26/part-00002-f7fb4930-151b-4a73-a01d-f1af4d287399.c000.avro</td><td>part-00002-f7fb4930-151b-4a73-a01d-f1af4d287399.c000.avro</td><td>499</td><td>1751241743000</td></tr><tr><td>s3a://lakehouse-edgy-production-us-west-2/output/CASH_CONNECTED_GRAPH_CHANGE_EVENT/V3/date=2025-06-26/part-00002-f8eecbd9-0cd0-40da-a60c-caf9d08ef411.c000.avro</td><td>part-00002-f8eecbd9-0cd0-40da-a60c-caf9d08ef411.c000.avro</td><td>978</td><td>1751324565000</td></tr><tr><td>s3a://lakehouse-edgy-production-us-west-2/output/CASH_CONNECTED_GRAPH_CHANGE_EVENT/V3/date=2025-06-26/part-00002-f9a6cf26-1fcb-424f-aa6e-775da95cd03d.c000.avro</td><td>part-00002-f9a6cf26-1fcb-424f-aa6e-775da95cd03d.c000.avro</td><td>490</td><td>1751252585000</td></tr><tr><td>s3a://lakehouse-edgy-production-us-west-2/output/CASH_CONNECTED_GRAPH_CHANGE_EVENT/V3/date=2025-06-26/part-00002-fa84c79a-d850-434a-afd8-66be86797440.c000.avro</td><td>part-00002-fa84c79a-d850-434a-afd8-66be86797440.c000.avro</td><td>4533373</td><td>1750960963000</td></tr><tr><td>s3a://lakehouse-edgy-production-us-west-2/output/CASH_CONNECTED_GRAPH_CHANGE_EVENT/V3/date=2025-06-26/part-00002-fac11915-7015-4eab-9820-cb36deeb28f9.c000.avro</td><td>part-00002-fac11915-7015-4eab-9820-cb36deeb28f9.c000.avro</td><td>491</td><td>1751263337000</td></tr><tr><td>s3a://lakehouse-edgy-production-us-west-2/output/CASH_CONNECTED_GRAPH_CHANGE_EVENT/V3/date=2025-06-26/part-00002-fc71d72c-28c7-455c-91cb-44c7fec3da5f.c000.avro</td><td>part-00002-fc71d72c-28c7-455c-91cb-44c7fec3da5f.c000.avro</td><td>1518</td><td>1751040332000</td></tr><tr><td>s3a://lakehouse-edgy-production-us-west-2/output/CASH_CONNECTED_GRAPH_CHANGE_EVENT/V3/date=2025-06-26/part-00002-fe653a08-ac69-40bf-a039-d6b635132c9a.c000.avro</td><td>part-00002-fe653a08-ac69-40bf-a039-d6b635132c9a.c000.avro</td><td>3610734</td><td>1750921334000</td></tr><tr><td>s3a://lakehouse-edgy-production-us-west-2/output/CASH_CONNECTED_GRAPH_CHANGE_EVENT/V3/date=2025-06-26/part-00003-032b0d3d-a01f-48d8-a487-1afdd2749fb5.c000.avro</td><td>part-00003-032b0d3d-a01f-48d8-a487-1afdd2749fb5.c000.avro</td><td>496</td><td>1751220126000</td></tr><tr><td>s3a://lakehouse-edgy-production-us-west-2/output/CASH_CONNECTED_GRAPH_CHANGE_EVENT/V3/date=2025-06-26/part-00003-03863d75-75fe-4b03-91ba-aff9ed86aaff.c000.avro</td><td>part-00003-03863d75-75fe-4b03-91ba-aff9ed86aaff.c000.avro</td><td>4730172</td><td>1750968154000</td></tr><tr><td>s3a://lakehouse-edgy-production-us-west-2/output/CASH_CONNECTED_GRAPH_CHANGE_EVENT/V3/date=2025-06-26/part-00003-0534dd70-7475-4f23-918c-f608dc1c130d.c000.avro</td><td>part-00003-0534dd70-7475-4f23-918c-f608dc1c130d.c000.avro</td><td>747</td><td>1751252584000</td></tr><tr><td>s3a://lakehouse-edgy-production-us-west-2/output/CASH_CONNECTED_GRAPH_CHANGE_EVENT/V3/date=2025-06-26/part-00003-0673be77-de5c-4376-a71f-df00f76d0d37.c000.avro</td><td>part-00003-0673be77-de5c-4376-a71f-df00f76d0d37.c000.avro</td><td>1555</td><td>1751122933000</td></tr><tr><td>s3a://lakehouse-edgy-production-us-west-2/output/CASH_CONNECTED_GRAPH_CHANGE_EVENT/V3/date=2025-06-26/part-00003-0853acab-2437-4684-82af-bb23f22a4c30.c000.avro</td><td>part-00003-0853acab-2437-4684-82af-bb23f22a4c30.c000.avro</td><td>5183099</td><td>1750971933000</td></tr><tr><td>s3a://lakehouse-edgy-production-us-west-2/output/CASH_CONNECTED_GRAPH_CHANGE_EVENT/V3/date=2025-06-26/part-00003-08aa888e-64ab-4db5-8bd5-0bb6d30da884.c000.avro</td><td>part-00003-08aa888e-64ab-4db5-8bd5-0bb6d30da884.c000.avro</td><td>646</td><td>1751209323000</td></tr><tr><td>s3a://lakehouse-edgy-production-us-west-2/output/CASH_CONNECTED_GRAPH_CHANGE_EVENT/V3/date=2025-06-26/part-00003-0ce2b352-7202-4879-9ad5-220623d6c61a.c000.avro</td><td>part-00003-0ce2b352-7202-4879-9ad5-220623d6c61a.c000.avro</td><td>2193</td><td>1750996937000</td></tr><tr><td>s3a://lakehouse-edgy-production-us-west-2/output/CASH_CONNECTED_GRAPH_CHANGE_EVENT/V3/date=2025-06-26/part-00003-1212f6de-8f52-441b-b384-55a96b07f389.c000.avro</td><td>part-00003-1212f6de-8f52-441b-b384-55a96b07f389.c000.avro</td><td>497</td><td>1751007969000</td></tr><tr><td>s3a://lakehouse-edgy-production-us-west-2/output/CASH_CONNECTED_GRAPH_CHANGE_EVENT/V3/date=2025-06-26/part-00003-13e00011-4173-4ddf-8066-789900138143.c000.avro</td><td>part-00003-13e00011-4173-4ddf-8066-789900138143.c000.avro</td><td>616</td><td>1751105105000</td></tr><tr><td>s3a://lakehouse-edgy-production-us-west-2/output/CASH_CONNECTED_GRAPH_CHANGE_EVENT/V3/date=2025-06-26/part-00003-1b82db15-575d-4c2d-ac9b-d73c64e6a172.c000.avro</td><td>part-00003-1b82db15-575d-4c2d-ac9b-d73c64e6a172.c000.avro</td><td>714</td><td>1751274122000</td></tr><tr><td>s3a://lakehouse-edgy-production-us-west-2/output/CASH_CONNECTED_GRAPH_CHANGE_EVENT/V3/date=2025-06-26/part-00003-1dccb405-eecf-4a2c-a689-51d6f0f3d4e8.c000.avro</td><td>part-00003-1dccb405-eecf-4a2c-a689-51d6f0f3d4e8.c000.avro</td><td>609</td><td>1751292174000</td></tr><tr><td>s3a://lakehouse-edgy-production-us-west-2/output/CASH_CONNECTED_GRAPH_CHANGE_EVENT/V3/date=2025-06-26/part-00003-1dd1fdf9-6855-44fd-8e11-a713503e5291.c000.avro</td><td>part-00003-1dd1fdf9-6855-44fd-8e11-a713503e5291.c000.avro</td><td>617</td><td>1751263334000</td></tr><tr><td>s3a://lakehouse-edgy-production-us-west-2/output/CASH_CONNECTED_GRAPH_CHANGE_EVENT/V3/date=2025-06-26/part-00003-23ae04cc-7904-48bd-958d-d1021044b12c.c000.avro</td><td>part-00003-23ae04cc-7904-48bd-958d-d1021044b12c.c000.avro</td><td>867</td><td>1751025751000</td></tr><tr><td>s3a://lakehouse-edgy-production-us-west-2/output/CASH_CONNECTED_GRAPH_CHANGE_EVENT/V3/date=2025-06-26/part-00003-281e2c2d-c93b-4c14-91ed-87a593d59d28.c000.avro</td><td>part-00003-281e2c2d-c93b-4c14-91ed-87a593d59d28.c000.avro</td><td>1830</td><td>1751033201000</td></tr><tr><td>s3a://lakehouse-edgy-production-us-west-2/output/CASH_CONNECTED_GRAPH_CHANGE_EVENT/V3/date=2025-06-26/part-00003-28ecf44e-d92e-4c58-9f70-954102d587f5.c000.avro</td><td>part-00003-28ecf44e-d92e-4c58-9f70-954102d587f5.c000.avro</td><td>618</td><td>1751230957000</td></tr><tr><td>s3a://lakehouse-edgy-production-us-west-2/output/CASH_CONNECTED_GRAPH_CHANGE_EVENT/V3/date=2025-06-26/part-00003-2c68f077-21e4-438b-9d5e-5c08b9837979.c000.avro</td><td>part-00003-2c68f077-21e4-438b-9d5e-5c08b9837979.c000.avro</td><td>486</td><td>1751108528000</td></tr><tr><td>s3a://lakehouse-edgy-production-us-west-2/output/CASH_CONNECTED_GRAPH_CHANGE_EVENT/V3/date=2025-06-26/part-00003-2c96b669-dfa6-4578-9eaf-bcb4be055c10.c000.avro</td><td>part-00003-2c96b669-dfa6-4578-9eaf-bcb4be055c10.c000.avro</td><td>487</td><td>1751241745000</td></tr><tr><td>s3a://lakehouse-edgy-production-us-west-2/output/CASH_CONNECTED_GRAPH_CHANGE_EVENT/V3/date=2025-06-26/part-00003-2fe05762-8490-4e35-8505-d510e9d8b3ab.c000.avro</td><td>part-00003-2fe05762-8490-4e35-8505-d510e9d8b3ab.c000.avro</td><td>470</td><td>1751259744000</td></tr><tr><td>s3a://lakehouse-edgy-production-us-west-2/output/CASH_CONNECTED_GRAPH_CHANGE_EVENT/V3/date=2025-06-26/part-00003-314cdafe-81bd-438b-8615-06444e5c27d2.c000.avro</td><td>part-00003-314cdafe-81bd-438b-8615-06444e5c27d2.c000.avro</td><td>487</td><td>1751245501000</td></tr><tr><td>s3a://lakehouse-edgy-production-us-west-2/output/CASH_CONNECTED_GRAPH_CHANGE_EVENT/V3/date=2025-06-26/part-00003-31db5931-5ca9-4025-8b30-634f2e2dfee4.c000.avro</td><td>part-00003-31db5931-5ca9-4025-8b30-634f2e2dfee4.c000.avro</td><td>491</td><td>1751284937000</td></tr><tr><td>s3a://lakehouse-edgy-production-us-west-2/output/CASH_CONNECTED_GRAPH_CHANGE_EVENT/V3/date=2025-06-26/part-00003-32f9a68b-6be2-42cd-907a-854bcddca9be.c000.avro</td><td>part-00003-32f9a68b-6be2-42cd-907a-854bcddca9be.c000.avro</td><td>3834469</td><td>1750950148000</td></tr><tr><td>s3a://lakehouse-edgy-production-us-west-2/output/CASH_CONNECTED_GRAPH_CHANGE_EVENT/V3/date=2025-06-26/part-00003-33f02875-cadd-4b7f-b7ee-c50f18c845b0.c000.avro</td><td>part-00003-33f02875-cadd-4b7f-b7ee-c50f18c845b0.c000.avro</td><td>1680</td><td>1751047554000</td></tr><tr><td>s3a://lakehouse-edgy-production-us-west-2/output/CASH_CONNECTED_GRAPH_CHANGE_EVENT/V3/date=2025-06-26/part-00003-33f0bd84-a0a4-4d60-b7b6-38a45b679054.c000.avro</td><td>part-00003-33f0bd84-a0a4-4d60-b7b6-38a45b679054.c000.avro</td><td>622</td><td>1751295755000</td></tr><tr><td>s3a://lakehouse-edgy-production-us-west-2/output/CASH_CONNECTED_GRAPH_CHANGE_EVENT/V3/date=2025-06-26/part-00003-34cb357f-d22f-4641-9b7e-bdff4b03b16b.c000.avro</td><td>part-00003-34cb357f-d22f-4641-9b7e-bdff4b03b16b.c000.avro</td><td>273169</td><td>1750896336000</td></tr><tr><td>s3a://lakehouse-edgy-production-us-west-2/output/CASH_CONNECTED_GRAPH_CHANGE_EVENT/V3/date=2025-06-26/part-00003-364373d2-6b47-45c7-beea-b1db4e12f0dc.c000.avro</td><td>part-00003-364373d2-6b47-45c7-beea-b1db4e12f0dc.c000.avro</td><td>1930</td><td>1750993349000</td></tr><tr><td>s3a://lakehouse-edgy-production-us-west-2/output/CASH_CONNECTED_GRAPH_CHANGE_EVENT/V3/date=2025-06-26/part-00003-377a1e14-3993-4847-9ee2-2880d2af7ece.c000.avro</td><td>part-00003-377a1e14-3993-4847-9ee2-2880d2af7ece.c000.avro</td><td>999</td><td>1751133770000</td></tr><tr><td>s3a://lakehouse-edgy-production-us-west-2/output/CASH_CONNECTED_GRAPH_CHANGE_EVENT/V3/date=2025-06-26/part-00003-38007cc3-c6e0-44fb-8b9c-3f72b87d6285.c000.avro</td><td>part-00003-38007cc3-c6e0-44fb-8b9c-3f72b87d6285.c000.avro</td><td>888</td><td>1751119397000</td></tr><tr><td>s3a://lakehouse-edgy-production-us-west-2/output/CASH_CONNECTED_GRAPH_CHANGE_EVENT/V3/date=2025-06-26/part-00003-39e4ff81-1991-482d-b802-3e1fb5df110d.c000.avro</td><td>part-00003-39e4ff81-1991-482d-b802-3e1fb5df110d.c000.avro</td><td>1380</td><td>1751072603000</td></tr><tr><td>s3a://lakehouse-edgy-production-us-west-2/output/CASH_CONNECTED_GRAPH_CHANGE_EVENT/V3/date=2025-06-26/part-00003-3e3d90d8-bafa-4e0c-ad66-e8d4fefeafcc.c000.avro</td><td>part-00003-3e3d90d8-bafa-4e0c-ad66-e8d4fefeafcc.c000.avro</td><td>1003</td><td>1751018525000</td></tr><tr><td>s3a://lakehouse-edgy-production-us-west-2/output/CASH_CONNECTED_GRAPH_CHANGE_EVENT/V3/date=2025-06-26/part-00003-3f33c6fb-deb4-46d3-ac27-3e807e141579.c000.avro</td><td>part-00003-3f33c6fb-deb4-46d3-ac27-3e807e141579.c000.avro</td><td>1213</td><td>1751061752000</td></tr><tr><td>s3a://lakehouse-edgy-production-us-west-2/output/CASH_CONNECTED_GRAPH_CHANGE_EVENT/V3/date=2025-06-26/part-00003-400ae334-da93-4296-80b2-a8b72bd37493.c000.avro</td><td>part-00003-400ae334-da93-4296-80b2-a8b72bd37493.c000.avro</td><td>1350</td><td>1751137367000</td></tr><tr><td>s3a://lakehouse-edgy-production-us-west-2/output/CASH_CONNECTED_GRAPH_CHANGE_EVENT/V3/date=2025-06-26/part-00003-4715da4f-1aee-4ae1-85de-7b1b03baf27c.c000.avro</td><td>part-00003-4715da4f-1aee-4ae1-85de-7b1b03baf27c.c000.avro</td><td>883</td><td>1751112130000</td></tr><tr><td>s3a://lakehouse-edgy-production-us-west-2/output/CASH_CONNECTED_GRAPH_CHANGE_EVENT/V3/date=2025-06-26/part-00003-4b46c6c0-0b27-42a8-acd2-bc53a700d076.c000.avro</td><td>part-00003-4b46c6c0-0b27-42a8-acd2-bc53a700d076.c000.avro</td><td>738</td><td>1751256119000</td></tr><tr><td>s3a://lakehouse-edgy-production-us-west-2/output/CASH_CONNECTED_GRAPH_CHANGE_EVENT/V3/date=2025-06-26/part-00003-51b4a4c9-5c8b-460e-a1c8-236935fbb3a0.c000.avro</td><td>part-00003-51b4a4c9-5c8b-460e-a1c8-236935fbb3a0.c000.avro</td><td>1386</td><td>1751068943000</td></tr><tr><td>s3a://lakehouse-edgy-production-us-west-2/output/CASH_CONNECTED_GRAPH_CHANGE_EVENT/V3/date=2025-06-26/part-00003-5423168b-945c-4e55-a5b5-b291e0bdbf0a.c000.avro</td><td>part-00003-5423168b-945c-4e55-a5b5-b291e0bdbf0a.c000.avro</td><td>1270</td><td>1751040332000</td></tr><tr><td>s3a://lakehouse-edgy-production-us-west-2/output/CASH_CONNECTED_GRAPH_CHANGE_EVENT/V3/date=2025-06-26/part-00003-545c4dd2-7896-4eb6-8bd2-0e553852bb24.c000.avro</td><td>part-00003-545c4dd2-7896-4eb6-8bd2-0e553852bb24.c000.avro</td><td>4535613</td><td>1750960961000</td></tr><tr><td>s3a://lakehouse-edgy-production-us-west-2/output/CASH_CONNECTED_GRAPH_CHANGE_EVENT/V3/date=2025-06-26/part-00003-54a60ff8-f7fa-422c-bfd2-023657e69cc2.c000.avro</td><td>part-00003-54a60ff8-f7fa-422c-bfd2-023657e69cc2.c000.avro</td><td>839</td><td>1751022118000</td></tr><tr><td>s3a://lakehouse-edgy-production-us-west-2/output/CASH_CONNECTED_GRAPH_CHANGE_EVENT/V3/date=2025-06-26/part-00003-55673f4f-7264-4dc6-8a76-0157b8e58dc5.c000.avro</td><td>part-00003-55673f4f-7264-4dc6-8a76-0157b8e58dc5.c000.avro</td><td>1477</td><td>1751054554000</td></tr><tr><td>s3a://lakehouse-edgy-production-us-west-2/output/CASH_CONNECTED_GRAPH_CHANGE_EVENT/V3/date=2025-06-26/part-00003-55d8fc0e-b0a7-4b21-991f-73624c07ea5a.c000.avro</td><td>part-00003-55d8fc0e-b0a7-4b21-991f-73624c07ea5a.c000.avro</td><td>887</td><td>1751115920000</td></tr><tr><td>s3a://lakehouse-edgy-production-us-west-2/output/CASH_CONNECTED_GRAPH_CHANGE_EVENT/V3/date=2025-06-26/part-00003-5bc4ed72-0a4f-4ca2-86b6-966ee795776e.c000.avro</td><td>part-00003-5bc4ed72-0a4f-4ca2-86b6-966ee795776e.c000.avro</td><td>2959660</td><td>1750917767000</td></tr><tr><td>s3a://lakehouse-edgy-production-us-west-2/output/CASH_CONNECTED_GRAPH_CHANGE_EVENT/V3/date=2025-06-26/part-00003-5f746b55-c184-4189-a6dc-9fe533f1a6a3.c000.avro</td><td>part-00003-5f746b55-c184-4189-a6dc-9fe533f1a6a3.c000.avro</td><td>493</td><td>1751097740000</td></tr><tr><td>s3a://lakehouse-edgy-production-us-west-2/output/CASH_CONNECTED_GRAPH_CHANGE_EVENT/V3/date=2025-06-26/part-00003-60803c03-f6d0-4c86-af01-d2f77034ecba.c000.avro</td><td>part-00003-60803c03-f6d0-4c86-af01-d2f77034ecba.c000.avro</td><td>1245</td><td>1751029337000</td></tr><tr><td>s3a://lakehouse-edgy-production-us-west-2/output/CASH_CONNECTED_GRAPH_CHANGE_EVENT/V3/date=2025-06-26/part-00003-628bc401-975b-4de0-95ae-31d88f9f2e53.c000.avro</td><td>part-00003-628bc401-975b-4de0-95ae-31d88f9f2e53.c000.avro</td><td>2071</td><td>1751051148000</td></tr><tr><td>s3a://lakehouse-edgy-production-us-west-2/output/CASH_CONNECTED_GRAPH_CHANGE_EVENT/V3/date=2025-06-26/part-00003-65e3914c-5743-4a8c-9515-e31904dd2e10.c000.avro</td><td>part-00003-65e3914c-5743-4a8c-9515-e31904dd2e10.c000.avro</td><td>490</td><td>1751328146000</td></tr><tr><td>s3a://lakehouse-edgy-production-us-west-2/output/CASH_CONNECTED_GRAPH_CHANGE_EVENT/V3/date=2025-06-26/part-00003-6716cf33-d84d-4ef9-8b37-51013d2561d0.c000.avro</td><td>part-00003-6716cf33-d84d-4ef9-8b37-51013d2561d0.c000.avro</td><td>1710</td><td>1751004121000</td></tr><tr><td>s3a://lakehouse-edgy-production-us-west-2/output/CASH_CONNECTED_GRAPH_CHANGE_EVENT/V3/date=2025-06-26/part-00003-69d70120-5ce7-4ff0-9876-c07c7cbf9ef3.c000.avro</td><td>part-00003-69d70120-5ce7-4ff0-9876-c07c7cbf9ef3.c000.avro</td><td>3621530</td><td>1750921334000</td></tr><tr><td>s3a://lakehouse-edgy-production-us-west-2/output/CASH_CONNECTED_GRAPH_CHANGE_EVENT/V3/date=2025-06-26/part-00003-6ab73638-1f4c-4c72-973d-b40a7d3ba842.c000.avro</td><td>part-00003-6ab73638-1f4c-4c72-973d-b40a7d3ba842.c000.avro</td><td>867</td><td>1751331738000</td></tr><tr><td>s3a://lakehouse-edgy-production-us-west-2/output/CASH_CONNECTED_GRAPH_CHANGE_EVENT/V3/date=2025-06-26/part-00003-6be36299-2522-4f2d-b22c-dd6d8d2a3676.c000.avro</td><td>part-00003-6be36299-2522-4f2d-b22c-dd6d8d2a3676.c000.avro</td><td>1841</td><td>1751058318000</td></tr><tr><td>s3a://lakehouse-edgy-production-us-west-2/output/CASH_CONNECTED_GRAPH_CHANGE_EVENT/V3/date=2025-06-26/part-00003-6d24be9f-5acf-43ef-a727-99aaefe8d4e9.c000.avro</td><td>part-00003-6d24be9f-5acf-43ef-a727-99aaefe8d4e9.c000.avro</td><td>755</td><td>1751205742000</td></tr><tr><td>s3a://lakehouse-edgy-production-us-west-2/output/CASH_CONNECTED_GRAPH_CHANGE_EVENT/V3/date=2025-06-26/part-00003-73b0d897-e80e-439e-931c-f45feb5a91f8.c000.avro</td><td>part-00003-73b0d897-e80e-439e-931c-f45feb5a91f8.c000.avro</td><td>997</td><td>1751238329000</td></tr><tr><td>s3a://lakehouse-edgy-production-us-west-2/output/CASH_CONNECTED_GRAPH_CHANGE_EVENT/V3/date=2025-06-26/part-00003-79b49d8e-2cf9-4409-bb2d-a111a5cae6bd.c000.avro</td><td>part-00003-79b49d8e-2cf9-4409-bb2d-a111a5cae6bd.c000.avro</td><td>993</td><td>1751014917000</td></tr><tr><td>s3a://lakehouse-edgy-production-us-west-2/output/CASH_CONNECTED_GRAPH_CHANGE_EVENT/V3/date=2025-06-26/part-00003-7bc92d38-1d1f-41be-a9c5-58e500900ea1.c000.avro</td><td>part-00003-7bc92d38-1d1f-41be-a9c5-58e500900ea1.c000.avro</td><td>1111</td><td>1751076165000</td></tr><tr><td>s3a://lakehouse-edgy-production-us-west-2/output/CASH_CONNECTED_GRAPH_CHANGE_EVENT/V3/date=2025-06-26/part-00003-7e1156b3-0010-4c66-b5ef-f86516b1aba0.c000.avro</td><td>part-00003-7e1156b3-0010-4c66-b5ef-f86516b1aba0.c000.avro</td><td>1730388</td><td>1750932122000</td></tr><tr><td>s3a://lakehouse-edgy-production-us-west-2/output/CASH_CONNECTED_GRAPH_CHANGE_EVENT/V3/date=2025-06-26/part-00003-7f736561-3cd4-4999-b958-7b6cd9055cb7.c000.avro</td><td>part-00003-7f736561-3cd4-4999-b958-7b6cd9055cb7.c000.avro</td><td>486</td><td>1751288513000</td></tr><tr><td>s3a://lakehouse-edgy-production-us-west-2/output/CASH_CONNECTED_GRAPH_CHANGE_EVENT/V3/date=2025-06-26/part-00003-802e12f4-c75f-4cb8-b692-3392b858a8d3.c000.avro</td><td>part-00003-802e12f4-c75f-4cb8-b692-3392b858a8d3.c000.avro</td><td>1977822</td><td>1750928488000</td></tr><tr><td>s3a://lakehouse-edgy-production-us-west-2/output/CASH_CONNECTED_GRAPH_CHANGE_EVENT/V3/date=2025-06-26/part-00003-80fe4f0f-8b85-478b-815c-7cb1f2bd85f3.c000.avro</td><td>part-00003-80fe4f0f-8b85-478b-815c-7cb1f2bd85f3.c000.avro</td><td>763</td><td>1751144530000</td></tr><tr><td>s3a://lakehouse-edgy-production-us-west-2/output/CASH_CONNECTED_GRAPH_CHANGE_EVENT/V3/date=2025-06-26/part-00003-821b5be6-e858-4033-aaf9-a98a39760e44.c000.avro</td><td>part-00003-821b5be6-e858-4033-aaf9-a98a39760e44.c000.avro</td><td>4178464</td><td>1750957356000</td></tr><tr><td>s3a://lakehouse-edgy-production-us-west-2/output/CASH_CONNECTED_GRAPH_CHANGE_EVENT/V3/date=2025-06-26/part-00003-89d340bd-9eaf-4f0b-87b1-258bd6366290.c000.avro</td><td>part-00003-89d340bd-9eaf-4f0b-87b1-258bd6366290.c000.avro</td><td>5003986</td><td>1750964558000</td></tr><tr><td>s3a://lakehouse-edgy-production-us-west-2/output/CASH_CONNECTED_GRAPH_CHANGE_EVENT/V3/date=2025-06-26/part-00003-8b165048-6f64-44a8-aaee-a213b15214d7.c000.avro</td><td>part-00003-8b165048-6f64-44a8-aaee-a213b15214d7.c000.avro</td><td>1104</td><td>1751141126000</td></tr><tr><td>s3a://lakehouse-edgy-production-us-west-2/output/CASH_CONNECTED_GRAPH_CHANGE_EVENT/V3/date=2025-06-26/part-00003-8d48c100-959f-4142-9fee-7bcf6f965c1d.c000.avro</td><td>part-00003-8d48c100-959f-4142-9fee-7bcf6f965c1d.c000.avro</td><td>529</td><td>1751101309000</td></tr><tr><td>s3a://lakehouse-edgy-production-us-west-2/output/CASH_CONNECTED_GRAPH_CHANGE_EVENT/V3/date=2025-06-26/part-00003-969a1a1c-6fbe-49fc-ab57-9881145df8ad.c000.avro</td><td>part-00003-969a1a1c-6fbe-49fc-ab57-9881145df8ad.c000.avro</td><td>934</td><td>1751148141000</td></tr><tr><td>s3a://lakehouse-edgy-production-us-west-2/output/CASH_CONNECTED_GRAPH_CHANGE_EVENT/V3/date=2025-06-26/part-00003-97487f83-0cf3-4969-9fea-cc32eaefd1d9.c000.avro</td><td>part-00003-97487f83-0cf3-4969-9fea-cc32eaefd1d9.c000.avro</td><td>4306</td><td>1750986150000</td></tr><tr><td>s3a://lakehouse-edgy-production-us-west-2/output/CASH_CONNECTED_GRAPH_CHANGE_EVENT/V3/date=2025-06-26/part-00003-9a111b9d-e28b-49c9-a453-a4bbf7a65482.c000.avro</td><td>part-00003-9a111b9d-e28b-49c9-a453-a4bbf7a65482.c000.avro</td><td>3350605</td><td>1750914325000</td></tr><tr><td>s3a://lakehouse-edgy-production-us-west-2/output/CASH_CONNECTED_GRAPH_CHANGE_EVENT/V3/date=2025-06-26/part-00003-9b62fa63-950c-414a-aaa2-944f0a72abc4.c000.avro</td><td>part-00003-9b62fa63-950c-414a-aaa2-944f0a72abc4.c000.avro</td><td>5113843</td><td>1750975544000</td></tr><tr><td>s3a://lakehouse-edgy-production-us-west-2/output/CASH_CONNECTED_GRAPH_CHANGE_EVENT/V3/date=2025-06-26/part-00003-a40562b2-787f-4ba9-9b05-42a168bc06d2.c000.avro</td><td>part-00003-a40562b2-787f-4ba9-9b05-42a168bc06d2.c000.avro</td><td>736</td><td>1751317339000</td></tr><tr><td>s3a://lakehouse-edgy-production-us-west-2/output/CASH_CONNECTED_GRAPH_CHANGE_EVENT/V3/date=2025-06-26/part-00003-a4ec97b6-1f5a-4572-812a-24ea8e0b6e27.c000.avro</td><td>part-00003-a4ec97b6-1f5a-4572-812a-24ea8e0b6e27.c000.avro</td><td>2257156</td><td>1750939307000</td></tr><tr><td>s3a://lakehouse-edgy-production-us-west-2/output/CASH_CONNECTED_GRAPH_CHANGE_EVENT/V3/date=2025-06-26/part-00003-a55ea82b-88db-4301-a901-a590d3e667be.c000.avro</td><td>part-00003-a55ea82b-88db-4301-a901-a590d3e667be.c000.avro</td><td>2138</td><td>1751065341000</td></tr><tr><td>s3a://lakehouse-edgy-production-us-west-2/output/CASH_CONNECTED_GRAPH_CHANGE_EVENT/V3/date=2025-06-26/part-00003-a6fe4944-2b35-486c-b3de-68c9e1897e8e.c000.avro</td><td>part-00003-a6fe4944-2b35-486c-b3de-68c9e1897e8e.c000.avro</td><td>761</td><td>1751158950000</td></tr><tr><td>s3a://lakehouse-edgy-production-us-west-2/output/CASH_CONNECTED_GRAPH_CHANGE_EVENT/V3/date=2025-06-26/part-00003-a8ab5cb4-f445-49f5-b766-3177205112c1.c000.avro</td><td>part-00003-a8ab5cb4-f445-49f5-b766-3177205112c1.c000.avro</td><td>490</td><td>1751227328000</td></tr><tr><td>s3a://lakehouse-edgy-production-us-west-2/output/CASH_CONNECTED_GRAPH_CHANGE_EVENT/V3/date=2025-06-26/part-00003-ab0add96-7735-441c-9d72-26fa9e3e7147.c000.avro</td><td>part-00003-ab0add96-7735-441c-9d72-26fa9e3e7147.c000.avro</td><td>4448534</td><td>1750979124000</td></tr><tr><td>s3a://lakehouse-edgy-production-us-west-2/output/CASH_CONNECTED_GRAPH_CHANGE_EVENT/V3/date=2025-06-26/part-00003-afe5ec67-3778-453d-be84-f60574c3cd32.c000.avro</td><td>part-00003-afe5ec67-3778-453d-be84-f60574c3cd32.c000.avro</td><td>1105</td><td>1751162535000</td></tr><tr><td>s3a://lakehouse-edgy-production-us-west-2/output/CASH_CONNECTED_GRAPH_CHANGE_EVENT/V3/date=2025-06-26/part-00003-b02912c7-0fd2-4b92-9f40-875ab9fcd8c6.c000.avro</td><td>part-00003-b02912c7-0fd2-4b92-9f40-875ab9fcd8c6.c000.avro</td><td>494</td><td>1751176912000</td></tr><tr><td>s3a://lakehouse-edgy-production-us-west-2/output/CASH_CONNECTED_GRAPH_CHANGE_EVENT/V3/date=2025-06-26/part-00003-b0d7a158-5a76-42a5-bfb2-2e672f169bbb.c000.avro</td><td>part-00003-b0d7a158-5a76-42a5-bfb2-2e672f169bbb.c000.avro</td><td>2120586</td><td>1750935718000</td></tr><tr><td>s3a://lakehouse-edgy-production-us-west-2/output/CASH_CONNECTED_GRAPH_CHANGE_EVENT/V3/date=2025-06-26/part-00003-b270ba9f-30b2-4695-8229-d5ab808c4c84.c000.avro</td><td>part-00003-b270ba9f-30b2-4695-8229-d5ab808c4c84.c000.avro</td><td>737</td><td>1751216562000</td></tr><tr><td>s3a://lakehouse-edgy-production-us-west-2/output/CASH_CONNECTED_GRAPH_CHANGE_EVENT/V3/date=2025-06-26/part-00003-b3585c0e-9368-4ff3-8f6e-9888afc1b462.c000.avro</td><td>part-00003-b3585c0e-9368-4ff3-8f6e-9888afc1b462.c000.avro</td><td>709</td><td>1751191287000</td></tr><tr><td>s3a://lakehouse-edgy-production-us-west-2/output/CASH_CONNECTED_GRAPH_CHANGE_EVENT/V3/date=2025-06-26/part-00003-b3d32e66-72f2-4969-86d0-e0d7218d4842.c000.avro</td><td>part-00003-b3d32e66-72f2-4969-86d0-e0d7218d4842.c000.avro</td><td>2455</td><td>1750989749000</td></tr><tr><td>s3a://lakehouse-edgy-production-us-west-2/output/CASH_CONNECTED_GRAPH_CHANGE_EVENT/V3/date=2025-06-26/part-00003-b3fbd96e-46a8-4463-abc5-38e69ad88da0.c000.avro</td><td>part-00003-b3fbd96e-46a8-4463-abc5-38e69ad88da0.c000.avro</td><td>988</td><td>1751313769000</td></tr><tr><td>s3a://lakehouse-edgy-production-us-west-2/output/CASH_CONNECTED_GRAPH_CHANGE_EVENT/V3/date=2025-06-26/part-00003-b834ddb7-bba5-431a-b088-47173076fbfe.c000.avro</td><td>part-00003-b834ddb7-bba5-431a-b088-47173076fbfe.c000.avro</td><td>3580723</td><td>1750942964000</td></tr><tr><td>s3a://lakehouse-edgy-production-us-west-2/output/CASH_CONNECTED_GRAPH_CHANGE_EVENT/V3/date=2025-06-26/part-00003-bd15ee62-dbee-4d64-bc7b-d54b66d830b6.c000.avro</td><td>part-00003-bd15ee62-dbee-4d64-bc7b-d54b66d830b6.c000.avro</td><td>741</td><td>1751087107000</td></tr><tr><td>s3a://lakehouse-edgy-production-us-west-2/output/CASH_CONNECTED_GRAPH_CHANGE_EVENT/V3/date=2025-06-26/part-00003-be81f3d9-7655-43f4-b08a-b3f7ca907c18.c000.avro</td><td>part-00003-be81f3d9-7655-43f4-b08a-b3f7ca907c18.c000.avro</td><td>3365084</td><td>1750946552000</td></tr><tr><td>s3a://lakehouse-edgy-production-us-west-2/output/CASH_CONNECTED_GRAPH_CHANGE_EVENT/V3/date=2025-06-26/part-00003-c2f7b029-26da-4760-973e-0949b8ec26af.c000.avro</td><td>part-00003-c2f7b029-26da-4760-973e-0949b8ec26af.c000.avro</td><td>733</td><td>1751155327000</td></tr><tr><td>s3a://lakehouse-edgy-production-us-west-2/output/CASH_CONNECTED_GRAPH_CHANGE_EVENT/V3/date=2025-06-26/part-00003-c3c0d98c-8b2a-4da9-b198-104377ce48b2.c000.avro</td><td>part-00003-c3c0d98c-8b2a-4da9-b198-104377ce48b2.c000.avro</td><td>979</td><td>1751166349000</td></tr><tr><td>s3a://lakehouse-edgy-production-us-west-2/output/CASH_CONNECTED_GRAPH_CHANGE_EVENT/V3/date=2025-06-26/part-00003-c5b34f3b-3d93-4311-bfe7-a4fafe536681.c000.avro</td><td>part-00003-c5b34f3b-3d93-4311-bfe7-a4fafe536681.c000.avro</td><td>619</td><td>1751324566000</td></tr><tr><td>s3a://lakehouse-edgy-production-us-west-2/output/CASH_CONNECTED_GRAPH_CHANGE_EVENT/V3/date=2025-06-26/part-00003-c8126c1a-ac1a-40d2-8050-22aa705a0b44.c000.avro</td><td>part-00003-c8126c1a-ac1a-40d2-8050-22aa705a0b44.c000.avro</td><td>4042143</td><td>1750903394000</td></tr><tr><td>s3a://lakehouse-edgy-production-us-west-2/output/CASH_CONNECTED_GRAPH_CHANGE_EVENT/V3/date=2025-06-26/part-00003-cbb496b6-6673-4dfd-aad8-3a6b4b34c9c1.c000.avro</td><td>part-00003-cbb496b6-6673-4dfd-aad8-3a6b4b34c9c1.c000.avro</td><td>2231</td><td>1751043913000</td></tr><tr><td>s3a://lakehouse-edgy-production-us-west-2/output/CASH_CONNECTED_GRAPH_CHANGE_EVENT/V3/date=2025-06-26/part-00003-cc4178da-d2bb-451f-93ba-3031a36958ab.c000.avro</td><td>part-00003-cc4178da-d2bb-451f-93ba-3031a36958ab.c000.avro</td><td>3882216</td><td>1750954027000</td></tr><tr><td>s3a://lakehouse-edgy-production-us-west-2/output/CASH_CONNECTED_GRAPH_CHANGE_EVENT/V3/date=2025-06-26/part-00003-cc60745c-d4d7-490b-be82-ed0231528c27.c000.avro</td><td>part-00003-cc60745c-d4d7-490b-be82-ed0231528c27.c000.avro</td><td>1379</td><td>1751151907000</td></tr><tr><td>s3a://lakehouse-edgy-production-us-west-2/output/CASH_CONNECTED_GRAPH_CHANGE_EVENT/V3/date=2025-06-26/part-00003-cdb73d83-c90b-4bbd-beb5-9d0d5b993ff1.c000.avro</td><td>part-00003-cdb73d83-c90b-4bbd-beb5-9d0d5b993ff1.c000.avro</td><td>4094774</td><td>1750899936000</td></tr><tr><td>s3a://lakehouse-edgy-production-us-west-2/output/CASH_CONNECTED_GRAPH_CHANGE_EVENT/V3/date=2025-06-26/part-00003-d1ae3cb7-6e5a-46fa-9b2b-25b0c0b4e2c1.c000.avro</td><td>part-00003-d1ae3cb7-6e5a-46fa-9b2b-25b0c0b4e2c1.c000.avro</td><td>884</td><td>1751094108000</td></tr><tr><td>s3a://lakehouse-edgy-production-us-west-2/output/CASH_CONNECTED_GRAPH_CHANGE_EVENT/V3/date=2025-06-26/part-00003-d32b8329-ca45-4246-8442-9b7a460f59fb.c000.avro</td><td>part-00003-d32b8329-ca45-4246-8442-9b7a460f59fb.c000.avro</td><td>985</td><td>1751169902000</td></tr><tr><td>s3a://lakehouse-edgy-production-us-west-2/output/CASH_CONNECTED_GRAPH_CHANGE_EVENT/V3/date=2025-06-26/part-00003-d9583eec-e304-4c94-b653-9685acb1ca36.c000.avro</td><td>part-00003-d9583eec-e304-4c94-b653-9685acb1ca36.c000.avro</td><td>3588305</td><td>1750982551000</td></tr><tr><td>s3a://lakehouse-edgy-production-us-west-2/output/CASH_CONNECTED_GRAPH_CHANGE_EVENT/V3/date=2025-06-26/part-00003-dcdc8342-675a-4e45-a409-084a3bfc204c.c000.avro</td><td>part-00003-dcdc8342-675a-4e45-a409-084a3bfc204c.c000.avro</td><td>1012</td><td>1751090532000</td></tr><tr><td>s3a://lakehouse-edgy-production-us-west-2/output/CASH_CONNECTED_GRAPH_CHANGE_EVENT/V3/date=2025-06-26/part-00003-dce82055-bb93-4363-81d2-48721c992002.c000.avro</td><td>part-00003-dce82055-bb93-4363-81d2-48721c992002.c000.avro</td><td>488</td><td>1751270496000</td></tr><tr><td>s3a://lakehouse-edgy-production-us-west-2/output/CASH_CONNECTED_GRAPH_CHANGE_EVENT/V3/date=2025-06-26/part-00003-dd5d0f63-52af-4b45-8b9c-68839b179c6d.c000.avro</td><td>part-00003-dd5d0f63-52af-4b45-8b9c-68839b179c6d.c000.avro</td><td>492</td><td>1751011308000</td></tr><tr><td>s3a://lakehouse-edgy-production-us-west-2/output/CASH_CONNECTED_GRAPH_CHANGE_EVENT/V3/date=2025-06-26/part-00003-df8e7ab0-e94b-4a3b-bf74-8fe3bcdc0de6.c000.avro</td><td>part-00003-df8e7ab0-e94b-4a3b-bf74-8fe3bcdc0de6.c000.avro</td><td>735</td><td>1751310172000</td></tr><tr><td>s3a://lakehouse-edgy-production-us-west-2/output/CASH_CONNECTED_GRAPH_CHANGE_EVENT/V3/date=2025-06-26/part-00003-e51c2618-2ca6-4529-b034-486ab747388d.c000.avro</td><td>part-00003-e51c2618-2ca6-4529-b034-486ab747388d.c000.avro</td><td>650</td><td>1751248927000</td></tr><tr><td>s3a://lakehouse-edgy-production-us-west-2/output/CASH_CONNECTED_GRAPH_CHANGE_EVENT/V3/date=2025-06-26/part-00003-e536d565-5ebf-4fa1-90da-9e98481661ea.c000.avro</td><td>part-00003-e536d565-5ebf-4fa1-90da-9e98481661ea.c000.avro</td><td>2055639</td><td>1750924915000</td></tr><tr><td>s3a://lakehouse-edgy-production-us-west-2/output/CASH_CONNECTED_GRAPH_CHANGE_EVENT/V3/date=2025-06-26/part-00003-e54d84ab-db24-4e62-8d22-adccbe842142.c000.avro</td><td>part-00003-e54d84ab-db24-4e62-8d22-adccbe842142.c000.avro</td><td>3370724</td><td>1750906962000</td></tr><tr><td>s3a://lakehouse-edgy-production-us-west-2/output/CASH_CONNECTED_GRAPH_CHANGE_EVENT/V3/date=2025-06-26/part-00003-e60b53f0-55eb-4b27-b299-1d8ce1e03f7e.c000.avro</td><td>part-00003-e60b53f0-55eb-4b27-b299-1d8ce1e03f7e.c000.avro</td><td>917</td><td>1751320942000</td></tr><tr><td>s3a://lakehouse-edgy-production-us-west-2/output/CASH_CONNECTED_GRAPH_CHANGE_EVENT/V3/date=2025-06-26/part-00003-e60e51da-216b-4694-a985-3c3370135714.c000.avro</td><td>part-00003-e60e51da-216b-4694-a985-3c3370135714.c000.avro</td><td>1735</td><td>1751306711000</td></tr><tr><td>s3a://lakehouse-edgy-production-us-west-2/output/CASH_CONNECTED_GRAPH_CHANGE_EVENT/V3/date=2025-06-26/part-00003-ebcbdbda-ceb5-4f20-8b9c-40077851c25f.c000.avro</td><td>part-00003-ebcbdbda-ceb5-4f20-8b9c-40077851c25f.c000.avro</td><td>741</td><td>1751126528000</td></tr><tr><td>s3a://lakehouse-edgy-production-us-west-2/output/CASH_CONNECTED_GRAPH_CHANGE_EVENT/V3/date=2025-06-26/part-00003-ed9aeda0-bc45-424f-88c6-eaa1a8ee3848.c000.avro</td><td>part-00003-ed9aeda0-bc45-424f-88c6-eaa1a8ee3848.c000.avro</td><td>981</td><td>1751213109000</td></tr><tr><td>s3a://lakehouse-edgy-production-us-west-2/output/CASH_CONNECTED_GRAPH_CHANGE_EVENT/V3/date=2025-06-26/part-00003-f00d8e3d-4da5-4566-8209-a04f39a21512.c000.avro</td><td>part-00003-f00d8e3d-4da5-4566-8209-a04f39a21512.c000.avro</td><td>741</td><td>1751223745000</td></tr><tr><td>s3a://lakehouse-edgy-production-us-west-2/output/CASH_CONNECTED_GRAPH_CHANGE_EVENT/V3/date=2025-06-26/part-00003-f1ae0267-e848-42cb-8a80-90ee59842d63.c000.avro</td><td>part-00003-f1ae0267-e848-42cb-8a80-90ee59842d63.c000.avro</td><td>1076</td><td>1751234535000</td></tr><tr><td>s3a://lakehouse-edgy-production-us-west-2/output/CASH_CONNECTED_GRAPH_CHANGE_EVENT/V3/date=2025-06-26/part-00003-f26598e3-e371-445d-92d2-1f8fd3ab2695.c000.avro</td><td>part-00003-f26598e3-e371-445d-92d2-1f8fd3ab2695.c000.avro</td><td>779</td><td>1751083346000</td></tr><tr><td>s3a://lakehouse-edgy-production-us-west-2/output/CASH_CONNECTED_GRAPH_CHANGE_EVENT/V3/date=2025-06-26/part-00003-f267fb2c-5947-4764-a370-0502633481b9.c000.avro</td><td>part-00003-f267fb2c-5947-4764-a370-0502633481b9.c000.avro</td><td>860</td><td>1751303135000</td></tr><tr><td>s3a://lakehouse-edgy-production-us-west-2/output/CASH_CONNECTED_GRAPH_CHANGE_EVENT/V3/date=2025-06-26/part-00003-f3d3f7fb-7f75-463d-b872-25d8dc1fbefd.c000.avro</td><td>part-00003-f3d3f7fb-7f75-463d-b872-25d8dc1fbefd.c000.avro</td><td>487</td><td>1751184135000</td></tr><tr><td>s3a://lakehouse-edgy-production-us-west-2/output/CASH_CONNECTED_GRAPH_CHANGE_EVENT/V3/date=2025-06-26/part-00003-f4559277-90df-4b0d-88c1-12b6ccb1760b.c000.avro</td><td>part-00003-f4559277-90df-4b0d-88c1-12b6ccb1760b.c000.avro</td><td>1381</td><td>1751036550000</td></tr><tr><td>s3a://lakehouse-edgy-production-us-west-2/output/CASH_CONNECTED_GRAPH_CHANGE_EVENT/V3/date=2025-06-26/part-00003-f59477fa-b683-4e65-88e0-30d4d5fe6f24.c000.avro</td><td>part-00003-f59477fa-b683-4e65-88e0-30d4d5fe6f24.c000.avro</td><td>854</td><td>1751299590000</td></tr><tr><td>s3a://lakehouse-edgy-production-us-west-2/output/CASH_CONNECTED_GRAPH_CHANGE_EVENT/V3/date=2025-06-26/part-00003-f62cb38f-5102-4247-9af8-8320432d9a00.c000.avro</td><td>part-00003-f62cb38f-5102-4247-9af8-8320432d9a00.c000.avro</td><td>1467</td><td>1751079734000</td></tr><tr><td>s3a://lakehouse-edgy-production-us-west-2/output/CASH_CONNECTED_GRAPH_CHANGE_EVENT/V3/date=2025-06-26/part-00003-f7d12526-e005-4cdb-b6ac-216972cd9e50.c000.avro</td><td>part-00003-f7d12526-e005-4cdb-b6ac-216972cd9e50.c000.avro</td><td>2973001</td><td>1750910543000</td></tr><tr><td>s3a://lakehouse-edgy-production-us-west-2/output/CASH_CONNECTED_GRAPH_CHANGE_EVENT/V3/date=2025-06-26/part-00003-f87824bc-b7ae-4281-864f-10d85f4d3122.c000.avro</td><td>part-00003-f87824bc-b7ae-4281-864f-10d85f4d3122.c000.avro</td><td>868</td><td>1751130367000</td></tr><tr><td>s3a://lakehouse-edgy-production-us-west-2/output/CASH_CONNECTED_GRAPH_CHANGE_EVENT/V3/date=2025-06-26/part-00003-fd93d3c2-03d7-41ad-abf1-700f5efd5db4.c000.avro</td><td>part-00003-fd93d3c2-03d7-41ad-abf1-700f5efd5db4.c000.avro</td><td>1426</td><td>1751000536000</td></tr><tr><td>s3a://lakehouse-edgy-production-us-west-2/output/CASH_CONNECTED_GRAPH_CHANGE_EVENT/V3/date=2025-06-26/part-00003-fe1c0c09-b2c1-42a8-973b-a3dc6c155e6d.c000.avro</td><td>part-00003-fe1c0c09-b2c1-42a8-973b-a3dc6c155e6d.c000.avro</td><td>865</td><td>1751173391000</td></tr><tr><td>s3a://lakehouse-edgy-production-us-west-2/output/CASH_CONNECTED_GRAPH_CHANGE_EVENT/V3/date=2025-06-26/part-00004-00c958fe-db01-4a07-87ba-ced5d720295a.c000.avro</td><td>part-00004-00c958fe-db01-4a07-87ba-ced5d720295a.c000.avro</td><td>474</td><td>1751018524000</td></tr><tr><td>s3a://lakehouse-edgy-production-us-west-2/output/CASH_CONNECTED_GRAPH_CHANGE_EVENT/V3/date=2025-06-26/part-00004-06620387-ec00-465d-9ca2-c9b4d0a21fe8.c000.avro</td><td>part-00004-06620387-ec00-465d-9ca2-c9b4d0a21fe8.c000.avro</td><td>1203</td><td>1751320939000</td></tr><tr><td>s3a://lakehouse-edgy-production-us-west-2/output/CASH_CONNECTED_GRAPH_CHANGE_EVENT/V3/date=2025-06-26/part-00004-06799819-4af2-44d4-849a-9e891d622f1f.c000.avro</td><td>part-00004-06799819-4af2-44d4-849a-9e891d622f1f.c000.avro</td><td>614</td><td>1751180534000</td></tr><tr><td>s3a://lakehouse-edgy-production-us-west-2/output/CASH_CONNECTED_GRAPH_CHANGE_EVENT/V3/date=2025-06-26/part-00004-08f44147-e0e4-4e54-bb2e-12d7e1449b56.c000.avro</td><td>part-00004-08f44147-e0e4-4e54-bb2e-12d7e1449b56.c000.avro</td><td>908</td><td>1751126529000</td></tr><tr><td>s3a://lakehouse-edgy-production-us-west-2/output/CASH_CONNECTED_GRAPH_CHANGE_EVENT/V3/date=2025-06-26/part-00004-0b07cfae-eb9d-41c5-9a4b-fb4dfd07b7e6.c000.avro</td><td>part-00004-0b07cfae-eb9d-41c5-9a4b-fb4dfd07b7e6.c000.avro</td><td>486</td><td>1751328147000</td></tr><tr><td>s3a://lakehouse-edgy-production-us-west-2/output/CASH_CONNECTED_GRAPH_CHANGE_EVENT/V3/date=2025-06-26/part-00004-0d13f930-af7e-4aa5-abe6-5534861b2249.c000.avro</td><td>part-00004-0d13f930-af7e-4aa5-abe6-5534861b2249.c000.avro</td><td>495</td><td>1751205742000</td></tr><tr><td>s3a://lakehouse-edgy-production-us-west-2/output/CASH_CONNECTED_GRAPH_CHANGE_EVENT/V3/date=2025-06-26/part-00004-165617c5-eeed-4529-a61c-3489565a795a.c000.avro</td><td>part-00004-165617c5-eeed-4529-a61c-3489565a795a.c000.avro</td><td>3004209</td><td>1750917764000</td></tr><tr><td>s3a://lakehouse-edgy-production-us-west-2/output/CASH_CONNECTED_GRAPH_CHANGE_EVENT/V3/date=2025-06-26/part-00004-16adbd08-f8d7-493c-bd85-b32561f29a4d.c000.avro</td><td>part-00004-16adbd08-f8d7-493c-bd85-b32561f29a4d.c000.avro</td><td>635</td><td>1751184136000</td></tr><tr><td>s3a://lakehouse-edgy-production-us-west-2/output/CASH_CONNECTED_GRAPH_CHANGE_EVENT/V3/date=2025-06-26/part-00004-1b459d0b-87ed-40c3-a5ec-f7c945ab9979.c000.avro</td><td>part-00004-1b459d0b-87ed-40c3-a5ec-f7c945ab9979.c000.avro</td><td>3378018</td><td>1750914326000</td></tr><tr><td>s3a://lakehouse-edgy-production-us-west-2/output/CASH_CONNECTED_GRAPH_CHANGE_EVENT/V3/date=2025-06-26/part-00004-1d1e0924-5300-4b90-91d5-b4f67ab54a37.c000.avro</td><td>part-00004-1d1e0924-5300-4b90-91d5-b4f67ab54a37.c000.avro</td><td>1345</td><td>1751130368000</td></tr><tr><td>s3a://lakehouse-edgy-production-us-west-2/output/CASH_CONNECTED_GRAPH_CHANGE_EVENT/V3/date=2025-06-26/part-00004-1d5797a9-ee66-43ee-a599-eb94ecd20719.c000.avro</td><td>part-00004-1d5797a9-ee66-43ee-a599-eb94ecd20719.c000.avro</td><td>1004</td><td>1751079733000</td></tr><tr><td>s3a://lakehouse-edgy-production-us-west-2/output/CASH_CONNECTED_GRAPH_CHANGE_EVENT/V3/date=2025-06-26/part-00004-2188f41f-8788-4eb3-978b-6c7ae6a4c00c.c000.avro</td><td>part-00004-2188f41f-8788-4eb3-978b-6c7ae6a4c00c.c000.avro</td><td>1950242</td><td>1750928485000</td></tr><tr><td>s3a://lakehouse-edgy-production-us-west-2/output/CASH_CONNECTED_GRAPH_CHANGE_EVENT/V3/date=2025-06-26/part-00004-2329c581-ef7a-4d90-a826-cb6006e17e6b.c000.avro</td><td>part-00004-2329c581-ef7a-4d90-a826-cb6006e17e6b.c000.avro</td><td>610</td><td>1751295755000</td></tr><tr><td>s3a://lakehouse-edgy-production-us-west-2/output/CASH_CONNECTED_GRAPH_CHANGE_EVENT/V3/date=2025-06-26/part-00004-23d11253-2191-4616-860f-09ef2cf66e2e.c000.avro</td><td>part-00004-23d11253-2191-4616-860f-09ef2cf66e2e.c000.avro</td><td>1107</td><td>1751036548000</td></tr><tr><td>s3a://lakehouse-edgy-production-us-west-2/output/CASH_CONNECTED_GRAPH_CHANGE_EVENT/V3/date=2025-06-26/part-00004-2517d3fa-0437-40b6-90d5-cf92eff810a5.c000.avro</td><td>part-00004-2517d3fa-0437-40b6-90d5-cf92eff810a5.c000.avro</td><td>610</td><td>1751011309000</td></tr><tr><td>s3a://lakehouse-edgy-production-us-west-2/output/CASH_CONNECTED_GRAPH_CHANGE_EVENT/V3/date=2025-06-26/part-00004-28254062-4ef5-49a3-8366-286f14bec179.c000.avro</td><td>part-00004-28254062-4ef5-49a3-8366-286f14bec179.c000.avro</td><td>1365</td><td>1750996935000</td></tr><tr><td>s3a://lakehouse-edgy-production-us-west-2/output/CASH_CONNECTED_GRAPH_CHANGE_EVENT/V3/date=2025-06-26/part-00004-282f3c47-2ece-4702-9dc6-7650dea99d6c.c000.avro</td><td>part-00004-282f3c47-2ece-4702-9dc6-7650dea99d6c.c000.avro</td><td>858</td><td>1751310169000</td></tr><tr><td>s3a://lakehouse-edgy-production-us-west-2/output/CASH_CONNECTED_GRAPH_CHANGE_EVENT/V3/date=2025-06-26/part-00004-28e53870-17ae-4cb1-8df2-b08a5eb70c9f.c000.avro</td><td>part-00004-28e53870-17ae-4cb1-8df2-b08a5eb70c9f.c000.avro</td><td>1143</td><td>1751004125000</td></tr><tr><td>s3a://lakehouse-edgy-production-us-west-2/output/CASH_CONNECTED_GRAPH_CHANGE_EVENT/V3/date=2025-06-26/part-00004-2b8aac6b-cfca-4389-a11f-e7be685aa943.c000.avro</td><td>part-00004-2b8aac6b-cfca-4389-a11f-e7be685aa943.c000.avro</td><td>1230</td><td>1751000538000</td></tr><tr><td>s3a://lakehouse-edgy-production-us-west-2/output/CASH_CONNECTED_GRAPH_CHANGE_EVENT/V3/date=2025-06-26/part-00004-2e5cb84a-8e0f-49cd-88f4-0a877c8e8a21.c000.avro</td><td>part-00004-2e5cb84a-8e0f-49cd-88f4-0a877c8e8a21.c000.avro</td><td>1144</td><td>1751234538000</td></tr><tr><td>s3a://lakehouse-edgy-production-us-west-2/output/CASH_CONNECTED_GRAPH_CHANGE_EVENT/V3/date=2025-06-26/part-00004-378dc255-d607-4e3f-8c08-6bd7537d88bd.c000.avro</td><td>part-00004-378dc255-d607-4e3f-8c08-6bd7537d88bd.c000.avro</td><td>748</td><td>1751090531000</td></tr><tr><td>s3a://lakehouse-edgy-production-us-west-2/output/CASH_CONNECTED_GRAPH_CHANGE_EVENT/V3/date=2025-06-26/part-00004-385c8cf6-479a-4666-8bad-51614555c66b.c000.avro</td><td>part-00004-385c8cf6-479a-4666-8bad-51614555c66b.c000.avro</td><td>1245</td><td>1751166345000</td></tr><tr><td>s3a://lakehouse-edgy-production-us-west-2/output/CASH_CONNECTED_GRAPH_CHANGE_EVENT/V3/date=2025-06-26/part-00004-3aba2d9c-c040-4416-ab6d-8cf6ac6bd196.c000.avro</td><td>part-00004-3aba2d9c-c040-4416-ab6d-8cf6ac6bd196.c000.avro</td><td>4047642</td><td>1750903392000</td></tr><tr><td>s3a://lakehouse-edgy-production-us-west-2/output/CASH_CONNECTED_GRAPH_CHANGE_EVENT/V3/date=2025-06-26/part-00004-3e531384-f00a-4a1a-893c-849f2d85b520.c000.avro</td><td>part-00004-3e531384-f00a-4a1a-893c-849f2d85b520.c000.avro</td><td>615</td><td>1751014918000</td></tr><tr><td>s3a://lakehouse-edgy-production-us-west-2/output/CASH_CONNECTED_GRAPH_CHANGE_EVENT/V3/date=2025-06-26/part-00004-416bac9e-50d8-4e46-a290-d1ab46a4b4a3.c000.avro</td><td>part-00004-416bac9e-50d8-4e46-a290-d1ab46a4b4a3.c000.avro</td><td>1724804</td><td>1750932121000</td></tr><tr><td>s3a://lakehouse-edgy-production-us-west-2/output/CASH_CONNECTED_GRAPH_CHANGE_EVENT/V3/date=2025-06-26/part-00004-4551364c-e768-41b5-8e40-fda6dbcb045e.c000.avro</td><td>part-00004-4551364c-e768-41b5-8e40-fda6dbcb045e.c000.avro</td><td>492</td><td>1751267009000</td></tr><tr><td>s3a://lakehouse-edgy-production-us-west-2/output/CASH_CONNECTED_GRAPH_CHANGE_EVENT/V3/date=2025-06-26/part-00004-4a18f11a-56c0-4645-b96d-da5d603186d8.c000.avro</td><td>part-00004-4a18f11a-56c0-4645-b96d-da5d603186d8.c000.avro</td><td>871</td><td>1751087104000</td></tr><tr><td>s3a://lakehouse-edgy-production-us-west-2/output/CASH_CONNECTED_GRAPH_CHANGE_EVENT/V3/date=2025-06-26/part-00004-4b907dcf-4639-46b4-9015-ab6e668148f4.c000.avro</td><td>part-00004-4b907dcf-4639-46b4-9015-ab6e668148f4.c000.avro</td><td>1369</td><td>1751068943000</td></tr><tr><td>s3a://lakehouse-edgy-production-us-west-2/output/CASH_CONNECTED_GRAPH_CHANGE_EVENT/V3/date=2025-06-26/part-00004-4ebe1fc0-65f1-488c-8a79-6e05688a6e27.c000.avro</td><td>part-00004-4ebe1fc0-65f1-488c-8a79-6e05688a6e27.c000.avro</td><td>649</td><td>1751141123000</td></tr><tr><td>s3a://lakehouse-edgy-production-us-west-2/output/CASH_CONNECTED_GRAPH_CHANGE_EVENT/V3/date=2025-06-26/part-00004-509b4a0f-c240-4251-983e-ee7bd4b18d81.c000.avro</td><td>part-00004-509b4a0f-c240-4251-983e-ee7bd4b18d81.c000.avro</td><td>742</td><td>1751284936000</td></tr><tr><td>s3a://lakehouse-edgy-production-us-west-2/output/CASH_CONNECTED_GRAPH_CHANGE_EVENT/V3/date=2025-06-26/part-00004-520954a3-9597-4fbc-8716-2a88aa7301a1.c000.avro</td><td>part-00004-520954a3-9597-4fbc-8716-2a88aa7301a1.c000.avro</td><td>1005</td><td>1751306711000</td></tr><tr><td>s3a://lakehouse-edgy-production-us-west-2/output/CASH_CONNECTED_GRAPH_CHANGE_EVENT/V3/date=2025-06-26/part-00004-5813e07f-0a97-410b-8ded-00c28f1f877a.c000.avro</td><td>part-00004-5813e07f-0a97-410b-8ded-00c28f1f877a.c000.avro</td><td>874</td><td>1751083347000</td></tr><tr><td>s3a://lakehouse-edgy-production-us-west-2/output/CASH_CONNECTED_GRAPH_CHANGE_EVENT/V3/date=2025-06-26/part-00004-582c904f-9a63-46d0-aaf3-3a11aebc636b.c000.avro</td><td>part-00004-582c904f-9a63-46d0-aaf3-3a11aebc636b.c000.avro</td><td>740</td><td>1751220127000</td></tr><tr><td>s3a://lakehouse-edgy-production-us-west-2/output/CASH_CONNECTED_GRAPH_CHANGE_EVENT/V3/date=2025-06-26/part-00004-5ca6a1b4-4b43-4773-b4cd-fff591701b25.c000.avro</td><td>part-00004-5ca6a1b4-4b43-4773-b4cd-fff591701b25.c000.avro</td><td>621</td><td>1751256121000</td></tr><tr><td>s3a://lakehouse-edgy-production-us-west-2/output/CASH_CONNECTED_GRAPH_CHANGE_EVENT/V3/date=2025-06-26/part-00004-5dc09752-b4c8-4e72-9905-d225e06e6b58.c000.avro</td><td>part-00004-5dc09752-b4c8-4e72-9905-d225e06e6b58.c000.avro</td><td>1230</td><td>1751148141000</td></tr><tr><td>s3a://lakehouse-edgy-production-us-west-2/output/CASH_CONNECTED_GRAPH_CHANGE_EVENT/V3/date=2025-06-26/part-00004-5fa02cc0-c504-4b38-aee1-7ebe4a364213.c000.avro</td><td>part-00004-5fa02cc0-c504-4b38-aee1-7ebe4a364213.c000.avro</td><td>488</td><td>1751101308000</td></tr><tr><td>s3a://lakehouse-edgy-production-us-west-2/output/CASH_CONNECTED_GRAPH_CHANGE_EVENT/V3/date=2025-06-26/part-00004-602d37b0-bad7-4e90-ace5-d728b4ea9e49.c000.avro</td><td>part-00004-602d37b0-bad7-4e90-ace5-d728b4ea9e49.c000.avro</td><td>3965</td><td>1750986152000</td></tr><tr><td>s3a://lakehouse-edgy-production-us-west-2/output/CASH_CONNECTED_GRAPH_CHANGE_EVENT/V3/date=2025-06-26/part-00004-60365af3-5ed2-43b9-9ba0-cabf8f094f5e.c000.avro</td><td>part-00004-60365af3-5ed2-43b9-9ba0-cabf8f094f5e.c000.avro</td><td>3034</td><td>1750993349000</td></tr><tr><td>s3a://lakehouse-edgy-production-us-west-2/output/CASH_CONNECTED_GRAPH_CHANGE_EVENT/V3/date=2025-06-26/part-00004-62690992-9a97-4fe0-a09d-c897240bcb52.c000.avro</td><td>part-00004-62690992-9a97-4fe0-a09d-c897240bcb52.c000.avro</td><td>1254</td><td>1751137369000</td></tr><tr><td>s3a://lakehouse-edgy-production-us-west-2/output/CASH_CONNECTED_GRAPH_CHANGE_EVENT/V3/date=2025-06-26/part-00004-63565f6a-802e-4910-95fb-110ca76a4ea8.c000.avro</td><td>part-00004-63565f6a-802e-4910-95fb-110ca76a4ea8.c000.avro</td><td>472</td><td>1751176913000</td></tr><tr><td>s3a://lakehouse-edgy-production-us-west-2/output/CASH_CONNECTED_GRAPH_CHANGE_EVENT/V3/date=2025-06-26/part-00004-652b4c8f-3f47-4622-948a-ef72a4015964.c000.avro</td><td>part-00004-652b4c8f-3f47-4622-948a-ef72a4015964.c000.avro</td><td>619</td><td>1751022116000</td></tr><tr><td>s3a://lakehouse-edgy-production-us-west-2/output/CASH_CONNECTED_GRAPH_CHANGE_EVENT/V3/date=2025-06-26/part-00004-695fb2a0-6cd8-4524-813b-30dfb4c0e0fa.c000.avro</td><td>part-00004-695fb2a0-6cd8-4524-813b-30dfb4c0e0fa.c000.avro</td><td>3406857</td><td>1750906964000</td></tr><tr><td>s3a://lakehouse-edgy-production-us-west-2/output/CASH_CONNECTED_GRAPH_CHANGE_EVENT/V3/date=2025-06-26/part-00004-698f9919-6347-4ba5-b1c1-a07aa18a763b.c000.avro</td><td>part-00004-698f9919-6347-4ba5-b1c1-a07aa18a763b.c000.avro</td><td>2916</td><td>1750989750000</td></tr><tr><td>s3a://lakehouse-edgy-production-us-west-2/output/CASH_CONNECTED_GRAPH_CHANGE_EVENT/V3/date=2025-06-26/part-00004-6b7fae41-8e7a-4e5c-94ad-ee35fd7affd8.c000.avro</td><td>part-00004-6b7fae41-8e7a-4e5c-94ad-ee35fd7affd8.c000.avro</td><td>1626</td><td>1751133768000</td></tr><tr><td>s3a://lakehouse-edgy-production-us-west-2/output/CASH_CONNECTED_GRAPH_CHANGE_EVENT/V3/date=2025-06-26/part-00004-6cb747b7-04e1-492f-8a0b-f45ed0dd7c8f.c000.avro</td><td>part-00004-6cb747b7-04e1-492f-8a0b-f45ed0dd7c8f.c000.avro</td><td>705</td><td>1751238331000</td></tr><tr><td>s3a://lakehouse-edgy-production-us-west-2/output/CASH_CONNECTED_GRAPH_CHANGE_EVENT/V3/date=2025-06-26/part-00004-6dc9b89c-a9c4-4a84-aba0-9a4378e6a7b0.c000.avro</td><td>part-00004-6dc9b89c-a9c4-4a84-aba0-9a4378e6a7b0.c000.avro</td><td>644</td><td>1751173391000</td></tr><tr><td>s3a://lakehouse-edgy-production-us-west-2/output/CASH_CONNECTED_GRAPH_CHANGE_EVENT/V3/date=2025-06-26/part-00004-6f1ec451-07f8-4220-8024-1e4b09cc4d71.c000.avro</td><td>part-00004-6f1ec451-07f8-4220-8024-1e4b09cc4d71.c000.avro</td><td>3632854</td><td>1750982550000</td></tr><tr><td>s3a://lakehouse-edgy-production-us-west-2/output/CASH_CONNECTED_GRAPH_CHANGE_EVENT/V3/date=2025-06-26/part-00004-72045b79-0370-4fd6-a8fb-cd8feb8e2183.c000.avro</td><td>part-00004-72045b79-0370-4fd6-a8fb-cd8feb8e2183.c000.avro</td><td>1022</td><td>1751227328000</td></tr><tr><td>s3a://lakehouse-edgy-production-us-west-2/output/CASH_CONNECTED_GRAPH_CHANGE_EVENT/V3/date=2025-06-26/part-00004-72327f05-c001-431a-ac62-a8249421a994.c000.avro</td><td>part-00004-72327f05-c001-431a-ac62-a8249421a994.c000.avro</td><td>493</td><td>1751105107000</td></tr><tr><td>s3a://lakehouse-edgy-production-us-west-2/output/CASH_CONNECTED_GRAPH_CHANGE_EVENT/V3/date=2025-06-26/part-00004-74a8adc2-9837-4f79-8e7a-ec818de96710.c000.avro</td><td>part-00004-74a8adc2-9837-4f79-8e7a-ec818de96710.c000.avro</td><td>1125</td><td>1751303133000</td></tr><tr><td>s3a://lakehouse-edgy-production-us-west-2/output/CASH_CONNECTED_GRAPH_CHANGE_EVENT/V3/date=2025-06-26/part-00004-7609b82d-3996-4c8a-8ca0-537be1e30bb3.c000.avro</td><td>part-00004-7609b82d-3996-4c8a-8ca0-537be1e30bb3.c000.avro</td><td>486</td><td>1751288513000</td></tr><tr><td>s3a://lakehouse-edgy-production-us-west-2/output/CASH_CONNECTED_GRAPH_CHANGE_EVENT/V3/date=2025-06-26/part-00004-77216df0-c65a-4694-82bc-23d47419abc2.c000.avro</td><td>part-00004-77216df0-c65a-4694-82bc-23d47419abc2.c000.avro</td><td>1891</td><td>1751054554000</td></tr><tr><td>s3a://lakehouse-edgy-production-us-west-2/output/CASH_CONNECTED_GRAPH_CHANGE_EVENT/V3/date=2025-06-26/part-00004-77c24212-7609-4c1f-9a36-16c43e47cab0.c000.avro</td><td>part-00004-77c24212-7609-4c1f-9a36-16c43e47cab0.c000.avro</td><td>4707777</td><td>1750968154000</td></tr><tr><td>s3a://lakehouse-edgy-production-us-west-2/output/CASH_CONNECTED_GRAPH_CHANGE_EVENT/V3/date=2025-06-26/part-00004-7b1bfc6b-c160-4634-83e2-412cad7afc18.c000.avro</td><td>part-00004-7b1bfc6b-c160-4634-83e2-412cad7afc18.c000.avro</td><td>1295</td><td>1751155326000</td></tr><tr><td>s3a://lakehouse-edgy-production-us-west-2/output/CASH_CONNECTED_GRAPH_CHANGE_EVENT/V3/date=2025-06-26/part-00004-7b79ddbe-ff41-44d8-8a23-51591efcebea.c000.avro</td><td>part-00004-7b79ddbe-ff41-44d8-8a23-51591efcebea.c000.avro</td><td>489</td><td>1751194887000</td></tr><tr><td>s3a://lakehouse-edgy-production-us-west-2/output/CASH_CONNECTED_GRAPH_CHANGE_EVENT/V3/date=2025-06-26/part-00004-7c3c3d5a-a571-40c3-9138-f9ada8cb5051.c000.avro</td><td>part-00004-7c3c3d5a-a571-40c3-9138-f9ada8cb5051.c000.avro</td><td>1008</td><td>1751162536000</td></tr><tr><td>s3a://lakehouse-edgy-production-us-west-2/output/CASH_CONNECTED_GRAPH_CHANGE_EVENT/V3/date=2025-06-26/part-00004-7cb821d1-96ec-4367-bc31-47a41a7cf9c5.c000.avro</td><td>part-00004-7cb821d1-96ec-4367-bc31-47a41a7cf9c5.c000.avro</td><td>629</td><td>1751191285000</td></tr><tr><td>s3a://lakehouse-edgy-production-us-west-2/output/CASH_CONNECTED_GRAPH_CHANGE_EVENT/V3/date=2025-06-26/part-00004-7db9d4e1-f2cc-495b-a4fd-c78cf04ee4f9.c000.avro</td><td>part-00004-7db9d4e1-f2cc-495b-a4fd-c78cf04ee4f9.c000.avro</td><td>630</td><td>1751292171000</td></tr><tr><td>s3a://lakehouse-edgy-production-us-west-2/output/CASH_CONNECTED_GRAPH_CHANGE_EVENT/V3/date=2025-06-26/part-00004-7e8f8cec-5e14-4ab0-9eeb-ce9d9485debf.c000.avro</td><td>part-00004-7e8f8cec-5e14-4ab0-9eeb-ce9d9485debf.c000.avro</td><td>4523533</td><td>1750960960000</td></tr><tr><td>s3a://lakehouse-edgy-production-us-west-2/output/CASH_CONNECTED_GRAPH_CHANGE_EVENT/V3/date=2025-06-26/part-00004-84bc3b26-0792-43b6-bc7a-da5c3a9f0c45.c000.avro</td><td>part-00004-84bc3b26-0792-43b6-bc7a-da5c3a9f0c45.c000.avro</td><td>488</td><td>1751209323000</td></tr><tr><td>s3a://lakehouse-edgy-production-us-west-2/output/CASH_CONNECTED_GRAPH_CHANGE_EVENT/V3/date=2025-06-26/part-00004-8b0b9bed-b70e-4367-a8fe-532cb0f6a149.c000.avro</td><td>part-00004-8b0b9bed-b70e-4367-a8fe-532cb0f6a149.c000.avro</td><td>4188810</td><td>1750957356000</td></tr><tr><td>s3a://lakehouse-edgy-production-us-west-2/output/CASH_CONNECTED_GRAPH_CHANGE_EVENT/V3/date=2025-06-26/part-00004-8cb28728-d7da-419b-b78d-9561bdbb9fc4.c000.avro</td><td>part-00004-8cb28728-d7da-419b-b78d-9561bdbb9fc4.c000.avro</td><td>486</td><td>1751202343000</td></tr><tr><td>s3a://lakehouse-edgy-production-us-west-2/output/CASH_CONNECTED_GRAPH_CHANGE_EVENT/V3/date=2025-06-26/part-00004-8f92b7f4-511f-4db0-8b04-894c4eb7ea7b.c000.avro</td><td>part-00004-8f92b7f4-511f-4db0-8b04-894c4eb7ea7b.c000.avro</td><td>1309</td><td>1751072604000</td></tr><tr><td>s3a://lakehouse-edgy-production-us-west-2/output/CASH_CONNECTED_GRAPH_CHANGE_EVENT/V3/date=2025-06-26/part-00004-9019aa7b-f2b4-42ef-8db6-5dfdfa6bee09.c000.avro</td><td>part-00004-9019aa7b-f2b4-42ef-8db6-5dfdfa6bee09.c000.avro</td><td>1048</td><td>1751076167000</td></tr><tr><td>s3a://lakehouse-edgy-production-us-west-2/output/CASH_CONNECTED_GRAPH_CHANGE_EVENT/V3/date=2025-06-26/part-00004-9826635e-933d-461d-9715-c69a2b202459.c000.avro</td><td>part-00004-9826635e-933d-461d-9715-c69a2b202459.c000.avro</td><td>3821759</td><td>1750950147000</td></tr><tr><td>s3a://lakehouse-edgy-production-us-west-2/output/CASH_CONNECTED_GRAPH_CHANGE_EVENT/V3/date=2025-06-26/part-00004-9e9038fa-fea9-4940-b110-496a605ca680.c000.avro</td><td>part-00004-9e9038fa-fea9-4940-b110-496a605ca680.c000.avro</td><td>5161880</td><td>1750971936000</td></tr><tr><td>s3a://lakehouse-edgy-production-us-west-2/output/CASH_CONNECTED_GRAPH_CHANGE_EVENT/V3/date=2025-06-26/part-00004-9e9cceca-f7d6-4c7a-8864-4410b5878b18.c000.avro</td><td>part-00004-9e9cceca-f7d6-4c7a-8864-4410b5878b18.c000.avro</td><td>497</td><td>1751094111000</td></tr><tr><td>s3a://lakehouse-edgy-production-us-west-2/output/CASH_CONNECTED_GRAPH_CHANGE_EVENT/V3/date=2025-06-26/part-00004-a0c6a94a-7f17-4ae4-bc74-e66fdcd465c0.c000.avro</td><td>part-00004-a0c6a94a-7f17-4ae4-bc74-e66fdcd465c0.c000.avro</td><td>866</td><td>1751252585000</td></tr><tr><td>s3a://lakehouse-edgy-production-us-west-2/output/CASH_CONNECTED_GRAPH_CHANGE_EVENT/V3/date=2025-06-26/part-00004-a12017bb-a7d8-4e46-9b07-85fe53833170.c000.avro</td><td>part-00004-a12017bb-a7d8-4e46-9b07-85fe53833170.c000.avro</td><td>613</td><td>1751187696000</td></tr><tr><td>s3a://lakehouse-edgy-production-us-west-2/output/CASH_CONNECTED_GRAPH_CHANGE_EVENT/V3/date=2025-06-26/part-00004-a329e30b-abff-49fb-804a-05e054499786.c000.avro</td><td>part-00004-a329e30b-abff-49fb-804a-05e054499786.c000.avro</td><td>488</td><td>1751216560000</td></tr><tr><td>s3a://lakehouse-edgy-production-us-west-2/output/CASH_CONNECTED_GRAPH_CHANGE_EVENT/V3/date=2025-06-26/part-00004-a474bc5a-8766-45c2-b04d-d5994f432540.c000.avro</td><td>part-00004-a474bc5a-8766-45c2-b04d-d5994f432540.c000.avro</td><td>881</td><td>1751230959000</td></tr><tr><td>s3a://lakehouse-edgy-production-us-west-2/output/CASH_CONNECTED_GRAPH_CHANGE_EVENT/V3/date=2025-06-26/part-00004-a73af22a-54b3-42c0-826d-d3ee9c83cc56.c000.avro</td><td>part-00004-a73af22a-54b3-42c0-826d-d3ee9c83cc56.c000.avro</td><td>1815</td><td>1751061751000</td></tr><tr><td>s3a://lakehouse-edgy-production-us-west-2/output/CASH_CONNECTED_GRAPH_CHANGE_EVENT/V3/date=2025-06-26/part-00004-aa4dcc15-5709-4bd3-b3a1-77383401195f.c000.avro</td><td>part-00004-aa4dcc15-5709-4bd3-b3a1-77383401195f.c000.avro</td><td>494</td><td>1751248925000</td></tr><tr><td>s3a://lakehouse-edgy-production-us-west-2/output/CASH_CONNECTED_GRAPH_CHANGE_EVENT/V3/date=2025-06-26/part-00004-ab794823-9fdf-4a6a-9915-66f30b4e28b6.c000.avro</td><td>part-00004-ab794823-9fdf-4a6a-9915-66f30b4e28b6.c000.avro</td><td>2122</td><td>1751047555000</td></tr><tr><td>s3a://lakehouse-edgy-production-us-west-2/output/CASH_CONNECTED_GRAPH_CHANGE_EVENT/V3/date=2025-06-26/part-00004-ab8f4af8-238f-440f-b175-e93ec2fa7a79.c000.avro</td><td>part-00004-ab8f4af8-238f-440f-b175-e93ec2fa7a79.c000.avro</td><td>871</td><td>1751112131000</td></tr><tr><td>s3a://lakehouse-edgy-production-us-west-2/output/CASH_CONNECTED_GRAPH_CHANGE_EVENT/V3/date=2025-06-26/part-00004-ae9d6512-c73a-4c14-92a3-62480ea1f433.c000.avro</td><td>part-00004-ae9d6512-c73a-4c14-92a3-62480ea1f433.c000.avro</td><td>1506</td><td>1751043916000</td></tr><tr><td>s3a://lakehouse-edgy-production-us-west-2/output/CASH_CONNECTED_GRAPH_CHANGE_EVENT/V3/date=2025-06-26/part-00004-b08a8411-c612-47bb-9cdd-f998bff1c6cd.c000.avro</td><td>part-00004-b08a8411-c612-47bb-9cdd-f998bff1c6cd.c000.avro</td><td>2045212</td><td>1750924916000</td></tr><tr><td>s3a://lakehouse-edgy-production-us-west-2/output/CASH_CONNECTED_GRAPH_CHANGE_EVENT/V3/date=2025-06-26/part-00004-b0cfad7d-7055-40b0-af5d-d8e3d0a7b3ba.c000.avro</td><td>part-00004-b0cfad7d-7055-40b0-af5d-d8e3d0a7b3ba.c000.avro</td><td>741</td><td>1751119393000</td></tr><tr><td>s3a://lakehouse-edgy-production-us-west-2/output/CASH_CONNECTED_GRAPH_CHANGE_EVENT/V3/date=2025-06-26/part-00004-b0f87489-c164-47d8-8105-e0c664226165.c000.avro</td><td>part-00004-b0f87489-c164-47d8-8105-e0c664226165.c000.avro</td><td>489</td><td>1751274120000</td></tr><tr><td>s3a://lakehouse-edgy-production-us-west-2/output/CASH_CONNECTED_GRAPH_CHANGE_EVENT/V3/date=2025-06-26/part-00004-b15686c0-2b4b-45f0-b37f-bf616bda4fbb.c000.avro</td><td>part-00004-b15686c0-2b4b-45f0-b37f-bf616bda4fbb.c000.avro</td><td>612</td><td>1751313768000</td></tr><tr><td>s3a://lakehouse-edgy-production-us-west-2/output/CASH_CONNECTED_GRAPH_CHANGE_EVENT/V3/date=2025-06-26/part-00004-b432c1ae-3175-475e-8898-df5dafe4188c.c000.avro</td><td>part-00004-b432c1ae-3175-475e-8898-df5dafe4188c.c000.avro</td><td>617</td><td>1751158949000</td></tr><tr><td>s3a://lakehouse-edgy-production-us-west-2/output/CASH_CONNECTED_GRAPH_CHANGE_EVENT/V3/date=2025-06-26/part-00004-b51a348a-dcbc-46ae-b5b1-00852618012c.c000.avro</td><td>part-00004-b51a348a-dcbc-46ae-b5b1-00852618012c.c000.avro</td><td>741</td><td>1751263336000</td></tr><tr><td>s3a://lakehouse-edgy-production-us-west-2/output/CASH_CONNECTED_GRAPH_CHANGE_EVENT/V3/date=2025-06-26/part-00004-b8dfbd1b-6ddc-4381-ad0d-ce67f058be86.c000.avro</td><td>part-00004-b8dfbd1b-6ddc-4381-ad0d-ce67f058be86.c000.avro</td><td>743</td><td>1751213110000</td></tr><tr><td>s3a://lakehouse-edgy-production-us-west-2/output/CASH_CONNECTED_GRAPH_CHANGE_EVENT/V3/date=2025-06-26/part-00004-bbb02862-7cd9-4d99-8a9e-b762df6dd422.c000.avro</td><td>part-00004-bbb02862-7cd9-4d99-8a9e-b762df6dd422.c000.avro</td><td>466</td><td>1751169901000</td></tr><tr><td>s3a://lakehouse-edgy-production-us-west-2/output/CASH_CONNECTED_GRAPH_CHANGE_EVENT/V3/date=2025-06-26/part-00004-bebf2d74-0aa9-4473-bd52-0d3eea04432b.c000.avro</td><td>part-00004-bebf2d74-0aa9-4473-bd52-0d3eea04432b.c000.avro</td><td>2233590</td><td>1750939311000</td></tr><tr><td>s3a://lakehouse-edgy-production-us-west-2/output/CASH_CONNECTED_GRAPH_CHANGE_EVENT/V3/date=2025-06-26/part-00004-c0305244-f3a1-4cc4-9bd0-6c14bb19ef59.c000.avro</td><td>part-00004-c0305244-f3a1-4cc4-9bd0-6c14bb19ef59.c000.avro</td><td>5036927</td><td>1750964556000</td></tr><tr><td>s3a://lakehouse-edgy-production-us-west-2/output/CASH_CONNECTED_GRAPH_CHANGE_EVENT/V3/date=2025-06-26/part-00004-c0ebdb1e-809b-42cf-b25a-4d901400fb9c.c000.avro</td><td>part-00004-c0ebdb1e-809b-42cf-b25a-4d901400fb9c.c000.avro</td><td>1393</td><td>1751033200000</td></tr><tr><td>s3a://lakehouse-edgy-production-us-west-2/output/CASH_CONNECTED_GRAPH_CHANGE_EVENT/V3/date=2025-06-26/part-00004-c39127e2-55aa-4bfa-b860-7cb7df7c0098.c000.avro</td><td>part-00004-c39127e2-55aa-4bfa-b860-7cb7df7c0098.c000.avro</td><td>616</td><td>1751115924000</td></tr><tr><td>s3a://lakehouse-edgy-production-us-west-2/output/CASH_CONNECTED_GRAPH_CHANGE_EVENT/V3/date=2025-06-26/part-00004-c6c21b95-31b2-46d2-b4f5-1111d390e777.c000.avro</td><td>part-00004-c6c21b95-31b2-46d2-b4f5-1111d390e777.c000.avro</td><td>4112956</td><td>1750899934000</td></tr><tr><td>s3a://lakehouse-edgy-production-us-west-2/output/CASH_CONNECTED_GRAPH_CHANGE_EVENT/V3/date=2025-06-26/part-00004-c7d2593d-8629-409c-92f3-2e6b03e7e72c.c000.avro</td><td>part-00004-c7d2593d-8629-409c-92f3-2e6b03e7e72c.c000.avro</td><td>3856370</td><td>1750954026000</td></tr><tr><td>s3a://lakehouse-edgy-production-us-west-2/output/CASH_CONNECTED_GRAPH_CHANGE_EVENT/V3/date=2025-06-26/part-00004-ce26d1cc-54ad-457f-9e99-aeeca8ab7d4b.c000.avro</td><td>part-00004-ce26d1cc-54ad-457f-9e99-aeeca8ab7d4b.c000.avro</td><td>3569423</td><td>1750942962000</td></tr><tr><td>s3a://lakehouse-edgy-production-us-west-2/output/CASH_CONNECTED_GRAPH_CHANGE_EVENT/V3/date=2025-06-26/part-00004-d13c8929-a1d8-4c2e-acc1-8d08a57e573d.c000.avro</td><td>part-00004-d13c8929-a1d8-4c2e-acc1-8d08a57e573d.c000.avro</td><td>492</td><td>1751223745000</td></tr><tr><td>s3a://lakehouse-edgy-production-us-west-2/output/CASH_CONNECTED_GRAPH_CHANGE_EVENT/V3/date=2025-06-26/part-00004-d263fc4f-2834-40fa-a57d-ca798feca3a1.c000.avro</td><td>part-00004-d263fc4f-2834-40fa-a57d-ca798feca3a1.c000.avro</td><td>792</td><td>1751025751000</td></tr><tr><td>s3a://lakehouse-edgy-production-us-west-2/output/CASH_CONNECTED_GRAPH_CHANGE_EVENT/V3/date=2025-06-26/part-00004-d55ca523-5059-4e49-bc93-c0d17ddd4e3d.c000.avro</td><td>part-00004-d55ca523-5059-4e49-bc93-c0d17ddd4e3d.c000.avro</td><td>982</td><td>1751065342000</td></tr><tr><td>s3a://lakehouse-edgy-production-us-west-2/output/CASH_CONNECTED_GRAPH_CHANGE_EVENT/V3/date=2025-06-26/part-00004-d5e7da69-f643-4a11-870e-b29dfbb00caa.c000.avro</td><td>part-00004-d5e7da69-f643-4a11-870e-b29dfbb00caa.c000.avro</td><td>5070709</td><td>1750975543000</td></tr><tr><td>s3a://lakehouse-edgy-production-us-west-2/output/CASH_CONNECTED_GRAPH_CHANGE_EVENT/V3/date=2025-06-26/part-00004-d7fc6fe6-26a8-4ec1-a5df-a72f4d6e088d.c000.avro</td><td>part-00004-d7fc6fe6-26a8-4ec1-a5df-a72f4d6e088d.c000.avro</td><td>2982127</td><td>1750910544000</td></tr><tr><td>s3a://lakehouse-edgy-production-us-west-2/output/CASH_CONNECTED_GRAPH_CHANGE_EVENT/V3/date=2025-06-26/part-00004-d94420ed-47c0-44e4-a9b3-69b27aa1bac2.c000.avro</td><td>part-00004-d94420ed-47c0-44e4-a9b3-69b27aa1bac2.c000.avro</td><td>2496</td><td>1751040330000</td></tr><tr><td>s3a://lakehouse-edgy-production-us-west-2/output/CASH_CONNECTED_GRAPH_CHANGE_EVENT/V3/date=2025-06-26/part-00004-da0d87b0-72aa-444a-bcca-8e374ef7ff6b.c000.avro</td><td>part-00004-da0d87b0-72aa-444a-bcca-8e374ef7ff6b.c000.avro</td><td>1100</td><td>1751245501000</td></tr><tr><td>s3a://lakehouse-edgy-production-us-west-2/output/CASH_CONNECTED_GRAPH_CHANGE_EVENT/V3/date=2025-06-26/part-00004-dea45248-9c79-4f34-858b-7194b637a56b.c000.avro</td><td>part-00004-dea45248-9c79-4f34-858b-7194b637a56b.c000.avro</td><td>1205</td><td>1751007970000</td></tr><tr><td>s3a://lakehouse-edgy-production-us-west-2/output/CASH_CONNECTED_GRAPH_CHANGE_EVENT/V3/date=2025-06-26/part-00004-def63112-984f-4e9d-b58a-e95032fa1798.c000.avro</td><td>part-00004-def63112-984f-4e9d-b58a-e95032fa1798.c000.avro</td><td>632</td><td>1751108530000</td></tr><tr><td>s3a://lakehouse-edgy-production-us-west-2/output/CASH_CONNECTED_GRAPH_CHANGE_EVENT/V3/date=2025-06-26/part-00004-e2267b7b-5576-4fdf-8537-faeba1960ee3.c000.avro</td><td>part-00004-e2267b7b-5576-4fdf-8537-faeba1960ee3.c000.avro</td><td>491</td><td>1751324563000</td></tr><tr><td>s3a://lakehouse-edgy-production-us-west-2/output/CASH_CONNECTED_GRAPH_CHANGE_EVENT/V3/date=2025-06-26/part-00004-e46d5bb2-bb9b-4ac3-a012-40b633779251.c000.avro</td><td>part-00004-e46d5bb2-bb9b-4ac3-a012-40b633779251.c000.avro</td><td>2494</td><td>1751058316000</td></tr><tr><td>s3a://lakehouse-edgy-production-us-west-2/output/CASH_CONNECTED_GRAPH_CHANGE_EVENT/V3/date=2025-06-26/part-00004-ea11b2a0-e451-4aec-b559-b2cd49ce1d87.c000.avro</td><td>part-00004-ea11b2a0-e451-4aec-b559-b2cd49ce1d87.c000.avro</td><td>620</td><td>1751151908000</td></tr><tr><td>s3a://lakehouse-edgy-production-us-west-2/output/CASH_CONNECTED_GRAPH_CHANGE_EVENT/V3/date=2025-06-26/part-00004-ecb38156-e4e2-4a8a-befa-8f8defe24281.c000.avro</td><td>part-00004-ecb38156-e4e2-4a8a-befa-8f8defe24281.c000.avro</td><td>895</td><td>1751317338000</td></tr><tr><td>s3a://lakehouse-edgy-production-us-west-2/output/CASH_CONNECTED_GRAPH_CHANGE_EVENT/V3/date=2025-06-26/part-00004-ef77b213-91a1-45b1-99f2-2936cabcd9b7.c000.avro</td><td>part-00004-ef77b213-91a1-45b1-99f2-2936cabcd9b7.c000.avro</td><td>1814</td><td>1751051147000</td></tr><tr><td>s3a://lakehouse-edgy-production-us-west-2/output/CASH_CONNECTED_GRAPH_CHANGE_EVENT/V3/date=2025-06-26/part-00004-f322c51c-7db4-4c92-af65-5a966eefa64f.c000.avro</td><td>part-00004-f322c51c-7db4-4c92-af65-5a966eefa64f.c000.avro</td><td>268736</td><td>1750896337000</td></tr><tr><td>s3a://lakehouse-edgy-production-us-west-2/output/CASH_CONNECTED_GRAPH_CHANGE_EVENT/V3/date=2025-06-26/part-00004-f3b8e113-c8d2-472a-83fd-01074eeeb08e.c000.avro</td><td>part-00004-f3b8e113-c8d2-472a-83fd-01074eeeb08e.c000.avro</td><td>1096</td><td>1751299589000</td></tr><tr><td>s3a://lakehouse-edgy-production-us-west-2/output/CASH_CONNECTED_GRAPH_CHANGE_EVENT/V3/date=2025-06-26/part-00004-f4f4f39a-91ed-4d00-97fd-854e552632ba.c000.avro</td><td>part-00004-f4f4f39a-91ed-4d00-97fd-854e552632ba.c000.avro</td><td>1022</td><td>1751241741000</td></tr><tr><td>s3a://lakehouse-edgy-production-us-west-2/output/CASH_CONNECTED_GRAPH_CHANGE_EVENT/V3/date=2025-06-26/part-00004-f9c617d6-0b89-434a-b036-7fb19b401707.c000.avro</td><td>part-00004-f9c617d6-0b89-434a-b036-7fb19b401707.c000.avro</td><td>2114522</td><td>1750935716000</td></tr><tr><td>s3a://lakehouse-edgy-production-us-west-2/output/CASH_CONNECTED_GRAPH_CHANGE_EVENT/V3/date=2025-06-26/part-00004-fb0c69e2-a38d-4ff6-b6ce-c0897559b0eb.c000.avro</td><td>part-00004-fb0c69e2-a38d-4ff6-b6ce-c0897559b0eb.c000.avro</td><td>1081</td><td>1751029339000</td></tr><tr><td>s3a://lakehouse-edgy-production-us-west-2/output/CASH_CONNECTED_GRAPH_CHANGE_EVENT/V3/date=2025-06-26/part-00004-feaaa7df-7bcd-4469-9503-a5fc18db2a0d.c000.avro</td><td>part-00004-feaaa7df-7bcd-4469-9503-a5fc18db2a0d.c000.avro</td><td>3390277</td><td>1750946552000</td></tr><tr><td>s3a://lakehouse-edgy-production-us-west-2/output/CASH_CONNECTED_GRAPH_CHANGE_EVENT/V3/date=2025-06-26/part-00004-febc1917-0ae2-4dab-9093-72f7db29aea7.c000.avro</td><td>part-00004-febc1917-0ae2-4dab-9093-72f7db29aea7.c000.avro</td><td>1101</td><td>1751144527000</td></tr><tr><td>s3a://lakehouse-edgy-production-us-west-2/output/CASH_CONNECTED_GRAPH_CHANGE_EVENT/V3/date=2025-06-26/part-00004-ffa2e743-5e9a-4288-bc41-8715ddd0d465.c000.avro</td><td>part-00004-ffa2e743-5e9a-4288-bc41-8715ddd0d465.c000.avro</td><td>3631942</td><td>1750921333000</td></tr><tr><td>s3a://lakehouse-edgy-production-us-west-2/output/CASH_CONNECTED_GRAPH_CHANGE_EVENT/V3/date=2025-06-26/part-00004-ffde44e8-d6ca-4737-a02b-307346509cca.c000.avro</td><td>part-00004-ffde44e8-d6ca-4737-a02b-307346509cca.c000.avro</td><td>4431852</td><td>1750979123000</td></tr><tr><td>s3a://lakehouse-edgy-production-us-west-2/output/CASH_CONNECTED_GRAPH_CHANGE_EVENT/V3/date=2025-06-26/part-00005-003612c4-0245-48a2-bf08-01d2b9572612.c000.avro</td><td>part-00005-003612c4-0245-48a2-bf08-01d2b9572612.c000.avro</td><td>753</td><td>1751281304000</td></tr><tr><td>s3a://lakehouse-edgy-production-us-west-2/output/CASH_CONNECTED_GRAPH_CHANGE_EVENT/V3/date=2025-06-26/part-00005-03e36b1d-0e50-4d10-bcf9-379a6e4a6439.c000.avro</td><td>part-00005-03e36b1d-0e50-4d10-bcf9-379a6e4a6439.c000.avro</td><td>744</td><td>1751245502000</td></tr><tr><td>s3a://lakehouse-edgy-production-us-west-2/output/CASH_CONNECTED_GRAPH_CHANGE_EVENT/V3/date=2025-06-26/part-00005-048bb494-d891-4ff6-b77f-b4a034da56d3.c000.avro</td><td>part-00005-048bb494-d891-4ff6-b77f-b4a034da56d3.c000.avro</td><td>3354009</td><td>1750914325000</td></tr><tr><td>s3a://lakehouse-edgy-production-us-west-2/output/CASH_CONNECTED_GRAPH_CHANGE_EVENT/V3/date=2025-06-26/part-00005-060e88a6-2b30-4d25-8ba2-f589000838cf.c000.avro</td><td>part-00005-060e88a6-2b30-4d25-8ba2-f589000838cf.c000.avro</td><td>738</td><td>1751317338000</td></tr><tr><td>s3a://lakehouse-edgy-production-us-west-2/output/CASH_CONNECTED_GRAPH_CHANGE_EVENT/V3/date=2025-06-26/part-00005-067f214b-89c9-4fc9-9c05-e63ebfd9e298.c000.avro</td><td>part-00005-067f214b-89c9-4fc9-9c05-e63ebfd9e298.c000.avro</td><td>1002</td><td>1751155329000</td></tr><tr><td>s3a://lakehouse-edgy-production-us-west-2/output/CASH_CONNECTED_GRAPH_CHANGE_EVENT/V3/date=2025-06-26/part-00005-082587b6-e1e5-4e0f-8e58-0494c4ce160b.c000.avro</td><td>part-00005-082587b6-e1e5-4e0f-8e58-0494c4ce160b.c000.avro</td><td>1693</td><td>1751036549000</td></tr><tr><td>s3a://lakehouse-edgy-production-us-west-2/output/CASH_CONNECTED_GRAPH_CHANGE_EVENT/V3/date=2025-06-26/part-00005-0adb3ef5-4b75-4e81-8050-946b9d28f00d.c000.avro</td><td>part-00005-0adb3ef5-4b75-4e81-8050-946b9d28f00d.c000.avro</td><td>1972528</td><td>1750928487000</td></tr><tr><td>s3a://lakehouse-edgy-production-us-west-2/output/CASH_CONNECTED_GRAPH_CHANGE_EVENT/V3/date=2025-06-26/part-00005-0c351204-4079-4949-9e24-c3b98284814a.c000.avro</td><td>part-00005-0c351204-4079-4949-9e24-c3b98284814a.c000.avro</td><td>4397585</td><td>1750979125000</td></tr><tr><td>s3a://lakehouse-edgy-production-us-west-2/output/CASH_CONNECTED_GRAPH_CHANGE_EVENT/V3/date=2025-06-26/part-00005-0c9a185a-5de3-4a8d-9fa5-eaf42d603e00.c000.avro</td><td>part-00005-0c9a185a-5de3-4a8d-9fa5-eaf42d603e00.c000.avro</td><td>745</td><td>1751259743000</td></tr><tr><td>s3a://lakehouse-edgy-production-us-west-2/output/CASH_CONNECTED_GRAPH_CHANGE_EVENT/V3/date=2025-06-26/part-00005-0e5e8249-46f3-443e-a9a8-d7dcfeb7ae16.c000.avro</td><td>part-00005-0e5e8249-46f3-443e-a9a8-d7dcfeb7ae16.c000.avro</td><td>751</td><td>1751144528000</td></tr><tr><td>s3a://lakehouse-edgy-production-us-west-2/output/CASH_CONNECTED_GRAPH_CHANGE_EVENT/V3/date=2025-06-26/part-00005-20d057ba-2c27-436c-8a58-b10063670ee5.c000.avro</td><td>part-00005-20d057ba-2c27-436c-8a58-b10063670ee5.c000.avro</td><td>621</td><td>1751313769000</td></tr><tr><td>s3a://lakehouse-edgy-production-us-west-2/output/CASH_CONNECTED_GRAPH_CHANGE_EVENT/V3/date=2025-06-26/part-00005-215c6d6f-acd2-4ced-b62d-3f96f30e61aa.c000.avro</td><td>part-00005-215c6d6f-acd2-4ced-b62d-3f96f30e61aa.c000.avro</td><td>1949</td><td>1750993347000</td></tr><tr><td>s3a://lakehouse-edgy-production-us-west-2/output/CASH_CONNECTED_GRAPH_CHANGE_EVENT/V3/date=2025-06-26/part-00005-226c0c39-4fb4-408c-bb73-954f85a60c63.c000.avro</td><td>part-00005-226c0c39-4fb4-408c-bb73-954f85a60c63.c000.avro</td><td>271421</td><td>1750896340000</td></tr><tr><td>s3a://lakehouse-edgy-production-us-west-2/output/CASH_CONNECTED_GRAPH_CHANGE_EVENT/V3/date=2025-06-26/part-00005-2527b5b9-6b69-4026-a0be-a53046b34eb9.c000.avro</td><td>part-00005-2527b5b9-6b69-4026-a0be-a53046b34eb9.c000.avro</td><td>1591</td><td>1751051146000</td></tr><tr><td>s3a://lakehouse-edgy-production-us-west-2/output/CASH_CONNECTED_GRAPH_CHANGE_EVENT/V3/date=2025-06-26/part-00005-2588a1a9-219b-47ed-ab37-79c2304e65e5.c000.avro</td><td>part-00005-2588a1a9-219b-47ed-ab37-79c2304e65e5.c000.avro</td><td>962</td><td>1751234537000</td></tr><tr><td>s3a://lakehouse-edgy-production-us-west-2/output/CASH_CONNECTED_GRAPH_CHANGE_EVENT/V3/date=2025-06-26/part-00005-267deb2d-d65d-4225-baa1-fc61386f3aa2.c000.avro</td><td>part-00005-267deb2d-d65d-4225-baa1-fc61386f3aa2.c000.avro</td><td>876</td><td>1751256118000</td></tr><tr><td>s3a://lakehouse-edgy-production-us-west-2/output/CASH_CONNECTED_GRAPH_CHANGE_EVENT/V3/date=2025-06-26/part-00005-290b5f23-2911-4b22-81ff-cdcd8b545608.c000.avro</td><td>part-00005-290b5f23-2911-4b22-81ff-cdcd8b545608.c000.avro</td><td>1389</td><td>1751000536000</td></tr><tr><td>s3a://lakehouse-edgy-production-us-west-2/output/CASH_CONNECTED_GRAPH_CHANGE_EVENT/V3/date=2025-06-26/part-00005-2abdfe8b-5b65-4816-aad9-4e27ea15ec1d.c000.avro</td><td>part-00005-2abdfe8b-5b65-4816-aad9-4e27ea15ec1d.c000.avro</td><td>1111</td><td>1751137367000</td></tr><tr><td>s3a://lakehouse-edgy-production-us-west-2/output/CASH_CONNECTED_GRAPH_CHANGE_EVENT/V3/date=2025-06-26/part-00005-2bcbf845-cccb-45e3-9842-5a908d2dddf9.c000.avro</td><td>part-00005-2bcbf845-cccb-45e3-9842-5a908d2dddf9.c000.avro</td><td>879</td><td>1751220129000</td></tr><tr><td>s3a://lakehouse-edgy-production-us-west-2/output/CASH_CONNECTED_GRAPH_CHANGE_EVENT/V3/date=2025-06-26/part-00005-2bfbeeb2-19ff-438b-9bc3-f9fde8664bf9.c000.avro</td><td>part-00005-2bfbeeb2-19ff-438b-9bc3-f9fde8664bf9.c000.avro</td><td>1462</td><td>1751040334000</td></tr><tr><td>s3a://lakehouse-edgy-production-us-west-2/output/CASH_CONNECTED_GRAPH_CHANGE_EVENT/V3/date=2025-06-26/part-00005-2c51b7ee-0eff-4de6-8c7c-5b91291ffe84.c000.avro</td><td>part-00005-2c51b7ee-0eff-4de6-8c7c-5b91291ffe84.c000.avro</td><td>491</td><td>1751274120000</td></tr><tr><td>s3a://lakehouse-edgy-production-us-west-2/output/CASH_CONNECTED_GRAPH_CHANGE_EVENT/V3/date=2025-06-26/part-00005-2c62ecb5-6b97-49e6-b7ad-deb7f732a028.c000.avro</td><td>part-00005-2c62ecb5-6b97-49e6-b7ad-deb7f732a028.c000.avro</td><td>3392499</td><td>1750946551000</td></tr><tr><td>s3a://lakehouse-edgy-production-us-west-2/output/CASH_CONNECTED_GRAPH_CHANGE_EVENT/V3/date=2025-06-26/part-00005-3004e1e5-9635-44a1-9730-a20a7b07966e.c000.avro</td><td>part-00005-3004e1e5-9635-44a1-9730-a20a7b07966e.c000.avro</td><td>737</td><td>1751180536000</td></tr><tr><td>s3a://lakehouse-edgy-production-us-west-2/output/CASH_CONNECTED_GRAPH_CHANGE_EVENT/V3/date=2025-06-26/part-00005-32a462ff-6711-4630-83c1-f620574417d1.c000.avro</td><td>part-00005-32a462ff-6711-4630-83c1-f620574417d1.c000.avro</td><td>493</td><td>1751198501000</td></tr><tr><td>s3a://lakehouse-edgy-production-us-west-2/output/CASH_CONNECTED_GRAPH_CHANGE_EVENT/V3/date=2025-06-26/part-00005-33351486-dd99-4d1a-a55c-6e95efccb89e.c000.avro</td><td>part-00005-33351486-dd99-4d1a-a55c-6e95efccb89e.c000.avro</td><td>776</td><td>1751083348000</td></tr><tr><td>s3a://lakehouse-edgy-production-us-west-2/output/CASH_CONNECTED_GRAPH_CHANGE_EVENT/V3/date=2025-06-26/part-00005-3448e188-33ef-4e78-a499-3abecd51f869.c000.avro</td><td>part-00005-3448e188-33ef-4e78-a499-3abecd51f869.c000.avro</td><td>614</td><td>1751270493000</td></tr><tr><td>s3a://lakehouse-edgy-production-us-west-2/output/CASH_CONNECTED_GRAPH_CHANGE_EVENT/V3/date=2025-06-26/part-00005-346b4364-0b65-41b9-8f1d-e0e0c053ae39.c000.avro</td><td>part-00005-346b4364-0b65-41b9-8f1d-e0e0c053ae39.c000.avro</td><td>894</td><td>1751216562000</td></tr><tr><td>s3a://lakehouse-edgy-production-us-west-2/output/CASH_CONNECTED_GRAPH_CHANGE_EVENT/V3/date=2025-06-26/part-00005-34f94830-091b-4085-b8d1-901a91e6fd0e.c000.avro</td><td>part-00005-34f94830-091b-4085-b8d1-901a91e6fd0e.c000.avro</td><td>638</td><td>1751094110000</td></tr><tr><td>s3a://lakehouse-edgy-production-us-west-2/output/CASH_CONNECTED_GRAPH_CHANGE_EVENT/V3/date=2025-06-26/part-00005-39933494-b24e-46ad-a864-35dde2078330.c000.avro</td><td>part-00005-39933494-b24e-46ad-a864-35dde2078330.c000.avro</td><td>618</td><td>1751090533000</td></tr><tr><td>s3a://lakehouse-edgy-production-us-west-2/output/CASH_CONNECTED_GRAPH_CHANGE_EVENT/V3/date=2025-06-26/part-00005-3ddca008-8162-477b-b993-db858edbd3c2.c000.avro</td><td>part-00005-3ddca008-8162-477b-b993-db858edbd3c2.c000.avro</td><td>5005357</td><td>1750964561000</td></tr><tr><td>s3a://lakehouse-edgy-production-us-west-2/output/CASH_CONNECTED_GRAPH_CHANGE_EVENT/V3/date=2025-06-26/part-00005-3e12d847-b51f-44ef-8076-58c81be2198d.c000.avro</td><td>part-00005-3e12d847-b51f-44ef-8076-58c81be2198d.c000.avro</td><td>873</td><td>1751126529000</td></tr><tr><td>s3a://lakehouse-edgy-production-us-west-2/output/CASH_CONNECTED_GRAPH_CHANGE_EVENT/V3/date=2025-06-26/part-00005-3f9c928b-3900-4e9f-b3b1-803aa2589efe.c000.avro</td><td>part-00005-3f9c928b-3900-4e9f-b3b1-803aa2589efe.c000.avro</td><td>5075443</td><td>1750975543000</td></tr><tr><td>s3a://lakehouse-edgy-production-us-west-2/output/CASH_CONNECTED_GRAPH_CHANGE_EVENT/V3/date=2025-06-26/part-00005-4397fa6f-403c-4f92-af70-972358733e42.c000.avro</td><td>part-00005-4397fa6f-403c-4f92-af70-972358733e42.c000.avro</td><td>493</td><td>1751176912000</td></tr><tr><td>s3a://lakehouse-edgy-production-us-west-2/output/CASH_CONNECTED_GRAPH_CHANGE_EVENT/V3/date=2025-06-26/part-00005-44ab475d-af6b-47a8-a893-a9716b418eb0.c000.avro</td><td>part-00005-44ab475d-af6b-47a8-a893-a9716b418eb0.c000.avro</td><td>509</td><td>1751263334000</td></tr><tr><td>s3a://lakehouse-edgy-production-us-west-2/output/CASH_CONNECTED_GRAPH_CHANGE_EVENT/V3/date=2025-06-26/part-00005-48d53e0b-36ce-42ab-92d9-d9b6653487aa.c000.avro</td><td>part-00005-48d53e0b-36ce-42ab-92d9-d9b6653487aa.c000.avro</td><td>748</td><td>1751320942000</td></tr><tr><td>s3a://lakehouse-edgy-production-us-west-2/output/CASH_CONNECTED_GRAPH_CHANGE_EVENT/V3/date=2025-06-26/part-00005-49684665-0a06-4a8c-a69b-dba9b33d60f8.c000.avro</td><td>part-00005-49684665-0a06-4a8c-a69b-dba9b33d60f8.c000.avro</td><td>4738907</td><td>1750968154000</td></tr><tr><td>s3a://lakehouse-edgy-production-us-west-2/output/CASH_CONNECTED_GRAPH_CHANGE_EVENT/V3/date=2025-06-26/part-00005-4a905f07-5a7a-4145-a061-1d16007ae979.c000.avro</td><td>part-00005-4a905f07-5a7a-4145-a061-1d16007ae979.c000.avro</td><td>964</td><td>1751029341000</td></tr><tr><td>s3a://lakehouse-edgy-production-us-west-2/output/CASH_CONNECTED_GRAPH_CHANGE_EVENT/V3/date=2025-06-26/part-00005-4afac713-132f-481e-9c87-86b4c4b29553.c000.avro</td><td>part-00005-4afac713-132f-481e-9c87-86b4c4b29553.c000.avro</td><td>739</td><td>1751213109000</td></tr><tr><td>s3a://lakehouse-edgy-production-us-west-2/output/CASH_CONNECTED_GRAPH_CHANGE_EVENT/V3/date=2025-06-26/part-00005-4b3053fb-1a61-43a6-8f21-5e97c964febb.c000.avro</td><td>part-00005-4b3053fb-1a61-43a6-8f21-5e97c964febb.c000.avro</td><td>1223</td><td>1751043915000</td></tr><tr><td>s3a://lakehouse-edgy-production-us-west-2/output/CASH_CONNECTED_GRAPH_CHANGE_EVENT/V3/date=2025-06-26/part-00005-4c7cbcd4-48ec-45c7-a563-a8144ede143b.c000.avro</td><td>part-00005-4c7cbcd4-48ec-45c7-a563-a8144ede143b.c000.avro</td><td>885</td><td>1751169904000</td></tr><tr><td>s3a://lakehouse-edgy-production-us-west-2/output/CASH_CONNECTED_GRAPH_CHANGE_EVENT/V3/date=2025-06-26/part-00005-4cf8ed96-569d-497d-8caf-fd1e83338791.c000.avro</td><td>part-00005-4cf8ed96-569d-497d-8caf-fd1e83338791.c000.avro</td><td>1754</td><td>1750996936000</td></tr><tr><td>s3a://lakehouse-edgy-production-us-west-2/output/CASH_CONNECTED_GRAPH_CHANGE_EVENT/V3/date=2025-06-26/part-00005-4e362281-3bf5-4d59-a195-c9375825b8c2.c000.avro</td><td>part-00005-4e362281-3bf5-4d59-a195-c9375825b8c2.c000.avro</td><td>1240</td><td>1751310171000</td></tr><tr><td>s3a://lakehouse-edgy-production-us-west-2/output/CASH_CONNECTED_GRAPH_CHANGE_EVENT/V3/date=2025-06-26/part-00005-4e6a4607-20bf-4332-ad25-33e9fee5c2ed.c000.avro</td><td>part-00005-4e6a4607-20bf-4332-ad25-33e9fee5c2ed.c000.avro</td><td>2041483</td><td>1750924914000</td></tr><tr><td>s3a://lakehouse-edgy-production-us-west-2/output/CASH_CONNECTED_GRAPH_CHANGE_EVENT/V3/date=2025-06-26/part-00005-4f05e932-ba24-490b-a065-a1a8ddd0e6ea.c000.avro</td><td>part-00005-4f05e932-ba24-490b-a065-a1a8ddd0e6ea.c000.avro</td><td>622</td><td>1751331739000</td></tr><tr><td>s3a://lakehouse-edgy-production-us-west-2/output/CASH_CONNECTED_GRAPH_CHANGE_EVENT/V3/date=2025-06-26/part-00005-53820d18-a794-44c1-b05e-2eacb6972034.c000.avro</td><td>part-00005-53820d18-a794-44c1-b05e-2eacb6972034.c000.avro</td><td>493</td><td>1751284938000</td></tr><tr><td>s3a://lakehouse-edgy-production-us-west-2/output/CASH_CONNECTED_GRAPH_CHANGE_EVENT/V3/date=2025-06-26/part-00005-582d40c8-694c-48fe-9f3b-f410e30b7770.c000.avro</td><td>part-00005-582d40c8-694c-48fe-9f3b-f410e30b7770.c000.avro</td><td>487</td><td>1751277691000</td></tr><tr><td>s3a://lakehouse-edgy-production-us-west-2/output/CASH_CONNECTED_GRAPH_CHANGE_EVENT/V3/date=2025-06-26/part-00005-592be80a-6827-47e2-beb4-e24b35a70984.c000.avro</td><td>part-00005-592be80a-6827-47e2-beb4-e24b35a70984.c000.avro</td><td>854</td><td>1751007970000</td></tr><tr><td>s3a://lakehouse-edgy-production-us-west-2/output/CASH_CONNECTED_GRAPH_CHANGE_EVENT/V3/date=2025-06-26/part-00005-5c423e91-2eb9-47f1-801f-64929fa7c728.c000.avro</td><td>part-00005-5c423e91-2eb9-47f1-801f-64929fa7c728.c000.avro</td><td>1203</td><td>1751047553000</td></tr><tr><td>s3a://lakehouse-edgy-production-us-west-2/output/CASH_CONNECTED_GRAPH_CHANGE_EVENT/V3/date=2025-06-26/part-00005-5d2b0378-d3ba-45e3-86b5-a8789fc9a151.c000.avro</td><td>part-00005-5d2b0378-d3ba-45e3-86b5-a8789fc9a151.c000.avro</td><td>3858089</td><td>1750954028000</td></tr><tr><td>s3a://lakehouse-edgy-production-us-west-2/output/CASH_CONNECTED_GRAPH_CHANGE_EVENT/V3/date=2025-06-26/part-00005-62b73151-9a2c-4e9a-bb55-2518dc08b748.c000.avro</td><td>part-00005-62b73151-9a2c-4e9a-bb55-2518dc08b748.c000.avro</td><td>886</td><td>1751151909000</td></tr><tr><td>s3a://lakehouse-edgy-production-us-west-2/output/CASH_CONNECTED_GRAPH_CHANGE_EVENT/V3/date=2025-06-26/part-00005-637d1197-3bba-4b79-b7a2-dca250cfb946.c000.avro</td><td>part-00005-637d1197-3bba-4b79-b7a2-dca250cfb946.c000.avro</td><td>1724646</td><td>1750932124000</td></tr><tr><td>s3a://lakehouse-edgy-production-us-west-2/output/CASH_CONNECTED_GRAPH_CHANGE_EVENT/V3/date=2025-06-26/part-00005-63f87aa8-931b-44f3-9d98-26bec5fa0bfa.c000.avro</td><td>part-00005-63f87aa8-931b-44f3-9d98-26bec5fa0bfa.c000.avro</td><td>3615776</td><td>1750982552000</td></tr><tr><td>s3a://lakehouse-edgy-production-us-west-2/output/CASH_CONNECTED_GRAPH_CHANGE_EVENT/V3/date=2025-06-26/part-00005-6493fe1b-13d5-4214-892d-9839be5ce410.c000.avro</td><td>part-00005-6493fe1b-13d5-4214-892d-9839be5ce410.c000.avro</td><td>622</td><td>1751025751000</td></tr><tr><td>s3a://lakehouse-edgy-production-us-west-2/output/CASH_CONNECTED_GRAPH_CHANGE_EVENT/V3/date=2025-06-26/part-00005-667b68b5-2f1d-47c8-9839-27d9745d68db.c000.avro</td><td>part-00005-667b68b5-2f1d-47c8-9839-27d9745d68db.c000.avro</td><td>730</td><td>1751141124000</td></tr><tr><td>s3a://lakehouse-edgy-production-us-west-2/output/CASH_CONNECTED_GRAPH_CHANGE_EVENT/V3/date=2025-06-26/part-00005-6eace038-300d-4085-ad9e-e8bb354f08c9.c000.avro</td><td>part-00005-6eace038-300d-4085-ad9e-e8bb354f08c9.c000.avro</td><td>602</td><td>1751295761000</td></tr><tr><td>s3a://lakehouse-edgy-production-us-west-2/output/CASH_CONNECTED_GRAPH_CHANGE_EVENT/V3/date=2025-06-26/part-00005-70e417de-4b0e-4500-a742-a71fecca14e3.c000.avro</td><td>part-00005-70e417de-4b0e-4500-a742-a71fecca14e3.c000.avro</td><td>1206</td><td>1751223745000</td></tr><tr><td>s3a://lakehouse-edgy-production-us-west-2/output/CASH_CONNECTED_GRAPH_CHANGE_EVENT/V3/date=2025-06-26/part-00005-712fa3d9-b58d-4fa2-ab97-fa98d8abace1.c000.avro</td><td>part-00005-712fa3d9-b58d-4fa2-ab97-fa98d8abace1.c000.avro</td><td>3592204</td><td>1750942963000</td></tr><tr><td>s3a://lakehouse-edgy-production-us-west-2/output/CASH_CONNECTED_GRAPH_CHANGE_EVENT/V3/date=2025-06-26/part-00005-7315eb47-16dc-44c3-8ab0-bc032b4e0317.c000.avro</td><td>part-00005-7315eb47-16dc-44c3-8ab0-bc032b4e0317.c000.avro</td><td>997</td><td>1751014918000</td></tr><tr><td>s3a://lakehouse-edgy-production-us-west-2/output/CASH_CONNECTED_GRAPH_CHANGE_EVENT/V3/date=2025-06-26/part-00005-77afd6e8-ae99-4a8b-831a-fcd42b8a86a0.c000.avro</td><td>part-00005-77afd6e8-ae99-4a8b-831a-fcd42b8a86a0.c000.avro</td><td>1137</td><td>1751079732000</td></tr><tr><td>s3a://lakehouse-edgy-production-us-west-2/output/CASH_CONNECTED_GRAPH_CHANGE_EVENT/V3/date=2025-06-26/part-00005-7bdc7fe1-b43f-40ce-b38a-efd160e65979.c000.avro</td><td>part-00005-7bdc7fe1-b43f-40ce-b38a-efd160e65979.c000.avro</td><td>1336</td><td>1751065341000</td></tr><tr><td>s3a://lakehouse-edgy-production-us-west-2/output/CASH_CONNECTED_GRAPH_CHANGE_EVENT/V3/date=2025-06-26/part-00005-8318f794-617f-48ce-8c8f-2793b9c04bc7.c000.avro</td><td>part-00005-8318f794-617f-48ce-8c8f-2793b9c04bc7.c000.avro</td><td>3356344</td><td>1750906965000</td></tr><tr><td>s3a://lakehouse-edgy-production-us-west-2/output/CASH_CONNECTED_GRAPH_CHANGE_EVENT/V3/date=2025-06-26/part-00005-86062455-e7ca-44ff-ad6c-3dcd91dee621.c000.avro</td><td>part-00005-86062455-e7ca-44ff-ad6c-3dcd91dee621.c000.avro</td><td>890</td><td>1751087107000</td></tr><tr><td>s3a://lakehouse-edgy-production-us-west-2/output/CASH_CONNECTED_GRAPH_CHANGE_EVENT/V3/date=2025-06-26/part-00005-88328ec1-b3d7-43a3-b193-b11ce49347c5.c000.avro</td><td>part-00005-88328ec1-b3d7-43a3-b193-b11ce49347c5.c000.avro</td><td>1243</td><td>1751072604000</td></tr><tr><td>s3a://lakehouse-edgy-production-us-west-2/output/CASH_CONNECTED_GRAPH_CHANGE_EVENT/V3/date=2025-06-26/part-00005-8bbe3e63-7879-42e8-b112-326e1e44ef46.c000.avro</td><td>part-00005-8bbe3e63-7879-42e8-b112-326e1e44ef46.c000.avro</td><td>1246</td><td>1751061753000</td></tr><tr><td>s3a://lakehouse-edgy-production-us-west-2/output/CASH_CONNECTED_GRAPH_CHANGE_EVENT/V3/date=2025-06-26/part-00005-8c688827-7c58-4d7d-a2cb-5da38d469495.c000.avro</td><td>part-00005-8c688827-7c58-4d7d-a2cb-5da38d469495.c000.avro</td><td>613</td><td>1751158948000</td></tr><tr><td>s3a://lakehouse-edgy-production-us-west-2/output/CASH_CONNECTED_GRAPH_CHANGE_EVENT/V3/date=2025-06-26/part-00005-8c72e0f8-5828-43f2-ac40-fb8338e86ee8.c000.avro</td><td>part-00005-8c72e0f8-5828-43f2-ac40-fb8338e86ee8.c000.avro</td><td>845</td><td>1751166347000</td></tr><tr><td>s3a://lakehouse-edgy-production-us-west-2/output/CASH_CONNECTED_GRAPH_CHANGE_EVENT/V3/date=2025-06-26/part-00005-8cd2e5c7-097e-40f4-ab37-5e81a8e7ddbb.c000.avro</td><td>part-00005-8cd2e5c7-097e-40f4-ab37-5e81a8e7ddbb.c000.avro</td><td>491</td><td>1751205739000</td></tr><tr><td>s3a://lakehouse-edgy-production-us-west-2/output/CASH_CONNECTED_GRAPH_CHANGE_EVENT/V3/date=2025-06-26/part-00005-9514fc7b-6864-4716-82c7-905370ea94f8.c000.avro</td><td>part-00005-9514fc7b-6864-4716-82c7-905370ea94f8.c000.avro</td><td>4780</td><td>1750986150000</td></tr><tr><td>s3a://lakehouse-edgy-production-us-west-2/output/CASH_CONNECTED_GRAPH_CHANGE_EVENT/V3/date=2025-06-26/part-00005-959eae6b-a906-45de-b0f5-f2efdc990d23.c000.avro</td><td>part-00005-959eae6b-a906-45de-b0f5-f2efdc990d23.c000.avro</td><td>619</td><td>1751011309000</td></tr><tr><td>s3a://lakehouse-edgy-production-us-west-2/output/CASH_CONNECTED_GRAPH_CHANGE_EVENT/V3/date=2025-06-26/part-00005-973e3cea-8104-4a34-a7c2-530e1d633972.c000.avro</td><td>part-00005-973e3cea-8104-4a34-a7c2-530e1d633972.c000.avro</td><td>634</td><td>1751122936000</td></tr><tr><td>s3a://lakehouse-edgy-production-us-west-2/output/CASH_CONNECTED_GRAPH_CHANGE_EVENT/V3/date=2025-06-26/part-00005-974d6c94-3b7a-4074-bfe1-2db774fe0bfb.c000.avro</td><td>part-00005-974d6c94-3b7a-4074-bfe1-2db774fe0bfb.c000.avro</td><td>3820708</td><td>1750950149000</td></tr><tr><td>s3a://lakehouse-edgy-production-us-west-2/output/CASH_CONNECTED_GRAPH_CHANGE_EVENT/V3/date=2025-06-26/part-00005-996ceb29-bb95-4597-ae24-bbe7dcc0948c.c000.avro</td><td>part-00005-996ceb29-bb95-4597-ae24-bbe7dcc0948c.c000.avro</td><td>1266</td><td>1751328145000</td></tr><tr><td>s3a://lakehouse-edgy-production-us-west-2/output/CASH_CONNECTED_GRAPH_CHANGE_EVENT/V3/date=2025-06-26/part-00005-9bed3381-2687-4eb7-b4c8-3b6ee607150c.c000.avro</td><td>part-00005-9bed3381-2687-4eb7-b4c8-3b6ee607150c.c000.avro</td><td>904</td><td>1751252586000</td></tr><tr><td>s3a://lakehouse-edgy-production-us-west-2/output/CASH_CONNECTED_GRAPH_CHANGE_EVENT/V3/date=2025-06-26/part-00005-9d119213-64a8-4fb9-9d87-e301cd570835.c000.avro</td><td>part-00005-9d119213-64a8-4fb9-9d87-e301cd570835.c000.avro</td><td>495</td><td>1751112130000</td></tr><tr><td>s3a://lakehouse-edgy-production-us-west-2/output/CASH_CONNECTED_GRAPH_CHANGE_EVENT/V3/date=2025-06-26/part-00005-a27b85df-07d3-4ff2-8b45-6b8507268f1a.c000.avro</td><td>part-00005-a27b85df-07d3-4ff2-8b45-6b8507268f1a.c000.avro</td><td>3170</td><td>1750989750000</td></tr><tr><td>s3a://lakehouse-edgy-production-us-west-2/output/CASH_CONNECTED_GRAPH_CHANGE_EVENT/V3/date=2025-06-26/part-00005-a2d47e1f-bb29-4965-b068-c197de9cd153.c000.avro</td><td>part-00005-a2d47e1f-bb29-4965-b068-c197de9cd153.c000.avro</td><td>619</td><td>1751209324000</td></tr><tr><td>s3a://lakehouse-edgy-production-us-west-2/output/CASH_CONNECTED_GRAPH_CHANGE_EVENT/V3/date=2025-06-26/part-00005-a3b3af1c-ad7c-4678-8df6-967150c5fd19.c000.avro</td><td>part-00005-a3b3af1c-ad7c-4678-8df6-967150c5fd19.c000.avro</td><td>5190204</td><td>1750971933000</td></tr><tr><td>s3a://lakehouse-edgy-production-us-west-2/output/CASH_CONNECTED_GRAPH_CHANGE_EVENT/V3/date=2025-06-26/part-00005-aaa03f69-7c44-46bc-a728-27b3ef1b058f.c000.avro</td><td>part-00005-aaa03f69-7c44-46bc-a728-27b3ef1b058f.c000.avro</td><td>858</td><td>1751076165000</td></tr><tr><td>s3a://lakehouse-edgy-production-us-west-2/output/CASH_CONNECTED_GRAPH_CHANGE_EVENT/V3/date=2025-06-26/part-00005-ab017b41-a51b-4324-b434-bd55f6e1b5be.c000.avro</td><td>part-00005-ab017b41-a51b-4324-b434-bd55f6e1b5be.c000.avro</td><td>620</td><td>1751115923000</td></tr><tr><td>s3a://lakehouse-edgy-production-us-west-2/output/CASH_CONNECTED_GRAPH_CHANGE_EVENT/V3/date=2025-06-26/part-00005-ab925d76-5be4-48b7-9c20-727e59a76170.c000.avro</td><td>part-00005-ab925d76-5be4-48b7-9c20-727e59a76170.c000.avro</td><td>737</td><td>1751306710000</td></tr><tr><td>s3a://lakehouse-edgy-production-us-west-2/output/CASH_CONNECTED_GRAPH_CHANGE_EVENT/V3/date=2025-06-26/part-00005-b06cf205-ed6b-4cc6-b218-4b8e6293d0c1.c000.avro</td><td>part-00005-b06cf205-ed6b-4cc6-b218-4b8e6293d0c1.c000.avro</td><td>879</td><td>1751227328000</td></tr><tr><td>s3a://lakehouse-edgy-production-us-west-2/output/CASH_CONNECTED_GRAPH_CHANGE_EVENT/V3/date=2025-06-26/part-00005-b0b8bb5c-dc19-48f4-91ba-8568751e43b6.c000.avro</td><td>part-00005-b0b8bb5c-dc19-48f4-91ba-8568751e43b6.c000.avro</td><td>3623644</td><td>1750921333000</td></tr><tr><td>s3a://lakehouse-edgy-production-us-west-2/output/CASH_CONNECTED_GRAPH_CHANGE_EVENT/V3/date=2025-06-26/part-00005-b23208c0-efc3-4bb8-92ce-8501dff7692d.c000.avro</td><td>part-00005-b23208c0-efc3-4bb8-92ce-8501dff7692d.c000.avro</td><td>617</td><td>1751022116000</td></tr><tr><td>s3a://lakehouse-edgy-production-us-west-2/output/CASH_CONNECTED_GRAPH_CHANGE_EVENT/V3/date=2025-06-26/part-00005-b7adc726-2933-4450-8abb-c8a569fa5244.c000.avro</td><td>part-00005-b7adc726-2933-4450-8abb-c8a569fa5244.c000.avro</td><td>486</td><td>1751173391000</td></tr><tr><td>s3a://lakehouse-edgy-production-us-west-2/output/CASH_CONNECTED_GRAPH_CHANGE_EVENT/V3/date=2025-06-26/part-00005-b97ea2af-cb76-428d-9c54-a7e486c971eb.c000.avro</td><td>part-00005-b97ea2af-cb76-428d-9c54-a7e486c971eb.c000.avro</td><td>864</td><td>1751004123000</td></tr><tr><td>s3a://lakehouse-edgy-production-us-west-2/output/CASH_CONNECTED_GRAPH_CHANGE_EVENT/V3/date=2025-06-26/part-00005-ba9c5cb9-504d-461f-b47c-ea6020918be1.c000.avro</td><td>part-00005-ba9c5cb9-504d-461f-b47c-ea6020918be1.c000.avro</td><td>634</td><td>1751184134000</td></tr><tr><td>s3a://lakehouse-edgy-production-us-west-2/output/CASH_CONNECTED_GRAPH_CHANGE_EVENT/V3/date=2025-06-26/part-00005-bf10873d-0250-4672-8a28-57d20945db75.c000.avro</td><td>part-00005-bf10873d-0250-4672-8a28-57d20945db75.c000.avro</td><td>1129</td><td>1751324564000</td></tr><tr><td>s3a://lakehouse-edgy-production-us-west-2/output/CASH_CONNECTED_GRAPH_CHANGE_EVENT/V3/date=2025-06-26/part-00005-c392b4a1-7c18-43d6-801d-d7b94faa01d7.c000.avro</td><td>part-00005-c392b4a1-7c18-43d6-801d-d7b94faa01d7.c000.avro</td><td>859</td><td>1751119395000</td></tr><tr><td>s3a://lakehouse-edgy-production-us-west-2/output/CASH_CONNECTED_GRAPH_CHANGE_EVENT/V3/date=2025-06-26/part-00005-c52bb637-07f3-402e-8ab6-f923de059357.c000.avro</td><td>part-00005-c52bb637-07f3-402e-8ab6-f923de059357.c000.avro</td><td>859</td><td>1751230960000</td></tr><tr><td>s3a://lakehouse-edgy-production-us-west-2/output/CASH_CONNECTED_GRAPH_CHANGE_EVENT/V3/date=2025-06-26/part-00005-c58d3d64-26b9-46cd-afee-6833ad3067b7.c000.avro</td><td>part-00005-c58d3d64-26b9-46cd-afee-6833ad3067b7.c000.avro</td><td>4531406</td><td>1750960962000</td></tr><tr><td>s3a://lakehouse-edgy-production-us-west-2/output/CASH_CONNECTED_GRAPH_CHANGE_EVENT/V3/date=2025-06-26/part-00005-c8b7d359-5a10-497e-949c-0765a8cf7207.c000.avro</td><td>part-00005-c8b7d359-5a10-497e-949c-0765a8cf7207.c000.avro</td><td>2985456</td><td>1750910543000</td></tr><tr><td>s3a://lakehouse-edgy-production-us-west-2/output/CASH_CONNECTED_GRAPH_CHANGE_EVENT/V3/date=2025-06-26/part-00005-cd3c1b69-5765-4985-be8b-be755c70ef42.c000.avro</td><td>part-00005-cd3c1b69-5765-4985-be8b-be755c70ef42.c000.avro</td><td>4182311</td><td>1750957357000</td></tr><tr><td>s3a://lakehouse-edgy-production-us-west-2/output/CASH_CONNECTED_GRAPH_CHANGE_EVENT/V3/date=2025-06-26/part-00005-cee7eec9-6f1e-40e2-9e21-e7cb85742a5f.c000.avro</td><td>part-00005-cee7eec9-6f1e-40e2-9e21-e7cb85742a5f.c000.avro</td><td>1740</td><td>1751058317000</td></tr><tr><td>s3a://lakehouse-edgy-production-us-west-2/output/CASH_CONNECTED_GRAPH_CHANGE_EVENT/V3/date=2025-06-26/part-00005-d16e3b3c-43a1-4529-8d57-d25e32cd155f.c000.avro</td><td>part-00005-d16e3b3c-43a1-4529-8d57-d25e32cd155f.c000.avro</td><td>656</td><td>1751018523000</td></tr><tr><td>s3a://lakehouse-edgy-production-us-west-2/output/CASH_CONNECTED_GRAPH_CHANGE_EVENT/V3/date=2025-06-26/part-00005-d5656ccf-cd0b-4f4b-bc10-1dc98cb8b5af.c000.avro</td><td>part-00005-d5656ccf-cd0b-4f4b-bc10-1dc98cb8b5af.c000.avro</td><td>904</td><td>1751241744000</td></tr><tr><td>s3a://lakehouse-edgy-production-us-west-2/output/CASH_CONNECTED_GRAPH_CHANGE_EVENT/V3/date=2025-06-26/part-00005-d5d0d908-571a-4d8b-9dba-8923a609f3a3.c000.avro</td><td>part-00005-d5d0d908-571a-4d8b-9dba-8923a609f3a3.c000.avro</td><td>736</td><td>1751303134000</td></tr><tr><td>s3a://lakehouse-edgy-production-us-west-2/output/CASH_CONNECTED_GRAPH_CHANGE_EVENT/V3/date=2025-06-26/part-00005-dc5e95f3-cd64-4c64-babe-d996e3cb8c2a.c000.avro</td><td>part-00005-dc5e95f3-cd64-4c64-babe-d996e3cb8c2a.c000.avro</td><td>2965822</td><td>1750917765000</td></tr><tr><td>s3a://lakehouse-edgy-production-us-west-2/output/CASH_CONNECTED_GRAPH_CHANGE_EVENT/V3/date=2025-06-26/part-00005-e17bc85c-9cb8-463d-aefd-f9f18141d712.c000.avro</td><td>part-00005-e17bc85c-9cb8-463d-aefd-f9f18141d712.c000.avro</td><td>2252889</td><td>1750939309000</td></tr><tr><td>s3a://lakehouse-edgy-production-us-west-2/output/CASH_CONNECTED_GRAPH_CHANGE_EVENT/V3/date=2025-06-26/part-00005-e25f68d6-e41f-4a42-8b03-6a2193e37df9.c000.avro</td><td>part-00005-e25f68d6-e41f-4a42-8b03-6a2193e37df9.c000.avro</td><td>1076</td><td>1751133771000</td></tr><tr><td>s3a://lakehouse-edgy-production-us-west-2/output/CASH_CONNECTED_GRAPH_CHANGE_EVENT/V3/date=2025-06-26/part-00005-e49316e5-ee11-4c2b-a58d-85ba62d8aa1f.c000.avro</td><td>part-00005-e49316e5-ee11-4c2b-a58d-85ba62d8aa1f.c000.avro</td><td>486</td><td>1751202342000</td></tr><tr><td>s3a://lakehouse-edgy-production-us-west-2/output/CASH_CONNECTED_GRAPH_CHANGE_EVENT/V3/date=2025-06-26/part-00005-e51f05a8-d76d-41cc-8d44-4535b3cd743f.c000.avro</td><td>part-00005-e51f05a8-d76d-41cc-8d44-4535b3cd743f.c000.avro</td><td>4051363</td><td>1750903393000</td></tr><tr><td>s3a://lakehouse-edgy-production-us-west-2/output/CASH_CONNECTED_GRAPH_CHANGE_EVENT/V3/date=2025-06-26/part-00005-e5455ac0-2be8-42bd-9d1e-1b5fb3c67a44.c000.avro</td><td>part-00005-e5455ac0-2be8-42bd-9d1e-1b5fb3c67a44.c000.avro</td><td>629</td><td>1751238331000</td></tr><tr><td>s3a://lakehouse-edgy-production-us-west-2/output/CASH_CONNECTED_GRAPH_CHANGE_EVENT/V3/date=2025-06-26/part-00005-e54bfeb3-9e97-4b09-8b87-5be841b23414.c000.avro</td><td>part-00005-e54bfeb3-9e97-4b09-8b87-5be841b23414.c000.avro</td><td>884</td><td>1751148142000</td></tr><tr><td>s3a://lakehouse-edgy-production-us-west-2/output/CASH_CONNECTED_GRAPH_CHANGE_EVENT/V3/date=2025-06-26/part-00005-e5b1fb61-1b0b-43b0-8970-875ac95f6897.c000.avro</td><td>part-00005-e5b1fb61-1b0b-43b0-8970-875ac95f6897.c000.avro</td><td>1116</td><td>1751130369000</td></tr><tr><td>s3a://lakehouse-edgy-production-us-west-2/output/CASH_CONNECTED_GRAPH_CHANGE_EVENT/V3/date=2025-06-26/part-00005-e7e8e09e-7eb4-4b67-aad2-cb5c5c7fbe97.c000.avro</td><td>part-00005-e7e8e09e-7eb4-4b67-aad2-cb5c5c7fbe97.c000.avro</td><td>1706</td><td>1751033196000</td></tr><tr><td>s3a://lakehouse-edgy-production-us-west-2/output/CASH_CONNECTED_GRAPH_CHANGE_EVENT/V3/date=2025-06-26/part-00005-ef7a0c0f-57bb-4a77-97f2-05d87965b998.c000.avro</td><td>part-00005-ef7a0c0f-57bb-4a77-97f2-05d87965b998.c000.avro</td><td>1454</td><td>1751054555000</td></tr><tr><td>s3a://lakehouse-edgy-production-us-west-2/output/CASH_CONNECTED_GRAPH_CHANGE_EVENT/V3/date=2025-06-26/part-00005-f0bf6a9f-29f7-4aba-a884-c0373d0b38b3.c000.avro</td><td>part-00005-f0bf6a9f-29f7-4aba-a884-c0373d0b38b3.c000.avro</td><td>4124962</td><td>1750899935000</td></tr><tr><td>s3a://lakehouse-edgy-production-us-west-2/output/CASH_CONNECTED_GRAPH_CHANGE_EVENT/V3/date=2025-06-26/part-00005-f35be552-53cd-438d-b289-93e0d3e86478.c000.avro</td><td>part-00005-f35be552-53cd-438d-b289-93e0d3e86478.c000.avro</td><td>1704</td><td>1751068944000</td></tr><tr><td>s3a://lakehouse-edgy-production-us-west-2/output/CASH_CONNECTED_GRAPH_CHANGE_EVENT/V3/date=2025-06-26/part-00005-fad22e1e-09e2-4b92-bfc7-19de8863a471.c000.avro</td><td>part-00005-fad22e1e-09e2-4b92-bfc7-19de8863a471.c000.avro</td><td>2115188</td><td>1750935717000</td></tr><tr><td>s3a://lakehouse-edgy-production-us-west-2/output/CASH_CONNECTED_GRAPH_CHANGE_EVENT/V3/date=2025-06-26/part-00005-fb67e060-a0ee-4b63-b87d-caa2d46ad836.c000.avro</td><td>part-00005-fb67e060-a0ee-4b63-b87d-caa2d46ad836.c000.avro</td><td>617</td><td>1751162537000</td></tr><tr><td>s3a://lakehouse-edgy-production-us-west-2/output/CASH_CONNECTED_GRAPH_CHANGE_EVENT/V3/date=2025-06-26/part-00005-fbb8b8ec-71af-4b3e-a702-b33a1d7d1c62.c000.avro</td><td>part-00005-fbb8b8ec-71af-4b3e-a702-b33a1d7d1c62.c000.avro</td><td>865</td><td>1751248931000</td></tr><tr><td>s3a://lakehouse-edgy-production-us-west-2/output/CASH_CONNECTED_GRAPH_CHANGE_EVENT/V3/date=2025-06-26/part-00005-fc546576-029c-4099-8db7-8116d06e20ac.c000.avro</td><td>part-00005-fc546576-029c-4099-8db7-8116d06e20ac.c000.avro</td><td>618</td><td>1751101311000</td></tr></tbody></table></div>"
      ]
     },
     "metadata": {
      "application/vnd.databricks.v1+output": {
       "addedWidgets": {},
       "aggData": [],
       "aggError": "",
       "aggOverflow": false,
       "aggSchema": [],
       "aggSeriesLimitReached": false,
       "aggType": "",
       "arguments": {},
       "columnCustomDisplayInfos": {},
       "data": [
        [
         "s3a://lakehouse-edgy-production-us-west-2/output/CASH_CONNECTED_GRAPH_CHANGE_EVENT/V3/date=2025-06-26/part-00000-041074d3-f65d-45d3-843f-bf082eefab35.c000.avro",
         "part-00000-041074d3-f65d-45d3-843f-bf082eefab35.c000.avro",
         1826,
         1751047553000
        ],
        [
         "s3a://lakehouse-edgy-production-us-west-2/output/CASH_CONNECTED_GRAPH_CHANGE_EVENT/V3/date=2025-06-26/part-00000-062796e6-31b2-4be7-aff4-58b26f5f407b.c000.avro",
         "part-00000-062796e6-31b2-4be7-aff4-58b26f5f407b.c000.avro",
         3811555,
         1750950148000
        ],
        [
         "s3a://lakehouse-edgy-production-us-west-2/output/CASH_CONNECTED_GRAPH_CHANGE_EVENT/V3/date=2025-06-26/part-00000-068d22f1-6d71-49cd-8fc2-1fcdd45ba248.c000.avro",
         "part-00000-068d22f1-6d71-49cd-8fc2-1fcdd45ba248.c000.avro",
         615,
         1751248928000
        ],
        [
         "s3a://lakehouse-edgy-production-us-west-2/output/CASH_CONNECTED_GRAPH_CHANGE_EVENT/V3/date=2025-06-26/part-00000-0fdfbec1-7648-4cb9-9a5f-b91af1162243.c000.avro",
         "part-00000-0fdfbec1-7648-4cb9-9a5f-b91af1162243.c000.avro",
         752,
         1751137366000
        ],
        [
         "s3a://lakehouse-edgy-production-us-west-2/output/CASH_CONNECTED_GRAPH_CHANGE_EVENT/V3/date=2025-06-26/part-00000-116b75f3-7e41-4922-a927-59e60f2b23a7.c000.avro",
         "part-00000-116b75f3-7e41-4922-a927-59e60f2b23a7.c000.avro",
         1638,
         1751065342000
        ],
        [
         "s3a://lakehouse-edgy-production-us-west-2/output/CASH_CONNECTED_GRAPH_CHANGE_EVENT/V3/date=2025-06-26/part-00000-11bbfcdb-c816-44d7-b894-7a63d1163d73.c000.avro",
         "part-00000-11bbfcdb-c816-44d7-b894-7a63d1163d73.c000.avro",
         760,
         1751011310000
        ],
        [
         "s3a://lakehouse-edgy-production-us-west-2/output/CASH_CONNECTED_GRAPH_CHANGE_EVENT/V3/date=2025-06-26/part-00000-1b803605-c714-4889-b95d-b17403fa6ad6.c000.avro",
         "part-00000-1b803605-c714-4889-b95d-b17403fa6ad6.c000.avro",
         607,
         1751331740000
        ],
        [
         "s3a://lakehouse-edgy-production-us-west-2/output/CASH_CONNECTED_GRAPH_CHANGE_EVENT/V3/date=2025-06-26/part-00000-1bd4e974-2a08-4954-8612-e18dab309b23.c000.avro",
         "part-00000-1bd4e974-2a08-4954-8612-e18dab309b23.c000.avro",
         764,
         1751259742000
        ],
        [
         "s3a://lakehouse-edgy-production-us-west-2/output/CASH_CONNECTED_GRAPH_CHANGE_EVENT/V3/date=2025-06-26/part-00000-1c620080-bd65-4070-8753-290ad68514ca.c000.avro",
         "part-00000-1c620080-bd65-4070-8753-290ad68514ca.c000.avro",
         884,
         1751169900000
        ],
        [
         "s3a://lakehouse-edgy-production-us-west-2/output/CASH_CONNECTED_GRAPH_CHANGE_EVENT/V3/date=2025-06-26/part-00000-1d24e4e4-5111-4f92-842b-d189959982af.c000.avro",
         "part-00000-1d24e4e4-5111-4f92-842b-d189959982af.c000.avro",
         745,
         1751270493000
        ],
        [
         "s3a://lakehouse-edgy-production-us-west-2/output/CASH_CONNECTED_GRAPH_CHANGE_EVENT/V3/date=2025-06-26/part-00000-1e219a3a-fa4c-4714-b1a0-48094fd3cbb1.c000.avro",
         "part-00000-1e219a3a-fa4c-4714-b1a0-48094fd3cbb1.c000.avro",
         492,
         1751281305000
        ],
        [
         "s3a://lakehouse-edgy-production-us-west-2/output/CASH_CONNECTED_GRAPH_CHANGE_EVENT/V3/date=2025-06-26/part-00000-1f99693d-c283-4b23-8c8e-2b07cfbe800a.c000.avro",
         "part-00000-1f99693d-c283-4b23-8c8e-2b07cfbe800a.c000.avro",
         1019,
         1751245501000
        ],
        [
         "s3a://lakehouse-edgy-production-us-west-2/output/CASH_CONNECTED_GRAPH_CHANGE_EVENT/V3/date=2025-06-26/part-00000-2128240d-14f5-4aac-b9c1-85542744f381.c000.avro",
         "part-00000-2128240d-14f5-4aac-b9c1-85542744f381.c000.avro",
         921,
         1751227329000
        ],
        [
         "s3a://lakehouse-edgy-production-us-west-2/output/CASH_CONNECTED_GRAPH_CHANGE_EVENT/V3/date=2025-06-26/part-00000-213ce985-4810-40e2-ade0-8a265829205a.c000.avro",
         "part-00000-213ce985-4810-40e2-ade0-8a265829205a.c000.avro",
         5018232,
         1750964559000
        ],
        [
         "s3a://lakehouse-edgy-production-us-west-2/output/CASH_CONNECTED_GRAPH_CHANGE_EVENT/V3/date=2025-06-26/part-00000-24da1cf7-ee70-4b0c-b1aa-b9c7378c5a97.c000.avro",
         "part-00000-24da1cf7-ee70-4b0c-b1aa-b9c7378c5a97.c000.avro",
         878,
         1751158951000
        ],
        [
         "s3a://lakehouse-edgy-production-us-west-2/output/CASH_CONNECTED_GRAPH_CHANGE_EVENT/V3/date=2025-06-26/part-00000-25ba2266-77f0-45cd-820e-283dc42e7a9c.c000.avro",
         "part-00000-25ba2266-77f0-45cd-820e-283dc42e7a9c.c000.avro",
         617,
         1751320939000
        ],
        [
         "s3a://lakehouse-edgy-production-us-west-2/output/CASH_CONNECTED_GRAPH_CHANGE_EVENT/V3/date=2025-06-26/part-00000-2686b88b-df12-44e5-9f67-d243959bf17d.c000.avro",
         "part-00000-2686b88b-df12-44e5-9f67-d243959bf17d.c000.avro",
         861,
         1751213108000
        ],
        [
         "s3a://lakehouse-edgy-production-us-west-2/output/CASH_CONNECTED_GRAPH_CHANGE_EVENT/V3/date=2025-06-26/part-00000-27b338c6-d626-4b3b-806c-c5bdc4d11e71.c000.avro",
         "part-00000-27b338c6-d626-4b3b-806c-c5bdc4d11e71.c000.avro",
         825,
         1751166347000
        ],
        [
         "s3a://lakehouse-edgy-production-us-west-2/output/CASH_CONNECTED_GRAPH_CHANGE_EVENT/V3/date=2025-06-26/part-00000-29e9cd08-9db2-4f03-af80-4f8af95dc78a.c000.avro",
         "part-00000-29e9cd08-9db2-4f03-af80-4f8af95dc78a.c000.avro",
         3381698,
         1750914323000
        ],
        [
         "s3a://lakehouse-edgy-production-us-west-2/output/CASH_CONNECTED_GRAPH_CHANGE_EVENT/V3/date=2025-06-26/part-00000-29feef13-9770-46f7-927a-314cec910e27.c000.avro",
         "part-00000-29feef13-9770-46f7-927a-314cec910e27.c000.avro",
         1971362,
         1750928487000
        ],
        [
         "s3a://lakehouse-edgy-production-us-west-2/output/CASH_CONNECTED_GRAPH_CHANGE_EVENT/V3/date=2025-06-26/part-00000-2b1282cf-2c96-4b68-bcfc-cae8c2f838ed.c000.avro",
         "part-00000-2b1282cf-2c96-4b68-bcfc-cae8c2f838ed.c000.avro",
         981,
         1751220128000
        ],
        [
         "s3a://lakehouse-edgy-production-us-west-2/output/CASH_CONNECTED_GRAPH_CHANGE_EVENT/V3/date=2025-06-26/part-00000-2be36aea-70f8-48c2-a7c9-d78aa72caab5.c000.avro",
         "part-00000-2be36aea-70f8-48c2-a7c9-d78aa72caab5.c000.avro",
         4080183,
         1750903394000
        ],
        [
         "s3a://lakehouse-edgy-production-us-west-2/output/CASH_CONNECTED_GRAPH_CHANGE_EVENT/V3/date=2025-06-26/part-00000-30614a8d-c77f-4378-8318-7a0a8ce1c9c0.c000.avro",
         "part-00000-30614a8d-c77f-4378-8318-7a0a8ce1c9c0.c000.avro",
         747,
         1751022118000
        ],
        [
         "s3a://lakehouse-edgy-production-us-west-2/output/CASH_CONNECTED_GRAPH_CHANGE_EVENT/V3/date=2025-06-26/part-00000-3851754d-f313-4ee9-9c09-f9e8b7ba9fc3.c000.avro",
         "part-00000-3851754d-f313-4ee9-9c09-f9e8b7ba9fc3.c000.avro",
         997,
         1751076164000
        ],
        [
         "s3a://lakehouse-edgy-production-us-west-2/output/CASH_CONNECTED_GRAPH_CHANGE_EVENT/V3/date=2025-06-26/part-00000-3ad3bcea-9b67-463a-992f-7cd681b6a65f.c000.avro",
         "part-00000-3ad3bcea-9b67-463a-992f-7cd681b6a65f.c000.avro",
         741,
         1751151909000
        ],
        [
         "s3a://lakehouse-edgy-production-us-west-2/output/CASH_CONNECTED_GRAPH_CHANGE_EVENT/V3/date=2025-06-26/part-00000-4052f4f0-ce59-4a27-9a3a-1c2637ee804a.c000.avro",
         "part-00000-4052f4f0-ce59-4a27-9a3a-1c2637ee804a.c000.avro",
         609,
         1751184136000
        ],
        [
         "s3a://lakehouse-edgy-production-us-west-2/output/CASH_CONNECTED_GRAPH_CHANGE_EVENT/V3/date=2025-06-26/part-00000-44f10c36-2d51-44fd-9fa6-31e3a7baa864.c000.avro",
         "part-00000-44f10c36-2d51-44fd-9fa6-31e3a7baa864.c000.avro",
         4697290,
         1750968156000
        ],
        [
         "s3a://lakehouse-edgy-production-us-west-2/output/CASH_CONNECTED_GRAPH_CHANGE_EVENT/V3/date=2025-06-26/part-00000-460cff4e-ecfa-4501-abca-5034b7011ad7.c000.avro",
         "part-00000-460cff4e-ecfa-4501-abca-5034b7011ad7.c000.avro",
         959,
         1751112129000
        ],
        [
         "s3a://lakehouse-edgy-production-us-west-2/output/CASH_CONNECTED_GRAPH_CHANGE_EVENT/V3/date=2025-06-26/part-00000-4725f4be-46af-4b4d-86bb-b5a93e12ac64.c000.avro",
         "part-00000-4725f4be-46af-4b4d-86bb-b5a93e12ac64.c000.avro",
         735,
         1751310171000
        ],
        [
         "s3a://lakehouse-edgy-production-us-west-2/output/CASH_CONNECTED_GRAPH_CHANGE_EVENT/V3/date=2025-06-26/part-00000-47dd70d9-0d65-4b2b-8478-ca3f967d6c94.c000.avro",
         "part-00000-47dd70d9-0d65-4b2b-8478-ca3f967d6c94.c000.avro",
         868,
         1751162535000
        ],
        [
         "s3a://lakehouse-edgy-production-us-west-2/output/CASH_CONNECTED_GRAPH_CHANGE_EVENT/V3/date=2025-06-26/part-00000-4f108c90-f67b-4114-bcd4-d62f4aa9d37a.c000.avro",
         "part-00000-4f108c90-f67b-4114-bcd4-d62f4aa9d37a.c000.avro",
         489,
         1751187697000
        ],
        [
         "s3a://lakehouse-edgy-production-us-west-2/output/CASH_CONNECTED_GRAPH_CHANGE_EVENT/V3/date=2025-06-26/part-00000-53d055f5-1b35-4b78-86bd-cdd420190384.c000.avro",
         "part-00000-53d055f5-1b35-4b78-86bd-cdd420190384.c000.avro",
         1433,
         1751133771000
        ],
        [
         "s3a://lakehouse-edgy-production-us-west-2/output/CASH_CONNECTED_GRAPH_CHANGE_EVENT/V3/date=2025-06-26/part-00000-54860ded-8a07-4fc3-beda-6e75a24e9b20.c000.avro",
         "part-00000-54860ded-8a07-4fc3-beda-6e75a24e9b20.c000.avro",
         4101499,
         1750899933000
        ],
        [
         "s3a://lakehouse-edgy-production-us-west-2/output/CASH_CONNECTED_GRAPH_CHANGE_EVENT/V3/date=2025-06-26/part-00000-54c9fadb-d582-4c2e-9543-9ad71107e45a.c000.avro",
         "part-00000-54c9fadb-d582-4c2e-9543-9ad71107e45a.c000.avro",
         466,
         1751014920000
        ],
        [
         "s3a://lakehouse-edgy-production-us-west-2/output/CASH_CONNECTED_GRAPH_CHANGE_EVENT/V3/date=2025-06-26/part-00000-55b9ab1e-6066-4613-ad7e-f6f47611366d.c000.avro",
         "part-00000-55b9ab1e-6066-4613-ad7e-f6f47611366d.c000.avro",
         886,
         1751223744000
        ],
        [
         "s3a://lakehouse-edgy-production-us-west-2/output/CASH_CONNECTED_GRAPH_CHANGE_EVENT/V3/date=2025-06-26/part-00000-5608d147-e1b5-470b-8cc3-774f7657ea7e.c000.avro",
         "part-00000-5608d147-e1b5-470b-8cc3-774f7657ea7e.c000.avro",
         1528,
         1751072602000
        ],
        [
         "s3a://lakehouse-edgy-production-us-west-2/output/CASH_CONNECTED_GRAPH_CHANGE_EVENT/V3/date=2025-06-26/part-00000-57696b79-e26e-4beb-9b25-55d8b73004ab.c000.avro",
         "part-00000-57696b79-e26e-4beb-9b25-55d8b73004ab.c000.avro",
         1720,
         1751025750000
        ],
        [
         "s3a://lakehouse-edgy-production-us-west-2/output/CASH_CONNECTED_GRAPH_CHANGE_EVENT/V3/date=2025-06-26/part-00000-5abfd51d-b0a3-4a70-a745-6298ed050c56.c000.avro",
         "part-00000-5abfd51d-b0a3-4a70-a745-6298ed050c56.c000.avro",
         615,
         1751324565000
        ],
        [
         "s3a://lakehouse-edgy-production-us-west-2/output/CASH_CONNECTED_GRAPH_CHANGE_EVENT/V3/date=2025-06-26/part-00000-5d3bf9d8-8ddf-4457-aa73-939b828a9f37.c000.avro",
         "part-00000-5d3bf9d8-8ddf-4457-aa73-939b828a9f37.c000.avro",
         465,
         1751205737000
        ],
        [
         "s3a://lakehouse-edgy-production-us-west-2/output/CASH_CONNECTED_GRAPH_CHANGE_EVENT/V3/date=2025-06-26/part-00000-5e2a997b-039a-4789-b53f-03e2d85226be.c000.avro",
         "part-00000-5e2a997b-039a-4789-b53f-03e2d85226be.c000.avro",
         2165,
         1750993351000
        ],
        [
         "s3a://lakehouse-edgy-production-us-west-2/output/CASH_CONNECTED_GRAPH_CHANGE_EVENT/V3/date=2025-06-26/part-00000-60dc8f3f-5c61-44e1-bf9a-3ff5c553715e.c000.avro",
         "part-00000-60dc8f3f-5c61-44e1-bf9a-3ff5c553715e.c000.avro",
         716,
         1751209324000
        ],
        [
         "s3a://lakehouse-edgy-production-us-west-2/output/CASH_CONNECTED_GRAPH_CHANGE_EVENT/V3/date=2025-06-26/part-00000-60f578e2-3faa-4dd9-82c8-26878021e3b2.c000.avro",
         "part-00000-60f578e2-3faa-4dd9-82c8-26878021e3b2.c000.avro",
         467,
         1751267008000
        ],
        [
         "s3a://lakehouse-edgy-production-us-west-2/output/CASH_CONNECTED_GRAPH_CHANGE_EVENT/V3/date=2025-06-26/part-00000-65dd93db-a791-4e5f-b481-cae391b8f28c.c000.avro",
         "part-00000-65dd93db-a791-4e5f-b481-cae391b8f28c.c000.avro",
         273897,
         1750896338000
        ],
        [
         "s3a://lakehouse-edgy-production-us-west-2/output/CASH_CONNECTED_GRAPH_CHANGE_EVENT/V3/date=2025-06-26/part-00000-65f4506b-0ba8-4a14-8c21-9b566981d894.c000.avro",
         "part-00000-65f4506b-0ba8-4a14-8c21-9b566981d894.c000.avro",
         2965473,
         1750917764000
        ],
        [
         "s3a://lakehouse-edgy-production-us-west-2/output/CASH_CONNECTED_GRAPH_CHANGE_EVENT/V3/date=2025-06-26/part-00000-66fe4dea-c0f5-4df1-a818-f078c8ffdee3.c000.avro",
         "part-00000-66fe4dea-c0f5-4df1-a818-f078c8ffdee3.c000.avro",
         897,
         1751004124000
        ],
        [
         "s3a://lakehouse-edgy-production-us-west-2/output/CASH_CONNECTED_GRAPH_CHANGE_EVENT/V3/date=2025-06-26/part-00000-687a1a05-b547-49ad-96ca-86fb7da6e193.c000.avro",
         "part-00000-687a1a05-b547-49ad-96ca-86fb7da6e193.c000.avro",
         1500,
         1751306712000
        ],
        [
         "s3a://lakehouse-edgy-production-us-west-2/output/CASH_CONNECTED_GRAPH_CHANGE_EVENT/V3/date=2025-06-26/part-00000-6d37114c-b7dd-4ad3-89cd-24fd3cb3e778.c000.avro",
         "part-00000-6d37114c-b7dd-4ad3-89cd-24fd3cb3e778.c000.avro",
         980,
         1751256118000
        ],
        [
         "s3a://lakehouse-edgy-production-us-west-2/output/CASH_CONNECTED_GRAPH_CHANGE_EVENT/V3/date=2025-06-26/part-00000-6f469628-cf3f-40e3-a4c3-cf7a94deddf6.c000.avro",
         "part-00000-6f469628-cf3f-40e3-a4c3-cf7a94deddf6.c000.avro",
         1630,
         1751061752000
        ],
        [
         "s3a://lakehouse-edgy-production-us-west-2/output/CASH_CONNECTED_GRAPH_CHANGE_EVENT/V3/date=2025-06-26/part-00000-7115874c-abe7-40a3-9a73-6b895bc1a3f8.c000.avro",
         "part-00000-7115874c-abe7-40a3-9a73-6b895bc1a3f8.c000.avro",
         2968443,
         1750910544000
        ],
        [
         "s3a://lakehouse-edgy-production-us-west-2/output/CASH_CONNECTED_GRAPH_CHANGE_EVENT/V3/date=2025-06-26/part-00000-72dc7a13-e18e-4484-8100-e8ad36b3e9c3.c000.avro",
         "part-00000-72dc7a13-e18e-4484-8100-e8ad36b3e9c3.c000.avro",
         2236354,
         1750939307000
        ],
        [
         "s3a://lakehouse-edgy-production-us-west-2/output/CASH_CONNECTED_GRAPH_CHANGE_EVENT/V3/date=2025-06-26/part-00000-7495b1b4-5663-45fe-9f41-848ee0e626da.c000.avro",
         "part-00000-7495b1b4-5663-45fe-9f41-848ee0e626da.c000.avro",
         1117,
         1751119394000
        ],
        [
         "s3a://lakehouse-edgy-production-us-west-2/output/CASH_CONNECTED_GRAPH_CHANGE_EVENT/V3/date=2025-06-26/part-00000-74aa1f21-f756-41b4-a6bd-99b05c04036e.c000.avro",
         "part-00000-74aa1f21-f756-41b4-a6bd-99b05c04036e.c000.avro",
         3603544,
         1750982551000
        ],
        [
         "s3a://lakehouse-edgy-production-us-west-2/output/CASH_CONNECTED_GRAPH_CHANGE_EVENT/V3/date=2025-06-26/part-00000-7841833d-2df8-45b1-ae11-ba759efa188f.c000.avro",
         "part-00000-7841833d-2df8-45b1-ae11-ba759efa188f.c000.avro",
         777,
         1751328147000
        ],
        [
         "s3a://lakehouse-edgy-production-us-west-2/output/CASH_CONNECTED_GRAPH_CHANGE_EVENT/V3/date=2025-06-26/part-00000-78f05ece-818d-4c7e-99c7-eb2d400ebb58.c000.avro",
         "part-00000-78f05ece-818d-4c7e-99c7-eb2d400ebb58.c000.avro",
         1743837,
         1750932122000
        ],
        [
         "s3a://lakehouse-edgy-production-us-west-2/output/CASH_CONNECTED_GRAPH_CHANGE_EVENT/V3/date=2025-06-26/part-00000-7ad82c9a-0621-409b-b2e3-dce90f660f0c.c000.avro",
         "part-00000-7ad82c9a-0621-409b-b2e3-dce90f660f0c.c000.avro",
         609,
         1751198501000
        ],
        [
         "s3a://lakehouse-edgy-production-us-west-2/output/CASH_CONNECTED_GRAPH_CHANGE_EVENT/V3/date=2025-06-26/part-00000-7af2d475-ab78-43f0-9dc3-7b57bc8d7d4b.c000.avro",
         "part-00000-7af2d475-ab78-43f0-9dc3-7b57bc8d7d4b.c000.avro",
         871,
         1751299591000
        ],
        [
         "s3a://lakehouse-edgy-production-us-west-2/output/CASH_CONNECTED_GRAPH_CHANGE_EVENT/V3/date=2025-06-26/part-00000-7f6b62f1-7347-4ca2-995e-2b37a5b43643.c000.avro",
         "part-00000-7f6b62f1-7347-4ca2-995e-2b37a5b43643.c000.avro",
         488,
         1751173392000
        ],
        [
         "s3a://lakehouse-edgy-production-us-west-2/output/CASH_CONNECTED_GRAPH_CHANGE_EVENT/V3/date=2025-06-26/part-00000-80279f7f-163d-427d-9a58-b5690575689a.c000.avro",
         "part-00000-80279f7f-163d-427d-9a58-b5690575689a.c000.avro",
         618,
         1751115920000
        ],
        [
         "s3a://lakehouse-edgy-production-us-west-2/output/CASH_CONNECTED_GRAPH_CHANGE_EVENT/V3/date=2025-06-26/part-00000-80333ed6-6642-4cf8-8e3c-bbb01ea51b95.c000.avro",
         "part-00000-80333ed6-6642-4cf8-8e3c-bbb01ea51b95.c000.avro",
         1101,
         1751029337000
        ],
        [
         "s3a://lakehouse-edgy-production-us-west-2/output/CASH_CONNECTED_GRAPH_CHANGE_EVENT/V3/date=2025-06-26/part-00000-8719c0f3-7d92-4d86-8b2c-d15bde27a8dd.c000.avro",
         "part-00000-8719c0f3-7d92-4d86-8b2c-d15bde27a8dd.c000.avro",
         618,
         1751202343000
        ],
        [
         "s3a://lakehouse-edgy-production-us-west-2/output/CASH_CONNECTED_GRAPH_CHANGE_EVENT/V3/date=2025-06-26/part-00000-8a145ce9-2bca-4ca1-abf2-711ca1965e04.c000.avro",
         "part-00000-8a145ce9-2bca-4ca1-abf2-711ca1965e04.c000.avro",
         1818,
         1751126528000
        ],
        [
         "s3a://lakehouse-edgy-production-us-west-2/output/CASH_CONNECTED_GRAPH_CHANGE_EVENT/V3/date=2025-06-26/part-00000-8a3cb53c-3283-44c4-923b-bdbe8fc08711.c000.avro",
         "part-00000-8a3cb53c-3283-44c4-923b-bdbe8fc08711.c000.avro",
         1622,
         1751043915000
        ],
        [
         "s3a://lakehouse-edgy-production-us-west-2/output/CASH_CONNECTED_GRAPH_CHANGE_EVENT/V3/date=2025-06-26/part-00000-8b50b838-3301-4b46-8cd6-64857e1eaadb.c000.avro",
         "part-00000-8b50b838-3301-4b46-8cd6-64857e1eaadb.c000.avro",
         1616,
         1751141127000
        ],
        [
         "s3a://lakehouse-edgy-production-us-west-2/output/CASH_CONNECTED_GRAPH_CHANGE_EVENT/V3/date=2025-06-26/part-00000-8f2deb7f-41a1-46c3-9958-0cf6d8a0f32e.c000.avro",
         "part-00000-8f2deb7f-41a1-46c3-9958-0cf6d8a0f32e.c000.avro",
         613,
         1751079733000
        ],
        [
         "s3a://lakehouse-edgy-production-us-west-2/output/CASH_CONNECTED_GRAPH_CHANGE_EVENT/V3/date=2025-06-26/part-00000-9283d05c-8be8-4b80-9513-297499d8ce10.c000.avro",
         "part-00000-9283d05c-8be8-4b80-9513-297499d8ce10.c000.avro",
         3353067,
         1750946552000
        ],
        [
         "s3a://lakehouse-edgy-production-us-west-2/output/CASH_CONNECTED_GRAPH_CHANGE_EVENT/V3/date=2025-06-26/part-00000-92d79915-1a4f-4d2f-9fd6-6a3830593796.c000.avro",
         "part-00000-92d79915-1a4f-4d2f-9fd6-6a3830593796.c000.avro",
         464,
         1751101310000
        ],
        [
         "s3a://lakehouse-edgy-production-us-west-2/output/CASH_CONNECTED_GRAPH_CHANGE_EVENT/V3/date=2025-06-26/part-00000-9611c0b6-73d5-48ef-ace2-7d8c1f45c450.c000.avro",
         "part-00000-9611c0b6-73d5-48ef-ace2-7d8c1f45c450.c000.avro",
         756,
         1751148142000
        ],
        [
         "s3a://lakehouse-edgy-production-us-west-2/output/CASH_CONNECTED_GRAPH_CHANGE_EVENT/V3/date=2025-06-26/part-00000-998aeabe-414e-4416-a3a9-419ab6ed7a13.c000.avro",
         "part-00000-998aeabe-414e-4416-a3a9-419ab6ed7a13.c000.avro",
         3594648,
         1750942961000
        ],
        [
         "s3a://lakehouse-edgy-production-us-west-2/output/CASH_CONNECTED_GRAPH_CHANGE_EVENT/V3/date=2025-06-26/part-00000-9c5ccdb1-0fdf-4d1b-ad47-362f34fc23f6.c000.avro",
         "part-00000-9c5ccdb1-0fdf-4d1b-ad47-362f34fc23f6.c000.avro",
         642,
         1751018523000
        ],
        [
         "s3a://lakehouse-edgy-production-us-west-2/output/CASH_CONNECTED_GRAPH_CHANGE_EVENT/V3/date=2025-06-26/part-00000-9deed179-5eaa-4335-bd24-58cf30637810.c000.avro",
         "part-00000-9deed179-5eaa-4335-bd24-58cf30637810.c000.avro",
         1834,
         1751058318000
        ],
        [
         "s3a://lakehouse-edgy-production-us-west-2/output/CASH_CONNECTED_GRAPH_CHANGE_EVENT/V3/date=2025-06-26/part-00000-a170f827-6213-41ef-b0bd-59cc3d782ef1.c000.avro",
         "part-00000-a170f827-6213-41ef-b0bd-59cc3d782ef1.c000.avro",
         3388309,
         1750906966000
        ],
        [
         "s3a://lakehouse-edgy-production-us-west-2/output/CASH_CONNECTED_GRAPH_CHANGE_EVENT/V3/date=2025-06-26/part-00000-a5257117-e1f7-47c0-9fea-a1b6111951c2.c000.avro",
         "part-00000-a5257117-e1f7-47c0-9fea-a1b6111951c2.c000.avro",
         4565583,
         1750960960000
        ],
        [
         "s3a://lakehouse-edgy-production-us-west-2/output/CASH_CONNECTED_GRAPH_CHANGE_EVENT/V3/date=2025-06-26/part-00000-ac48435c-d1e0-4d6e-b1ed-b7c77efffe4e.c000.avro",
         "part-00000-ac48435c-d1e0-4d6e-b1ed-b7c77efffe4e.c000.avro",
         766,
         1751155328000
        ],
        [
         "s3a://lakehouse-edgy-production-us-west-2/output/CASH_CONNECTED_GRAPH_CHANGE_EVENT/V3/date=2025-06-26/part-00000-ade2e8e0-b0f4-4845-8ea6-7abc945bfb4a.c000.avro",
         "part-00000-ade2e8e0-b0f4-4845-8ea6-7abc945bfb4a.c000.avro",
         736,
         1751274119000
        ],
        [
         "s3a://lakehouse-edgy-production-us-west-2/output/CASH_CONNECTED_GRAPH_CHANGE_EVENT/V3/date=2025-06-26/part-00000-adea7240-21e8-4849-8785-3d969e03a472.c000.avro",
         "part-00000-adea7240-21e8-4849-8785-3d969e03a472.c000.avro",
         465,
         1751194888000
        ],
        [
         "s3a://lakehouse-edgy-production-us-west-2/output/CASH_CONNECTED_GRAPH_CHANGE_EVENT/V3/date=2025-06-26/part-00000-afa062e2-a33a-4c58-b7ed-0c338f82af4c.c000.avro",
         "part-00000-afa062e2-a33a-4c58-b7ed-0c338f82af4c.c000.avro",
         4406193,
         1750979125000
        ],
        [
         "s3a://lakehouse-edgy-production-us-west-2/output/CASH_CONNECTED_GRAPH_CHANGE_EVENT/V3/date=2025-06-26/part-00000-b0dc3243-638a-4704-a7bb-ccf59d780ad9.c000.avro",
         "part-00000-b0dc3243-638a-4704-a7bb-ccf59d780ad9.c000.avro",
         624,
         1751313768000
        ],
        [
         "s3a://lakehouse-edgy-production-us-west-2/output/CASH_CONNECTED_GRAPH_CHANGE_EVENT/V3/date=2025-06-26/part-00000-b1a8ba94-e635-4e85-b28a-4acef61b1be7.c000.avro",
         "part-00000-b1a8ba94-e635-4e85-b28a-4acef61b1be7.c000.avro",
         487,
         1751097739000
        ],
        [
         "s3a://lakehouse-edgy-production-us-west-2/output/CASH_CONNECTED_GRAPH_CHANGE_EVENT/V3/date=2025-06-26/part-00000-b2ad8c21-f4e4-433f-b809-903b7faa6226.c000.avro",
         "part-00000-b2ad8c21-f4e4-433f-b809-903b7faa6226.c000.avro",
         1510,
         1751051147000
        ],
        [
         "s3a://lakehouse-edgy-production-us-west-2/output/CASH_CONNECTED_GRAPH_CHANGE_EVENT/V3/date=2025-06-26/part-00000-b3c7690e-68fd-474d-8091-076351df7bdc.c000.avro",
         "part-00000-b3c7690e-68fd-474d-8091-076351df7bdc.c000.avro",
         617,
         1751292173000
        ],
        [
         "s3a://lakehouse-edgy-production-us-west-2/output/CASH_CONNECTED_GRAPH_CHANGE_EVENT/V3/date=2025-06-26/part-00000-b46ffdf2-30d9-41cf-9508-9cf8dd7df290.c000.avro",
         "part-00000-b46ffdf2-30d9-41cf-9508-9cf8dd7df290.c000.avro",
         2124712,
         1750935717000
        ],
        [
         "s3a://lakehouse-edgy-production-us-west-2/output/CASH_CONNECTED_GRAPH_CHANGE_EVENT/V3/date=2025-06-26/part-00000-b5298173-acab-458c-bae5-718846bb87b3.c000.avro",
         "part-00000-b5298173-acab-458c-bae5-718846bb87b3.c000.avro",
         1369,
         1750996937000
        ],
        [
         "s3a://lakehouse-edgy-production-us-west-2/output/CASH_CONNECTED_GRAPH_CHANGE_EVENT/V3/date=2025-06-26/part-00000-b5fb239c-1b9f-41c8-8802-f1a8636cd7c4.c000.avro",
         "part-00000-b5fb239c-1b9f-41c8-8802-f1a8636cd7c4.c000.avro",
         3479,
         1750989752000
        ],
        [
         "s3a://lakehouse-edgy-production-us-west-2/output/CASH_CONNECTED_GRAPH_CHANGE_EVENT/V3/date=2025-06-26/part-00000-b61ff8e2-5dfb-49d3-b58a-9a180b1d558e.c000.avro",
         "part-00000-b61ff8e2-5dfb-49d3-b58a-9a180b1d558e.c000.avro",
         1228,
         1751216562000
        ],
        [
         "s3a://lakehouse-edgy-production-us-west-2/output/CASH_CONNECTED_GRAPH_CHANGE_EVENT/V3/date=2025-06-26/part-00000-bbdbd399-c852-4ac5-8eba-7408dc5bb31a.c000.avro",
         "part-00000-bbdbd399-c852-4ac5-8eba-7408dc5bb31a.c000.avro",
         759,
         1751238330000
        ],
        [
         "s3a://lakehouse-edgy-production-us-west-2/output/CASH_CONNECTED_GRAPH_CHANGE_EVENT/V3/date=2025-06-26/part-00000-c5047209-c3d4-425c-98f4-3a76325bb1f4.c000.avro",
         "part-00000-c5047209-c3d4-425c-98f4-3a76325bb1f4.c000.avro",
         1473,
         1751068942000
        ],
        [
         "s3a://lakehouse-edgy-production-us-west-2/output/CASH_CONNECTED_GRAPH_CHANGE_EVENT/V3/date=2025-06-26/part-00000-c5123f66-539d-4660-9a24-ca130b6ded24.c000.avro",
         "part-00000-c5123f66-539d-4660-9a24-ca130b6ded24.c000.avro",
         865,
         1751122932000
        ],
        [
         "s3a://lakehouse-edgy-production-us-west-2/output/CASH_CONNECTED_GRAPH_CHANGE_EVENT/V3/date=2025-06-26/part-00000-c5fd35da-1ef6-48a8-acb0-c943cbcac80e.c000.avro",
         "part-00000-c5fd35da-1ef6-48a8-acb0-c943cbcac80e.c000.avro",
         4192401,
         1750957356000
        ],
        [
         "s3a://lakehouse-edgy-production-us-west-2/output/CASH_CONNECTED_GRAPH_CHANGE_EVENT/V3/date=2025-06-26/part-00000-c631a5fd-80fa-43f8-a66f-85c57cf6c489.c000.avro",
         "part-00000-c631a5fd-80fa-43f8-a66f-85c57cf6c489.c000.avro",
         5191812,
         1750971934000
        ],
        [
         "s3a://lakehouse-edgy-production-us-west-2/output/CASH_CONNECTED_GRAPH_CHANGE_EVENT/V3/date=2025-06-26/part-00000-c688b40f-166a-48e6-8854-2aa0d7110aa8.c000.avro",
         "part-00000-c688b40f-166a-48e6-8854-2aa0d7110aa8.c000.avro",
         615,
         1751105104000
        ],
        [
         "s3a://lakehouse-edgy-production-us-west-2/output/CASH_CONNECTED_GRAPH_CHANGE_EVENT/V3/date=2025-06-26/part-00000-c89529f9-a64a-49d0-8dda-66d31142ee92.c000.avro",
         "part-00000-c89529f9-a64a-49d0-8dda-66d31142ee92.c000.avro",
         1146,
         1751317337000
        ],
        [
         "s3a://lakehouse-edgy-production-us-west-2/output/CASH_CONNECTED_GRAPH_CHANGE_EVENT/V3/date=2025-06-26/part-00000-c94d10b5-3cae-4d69-99a7-01d52e461c13.c000.avro",
         "part-00000-c94d10b5-3cae-4d69-99a7-01d52e461c13.c000.avro",
         748,
         1751094112000
        ],
        [
         "s3a://lakehouse-edgy-production-us-west-2/output/CASH_CONNECTED_GRAPH_CHANGE_EVENT/V3/date=2025-06-26/part-00000-c9a42243-7fd4-44ac-a070-739cbc9b9d2c.c000.avro",
         "part-00000-c9a42243-7fd4-44ac-a070-739cbc9b9d2c.c000.avro",
         1135,
         1751241746000
        ],
        [
         "s3a://lakehouse-edgy-production-us-west-2/output/CASH_CONNECTED_GRAPH_CHANGE_EVENT/V3/date=2025-06-26/part-00000-c9b71bbe-4745-4dac-b94a-c65f58334e0f.c000.avro",
         "part-00000-c9b71bbe-4745-4dac-b94a-c65f58334e0f.c000.avro",
         990,
         1751252584000
        ],
        [
         "s3a://lakehouse-edgy-production-us-west-2/output/CASH_CONNECTED_GRAPH_CHANGE_EVENT/V3/date=2025-06-26/part-00000-cb89147f-3e9b-4759-a157-83472374ee3b.c000.avro",
         "part-00000-cb89147f-3e9b-4759-a157-83472374ee3b.c000.avro",
         1014,
         1751130367000
        ],
        [
         "s3a://lakehouse-edgy-production-us-west-2/output/CASH_CONNECTED_GRAPH_CHANGE_EVENT/V3/date=2025-06-26/part-00000-cc0ad69a-56b6-46fc-a11b-e8dda8035186.c000.avro",
         "part-00000-cc0ad69a-56b6-46fc-a11b-e8dda8035186.c000.avro",
         1518,
         1751036550000
        ],
        [
         "s3a://lakehouse-edgy-production-us-west-2/output/CASH_CONNECTED_GRAPH_CHANGE_EVENT/V3/date=2025-06-26/part-00000-cdad56ad-80f4-4244-ad08-354793708b61.c000.avro",
         "part-00000-cdad56ad-80f4-4244-ad08-354793708b61.c000.avro",
         1217,
         1751000537000
        ],
        [
         "s3a://lakehouse-edgy-production-us-west-2/output/CASH_CONNECTED_GRAPH_CHANGE_EVENT/V3/date=2025-06-26/part-00000-cf435215-dd59-451f-a698-a730905f4caa.c000.avro",
         "part-00000-cf435215-dd59-451f-a698-a730905f4caa.c000.avro",
         1106,
         1751295755000
        ],
        [
         "s3a://lakehouse-edgy-production-us-west-2/output/CASH_CONNECTED_GRAPH_CHANGE_EVENT/V3/date=2025-06-26/part-00000-cfd8f209-a7b8-4488-941a-472eb2e045fa.c000.avro",
         "part-00000-cfd8f209-a7b8-4488-941a-472eb2e045fa.c000.avro",
         1368,
         1751033201000
        ],
        [
         "s3a://lakehouse-edgy-production-us-west-2/output/CASH_CONNECTED_GRAPH_CHANGE_EVENT/V3/date=2025-06-26/part-00000-d21b7e8f-1407-422d-a998-712e0a9ecc7e.c000.avro",
         "part-00000-d21b7e8f-1407-422d-a998-712e0a9ecc7e.c000.avro",
         617,
         1751230958000
        ],
        [
         "s3a://lakehouse-edgy-production-us-west-2/output/CASH_CONNECTED_GRAPH_CHANGE_EVENT/V3/date=2025-06-26/part-00000-d37a2ec2-e978-4428-923e-51559313b203.c000.avro",
         "part-00000-d37a2ec2-e978-4428-923e-51559313b203.c000.avro",
         1269,
         1751007968000
        ],
        [
         "s3a://lakehouse-edgy-production-us-west-2/output/CASH_CONNECTED_GRAPH_CHANGE_EVENT/V3/date=2025-06-26/part-00000-dd5a2d12-ce5b-458b-920e-6879d430d687.c000.avro",
         "part-00000-dd5a2d12-ce5b-458b-920e-6879d430d687.c000.avro",
         2065664,
         1750924915000
        ],
        [
         "s3a://lakehouse-edgy-production-us-west-2/output/CASH_CONNECTED_GRAPH_CHANGE_EVENT/V3/date=2025-06-26/part-00000-e3443aab-3068-4b69-a0df-bda9d09f2794.c000.avro",
         "part-00000-e3443aab-3068-4b69-a0df-bda9d09f2794.c000.avro",
         5104040,
         1750975545000
        ],
        [
         "s3a://lakehouse-edgy-production-us-west-2/output/CASH_CONNECTED_GRAPH_CHANGE_EVENT/V3/date=2025-06-26/part-00000-e35934ed-b19d-4d7c-b229-3b9278d70674.c000.avro",
         "part-00000-e35934ed-b19d-4d7c-b229-3b9278d70674.c000.avro",
         1390,
         1751234537000
        ],
        [
         "s3a://lakehouse-edgy-production-us-west-2/output/CASH_CONNECTED_GRAPH_CHANGE_EVENT/V3/date=2025-06-26/part-00000-e64c0603-b74d-4176-b287-85cf54ea5bc3.c000.avro",
         "part-00000-e64c0603-b74d-4176-b287-85cf54ea5bc3.c000.avro",
         1491,
         1751144530000
        ],
        [
         "s3a://lakehouse-edgy-production-us-west-2/output/CASH_CONNECTED_GRAPH_CHANGE_EVENT/V3/date=2025-06-26/part-00000-f25e02ce-518c-441c-aea2-259211fbb3e8.c000.avro",
         "part-00000-f25e02ce-518c-441c-aea2-259211fbb3e8.c000.avro",
         1361,
         1751083347000
        ],
        [
         "s3a://lakehouse-edgy-production-us-west-2/output/CASH_CONNECTED_GRAPH_CHANGE_EVENT/V3/date=2025-06-26/part-00000-f42da1a9-ed86-409b-9282-a32add44ad94.c000.avro",
         "part-00000-f42da1a9-ed86-409b-9282-a32add44ad94.c000.avro",
         1850,
         1751040329000
        ],
        [
         "s3a://lakehouse-edgy-production-us-west-2/output/CASH_CONNECTED_GRAPH_CHANGE_EVENT/V3/date=2025-06-26/part-00000-f93d6b3a-2ea9-4c6a-b9f7-60d36d384566.c000.avro",
         "part-00000-f93d6b3a-2ea9-4c6a-b9f7-60d36d384566.c000.avro",
         621,
         1751288512000
        ],
        [
         "s3a://lakehouse-edgy-production-us-west-2/output/CASH_CONNECTED_GRAPH_CHANGE_EVENT/V3/date=2025-06-26/part-00000-fae004aa-bc5d-4e04-9830-a3ae4994def2.c000.avro",
         "part-00000-fae004aa-bc5d-4e04-9830-a3ae4994def2.c000.avro",
         1016,
         1751087106000
        ],
        [
         "s3a://lakehouse-edgy-production-us-west-2/output/CASH_CONNECTED_GRAPH_CHANGE_EVENT/V3/date=2025-06-26/part-00000-fb01a588-1051-479f-a9e9-3065645378cf.c000.avro",
         "part-00000-fb01a588-1051-479f-a9e9-3065645378cf.c000.avro",
         723,
         1751303135000
        ],
        [
         "s3a://lakehouse-edgy-production-us-west-2/output/CASH_CONNECTED_GRAPH_CHANGE_EVENT/V3/date=2025-06-26/part-00000-fc271e65-5c95-4dde-bfb7-73bdc08c7e9d.c000.avro",
         "part-00000-fc271e65-5c95-4dde-bfb7-73bdc08c7e9d.c000.avro",
         884,
         1751090534000
        ],
        [
         "s3a://lakehouse-edgy-production-us-west-2/output/CASH_CONNECTED_GRAPH_CHANGE_EVENT/V3/date=2025-06-26/part-00000-fc516704-2a59-4151-8899-67155fec3d96.c000.avro",
         "part-00000-fc516704-2a59-4151-8899-67155fec3d96.c000.avro",
         3601436,
         1750921334000
        ],
        [
         "s3a://lakehouse-edgy-production-us-west-2/output/CASH_CONNECTED_GRAPH_CHANGE_EVENT/V3/date=2025-06-26/part-00000-fe349ef6-ed34-4ef8-b2d5-31040839cdf0.c000.avro",
         "part-00000-fe349ef6-ed34-4ef8-b2d5-31040839cdf0.c000.avro",
         3859480,
         1750954030000
        ],
        [
         "s3a://lakehouse-edgy-production-us-west-2/output/CASH_CONNECTED_GRAPH_CHANGE_EVENT/V3/date=2025-06-26/part-00000-fe763fb3-be6f-4543-8bfb-b89428b2df91.c000.avro",
         "part-00000-fe763fb3-be6f-4543-8bfb-b89428b2df91.c000.avro",
         1722,
         1751054554000
        ],
        [
         "s3a://lakehouse-edgy-production-us-west-2/output/CASH_CONNECTED_GRAPH_CHANGE_EVENT/V3/date=2025-06-26/part-00000-fee78848-dbaf-4f20-a38c-cad36bcea56e.c000.avro",
         "part-00000-fee78848-dbaf-4f20-a38c-cad36bcea56e.c000.avro",
         5073,
         1750986151000
        ],
        [
         "s3a://lakehouse-edgy-production-us-west-2/output/CASH_CONNECTED_GRAPH_CHANGE_EVENT/V3/date=2025-06-26/part-00001-049a3d0c-0caf-4a76-9818-0aa12b74bb60.c000.avro",
         "part-00001-049a3d0c-0caf-4a76-9818-0aa12b74bb60.c000.avro",
         1006,
         1751144530000
        ],
        [
         "s3a://lakehouse-edgy-production-us-west-2/output/CASH_CONNECTED_GRAPH_CHANGE_EVENT/V3/date=2025-06-26/part-00001-04f9cb19-758c-4ab2-a3c8-8dd452e6bbf0.c000.avro",
         "part-00001-04f9cb19-758c-4ab2-a3c8-8dd452e6bbf0.c000.avro",
         489,
         1751087104000
        ],
        [
         "s3a://lakehouse-edgy-production-us-west-2/output/CASH_CONNECTED_GRAPH_CHANGE_EVENT/V3/date=2025-06-26/part-00001-05c0dcb9-a426-48d8-b7e7-405b169e3b33.c000.avro",
         "part-00001-05c0dcb9-a426-48d8-b7e7-405b169e3b33.c000.avro",
         881,
         1751022118000
        ],
        [
         "s3a://lakehouse-edgy-production-us-west-2/output/CASH_CONNECTED_GRAPH_CHANGE_EVENT/V3/date=2025-06-26/part-00001-0842eae2-8b53-413f-a303-e8e80ed74c4d.c000.avro",
         "part-00001-0842eae2-8b53-413f-a303-e8e80ed74c4d.c000.avro",
         1091,
         1751047554000
        ],
        [
         "s3a://lakehouse-edgy-production-us-west-2/output/CASH_CONNECTED_GRAPH_CHANGE_EVENT/V3/date=2025-06-26/part-00001-0ec83a1a-ab09-40ca-8034-b3be6433180e.c000.avro",
         "part-00001-0ec83a1a-ab09-40ca-8034-b3be6433180e.c000.avro",
         617,
         1751115922000
        ],
        [
         "s3a://lakehouse-edgy-production-us-west-2/output/CASH_CONNECTED_GRAPH_CHANGE_EVENT/V3/date=2025-06-26/part-00001-1279375f-5c49-42a5-bde9-a1de68a697a4.c000.avro",
         "part-00001-1279375f-5c49-42a5-bde9-a1de68a697a4.c000.avro",
         636,
         1751220128000
        ],
        [
         "s3a://lakehouse-edgy-production-us-west-2/output/CASH_CONNECTED_GRAPH_CHANGE_EVENT/V3/date=2025-06-26/part-00001-17113f9f-78ad-4dce-8a12-0781a5c2e9cf.c000.avro",
         "part-00001-17113f9f-78ad-4dce-8a12-0781a5c2e9cf.c000.avro",
         2989013,
         1750917765000
        ],
        [
         "s3a://lakehouse-edgy-production-us-west-2/output/CASH_CONNECTED_GRAPH_CHANGE_EVENT/V3/date=2025-06-26/part-00001-179f11f0-bbfe-4343-8295-2c6ad1721dc1.c000.avro",
         "part-00001-179f11f0-bbfe-4343-8295-2c6ad1721dc1.c000.avro",
         1029,
         1751007969000
        ],
        [
         "s3a://lakehouse-edgy-production-us-west-2/output/CASH_CONNECTED_GRAPH_CHANGE_EVENT/V3/date=2025-06-26/part-00001-196a0541-bf3a-4b1c-b866-d5c2350dbbb8.c000.avro",
         "part-00001-196a0541-bf3a-4b1c-b866-d5c2350dbbb8.c000.avro",
         1119,
         1751029339000
        ],
        [
         "s3a://lakehouse-edgy-production-us-west-2/output/CASH_CONNECTED_GRAPH_CHANGE_EVENT/V3/date=2025-06-26/part-00001-1ddbd126-6e38-4ace-bcb4-0b0cc6d0f5b6.c000.avro",
         "part-00001-1ddbd126-6e38-4ace-bcb4-0b0cc6d0f5b6.c000.avro",
         1994,
         1751043913000
        ],
        [
         "s3a://lakehouse-edgy-production-us-west-2/output/CASH_CONNECTED_GRAPH_CHANGE_EVENT/V3/date=2025-06-26/part-00001-1f4a8281-bbb4-4bc9-982e-8bd3b6de1d22.c000.avro",
         "part-00001-1f4a8281-bbb4-4bc9-982e-8bd3b6de1d22.c000.avro",
         846,
         1751094110000
        ],
        [
         "s3a://lakehouse-edgy-production-us-west-2/output/CASH_CONNECTED_GRAPH_CHANGE_EVENT/V3/date=2025-06-26/part-00001-21ac1990-c8aa-4fcd-bf7c-c9725d191c6c.c000.avro",
         "part-00001-21ac1990-c8aa-4fcd-bf7c-c9725d191c6c.c000.avro",
         981,
         1751122930000
        ],
        [
         "s3a://lakehouse-edgy-production-us-west-2/output/CASH_CONNECTED_GRAPH_CHANGE_EVENT/V3/date=2025-06-26/part-00001-26f4a6da-7078-4f3a-8fdd-fed56cf21ddf.c000.avro",
         "part-00001-26f4a6da-7078-4f3a-8fdd-fed56cf21ddf.c000.avro",
         862,
         1751227328000
        ],
        [
         "s3a://lakehouse-edgy-production-us-west-2/output/CASH_CONNECTED_GRAPH_CHANGE_EVENT/V3/date=2025-06-26/part-00001-2a74e7cd-f279-4245-8432-52c843e03105.c000.avro",
         "part-00001-2a74e7cd-f279-4245-8432-52c843e03105.c000.avro",
         980,
         1751284936000
        ],
        [
         "s3a://lakehouse-edgy-production-us-west-2/output/CASH_CONNECTED_GRAPH_CHANGE_EVENT/V3/date=2025-06-26/part-00001-2bd9d19a-28d1-429a-860f-9d8fb2c41bd0.c000.avro",
         "part-00001-2bd9d19a-28d1-429a-860f-9d8fb2c41bd0.c000.avro",
         749,
         1751216559000
        ],
        [
         "s3a://lakehouse-edgy-production-us-west-2/output/CASH_CONNECTED_GRAPH_CHANGE_EVENT/V3/date=2025-06-26/part-00001-2d510292-8e94-4f5b-95ec-e2fe041c5090.c000.avro",
         "part-00001-2d510292-8e94-4f5b-95ec-e2fe041c5090.c000.avro",
         1148,
         1751324564000
        ],
        [
         "s3a://lakehouse-edgy-production-us-west-2/output/CASH_CONNECTED_GRAPH_CHANGE_EVENT/V3/date=2025-06-26/part-00001-305087c8-c1ce-4b25-b39f-94abf56efe02.c000.avro",
         "part-00001-305087c8-c1ce-4b25-b39f-94abf56efe02.c000.avro",
         1463,
         1751065342000
        ],
        [
         "s3a://lakehouse-edgy-production-us-west-2/output/CASH_CONNECTED_GRAPH_CHANGE_EVENT/V3/date=2025-06-26/part-00001-326b911f-842d-4ccd-840b-6aebe52bddd2.c000.avro",
         "part-00001-326b911f-842d-4ccd-840b-6aebe52bddd2.c000.avro",
         3631866,
         1750942963000
        ],
        [
         "s3a://lakehouse-edgy-production-us-west-2/output/CASH_CONNECTED_GRAPH_CHANGE_EVENT/V3/date=2025-06-26/part-00001-3a732687-01eb-461d-a1fd-97b70c3e7174.c000.avro",
         "part-00001-3a732687-01eb-461d-a1fd-97b70c3e7174.c000.avro",
         1269,
         1751000534000
        ],
        [
         "s3a://lakehouse-edgy-production-us-west-2/output/CASH_CONNECTED_GRAPH_CHANGE_EVENT/V3/date=2025-06-26/part-00001-3c85cf93-ee3d-4d64-a818-28bf0bf3ffb8.c000.avro",
         "part-00001-3c85cf93-ee3d-4d64-a818-28bf0bf3ffb8.c000.avro",
         4046259,
         1750903392000
        ],
        [
         "s3a://lakehouse-edgy-production-us-west-2/output/CASH_CONNECTED_GRAPH_CHANGE_EVENT/V3/date=2025-06-26/part-00001-3fcf9ef6-b81f-40cd-98fa-e1da90af984c.c000.avro",
         "part-00001-3fcf9ef6-b81f-40cd-98fa-e1da90af984c.c000.avro",
         4707062,
         1750968154000
        ],
        [
         "s3a://lakehouse-edgy-production-us-west-2/output/CASH_CONNECTED_GRAPH_CHANGE_EVENT/V3/date=2025-06-26/part-00001-400c5924-35ad-4e12-95f6-0729c4e6a20b.c000.avro",
         "part-00001-400c5924-35ad-4e12-95f6-0729c4e6a20b.c000.avro",
         5027293,
         1750964559000
        ],
        [
         "s3a://lakehouse-edgy-production-us-west-2/output/CASH_CONNECTED_GRAPH_CHANGE_EVENT/V3/date=2025-06-26/part-00001-42f8e0a7-cdbf-49cc-b2ff-9b568f801b12.c000.avro",
         "part-00001-42f8e0a7-cdbf-49cc-b2ff-9b568f801b12.c000.avro",
         2237690,
         1750939309000
        ],
        [
         "s3a://lakehouse-edgy-production-us-west-2/output/CASH_CONNECTED_GRAPH_CHANGE_EVENT/V3/date=2025-06-26/part-00001-436d7755-0fa1-4bfc-924f-4154745d9389.c000.avro",
         "part-00001-436d7755-0fa1-4bfc-924f-4154745d9389.c000.avro",
         3609934,
         1750921334000
        ],
        [
         "s3a://lakehouse-edgy-production-us-west-2/output/CASH_CONNECTED_GRAPH_CHANGE_EVENT/V3/date=2025-06-26/part-00001-47be1296-3c6e-48fd-8c13-e424cf0d7fef.c000.avro",
         "part-00001-47be1296-3c6e-48fd-8c13-e424cf0d7fef.c000.avro",
         4109495,
         1750899938000
        ],
        [
         "s3a://lakehouse-edgy-production-us-west-2/output/CASH_CONNECTED_GRAPH_CHANGE_EVENT/V3/date=2025-06-26/part-00001-48b047c3-d795-48f4-acef-2503446aed08.c000.avro",
         "part-00001-48b047c3-d795-48f4-acef-2503446aed08.c000.avro",
         617,
         1751328146000
        ],
        [
         "s3a://lakehouse-edgy-production-us-west-2/output/CASH_CONNECTED_GRAPH_CHANGE_EVENT/V3/date=2025-06-26/part-00001-4faef8b9-420d-4bc5-8e5f-ea6901b131e7.c000.avro",
         "part-00001-4faef8b9-420d-4bc5-8e5f-ea6901b131e7.c000.avro",
         988,
         1751303134000
        ],
        [
         "s3a://lakehouse-edgy-production-us-west-2/output/CASH_CONNECTED_GRAPH_CHANGE_EVENT/V3/date=2025-06-26/part-00001-51d1fb53-92c0-4393-ae89-8afc10c78d98.c000.avro",
         "part-00001-51d1fb53-92c0-4393-ae89-8afc10c78d98.c000.avro",
         748,
         1751252585000
        ],
        [
         "s3a://lakehouse-edgy-production-us-west-2/output/CASH_CONNECTED_GRAPH_CHANGE_EVENT/V3/date=2025-06-26/part-00001-53ae4a7a-ae17-4d1f-a6c1-6da831eb410a.c000.avro",
         "part-00001-53ae4a7a-ae17-4d1f-a6c1-6da831eb410a.c000.avro",
         623,
         1751331736000
        ],
        [
         "s3a://lakehouse-edgy-production-us-west-2/output/CASH_CONNECTED_GRAPH_CHANGE_EVENT/V3/date=2025-06-26/part-00001-5882f3a3-1f6c-4e16-bfc8-77145fdfcb45.c000.avro",
         "part-00001-5882f3a3-1f6c-4e16-bfc8-77145fdfcb45.c000.avro",
         272900,
         1750896337000
        ],
        [
         "s3a://lakehouse-edgy-production-us-west-2/output/CASH_CONNECTED_GRAPH_CHANGE_EVENT/V3/date=2025-06-26/part-00001-591f0451-475b-4927-94fb-37ad0cdb6c20.c000.avro",
         "part-00001-591f0451-475b-4927-94fb-37ad0cdb6c20.c000.avro",
         1736538,
         1750932124000
        ],
        [
         "s3a://lakehouse-edgy-production-us-west-2/output/CASH_CONNECTED_GRAPH_CHANGE_EVENT/V3/date=2025-06-26/part-00001-5a5dbb19-4e36-4980-a9a7-f6b1fb5604ad.c000.avro",
         "part-00001-5a5dbb19-4e36-4980-a9a7-f6b1fb5604ad.c000.avro",
         912,
         1751079734000
        ],
        [
         "s3a://lakehouse-edgy-production-us-west-2/output/CASH_CONNECTED_GRAPH_CHANGE_EVENT/V3/date=2025-06-26/part-00001-5c07fce4-5590-459f-8459-632a2bd91604.c000.avro",
         "part-00001-5c07fce4-5590-459f-8459-632a2bd91604.c000.avro",
         1337,
         1751061750000
        ],
        [
         "s3a://lakehouse-edgy-production-us-west-2/output/CASH_CONNECTED_GRAPH_CHANGE_EVENT/V3/date=2025-06-26/part-00001-5d5a665c-cad4-4eec-baca-39254600683a.c000.avro",
         "part-00001-5d5a665c-cad4-4eec-baca-39254600683a.c000.avro",
         757,
         1751148141000
        ],
        [
         "s3a://lakehouse-edgy-production-us-west-2/output/CASH_CONNECTED_GRAPH_CHANGE_EVENT/V3/date=2025-06-26/part-00001-5e25399a-ef19-4b00-9a53-03d34a4e7e1d.c000.avro",
         "part-00001-5e25399a-ef19-4b00-9a53-03d34a4e7e1d.c000.avro",
         3393,
         1750989752000
        ],
        [
         "s3a://lakehouse-edgy-production-us-west-2/output/CASH_CONNECTED_GRAPH_CHANGE_EVENT/V3/date=2025-06-26/part-00001-5f1031de-f014-44fe-957d-4a417db618f5.c000.avro",
         "part-00001-5f1031de-f014-44fe-957d-4a417db618f5.c000.avro",
         3696,
         1750986150000
        ],
        [
         "s3a://lakehouse-edgy-production-us-west-2/output/CASH_CONNECTED_GRAPH_CHANGE_EVENT/V3/date=2025-06-26/part-00001-5f554a6b-db2c-405e-971e-7b02f8c23597.c000.avro",
         "part-00001-5f554a6b-db2c-405e-971e-7b02f8c23597.c000.avro",
         1378,
         1751137365000
        ],
        [
         "s3a://lakehouse-edgy-production-us-west-2/output/CASH_CONNECTED_GRAPH_CHANGE_EVENT/V3/date=2025-06-26/part-00001-615c9c31-8fe0-42fd-a678-e128d36dc4fc.c000.avro",
         "part-00001-615c9c31-8fe0-42fd-a678-e128d36dc4fc.c000.avro",
         1495,
         1751058316000
        ],
        [
         "s3a://lakehouse-edgy-production-us-west-2/output/CASH_CONNECTED_GRAPH_CHANGE_EVENT/V3/date=2025-06-26/part-00001-627953a7-8742-4148-83b0-5097d9f5f730.c000.avro",
         "part-00001-627953a7-8742-4148-83b0-5097d9f5f730.c000.avro",
         5194552,
         1750971934000
        ],
        [
         "s3a://lakehouse-edgy-production-us-west-2/output/CASH_CONNECTED_GRAPH_CHANGE_EVENT/V3/date=2025-06-26/part-00001-63c9288a-49f7-485a-9e7f-6c9b0eac2e2b.c000.avro",
         "part-00001-63c9288a-49f7-485a-9e7f-6c9b0eac2e2b.c000.avro",
         4391922,
         1750979126000
        ],
        [
         "s3a://lakehouse-edgy-production-us-west-2/output/CASH_CONNECTED_GRAPH_CHANGE_EVENT/V3/date=2025-06-26/part-00001-656ca850-c47a-40f3-a603-82cff61b3945.c000.avro",
         "part-00001-656ca850-c47a-40f3-a603-82cff61b3945.c000.avro",
         3358873,
         1750914325000
        ],
        [
         "s3a://lakehouse-edgy-production-us-west-2/output/CASH_CONNECTED_GRAPH_CHANGE_EVENT/V3/date=2025-06-26/part-00001-67ab9b70-0397-45a9-84ff-04f79a0a6591.c000.avro",
         "part-00001-67ab9b70-0397-45a9-84ff-04f79a0a6591.c000.avro",
         641,
         1751320942000
        ],
        [
         "s3a://lakehouse-edgy-production-us-west-2/output/CASH_CONNECTED_GRAPH_CHANGE_EVENT/V3/date=2025-06-26/part-00001-6957e514-102a-4676-9905-fa6c505f54f1.c000.avro",
         "part-00001-6957e514-102a-4676-9905-fa6c505f54f1.c000.avro",
         1020,
         1751151908000
        ],
        [
         "s3a://lakehouse-edgy-production-us-west-2/output/CASH_CONNECTED_GRAPH_CHANGE_EVENT/V3/date=2025-06-26/part-00001-6bb28edf-b321-4016-a09c-b5ab928a7389.c000.avro",
         "part-00001-6bb28edf-b321-4016-a09c-b5ab928a7389.c000.avro",
         633,
         1751306711000
        ],
        [
         "s3a://lakehouse-edgy-production-us-west-2/output/CASH_CONNECTED_GRAPH_CHANGE_EVENT/V3/date=2025-06-26/part-00001-6c7fd1bc-7ffc-4304-9d6b-30080532de21.c000.avro",
         "part-00001-6c7fd1bc-7ffc-4304-9d6b-30080532de21.c000.avro",
         3876154,
         1750954024000
        ],
        [
         "s3a://lakehouse-edgy-production-us-west-2/output/CASH_CONNECTED_GRAPH_CHANGE_EVENT/V3/date=2025-06-26/part-00001-708ff3ed-2d64-4041-a2ea-56c09e27847f.c000.avro",
         "part-00001-708ff3ed-2d64-4041-a2ea-56c09e27847f.c000.avro",
         2988426,
         1750910545000
        ],
        [
         "s3a://lakehouse-edgy-production-us-west-2/output/CASH_CONNECTED_GRAPH_CHANGE_EVENT/V3/date=2025-06-26/part-00001-785ea455-0365-4d81-b28e-966998a8fbbe.c000.avro",
         "part-00001-785ea455-0365-4d81-b28e-966998a8fbbe.c000.avro",
         3823947,
         1750950150000
        ],
        [
         "s3a://lakehouse-edgy-production-us-west-2/output/CASH_CONNECTED_GRAPH_CHANGE_EVENT/V3/date=2025-06-26/part-00001-7ad15f1a-5b2a-4baa-8c4f-ac3311c1d2da.c000.avro",
         "part-00001-7ad15f1a-5b2a-4baa-8c4f-ac3311c1d2da.c000.avro",
         627,
         1751173391000
        ],
        [
         "s3a://lakehouse-edgy-production-us-west-2/output/CASH_CONNECTED_GRAPH_CHANGE_EVENT/V3/date=2025-06-26/part-00001-7db3f139-d2cc-4b03-a2b5-889781a3c39c.c000.avro",
         "part-00001-7db3f139-d2cc-4b03-a2b5-889781a3c39c.c000.avro",
         3362675,
         1750946551000
        ],
        [
         "s3a://lakehouse-edgy-production-us-west-2/output/CASH_CONNECTED_GRAPH_CHANGE_EVENT/V3/date=2025-06-26/part-00001-7ede01ec-3a71-469a-8f91-defee1529703.c000.avro",
         "part-00001-7ede01ec-3a71-469a-8f91-defee1529703.c000.avro",
         489,
         1751299590000
        ],
        [
         "s3a://lakehouse-edgy-production-us-west-2/output/CASH_CONNECTED_GRAPH_CHANGE_EVENT/V3/date=2025-06-26/part-00001-7fe97af2-8748-4db4-914a-a744efd15bd0.c000.avro",
         "part-00001-7fe97af2-8748-4db4-914a-a744efd15bd0.c000.avro",
         622,
         1751180538000
        ],
        [
         "s3a://lakehouse-edgy-production-us-west-2/output/CASH_CONNECTED_GRAPH_CHANGE_EVENT/V3/date=2025-06-26/part-00001-819ea75b-d6d6-4734-87ed-c42c4e228c60.c000.avro",
         "part-00001-819ea75b-d6d6-4734-87ed-c42c4e228c60.c000.avro",
         627,
         1751238329000
        ],
        [
         "s3a://lakehouse-edgy-production-us-west-2/output/CASH_CONNECTED_GRAPH_CHANGE_EVENT/V3/date=2025-06-26/part-00001-824fe294-2d09-4e87-a1f8-141f9a810afd.c000.avro",
         "part-00001-824fe294-2d09-4e87-a1f8-141f9a810afd.c000.avro",
         1590,
         1751051148000
        ],
        [
         "s3a://lakehouse-edgy-production-us-west-2/output/CASH_CONNECTED_GRAPH_CHANGE_EVENT/V3/date=2025-06-26/part-00001-84bd2587-161a-46ae-a72f-b7b8156e7927.c000.avro",
         "part-00001-84bd2587-161a-46ae-a72f-b7b8156e7927.c000.avro",
         4485779,
         1750960960000
        ],
        [
         "s3a://lakehouse-edgy-production-us-west-2/output/CASH_CONNECTED_GRAPH_CHANGE_EVENT/V3/date=2025-06-26/part-00001-8653e032-dcaa-48b0-8504-20e656540f09.c000.avro",
         "part-00001-8653e032-dcaa-48b0-8504-20e656540f09.c000.avro",
         1504,
         1751036550000
        ],
        [
         "s3a://lakehouse-edgy-production-us-west-2/output/CASH_CONNECTED_GRAPH_CHANGE_EVENT/V3/date=2025-06-26/part-00001-87124540-7126-48be-a4c2-0cf261c0c603.c000.avro",
         "part-00001-87124540-7126-48be-a4c2-0cf261c0c603.c000.avro",
         976,
         1751072605000
        ],
        [
         "s3a://lakehouse-edgy-production-us-west-2/output/CASH_CONNECTED_GRAPH_CHANGE_EVENT/V3/date=2025-06-26/part-00001-875eda51-66bb-464d-bdf1-708cc0e8d25e.c000.avro",
         "part-00001-875eda51-66bb-464d-bdf1-708cc0e8d25e.c000.avro",
         621,
         1751313768000
        ],
        [
         "s3a://lakehouse-edgy-production-us-west-2/output/CASH_CONNECTED_GRAPH_CHANGE_EVENT/V3/date=2025-06-26/part-00001-8763279e-480d-40f4-bf2a-0dad7d0f7e4a.c000.avro",
         "part-00001-8763279e-480d-40f4-bf2a-0dad7d0f7e4a.c000.avro",
         4165135,
         1750957357000
        ],
        [
         "s3a://lakehouse-edgy-production-us-west-2/output/CASH_CONNECTED_GRAPH_CHANGE_EVENT/V3/date=2025-06-26/part-00001-8a2f8527-ab9b-458f-84f8-6d1ffd4db8f8.c000.avro",
         "part-00001-8a2f8527-ab9b-458f-84f8-6d1ffd4db8f8.c000.avro",
         1200,
         1751130367000
        ],
        [
         "s3a://lakehouse-edgy-production-us-west-2/output/CASH_CONNECTED_GRAPH_CHANGE_EVENT/V3/date=2025-06-26/part-00001-8a7375f3-d2b4-4674-86f9-6bd22ce43d2b.c000.avro",
         "part-00001-8a7375f3-d2b4-4674-86f9-6bd22ce43d2b.c000.avro",
         1714,
         1751076163000
        ],
        [
         "s3a://lakehouse-edgy-production-us-west-2/output/CASH_CONNECTED_GRAPH_CHANGE_EVENT/V3/date=2025-06-26/part-00001-8bf06f61-d8ab-4d5f-a992-34b4a0f35c90.c000.avro",
         "part-00001-8bf06f61-d8ab-4d5f-a992-34b4a0f35c90.c000.avro",
         1078,
         1751033198000
        ],
        [
         "s3a://lakehouse-edgy-production-us-west-2/output/CASH_CONNECTED_GRAPH_CHANGE_EVENT/V3/date=2025-06-26/part-00001-8fb6bab6-2d21-4f69-b5c5-a64c4d827fa8.c000.avro",
         "part-00001-8fb6bab6-2d21-4f69-b5c5-a64c4d827fa8.c000.avro",
         622,
         1751083348000
        ],
        [
         "s3a://lakehouse-edgy-production-us-west-2/output/CASH_CONNECTED_GRAPH_CHANGE_EVENT/V3/date=2025-06-26/part-00001-93594ad5-2de6-43bf-bca3-8db0928aa2a5.c000.avro",
         "part-00001-93594ad5-2de6-43bf-bca3-8db0928aa2a5.c000.avro",
         610,
         1751267005000
        ],
        [
         "s3a://lakehouse-edgy-production-us-west-2/output/CASH_CONNECTED_GRAPH_CHANGE_EVENT/V3/date=2025-06-26/part-00001-94d97e52-739b-49e7-8652-0f9630518541.c000.avro",
         "part-00001-94d97e52-739b-49e7-8652-0f9630518541.c000.avro",
         995,
         1751141127000
        ],
        [
         "s3a://lakehouse-edgy-production-us-west-2/output/CASH_CONNECTED_GRAPH_CHANGE_EVENT/V3/date=2025-06-26/part-00001-9780ef3f-3f78-4203-ac76-bb801ad60df3.c000.avro",
         "part-00001-9780ef3f-3f78-4203-ac76-bb801ad60df3.c000.avro",
         1874,
         1750993349000
        ],
        [
         "s3a://lakehouse-edgy-production-us-west-2/output/CASH_CONNECTED_GRAPH_CHANGE_EVENT/V3/date=2025-06-26/part-00001-99446acd-b23a-4a81-8e5c-ec6228fd4421.c000.avro",
         "part-00001-99446acd-b23a-4a81-8e5c-ec6228fd4421.c000.avro",
         2045092,
         1750924916000
        ],
        [
         "s3a://lakehouse-edgy-production-us-west-2/output/CASH_CONNECTED_GRAPH_CHANGE_EVENT/V3/date=2025-06-26/part-00001-9955403f-b0a4-4033-b4d7-aad30266d0de.c000.avro",
         "part-00001-9955403f-b0a4-4033-b4d7-aad30266d0de.c000.avro",
         1730,
         1751054553000
        ],
        [
         "s3a://lakehouse-edgy-production-us-west-2/output/CASH_CONNECTED_GRAPH_CHANGE_EVENT/V3/date=2025-06-26/part-00001-9bbbbc55-0a92-4c29-a59c-16f6fc5328b7.c000.avro",
         "part-00001-9bbbbc55-0a92-4c29-a59c-16f6fc5328b7.c000.avro",
         993,
         1751292171000
        ],
        [
         "s3a://lakehouse-edgy-production-us-west-2/output/CASH_CONNECTED_GRAPH_CHANGE_EVENT/V3/date=2025-06-26/part-00001-9dffd210-fa28-46fd-b79c-1596c6dd7f22.c000.avro",
         "part-00001-9dffd210-fa28-46fd-b79c-1596c6dd7f22.c000.avro",
         488,
         1751169900000
        ],
        [
         "s3a://lakehouse-edgy-production-us-west-2/output/CASH_CONNECTED_GRAPH_CHANGE_EVENT/V3/date=2025-06-26/part-00001-9e6c2ed6-7b15-453b-a8e9-394041bd481b.c000.avro",
         "part-00001-9e6c2ed6-7b15-453b-a8e9-394041bd481b.c000.avro",
         498,
         1751213109000
        ],
        [
         "s3a://lakehouse-edgy-production-us-west-2/output/CASH_CONNECTED_GRAPH_CHANGE_EVENT/V3/date=2025-06-26/part-00001-a0aa8ab3-6529-4f87-8068-e3522276f0ac.c000.avro",
         "part-00001-a0aa8ab3-6529-4f87-8068-e3522276f0ac.c000.avro",
         738,
         1751241742000
        ],
        [
         "s3a://lakehouse-edgy-production-us-west-2/output/CASH_CONNECTED_GRAPH_CHANGE_EVENT/V3/date=2025-06-26/part-00001-a3626ec0-c333-4eeb-888a-b6fad9fd3b7b.c000.avro",
         "part-00001-a3626ec0-c333-4eeb-888a-b6fad9fd3b7b.c000.avro",
         612,
         1751112128000
        ],
        [
         "s3a://lakehouse-edgy-production-us-west-2/output/CASH_CONNECTED_GRAPH_CHANGE_EVENT/V3/date=2025-06-26/part-00001-ab075caf-13ac-43a1-b8d7-f851df1ca96f.c000.avro",
         "part-00001-ab075caf-13ac-43a1-b8d7-f851df1ca96f.c000.avro",
         1137,
         1751068943000
        ],
        [
         "s3a://lakehouse-edgy-production-us-west-2/output/CASH_CONNECTED_GRAPH_CHANGE_EVENT/V3/date=2025-06-26/part-00001-af2fe8f7-9166-4a97-9921-cbd926988693.c000.avro",
         "part-00001-af2fe8f7-9166-4a97-9921-cbd926988693.c000.avro",
         1960700,
         1750928486000
        ],
        [
         "s3a://lakehouse-edgy-production-us-west-2/output/CASH_CONNECTED_GRAPH_CHANGE_EVENT/V3/date=2025-06-26/part-00001-b30ebb53-3009-4da5-ad69-efd8e692f2d7.c000.avro",
         "part-00001-b30ebb53-3009-4da5-ad69-efd8e692f2d7.c000.avro",
         738,
         1751310169000
        ],
        [
         "s3a://lakehouse-edgy-production-us-west-2/output/CASH_CONNECTED_GRAPH_CHANGE_EVENT/V3/date=2025-06-26/part-00001-b31bd9c2-4001-4f78-b035-bdd9a6d1a90b.c000.avro",
         "part-00001-b31bd9c2-4001-4f78-b035-bdd9a6d1a90b.c000.avro",
         897,
         1751234536000
        ],
        [
         "s3a://lakehouse-edgy-production-us-west-2/output/CASH_CONNECTED_GRAPH_CHANGE_EVENT/V3/date=2025-06-26/part-00001-b31ffff9-e21c-4fa8-9503-a916f22b0a68.c000.avro",
         "part-00001-b31ffff9-e21c-4fa8-9503-a916f22b0a68.c000.avro",
         618,
         1751205738000
        ],
        [
         "s3a://lakehouse-edgy-production-us-west-2/output/CASH_CONNECTED_GRAPH_CHANGE_EVENT/V3/date=2025-06-26/part-00001-b43e9453-0ffa-40dc-89e4-8d9bb02dad4b.c000.avro",
         "part-00001-b43e9453-0ffa-40dc-89e4-8d9bb02dad4b.c000.avro",
         5089519,
         1750975544000
        ],
        [
         "s3a://lakehouse-edgy-production-us-west-2/output/CASH_CONNECTED_GRAPH_CHANGE_EVENT/V3/date=2025-06-26/part-00001-b4fe01cf-2d42-4945-9a5e-1418d564040c.c000.avro",
         "part-00001-b4fe01cf-2d42-4945-9a5e-1418d564040c.c000.avro",
         629,
         1751202343000
        ],
        [
         "s3a://lakehouse-edgy-production-us-west-2/output/CASH_CONNECTED_GRAPH_CHANGE_EVENT/V3/date=2025-06-26/part-00001-b50dfab5-8a6e-4739-b6e8-2bc78cd3f7c3.c000.avro",
         "part-00001-b50dfab5-8a6e-4739-b6e8-2bc78cd3f7c3.c000.avro",
         1518,
         1751126527000
        ],
        [
         "s3a://lakehouse-edgy-production-us-west-2/output/CASH_CONNECTED_GRAPH_CHANGE_EVENT/V3/date=2025-06-26/part-00001-b56c43e7-bc77-4ae7-8538-5a348bc57f34.c000.avro",
         "part-00001-b56c43e7-bc77-4ae7-8538-5a348bc57f34.c000.avro",
         2117264,
         1750935716000
        ],
        [
         "s3a://lakehouse-edgy-production-us-west-2/output/CASH_CONNECTED_GRAPH_CHANGE_EVENT/V3/date=2025-06-26/part-00001-b5cf0e37-20cf-47c5-8ae1-b79902230306.c000.avro",
         "part-00001-b5cf0e37-20cf-47c5-8ae1-b79902230306.c000.avro",
         620,
         1751184136000
        ],
        [
         "s3a://lakehouse-edgy-production-us-west-2/output/CASH_CONNECTED_GRAPH_CHANGE_EVENT/V3/date=2025-06-26/part-00001-b8ab35e6-8494-41b8-b186-4d0668cc4052.c000.avro",
         "part-00001-b8ab35e6-8494-41b8-b186-4d0668cc4052.c000.avro",
         616,
         1751198500000
        ],
        [
         "s3a://lakehouse-edgy-production-us-west-2/output/CASH_CONNECTED_GRAPH_CHANGE_EVENT/V3/date=2025-06-26/part-00001-ba99741e-10aa-4fd7-924f-8a7fb26c8a21.c000.avro",
         "part-00001-ba99741e-10aa-4fd7-924f-8a7fb26c8a21.c000.avro",
         637,
         1751230960000
        ],
        [
         "s3a://lakehouse-edgy-production-us-west-2/output/CASH_CONNECTED_GRAPH_CHANGE_EVENT/V3/date=2025-06-26/part-00001-c09344b7-5def-45a4-a65e-d00e940e7147.c000.avro",
         "part-00001-c09344b7-5def-45a4-a65e-d00e940e7147.c000.avro",
         747,
         1751166347000
        ],
        [
         "s3a://lakehouse-edgy-production-us-west-2/output/CASH_CONNECTED_GRAPH_CHANGE_EVENT/V3/date=2025-06-26/part-00001-c2d5a868-23a3-4ccb-b385-f74dc2d28f0c.c000.avro",
         "part-00001-c2d5a868-23a3-4ccb-b385-f74dc2d28f0c.c000.avro",
         744,
         1751209323000
        ],
        [
         "s3a://lakehouse-edgy-production-us-west-2/output/CASH_CONNECTED_GRAPH_CHANGE_EVENT/V3/date=2025-06-26/part-00001-c4042e48-2c24-4916-b248-41cde5d9f957.c000.avro",
         "part-00001-c4042e48-2c24-4916-b248-41cde5d9f957.c000.avro",
         638,
         1751090533000
        ],
        [
         "s3a://lakehouse-edgy-production-us-west-2/output/CASH_CONNECTED_GRAPH_CHANGE_EVENT/V3/date=2025-06-26/part-00001-c42eec9b-536b-48b6-a849-65ea673e3298.c000.avro",
         "part-00001-c42eec9b-536b-48b6-a849-65ea673e3298.c000.avro",
         493,
         1751101310000
        ],
        [
         "s3a://lakehouse-edgy-production-us-west-2/output/CASH_CONNECTED_GRAPH_CHANGE_EVENT/V3/date=2025-06-26/part-00001-c478ffca-3d36-4165-b5b8-4a027a3c9778.c000.avro",
         "part-00001-c478ffca-3d36-4165-b5b8-4a027a3c9778.c000.avro",
         3596896,
         1750982553000
        ],
        [
         "s3a://lakehouse-edgy-production-us-west-2/output/CASH_CONNECTED_GRAPH_CHANGE_EVENT/V3/date=2025-06-26/part-00001-c6934515-f8aa-4812-812a-9c3d5a76d99b.c000.avro",
         "part-00001-c6934515-f8aa-4812-812a-9c3d5a76d99b.c000.avro",
         1002,
         1751025750000
        ],
        [
         "s3a://lakehouse-edgy-production-us-west-2/output/CASH_CONNECTED_GRAPH_CHANGE_EVENT/V3/date=2025-06-26/part-00001-cd1dcede-ed72-4b6c-bb75-2761e3aac373.c000.avro",
         "part-00001-cd1dcede-ed72-4b6c-bb75-2761e3aac373.c000.avro",
         744,
         1751108528000
        ],
        [
         "s3a://lakehouse-edgy-production-us-west-2/output/CASH_CONNECTED_GRAPH_CHANGE_EVENT/V3/date=2025-06-26/part-00001-cd32ec98-ab9e-4948-b818-2d5c0243a96c.c000.avro",
         "part-00001-cd32ec98-ab9e-4948-b818-2d5c0243a96c.c000.avro",
         809,
         1751014920000
        ],
        [
         "s3a://lakehouse-edgy-production-us-west-2/output/CASH_CONNECTED_GRAPH_CHANGE_EVENT/V3/date=2025-06-26/part-00001-ce28f8b5-da2e-4722-831b-52d63fa389ee.c000.avro",
         "part-00001-ce28f8b5-da2e-4722-831b-52d63fa389ee.c000.avro",
         617,
         1751245500000
        ],
        [
         "s3a://lakehouse-edgy-production-us-west-2/output/CASH_CONNECTED_GRAPH_CHANGE_EVENT/V3/date=2025-06-26/part-00001-d624001a-374b-4aae-91a3-eb683059b84b.c000.avro",
         "part-00001-d624001a-374b-4aae-91a3-eb683059b84b.c000.avro",
         2143,
         1751040332000
        ],
        [
         "s3a://lakehouse-edgy-production-us-west-2/output/CASH_CONNECTED_GRAPH_CHANGE_EVENT/V3/date=2025-06-26/part-00001-d6e79481-559d-41b2-ac23-323dd6c6b917.c000.avro",
         "part-00001-d6e79481-559d-41b2-ac23-323dd6c6b917.c000.avro",
         1940,
         1750996938000
        ],
        [
         "s3a://lakehouse-edgy-production-us-west-2/output/CASH_CONNECTED_GRAPH_CHANGE_EVENT/V3/date=2025-06-26/part-00001-d7121fbc-0e55-4562-88e6-98d5157b790a.c000.avro",
         "part-00001-d7121fbc-0e55-4562-88e6-98d5157b790a.c000.avro",
         490,
         1751018525000
        ],
        [
         "s3a://lakehouse-edgy-production-us-west-2/output/CASH_CONNECTED_GRAPH_CHANGE_EVENT/V3/date=2025-06-26/part-00001-da4034b6-4e1f-4f94-81e8-9ecddc0330cb.c000.avro",
         "part-00001-da4034b6-4e1f-4f94-81e8-9ecddc0330cb.c000.avro",
         610,
         1751248926000
        ],
        [
         "s3a://lakehouse-edgy-production-us-west-2/output/CASH_CONNECTED_GRAPH_CHANGE_EVENT/V3/date=2025-06-26/part-00001-dbc077a4-7b93-44e5-a8e3-ca7eb681071e.c000.avro",
         "part-00001-dbc077a4-7b93-44e5-a8e3-ca7eb681071e.c000.avro",
         486,
         1751223745000
        ],
        [
         "s3a://lakehouse-edgy-production-us-west-2/output/CASH_CONNECTED_GRAPH_CHANGE_EVENT/V3/date=2025-06-26/part-00001-de023057-bafb-48fc-84f0-9de8088e8774.c000.avro",
         "part-00001-de023057-bafb-48fc-84f0-9de8088e8774.c000.avro",
         569,
         1751011310000
        ],
        [
         "s3a://lakehouse-edgy-production-us-west-2/output/CASH_CONNECTED_GRAPH_CHANGE_EVENT/V3/date=2025-06-26/part-00001-df766e07-0885-4446-99fb-8e9dea933d4d.c000.avro",
         "part-00001-df766e07-0885-4446-99fb-8e9dea933d4d.c000.avro",
         3408789,
         1750906964000
        ],
        [
         "s3a://lakehouse-edgy-production-us-west-2/output/CASH_CONNECTED_GRAPH_CHANGE_EVENT/V3/date=2025-06-26/part-00001-dfac1902-1c2b-4058-90fc-e5df35fbb0ed.c000.avro",
         "part-00001-dfac1902-1c2b-4058-90fc-e5df35fbb0ed.c000.avro",
         1516,
         1751004123000
        ],
        [
         "s3a://lakehouse-edgy-production-us-west-2/output/CASH_CONNECTED_GRAPH_CHANGE_EVENT/V3/date=2025-06-26/part-00001-e3e69476-199d-4c53-ae26-b880526d249d.c000.avro",
         "part-00001-e3e69476-199d-4c53-ae26-b880526d249d.c000.avro",
         968,
         1751155330000
        ],
        [
         "s3a://lakehouse-edgy-production-us-west-2/output/CASH_CONNECTED_GRAPH_CHANGE_EVENT/V3/date=2025-06-26/part-00001-e9604e45-348d-417f-9a59-ec36ad4baa22.c000.avro",
         "part-00001-e9604e45-348d-417f-9a59-ec36ad4baa22.c000.avro",
         631,
         1751162533000
        ],
        [
         "s3a://lakehouse-edgy-production-us-west-2/output/CASH_CONNECTED_GRAPH_CHANGE_EVENT/V3/date=2025-06-26/part-00001-eb8b1451-1049-478d-b0f1-0542b86ef303.c000.avro",
         "part-00001-eb8b1451-1049-478d-b0f1-0542b86ef303.c000.avro",
         868,
         1751317341000
        ],
        [
         "s3a://lakehouse-edgy-production-us-west-2/output/CASH_CONNECTED_GRAPH_CHANGE_EVENT/V3/date=2025-06-26/part-00001-edeb7adb-2ba6-4f6f-9f7d-15c41554c725.c000.avro",
         "part-00001-edeb7adb-2ba6-4f6f-9f7d-15c41554c725.c000.avro",
         977,
         1751158949000
        ],
        [
         "s3a://lakehouse-edgy-production-us-west-2/output/CASH_CONNECTED_GRAPH_CHANGE_EVENT/V3/date=2025-06-26/part-00001-f42d3f24-4ca2-4d1a-a031-55ba718677ac.c000.avro",
         "part-00001-f42d3f24-4ca2-4d1a-a031-55ba718677ac.c000.avro",
         486,
         1751274121000
        ],
        [
         "s3a://lakehouse-edgy-production-us-west-2/output/CASH_CONNECTED_GRAPH_CHANGE_EVENT/V3/date=2025-06-26/part-00001-f80185d7-fd69-4bf5-9cc4-9b6edc1076d8.c000.avro",
         "part-00001-f80185d7-fd69-4bf5-9cc4-9b6edc1076d8.c000.avro",
         487,
         1751281303000
        ],
        [
         "s3a://lakehouse-edgy-production-us-west-2/output/CASH_CONNECTED_GRAPH_CHANGE_EVENT/V3/date=2025-06-26/part-00001-fa3b1ca7-961d-42d5-a0cd-e19be2a28844.c000.avro",
         "part-00001-fa3b1ca7-961d-42d5-a0cd-e19be2a28844.c000.avro",
         1136,
         1751133769000
        ],
        [
         "s3a://lakehouse-edgy-production-us-west-2/output/CASH_CONNECTED_GRAPH_CHANGE_EVENT/V3/date=2025-06-26/part-00001-facaa14f-f817-4f6b-8250-68c41bac7ecd.c000.avro",
         "part-00001-facaa14f-f817-4f6b-8250-68c41bac7ecd.c000.avro",
         759,
         1751119395000
        ],
        [
         "s3a://lakehouse-edgy-production-us-west-2/output/CASH_CONNECTED_GRAPH_CHANGE_EVENT/V3/date=2025-06-26/part-00002-04438725-ed29-4bcc-b476-f1a70a292d6e.c000.avro",
         "part-00002-04438725-ed29-4bcc-b476-f1a70a292d6e.c000.avro",
         882,
         1751022118000
        ],
        [
         "s3a://lakehouse-edgy-production-us-west-2/output/CASH_CONNECTED_GRAPH_CHANGE_EVENT/V3/date=2025-06-26/part-00002-0623acc5-8ca7-4872-b8c8-4a5a2a828c03.c000.avro",
         "part-00002-0623acc5-8ca7-4872-b8c8-4a5a2a828c03.c000.avro",
         787,
         1751144528000
        ],
        [
         "s3a://lakehouse-edgy-production-us-west-2/output/CASH_CONNECTED_GRAPH_CHANGE_EVENT/V3/date=2025-06-26/part-00002-07746a62-05c8-4ec7-9058-e75713eab96b.c000.avro",
         "part-00002-07746a62-05c8-4ec7-9058-e75713eab96b.c000.avro",
         2214862,
         1750939308000
        ],
        [
         "s3a://lakehouse-edgy-production-us-west-2/output/CASH_CONNECTED_GRAPH_CHANGE_EVENT/V3/date=2025-06-26/part-00002-08c14fc9-1595-43d4-ab8b-30944548443f.c000.avro",
         "part-00002-08c14fc9-1595-43d4-ab8b-30944548443f.c000.avro",
         736,
         1751299587000
        ],
        [
         "s3a://lakehouse-edgy-production-us-west-2/output/CASH_CONNECTED_GRAPH_CHANGE_EVENT/V3/date=2025-06-26/part-00002-0a27169a-b48b-462a-9363-8cb629189645.c000.avro",
         "part-00002-0a27169a-b48b-462a-9363-8cb629189645.c000.avro",
         738,
         1751014918000
        ],
        [
         "s3a://lakehouse-edgy-production-us-west-2/output/CASH_CONNECTED_GRAPH_CHANGE_EVENT/V3/date=2025-06-26/part-00002-0a7f53d0-3103-4295-9688-b1f76f6e50e2.c000.avro",
         "part-00002-0a7f53d0-3103-4295-9688-b1f76f6e50e2.c000.avro",
         3818000,
         1750950150000
        ],
        [
         "s3a://lakehouse-edgy-production-us-west-2/output/CASH_CONNECTED_GRAPH_CHANGE_EVENT/V3/date=2025-06-26/part-00002-106618e3-db7c-4ed7-bf73-ed8499faa5f4.c000.avro",
         "part-00002-106618e3-db7c-4ed7-bf73-ed8499faa5f4.c000.avro",
         487,
         1751288511000
        ],
        [
         "s3a://lakehouse-edgy-production-us-west-2/output/CASH_CONNECTED_GRAPH_CHANGE_EVENT/V3/date=2025-06-26/part-00002-113c8607-7612-4e56-8385-493355aaf994.c000.avro",
         "part-00002-113c8607-7612-4e56-8385-493355aaf994.c000.avro",
         1140,
         1751033199000
        ],
        [
         "s3a://lakehouse-edgy-production-us-west-2/output/CASH_CONNECTED_GRAPH_CHANGE_EVENT/V3/date=2025-06-26/part-00002-14715345-ce50-4979-9a6c-cd01621d3b3d.c000.avro",
         "part-00002-14715345-ce50-4979-9a6c-cd01621d3b3d.c000.avro",
         1341,
         1751029336000
        ],
        [
         "s3a://lakehouse-edgy-production-us-west-2/output/CASH_CONNECTED_GRAPH_CHANGE_EVENT/V3/date=2025-06-26/part-00002-1795376e-7042-4f39-bb19-45b8fcc7b314.c000.avro",
         "part-00002-1795376e-7042-4f39-bb19-45b8fcc7b314.c000.avro",
         630,
         1751320941000
        ],
        [
         "s3a://lakehouse-edgy-production-us-west-2/output/CASH_CONNECTED_GRAPH_CHANGE_EVENT/V3/date=2025-06-26/part-00002-1df5bdef-af8a-4285-95d1-026596d73027.c000.avro",
         "part-00002-1df5bdef-af8a-4285-95d1-026596d73027.c000.avro",
         4111469,
         1750899935000
        ],
        [
         "s3a://lakehouse-edgy-production-us-west-2/output/CASH_CONNECTED_GRAPH_CHANGE_EVENT/V3/date=2025-06-26/part-00002-20615bbe-b5e5-4b12-bcd9-eb647332b20b.c000.avro",
         "part-00002-20615bbe-b5e5-4b12-bcd9-eb647332b20b.c000.avro",
         637,
         1751011308000
        ],
        [
         "s3a://lakehouse-edgy-production-us-west-2/output/CASH_CONNECTED_GRAPH_CHANGE_EVENT/V3/date=2025-06-26/part-00002-252877c9-d2e5-49aa-adee-fe62fac88aa0.c000.avro",
         "part-00002-252877c9-d2e5-49aa-adee-fe62fac88aa0.c000.avro",
         2993082,
         1750910544000
        ],
        [
         "s3a://lakehouse-edgy-production-us-west-2/output/CASH_CONNECTED_GRAPH_CHANGE_EVENT/V3/date=2025-06-26/part-00002-28917e9e-a187-4f1c-bf43-544e581464d9.c000.avro",
         "part-00002-28917e9e-a187-4f1c-bf43-544e581464d9.c000.avro",
         1234,
         1751122932000
        ],
        [
         "s3a://lakehouse-edgy-production-us-west-2/output/CASH_CONNECTED_GRAPH_CHANGE_EVENT/V3/date=2025-06-26/part-00002-2a5c0bb9-46e4-4304-9ada-7c2d026fc1ba.c000.avro",
         "part-00002-2a5c0bb9-46e4-4304-9ada-7c2d026fc1ba.c000.avro",
         3417657,
         1750906963000
        ],
        [
         "s3a://lakehouse-edgy-production-us-west-2/output/CASH_CONNECTED_GRAPH_CHANGE_EVENT/V3/date=2025-06-26/part-00002-2c4fd005-63ce-4720-afb3-f3d5f1c3c5c7.c000.avro",
         "part-00002-2c4fd005-63ce-4720-afb3-f3d5f1c3c5c7.c000.avro",
         1103,
         1751313771000
        ],
        [
         "s3a://lakehouse-edgy-production-us-west-2/output/CASH_CONNECTED_GRAPH_CHANGE_EVENT/V3/date=2025-06-26/part-00002-2e0d0aa0-a202-4810-b431-e23f0709f27a.c000.avro",
         "part-00002-2e0d0aa0-a202-4810-b431-e23f0709f27a.c000.avro",
         489,
         1751119397000
        ],
        [
         "s3a://lakehouse-edgy-production-us-west-2/output/CASH_CONNECTED_GRAPH_CHANGE_EVENT/V3/date=2025-06-26/part-00002-3266aa58-5670-468d-980a-d99013cc5c49.c000.avro",
         "part-00002-3266aa58-5670-468d-980a-d99013cc5c49.c000.avro",
         1601,
         1750996937000
        ],
        [
         "s3a://lakehouse-edgy-production-us-west-2/output/CASH_CONNECTED_GRAPH_CHANGE_EVENT/V3/date=2025-06-26/part-00002-33b06f61-d36b-45e4-8b9e-615971cb9172.c000.avro",
         "part-00002-33b06f61-d36b-45e4-8b9e-615971cb9172.c000.avro",
         495,
         1751245499000
        ],
        [
         "s3a://lakehouse-edgy-production-us-west-2/output/CASH_CONNECTED_GRAPH_CHANGE_EVENT/V3/date=2025-06-26/part-00002-35d28392-115e-49c7-b256-0b505d4f8b1a.c000.avro",
         "part-00002-35d28392-115e-49c7-b256-0b505d4f8b1a.c000.avro",
         974,
         1751158948000
        ],
        [
         "s3a://lakehouse-edgy-production-us-west-2/output/CASH_CONNECTED_GRAPH_CHANGE_EVENT/V3/date=2025-06-26/part-00002-3740517e-9474-4e10-84f3-dd6cd1c2c3e2.c000.avro",
         "part-00002-3740517e-9474-4e10-84f3-dd6cd1c2c3e2.c000.avro",
         465,
         1751284939000
        ],
        [
         "s3a://lakehouse-edgy-production-us-west-2/output/CASH_CONNECTED_GRAPH_CHANGE_EVENT/V3/date=2025-06-26/part-00002-37ef4a62-dd1d-4533-8240-1bbe415d7fb2.c000.avro",
         "part-00002-37ef4a62-dd1d-4533-8240-1bbe415d7fb2.c000.avro",
         740,
         1751328147000
        ],
        [
         "s3a://lakehouse-edgy-production-us-west-2/output/CASH_CONNECTED_GRAPH_CHANGE_EVENT/V3/date=2025-06-26/part-00002-389ada92-43c1-4e15-a98a-82e369973cd7.c000.avro",
         "part-00002-389ada92-43c1-4e15-a98a-82e369973cd7.c000.avro",
         489,
         1751176911000
        ],
        [
         "s3a://lakehouse-edgy-production-us-west-2/output/CASH_CONNECTED_GRAPH_CHANGE_EVENT/V3/date=2025-06-26/part-00002-38e8c0e2-58ed-44ea-b3b2-782508a15429.c000.avro",
         "part-00002-38e8c0e2-58ed-44ea-b3b2-782508a15429.c000.avro",
         1735292,
         1750932119000
        ],
        [
         "s3a://lakehouse-edgy-production-us-west-2/output/CASH_CONNECTED_GRAPH_CHANGE_EVENT/V3/date=2025-06-26/part-00002-390a8215-3966-436b-a701-476678786e42.c000.avro",
         "part-00002-390a8215-3966-436b-a701-476678786e42.c000.avro",
         622,
         1751256118000
        ],
        [
         "s3a://lakehouse-edgy-production-us-west-2/output/CASH_CONNECTED_GRAPH_CHANGE_EVENT/V3/date=2025-06-26/part-00002-3a244ab9-fa1c-4223-8fcc-ee948fcec332.c000.avro",
         "part-00002-3a244ab9-fa1c-4223-8fcc-ee948fcec332.c000.avro",
         4433350,
         1750979125000
        ],
        [
         "s3a://lakehouse-edgy-production-us-west-2/output/CASH_CONNECTED_GRAPH_CHANGE_EVENT/V3/date=2025-06-26/part-00002-3aeed4e4-5eec-4dac-a5af-58efb3e13585.c000.avro",
         "part-00002-3aeed4e4-5eec-4dac-a5af-58efb3e13585.c000.avro",
         1352,
         1751148140000
        ],
        [
         "s3a://lakehouse-edgy-production-us-west-2/output/CASH_CONNECTED_GRAPH_CHANGE_EVENT/V3/date=2025-06-26/part-00002-3c07ee3e-137e-4527-b00c-caf4f009bdc7.c000.avro",
         "part-00002-3c07ee3e-137e-4527-b00c-caf4f009bdc7.c000.avro",
         613,
         1751274121000
        ],
        [
         "s3a://lakehouse-edgy-production-us-west-2/output/CASH_CONNECTED_GRAPH_CHANGE_EVENT/V3/date=2025-06-26/part-00002-3cffd3d4-e32c-48f6-8f60-7eed2e852e36.c000.avro",
         "part-00002-3cffd3d4-e32c-48f6-8f60-7eed2e852e36.c000.avro",
         1966,
         1751054554000
        ],
        [
         "s3a://lakehouse-edgy-production-us-west-2/output/CASH_CONNECTED_GRAPH_CHANGE_EVENT/V3/date=2025-06-26/part-00002-3e4d2c25-096a-4f8c-82e1-7b67ae648026.c000.avro",
         "part-00002-3e4d2c25-096a-4f8c-82e1-7b67ae648026.c000.avro",
         623,
         1751292173000
        ],
        [
         "s3a://lakehouse-edgy-production-us-west-2/output/CASH_CONNECTED_GRAPH_CHANGE_EVENT/V3/date=2025-06-26/part-00002-3ffae42d-2389-4af9-ace2-7b8d7fb720a5.c000.avro",
         "part-00002-3ffae42d-2389-4af9-ace2-7b8d7fb720a5.c000.avro",
         2084,
         1751126530000
        ],
        [
         "s3a://lakehouse-edgy-production-us-west-2/output/CASH_CONNECTED_GRAPH_CHANGE_EVENT/V3/date=2025-06-26/part-00002-456a06f0-0365-4e3f-a4cb-6cb25f08b677.c000.avro",
         "part-00002-456a06f0-0365-4e3f-a4cb-6cb25f08b677.c000.avro",
         1233,
         1751068944000
        ],
        [
         "s3a://lakehouse-edgy-production-us-west-2/output/CASH_CONNECTED_GRAPH_CHANGE_EVENT/V3/date=2025-06-26/part-00002-45d347e7-5da4-41a0-ad64-6130b4f72fa4.c000.avro",
         "part-00002-45d347e7-5da4-41a0-ad64-6130b4f72fa4.c000.avro",
         856,
         1751025749000
        ],
        [
         "s3a://lakehouse-edgy-production-us-west-2/output/CASH_CONNECTED_GRAPH_CHANGE_EVENT/V3/date=2025-06-26/part-00002-498f33d8-116d-43a0-acde-921024ad8e64.c000.avro",
         "part-00002-498f33d8-116d-43a0-acde-921024ad8e64.c000.avro",
         487,
         1751108530000
        ],
        [
         "s3a://lakehouse-edgy-production-us-west-2/output/CASH_CONNECTED_GRAPH_CHANGE_EVENT/V3/date=2025-06-26/part-00002-4a8c1e0e-b477-4a12-b8d9-f04d43f2fc72.c000.avro",
         "part-00002-4a8c1e0e-b477-4a12-b8d9-f04d43f2fc72.c000.avro",
         755,
         1751306710000
        ],
        [
         "s3a://lakehouse-edgy-production-us-west-2/output/CASH_CONNECTED_GRAPH_CHANGE_EVENT/V3/date=2025-06-26/part-00002-4b047fc0-5fac-47de-a40c-c9dedaeeacb8.c000.avro",
         "part-00002-4b047fc0-5fac-47de-a40c-c9dedaeeacb8.c000.avro",
         610,
         1751205740000
        ],
        [
         "s3a://lakehouse-edgy-production-us-west-2/output/CASH_CONNECTED_GRAPH_CHANGE_EVENT/V3/date=2025-06-26/part-00002-4f4f44d2-402f-41fe-85fd-f2b698a84aec.c000.avro",
         "part-00002-4f4f44d2-402f-41fe-85fd-f2b698a84aec.c000.avro",
         1104,
         1751130368000
        ],
        [
         "s3a://lakehouse-edgy-production-us-west-2/output/CASH_CONNECTED_GRAPH_CHANGE_EVENT/V3/date=2025-06-26/part-00002-501af771-07fa-47c4-9edc-8ac6d506dbdf.c000.avro",
         "part-00002-501af771-07fa-47c4-9edc-8ac6d506dbdf.c000.avro",
         1496,
         1751051147000
        ],
        [
         "s3a://lakehouse-edgy-production-us-west-2/output/CASH_CONNECTED_GRAPH_CHANGE_EVENT/V3/date=2025-06-26/part-00002-509824b2-6bdb-4774-81ac-cccffefb172f.c000.avro",
         "part-00002-509824b2-6bdb-4774-81ac-cccffefb172f.c000.avro",
         2968834,
         1750917764000
        ],
        [
         "s3a://lakehouse-edgy-production-us-west-2/output/CASH_CONNECTED_GRAPH_CHANGE_EVENT/V3/date=2025-06-26/part-00002-57364b31-07f0-47a8-982d-6e936f63d74c.c000.avro",
         "part-00002-57364b31-07f0-47a8-982d-6e936f63d74c.c000.avro",
         2949,
         1750989751000
        ],
        [
         "s3a://lakehouse-edgy-production-us-west-2/output/CASH_CONNECTED_GRAPH_CHANGE_EVENT/V3/date=2025-06-26/part-00002-59e59d5f-bce5-4f5b-8572-bfbe1188f246.c000.avro",
         "part-00002-59e59d5f-bce5-4f5b-8572-bfbe1188f246.c000.avro",
         4110055,
         1750903393000
        ],
        [
         "s3a://lakehouse-edgy-production-us-west-2/output/CASH_CONNECTED_GRAPH_CHANGE_EVENT/V3/date=2025-06-26/part-00002-5c7cf8c4-9e2b-496b-8ac3-5c73874dc2ed.c000.avro",
         "part-00002-5c7cf8c4-9e2b-496b-8ac3-5c73874dc2ed.c000.avro",
         4195827,
         1750957356000
        ],
        [
         "s3a://lakehouse-edgy-production-us-west-2/output/CASH_CONNECTED_GRAPH_CHANGE_EVENT/V3/date=2025-06-26/part-00002-5cc76707-eda1-4162-bb4e-c7a36ae991d7.c000.avro",
         "part-00002-5cc76707-eda1-4162-bb4e-c7a36ae991d7.c000.avro",
         1493,
         1751058317000
        ],
        [
         "s3a://lakehouse-edgy-production-us-west-2/output/CASH_CONNECTED_GRAPH_CHANGE_EVENT/V3/date=2025-06-26/part-00002-5d706f43-a273-436f-b287-085ff0f88688.c000.avro",
         "part-00002-5d706f43-a273-436f-b287-085ff0f88688.c000.avro",
         868,
         1751166346000
        ],
        [
         "s3a://lakehouse-edgy-production-us-west-2/output/CASH_CONNECTED_GRAPH_CHANGE_EVENT/V3/date=2025-06-26/part-00002-603f3bec-9ec1-43f0-a6e7-633e5509933e.c000.avro",
         "part-00002-603f3bec-9ec1-43f0-a6e7-633e5509933e.c000.avro",
         618,
         1751018522000
        ],
        [
         "s3a://lakehouse-edgy-production-us-west-2/output/CASH_CONNECTED_GRAPH_CHANGE_EVENT/V3/date=2025-06-26/part-00002-63dc4ab8-1093-48ed-a828-d20e3322c108.c000.avro",
         "part-00002-63dc4ab8-1093-48ed-a828-d20e3322c108.c000.avro",
         986,
         1751007971000
        ],
        [
         "s3a://lakehouse-edgy-production-us-west-2/output/CASH_CONNECTED_GRAPH_CHANGE_EVENT/V3/date=2025-06-26/part-00002-68801a59-8222-476d-a2c6-fcaf1f39e065.c000.avro",
         "part-00002-68801a59-8222-476d-a2c6-fcaf1f39e065.c000.avro",
         488,
         1751115922000
        ],
        [
         "s3a://lakehouse-edgy-production-us-west-2/output/CASH_CONNECTED_GRAPH_CHANGE_EVENT/V3/date=2025-06-26/part-00002-6f92a3bc-43ad-4db5-8d8a-55fb183bbcd2.c000.avro",
         "part-00002-6f92a3bc-43ad-4db5-8d8a-55fb183bbcd2.c000.avro",
         780,
         1751162536000
        ],
        [
         "s3a://lakehouse-edgy-production-us-west-2/output/CASH_CONNECTED_GRAPH_CHANGE_EVENT/V3/date=2025-06-26/part-00002-70cbfe41-a4eb-4ea3-9a6e-e3ab142357b7.c000.avro",
         "part-00002-70cbfe41-a4eb-4ea3-9a6e-e3ab142357b7.c000.avro",
         4733103,
         1750968154000
        ],
        [
         "s3a://lakehouse-edgy-production-us-west-2/output/CASH_CONNECTED_GRAPH_CHANGE_EVENT/V3/date=2025-06-26/part-00002-712611f8-e6f1-4b72-8f2b-0451fac08b2a.c000.avro",
         "part-00002-712611f8-e6f1-4b72-8f2b-0451fac08b2a.c000.avro",
         619,
         1751180537000
        ],
        [
         "s3a://lakehouse-edgy-production-us-west-2/output/CASH_CONNECTED_GRAPH_CHANGE_EVENT/V3/date=2025-06-26/part-00002-768f9c97-9c9a-412f-96c4-4bf06fa97276.c000.avro",
         "part-00002-768f9c97-9c9a-412f-96c4-4bf06fa97276.c000.avro",
         738,
         1751155326000
        ],
        [
         "s3a://lakehouse-edgy-production-us-west-2/output/CASH_CONNECTED_GRAPH_CHANGE_EVENT/V3/date=2025-06-26/part-00002-8251f9b1-9cc4-4432-8017-006336edf30a.c000.avro",
         "part-00002-8251f9b1-9cc4-4432-8017-006336edf30a.c000.avro",
         493,
         1751295755000
        ],
        [
         "s3a://lakehouse-edgy-production-us-west-2/output/CASH_CONNECTED_GRAPH_CHANGE_EVENT/V3/date=2025-06-26/part-00002-8391ceaf-2c93-4449-a248-98b735efe0c5.c000.avro",
         "part-00002-8391ceaf-2c93-4449-a248-98b735efe0c5.c000.avro",
         3584261,
         1750942963000
        ],
        [
         "s3a://lakehouse-edgy-production-us-west-2/output/CASH_CONNECTED_GRAPH_CHANGE_EVENT/V3/date=2025-06-26/part-00002-885de962-2fa2-4663-bbd6-0520a4d74ee5.c000.avro",
         "part-00002-885de962-2fa2-4663-bbd6-0520a4d74ee5.c000.avro",
         645,
         1751216561000
        ],
        [
         "s3a://lakehouse-edgy-production-us-west-2/output/CASH_CONNECTED_GRAPH_CHANGE_EVENT/V3/date=2025-06-26/part-00002-8df77055-17d0-485e-92a9-22ae9072e11f.c000.avro",
         "part-00002-8df77055-17d0-485e-92a9-22ae9072e11f.c000.avro",
         5168686,
         1750971933000
        ],
        [
         "s3a://lakehouse-edgy-production-us-west-2/output/CASH_CONNECTED_GRAPH_CHANGE_EVENT/V3/date=2025-06-26/part-00002-8dfa308a-82c7-4880-adbc-9f2839a69076.c000.avro",
         "part-00002-8dfa308a-82c7-4880-adbc-9f2839a69076.c000.avro",
         488,
         1751101308000
        ],
        [
         "s3a://lakehouse-edgy-production-us-west-2/output/CASH_CONNECTED_GRAPH_CHANGE_EVENT/V3/date=2025-06-26/part-00002-8e0c66c1-68d5-48b7-bec3-960c38582ec7.c000.avro",
         "part-00002-8e0c66c1-68d5-48b7-bec3-960c38582ec7.c000.avro",
         960,
         1751072603000
        ],
        [
         "s3a://lakehouse-edgy-production-us-west-2/output/CASH_CONNECTED_GRAPH_CHANGE_EVENT/V3/date=2025-06-26/part-00002-8e3810dd-6ab5-4f3d-ac89-a44f8abae2be.c000.avro",
         "part-00002-8e3810dd-6ab5-4f3d-ac89-a44f8abae2be.c000.avro",
         1488,
         1751137367000
        ],
        [
         "s3a://lakehouse-edgy-production-us-west-2/output/CASH_CONNECTED_GRAPH_CHANGE_EVENT/V3/date=2025-06-26/part-00002-8e3d00b9-b57a-4d71-afcc-1b1114f653ed.c000.avro",
         "part-00002-8e3d00b9-b57a-4d71-afcc-1b1114f653ed.c000.avro",
         1244,
         1751000538000
        ],
        [
         "s3a://lakehouse-edgy-production-us-west-2/output/CASH_CONNECTED_GRAPH_CHANGE_EVENT/V3/date=2025-06-26/part-00002-8edf5085-9e30-42b8-8fa1-edc625505e85.c000.avro",
         "part-00002-8edf5085-9e30-42b8-8fa1-edc625505e85.c000.avro",
         464,
         1751090531000
        ],
        [
         "s3a://lakehouse-edgy-production-us-west-2/output/CASH_CONNECTED_GRAPH_CHANGE_EVENT/V3/date=2025-06-26/part-00002-8efd9a4c-d8d5-448f-97cb-38dbeab36d3c.c000.avro",
         "part-00002-8efd9a4c-d8d5-448f-97cb-38dbeab36d3c.c000.avro",
         640,
         1751213109000
        ],
        [
         "s3a://lakehouse-edgy-production-us-west-2/output/CASH_CONNECTED_GRAPH_CHANGE_EVENT/V3/date=2025-06-26/part-00002-9532178a-e8b7-49c5-ae41-57b0eb5139d6.c000.avro",
         "part-00002-9532178a-e8b7-49c5-ae41-57b0eb5139d6.c000.avro",
         1144,
         1751209323000
        ],
        [
         "s3a://lakehouse-edgy-production-us-west-2/output/CASH_CONNECTED_GRAPH_CHANGE_EVENT/V3/date=2025-06-26/part-00002-962378c7-0613-44b9-8410-208a087b5eb9.c000.avro",
         "part-00002-962378c7-0613-44b9-8410-208a087b5eb9.c000.avro",
         983,
         1751083346000
        ],
        [
         "s3a://lakehouse-edgy-production-us-west-2/output/CASH_CONNECTED_GRAPH_CHANGE_EVENT/V3/date=2025-06-26/part-00002-9a508b6f-30d1-41a0-aa20-2a5df911fed6.c000.avro",
         "part-00002-9a508b6f-30d1-41a0-aa20-2a5df911fed6.c000.avro",
         1729,
         1751036549000
        ],
        [
         "s3a://lakehouse-edgy-production-us-west-2/output/CASH_CONNECTED_GRAPH_CHANGE_EVENT/V3/date=2025-06-26/part-00002-9ba5af37-5222-442d-b822-8c8b4dc20657.c000.avro",
         "part-00002-9ba5af37-5222-442d-b822-8c8b4dc20657.c000.avro",
         1459,
         1751079733000
        ],
        [
         "s3a://lakehouse-edgy-production-us-west-2/output/CASH_CONNECTED_GRAPH_CHANGE_EVENT/V3/date=2025-06-26/part-00002-a1b4ee9a-1e08-4b24-9e5b-9943f5222436.c000.avro",
         "part-00002-a1b4ee9a-1e08-4b24-9e5b-9943f5222436.c000.avro",
         1960435,
         1750928488000
        ],
        [
         "s3a://lakehouse-edgy-production-us-west-2/output/CASH_CONNECTED_GRAPH_CHANGE_EVENT/V3/date=2025-06-26/part-00002-a2b2fbd7-b46a-45db-8c83-14f76023c31b.c000.avro",
         "part-00002-a2b2fbd7-b46a-45db-8c83-14f76023c31b.c000.avro",
         1060,
         1751076164000
        ],
        [
         "s3a://lakehouse-edgy-production-us-west-2/output/CASH_CONNECTED_GRAPH_CHANGE_EVENT/V3/date=2025-06-26/part-00002-a5d7acbd-5c67-4c08-96d5-c3627ab1d50e.c000.avro",
         "part-00002-a5d7acbd-5c67-4c08-96d5-c3627ab1d50e.c000.avro",
         271340,
         1750896340000
        ],
        [
         "s3a://lakehouse-edgy-production-us-west-2/output/CASH_CONNECTED_GRAPH_CHANGE_EVENT/V3/date=2025-06-26/part-00002-a6778235-b71d-470b-884f-811f80495ea6.c000.avro",
         "part-00002-a6778235-b71d-470b-884f-811f80495ea6.c000.avro",
         1124,
         1751151908000
        ],
        [
         "s3a://lakehouse-edgy-production-us-west-2/output/CASH_CONNECTED_GRAPH_CHANGE_EVENT/V3/date=2025-06-26/part-00002-a7a3140a-73a4-42d5-8efc-d2a4d4d32e28.c000.avro",
         "part-00002-a7a3140a-73a4-42d5-8efc-d2a4d4d32e28.c000.avro",
         742,
         1751230958000
        ],
        [
         "s3a://lakehouse-edgy-production-us-west-2/output/CASH_CONNECTED_GRAPH_CHANGE_EVENT/V3/date=2025-06-26/part-00002-ac33fa03-8cb5-4170-8273-3c4e61b5b77d.c000.avro",
         "part-00002-ac33fa03-8cb5-4170-8273-3c4e61b5b77d.c000.avro",
         620,
         1751270493000
        ],
        [
         "s3a://lakehouse-edgy-production-us-west-2/output/CASH_CONNECTED_GRAPH_CHANGE_EVENT/V3/date=2025-06-26/part-00002-aca0237d-a61f-491e-adb3-fd821f8c85a2.c000.avro",
         "part-00002-aca0237d-a61f-491e-adb3-fd821f8c85a2.c000.avro",
         1841,
         1750993350000
        ],
        [
         "s3a://lakehouse-edgy-production-us-west-2/output/CASH_CONNECTED_GRAPH_CHANGE_EVENT/V3/date=2025-06-26/part-00002-adb8b1e4-87a1-44d4-8525-dfea8279947d.c000.avro",
         "part-00002-adb8b1e4-87a1-44d4-8525-dfea8279947d.c000.avro",
         1385,
         1751047552000
        ],
        [
         "s3a://lakehouse-edgy-production-us-west-2/output/CASH_CONNECTED_GRAPH_CHANGE_EVENT/V3/date=2025-06-26/part-00002-adc1aae8-79c8-4cac-844a-efe72b1f4fd0.c000.avro",
         "part-00002-adc1aae8-79c8-4cac-844a-efe72b1f4fd0.c000.avro",
         3890956,
         1750954024000
        ],
        [
         "s3a://lakehouse-edgy-production-us-west-2/output/CASH_CONNECTED_GRAPH_CHANGE_EVENT/V3/date=2025-06-26/part-00002-b21e0f2f-7298-4065-b6e7-5772cf191a39.c000.avro",
         "part-00002-b21e0f2f-7298-4065-b6e7-5772cf191a39.c000.avro",
         746,
         1751112130000
        ],
        [
         "s3a://lakehouse-edgy-production-us-west-2/output/CASH_CONNECTED_GRAPH_CHANGE_EVENT/V3/date=2025-06-26/part-00002-b2ae10f5-434b-4de2-8c63-dc10c5b9486d.c000.avro",
         "part-00002-b2ae10f5-434b-4de2-8c63-dc10c5b9486d.c000.avro",
         758,
         1751094110000
        ],
        [
         "s3a://lakehouse-edgy-production-us-west-2/output/CASH_CONNECTED_GRAPH_CHANGE_EVENT/V3/date=2025-06-26/part-00002-b40e4c19-a914-4dcd-8949-892e0d12e353.c000.avro",
         "part-00002-b40e4c19-a914-4dcd-8949-892e0d12e353.c000.avro",
         3363507,
         1750946554000
        ],
        [
         "s3a://lakehouse-edgy-production-us-west-2/output/CASH_CONNECTED_GRAPH_CHANGE_EVENT/V3/date=2025-06-26/part-00002-baa34b9c-393d-4d1f-b2ed-65f98fcebce8.c000.avro",
         "part-00002-baa34b9c-393d-4d1f-b2ed-65f98fcebce8.c000.avro",
         613,
         1751097739000
        ],
        [
         "s3a://lakehouse-edgy-production-us-west-2/output/CASH_CONNECTED_GRAPH_CHANGE_EVENT/V3/date=2025-06-26/part-00002-bc759f0b-4277-42c7-9df4-b3b20b8b698c.c000.avro",
         "part-00002-bc759f0b-4277-42c7-9df4-b3b20b8b698c.c000.avro",
         1005,
         1751238328000
        ],
        [
         "s3a://lakehouse-edgy-production-us-west-2/output/CASH_CONNECTED_GRAPH_CHANGE_EVENT/V3/date=2025-06-26/part-00002-be5790cd-8f39-49a3-9282-7c6ecb0dcbc2.c000.avro",
         "part-00002-be5790cd-8f39-49a3-9282-7c6ecb0dcbc2.c000.avro",
         488,
         1751310171000
        ],
        [
         "s3a://lakehouse-edgy-production-us-west-2/output/CASH_CONNECTED_GRAPH_CHANGE_EVENT/V3/date=2025-06-26/part-00002-c11367b8-45ba-4305-9bd0-0e47a3e4bb31.c000.avro",
         "part-00002-c11367b8-45ba-4305-9bd0-0e47a3e4bb31.c000.avro",
         5125864,
         1750975546000
        ],
        [
         "s3a://lakehouse-edgy-production-us-west-2/output/CASH_CONNECTED_GRAPH_CHANGE_EVENT/V3/date=2025-06-26/part-00002-c3c6160a-adfb-414c-af3c-7c79436c3ff9.c000.avro",
         "part-00002-c3c6160a-adfb-414c-af3c-7c79436c3ff9.c000.avro",
         465,
         1751317337000
        ],
        [
         "s3a://lakehouse-edgy-production-us-west-2/output/CASH_CONNECTED_GRAPH_CHANGE_EVENT/V3/date=2025-06-26/part-00002-c63b6839-f8a4-4c41-a74c-5df2dfc7c1e1.c000.avro",
         "part-00002-c63b6839-f8a4-4c41-a74c-5df2dfc7c1e1.c000.avro",
         647,
         1751004123000
        ],
        [
         "s3a://lakehouse-edgy-production-us-west-2/output/CASH_CONNECTED_GRAPH_CHANGE_EVENT/V3/date=2025-06-26/part-00002-c8f304a2-2c72-42d0-8e0d-0f87b75bc4e3.c000.avro",
         "part-00002-c8f304a2-2c72-42d0-8e0d-0f87b75bc4e3.c000.avro",
         639,
         1751259744000
        ],
        [
         "s3a://lakehouse-edgy-production-us-west-2/output/CASH_CONNECTED_GRAPH_CHANGE_EVENT/V3/date=2025-06-26/part-00002-c9e02b47-77bf-4c53-88d8-e2a21d656b7c.c000.avro",
         "part-00002-c9e02b47-77bf-4c53-88d8-e2a21d656b7c.c000.avro",
         983,
         1751234537000
        ],
        [
         "s3a://lakehouse-edgy-production-us-west-2/output/CASH_CONNECTED_GRAPH_CHANGE_EVENT/V3/date=2025-06-26/part-00002-cba4f35d-0cff-4bab-b827-170db5d81634.c000.avro",
         "part-00002-cba4f35d-0cff-4bab-b827-170db5d81634.c000.avro",
         486,
         1751198500000
        ],
        [
         "s3a://lakehouse-edgy-production-us-west-2/output/CASH_CONNECTED_GRAPH_CHANGE_EVENT/V3/date=2025-06-26/part-00002-ce716ca4-6a5a-462b-b305-463addae69bf.c000.avro",
         "part-00002-ce716ca4-6a5a-462b-b305-463addae69bf.c000.avro",
         4352,
         1750986151000
        ],
        [
         "s3a://lakehouse-edgy-production-us-west-2/output/CASH_CONNECTED_GRAPH_CHANGE_EVENT/V3/date=2025-06-26/part-00002-cf2213e3-085f-4292-9cc3-b15ef2eb7851.c000.avro",
         "part-00002-cf2213e3-085f-4292-9cc3-b15ef2eb7851.c000.avro",
         879,
         1751303131000
        ],
        [
         "s3a://lakehouse-edgy-production-us-west-2/output/CASH_CONNECTED_GRAPH_CHANGE_EVENT/V3/date=2025-06-26/part-00002-cf2a2bfa-7918-4c2f-a2df-a7e91e5b290d.c000.avro",
         "part-00002-cf2a2bfa-7918-4c2f-a2df-a7e91e5b290d.c000.avro",
         2055121,
         1750924915000
        ],
        [
         "s3a://lakehouse-edgy-production-us-west-2/output/CASH_CONNECTED_GRAPH_CHANGE_EVENT/V3/date=2025-06-26/part-00002-d19ecfe4-25c3-4138-ba29-ec4c51a61d31.c000.avro",
         "part-00002-d19ecfe4-25c3-4138-ba29-ec4c51a61d31.c000.avro",
         2141,
         1751065340000
        ],
        [
         "s3a://lakehouse-edgy-production-us-west-2/output/CASH_CONNECTED_GRAPH_CHANGE_EVENT/V3/date=2025-06-26/part-00002-d223affc-10e4-4052-925c-af1e9acae2a1.c000.avro",
         "part-00002-d223affc-10e4-4052-925c-af1e9acae2a1.c000.avro",
         885,
         1751220124000
        ],
        [
         "s3a://lakehouse-edgy-production-us-west-2/output/CASH_CONNECTED_GRAPH_CHANGE_EVENT/V3/date=2025-06-26/part-00002-d263b239-e517-4c01-9666-95ca460bf57b.c000.avro",
         "part-00002-d263b239-e517-4c01-9666-95ca460bf57b.c000.avro",
         861,
         1751173394000
        ],
        [
         "s3a://lakehouse-edgy-production-us-west-2/output/CASH_CONNECTED_GRAPH_CHANGE_EVENT/V3/date=2025-06-26/part-00002-d43723ec-43ef-448b-a81a-6e79fe9d6b1c.c000.avro",
         "part-00002-d43723ec-43ef-448b-a81a-6e79fe9d6b1c.c000.avro",
         4994567,
         1750964559000
        ],
        [
         "s3a://lakehouse-edgy-production-us-west-2/output/CASH_CONNECTED_GRAPH_CHANGE_EVENT/V3/date=2025-06-26/part-00002-d46c060c-1f1e-431d-ac61-1c546fb68672.c000.avro",
         "part-00002-d46c060c-1f1e-431d-ac61-1c546fb68672.c000.avro",
         3638316,
         1750982552000
        ],
        [
         "s3a://lakehouse-edgy-production-us-west-2/output/CASH_CONNECTED_GRAPH_CHANGE_EVENT/V3/date=2025-06-26/part-00002-d68a778b-539d-4b48-9614-72857c89cf09.c000.avro",
         "part-00002-d68a778b-539d-4b48-9614-72857c89cf09.c000.avro",
         754,
         1751133768000
        ],
        [
         "s3a://lakehouse-edgy-production-us-west-2/output/CASH_CONNECTED_GRAPH_CHANGE_EVENT/V3/date=2025-06-26/part-00002-d915eac9-2b21-48fd-8156-596671d7f67c.c000.avro",
         "part-00002-d915eac9-2b21-48fd-8156-596671d7f67c.c000.avro",
         740,
         1751223744000
        ],
        [
         "s3a://lakehouse-edgy-production-us-west-2/output/CASH_CONNECTED_GRAPH_CHANGE_EVENT/V3/date=2025-06-26/part-00002-db318bf7-5898-4cda-b790-19a071092bfd.c000.avro",
         "part-00002-db318bf7-5898-4cda-b790-19a071092bfd.c000.avro",
         998,
         1751169902000
        ],
        [
         "s3a://lakehouse-edgy-production-us-west-2/output/CASH_CONNECTED_GRAPH_CHANGE_EVENT/V3/date=2025-06-26/part-00002-db3c4bfb-8c0a-4ba3-8ef6-cd8bef357c8f.c000.avro",
         "part-00002-db3c4bfb-8c0a-4ba3-8ef6-cd8bef357c8f.c000.avro",
         1005,
         1751087106000
        ],
        [
         "s3a://lakehouse-edgy-production-us-west-2/output/CASH_CONNECTED_GRAPH_CHANGE_EVENT/V3/date=2025-06-26/part-00002-e102a8fd-eb7b-4c97-baf1-7f168fd317b9.c000.avro",
         "part-00002-e102a8fd-eb7b-4c97-baf1-7f168fd317b9.c000.avro",
         480,
         1751187697000
        ],
        [
         "s3a://lakehouse-edgy-production-us-west-2/output/CASH_CONNECTED_GRAPH_CHANGE_EVENT/V3/date=2025-06-26/part-00002-e2e0b043-8295-42e2-b9d4-786d67c8240f.c000.avro",
         "part-00002-e2e0b043-8295-42e2-b9d4-786d67c8240f.c000.avro",
         487,
         1751202343000
        ],
        [
         "s3a://lakehouse-edgy-production-us-west-2/output/CASH_CONNECTED_GRAPH_CHANGE_EVENT/V3/date=2025-06-26/part-00002-e52f668c-295f-45a6-bf90-41a8de09acc6.c000.avro",
         "part-00002-e52f668c-295f-45a6-bf90-41a8de09acc6.c000.avro",
         2123299,
         1750935718000
        ],
        [
         "s3a://lakehouse-edgy-production-us-west-2/output/CASH_CONNECTED_GRAPH_CHANGE_EVENT/V3/date=2025-06-26/part-00002-e7ff264d-474d-426a-9a96-457d730e8c54.c000.avro",
         "part-00002-e7ff264d-474d-426a-9a96-457d730e8c54.c000.avro",
         488,
         1751248928000
        ],
        [
         "s3a://lakehouse-edgy-production-us-west-2/output/CASH_CONNECTED_GRAPH_CHANGE_EVENT/V3/date=2025-06-26/part-00002-e8d8e981-a70b-40a0-90e3-da5c7a81577b.c000.avro",
         "part-00002-e8d8e981-a70b-40a0-90e3-da5c7a81577b.c000.avro",
         746,
         1751331738000
        ],
        [
         "s3a://lakehouse-edgy-production-us-west-2/output/CASH_CONNECTED_GRAPH_CHANGE_EVENT/V3/date=2025-06-26/part-00002-e8f2b21b-30bb-419d-8f92-6f3c34ef9506.c000.avro",
         "part-00002-e8f2b21b-30bb-419d-8f92-6f3c34ef9506.c000.avro",
         1529,
         1751043917000
        ],
        [
         "s3a://lakehouse-edgy-production-us-west-2/output/CASH_CONNECTED_GRAPH_CHANGE_EVENT/V3/date=2025-06-26/part-00002-f0849040-1cb5-458b-90a9-e45a79d3d372.c000.avro",
         "part-00002-f0849040-1cb5-458b-90a9-e45a79d3d372.c000.avro",
         2015,
         1751061751000
        ],
        [
         "s3a://lakehouse-edgy-production-us-west-2/output/CASH_CONNECTED_GRAPH_CHANGE_EVENT/V3/date=2025-06-26/part-00002-f0b7cace-ceba-4e55-909f-846dc97e567b.c000.avro",
         "part-00002-f0b7cace-ceba-4e55-909f-846dc97e567b.c000.avro",
         1011,
         1751227328000
        ],
        [
         "s3a://lakehouse-edgy-production-us-west-2/output/CASH_CONNECTED_GRAPH_CHANGE_EVENT/V3/date=2025-06-26/part-00002-f5fc0d40-5336-46ff-bcaa-0e540bb1918f.c000.avro",
         "part-00002-f5fc0d40-5336-46ff-bcaa-0e540bb1918f.c000.avro",
         3366821,
         1750914326000
        ],
        [
         "s3a://lakehouse-edgy-production-us-west-2/output/CASH_CONNECTED_GRAPH_CHANGE_EVENT/V3/date=2025-06-26/part-00002-f7fb4930-151b-4a73-a01d-f1af4d287399.c000.avro",
         "part-00002-f7fb4930-151b-4a73-a01d-f1af4d287399.c000.avro",
         499,
         1751241743000
        ],
        [
         "s3a://lakehouse-edgy-production-us-west-2/output/CASH_CONNECTED_GRAPH_CHANGE_EVENT/V3/date=2025-06-26/part-00002-f8eecbd9-0cd0-40da-a60c-caf9d08ef411.c000.avro",
         "part-00002-f8eecbd9-0cd0-40da-a60c-caf9d08ef411.c000.avro",
         978,
         1751324565000
        ],
        [
         "s3a://lakehouse-edgy-production-us-west-2/output/CASH_CONNECTED_GRAPH_CHANGE_EVENT/V3/date=2025-06-26/part-00002-f9a6cf26-1fcb-424f-aa6e-775da95cd03d.c000.avro",
         "part-00002-f9a6cf26-1fcb-424f-aa6e-775da95cd03d.c000.avro",
         490,
         1751252585000
        ],
        [
         "s3a://lakehouse-edgy-production-us-west-2/output/CASH_CONNECTED_GRAPH_CHANGE_EVENT/V3/date=2025-06-26/part-00002-fa84c79a-d850-434a-afd8-66be86797440.c000.avro",
         "part-00002-fa84c79a-d850-434a-afd8-66be86797440.c000.avro",
         4533373,
         1750960963000
        ],
        [
         "s3a://lakehouse-edgy-production-us-west-2/output/CASH_CONNECTED_GRAPH_CHANGE_EVENT/V3/date=2025-06-26/part-00002-fac11915-7015-4eab-9820-cb36deeb28f9.c000.avro",
         "part-00002-fac11915-7015-4eab-9820-cb36deeb28f9.c000.avro",
         491,
         1751263337000
        ],
        [
         "s3a://lakehouse-edgy-production-us-west-2/output/CASH_CONNECTED_GRAPH_CHANGE_EVENT/V3/date=2025-06-26/part-00002-fc71d72c-28c7-455c-91cb-44c7fec3da5f.c000.avro",
         "part-00002-fc71d72c-28c7-455c-91cb-44c7fec3da5f.c000.avro",
         1518,
         1751040332000
        ],
        [
         "s3a://lakehouse-edgy-production-us-west-2/output/CASH_CONNECTED_GRAPH_CHANGE_EVENT/V3/date=2025-06-26/part-00002-fe653a08-ac69-40bf-a039-d6b635132c9a.c000.avro",
         "part-00002-fe653a08-ac69-40bf-a039-d6b635132c9a.c000.avro",
         3610734,
         1750921334000
        ],
        [
         "s3a://lakehouse-edgy-production-us-west-2/output/CASH_CONNECTED_GRAPH_CHANGE_EVENT/V3/date=2025-06-26/part-00003-032b0d3d-a01f-48d8-a487-1afdd2749fb5.c000.avro",
         "part-00003-032b0d3d-a01f-48d8-a487-1afdd2749fb5.c000.avro",
         496,
         1751220126000
        ],
        [
         "s3a://lakehouse-edgy-production-us-west-2/output/CASH_CONNECTED_GRAPH_CHANGE_EVENT/V3/date=2025-06-26/part-00003-03863d75-75fe-4b03-91ba-aff9ed86aaff.c000.avro",
         "part-00003-03863d75-75fe-4b03-91ba-aff9ed86aaff.c000.avro",
         4730172,
         1750968154000
        ],
        [
         "s3a://lakehouse-edgy-production-us-west-2/output/CASH_CONNECTED_GRAPH_CHANGE_EVENT/V3/date=2025-06-26/part-00003-0534dd70-7475-4f23-918c-f608dc1c130d.c000.avro",
         "part-00003-0534dd70-7475-4f23-918c-f608dc1c130d.c000.avro",
         747,
         1751252584000
        ],
        [
         "s3a://lakehouse-edgy-production-us-west-2/output/CASH_CONNECTED_GRAPH_CHANGE_EVENT/V3/date=2025-06-26/part-00003-0673be77-de5c-4376-a71f-df00f76d0d37.c000.avro",
         "part-00003-0673be77-de5c-4376-a71f-df00f76d0d37.c000.avro",
         1555,
         1751122933000
        ],
        [
         "s3a://lakehouse-edgy-production-us-west-2/output/CASH_CONNECTED_GRAPH_CHANGE_EVENT/V3/date=2025-06-26/part-00003-0853acab-2437-4684-82af-bb23f22a4c30.c000.avro",
         "part-00003-0853acab-2437-4684-82af-bb23f22a4c30.c000.avro",
         5183099,
         1750971933000
        ],
        [
         "s3a://lakehouse-edgy-production-us-west-2/output/CASH_CONNECTED_GRAPH_CHANGE_EVENT/V3/date=2025-06-26/part-00003-08aa888e-64ab-4db5-8bd5-0bb6d30da884.c000.avro",
         "part-00003-08aa888e-64ab-4db5-8bd5-0bb6d30da884.c000.avro",
         646,
         1751209323000
        ],
        [
         "s3a://lakehouse-edgy-production-us-west-2/output/CASH_CONNECTED_GRAPH_CHANGE_EVENT/V3/date=2025-06-26/part-00003-0ce2b352-7202-4879-9ad5-220623d6c61a.c000.avro",
         "part-00003-0ce2b352-7202-4879-9ad5-220623d6c61a.c000.avro",
         2193,
         1750996937000
        ],
        [
         "s3a://lakehouse-edgy-production-us-west-2/output/CASH_CONNECTED_GRAPH_CHANGE_EVENT/V3/date=2025-06-26/part-00003-1212f6de-8f52-441b-b384-55a96b07f389.c000.avro",
         "part-00003-1212f6de-8f52-441b-b384-55a96b07f389.c000.avro",
         497,
         1751007969000
        ],
        [
         "s3a://lakehouse-edgy-production-us-west-2/output/CASH_CONNECTED_GRAPH_CHANGE_EVENT/V3/date=2025-06-26/part-00003-13e00011-4173-4ddf-8066-789900138143.c000.avro",
         "part-00003-13e00011-4173-4ddf-8066-789900138143.c000.avro",
         616,
         1751105105000
        ],
        [
         "s3a://lakehouse-edgy-production-us-west-2/output/CASH_CONNECTED_GRAPH_CHANGE_EVENT/V3/date=2025-06-26/part-00003-1b82db15-575d-4c2d-ac9b-d73c64e6a172.c000.avro",
         "part-00003-1b82db15-575d-4c2d-ac9b-d73c64e6a172.c000.avro",
         714,
         1751274122000
        ],
        [
         "s3a://lakehouse-edgy-production-us-west-2/output/CASH_CONNECTED_GRAPH_CHANGE_EVENT/V3/date=2025-06-26/part-00003-1dccb405-eecf-4a2c-a689-51d6f0f3d4e8.c000.avro",
         "part-00003-1dccb405-eecf-4a2c-a689-51d6f0f3d4e8.c000.avro",
         609,
         1751292174000
        ],
        [
         "s3a://lakehouse-edgy-production-us-west-2/output/CASH_CONNECTED_GRAPH_CHANGE_EVENT/V3/date=2025-06-26/part-00003-1dd1fdf9-6855-44fd-8e11-a713503e5291.c000.avro",
         "part-00003-1dd1fdf9-6855-44fd-8e11-a713503e5291.c000.avro",
         617,
         1751263334000
        ],
        [
         "s3a://lakehouse-edgy-production-us-west-2/output/CASH_CONNECTED_GRAPH_CHANGE_EVENT/V3/date=2025-06-26/part-00003-23ae04cc-7904-48bd-958d-d1021044b12c.c000.avro",
         "part-00003-23ae04cc-7904-48bd-958d-d1021044b12c.c000.avro",
         867,
         1751025751000
        ],
        [
         "s3a://lakehouse-edgy-production-us-west-2/output/CASH_CONNECTED_GRAPH_CHANGE_EVENT/V3/date=2025-06-26/part-00003-281e2c2d-c93b-4c14-91ed-87a593d59d28.c000.avro",
         "part-00003-281e2c2d-c93b-4c14-91ed-87a593d59d28.c000.avro",
         1830,
         1751033201000
        ],
        [
         "s3a://lakehouse-edgy-production-us-west-2/output/CASH_CONNECTED_GRAPH_CHANGE_EVENT/V3/date=2025-06-26/part-00003-28ecf44e-d92e-4c58-9f70-954102d587f5.c000.avro",
         "part-00003-28ecf44e-d92e-4c58-9f70-954102d587f5.c000.avro",
         618,
         1751230957000
        ],
        [
         "s3a://lakehouse-edgy-production-us-west-2/output/CASH_CONNECTED_GRAPH_CHANGE_EVENT/V3/date=2025-06-26/part-00003-2c68f077-21e4-438b-9d5e-5c08b9837979.c000.avro",
         "part-00003-2c68f077-21e4-438b-9d5e-5c08b9837979.c000.avro",
         486,
         1751108528000
        ],
        [
         "s3a://lakehouse-edgy-production-us-west-2/output/CASH_CONNECTED_GRAPH_CHANGE_EVENT/V3/date=2025-06-26/part-00003-2c96b669-dfa6-4578-9eaf-bcb4be055c10.c000.avro",
         "part-00003-2c96b669-dfa6-4578-9eaf-bcb4be055c10.c000.avro",
         487,
         1751241745000
        ],
        [
         "s3a://lakehouse-edgy-production-us-west-2/output/CASH_CONNECTED_GRAPH_CHANGE_EVENT/V3/date=2025-06-26/part-00003-2fe05762-8490-4e35-8505-d510e9d8b3ab.c000.avro",
         "part-00003-2fe05762-8490-4e35-8505-d510e9d8b3ab.c000.avro",
         470,
         1751259744000
        ],
        [
         "s3a://lakehouse-edgy-production-us-west-2/output/CASH_CONNECTED_GRAPH_CHANGE_EVENT/V3/date=2025-06-26/part-00003-314cdafe-81bd-438b-8615-06444e5c27d2.c000.avro",
         "part-00003-314cdafe-81bd-438b-8615-06444e5c27d2.c000.avro",
         487,
         1751245501000
        ],
        [
         "s3a://lakehouse-edgy-production-us-west-2/output/CASH_CONNECTED_GRAPH_CHANGE_EVENT/V3/date=2025-06-26/part-00003-31db5931-5ca9-4025-8b30-634f2e2dfee4.c000.avro",
         "part-00003-31db5931-5ca9-4025-8b30-634f2e2dfee4.c000.avro",
         491,
         1751284937000
        ],
        [
         "s3a://lakehouse-edgy-production-us-west-2/output/CASH_CONNECTED_GRAPH_CHANGE_EVENT/V3/date=2025-06-26/part-00003-32f9a68b-6be2-42cd-907a-854bcddca9be.c000.avro",
         "part-00003-32f9a68b-6be2-42cd-907a-854bcddca9be.c000.avro",
         3834469,
         1750950148000
        ],
        [
         "s3a://lakehouse-edgy-production-us-west-2/output/CASH_CONNECTED_GRAPH_CHANGE_EVENT/V3/date=2025-06-26/part-00003-33f02875-cadd-4b7f-b7ee-c50f18c845b0.c000.avro",
         "part-00003-33f02875-cadd-4b7f-b7ee-c50f18c845b0.c000.avro",
         1680,
         1751047554000
        ],
        [
         "s3a://lakehouse-edgy-production-us-west-2/output/CASH_CONNECTED_GRAPH_CHANGE_EVENT/V3/date=2025-06-26/part-00003-33f0bd84-a0a4-4d60-b7b6-38a45b679054.c000.avro",
         "part-00003-33f0bd84-a0a4-4d60-b7b6-38a45b679054.c000.avro",
         622,
         1751295755000
        ],
        [
         "s3a://lakehouse-edgy-production-us-west-2/output/CASH_CONNECTED_GRAPH_CHANGE_EVENT/V3/date=2025-06-26/part-00003-34cb357f-d22f-4641-9b7e-bdff4b03b16b.c000.avro",
         "part-00003-34cb357f-d22f-4641-9b7e-bdff4b03b16b.c000.avro",
         273169,
         1750896336000
        ],
        [
         "s3a://lakehouse-edgy-production-us-west-2/output/CASH_CONNECTED_GRAPH_CHANGE_EVENT/V3/date=2025-06-26/part-00003-364373d2-6b47-45c7-beea-b1db4e12f0dc.c000.avro",
         "part-00003-364373d2-6b47-45c7-beea-b1db4e12f0dc.c000.avro",
         1930,
         1750993349000
        ],
        [
         "s3a://lakehouse-edgy-production-us-west-2/output/CASH_CONNECTED_GRAPH_CHANGE_EVENT/V3/date=2025-06-26/part-00003-377a1e14-3993-4847-9ee2-2880d2af7ece.c000.avro",
         "part-00003-377a1e14-3993-4847-9ee2-2880d2af7ece.c000.avro",
         999,
         1751133770000
        ],
        [
         "s3a://lakehouse-edgy-production-us-west-2/output/CASH_CONNECTED_GRAPH_CHANGE_EVENT/V3/date=2025-06-26/part-00003-38007cc3-c6e0-44fb-8b9c-3f72b87d6285.c000.avro",
         "part-00003-38007cc3-c6e0-44fb-8b9c-3f72b87d6285.c000.avro",
         888,
         1751119397000
        ],
        [
         "s3a://lakehouse-edgy-production-us-west-2/output/CASH_CONNECTED_GRAPH_CHANGE_EVENT/V3/date=2025-06-26/part-00003-39e4ff81-1991-482d-b802-3e1fb5df110d.c000.avro",
         "part-00003-39e4ff81-1991-482d-b802-3e1fb5df110d.c000.avro",
         1380,
         1751072603000
        ],
        [
         "s3a://lakehouse-edgy-production-us-west-2/output/CASH_CONNECTED_GRAPH_CHANGE_EVENT/V3/date=2025-06-26/part-00003-3e3d90d8-bafa-4e0c-ad66-e8d4fefeafcc.c000.avro",
         "part-00003-3e3d90d8-bafa-4e0c-ad66-e8d4fefeafcc.c000.avro",
         1003,
         1751018525000
        ],
        [
         "s3a://lakehouse-edgy-production-us-west-2/output/CASH_CONNECTED_GRAPH_CHANGE_EVENT/V3/date=2025-06-26/part-00003-3f33c6fb-deb4-46d3-ac27-3e807e141579.c000.avro",
         "part-00003-3f33c6fb-deb4-46d3-ac27-3e807e141579.c000.avro",
         1213,
         1751061752000
        ],
        [
         "s3a://lakehouse-edgy-production-us-west-2/output/CASH_CONNECTED_GRAPH_CHANGE_EVENT/V3/date=2025-06-26/part-00003-400ae334-da93-4296-80b2-a8b72bd37493.c000.avro",
         "part-00003-400ae334-da93-4296-80b2-a8b72bd37493.c000.avro",
         1350,
         1751137367000
        ],
        [
         "s3a://lakehouse-edgy-production-us-west-2/output/CASH_CONNECTED_GRAPH_CHANGE_EVENT/V3/date=2025-06-26/part-00003-4715da4f-1aee-4ae1-85de-7b1b03baf27c.c000.avro",
         "part-00003-4715da4f-1aee-4ae1-85de-7b1b03baf27c.c000.avro",
         883,
         1751112130000
        ],
        [
         "s3a://lakehouse-edgy-production-us-west-2/output/CASH_CONNECTED_GRAPH_CHANGE_EVENT/V3/date=2025-06-26/part-00003-4b46c6c0-0b27-42a8-acd2-bc53a700d076.c000.avro",
         "part-00003-4b46c6c0-0b27-42a8-acd2-bc53a700d076.c000.avro",
         738,
         1751256119000
        ],
        [
         "s3a://lakehouse-edgy-production-us-west-2/output/CASH_CONNECTED_GRAPH_CHANGE_EVENT/V3/date=2025-06-26/part-00003-51b4a4c9-5c8b-460e-a1c8-236935fbb3a0.c000.avro",
         "part-00003-51b4a4c9-5c8b-460e-a1c8-236935fbb3a0.c000.avro",
         1386,
         1751068943000
        ],
        [
         "s3a://lakehouse-edgy-production-us-west-2/output/CASH_CONNECTED_GRAPH_CHANGE_EVENT/V3/date=2025-06-26/part-00003-5423168b-945c-4e55-a5b5-b291e0bdbf0a.c000.avro",
         "part-00003-5423168b-945c-4e55-a5b5-b291e0bdbf0a.c000.avro",
         1270,
         1751040332000
        ],
        [
         "s3a://lakehouse-edgy-production-us-west-2/output/CASH_CONNECTED_GRAPH_CHANGE_EVENT/V3/date=2025-06-26/part-00003-545c4dd2-7896-4eb6-8bd2-0e553852bb24.c000.avro",
         "part-00003-545c4dd2-7896-4eb6-8bd2-0e553852bb24.c000.avro",
         4535613,
         1750960961000
        ],
        [
         "s3a://lakehouse-edgy-production-us-west-2/output/CASH_CONNECTED_GRAPH_CHANGE_EVENT/V3/date=2025-06-26/part-00003-54a60ff8-f7fa-422c-bfd2-023657e69cc2.c000.avro",
         "part-00003-54a60ff8-f7fa-422c-bfd2-023657e69cc2.c000.avro",
         839,
         1751022118000
        ],
        [
         "s3a://lakehouse-edgy-production-us-west-2/output/CASH_CONNECTED_GRAPH_CHANGE_EVENT/V3/date=2025-06-26/part-00003-55673f4f-7264-4dc6-8a76-0157b8e58dc5.c000.avro",
         "part-00003-55673f4f-7264-4dc6-8a76-0157b8e58dc5.c000.avro",
         1477,
         1751054554000
        ],
        [
         "s3a://lakehouse-edgy-production-us-west-2/output/CASH_CONNECTED_GRAPH_CHANGE_EVENT/V3/date=2025-06-26/part-00003-55d8fc0e-b0a7-4b21-991f-73624c07ea5a.c000.avro",
         "part-00003-55d8fc0e-b0a7-4b21-991f-73624c07ea5a.c000.avro",
         887,
         1751115920000
        ],
        [
         "s3a://lakehouse-edgy-production-us-west-2/output/CASH_CONNECTED_GRAPH_CHANGE_EVENT/V3/date=2025-06-26/part-00003-5bc4ed72-0a4f-4ca2-86b6-966ee795776e.c000.avro",
         "part-00003-5bc4ed72-0a4f-4ca2-86b6-966ee795776e.c000.avro",
         2959660,
         1750917767000
        ],
        [
         "s3a://lakehouse-edgy-production-us-west-2/output/CASH_CONNECTED_GRAPH_CHANGE_EVENT/V3/date=2025-06-26/part-00003-5f746b55-c184-4189-a6dc-9fe533f1a6a3.c000.avro",
         "part-00003-5f746b55-c184-4189-a6dc-9fe533f1a6a3.c000.avro",
         493,
         1751097740000
        ],
        [
         "s3a://lakehouse-edgy-production-us-west-2/output/CASH_CONNECTED_GRAPH_CHANGE_EVENT/V3/date=2025-06-26/part-00003-60803c03-f6d0-4c86-af01-d2f77034ecba.c000.avro",
         "part-00003-60803c03-f6d0-4c86-af01-d2f77034ecba.c000.avro",
         1245,
         1751029337000
        ],
        [
         "s3a://lakehouse-edgy-production-us-west-2/output/CASH_CONNECTED_GRAPH_CHANGE_EVENT/V3/date=2025-06-26/part-00003-628bc401-975b-4de0-95ae-31d88f9f2e53.c000.avro",
         "part-00003-628bc401-975b-4de0-95ae-31d88f9f2e53.c000.avro",
         2071,
         1751051148000
        ],
        [
         "s3a://lakehouse-edgy-production-us-west-2/output/CASH_CONNECTED_GRAPH_CHANGE_EVENT/V3/date=2025-06-26/part-00003-65e3914c-5743-4a8c-9515-e31904dd2e10.c000.avro",
         "part-00003-65e3914c-5743-4a8c-9515-e31904dd2e10.c000.avro",
         490,
         1751328146000
        ],
        [
         "s3a://lakehouse-edgy-production-us-west-2/output/CASH_CONNECTED_GRAPH_CHANGE_EVENT/V3/date=2025-06-26/part-00003-6716cf33-d84d-4ef9-8b37-51013d2561d0.c000.avro",
         "part-00003-6716cf33-d84d-4ef9-8b37-51013d2561d0.c000.avro",
         1710,
         1751004121000
        ],
        [
         "s3a://lakehouse-edgy-production-us-west-2/output/CASH_CONNECTED_GRAPH_CHANGE_EVENT/V3/date=2025-06-26/part-00003-69d70120-5ce7-4ff0-9876-c07c7cbf9ef3.c000.avro",
         "part-00003-69d70120-5ce7-4ff0-9876-c07c7cbf9ef3.c000.avro",
         3621530,
         1750921334000
        ],
        [
         "s3a://lakehouse-edgy-production-us-west-2/output/CASH_CONNECTED_GRAPH_CHANGE_EVENT/V3/date=2025-06-26/part-00003-6ab73638-1f4c-4c72-973d-b40a7d3ba842.c000.avro",
         "part-00003-6ab73638-1f4c-4c72-973d-b40a7d3ba842.c000.avro",
         867,
         1751331738000
        ],
        [
         "s3a://lakehouse-edgy-production-us-west-2/output/CASH_CONNECTED_GRAPH_CHANGE_EVENT/V3/date=2025-06-26/part-00003-6be36299-2522-4f2d-b22c-dd6d8d2a3676.c000.avro",
         "part-00003-6be36299-2522-4f2d-b22c-dd6d8d2a3676.c000.avro",
         1841,
         1751058318000
        ],
        [
         "s3a://lakehouse-edgy-production-us-west-2/output/CASH_CONNECTED_GRAPH_CHANGE_EVENT/V3/date=2025-06-26/part-00003-6d24be9f-5acf-43ef-a727-99aaefe8d4e9.c000.avro",
         "part-00003-6d24be9f-5acf-43ef-a727-99aaefe8d4e9.c000.avro",
         755,
         1751205742000
        ],
        [
         "s3a://lakehouse-edgy-production-us-west-2/output/CASH_CONNECTED_GRAPH_CHANGE_EVENT/V3/date=2025-06-26/part-00003-73b0d897-e80e-439e-931c-f45feb5a91f8.c000.avro",
         "part-00003-73b0d897-e80e-439e-931c-f45feb5a91f8.c000.avro",
         997,
         1751238329000
        ],
        [
         "s3a://lakehouse-edgy-production-us-west-2/output/CASH_CONNECTED_GRAPH_CHANGE_EVENT/V3/date=2025-06-26/part-00003-79b49d8e-2cf9-4409-bb2d-a111a5cae6bd.c000.avro",
         "part-00003-79b49d8e-2cf9-4409-bb2d-a111a5cae6bd.c000.avro",
         993,
         1751014917000
        ],
        [
         "s3a://lakehouse-edgy-production-us-west-2/output/CASH_CONNECTED_GRAPH_CHANGE_EVENT/V3/date=2025-06-26/part-00003-7bc92d38-1d1f-41be-a9c5-58e500900ea1.c000.avro",
         "part-00003-7bc92d38-1d1f-41be-a9c5-58e500900ea1.c000.avro",
         1111,
         1751076165000
        ],
        [
         "s3a://lakehouse-edgy-production-us-west-2/output/CASH_CONNECTED_GRAPH_CHANGE_EVENT/V3/date=2025-06-26/part-00003-7e1156b3-0010-4c66-b5ef-f86516b1aba0.c000.avro",
         "part-00003-7e1156b3-0010-4c66-b5ef-f86516b1aba0.c000.avro",
         1730388,
         1750932122000
        ],
        [
         "s3a://lakehouse-edgy-production-us-west-2/output/CASH_CONNECTED_GRAPH_CHANGE_EVENT/V3/date=2025-06-26/part-00003-7f736561-3cd4-4999-b958-7b6cd9055cb7.c000.avro",
         "part-00003-7f736561-3cd4-4999-b958-7b6cd9055cb7.c000.avro",
         486,
         1751288513000
        ],
        [
         "s3a://lakehouse-edgy-production-us-west-2/output/CASH_CONNECTED_GRAPH_CHANGE_EVENT/V3/date=2025-06-26/part-00003-802e12f4-c75f-4cb8-b692-3392b858a8d3.c000.avro",
         "part-00003-802e12f4-c75f-4cb8-b692-3392b858a8d3.c000.avro",
         1977822,
         1750928488000
        ],
        [
         "s3a://lakehouse-edgy-production-us-west-2/output/CASH_CONNECTED_GRAPH_CHANGE_EVENT/V3/date=2025-06-26/part-00003-80fe4f0f-8b85-478b-815c-7cb1f2bd85f3.c000.avro",
         "part-00003-80fe4f0f-8b85-478b-815c-7cb1f2bd85f3.c000.avro",
         763,
         1751144530000
        ],
        [
         "s3a://lakehouse-edgy-production-us-west-2/output/CASH_CONNECTED_GRAPH_CHANGE_EVENT/V3/date=2025-06-26/part-00003-821b5be6-e858-4033-aaf9-a98a39760e44.c000.avro",
         "part-00003-821b5be6-e858-4033-aaf9-a98a39760e44.c000.avro",
         4178464,
         1750957356000
        ],
        [
         "s3a://lakehouse-edgy-production-us-west-2/output/CASH_CONNECTED_GRAPH_CHANGE_EVENT/V3/date=2025-06-26/part-00003-89d340bd-9eaf-4f0b-87b1-258bd6366290.c000.avro",
         "part-00003-89d340bd-9eaf-4f0b-87b1-258bd6366290.c000.avro",
         5003986,
         1750964558000
        ],
        [
         "s3a://lakehouse-edgy-production-us-west-2/output/CASH_CONNECTED_GRAPH_CHANGE_EVENT/V3/date=2025-06-26/part-00003-8b165048-6f64-44a8-aaee-a213b15214d7.c000.avro",
         "part-00003-8b165048-6f64-44a8-aaee-a213b15214d7.c000.avro",
         1104,
         1751141126000
        ],
        [
         "s3a://lakehouse-edgy-production-us-west-2/output/CASH_CONNECTED_GRAPH_CHANGE_EVENT/V3/date=2025-06-26/part-00003-8d48c100-959f-4142-9fee-7bcf6f965c1d.c000.avro",
         "part-00003-8d48c100-959f-4142-9fee-7bcf6f965c1d.c000.avro",
         529,
         1751101309000
        ],
        [
         "s3a://lakehouse-edgy-production-us-west-2/output/CASH_CONNECTED_GRAPH_CHANGE_EVENT/V3/date=2025-06-26/part-00003-969a1a1c-6fbe-49fc-ab57-9881145df8ad.c000.avro",
         "part-00003-969a1a1c-6fbe-49fc-ab57-9881145df8ad.c000.avro",
         934,
         1751148141000
        ],
        [
         "s3a://lakehouse-edgy-production-us-west-2/output/CASH_CONNECTED_GRAPH_CHANGE_EVENT/V3/date=2025-06-26/part-00003-97487f83-0cf3-4969-9fea-cc32eaefd1d9.c000.avro",
         "part-00003-97487f83-0cf3-4969-9fea-cc32eaefd1d9.c000.avro",
         4306,
         1750986150000
        ],
        [
         "s3a://lakehouse-edgy-production-us-west-2/output/CASH_CONNECTED_GRAPH_CHANGE_EVENT/V3/date=2025-06-26/part-00003-9a111b9d-e28b-49c9-a453-a4bbf7a65482.c000.avro",
         "part-00003-9a111b9d-e28b-49c9-a453-a4bbf7a65482.c000.avro",
         3350605,
         1750914325000
        ],
        [
         "s3a://lakehouse-edgy-production-us-west-2/output/CASH_CONNECTED_GRAPH_CHANGE_EVENT/V3/date=2025-06-26/part-00003-9b62fa63-950c-414a-aaa2-944f0a72abc4.c000.avro",
         "part-00003-9b62fa63-950c-414a-aaa2-944f0a72abc4.c000.avro",
         5113843,
         1750975544000
        ],
        [
         "s3a://lakehouse-edgy-production-us-west-2/output/CASH_CONNECTED_GRAPH_CHANGE_EVENT/V3/date=2025-06-26/part-00003-a40562b2-787f-4ba9-9b05-42a168bc06d2.c000.avro",
         "part-00003-a40562b2-787f-4ba9-9b05-42a168bc06d2.c000.avro",
         736,
         1751317339000
        ],
        [
         "s3a://lakehouse-edgy-production-us-west-2/output/CASH_CONNECTED_GRAPH_CHANGE_EVENT/V3/date=2025-06-26/part-00003-a4ec97b6-1f5a-4572-812a-24ea8e0b6e27.c000.avro",
         "part-00003-a4ec97b6-1f5a-4572-812a-24ea8e0b6e27.c000.avro",
         2257156,
         1750939307000
        ],
        [
         "s3a://lakehouse-edgy-production-us-west-2/output/CASH_CONNECTED_GRAPH_CHANGE_EVENT/V3/date=2025-06-26/part-00003-a55ea82b-88db-4301-a901-a590d3e667be.c000.avro",
         "part-00003-a55ea82b-88db-4301-a901-a590d3e667be.c000.avro",
         2138,
         1751065341000
        ],
        [
         "s3a://lakehouse-edgy-production-us-west-2/output/CASH_CONNECTED_GRAPH_CHANGE_EVENT/V3/date=2025-06-26/part-00003-a6fe4944-2b35-486c-b3de-68c9e1897e8e.c000.avro",
         "part-00003-a6fe4944-2b35-486c-b3de-68c9e1897e8e.c000.avro",
         761,
         1751158950000
        ],
        [
         "s3a://lakehouse-edgy-production-us-west-2/output/CASH_CONNECTED_GRAPH_CHANGE_EVENT/V3/date=2025-06-26/part-00003-a8ab5cb4-f445-49f5-b766-3177205112c1.c000.avro",
         "part-00003-a8ab5cb4-f445-49f5-b766-3177205112c1.c000.avro",
         490,
         1751227328000
        ],
        [
         "s3a://lakehouse-edgy-production-us-west-2/output/CASH_CONNECTED_GRAPH_CHANGE_EVENT/V3/date=2025-06-26/part-00003-ab0add96-7735-441c-9d72-26fa9e3e7147.c000.avro",
         "part-00003-ab0add96-7735-441c-9d72-26fa9e3e7147.c000.avro",
         4448534,
         1750979124000
        ],
        [
         "s3a://lakehouse-edgy-production-us-west-2/output/CASH_CONNECTED_GRAPH_CHANGE_EVENT/V3/date=2025-06-26/part-00003-afe5ec67-3778-453d-be84-f60574c3cd32.c000.avro",
         "part-00003-afe5ec67-3778-453d-be84-f60574c3cd32.c000.avro",
         1105,
         1751162535000
        ],
        [
         "s3a://lakehouse-edgy-production-us-west-2/output/CASH_CONNECTED_GRAPH_CHANGE_EVENT/V3/date=2025-06-26/part-00003-b02912c7-0fd2-4b92-9f40-875ab9fcd8c6.c000.avro",
         "part-00003-b02912c7-0fd2-4b92-9f40-875ab9fcd8c6.c000.avro",
         494,
         1751176912000
        ],
        [
         "s3a://lakehouse-edgy-production-us-west-2/output/CASH_CONNECTED_GRAPH_CHANGE_EVENT/V3/date=2025-06-26/part-00003-b0d7a158-5a76-42a5-bfb2-2e672f169bbb.c000.avro",
         "part-00003-b0d7a158-5a76-42a5-bfb2-2e672f169bbb.c000.avro",
         2120586,
         1750935718000
        ],
        [
         "s3a://lakehouse-edgy-production-us-west-2/output/CASH_CONNECTED_GRAPH_CHANGE_EVENT/V3/date=2025-06-26/part-00003-b270ba9f-30b2-4695-8229-d5ab808c4c84.c000.avro",
         "part-00003-b270ba9f-30b2-4695-8229-d5ab808c4c84.c000.avro",
         737,
         1751216562000
        ],
        [
         "s3a://lakehouse-edgy-production-us-west-2/output/CASH_CONNECTED_GRAPH_CHANGE_EVENT/V3/date=2025-06-26/part-00003-b3585c0e-9368-4ff3-8f6e-9888afc1b462.c000.avro",
         "part-00003-b3585c0e-9368-4ff3-8f6e-9888afc1b462.c000.avro",
         709,
         1751191287000
        ],
        [
         "s3a://lakehouse-edgy-production-us-west-2/output/CASH_CONNECTED_GRAPH_CHANGE_EVENT/V3/date=2025-06-26/part-00003-b3d32e66-72f2-4969-86d0-e0d7218d4842.c000.avro",
         "part-00003-b3d32e66-72f2-4969-86d0-e0d7218d4842.c000.avro",
         2455,
         1750989749000
        ],
        [
         "s3a://lakehouse-edgy-production-us-west-2/output/CASH_CONNECTED_GRAPH_CHANGE_EVENT/V3/date=2025-06-26/part-00003-b3fbd96e-46a8-4463-abc5-38e69ad88da0.c000.avro",
         "part-00003-b3fbd96e-46a8-4463-abc5-38e69ad88da0.c000.avro",
         988,
         1751313769000
        ],
        [
         "s3a://lakehouse-edgy-production-us-west-2/output/CASH_CONNECTED_GRAPH_CHANGE_EVENT/V3/date=2025-06-26/part-00003-b834ddb7-bba5-431a-b088-47173076fbfe.c000.avro",
         "part-00003-b834ddb7-bba5-431a-b088-47173076fbfe.c000.avro",
         3580723,
         1750942964000
        ],
        [
         "s3a://lakehouse-edgy-production-us-west-2/output/CASH_CONNECTED_GRAPH_CHANGE_EVENT/V3/date=2025-06-26/part-00003-bd15ee62-dbee-4d64-bc7b-d54b66d830b6.c000.avro",
         "part-00003-bd15ee62-dbee-4d64-bc7b-d54b66d830b6.c000.avro",
         741,
         1751087107000
        ],
        [
         "s3a://lakehouse-edgy-production-us-west-2/output/CASH_CONNECTED_GRAPH_CHANGE_EVENT/V3/date=2025-06-26/part-00003-be81f3d9-7655-43f4-b08a-b3f7ca907c18.c000.avro",
         "part-00003-be81f3d9-7655-43f4-b08a-b3f7ca907c18.c000.avro",
         3365084,
         1750946552000
        ],
        [
         "s3a://lakehouse-edgy-production-us-west-2/output/CASH_CONNECTED_GRAPH_CHANGE_EVENT/V3/date=2025-06-26/part-00003-c2f7b029-26da-4760-973e-0949b8ec26af.c000.avro",
         "part-00003-c2f7b029-26da-4760-973e-0949b8ec26af.c000.avro",
         733,
         1751155327000
        ],
        [
         "s3a://lakehouse-edgy-production-us-west-2/output/CASH_CONNECTED_GRAPH_CHANGE_EVENT/V3/date=2025-06-26/part-00003-c3c0d98c-8b2a-4da9-b198-104377ce48b2.c000.avro",
         "part-00003-c3c0d98c-8b2a-4da9-b198-104377ce48b2.c000.avro",
         979,
         1751166349000
        ],
        [
         "s3a://lakehouse-edgy-production-us-west-2/output/CASH_CONNECTED_GRAPH_CHANGE_EVENT/V3/date=2025-06-26/part-00003-c5b34f3b-3d93-4311-bfe7-a4fafe536681.c000.avro",
         "part-00003-c5b34f3b-3d93-4311-bfe7-a4fafe536681.c000.avro",
         619,
         1751324566000
        ],
        [
         "s3a://lakehouse-edgy-production-us-west-2/output/CASH_CONNECTED_GRAPH_CHANGE_EVENT/V3/date=2025-06-26/part-00003-c8126c1a-ac1a-40d2-8050-22aa705a0b44.c000.avro",
         "part-00003-c8126c1a-ac1a-40d2-8050-22aa705a0b44.c000.avro",
         4042143,
         1750903394000
        ],
        [
         "s3a://lakehouse-edgy-production-us-west-2/output/CASH_CONNECTED_GRAPH_CHANGE_EVENT/V3/date=2025-06-26/part-00003-cbb496b6-6673-4dfd-aad8-3a6b4b34c9c1.c000.avro",
         "part-00003-cbb496b6-6673-4dfd-aad8-3a6b4b34c9c1.c000.avro",
         2231,
         1751043913000
        ],
        [
         "s3a://lakehouse-edgy-production-us-west-2/output/CASH_CONNECTED_GRAPH_CHANGE_EVENT/V3/date=2025-06-26/part-00003-cc4178da-d2bb-451f-93ba-3031a36958ab.c000.avro",
         "part-00003-cc4178da-d2bb-451f-93ba-3031a36958ab.c000.avro",
         3882216,
         1750954027000
        ],
        [
         "s3a://lakehouse-edgy-production-us-west-2/output/CASH_CONNECTED_GRAPH_CHANGE_EVENT/V3/date=2025-06-26/part-00003-cc60745c-d4d7-490b-be82-ed0231528c27.c000.avro",
         "part-00003-cc60745c-d4d7-490b-be82-ed0231528c27.c000.avro",
         1379,
         1751151907000
        ],
        [
         "s3a://lakehouse-edgy-production-us-west-2/output/CASH_CONNECTED_GRAPH_CHANGE_EVENT/V3/date=2025-06-26/part-00003-cdb73d83-c90b-4bbd-beb5-9d0d5b993ff1.c000.avro",
         "part-00003-cdb73d83-c90b-4bbd-beb5-9d0d5b993ff1.c000.avro",
         4094774,
         1750899936000
        ],
        [
         "s3a://lakehouse-edgy-production-us-west-2/output/CASH_CONNECTED_GRAPH_CHANGE_EVENT/V3/date=2025-06-26/part-00003-d1ae3cb7-6e5a-46fa-9b2b-25b0c0b4e2c1.c000.avro",
         "part-00003-d1ae3cb7-6e5a-46fa-9b2b-25b0c0b4e2c1.c000.avro",
         884,
         1751094108000
        ],
        [
         "s3a://lakehouse-edgy-production-us-west-2/output/CASH_CONNECTED_GRAPH_CHANGE_EVENT/V3/date=2025-06-26/part-00003-d32b8329-ca45-4246-8442-9b7a460f59fb.c000.avro",
         "part-00003-d32b8329-ca45-4246-8442-9b7a460f59fb.c000.avro",
         985,
         1751169902000
        ],
        [
         "s3a://lakehouse-edgy-production-us-west-2/output/CASH_CONNECTED_GRAPH_CHANGE_EVENT/V3/date=2025-06-26/part-00003-d9583eec-e304-4c94-b653-9685acb1ca36.c000.avro",
         "part-00003-d9583eec-e304-4c94-b653-9685acb1ca36.c000.avro",
         3588305,
         1750982551000
        ],
        [
         "s3a://lakehouse-edgy-production-us-west-2/output/CASH_CONNECTED_GRAPH_CHANGE_EVENT/V3/date=2025-06-26/part-00003-dcdc8342-675a-4e45-a409-084a3bfc204c.c000.avro",
         "part-00003-dcdc8342-675a-4e45-a409-084a3bfc204c.c000.avro",
         1012,
         1751090532000
        ],
        [
         "s3a://lakehouse-edgy-production-us-west-2/output/CASH_CONNECTED_GRAPH_CHANGE_EVENT/V3/date=2025-06-26/part-00003-dce82055-bb93-4363-81d2-48721c992002.c000.avro",
         "part-00003-dce82055-bb93-4363-81d2-48721c992002.c000.avro",
         488,
         1751270496000
        ],
        [
         "s3a://lakehouse-edgy-production-us-west-2/output/CASH_CONNECTED_GRAPH_CHANGE_EVENT/V3/date=2025-06-26/part-00003-dd5d0f63-52af-4b45-8b9c-68839b179c6d.c000.avro",
         "part-00003-dd5d0f63-52af-4b45-8b9c-68839b179c6d.c000.avro",
         492,
         1751011308000
        ],
        [
         "s3a://lakehouse-edgy-production-us-west-2/output/CASH_CONNECTED_GRAPH_CHANGE_EVENT/V3/date=2025-06-26/part-00003-df8e7ab0-e94b-4a3b-bf74-8fe3bcdc0de6.c000.avro",
         "part-00003-df8e7ab0-e94b-4a3b-bf74-8fe3bcdc0de6.c000.avro",
         735,
         1751310172000
        ],
        [
         "s3a://lakehouse-edgy-production-us-west-2/output/CASH_CONNECTED_GRAPH_CHANGE_EVENT/V3/date=2025-06-26/part-00003-e51c2618-2ca6-4529-b034-486ab747388d.c000.avro",
         "part-00003-e51c2618-2ca6-4529-b034-486ab747388d.c000.avro",
         650,
         1751248927000
        ],
        [
         "s3a://lakehouse-edgy-production-us-west-2/output/CASH_CONNECTED_GRAPH_CHANGE_EVENT/V3/date=2025-06-26/part-00003-e536d565-5ebf-4fa1-90da-9e98481661ea.c000.avro",
         "part-00003-e536d565-5ebf-4fa1-90da-9e98481661ea.c000.avro",
         2055639,
         1750924915000
        ],
        [
         "s3a://lakehouse-edgy-production-us-west-2/output/CASH_CONNECTED_GRAPH_CHANGE_EVENT/V3/date=2025-06-26/part-00003-e54d84ab-db24-4e62-8d22-adccbe842142.c000.avro",
         "part-00003-e54d84ab-db24-4e62-8d22-adccbe842142.c000.avro",
         3370724,
         1750906962000
        ],
        [
         "s3a://lakehouse-edgy-production-us-west-2/output/CASH_CONNECTED_GRAPH_CHANGE_EVENT/V3/date=2025-06-26/part-00003-e60b53f0-55eb-4b27-b299-1d8ce1e03f7e.c000.avro",
         "part-00003-e60b53f0-55eb-4b27-b299-1d8ce1e03f7e.c000.avro",
         917,
         1751320942000
        ],
        [
         "s3a://lakehouse-edgy-production-us-west-2/output/CASH_CONNECTED_GRAPH_CHANGE_EVENT/V3/date=2025-06-26/part-00003-e60e51da-216b-4694-a985-3c3370135714.c000.avro",
         "part-00003-e60e51da-216b-4694-a985-3c3370135714.c000.avro",
         1735,
         1751306711000
        ],
        [
         "s3a://lakehouse-edgy-production-us-west-2/output/CASH_CONNECTED_GRAPH_CHANGE_EVENT/V3/date=2025-06-26/part-00003-ebcbdbda-ceb5-4f20-8b9c-40077851c25f.c000.avro",
         "part-00003-ebcbdbda-ceb5-4f20-8b9c-40077851c25f.c000.avro",
         741,
         1751126528000
        ],
        [
         "s3a://lakehouse-edgy-production-us-west-2/output/CASH_CONNECTED_GRAPH_CHANGE_EVENT/V3/date=2025-06-26/part-00003-ed9aeda0-bc45-424f-88c6-eaa1a8ee3848.c000.avro",
         "part-00003-ed9aeda0-bc45-424f-88c6-eaa1a8ee3848.c000.avro",
         981,
         1751213109000
        ],
        [
         "s3a://lakehouse-edgy-production-us-west-2/output/CASH_CONNECTED_GRAPH_CHANGE_EVENT/V3/date=2025-06-26/part-00003-f00d8e3d-4da5-4566-8209-a04f39a21512.c000.avro",
         "part-00003-f00d8e3d-4da5-4566-8209-a04f39a21512.c000.avro",
         741,
         1751223745000
        ],
        [
         "s3a://lakehouse-edgy-production-us-west-2/output/CASH_CONNECTED_GRAPH_CHANGE_EVENT/V3/date=2025-06-26/part-00003-f1ae0267-e848-42cb-8a80-90ee59842d63.c000.avro",
         "part-00003-f1ae0267-e848-42cb-8a80-90ee59842d63.c000.avro",
         1076,
         1751234535000
        ],
        [
         "s3a://lakehouse-edgy-production-us-west-2/output/CASH_CONNECTED_GRAPH_CHANGE_EVENT/V3/date=2025-06-26/part-00003-f26598e3-e371-445d-92d2-1f8fd3ab2695.c000.avro",
         "part-00003-f26598e3-e371-445d-92d2-1f8fd3ab2695.c000.avro",
         779,
         1751083346000
        ],
        [
         "s3a://lakehouse-edgy-production-us-west-2/output/CASH_CONNECTED_GRAPH_CHANGE_EVENT/V3/date=2025-06-26/part-00003-f267fb2c-5947-4764-a370-0502633481b9.c000.avro",
         "part-00003-f267fb2c-5947-4764-a370-0502633481b9.c000.avro",
         860,
         1751303135000
        ],
        [
         "s3a://lakehouse-edgy-production-us-west-2/output/CASH_CONNECTED_GRAPH_CHANGE_EVENT/V3/date=2025-06-26/part-00003-f3d3f7fb-7f75-463d-b872-25d8dc1fbefd.c000.avro",
         "part-00003-f3d3f7fb-7f75-463d-b872-25d8dc1fbefd.c000.avro",
         487,
         1751184135000
        ],
        [
         "s3a://lakehouse-edgy-production-us-west-2/output/CASH_CONNECTED_GRAPH_CHANGE_EVENT/V3/date=2025-06-26/part-00003-f4559277-90df-4b0d-88c1-12b6ccb1760b.c000.avro",
         "part-00003-f4559277-90df-4b0d-88c1-12b6ccb1760b.c000.avro",
         1381,
         1751036550000
        ],
        [
         "s3a://lakehouse-edgy-production-us-west-2/output/CASH_CONNECTED_GRAPH_CHANGE_EVENT/V3/date=2025-06-26/part-00003-f59477fa-b683-4e65-88e0-30d4d5fe6f24.c000.avro",
         "part-00003-f59477fa-b683-4e65-88e0-30d4d5fe6f24.c000.avro",
         854,
         1751299590000
        ],
        [
         "s3a://lakehouse-edgy-production-us-west-2/output/CASH_CONNECTED_GRAPH_CHANGE_EVENT/V3/date=2025-06-26/part-00003-f62cb38f-5102-4247-9af8-8320432d9a00.c000.avro",
         "part-00003-f62cb38f-5102-4247-9af8-8320432d9a00.c000.avro",
         1467,
         1751079734000
        ],
        [
         "s3a://lakehouse-edgy-production-us-west-2/output/CASH_CONNECTED_GRAPH_CHANGE_EVENT/V3/date=2025-06-26/part-00003-f7d12526-e005-4cdb-b6ac-216972cd9e50.c000.avro",
         "part-00003-f7d12526-e005-4cdb-b6ac-216972cd9e50.c000.avro",
         2973001,
         1750910543000
        ],
        [
         "s3a://lakehouse-edgy-production-us-west-2/output/CASH_CONNECTED_GRAPH_CHANGE_EVENT/V3/date=2025-06-26/part-00003-f87824bc-b7ae-4281-864f-10d85f4d3122.c000.avro",
         "part-00003-f87824bc-b7ae-4281-864f-10d85f4d3122.c000.avro",
         868,
         1751130367000
        ],
        [
         "s3a://lakehouse-edgy-production-us-west-2/output/CASH_CONNECTED_GRAPH_CHANGE_EVENT/V3/date=2025-06-26/part-00003-fd93d3c2-03d7-41ad-abf1-700f5efd5db4.c000.avro",
         "part-00003-fd93d3c2-03d7-41ad-abf1-700f5efd5db4.c000.avro",
         1426,
         1751000536000
        ],
        [
         "s3a://lakehouse-edgy-production-us-west-2/output/CASH_CONNECTED_GRAPH_CHANGE_EVENT/V3/date=2025-06-26/part-00003-fe1c0c09-b2c1-42a8-973b-a3dc6c155e6d.c000.avro",
         "part-00003-fe1c0c09-b2c1-42a8-973b-a3dc6c155e6d.c000.avro",
         865,
         1751173391000
        ],
        [
         "s3a://lakehouse-edgy-production-us-west-2/output/CASH_CONNECTED_GRAPH_CHANGE_EVENT/V3/date=2025-06-26/part-00004-00c958fe-db01-4a07-87ba-ced5d720295a.c000.avro",
         "part-00004-00c958fe-db01-4a07-87ba-ced5d720295a.c000.avro",
         474,
         1751018524000
        ],
        [
         "s3a://lakehouse-edgy-production-us-west-2/output/CASH_CONNECTED_GRAPH_CHANGE_EVENT/V3/date=2025-06-26/part-00004-06620387-ec00-465d-9ca2-c9b4d0a21fe8.c000.avro",
         "part-00004-06620387-ec00-465d-9ca2-c9b4d0a21fe8.c000.avro",
         1203,
         1751320939000
        ],
        [
         "s3a://lakehouse-edgy-production-us-west-2/output/CASH_CONNECTED_GRAPH_CHANGE_EVENT/V3/date=2025-06-26/part-00004-06799819-4af2-44d4-849a-9e891d622f1f.c000.avro",
         "part-00004-06799819-4af2-44d4-849a-9e891d622f1f.c000.avro",
         614,
         1751180534000
        ],
        [
         "s3a://lakehouse-edgy-production-us-west-2/output/CASH_CONNECTED_GRAPH_CHANGE_EVENT/V3/date=2025-06-26/part-00004-08f44147-e0e4-4e54-bb2e-12d7e1449b56.c000.avro",
         "part-00004-08f44147-e0e4-4e54-bb2e-12d7e1449b56.c000.avro",
         908,
         1751126529000
        ],
        [
         "s3a://lakehouse-edgy-production-us-west-2/output/CASH_CONNECTED_GRAPH_CHANGE_EVENT/V3/date=2025-06-26/part-00004-0b07cfae-eb9d-41c5-9a4b-fb4dfd07b7e6.c000.avro",
         "part-00004-0b07cfae-eb9d-41c5-9a4b-fb4dfd07b7e6.c000.avro",
         486,
         1751328147000
        ],
        [
         "s3a://lakehouse-edgy-production-us-west-2/output/CASH_CONNECTED_GRAPH_CHANGE_EVENT/V3/date=2025-06-26/part-00004-0d13f930-af7e-4aa5-abe6-5534861b2249.c000.avro",
         "part-00004-0d13f930-af7e-4aa5-abe6-5534861b2249.c000.avro",
         495,
         1751205742000
        ],
        [
         "s3a://lakehouse-edgy-production-us-west-2/output/CASH_CONNECTED_GRAPH_CHANGE_EVENT/V3/date=2025-06-26/part-00004-165617c5-eeed-4529-a61c-3489565a795a.c000.avro",
         "part-00004-165617c5-eeed-4529-a61c-3489565a795a.c000.avro",
         3004209,
         1750917764000
        ],
        [
         "s3a://lakehouse-edgy-production-us-west-2/output/CASH_CONNECTED_GRAPH_CHANGE_EVENT/V3/date=2025-06-26/part-00004-16adbd08-f8d7-493c-bd85-b32561f29a4d.c000.avro",
         "part-00004-16adbd08-f8d7-493c-bd85-b32561f29a4d.c000.avro",
         635,
         1751184136000
        ],
        [
         "s3a://lakehouse-edgy-production-us-west-2/output/CASH_CONNECTED_GRAPH_CHANGE_EVENT/V3/date=2025-06-26/part-00004-1b459d0b-87ed-40c3-a5ec-f7c945ab9979.c000.avro",
         "part-00004-1b459d0b-87ed-40c3-a5ec-f7c945ab9979.c000.avro",
         3378018,
         1750914326000
        ],
        [
         "s3a://lakehouse-edgy-production-us-west-2/output/CASH_CONNECTED_GRAPH_CHANGE_EVENT/V3/date=2025-06-26/part-00004-1d1e0924-5300-4b90-91d5-b4f67ab54a37.c000.avro",
         "part-00004-1d1e0924-5300-4b90-91d5-b4f67ab54a37.c000.avro",
         1345,
         1751130368000
        ],
        [
         "s3a://lakehouse-edgy-production-us-west-2/output/CASH_CONNECTED_GRAPH_CHANGE_EVENT/V3/date=2025-06-26/part-00004-1d5797a9-ee66-43ee-a599-eb94ecd20719.c000.avro",
         "part-00004-1d5797a9-ee66-43ee-a599-eb94ecd20719.c000.avro",
         1004,
         1751079733000
        ],
        [
         "s3a://lakehouse-edgy-production-us-west-2/output/CASH_CONNECTED_GRAPH_CHANGE_EVENT/V3/date=2025-06-26/part-00004-2188f41f-8788-4eb3-978b-6c7ae6a4c00c.c000.avro",
         "part-00004-2188f41f-8788-4eb3-978b-6c7ae6a4c00c.c000.avro",
         1950242,
         1750928485000
        ],
        [
         "s3a://lakehouse-edgy-production-us-west-2/output/CASH_CONNECTED_GRAPH_CHANGE_EVENT/V3/date=2025-06-26/part-00004-2329c581-ef7a-4d90-a826-cb6006e17e6b.c000.avro",
         "part-00004-2329c581-ef7a-4d90-a826-cb6006e17e6b.c000.avro",
         610,
         1751295755000
        ],
        [
         "s3a://lakehouse-edgy-production-us-west-2/output/CASH_CONNECTED_GRAPH_CHANGE_EVENT/V3/date=2025-06-26/part-00004-23d11253-2191-4616-860f-09ef2cf66e2e.c000.avro",
         "part-00004-23d11253-2191-4616-860f-09ef2cf66e2e.c000.avro",
         1107,
         1751036548000
        ],
        [
         "s3a://lakehouse-edgy-production-us-west-2/output/CASH_CONNECTED_GRAPH_CHANGE_EVENT/V3/date=2025-06-26/part-00004-2517d3fa-0437-40b6-90d5-cf92eff810a5.c000.avro",
         "part-00004-2517d3fa-0437-40b6-90d5-cf92eff810a5.c000.avro",
         610,
         1751011309000
        ],
        [
         "s3a://lakehouse-edgy-production-us-west-2/output/CASH_CONNECTED_GRAPH_CHANGE_EVENT/V3/date=2025-06-26/part-00004-28254062-4ef5-49a3-8366-286f14bec179.c000.avro",
         "part-00004-28254062-4ef5-49a3-8366-286f14bec179.c000.avro",
         1365,
         1750996935000
        ],
        [
         "s3a://lakehouse-edgy-production-us-west-2/output/CASH_CONNECTED_GRAPH_CHANGE_EVENT/V3/date=2025-06-26/part-00004-282f3c47-2ece-4702-9dc6-7650dea99d6c.c000.avro",
         "part-00004-282f3c47-2ece-4702-9dc6-7650dea99d6c.c000.avro",
         858,
         1751310169000
        ],
        [
         "s3a://lakehouse-edgy-production-us-west-2/output/CASH_CONNECTED_GRAPH_CHANGE_EVENT/V3/date=2025-06-26/part-00004-28e53870-17ae-4cb1-8df2-b08a5eb70c9f.c000.avro",
         "part-00004-28e53870-17ae-4cb1-8df2-b08a5eb70c9f.c000.avro",
         1143,
         1751004125000
        ],
        [
         "s3a://lakehouse-edgy-production-us-west-2/output/CASH_CONNECTED_GRAPH_CHANGE_EVENT/V3/date=2025-06-26/part-00004-2b8aac6b-cfca-4389-a11f-e7be685aa943.c000.avro",
         "part-00004-2b8aac6b-cfca-4389-a11f-e7be685aa943.c000.avro",
         1230,
         1751000538000
        ],
        [
         "s3a://lakehouse-edgy-production-us-west-2/output/CASH_CONNECTED_GRAPH_CHANGE_EVENT/V3/date=2025-06-26/part-00004-2e5cb84a-8e0f-49cd-88f4-0a877c8e8a21.c000.avro",
         "part-00004-2e5cb84a-8e0f-49cd-88f4-0a877c8e8a21.c000.avro",
         1144,
         1751234538000
        ],
        [
         "s3a://lakehouse-edgy-production-us-west-2/output/CASH_CONNECTED_GRAPH_CHANGE_EVENT/V3/date=2025-06-26/part-00004-378dc255-d607-4e3f-8c08-6bd7537d88bd.c000.avro",
         "part-00004-378dc255-d607-4e3f-8c08-6bd7537d88bd.c000.avro",
         748,
         1751090531000
        ],
        [
         "s3a://lakehouse-edgy-production-us-west-2/output/CASH_CONNECTED_GRAPH_CHANGE_EVENT/V3/date=2025-06-26/part-00004-385c8cf6-479a-4666-8bad-51614555c66b.c000.avro",
         "part-00004-385c8cf6-479a-4666-8bad-51614555c66b.c000.avro",
         1245,
         1751166345000
        ],
        [
         "s3a://lakehouse-edgy-production-us-west-2/output/CASH_CONNECTED_GRAPH_CHANGE_EVENT/V3/date=2025-06-26/part-00004-3aba2d9c-c040-4416-ab6d-8cf6ac6bd196.c000.avro",
         "part-00004-3aba2d9c-c040-4416-ab6d-8cf6ac6bd196.c000.avro",
         4047642,
         1750903392000
        ],
        [
         "s3a://lakehouse-edgy-production-us-west-2/output/CASH_CONNECTED_GRAPH_CHANGE_EVENT/V3/date=2025-06-26/part-00004-3e531384-f00a-4a1a-893c-849f2d85b520.c000.avro",
         "part-00004-3e531384-f00a-4a1a-893c-849f2d85b520.c000.avro",
         615,
         1751014918000
        ],
        [
         "s3a://lakehouse-edgy-production-us-west-2/output/CASH_CONNECTED_GRAPH_CHANGE_EVENT/V3/date=2025-06-26/part-00004-416bac9e-50d8-4e46-a290-d1ab46a4b4a3.c000.avro",
         "part-00004-416bac9e-50d8-4e46-a290-d1ab46a4b4a3.c000.avro",
         1724804,
         1750932121000
        ],
        [
         "s3a://lakehouse-edgy-production-us-west-2/output/CASH_CONNECTED_GRAPH_CHANGE_EVENT/V3/date=2025-06-26/part-00004-4551364c-e768-41b5-8e40-fda6dbcb045e.c000.avro",
         "part-00004-4551364c-e768-41b5-8e40-fda6dbcb045e.c000.avro",
         492,
         1751267009000
        ],
        [
         "s3a://lakehouse-edgy-production-us-west-2/output/CASH_CONNECTED_GRAPH_CHANGE_EVENT/V3/date=2025-06-26/part-00004-4a18f11a-56c0-4645-b96d-da5d603186d8.c000.avro",
         "part-00004-4a18f11a-56c0-4645-b96d-da5d603186d8.c000.avro",
         871,
         1751087104000
        ],
        [
         "s3a://lakehouse-edgy-production-us-west-2/output/CASH_CONNECTED_GRAPH_CHANGE_EVENT/V3/date=2025-06-26/part-00004-4b907dcf-4639-46b4-9015-ab6e668148f4.c000.avro",
         "part-00004-4b907dcf-4639-46b4-9015-ab6e668148f4.c000.avro",
         1369,
         1751068943000
        ],
        [
         "s3a://lakehouse-edgy-production-us-west-2/output/CASH_CONNECTED_GRAPH_CHANGE_EVENT/V3/date=2025-06-26/part-00004-4ebe1fc0-65f1-488c-8a79-6e05688a6e27.c000.avro",
         "part-00004-4ebe1fc0-65f1-488c-8a79-6e05688a6e27.c000.avro",
         649,
         1751141123000
        ],
        [
         "s3a://lakehouse-edgy-production-us-west-2/output/CASH_CONNECTED_GRAPH_CHANGE_EVENT/V3/date=2025-06-26/part-00004-509b4a0f-c240-4251-983e-ee7bd4b18d81.c000.avro",
         "part-00004-509b4a0f-c240-4251-983e-ee7bd4b18d81.c000.avro",
         742,
         1751284936000
        ],
        [
         "s3a://lakehouse-edgy-production-us-west-2/output/CASH_CONNECTED_GRAPH_CHANGE_EVENT/V3/date=2025-06-26/part-00004-520954a3-9597-4fbc-8716-2a88aa7301a1.c000.avro",
         "part-00004-520954a3-9597-4fbc-8716-2a88aa7301a1.c000.avro",
         1005,
         1751306711000
        ],
        [
         "s3a://lakehouse-edgy-production-us-west-2/output/CASH_CONNECTED_GRAPH_CHANGE_EVENT/V3/date=2025-06-26/part-00004-5813e07f-0a97-410b-8ded-00c28f1f877a.c000.avro",
         "part-00004-5813e07f-0a97-410b-8ded-00c28f1f877a.c000.avro",
         874,
         1751083347000
        ],
        [
         "s3a://lakehouse-edgy-production-us-west-2/output/CASH_CONNECTED_GRAPH_CHANGE_EVENT/V3/date=2025-06-26/part-00004-582c904f-9a63-46d0-aaf3-3a11aebc636b.c000.avro",
         "part-00004-582c904f-9a63-46d0-aaf3-3a11aebc636b.c000.avro",
         740,
         1751220127000
        ],
        [
         "s3a://lakehouse-edgy-production-us-west-2/output/CASH_CONNECTED_GRAPH_CHANGE_EVENT/V3/date=2025-06-26/part-00004-5ca6a1b4-4b43-4773-b4cd-fff591701b25.c000.avro",
         "part-00004-5ca6a1b4-4b43-4773-b4cd-fff591701b25.c000.avro",
         621,
         1751256121000
        ],
        [
         "s3a://lakehouse-edgy-production-us-west-2/output/CASH_CONNECTED_GRAPH_CHANGE_EVENT/V3/date=2025-06-26/part-00004-5dc09752-b4c8-4e72-9905-d225e06e6b58.c000.avro",
         "part-00004-5dc09752-b4c8-4e72-9905-d225e06e6b58.c000.avro",
         1230,
         1751148141000
        ],
        [
         "s3a://lakehouse-edgy-production-us-west-2/output/CASH_CONNECTED_GRAPH_CHANGE_EVENT/V3/date=2025-06-26/part-00004-5fa02cc0-c504-4b38-aee1-7ebe4a364213.c000.avro",
         "part-00004-5fa02cc0-c504-4b38-aee1-7ebe4a364213.c000.avro",
         488,
         1751101308000
        ],
        [
         "s3a://lakehouse-edgy-production-us-west-2/output/CASH_CONNECTED_GRAPH_CHANGE_EVENT/V3/date=2025-06-26/part-00004-602d37b0-bad7-4e90-ace5-d728b4ea9e49.c000.avro",
         "part-00004-602d37b0-bad7-4e90-ace5-d728b4ea9e49.c000.avro",
         3965,
         1750986152000
        ],
        [
         "s3a://lakehouse-edgy-production-us-west-2/output/CASH_CONNECTED_GRAPH_CHANGE_EVENT/V3/date=2025-06-26/part-00004-60365af3-5ed2-43b9-9ba0-cabf8f094f5e.c000.avro",
         "part-00004-60365af3-5ed2-43b9-9ba0-cabf8f094f5e.c000.avro",
         3034,
         1750993349000
        ],
        [
         "s3a://lakehouse-edgy-production-us-west-2/output/CASH_CONNECTED_GRAPH_CHANGE_EVENT/V3/date=2025-06-26/part-00004-62690992-9a97-4fe0-a09d-c897240bcb52.c000.avro",
         "part-00004-62690992-9a97-4fe0-a09d-c897240bcb52.c000.avro",
         1254,
         1751137369000
        ],
        [
         "s3a://lakehouse-edgy-production-us-west-2/output/CASH_CONNECTED_GRAPH_CHANGE_EVENT/V3/date=2025-06-26/part-00004-63565f6a-802e-4910-95fb-110ca76a4ea8.c000.avro",
         "part-00004-63565f6a-802e-4910-95fb-110ca76a4ea8.c000.avro",
         472,
         1751176913000
        ],
        [
         "s3a://lakehouse-edgy-production-us-west-2/output/CASH_CONNECTED_GRAPH_CHANGE_EVENT/V3/date=2025-06-26/part-00004-652b4c8f-3f47-4622-948a-ef72a4015964.c000.avro",
         "part-00004-652b4c8f-3f47-4622-948a-ef72a4015964.c000.avro",
         619,
         1751022116000
        ],
        [
         "s3a://lakehouse-edgy-production-us-west-2/output/CASH_CONNECTED_GRAPH_CHANGE_EVENT/V3/date=2025-06-26/part-00004-695fb2a0-6cd8-4524-813b-30dfb4c0e0fa.c000.avro",
         "part-00004-695fb2a0-6cd8-4524-813b-30dfb4c0e0fa.c000.avro",
         3406857,
         1750906964000
        ],
        [
         "s3a://lakehouse-edgy-production-us-west-2/output/CASH_CONNECTED_GRAPH_CHANGE_EVENT/V3/date=2025-06-26/part-00004-698f9919-6347-4ba5-b1c1-a07aa18a763b.c000.avro",
         "part-00004-698f9919-6347-4ba5-b1c1-a07aa18a763b.c000.avro",
         2916,
         1750989750000
        ],
        [
         "s3a://lakehouse-edgy-production-us-west-2/output/CASH_CONNECTED_GRAPH_CHANGE_EVENT/V3/date=2025-06-26/part-00004-6b7fae41-8e7a-4e5c-94ad-ee35fd7affd8.c000.avro",
         "part-00004-6b7fae41-8e7a-4e5c-94ad-ee35fd7affd8.c000.avro",
         1626,
         1751133768000
        ],
        [
         "s3a://lakehouse-edgy-production-us-west-2/output/CASH_CONNECTED_GRAPH_CHANGE_EVENT/V3/date=2025-06-26/part-00004-6cb747b7-04e1-492f-8a0b-f45ed0dd7c8f.c000.avro",
         "part-00004-6cb747b7-04e1-492f-8a0b-f45ed0dd7c8f.c000.avro",
         705,
         1751238331000
        ],
        [
         "s3a://lakehouse-edgy-production-us-west-2/output/CASH_CONNECTED_GRAPH_CHANGE_EVENT/V3/date=2025-06-26/part-00004-6dc9b89c-a9c4-4a84-aba0-9a4378e6a7b0.c000.avro",
         "part-00004-6dc9b89c-a9c4-4a84-aba0-9a4378e6a7b0.c000.avro",
         644,
         1751173391000
        ],
        [
         "s3a://lakehouse-edgy-production-us-west-2/output/CASH_CONNECTED_GRAPH_CHANGE_EVENT/V3/date=2025-06-26/part-00004-6f1ec451-07f8-4220-8024-1e4b09cc4d71.c000.avro",
         "part-00004-6f1ec451-07f8-4220-8024-1e4b09cc4d71.c000.avro",
         3632854,
         1750982550000
        ],
        [
         "s3a://lakehouse-edgy-production-us-west-2/output/CASH_CONNECTED_GRAPH_CHANGE_EVENT/V3/date=2025-06-26/part-00004-72045b79-0370-4fd6-a8fb-cd8feb8e2183.c000.avro",
         "part-00004-72045b79-0370-4fd6-a8fb-cd8feb8e2183.c000.avro",
         1022,
         1751227328000
        ],
        [
         "s3a://lakehouse-edgy-production-us-west-2/output/CASH_CONNECTED_GRAPH_CHANGE_EVENT/V3/date=2025-06-26/part-00004-72327f05-c001-431a-ac62-a8249421a994.c000.avro",
         "part-00004-72327f05-c001-431a-ac62-a8249421a994.c000.avro",
         493,
         1751105107000
        ],
        [
         "s3a://lakehouse-edgy-production-us-west-2/output/CASH_CONNECTED_GRAPH_CHANGE_EVENT/V3/date=2025-06-26/part-00004-74a8adc2-9837-4f79-8e7a-ec818de96710.c000.avro",
         "part-00004-74a8adc2-9837-4f79-8e7a-ec818de96710.c000.avro",
         1125,
         1751303133000
        ],
        [
         "s3a://lakehouse-edgy-production-us-west-2/output/CASH_CONNECTED_GRAPH_CHANGE_EVENT/V3/date=2025-06-26/part-00004-7609b82d-3996-4c8a-8ca0-537be1e30bb3.c000.avro",
         "part-00004-7609b82d-3996-4c8a-8ca0-537be1e30bb3.c000.avro",
         486,
         1751288513000
        ],
        [
         "s3a://lakehouse-edgy-production-us-west-2/output/CASH_CONNECTED_GRAPH_CHANGE_EVENT/V3/date=2025-06-26/part-00004-77216df0-c65a-4694-82bc-23d47419abc2.c000.avro",
         "part-00004-77216df0-c65a-4694-82bc-23d47419abc2.c000.avro",
         1891,
         1751054554000
        ],
        [
         "s3a://lakehouse-edgy-production-us-west-2/output/CASH_CONNECTED_GRAPH_CHANGE_EVENT/V3/date=2025-06-26/part-00004-77c24212-7609-4c1f-9a36-16c43e47cab0.c000.avro",
         "part-00004-77c24212-7609-4c1f-9a36-16c43e47cab0.c000.avro",
         4707777,
         1750968154000
        ],
        [
         "s3a://lakehouse-edgy-production-us-west-2/output/CASH_CONNECTED_GRAPH_CHANGE_EVENT/V3/date=2025-06-26/part-00004-7b1bfc6b-c160-4634-83e2-412cad7afc18.c000.avro",
         "part-00004-7b1bfc6b-c160-4634-83e2-412cad7afc18.c000.avro",
         1295,
         1751155326000
        ],
        [
         "s3a://lakehouse-edgy-production-us-west-2/output/CASH_CONNECTED_GRAPH_CHANGE_EVENT/V3/date=2025-06-26/part-00004-7b79ddbe-ff41-44d8-8a23-51591efcebea.c000.avro",
         "part-00004-7b79ddbe-ff41-44d8-8a23-51591efcebea.c000.avro",
         489,
         1751194887000
        ],
        [
         "s3a://lakehouse-edgy-production-us-west-2/output/CASH_CONNECTED_GRAPH_CHANGE_EVENT/V3/date=2025-06-26/part-00004-7c3c3d5a-a571-40c3-9138-f9ada8cb5051.c000.avro",
         "part-00004-7c3c3d5a-a571-40c3-9138-f9ada8cb5051.c000.avro",
         1008,
         1751162536000
        ],
        [
         "s3a://lakehouse-edgy-production-us-west-2/output/CASH_CONNECTED_GRAPH_CHANGE_EVENT/V3/date=2025-06-26/part-00004-7cb821d1-96ec-4367-bc31-47a41a7cf9c5.c000.avro",
         "part-00004-7cb821d1-96ec-4367-bc31-47a41a7cf9c5.c000.avro",
         629,
         1751191285000
        ],
        [
         "s3a://lakehouse-edgy-production-us-west-2/output/CASH_CONNECTED_GRAPH_CHANGE_EVENT/V3/date=2025-06-26/part-00004-7db9d4e1-f2cc-495b-a4fd-c78cf04ee4f9.c000.avro",
         "part-00004-7db9d4e1-f2cc-495b-a4fd-c78cf04ee4f9.c000.avro",
         630,
         1751292171000
        ],
        [
         "s3a://lakehouse-edgy-production-us-west-2/output/CASH_CONNECTED_GRAPH_CHANGE_EVENT/V3/date=2025-06-26/part-00004-7e8f8cec-5e14-4ab0-9eeb-ce9d9485debf.c000.avro",
         "part-00004-7e8f8cec-5e14-4ab0-9eeb-ce9d9485debf.c000.avro",
         4523533,
         1750960960000
        ],
        [
         "s3a://lakehouse-edgy-production-us-west-2/output/CASH_CONNECTED_GRAPH_CHANGE_EVENT/V3/date=2025-06-26/part-00004-84bc3b26-0792-43b6-bc7a-da5c3a9f0c45.c000.avro",
         "part-00004-84bc3b26-0792-43b6-bc7a-da5c3a9f0c45.c000.avro",
         488,
         1751209323000
        ],
        [
         "s3a://lakehouse-edgy-production-us-west-2/output/CASH_CONNECTED_GRAPH_CHANGE_EVENT/V3/date=2025-06-26/part-00004-8b0b9bed-b70e-4367-a8fe-532cb0f6a149.c000.avro",
         "part-00004-8b0b9bed-b70e-4367-a8fe-532cb0f6a149.c000.avro",
         4188810,
         1750957356000
        ],
        [
         "s3a://lakehouse-edgy-production-us-west-2/output/CASH_CONNECTED_GRAPH_CHANGE_EVENT/V3/date=2025-06-26/part-00004-8cb28728-d7da-419b-b78d-9561bdbb9fc4.c000.avro",
         "part-00004-8cb28728-d7da-419b-b78d-9561bdbb9fc4.c000.avro",
         486,
         1751202343000
        ],
        [
         "s3a://lakehouse-edgy-production-us-west-2/output/CASH_CONNECTED_GRAPH_CHANGE_EVENT/V3/date=2025-06-26/part-00004-8f92b7f4-511f-4db0-8b04-894c4eb7ea7b.c000.avro",
         "part-00004-8f92b7f4-511f-4db0-8b04-894c4eb7ea7b.c000.avro",
         1309,
         1751072604000
        ],
        [
         "s3a://lakehouse-edgy-production-us-west-2/output/CASH_CONNECTED_GRAPH_CHANGE_EVENT/V3/date=2025-06-26/part-00004-9019aa7b-f2b4-42ef-8db6-5dfdfa6bee09.c000.avro",
         "part-00004-9019aa7b-f2b4-42ef-8db6-5dfdfa6bee09.c000.avro",
         1048,
         1751076167000
        ],
        [
         "s3a://lakehouse-edgy-production-us-west-2/output/CASH_CONNECTED_GRAPH_CHANGE_EVENT/V3/date=2025-06-26/part-00004-9826635e-933d-461d-9715-c69a2b202459.c000.avro",
         "part-00004-9826635e-933d-461d-9715-c69a2b202459.c000.avro",
         3821759,
         1750950147000
        ],
        [
         "s3a://lakehouse-edgy-production-us-west-2/output/CASH_CONNECTED_GRAPH_CHANGE_EVENT/V3/date=2025-06-26/part-00004-9e9038fa-fea9-4940-b110-496a605ca680.c000.avro",
         "part-00004-9e9038fa-fea9-4940-b110-496a605ca680.c000.avro",
         5161880,
         1750971936000
        ],
        [
         "s3a://lakehouse-edgy-production-us-west-2/output/CASH_CONNECTED_GRAPH_CHANGE_EVENT/V3/date=2025-06-26/part-00004-9e9cceca-f7d6-4c7a-8864-4410b5878b18.c000.avro",
         "part-00004-9e9cceca-f7d6-4c7a-8864-4410b5878b18.c000.avro",
         497,
         1751094111000
        ],
        [
         "s3a://lakehouse-edgy-production-us-west-2/output/CASH_CONNECTED_GRAPH_CHANGE_EVENT/V3/date=2025-06-26/part-00004-a0c6a94a-7f17-4ae4-bc74-e66fdcd465c0.c000.avro",
         "part-00004-a0c6a94a-7f17-4ae4-bc74-e66fdcd465c0.c000.avro",
         866,
         1751252585000
        ],
        [
         "s3a://lakehouse-edgy-production-us-west-2/output/CASH_CONNECTED_GRAPH_CHANGE_EVENT/V3/date=2025-06-26/part-00004-a12017bb-a7d8-4e46-9b07-85fe53833170.c000.avro",
         "part-00004-a12017bb-a7d8-4e46-9b07-85fe53833170.c000.avro",
         613,
         1751187696000
        ],
        [
         "s3a://lakehouse-edgy-production-us-west-2/output/CASH_CONNECTED_GRAPH_CHANGE_EVENT/V3/date=2025-06-26/part-00004-a329e30b-abff-49fb-804a-05e054499786.c000.avro",
         "part-00004-a329e30b-abff-49fb-804a-05e054499786.c000.avro",
         488,
         1751216560000
        ],
        [
         "s3a://lakehouse-edgy-production-us-west-2/output/CASH_CONNECTED_GRAPH_CHANGE_EVENT/V3/date=2025-06-26/part-00004-a474bc5a-8766-45c2-b04d-d5994f432540.c000.avro",
         "part-00004-a474bc5a-8766-45c2-b04d-d5994f432540.c000.avro",
         881,
         1751230959000
        ],
        [
         "s3a://lakehouse-edgy-production-us-west-2/output/CASH_CONNECTED_GRAPH_CHANGE_EVENT/V3/date=2025-06-26/part-00004-a73af22a-54b3-42c0-826d-d3ee9c83cc56.c000.avro",
         "part-00004-a73af22a-54b3-42c0-826d-d3ee9c83cc56.c000.avro",
         1815,
         1751061751000
        ],
        [
         "s3a://lakehouse-edgy-production-us-west-2/output/CASH_CONNECTED_GRAPH_CHANGE_EVENT/V3/date=2025-06-26/part-00004-aa4dcc15-5709-4bd3-b3a1-77383401195f.c000.avro",
         "part-00004-aa4dcc15-5709-4bd3-b3a1-77383401195f.c000.avro",
         494,
         1751248925000
        ],
        [
         "s3a://lakehouse-edgy-production-us-west-2/output/CASH_CONNECTED_GRAPH_CHANGE_EVENT/V3/date=2025-06-26/part-00004-ab794823-9fdf-4a6a-9915-66f30b4e28b6.c000.avro",
         "part-00004-ab794823-9fdf-4a6a-9915-66f30b4e28b6.c000.avro",
         2122,
         1751047555000
        ],
        [
         "s3a://lakehouse-edgy-production-us-west-2/output/CASH_CONNECTED_GRAPH_CHANGE_EVENT/V3/date=2025-06-26/part-00004-ab8f4af8-238f-440f-b175-e93ec2fa7a79.c000.avro",
         "part-00004-ab8f4af8-238f-440f-b175-e93ec2fa7a79.c000.avro",
         871,
         1751112131000
        ],
        [
         "s3a://lakehouse-edgy-production-us-west-2/output/CASH_CONNECTED_GRAPH_CHANGE_EVENT/V3/date=2025-06-26/part-00004-ae9d6512-c73a-4c14-92a3-62480ea1f433.c000.avro",
         "part-00004-ae9d6512-c73a-4c14-92a3-62480ea1f433.c000.avro",
         1506,
         1751043916000
        ],
        [
         "s3a://lakehouse-edgy-production-us-west-2/output/CASH_CONNECTED_GRAPH_CHANGE_EVENT/V3/date=2025-06-26/part-00004-b08a8411-c612-47bb-9cdd-f998bff1c6cd.c000.avro",
         "part-00004-b08a8411-c612-47bb-9cdd-f998bff1c6cd.c000.avro",
         2045212,
         1750924916000
        ],
        [
         "s3a://lakehouse-edgy-production-us-west-2/output/CASH_CONNECTED_GRAPH_CHANGE_EVENT/V3/date=2025-06-26/part-00004-b0cfad7d-7055-40b0-af5d-d8e3d0a7b3ba.c000.avro",
         "part-00004-b0cfad7d-7055-40b0-af5d-d8e3d0a7b3ba.c000.avro",
         741,
         1751119393000
        ],
        [
         "s3a://lakehouse-edgy-production-us-west-2/output/CASH_CONNECTED_GRAPH_CHANGE_EVENT/V3/date=2025-06-26/part-00004-b0f87489-c164-47d8-8105-e0c664226165.c000.avro",
         "part-00004-b0f87489-c164-47d8-8105-e0c664226165.c000.avro",
         489,
         1751274120000
        ],
        [
         "s3a://lakehouse-edgy-production-us-west-2/output/CASH_CONNECTED_GRAPH_CHANGE_EVENT/V3/date=2025-06-26/part-00004-b15686c0-2b4b-45f0-b37f-bf616bda4fbb.c000.avro",
         "part-00004-b15686c0-2b4b-45f0-b37f-bf616bda4fbb.c000.avro",
         612,
         1751313768000
        ],
        [
         "s3a://lakehouse-edgy-production-us-west-2/output/CASH_CONNECTED_GRAPH_CHANGE_EVENT/V3/date=2025-06-26/part-00004-b432c1ae-3175-475e-8898-df5dafe4188c.c000.avro",
         "part-00004-b432c1ae-3175-475e-8898-df5dafe4188c.c000.avro",
         617,
         1751158949000
        ],
        [
         "s3a://lakehouse-edgy-production-us-west-2/output/CASH_CONNECTED_GRAPH_CHANGE_EVENT/V3/date=2025-06-26/part-00004-b51a348a-dcbc-46ae-b5b1-00852618012c.c000.avro",
         "part-00004-b51a348a-dcbc-46ae-b5b1-00852618012c.c000.avro",
         741,
         1751263336000
        ],
        [
         "s3a://lakehouse-edgy-production-us-west-2/output/CASH_CONNECTED_GRAPH_CHANGE_EVENT/V3/date=2025-06-26/part-00004-b8dfbd1b-6ddc-4381-ad0d-ce67f058be86.c000.avro",
         "part-00004-b8dfbd1b-6ddc-4381-ad0d-ce67f058be86.c000.avro",
         743,
         1751213110000
        ],
        [
         "s3a://lakehouse-edgy-production-us-west-2/output/CASH_CONNECTED_GRAPH_CHANGE_EVENT/V3/date=2025-06-26/part-00004-bbb02862-7cd9-4d99-8a9e-b762df6dd422.c000.avro",
         "part-00004-bbb02862-7cd9-4d99-8a9e-b762df6dd422.c000.avro",
         466,
         1751169901000
        ],
        [
         "s3a://lakehouse-edgy-production-us-west-2/output/CASH_CONNECTED_GRAPH_CHANGE_EVENT/V3/date=2025-06-26/part-00004-bebf2d74-0aa9-4473-bd52-0d3eea04432b.c000.avro",
         "part-00004-bebf2d74-0aa9-4473-bd52-0d3eea04432b.c000.avro",
         2233590,
         1750939311000
        ],
        [
         "s3a://lakehouse-edgy-production-us-west-2/output/CASH_CONNECTED_GRAPH_CHANGE_EVENT/V3/date=2025-06-26/part-00004-c0305244-f3a1-4cc4-9bd0-6c14bb19ef59.c000.avro",
         "part-00004-c0305244-f3a1-4cc4-9bd0-6c14bb19ef59.c000.avro",
         5036927,
         1750964556000
        ],
        [
         "s3a://lakehouse-edgy-production-us-west-2/output/CASH_CONNECTED_GRAPH_CHANGE_EVENT/V3/date=2025-06-26/part-00004-c0ebdb1e-809b-42cf-b25a-4d901400fb9c.c000.avro",
         "part-00004-c0ebdb1e-809b-42cf-b25a-4d901400fb9c.c000.avro",
         1393,
         1751033200000
        ],
        [
         "s3a://lakehouse-edgy-production-us-west-2/output/CASH_CONNECTED_GRAPH_CHANGE_EVENT/V3/date=2025-06-26/part-00004-c39127e2-55aa-4bfa-b860-7cb7df7c0098.c000.avro",
         "part-00004-c39127e2-55aa-4bfa-b860-7cb7df7c0098.c000.avro",
         616,
         1751115924000
        ],
        [
         "s3a://lakehouse-edgy-production-us-west-2/output/CASH_CONNECTED_GRAPH_CHANGE_EVENT/V3/date=2025-06-26/part-00004-c6c21b95-31b2-46d2-b4f5-1111d390e777.c000.avro",
         "part-00004-c6c21b95-31b2-46d2-b4f5-1111d390e777.c000.avro",
         4112956,
         1750899934000
        ],
        [
         "s3a://lakehouse-edgy-production-us-west-2/output/CASH_CONNECTED_GRAPH_CHANGE_EVENT/V3/date=2025-06-26/part-00004-c7d2593d-8629-409c-92f3-2e6b03e7e72c.c000.avro",
         "part-00004-c7d2593d-8629-409c-92f3-2e6b03e7e72c.c000.avro",
         3856370,
         1750954026000
        ],
        [
         "s3a://lakehouse-edgy-production-us-west-2/output/CASH_CONNECTED_GRAPH_CHANGE_EVENT/V3/date=2025-06-26/part-00004-ce26d1cc-54ad-457f-9e99-aeeca8ab7d4b.c000.avro",
         "part-00004-ce26d1cc-54ad-457f-9e99-aeeca8ab7d4b.c000.avro",
         3569423,
         1750942962000
        ],
        [
         "s3a://lakehouse-edgy-production-us-west-2/output/CASH_CONNECTED_GRAPH_CHANGE_EVENT/V3/date=2025-06-26/part-00004-d13c8929-a1d8-4c2e-acc1-8d08a57e573d.c000.avro",
         "part-00004-d13c8929-a1d8-4c2e-acc1-8d08a57e573d.c000.avro",
         492,
         1751223745000
        ],
        [
         "s3a://lakehouse-edgy-production-us-west-2/output/CASH_CONNECTED_GRAPH_CHANGE_EVENT/V3/date=2025-06-26/part-00004-d263fc4f-2834-40fa-a57d-ca798feca3a1.c000.avro",
         "part-00004-d263fc4f-2834-40fa-a57d-ca798feca3a1.c000.avro",
         792,
         1751025751000
        ],
        [
         "s3a://lakehouse-edgy-production-us-west-2/output/CASH_CONNECTED_GRAPH_CHANGE_EVENT/V3/date=2025-06-26/part-00004-d55ca523-5059-4e49-bc93-c0d17ddd4e3d.c000.avro",
         "part-00004-d55ca523-5059-4e49-bc93-c0d17ddd4e3d.c000.avro",
         982,
         1751065342000
        ],
        [
         "s3a://lakehouse-edgy-production-us-west-2/output/CASH_CONNECTED_GRAPH_CHANGE_EVENT/V3/date=2025-06-26/part-00004-d5e7da69-f643-4a11-870e-b29dfbb00caa.c000.avro",
         "part-00004-d5e7da69-f643-4a11-870e-b29dfbb00caa.c000.avro",
         5070709,
         1750975543000
        ],
        [
         "s3a://lakehouse-edgy-production-us-west-2/output/CASH_CONNECTED_GRAPH_CHANGE_EVENT/V3/date=2025-06-26/part-00004-d7fc6fe6-26a8-4ec1-a5df-a72f4d6e088d.c000.avro",
         "part-00004-d7fc6fe6-26a8-4ec1-a5df-a72f4d6e088d.c000.avro",
         2982127,
         1750910544000
        ],
        [
         "s3a://lakehouse-edgy-production-us-west-2/output/CASH_CONNECTED_GRAPH_CHANGE_EVENT/V3/date=2025-06-26/part-00004-d94420ed-47c0-44e4-a9b3-69b27aa1bac2.c000.avro",
         "part-00004-d94420ed-47c0-44e4-a9b3-69b27aa1bac2.c000.avro",
         2496,
         1751040330000
        ],
        [
         "s3a://lakehouse-edgy-production-us-west-2/output/CASH_CONNECTED_GRAPH_CHANGE_EVENT/V3/date=2025-06-26/part-00004-da0d87b0-72aa-444a-bcca-8e374ef7ff6b.c000.avro",
         "part-00004-da0d87b0-72aa-444a-bcca-8e374ef7ff6b.c000.avro",
         1100,
         1751245501000
        ],
        [
         "s3a://lakehouse-edgy-production-us-west-2/output/CASH_CONNECTED_GRAPH_CHANGE_EVENT/V3/date=2025-06-26/part-00004-dea45248-9c79-4f34-858b-7194b637a56b.c000.avro",
         "part-00004-dea45248-9c79-4f34-858b-7194b637a56b.c000.avro",
         1205,
         1751007970000
        ],
        [
         "s3a://lakehouse-edgy-production-us-west-2/output/CASH_CONNECTED_GRAPH_CHANGE_EVENT/V3/date=2025-06-26/part-00004-def63112-984f-4e9d-b58a-e95032fa1798.c000.avro",
         "part-00004-def63112-984f-4e9d-b58a-e95032fa1798.c000.avro",
         632,
         1751108530000
        ],
        [
         "s3a://lakehouse-edgy-production-us-west-2/output/CASH_CONNECTED_GRAPH_CHANGE_EVENT/V3/date=2025-06-26/part-00004-e2267b7b-5576-4fdf-8537-faeba1960ee3.c000.avro",
         "part-00004-e2267b7b-5576-4fdf-8537-faeba1960ee3.c000.avro",
         491,
         1751324563000
        ],
        [
         "s3a://lakehouse-edgy-production-us-west-2/output/CASH_CONNECTED_GRAPH_CHANGE_EVENT/V3/date=2025-06-26/part-00004-e46d5bb2-bb9b-4ac3-a012-40b633779251.c000.avro",
         "part-00004-e46d5bb2-bb9b-4ac3-a012-40b633779251.c000.avro",
         2494,
         1751058316000
        ],
        [
         "s3a://lakehouse-edgy-production-us-west-2/output/CASH_CONNECTED_GRAPH_CHANGE_EVENT/V3/date=2025-06-26/part-00004-ea11b2a0-e451-4aec-b559-b2cd49ce1d87.c000.avro",
         "part-00004-ea11b2a0-e451-4aec-b559-b2cd49ce1d87.c000.avro",
         620,
         1751151908000
        ],
        [
         "s3a://lakehouse-edgy-production-us-west-2/output/CASH_CONNECTED_GRAPH_CHANGE_EVENT/V3/date=2025-06-26/part-00004-ecb38156-e4e2-4a8a-befa-8f8defe24281.c000.avro",
         "part-00004-ecb38156-e4e2-4a8a-befa-8f8defe24281.c000.avro",
         895,
         1751317338000
        ],
        [
         "s3a://lakehouse-edgy-production-us-west-2/output/CASH_CONNECTED_GRAPH_CHANGE_EVENT/V3/date=2025-06-26/part-00004-ef77b213-91a1-45b1-99f2-2936cabcd9b7.c000.avro",
         "part-00004-ef77b213-91a1-45b1-99f2-2936cabcd9b7.c000.avro",
         1814,
         1751051147000
        ],
        [
         "s3a://lakehouse-edgy-production-us-west-2/output/CASH_CONNECTED_GRAPH_CHANGE_EVENT/V3/date=2025-06-26/part-00004-f322c51c-7db4-4c92-af65-5a966eefa64f.c000.avro",
         "part-00004-f322c51c-7db4-4c92-af65-5a966eefa64f.c000.avro",
         268736,
         1750896337000
        ],
        [
         "s3a://lakehouse-edgy-production-us-west-2/output/CASH_CONNECTED_GRAPH_CHANGE_EVENT/V3/date=2025-06-26/part-00004-f3b8e113-c8d2-472a-83fd-01074eeeb08e.c000.avro",
         "part-00004-f3b8e113-c8d2-472a-83fd-01074eeeb08e.c000.avro",
         1096,
         1751299589000
        ],
        [
         "s3a://lakehouse-edgy-production-us-west-2/output/CASH_CONNECTED_GRAPH_CHANGE_EVENT/V3/date=2025-06-26/part-00004-f4f4f39a-91ed-4d00-97fd-854e552632ba.c000.avro",
         "part-00004-f4f4f39a-91ed-4d00-97fd-854e552632ba.c000.avro",
         1022,
         1751241741000
        ],
        [
         "s3a://lakehouse-edgy-production-us-west-2/output/CASH_CONNECTED_GRAPH_CHANGE_EVENT/V3/date=2025-06-26/part-00004-f9c617d6-0b89-434a-b036-7fb19b401707.c000.avro",
         "part-00004-f9c617d6-0b89-434a-b036-7fb19b401707.c000.avro",
         2114522,
         1750935716000
        ],
        [
         "s3a://lakehouse-edgy-production-us-west-2/output/CASH_CONNECTED_GRAPH_CHANGE_EVENT/V3/date=2025-06-26/part-00004-fb0c69e2-a38d-4ff6-b6ce-c0897559b0eb.c000.avro",
         "part-00004-fb0c69e2-a38d-4ff6-b6ce-c0897559b0eb.c000.avro",
         1081,
         1751029339000
        ],
        [
         "s3a://lakehouse-edgy-production-us-west-2/output/CASH_CONNECTED_GRAPH_CHANGE_EVENT/V3/date=2025-06-26/part-00004-feaaa7df-7bcd-4469-9503-a5fc18db2a0d.c000.avro",
         "part-00004-feaaa7df-7bcd-4469-9503-a5fc18db2a0d.c000.avro",
         3390277,
         1750946552000
        ],
        [
         "s3a://lakehouse-edgy-production-us-west-2/output/CASH_CONNECTED_GRAPH_CHANGE_EVENT/V3/date=2025-06-26/part-00004-febc1917-0ae2-4dab-9093-72f7db29aea7.c000.avro",
         "part-00004-febc1917-0ae2-4dab-9093-72f7db29aea7.c000.avro",
         1101,
         1751144527000
        ],
        [
         "s3a://lakehouse-edgy-production-us-west-2/output/CASH_CONNECTED_GRAPH_CHANGE_EVENT/V3/date=2025-06-26/part-00004-ffa2e743-5e9a-4288-bc41-8715ddd0d465.c000.avro",
         "part-00004-ffa2e743-5e9a-4288-bc41-8715ddd0d465.c000.avro",
         3631942,
         1750921333000
        ],
        [
         "s3a://lakehouse-edgy-production-us-west-2/output/CASH_CONNECTED_GRAPH_CHANGE_EVENT/V3/date=2025-06-26/part-00004-ffde44e8-d6ca-4737-a02b-307346509cca.c000.avro",
         "part-00004-ffde44e8-d6ca-4737-a02b-307346509cca.c000.avro",
         4431852,
         1750979123000
        ],
        [
         "s3a://lakehouse-edgy-production-us-west-2/output/CASH_CONNECTED_GRAPH_CHANGE_EVENT/V3/date=2025-06-26/part-00005-003612c4-0245-48a2-bf08-01d2b9572612.c000.avro",
         "part-00005-003612c4-0245-48a2-bf08-01d2b9572612.c000.avro",
         753,
         1751281304000
        ],
        [
         "s3a://lakehouse-edgy-production-us-west-2/output/CASH_CONNECTED_GRAPH_CHANGE_EVENT/V3/date=2025-06-26/part-00005-03e36b1d-0e50-4d10-bcf9-379a6e4a6439.c000.avro",
         "part-00005-03e36b1d-0e50-4d10-bcf9-379a6e4a6439.c000.avro",
         744,
         1751245502000
        ],
        [
         "s3a://lakehouse-edgy-production-us-west-2/output/CASH_CONNECTED_GRAPH_CHANGE_EVENT/V3/date=2025-06-26/part-00005-048bb494-d891-4ff6-b77f-b4a034da56d3.c000.avro",
         "part-00005-048bb494-d891-4ff6-b77f-b4a034da56d3.c000.avro",
         3354009,
         1750914325000
        ],
        [
         "s3a://lakehouse-edgy-production-us-west-2/output/CASH_CONNECTED_GRAPH_CHANGE_EVENT/V3/date=2025-06-26/part-00005-060e88a6-2b30-4d25-8ba2-f589000838cf.c000.avro",
         "part-00005-060e88a6-2b30-4d25-8ba2-f589000838cf.c000.avro",
         738,
         1751317338000
        ],
        [
         "s3a://lakehouse-edgy-production-us-west-2/output/CASH_CONNECTED_GRAPH_CHANGE_EVENT/V3/date=2025-06-26/part-00005-067f214b-89c9-4fc9-9c05-e63ebfd9e298.c000.avro",
         "part-00005-067f214b-89c9-4fc9-9c05-e63ebfd9e298.c000.avro",
         1002,
         1751155329000
        ],
        [
         "s3a://lakehouse-edgy-production-us-west-2/output/CASH_CONNECTED_GRAPH_CHANGE_EVENT/V3/date=2025-06-26/part-00005-082587b6-e1e5-4e0f-8e58-0494c4ce160b.c000.avro",
         "part-00005-082587b6-e1e5-4e0f-8e58-0494c4ce160b.c000.avro",
         1693,
         1751036549000
        ],
        [
         "s3a://lakehouse-edgy-production-us-west-2/output/CASH_CONNECTED_GRAPH_CHANGE_EVENT/V3/date=2025-06-26/part-00005-0adb3ef5-4b75-4e81-8050-946b9d28f00d.c000.avro",
         "part-00005-0adb3ef5-4b75-4e81-8050-946b9d28f00d.c000.avro",
         1972528,
         1750928487000
        ],
        [
         "s3a://lakehouse-edgy-production-us-west-2/output/CASH_CONNECTED_GRAPH_CHANGE_EVENT/V3/date=2025-06-26/part-00005-0c351204-4079-4949-9e24-c3b98284814a.c000.avro",
         "part-00005-0c351204-4079-4949-9e24-c3b98284814a.c000.avro",
         4397585,
         1750979125000
        ],
        [
         "s3a://lakehouse-edgy-production-us-west-2/output/CASH_CONNECTED_GRAPH_CHANGE_EVENT/V3/date=2025-06-26/part-00005-0c9a185a-5de3-4a8d-9fa5-eaf42d603e00.c000.avro",
         "part-00005-0c9a185a-5de3-4a8d-9fa5-eaf42d603e00.c000.avro",
         745,
         1751259743000
        ],
        [
         "s3a://lakehouse-edgy-production-us-west-2/output/CASH_CONNECTED_GRAPH_CHANGE_EVENT/V3/date=2025-06-26/part-00005-0e5e8249-46f3-443e-a9a8-d7dcfeb7ae16.c000.avro",
         "part-00005-0e5e8249-46f3-443e-a9a8-d7dcfeb7ae16.c000.avro",
         751,
         1751144528000
        ],
        [
         "s3a://lakehouse-edgy-production-us-west-2/output/CASH_CONNECTED_GRAPH_CHANGE_EVENT/V3/date=2025-06-26/part-00005-20d057ba-2c27-436c-8a58-b10063670ee5.c000.avro",
         "part-00005-20d057ba-2c27-436c-8a58-b10063670ee5.c000.avro",
         621,
         1751313769000
        ],
        [
         "s3a://lakehouse-edgy-production-us-west-2/output/CASH_CONNECTED_GRAPH_CHANGE_EVENT/V3/date=2025-06-26/part-00005-215c6d6f-acd2-4ced-b62d-3f96f30e61aa.c000.avro",
         "part-00005-215c6d6f-acd2-4ced-b62d-3f96f30e61aa.c000.avro",
         1949,
         1750993347000
        ],
        [
         "s3a://lakehouse-edgy-production-us-west-2/output/CASH_CONNECTED_GRAPH_CHANGE_EVENT/V3/date=2025-06-26/part-00005-226c0c39-4fb4-408c-bb73-954f85a60c63.c000.avro",
         "part-00005-226c0c39-4fb4-408c-bb73-954f85a60c63.c000.avro",
         271421,
         1750896340000
        ],
        [
         "s3a://lakehouse-edgy-production-us-west-2/output/CASH_CONNECTED_GRAPH_CHANGE_EVENT/V3/date=2025-06-26/part-00005-2527b5b9-6b69-4026-a0be-a53046b34eb9.c000.avro",
         "part-00005-2527b5b9-6b69-4026-a0be-a53046b34eb9.c000.avro",
         1591,
         1751051146000
        ],
        [
         "s3a://lakehouse-edgy-production-us-west-2/output/CASH_CONNECTED_GRAPH_CHANGE_EVENT/V3/date=2025-06-26/part-00005-2588a1a9-219b-47ed-ab37-79c2304e65e5.c000.avro",
         "part-00005-2588a1a9-219b-47ed-ab37-79c2304e65e5.c000.avro",
         962,
         1751234537000
        ],
        [
         "s3a://lakehouse-edgy-production-us-west-2/output/CASH_CONNECTED_GRAPH_CHANGE_EVENT/V3/date=2025-06-26/part-00005-267deb2d-d65d-4225-baa1-fc61386f3aa2.c000.avro",
         "part-00005-267deb2d-d65d-4225-baa1-fc61386f3aa2.c000.avro",
         876,
         1751256118000
        ],
        [
         "s3a://lakehouse-edgy-production-us-west-2/output/CASH_CONNECTED_GRAPH_CHANGE_EVENT/V3/date=2025-06-26/part-00005-290b5f23-2911-4b22-81ff-cdcd8b545608.c000.avro",
         "part-00005-290b5f23-2911-4b22-81ff-cdcd8b545608.c000.avro",
         1389,
         1751000536000
        ],
        [
         "s3a://lakehouse-edgy-production-us-west-2/output/CASH_CONNECTED_GRAPH_CHANGE_EVENT/V3/date=2025-06-26/part-00005-2abdfe8b-5b65-4816-aad9-4e27ea15ec1d.c000.avro",
         "part-00005-2abdfe8b-5b65-4816-aad9-4e27ea15ec1d.c000.avro",
         1111,
         1751137367000
        ],
        [
         "s3a://lakehouse-edgy-production-us-west-2/output/CASH_CONNECTED_GRAPH_CHANGE_EVENT/V3/date=2025-06-26/part-00005-2bcbf845-cccb-45e3-9842-5a908d2dddf9.c000.avro",
         "part-00005-2bcbf845-cccb-45e3-9842-5a908d2dddf9.c000.avro",
         879,
         1751220129000
        ],
        [
         "s3a://lakehouse-edgy-production-us-west-2/output/CASH_CONNECTED_GRAPH_CHANGE_EVENT/V3/date=2025-06-26/part-00005-2bfbeeb2-19ff-438b-9bc3-f9fde8664bf9.c000.avro",
         "part-00005-2bfbeeb2-19ff-438b-9bc3-f9fde8664bf9.c000.avro",
         1462,
         1751040334000
        ],
        [
         "s3a://lakehouse-edgy-production-us-west-2/output/CASH_CONNECTED_GRAPH_CHANGE_EVENT/V3/date=2025-06-26/part-00005-2c51b7ee-0eff-4de6-8c7c-5b91291ffe84.c000.avro",
         "part-00005-2c51b7ee-0eff-4de6-8c7c-5b91291ffe84.c000.avro",
         491,
         1751274120000
        ],
        [
         "s3a://lakehouse-edgy-production-us-west-2/output/CASH_CONNECTED_GRAPH_CHANGE_EVENT/V3/date=2025-06-26/part-00005-2c62ecb5-6b97-49e6-b7ad-deb7f732a028.c000.avro",
         "part-00005-2c62ecb5-6b97-49e6-b7ad-deb7f732a028.c000.avro",
         3392499,
         1750946551000
        ],
        [
         "s3a://lakehouse-edgy-production-us-west-2/output/CASH_CONNECTED_GRAPH_CHANGE_EVENT/V3/date=2025-06-26/part-00005-3004e1e5-9635-44a1-9730-a20a7b07966e.c000.avro",
         "part-00005-3004e1e5-9635-44a1-9730-a20a7b07966e.c000.avro",
         737,
         1751180536000
        ],
        [
         "s3a://lakehouse-edgy-production-us-west-2/output/CASH_CONNECTED_GRAPH_CHANGE_EVENT/V3/date=2025-06-26/part-00005-32a462ff-6711-4630-83c1-f620574417d1.c000.avro",
         "part-00005-32a462ff-6711-4630-83c1-f620574417d1.c000.avro",
         493,
         1751198501000
        ],
        [
         "s3a://lakehouse-edgy-production-us-west-2/output/CASH_CONNECTED_GRAPH_CHANGE_EVENT/V3/date=2025-06-26/part-00005-33351486-dd99-4d1a-a55c-6e95efccb89e.c000.avro",
         "part-00005-33351486-dd99-4d1a-a55c-6e95efccb89e.c000.avro",
         776,
         1751083348000
        ],
        [
         "s3a://lakehouse-edgy-production-us-west-2/output/CASH_CONNECTED_GRAPH_CHANGE_EVENT/V3/date=2025-06-26/part-00005-3448e188-33ef-4e78-a499-3abecd51f869.c000.avro",
         "part-00005-3448e188-33ef-4e78-a499-3abecd51f869.c000.avro",
         614,
         1751270493000
        ],
        [
         "s3a://lakehouse-edgy-production-us-west-2/output/CASH_CONNECTED_GRAPH_CHANGE_EVENT/V3/date=2025-06-26/part-00005-346b4364-0b65-41b9-8f1d-e0e0c053ae39.c000.avro",
         "part-00005-346b4364-0b65-41b9-8f1d-e0e0c053ae39.c000.avro",
         894,
         1751216562000
        ],
        [
         "s3a://lakehouse-edgy-production-us-west-2/output/CASH_CONNECTED_GRAPH_CHANGE_EVENT/V3/date=2025-06-26/part-00005-34f94830-091b-4085-b8d1-901a91e6fd0e.c000.avro",
         "part-00005-34f94830-091b-4085-b8d1-901a91e6fd0e.c000.avro",
         638,
         1751094110000
        ],
        [
         "s3a://lakehouse-edgy-production-us-west-2/output/CASH_CONNECTED_GRAPH_CHANGE_EVENT/V3/date=2025-06-26/part-00005-39933494-b24e-46ad-a864-35dde2078330.c000.avro",
         "part-00005-39933494-b24e-46ad-a864-35dde2078330.c000.avro",
         618,
         1751090533000
        ],
        [
         "s3a://lakehouse-edgy-production-us-west-2/output/CASH_CONNECTED_GRAPH_CHANGE_EVENT/V3/date=2025-06-26/part-00005-3ddca008-8162-477b-b993-db858edbd3c2.c000.avro",
         "part-00005-3ddca008-8162-477b-b993-db858edbd3c2.c000.avro",
         5005357,
         1750964561000
        ],
        [
         "s3a://lakehouse-edgy-production-us-west-2/output/CASH_CONNECTED_GRAPH_CHANGE_EVENT/V3/date=2025-06-26/part-00005-3e12d847-b51f-44ef-8076-58c81be2198d.c000.avro",
         "part-00005-3e12d847-b51f-44ef-8076-58c81be2198d.c000.avro",
         873,
         1751126529000
        ],
        [
         "s3a://lakehouse-edgy-production-us-west-2/output/CASH_CONNECTED_GRAPH_CHANGE_EVENT/V3/date=2025-06-26/part-00005-3f9c928b-3900-4e9f-b3b1-803aa2589efe.c000.avro",
         "part-00005-3f9c928b-3900-4e9f-b3b1-803aa2589efe.c000.avro",
         5075443,
         1750975543000
        ],
        [
         "s3a://lakehouse-edgy-production-us-west-2/output/CASH_CONNECTED_GRAPH_CHANGE_EVENT/V3/date=2025-06-26/part-00005-4397fa6f-403c-4f92-af70-972358733e42.c000.avro",
         "part-00005-4397fa6f-403c-4f92-af70-972358733e42.c000.avro",
         493,
         1751176912000
        ],
        [
         "s3a://lakehouse-edgy-production-us-west-2/output/CASH_CONNECTED_GRAPH_CHANGE_EVENT/V3/date=2025-06-26/part-00005-44ab475d-af6b-47a8-a893-a9716b418eb0.c000.avro",
         "part-00005-44ab475d-af6b-47a8-a893-a9716b418eb0.c000.avro",
         509,
         1751263334000
        ],
        [
         "s3a://lakehouse-edgy-production-us-west-2/output/CASH_CONNECTED_GRAPH_CHANGE_EVENT/V3/date=2025-06-26/part-00005-48d53e0b-36ce-42ab-92d9-d9b6653487aa.c000.avro",
         "part-00005-48d53e0b-36ce-42ab-92d9-d9b6653487aa.c000.avro",
         748,
         1751320942000
        ],
        [
         "s3a://lakehouse-edgy-production-us-west-2/output/CASH_CONNECTED_GRAPH_CHANGE_EVENT/V3/date=2025-06-26/part-00005-49684665-0a06-4a8c-a69b-dba9b33d60f8.c000.avro",
         "part-00005-49684665-0a06-4a8c-a69b-dba9b33d60f8.c000.avro",
         4738907,
         1750968154000
        ],
        [
         "s3a://lakehouse-edgy-production-us-west-2/output/CASH_CONNECTED_GRAPH_CHANGE_EVENT/V3/date=2025-06-26/part-00005-4a905f07-5a7a-4145-a061-1d16007ae979.c000.avro",
         "part-00005-4a905f07-5a7a-4145-a061-1d16007ae979.c000.avro",
         964,
         1751029341000
        ],
        [
         "s3a://lakehouse-edgy-production-us-west-2/output/CASH_CONNECTED_GRAPH_CHANGE_EVENT/V3/date=2025-06-26/part-00005-4afac713-132f-481e-9c87-86b4c4b29553.c000.avro",
         "part-00005-4afac713-132f-481e-9c87-86b4c4b29553.c000.avro",
         739,
         1751213109000
        ],
        [
         "s3a://lakehouse-edgy-production-us-west-2/output/CASH_CONNECTED_GRAPH_CHANGE_EVENT/V3/date=2025-06-26/part-00005-4b3053fb-1a61-43a6-8f21-5e97c964febb.c000.avro",
         "part-00005-4b3053fb-1a61-43a6-8f21-5e97c964febb.c000.avro",
         1223,
         1751043915000
        ],
        [
         "s3a://lakehouse-edgy-production-us-west-2/output/CASH_CONNECTED_GRAPH_CHANGE_EVENT/V3/date=2025-06-26/part-00005-4c7cbcd4-48ec-45c7-a563-a8144ede143b.c000.avro",
         "part-00005-4c7cbcd4-48ec-45c7-a563-a8144ede143b.c000.avro",
         885,
         1751169904000
        ],
        [
         "s3a://lakehouse-edgy-production-us-west-2/output/CASH_CONNECTED_GRAPH_CHANGE_EVENT/V3/date=2025-06-26/part-00005-4cf8ed96-569d-497d-8caf-fd1e83338791.c000.avro",
         "part-00005-4cf8ed96-569d-497d-8caf-fd1e83338791.c000.avro",
         1754,
         1750996936000
        ],
        [
         "s3a://lakehouse-edgy-production-us-west-2/output/CASH_CONNECTED_GRAPH_CHANGE_EVENT/V3/date=2025-06-26/part-00005-4e362281-3bf5-4d59-a195-c9375825b8c2.c000.avro",
         "part-00005-4e362281-3bf5-4d59-a195-c9375825b8c2.c000.avro",
         1240,
         1751310171000
        ],
        [
         "s3a://lakehouse-edgy-production-us-west-2/output/CASH_CONNECTED_GRAPH_CHANGE_EVENT/V3/date=2025-06-26/part-00005-4e6a4607-20bf-4332-ad25-33e9fee5c2ed.c000.avro",
         "part-00005-4e6a4607-20bf-4332-ad25-33e9fee5c2ed.c000.avro",
         2041483,
         1750924914000
        ],
        [
         "s3a://lakehouse-edgy-production-us-west-2/output/CASH_CONNECTED_GRAPH_CHANGE_EVENT/V3/date=2025-06-26/part-00005-4f05e932-ba24-490b-a065-a1a8ddd0e6ea.c000.avro",
         "part-00005-4f05e932-ba24-490b-a065-a1a8ddd0e6ea.c000.avro",
         622,
         1751331739000
        ],
        [
         "s3a://lakehouse-edgy-production-us-west-2/output/CASH_CONNECTED_GRAPH_CHANGE_EVENT/V3/date=2025-06-26/part-00005-53820d18-a794-44c1-b05e-2eacb6972034.c000.avro",
         "part-00005-53820d18-a794-44c1-b05e-2eacb6972034.c000.avro",
         493,
         1751284938000
        ],
        [
         "s3a://lakehouse-edgy-production-us-west-2/output/CASH_CONNECTED_GRAPH_CHANGE_EVENT/V3/date=2025-06-26/part-00005-582d40c8-694c-48fe-9f3b-f410e30b7770.c000.avro",
         "part-00005-582d40c8-694c-48fe-9f3b-f410e30b7770.c000.avro",
         487,
         1751277691000
        ],
        [
         "s3a://lakehouse-edgy-production-us-west-2/output/CASH_CONNECTED_GRAPH_CHANGE_EVENT/V3/date=2025-06-26/part-00005-592be80a-6827-47e2-beb4-e24b35a70984.c000.avro",
         "part-00005-592be80a-6827-47e2-beb4-e24b35a70984.c000.avro",
         854,
         1751007970000
        ],
        [
         "s3a://lakehouse-edgy-production-us-west-2/output/CASH_CONNECTED_GRAPH_CHANGE_EVENT/V3/date=2025-06-26/part-00005-5c423e91-2eb9-47f1-801f-64929fa7c728.c000.avro",
         "part-00005-5c423e91-2eb9-47f1-801f-64929fa7c728.c000.avro",
         1203,
         1751047553000
        ],
        [
         "s3a://lakehouse-edgy-production-us-west-2/output/CASH_CONNECTED_GRAPH_CHANGE_EVENT/V3/date=2025-06-26/part-00005-5d2b0378-d3ba-45e3-86b5-a8789fc9a151.c000.avro",
         "part-00005-5d2b0378-d3ba-45e3-86b5-a8789fc9a151.c000.avro",
         3858089,
         1750954028000
        ],
        [
         "s3a://lakehouse-edgy-production-us-west-2/output/CASH_CONNECTED_GRAPH_CHANGE_EVENT/V3/date=2025-06-26/part-00005-62b73151-9a2c-4e9a-bb55-2518dc08b748.c000.avro",
         "part-00005-62b73151-9a2c-4e9a-bb55-2518dc08b748.c000.avro",
         886,
         1751151909000
        ],
        [
         "s3a://lakehouse-edgy-production-us-west-2/output/CASH_CONNECTED_GRAPH_CHANGE_EVENT/V3/date=2025-06-26/part-00005-637d1197-3bba-4b79-b7a2-dca250cfb946.c000.avro",
         "part-00005-637d1197-3bba-4b79-b7a2-dca250cfb946.c000.avro",
         1724646,
         1750932124000
        ],
        [
         "s3a://lakehouse-edgy-production-us-west-2/output/CASH_CONNECTED_GRAPH_CHANGE_EVENT/V3/date=2025-06-26/part-00005-63f87aa8-931b-44f3-9d98-26bec5fa0bfa.c000.avro",
         "part-00005-63f87aa8-931b-44f3-9d98-26bec5fa0bfa.c000.avro",
         3615776,
         1750982552000
        ],
        [
         "s3a://lakehouse-edgy-production-us-west-2/output/CASH_CONNECTED_GRAPH_CHANGE_EVENT/V3/date=2025-06-26/part-00005-6493fe1b-13d5-4214-892d-9839be5ce410.c000.avro",
         "part-00005-6493fe1b-13d5-4214-892d-9839be5ce410.c000.avro",
         622,
         1751025751000
        ],
        [
         "s3a://lakehouse-edgy-production-us-west-2/output/CASH_CONNECTED_GRAPH_CHANGE_EVENT/V3/date=2025-06-26/part-00005-667b68b5-2f1d-47c8-9839-27d9745d68db.c000.avro",
         "part-00005-667b68b5-2f1d-47c8-9839-27d9745d68db.c000.avro",
         730,
         1751141124000
        ],
        [
         "s3a://lakehouse-edgy-production-us-west-2/output/CASH_CONNECTED_GRAPH_CHANGE_EVENT/V3/date=2025-06-26/part-00005-6eace038-300d-4085-ad9e-e8bb354f08c9.c000.avro",
         "part-00005-6eace038-300d-4085-ad9e-e8bb354f08c9.c000.avro",
         602,
         1751295761000
        ],
        [
         "s3a://lakehouse-edgy-production-us-west-2/output/CASH_CONNECTED_GRAPH_CHANGE_EVENT/V3/date=2025-06-26/part-00005-70e417de-4b0e-4500-a742-a71fecca14e3.c000.avro",
         "part-00005-70e417de-4b0e-4500-a742-a71fecca14e3.c000.avro",
         1206,
         1751223745000
        ],
        [
         "s3a://lakehouse-edgy-production-us-west-2/output/CASH_CONNECTED_GRAPH_CHANGE_EVENT/V3/date=2025-06-26/part-00005-712fa3d9-b58d-4fa2-ab97-fa98d8abace1.c000.avro",
         "part-00005-712fa3d9-b58d-4fa2-ab97-fa98d8abace1.c000.avro",
         3592204,
         1750942963000
        ],
        [
         "s3a://lakehouse-edgy-production-us-west-2/output/CASH_CONNECTED_GRAPH_CHANGE_EVENT/V3/date=2025-06-26/part-00005-7315eb47-16dc-44c3-8ab0-bc032b4e0317.c000.avro",
         "part-00005-7315eb47-16dc-44c3-8ab0-bc032b4e0317.c000.avro",
         997,
         1751014918000
        ],
        [
         "s3a://lakehouse-edgy-production-us-west-2/output/CASH_CONNECTED_GRAPH_CHANGE_EVENT/V3/date=2025-06-26/part-00005-77afd6e8-ae99-4a8b-831a-fcd42b8a86a0.c000.avro",
         "part-00005-77afd6e8-ae99-4a8b-831a-fcd42b8a86a0.c000.avro",
         1137,
         1751079732000
        ],
        [
         "s3a://lakehouse-edgy-production-us-west-2/output/CASH_CONNECTED_GRAPH_CHANGE_EVENT/V3/date=2025-06-26/part-00005-7bdc7fe1-b43f-40ce-b38a-efd160e65979.c000.avro",
         "part-00005-7bdc7fe1-b43f-40ce-b38a-efd160e65979.c000.avro",
         1336,
         1751065341000
        ],
        [
         "s3a://lakehouse-edgy-production-us-west-2/output/CASH_CONNECTED_GRAPH_CHANGE_EVENT/V3/date=2025-06-26/part-00005-8318f794-617f-48ce-8c8f-2793b9c04bc7.c000.avro",
         "part-00005-8318f794-617f-48ce-8c8f-2793b9c04bc7.c000.avro",
         3356344,
         1750906965000
        ],
        [
         "s3a://lakehouse-edgy-production-us-west-2/output/CASH_CONNECTED_GRAPH_CHANGE_EVENT/V3/date=2025-06-26/part-00005-86062455-e7ca-44ff-ad6c-3dcd91dee621.c000.avro",
         "part-00005-86062455-e7ca-44ff-ad6c-3dcd91dee621.c000.avro",
         890,
         1751087107000
        ],
        [
         "s3a://lakehouse-edgy-production-us-west-2/output/CASH_CONNECTED_GRAPH_CHANGE_EVENT/V3/date=2025-06-26/part-00005-88328ec1-b3d7-43a3-b193-b11ce49347c5.c000.avro",
         "part-00005-88328ec1-b3d7-43a3-b193-b11ce49347c5.c000.avro",
         1243,
         1751072604000
        ],
        [
         "s3a://lakehouse-edgy-production-us-west-2/output/CASH_CONNECTED_GRAPH_CHANGE_EVENT/V3/date=2025-06-26/part-00005-8bbe3e63-7879-42e8-b112-326e1e44ef46.c000.avro",
         "part-00005-8bbe3e63-7879-42e8-b112-326e1e44ef46.c000.avro",
         1246,
         1751061753000
        ],
        [
         "s3a://lakehouse-edgy-production-us-west-2/output/CASH_CONNECTED_GRAPH_CHANGE_EVENT/V3/date=2025-06-26/part-00005-8c688827-7c58-4d7d-a2cb-5da38d469495.c000.avro",
         "part-00005-8c688827-7c58-4d7d-a2cb-5da38d469495.c000.avro",
         613,
         1751158948000
        ],
        [
         "s3a://lakehouse-edgy-production-us-west-2/output/CASH_CONNECTED_GRAPH_CHANGE_EVENT/V3/date=2025-06-26/part-00005-8c72e0f8-5828-43f2-ac40-fb8338e86ee8.c000.avro",
         "part-00005-8c72e0f8-5828-43f2-ac40-fb8338e86ee8.c000.avro",
         845,
         1751166347000
        ],
        [
         "s3a://lakehouse-edgy-production-us-west-2/output/CASH_CONNECTED_GRAPH_CHANGE_EVENT/V3/date=2025-06-26/part-00005-8cd2e5c7-097e-40f4-ab37-5e81a8e7ddbb.c000.avro",
         "part-00005-8cd2e5c7-097e-40f4-ab37-5e81a8e7ddbb.c000.avro",
         491,
         1751205739000
        ],
        [
         "s3a://lakehouse-edgy-production-us-west-2/output/CASH_CONNECTED_GRAPH_CHANGE_EVENT/V3/date=2025-06-26/part-00005-9514fc7b-6864-4716-82c7-905370ea94f8.c000.avro",
         "part-00005-9514fc7b-6864-4716-82c7-905370ea94f8.c000.avro",
         4780,
         1750986150000
        ],
        [
         "s3a://lakehouse-edgy-production-us-west-2/output/CASH_CONNECTED_GRAPH_CHANGE_EVENT/V3/date=2025-06-26/part-00005-959eae6b-a906-45de-b0f5-f2efdc990d23.c000.avro",
         "part-00005-959eae6b-a906-45de-b0f5-f2efdc990d23.c000.avro",
         619,
         1751011309000
        ],
        [
         "s3a://lakehouse-edgy-production-us-west-2/output/CASH_CONNECTED_GRAPH_CHANGE_EVENT/V3/date=2025-06-26/part-00005-973e3cea-8104-4a34-a7c2-530e1d633972.c000.avro",
         "part-00005-973e3cea-8104-4a34-a7c2-530e1d633972.c000.avro",
         634,
         1751122936000
        ],
        [
         "s3a://lakehouse-edgy-production-us-west-2/output/CASH_CONNECTED_GRAPH_CHANGE_EVENT/V3/date=2025-06-26/part-00005-974d6c94-3b7a-4074-bfe1-2db774fe0bfb.c000.avro",
         "part-00005-974d6c94-3b7a-4074-bfe1-2db774fe0bfb.c000.avro",
         3820708,
         1750950149000
        ],
        [
         "s3a://lakehouse-edgy-production-us-west-2/output/CASH_CONNECTED_GRAPH_CHANGE_EVENT/V3/date=2025-06-26/part-00005-996ceb29-bb95-4597-ae24-bbe7dcc0948c.c000.avro",
         "part-00005-996ceb29-bb95-4597-ae24-bbe7dcc0948c.c000.avro",
         1266,
         1751328145000
        ],
        [
         "s3a://lakehouse-edgy-production-us-west-2/output/CASH_CONNECTED_GRAPH_CHANGE_EVENT/V3/date=2025-06-26/part-00005-9bed3381-2687-4eb7-b4c8-3b6ee607150c.c000.avro",
         "part-00005-9bed3381-2687-4eb7-b4c8-3b6ee607150c.c000.avro",
         904,
         1751252586000
        ],
        [
         "s3a://lakehouse-edgy-production-us-west-2/output/CASH_CONNECTED_GRAPH_CHANGE_EVENT/V3/date=2025-06-26/part-00005-9d119213-64a8-4fb9-9d87-e301cd570835.c000.avro",
         "part-00005-9d119213-64a8-4fb9-9d87-e301cd570835.c000.avro",
         495,
         1751112130000
        ],
        [
         "s3a://lakehouse-edgy-production-us-west-2/output/CASH_CONNECTED_GRAPH_CHANGE_EVENT/V3/date=2025-06-26/part-00005-a27b85df-07d3-4ff2-8b45-6b8507268f1a.c000.avro",
         "part-00005-a27b85df-07d3-4ff2-8b45-6b8507268f1a.c000.avro",
         3170,
         1750989750000
        ],
        [
         "s3a://lakehouse-edgy-production-us-west-2/output/CASH_CONNECTED_GRAPH_CHANGE_EVENT/V3/date=2025-06-26/part-00005-a2d47e1f-bb29-4965-b068-c197de9cd153.c000.avro",
         "part-00005-a2d47e1f-bb29-4965-b068-c197de9cd153.c000.avro",
         619,
         1751209324000
        ],
        [
         "s3a://lakehouse-edgy-production-us-west-2/output/CASH_CONNECTED_GRAPH_CHANGE_EVENT/V3/date=2025-06-26/part-00005-a3b3af1c-ad7c-4678-8df6-967150c5fd19.c000.avro",
         "part-00005-a3b3af1c-ad7c-4678-8df6-967150c5fd19.c000.avro",
         5190204,
         1750971933000
        ],
        [
         "s3a://lakehouse-edgy-production-us-west-2/output/CASH_CONNECTED_GRAPH_CHANGE_EVENT/V3/date=2025-06-26/part-00005-aaa03f69-7c44-46bc-a728-27b3ef1b058f.c000.avro",
         "part-00005-aaa03f69-7c44-46bc-a728-27b3ef1b058f.c000.avro",
         858,
         1751076165000
        ],
        [
         "s3a://lakehouse-edgy-production-us-west-2/output/CASH_CONNECTED_GRAPH_CHANGE_EVENT/V3/date=2025-06-26/part-00005-ab017b41-a51b-4324-b434-bd55f6e1b5be.c000.avro",
         "part-00005-ab017b41-a51b-4324-b434-bd55f6e1b5be.c000.avro",
         620,
         1751115923000
        ],
        [
         "s3a://lakehouse-edgy-production-us-west-2/output/CASH_CONNECTED_GRAPH_CHANGE_EVENT/V3/date=2025-06-26/part-00005-ab925d76-5be4-48b7-9c20-727e59a76170.c000.avro",
         "part-00005-ab925d76-5be4-48b7-9c20-727e59a76170.c000.avro",
         737,
         1751306710000
        ],
        [
         "s3a://lakehouse-edgy-production-us-west-2/output/CASH_CONNECTED_GRAPH_CHANGE_EVENT/V3/date=2025-06-26/part-00005-b06cf205-ed6b-4cc6-b218-4b8e6293d0c1.c000.avro",
         "part-00005-b06cf205-ed6b-4cc6-b218-4b8e6293d0c1.c000.avro",
         879,
         1751227328000
        ],
        [
         "s3a://lakehouse-edgy-production-us-west-2/output/CASH_CONNECTED_GRAPH_CHANGE_EVENT/V3/date=2025-06-26/part-00005-b0b8bb5c-dc19-48f4-91ba-8568751e43b6.c000.avro",
         "part-00005-b0b8bb5c-dc19-48f4-91ba-8568751e43b6.c000.avro",
         3623644,
         1750921333000
        ],
        [
         "s3a://lakehouse-edgy-production-us-west-2/output/CASH_CONNECTED_GRAPH_CHANGE_EVENT/V3/date=2025-06-26/part-00005-b23208c0-efc3-4bb8-92ce-8501dff7692d.c000.avro",
         "part-00005-b23208c0-efc3-4bb8-92ce-8501dff7692d.c000.avro",
         617,
         1751022116000
        ],
        [
         "s3a://lakehouse-edgy-production-us-west-2/output/CASH_CONNECTED_GRAPH_CHANGE_EVENT/V3/date=2025-06-26/part-00005-b7adc726-2933-4450-8abb-c8a569fa5244.c000.avro",
         "part-00005-b7adc726-2933-4450-8abb-c8a569fa5244.c000.avro",
         486,
         1751173391000
        ],
        [
         "s3a://lakehouse-edgy-production-us-west-2/output/CASH_CONNECTED_GRAPH_CHANGE_EVENT/V3/date=2025-06-26/part-00005-b97ea2af-cb76-428d-9c54-a7e486c971eb.c000.avro",
         "part-00005-b97ea2af-cb76-428d-9c54-a7e486c971eb.c000.avro",
         864,
         1751004123000
        ],
        [
         "s3a://lakehouse-edgy-production-us-west-2/output/CASH_CONNECTED_GRAPH_CHANGE_EVENT/V3/date=2025-06-26/part-00005-ba9c5cb9-504d-461f-b47c-ea6020918be1.c000.avro",
         "part-00005-ba9c5cb9-504d-461f-b47c-ea6020918be1.c000.avro",
         634,
         1751184134000
        ],
        [
         "s3a://lakehouse-edgy-production-us-west-2/output/CASH_CONNECTED_GRAPH_CHANGE_EVENT/V3/date=2025-06-26/part-00005-bf10873d-0250-4672-8a28-57d20945db75.c000.avro",
         "part-00005-bf10873d-0250-4672-8a28-57d20945db75.c000.avro",
         1129,
         1751324564000
        ],
        [
         "s3a://lakehouse-edgy-production-us-west-2/output/CASH_CONNECTED_GRAPH_CHANGE_EVENT/V3/date=2025-06-26/part-00005-c392b4a1-7c18-43d6-801d-d7b94faa01d7.c000.avro",
         "part-00005-c392b4a1-7c18-43d6-801d-d7b94faa01d7.c000.avro",
         859,
         1751119395000
        ],
        [
         "s3a://lakehouse-edgy-production-us-west-2/output/CASH_CONNECTED_GRAPH_CHANGE_EVENT/V3/date=2025-06-26/part-00005-c52bb637-07f3-402e-8ab6-f923de059357.c000.avro",
         "part-00005-c52bb637-07f3-402e-8ab6-f923de059357.c000.avro",
         859,
         1751230960000
        ],
        [
         "s3a://lakehouse-edgy-production-us-west-2/output/CASH_CONNECTED_GRAPH_CHANGE_EVENT/V3/date=2025-06-26/part-00005-c58d3d64-26b9-46cd-afee-6833ad3067b7.c000.avro",
         "part-00005-c58d3d64-26b9-46cd-afee-6833ad3067b7.c000.avro",
         4531406,
         1750960962000
        ],
        [
         "s3a://lakehouse-edgy-production-us-west-2/output/CASH_CONNECTED_GRAPH_CHANGE_EVENT/V3/date=2025-06-26/part-00005-c8b7d359-5a10-497e-949c-0765a8cf7207.c000.avro",
         "part-00005-c8b7d359-5a10-497e-949c-0765a8cf7207.c000.avro",
         2985456,
         1750910543000
        ],
        [
         "s3a://lakehouse-edgy-production-us-west-2/output/CASH_CONNECTED_GRAPH_CHANGE_EVENT/V3/date=2025-06-26/part-00005-cd3c1b69-5765-4985-be8b-be755c70ef42.c000.avro",
         "part-00005-cd3c1b69-5765-4985-be8b-be755c70ef42.c000.avro",
         4182311,
         1750957357000
        ],
        [
         "s3a://lakehouse-edgy-production-us-west-2/output/CASH_CONNECTED_GRAPH_CHANGE_EVENT/V3/date=2025-06-26/part-00005-cee7eec9-6f1e-40e2-9e21-e7cb85742a5f.c000.avro",
         "part-00005-cee7eec9-6f1e-40e2-9e21-e7cb85742a5f.c000.avro",
         1740,
         1751058317000
        ],
        [
         "s3a://lakehouse-edgy-production-us-west-2/output/CASH_CONNECTED_GRAPH_CHANGE_EVENT/V3/date=2025-06-26/part-00005-d16e3b3c-43a1-4529-8d57-d25e32cd155f.c000.avro",
         "part-00005-d16e3b3c-43a1-4529-8d57-d25e32cd155f.c000.avro",
         656,
         1751018523000
        ],
        [
         "s3a://lakehouse-edgy-production-us-west-2/output/CASH_CONNECTED_GRAPH_CHANGE_EVENT/V3/date=2025-06-26/part-00005-d5656ccf-cd0b-4f4b-bc10-1dc98cb8b5af.c000.avro",
         "part-00005-d5656ccf-cd0b-4f4b-bc10-1dc98cb8b5af.c000.avro",
         904,
         1751241744000
        ],
        [
         "s3a://lakehouse-edgy-production-us-west-2/output/CASH_CONNECTED_GRAPH_CHANGE_EVENT/V3/date=2025-06-26/part-00005-d5d0d908-571a-4d8b-9dba-8923a609f3a3.c000.avro",
         "part-00005-d5d0d908-571a-4d8b-9dba-8923a609f3a3.c000.avro",
         736,
         1751303134000
        ],
        [
         "s3a://lakehouse-edgy-production-us-west-2/output/CASH_CONNECTED_GRAPH_CHANGE_EVENT/V3/date=2025-06-26/part-00005-dc5e95f3-cd64-4c64-babe-d996e3cb8c2a.c000.avro",
         "part-00005-dc5e95f3-cd64-4c64-babe-d996e3cb8c2a.c000.avro",
         2965822,
         1750917765000
        ],
        [
         "s3a://lakehouse-edgy-production-us-west-2/output/CASH_CONNECTED_GRAPH_CHANGE_EVENT/V3/date=2025-06-26/part-00005-e17bc85c-9cb8-463d-aefd-f9f18141d712.c000.avro",
         "part-00005-e17bc85c-9cb8-463d-aefd-f9f18141d712.c000.avro",
         2252889,
         1750939309000
        ],
        [
         "s3a://lakehouse-edgy-production-us-west-2/output/CASH_CONNECTED_GRAPH_CHANGE_EVENT/V3/date=2025-06-26/part-00005-e25f68d6-e41f-4a42-8b03-6a2193e37df9.c000.avro",
         "part-00005-e25f68d6-e41f-4a42-8b03-6a2193e37df9.c000.avro",
         1076,
         1751133771000
        ],
        [
         "s3a://lakehouse-edgy-production-us-west-2/output/CASH_CONNECTED_GRAPH_CHANGE_EVENT/V3/date=2025-06-26/part-00005-e49316e5-ee11-4c2b-a58d-85ba62d8aa1f.c000.avro",
         "part-00005-e49316e5-ee11-4c2b-a58d-85ba62d8aa1f.c000.avro",
         486,
         1751202342000
        ],
        [
         "s3a://lakehouse-edgy-production-us-west-2/output/CASH_CONNECTED_GRAPH_CHANGE_EVENT/V3/date=2025-06-26/part-00005-e51f05a8-d76d-41cc-8d44-4535b3cd743f.c000.avro",
         "part-00005-e51f05a8-d76d-41cc-8d44-4535b3cd743f.c000.avro",
         4051363,
         1750903393000
        ],
        [
         "s3a://lakehouse-edgy-production-us-west-2/output/CASH_CONNECTED_GRAPH_CHANGE_EVENT/V3/date=2025-06-26/part-00005-e5455ac0-2be8-42bd-9d1e-1b5fb3c67a44.c000.avro",
         "part-00005-e5455ac0-2be8-42bd-9d1e-1b5fb3c67a44.c000.avro",
         629,
         1751238331000
        ],
        [
         "s3a://lakehouse-edgy-production-us-west-2/output/CASH_CONNECTED_GRAPH_CHANGE_EVENT/V3/date=2025-06-26/part-00005-e54bfeb3-9e97-4b09-8b87-5be841b23414.c000.avro",
         "part-00005-e54bfeb3-9e97-4b09-8b87-5be841b23414.c000.avro",
         884,
         1751148142000
        ],
        [
         "s3a://lakehouse-edgy-production-us-west-2/output/CASH_CONNECTED_GRAPH_CHANGE_EVENT/V3/date=2025-06-26/part-00005-e5b1fb61-1b0b-43b0-8970-875ac95f6897.c000.avro",
         "part-00005-e5b1fb61-1b0b-43b0-8970-875ac95f6897.c000.avro",
         1116,
         1751130369000
        ],
        [
         "s3a://lakehouse-edgy-production-us-west-2/output/CASH_CONNECTED_GRAPH_CHANGE_EVENT/V3/date=2025-06-26/part-00005-e7e8e09e-7eb4-4b67-aad2-cb5c5c7fbe97.c000.avro",
         "part-00005-e7e8e09e-7eb4-4b67-aad2-cb5c5c7fbe97.c000.avro",
         1706,
         1751033196000
        ],
        [
         "s3a://lakehouse-edgy-production-us-west-2/output/CASH_CONNECTED_GRAPH_CHANGE_EVENT/V3/date=2025-06-26/part-00005-ef7a0c0f-57bb-4a77-97f2-05d87965b998.c000.avro",
         "part-00005-ef7a0c0f-57bb-4a77-97f2-05d87965b998.c000.avro",
         1454,
         1751054555000
        ],
        [
         "s3a://lakehouse-edgy-production-us-west-2/output/CASH_CONNECTED_GRAPH_CHANGE_EVENT/V3/date=2025-06-26/part-00005-f0bf6a9f-29f7-4aba-a884-c0373d0b38b3.c000.avro",
         "part-00005-f0bf6a9f-29f7-4aba-a884-c0373d0b38b3.c000.avro",
         4124962,
         1750899935000
        ],
        [
         "s3a://lakehouse-edgy-production-us-west-2/output/CASH_CONNECTED_GRAPH_CHANGE_EVENT/V3/date=2025-06-26/part-00005-f35be552-53cd-438d-b289-93e0d3e86478.c000.avro",
         "part-00005-f35be552-53cd-438d-b289-93e0d3e86478.c000.avro",
         1704,
         1751068944000
        ],
        [
         "s3a://lakehouse-edgy-production-us-west-2/output/CASH_CONNECTED_GRAPH_CHANGE_EVENT/V3/date=2025-06-26/part-00005-fad22e1e-09e2-4b92-bfc7-19de8863a471.c000.avro",
         "part-00005-fad22e1e-09e2-4b92-bfc7-19de8863a471.c000.avro",
         2115188,
         1750935717000
        ],
        [
         "s3a://lakehouse-edgy-production-us-west-2/output/CASH_CONNECTED_GRAPH_CHANGE_EVENT/V3/date=2025-06-26/part-00005-fb67e060-a0ee-4b63-b87d-caa2d46ad836.c000.avro",
         "part-00005-fb67e060-a0ee-4b63-b87d-caa2d46ad836.c000.avro",
         617,
         1751162537000
        ],
        [
         "s3a://lakehouse-edgy-production-us-west-2/output/CASH_CONNECTED_GRAPH_CHANGE_EVENT/V3/date=2025-06-26/part-00005-fbb8b8ec-71af-4b3e-a702-b33a1d7d1c62.c000.avro",
         "part-00005-fbb8b8ec-71af-4b3e-a702-b33a1d7d1c62.c000.avro",
         865,
         1751248931000
        ],
        [
         "s3a://lakehouse-edgy-production-us-west-2/output/CASH_CONNECTED_GRAPH_CHANGE_EVENT/V3/date=2025-06-26/part-00005-fc546576-029c-4099-8db7-8116d06e20ac.c000.avro",
         "part-00005-fc546576-029c-4099-8db7-8116d06e20ac.c000.avro",
         618,
         1751101311000
        ]
       ],
       "datasetInfos": [],
       "dbfsResultPath": null,
       "isJsonSchema": true,
       "metadata": {},
       "overflow": false,
       "plotOptions": {
        "customPlotOptions": {},
        "displayType": "table",
        "pivotAggregation": null,
        "pivotColumns": null,
        "xColumns": null,
        "yColumns": null
       },
       "removedWidgets": [],
       "schema": [
        {
         "metadata": "{}",
         "name": "path",
         "type": "\"string\""
        },
        {
         "metadata": "{}",
         "name": "name",
         "type": "\"string\""
        },
        {
         "metadata": "{}",
         "name": "size",
         "type": "\"long\""
        },
        {
         "metadata": "{}",
         "name": "modificationTime",
         "type": "\"long\""
        }
       ],
       "type": "table"
      }
     },
     "output_type": "display_data"
    }
   ],
   "source": [
    "#files = dbutils.fs.ls(\"s3a://lakehouse-edgy-production-us-west-2/output_20250509/CASH_CONNECTED_GRAPH_CHANGE_EVENT/V3\")\n",
    "files = dbutils.fs.ls(S3_PATH)\n",
    "display(files)"
   ]
  },
  {
   "cell_type": "code",
   "execution_count": 0,
   "metadata": {
    "application/vnd.databricks.v1+cell": {
     "cellMetadata": {
      "byteLimit": 2048000,
      "rowLimit": 10000
     },
     "inputWidgets": {},
     "nuid": "e044de97-ec15-4c34-be4a-1f20d2911c48",
     "showTitle": false,
     "tableResultSettingsMap": {},
     "title": ""
    }
   },
   "outputs": [
    {
     "output_type": "stream",
     "name": "stdout",
     "output_type": "stream",
     "text": [
      "Out[11]: event_id: \"E/AH_7py1kneng/AH_v6y0a22jh/EMAIL\"\nmessage_type: CASH_CONNECTED_GRAPH_CHANGE_EVENT\nevent_time_millis: 1750968061985\ncash_connected_graph_change_event {\n  event_id: \"E/AH_7py1kneng/AH_v6y0a22jh/EMAIL\"\n  event_type: CONNECTION_ADDED\n  target_user_token: \"AH_v6y0a22jh\"\n  source_user_token: \"AH_7py1kneng\"\n  effective_at_millis: 1750968061985\n  user_type: CASH_ACCOUNT_HOLDER\n  connection_change {\n    changed_node_type: EMAIL\n    source_edge {\n      from_node {\n        type: CASH_CUSTOMER\n        token: \"C_gnenk1yp7\"\n      }\n      to_node {\n        type: EMAIL\n        token: \"1ca7755baf8c1579816ca07aacd11794f90a736a\"\n      }\n      effective_at_msec: 1750968061985\n      created_at: 1750968062549\n      updated_at: 1750968062549\n    }\n  }\n  event_source_type: BAU\n  published_at_millis: 1750968065201\n}"
     ]
    }
   ],
   "source": [
    "# Test that data loads correctly\n",
    "df_s3_egress = spark.read.format(\"avro\").load(S3_PATH)\n",
    "raw_proto = df_s3_egress.first()[0]\n",
    "ri_s3 = deserialize_ri(raw_proto)\n",
    "ri_s3"
   ]
  },
  {
   "cell_type": "code",
   "execution_count": 0,
   "metadata": {
    "application/vnd.databricks.v1+cell": {
     "cellMetadata": {
      "byteLimit": 2048000,
      "rowLimit": 10000
     },
     "inputWidgets": {},
     "nuid": "fa472dcf-5ce7-4b06-904b-bd48a2e52e50",
     "showTitle": false,
     "tableResultSettingsMap": {},
     "title": ""
    }
   },
   "outputs": [],
   "source": [
    "from pyspark.sql.types import StructType, StructField, StringType, LongType, ArrayType, BooleanType # Added BooleanType\n",
    "from pyspark.sql import Row\n",
    "from sq_protos_py.squareup.edgy.events_pb2 import CashConnectedGraphChangeEvent as CashConnectedGraphChangeEvent_pb2\n",
    "from sq_protos_py.squareup.duplograph.data_pb2 import NodeType as NodeType_pb2\n",
    "from sq_protos_py.squareup.duplograph.labels_pb2 import LabelType as LabelType_pb2\n",
    "from sq_protos_py.squareup.duplograph.labels_pb2 import LabelStorageMethod as LabelStorageMethod_pb2\n",
    "\n",
    "# Define the schema for NodeId (used in Edge and LabelEvent)\n",
    "node_id_schema = StructType([\n",
    "    StructField(\"type\", StringType(), True),  # Enum as StringType (NodeType)\n",
    "    StructField(\"token\", StringType(), True)\n",
    "])\n",
    "\n",
    "# Define the schema for SourceEdge\n",
    "source_edge_schema = StructType([\n",
    "    StructField(\"from_node\", node_id_schema, True),\n",
    "    StructField(\"to_node\", node_id_schema, True),\n",
    "    StructField(\"effective_at_msec\", LongType(), True),\n",
    "    StructField(\"created_at\", LongType(), True),\n",
    "    StructField(\"updated_at\", LongType(), True)\n",
    "])\n",
    "\n",
    "# Define the schema for SourceLabelEvent\n",
    "source_label_event_schema = StructType([\n",
    "    StructField(\"node\", node_id_schema, True),\n",
    "    StructField(\"label\", StringType(), True),  # Enum as StringType (LabelType)\n",
    "    StructField(\"effective_at_msec\", LongType(), True),\n",
    "    StructField(\"present\", BooleanType(), True),\n",
    "    StructField(\"created_at\", LongType(), True),\n",
    "    StructField(\"updated_at\", LongType(), True),\n",
    "    StructField(\"storage_method\", StringType(), True)  # Enum as StringType (LabelStorageMethod)\n",
    "])\n",
    "\n",
    "# Define the schema for CashConnectedGraphChangeEvent\n",
    "cash_connected_graph_change_event_schema = StructType([\n",
    "    StructField(\"event_id\", StringType(), True),\n",
    "    StructField(\"event_type\", StringType(), True),  # Enum as StringType\n",
    "    StructField(\"target_user_token\", StringType(), True),\n",
    "    StructField(\"source_user_token\", StringType(), True),\n",
    "    StructField(\"effective_at_millis\", LongType(), True),\n",
    "    StructField(\"published_at_millis\", LongType(), True),\n",
    "    StructField(\"user_type\", StringType(), True),  # Enum as StringType\n",
    "    StructField(\"event_source_type\", StringType(), True),  # Enum as StringType\n",
    "    StructField(\"connection_change\", StructType([\n",
    "        StructField(\"changed_node_type\", StringType(), True),\n",
    "        StructField(\"source_user_labels\", ArrayType(StringType()), True),\n",
    "        StructField(\"target_user_labels\", ArrayType(StringType()), True),\n",
    "        StructField(\"source_edge\", source_edge_schema, True)\n",
    "    ]), True),\n",
    "    StructField(\"label_change\", StructType([\n",
    "        StructField(\"connection_node_types\", ArrayType(StringType()), True),\n",
    "        StructField(\"changed_source_user_label\", StringType(), True),\n",
    "        StructField(\"source_label_event\", source_label_event_schema, True)\n",
    "    ]), True)\n",
    "])\n",
    "\n",
    "# Define the schema for RiskInput (updates based on nested cash_connected_graph_change_event_schema)\n",
    "risk_input_schema = StructType([\n",
    "    StructField(\"event_id\", StringType(), True),\n",
    "    StructField(\"event_time_millis\", LongType(), True),\n",
    "    StructField(\"cash_connected_graph_change_event\", cash_connected_graph_change_event_schema, True)\n",
    "])\n",
    "\n",
    "# Helper function to map enum integers to strings (remains the same)\n",
    "def get_enum_name(enum_class, value):\n",
    "    return enum_class.Name(value)\n",
    "\n",
    "# Broadcast the enum mappings\n",
    "event_type_mapping = {v: k for k, v in CashConnectedGraphChangeEvent_pb2.EventType.items()}\n",
    "user_type_mapping = {v: k for k, v in CashConnectedGraphChangeEvent_pb2.UserType.items()}\n",
    "changed_node_type_mapping = {v: k for k, v in NodeType_pb2.items()} # Covers NodeType in NodeId\n",
    "label_type_mapping = {v: k for k, v in LabelType_pb2.items()} # Covers LabelType in LabelEvent\n",
    "event_source_type_mapping = {v: k for k, v in CashConnectedGraphChangeEvent_pb2.EventSourceType.items()}\n",
    "label_storage_method_mapping = {v: k for k, v in LabelStorageMethod_pb2.items()}\n",
    "\n",
    "broadcast_event_type_mapping = spark.sparkContext.broadcast(event_type_mapping)\n",
    "broadcast_user_type_mapping = spark.sparkContext.broadcast(user_type_mapping)\n",
    "broadcast_changed_node_type_mapping = spark.sparkContext.broadcast(changed_node_type_mapping)\n",
    "broadcast_label_type_mapping = spark.sparkContext.broadcast(label_type_mapping)\n",
    "broadcast_event_source_type_mapping = spark.sparkContext.broadcast(event_source_type_mapping)\n",
    "broadcast_label_storage_method_mapping = spark.sparkContext.broadcast(label_storage_method_mapping)\n",
    "\n",
    "# Function to convert a deserialized RiskInput to a Row object\n",
    "def risk_input_to_row(ri_bytes):\n",
    "    ri = deserialize_ri(ri_bytes)  # Assuming deserialize_ri is defined elsewhere and returns the protobuf object\n",
    "    event = ri.cash_connected_graph_change_event\n",
    "\n",
    "    connection_change_row = None\n",
    "    if event.HasField(\"connection_change\"):\n",
    "        cc = event.connection_change\n",
    "        source_edge_row = None\n",
    "        if cc.HasField(\"source_edge\"):\n",
    "            se = cc.source_edge\n",
    "            from_node_row = Row(\n",
    "                type=broadcast_changed_node_type_mapping.value.get(se.from_node.type, \"UNKNOWN\"),\n",
    "                token=se.from_node.token\n",
    "            ) if se.HasField(\"from_node\") else None\n",
    "            to_node_row = Row(\n",
    "                type=broadcast_changed_node_type_mapping.value.get(se.to_node.type, \"UNKNOWN\"),\n",
    "                token=se.to_node.token\n",
    "            ) if se.HasField(\"to_node\") else None\n",
    "            source_edge_row = Row(\n",
    "                from_node=from_node_row,\n",
    "                to_node=to_node_row,\n",
    "                effective_at_msec=se.effective_at_msec,\n",
    "                created_at=se.created_at,\n",
    "                updated_at=se.updated_at\n",
    "            )\n",
    "        connection_change_row = Row(\n",
    "            changed_node_type=broadcast_changed_node_type_mapping.value.get(cc.changed_node_type, \"UNKNOWN\"),\n",
    "            source_user_labels=[broadcast_label_type_mapping.value.get(label, \"UNKNOWN\") for label in cc.source_user_labels],\n",
    "            target_user_labels=[broadcast_label_type_mapping.value.get(label, \"UNKNOWN\") for label in cc.target_user_labels],\n",
    "            source_edge=source_edge_row\n",
    "        )\n",
    "\n",
    "    label_change_row = None\n",
    "    if event.HasField(\"label_change\"):\n",
    "        lc = event.label_change\n",
    "        source_label_event_row = None\n",
    "        if lc.HasField(\"source_label_event\"):\n",
    "            sle = lc.source_label_event\n",
    "            node_row = Row(\n",
    "                type=broadcast_changed_node_type_mapping.value.get(sle.node.type, \"UNKNOWN\"),\n",
    "                token=sle.node.token\n",
    "            ) if sle.HasField(\"node\") else None\n",
    "            source_label_event_row = Row(\n",
    "                node=node_row,\n",
    "                label=broadcast_label_type_mapping.value.get(sle.label, \"UNKNOWN\"),\n",
    "                effective_at_msec=sle.effective_at_msec,\n",
    "                present=sle.present,\n",
    "                created_at=sle.created_at,\n",
    "                updated_at=sle.updated_at,\n",
    "                storage_method=broadcast_label_storage_method_mapping.value.get(sle.storage_method, \"UNKNOWN\")\n",
    "            )\n",
    "        label_change_row = Row(\n",
    "            connection_node_types=[broadcast_changed_node_type_mapping.value.get(node, \"UNKNOWN\") for node in lc.connection_node_types],\n",
    "            changed_source_user_label=broadcast_label_type_mapping.value.get(lc.changed_source_user_label, \"UNKNOWN\"),\n",
    "            source_label_event=source_label_event_row\n",
    "        )\n",
    "\n",
    "    return Row(\n",
    "        event_id=ri.event_id,\n",
    "        event_time_millis=ri.event_time_millis,\n",
    "        cash_connected_graph_change_event=Row(\n",
    "            event_id=event.event_id,\n",
    "            event_type=broadcast_event_type_mapping.value.get(event.event_type, \"UNKNOWN\"),\n",
    "            target_user_token=event.target_user_token,\n",
    "            source_user_token=event.source_user_token,\n",
    "            effective_at_millis=event.effective_at_millis,\n",
    "            published_at_millis=event.published_at_millis,\n",
    "            user_type=broadcast_user_type_mapping.value.get(event.user_type, \"UNKNOWN\"),\n",
    "            event_source_type=broadcast_event_source_type_mapping.value.get(event.event_source_type, \"UNKNOWN\"),\n",
    "            connection_change=connection_change_row,\n",
    "            label_change=label_change_row\n",
    "        )\n",
    "    )"
   ]
  },
  {
   "cell_type": "code",
   "execution_count": 0,
   "metadata": {
    "application/vnd.databricks.v1+cell": {
     "cellMetadata": {
      "byteLimit": 2048000,
      "rowLimit": 10000
     },
     "inputWidgets": {},
     "nuid": "5c3a82f0-6e6d-44b9-8e09-9d31ac5a0207",
     "showTitle": false,
     "tableResultSettingsMap": {},
     "title": ""
    }
   },
   "outputs": [],
   "source": [
    "# Read Avro files into a DataFrame\n",
    "df_s3_egress = spark.read.format(\"avro\").load(S3_PATH)\n",
    "\n",
    "# Deserialize and transform the data using RDD transformations\n",
    "rdd = df_s3_egress.rdd.map(lambda row: risk_input_to_row(row[0]))\n",
    "\n",
    "# Convert the RDD to a DataFrame\n",
    "df_risk_input = spark.createDataFrame(rdd, schema=risk_input_schema)"
   ]
  },
  {
   "cell_type": "code",
   "execution_count": 0,
   "metadata": {
    "application/vnd.databricks.v1+cell": {
     "cellMetadata": {
      "byteLimit": 2048000,
      "rowLimit": 10000
     },
     "inputWidgets": {},
     "nuid": "a82ebe44-0c2b-4915-a4a9-04f07a02b426",
     "showTitle": false,
     "tableResultSettingsMap": {},
     "title": ""
    }
   },
   "outputs": [],
   "source": [
    "# Create the schema in the catalog if it doesn't exist\n",
    "#spark.sql(f\"CREATE SCHEMA IF NOT EXISTS {OUTPUT_TABLE}\")\n",
    "\n",
    "# Write DataFrame to a table in the specified catalog and schema\n",
    "df_risk_input.write.format(\"delta\").mode(\"overwrite\").option(\"mergeSchema\", \"true\").saveAsTable(OUTPUT_TABLE)\n"
   ]
  },
  {
   "cell_type": "code",
   "execution_count": 0,
   "metadata": {
    "application/vnd.databricks.v1+cell": {
     "cellMetadata": {
      "byteLimit": 2048000,
      "rowLimit": 10000
     },
     "inputWidgets": {},
     "nuid": "54d5e622-ce32-41fe-9550-1bbaf7c401b3",
     "showTitle": false,
     "tableResultSettingsMap": {},
     "title": ""
    }
   },
   "outputs": [
    {
     "output_type": "display_data",
     "data": {
      "text/html": [
       "<style scoped>\n",
       "  .table-result-container {\n",
       "    max-height: 300px;\n",
       "    overflow: auto;\n",
       "  }\n",
       "  table, th, td {\n",
       "    border: 1px solid black;\n",
       "    border-collapse: collapse;\n",
       "  }\n",
       "  th, td {\n",
       "    padding: 5px;\n",
       "  }\n",
       "  th {\n",
       "    text-align: left;\n",
       "  }\n",
       "</style><div class='table-result-container'><table class='table-result'><thead style='background-color: white'><tr><th>count(1)</th></tr></thead><tbody><tr><td>11749550</td></tr></tbody></table></div>"
      ]
     },
     "metadata": {
      "application/vnd.databricks.v1+output": {
       "addedWidgets": {},
       "aggData": [],
       "aggError": "",
       "aggOverflow": false,
       "aggSchema": [],
       "aggSeriesLimitReached": false,
       "aggType": "",
       "arguments": {},
       "columnCustomDisplayInfos": {},
       "data": [
        [
         11749550
        ]
       ],
       "datasetInfos": [],
       "dbfsResultPath": null,
       "isJsonSchema": true,
       "metadata": {},
       "overflow": false,
       "plotOptions": {
        "customPlotOptions": {},
        "displayType": "table",
        "pivotAggregation": null,
        "pivotColumns": null,
        "xColumns": null,
        "yColumns": null
       },
       "removedWidgets": [],
       "schema": [
        {
         "metadata": "{\"__autoGeneratedAlias\":\"true\"}",
         "name": "count(1)",
         "type": "\"long\""
        }
       ],
       "type": "table"
      }
     },
     "output_type": "display_data"
    }
   ],
   "source": [
    "query = f\"\"\"\n",
    "select count(*) from {OUTPUT_TABLE};\n",
    "\"\"\"\n",
    "display(spark.sql(query))"
   ]
  },
  {
   "cell_type": "code",
   "execution_count": 0,
   "metadata": {
    "application/vnd.databricks.v1+cell": {
     "cellMetadata": {
      "byteLimit": 2048000,
      "implicitDf": true,
      "rowLimit": 10000
     },
     "inputWidgets": {},
     "nuid": "282f9017-e069-49cd-be42-40b30e5678c7",
     "showTitle": false,
     "tableResultSettingsMap": {},
     "title": ""
    }
   },
   "outputs": [
    {
     "output_type": "display_data",
     "data": {
      "text/html": [
       "<style scoped>\n",
       "  .table-result-container {\n",
       "    max-height: 300px;\n",
       "    overflow: auto;\n",
       "  }\n",
       "  table, th, td {\n",
       "    border: 1px solid black;\n",
       "    border-collapse: collapse;\n",
       "  }\n",
       "  th, td {\n",
       "    padding: 5px;\n",
       "  }\n",
       "  th {\n",
       "    text-align: left;\n",
       "  }\n",
       "</style><div class='table-result-container'><table class='table-result'><thead style='background-color: white'><tr><th>event_source_type</th><th>is_label_change</th><th>count</th><th>min_effective_at</th><th>max_effective_at</th><th>min_published_at</th><th>max_published_at</th></tr></thead><tbody><tr><td>BAU</td><td>false</td><td>5006462</td><td>2025-06-26 00:00:00</td><td>2025-06-26 23:59:59</td><td>2025-06-26 00:00:02</td><td>2025-07-01 01:00:35</td></tr><tr><td>BAU</td><td>true</td><td>6743088</td><td>2025-06-26 00:00:00</td><td>2025-06-26 23:59:57</td><td>2025-06-26 00:00:02</td><td>2025-06-27 00:00:04</td></tr></tbody></table></div>"
      ]
     },
     "metadata": {
      "application/vnd.databricks.v1+output": {
       "addedWidgets": {},
       "aggData": [],
       "aggError": "",
       "aggOverflow": false,
       "aggSchema": [],
       "aggSeriesLimitReached": false,
       "aggType": "",
       "arguments": {},
       "columnCustomDisplayInfos": {},
       "data": [
        [
         "BAU",
         false,
         5006462,
         "2025-06-26 00:00:00",
         "2025-06-26 23:59:59",
         "2025-06-26 00:00:02",
         "2025-07-01 01:00:35"
        ],
        [
         "BAU",
         true,
         6743088,
         "2025-06-26 00:00:00",
         "2025-06-26 23:59:57",
         "2025-06-26 00:00:02",
         "2025-06-27 00:00:04"
        ]
       ],
       "datasetInfos": [],
       "dbfsResultPath": null,
       "isJsonSchema": true,
       "metadata": {},
       "overflow": false,
       "plotOptions": {
        "customPlotOptions": {},
        "displayType": "table",
        "pivotAggregation": null,
        "pivotColumns": null,
        "xColumns": null,
        "yColumns": null
       },
       "removedWidgets": [],
       "schema": [
        {
         "metadata": "{}",
         "name": "event_source_type",
         "type": "\"string\""
        },
        {
         "metadata": "{}",
         "name": "is_label_change",
         "type": "\"boolean\""
        },
        {
         "metadata": "{}",
         "name": "count",
         "type": "\"long\""
        },
        {
         "metadata": "{}",
         "name": "min_effective_at",
         "type": "\"string\""
        },
        {
         "metadata": "{}",
         "name": "max_effective_at",
         "type": "\"string\""
        },
        {
         "metadata": "{}",
         "name": "min_published_at",
         "type": "\"string\""
        },
        {
         "metadata": "{}",
         "name": "max_published_at",
         "type": "\"string\""
        }
       ],
       "type": "table"
      }
     },
     "output_type": "display_data"
    }
   ],
   "source": [
    "query = f\"\"\"\n",
    "select \n",
    "    cash_connected_graph_change_event.event_source_type as event_source_type, \n",
    "    cash_connected_graph_change_event.label_change is not null as is_label_change,\n",
    "    count(*) as count,\n",
    "    min(from_unixtime(cash_connected_graph_change_event.effective_at_millis / 1000)) as min_effective_at, \n",
    "    max(from_unixtime(cash_connected_graph_change_event.effective_at_millis / 1000)) as max_effective_at, \n",
    "    min(from_unixtime(cash_connected_graph_change_event.published_at_millis / 1000)) as min_published_at, \n",
    "    max(from_unixtime(cash_connected_graph_change_event.published_at_millis / 1000)) as max_published_at\n",
    "from {OUTPUT_TABLE}\n",
    "group by event_source_type, is_label_change;\n",
    "\"\"\"\n",
    "display(spark.sql(query))"
   ]
  },
  {
   "cell_type": "code",
   "execution_count": 0,
   "metadata": {
    "application/vnd.databricks.v1+cell": {
     "cellMetadata": {
      "byteLimit": 2048000,
      "rowLimit": 10000
     },
     "inputWidgets": {},
     "nuid": "b3670da5-306c-47a4-aea2-660c0ce91d87",
     "showTitle": false,
     "tableResultSettingsMap": {},
     "title": ""
    }
   },
   "outputs": [
    {
     "output_type": "display_data",
     "data": {
      "text/html": [
       "<style scoped>\n",
       "  .table-result-container {\n",
       "    max-height: 300px;\n",
       "    overflow: auto;\n",
       "  }\n",
       "  table, th, td {\n",
       "    border: 1px solid black;\n",
       "    border-collapse: collapse;\n",
       "  }\n",
       "  th, td {\n",
       "    padding: 5px;\n",
       "  }\n",
       "  th {\n",
       "    text-align: left;\n",
       "  }\n",
       "</style><div class='table-result-container'><table class='table-result'><thead style='background-color: white'><tr><th>event_source_type</th><th>is_label_change</th><th>num_unique_ids</th><th>num_events</th><th>duplicate_ratio</th></tr></thead><tbody><tr><td>BAU</td><td>true</td><td>4152611</td><td>6743088</td><td>0.38</td></tr><tr><td>BAU</td><td>false</td><td>4823770</td><td>5006462</td><td>0.04</td></tr></tbody></table></div>"
      ]
     },
     "metadata": {
      "application/vnd.databricks.v1+output": {
       "addedWidgets": {},
       "aggData": [],
       "aggError": "",
       "aggOverflow": false,
       "aggSchema": [],
       "aggSeriesLimitReached": false,
       "aggType": "",
       "arguments": {},
       "columnCustomDisplayInfos": {},
       "data": [
        [
         "BAU",
         true,
         4152611,
         6743088,
         "0.38"
        ],
        [
         "BAU",
         false,
         4823770,
         5006462,
         "0.04"
        ]
       ],
       "datasetInfos": [],
       "dbfsResultPath": null,
       "isJsonSchema": true,
       "metadata": {},
       "overflow": false,
       "plotOptions": {
        "customPlotOptions": {},
        "displayType": "table",
        "pivotAggregation": null,
        "pivotColumns": null,
        "xColumns": null,
        "yColumns": null
       },
       "removedWidgets": [],
       "schema": [
        {
         "metadata": "{}",
         "name": "event_source_type",
         "type": "\"string\""
        },
        {
         "metadata": "{}",
         "name": "is_label_change",
         "type": "\"boolean\""
        },
        {
         "metadata": "{}",
         "name": "num_unique_ids",
         "type": "\"long\""
        },
        {
         "metadata": "{}",
         "name": "num_events",
         "type": "\"long\""
        },
        {
         "metadata": "{}",
         "name": "duplicate_ratio",
         "type": "\"decimal(25,2)\""
        }
       ],
       "type": "table"
      }
     },
     "output_type": "display_data"
    }
   ],
   "source": [
    "# show duplication\n",
    "query = f\"\"\"\n",
    "select \n",
    "    cash_connected_graph_change_event.event_source_type as event_source_type, \n",
    "    cash_connected_graph_change_event.label_change is not null as is_label_change,\n",
    "    count(distinct(event_id)) as num_unique_ids, \n",
    "    count(*) as num_events,\n",
    "    round((count(*) - count(distinct(event_id))) * 1.0 / count(*), 2) as duplicate_ratio\n",
    "from {OUTPUT_TABLE}\n",
    "group by event_source_type, is_label_change;\n",
    "\"\"\"\n",
    "display(spark.sql(query))"
   ]
  }
 ],
 "metadata": {
  "application/vnd.databricks.v1+notebook": {
   "computePreferences": {
    "hardware": {
     "accelerator": null,
     "gpuPoolId": null,
     "memory": null
    }
   },
   "dashboards": [],
   "environmentMetadata": {
    "base_environment": "",
    "environment_version": "2"
   },
   "inputWidgetPreferences": null,
   "language": "python",
   "notebookMetadata": {
    "mostRecentlyExecutedCommandWithImplicitDF": {
     "commandId": 6031232220258472,
     "dataframes": [
      "_sqldf"
     ]
    },
    "pythonIndentUnit": 4
   },
   "notebookName": "edgy_s3_output_to_databricks_table",
   "widgets": {}
  },
  "language_info": {
   "name": "python"
  }
 },
 "nbformat": 4,
 "nbformat_minor": 0
}